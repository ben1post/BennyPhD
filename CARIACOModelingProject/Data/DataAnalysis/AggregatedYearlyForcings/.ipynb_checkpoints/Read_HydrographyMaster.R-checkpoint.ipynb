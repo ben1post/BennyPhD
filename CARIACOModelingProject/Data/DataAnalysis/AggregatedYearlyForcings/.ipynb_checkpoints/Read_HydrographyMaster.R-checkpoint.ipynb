{
 "cells": [
  {
   "cell_type": "markdown",
   "metadata": {},
   "source": [
    "# Read Hydrography Master file\n",
    "\n",
    "this R notebook reads the Hydrography Master (June 2018) that is provided on  \n",
    "  \n",
    "http://imars.marine.usf.edu/cariaco"
   ]
  },
  {
   "cell_type": "code",
   "execution_count": 1,
   "metadata": {},
   "outputs": [
    {
     "name": "stderr",
     "output_type": "stream",
     "text": [
      "Loading required package: chron\n"
     ]
    }
   ],
   "source": [
    "#install.packages(\"chron\")\n",
    "require(chron)"
   ]
  },
  {
   "cell_type": "code",
   "execution_count": 3,
   "metadata": {
    "code_folding": []
   },
   "outputs": [
    {
     "name": "stdout",
     "output_type": "stream",
     "text": [
      "'data.frame':\t5821 obs. of  48 variables:\n",
      " $ X                    : int  1 2 3 4 5 6 7 8 9 10 ...\n",
      " $ Cruise               : Factor w/ 232 levels \"\",\"001\",\"002\",..: 2 2 2 2 2 2 2 2 2 2 ...\n",
      " $ Leg                  : Factor w/ 7 levels \"\",\"01\",\"1\",\"2\",..: 4 4 4 4 4 4 4 4 4 4 ...\n",
      " $ Day                  : Factor w/ 25 levels \"\",\"01\",\"02\",\"03\",..: 9 9 9 9 9 9 9 9 9 9 ...\n",
      " $ Month                : Factor w/ 16 levels \"\",\"01\",\"02\",\"03\",..: 13 13 13 13 13 13 13 13 13 13 ...\n",
      " $ Year                 : Factor w/ 25 levels \"\",\"1995\",\"1996\",..: 2 2 2 2 2 2 2 2 2 2 ...\n",
      " $ Date                 : Factor w/ 232 levels \"\",\"1995/11/08\",..: 2 2 2 2 2 2 2 2 2 2 ...\n",
      " $ Depth_target         : Factor w/ 94 levels \"\",\"-9999\",\"1\",..: 3 88 23 44 80 87 90 4 24 29 ...\n",
      " $ Depth_real           : Factor w/ 1319 levels \"\",\"-9999\",\"0.3\",..: 14 1123 251 506 799 1091 1151 1285 262 363 ...\n",
      " $ O2_.ml.L.            : Factor w/ 547 levels \"\",\"-9999\",\"0\",..: 490 443 440 439 429 398 392 369 187 54 ...\n",
      " $ O2_..mol.kg.         : Factor w/ 2677 levels \"\",\"-9999\",\"?mol/kg\",..: 2022 1458 1427 1417 1321 1184 1156 1055 2532 1402 ...\n",
      " $ NO3_UDO              : Factor w/ 425 levels \"\",\"-9999\",\"?M\",..: 19 18 17 18 77 58 95 261 159 154 ...\n",
      " $ PO4_UDO              : Factor w/ 330 levels \"\",\"-9999\",\"?M\",..: 4 4 4 4 5 10 12 23 89 117 ...\n",
      " $ Si.OH.4_UDO          : Factor w/ 661 levels \"\",\"-9999\",\"?M\",..: 148 166 136 2 70 59 136 148 78 185 ...\n",
      " $ NH4_USF              : Factor w/ 1284 levels \"\",\"-9999\",\"?M\",..: 2 2 2 2 2 2 2 2 2 2 ...\n",
      " $ NO2_USF              : Factor w/ 184 levels \"\",\"-9999\",\"?M\",..: 2 2 2 2 2 2 2 2 2 2 ...\n",
      " $ NO3.NO2_USF          : Factor w/ 1270 levels \"\",\"-9999\",\"?M\",..: 2 2 2 2 2 2 2 2 2 2 ...\n",
      " $ PO4_USF              : Factor w/ 765 levels \"\",\"-9999\",\"?M\",..: 2 2 2 2 2 2 2 2 2 2 ...\n",
      " $ Si.OH.4_USF          : Factor w/ 2712 levels \"\",\"-9999\",\"?M\",..: 2 2 2 2 2 2 2 2 2 2 ...\n",
      " $ pH                   : Factor w/ 574 levels \"\",\"-9999\",\"7.137\",..: 2 2 2 2 2 2 2 2 2 2 ...\n",
      " $ Alkalinity_.mol.kg.  : Factor w/ 274 levels \"\",\"-9999\",\"0.001142\",..: 2 101 106 104 113 2 86 93 48 56 ...\n",
      " $ Alkalinity_..mol.kg. : Factor w/ 244 levels \"\",\"-9999\",\"?mol/kg\",..: 2 97 99 98 104 2 86 91 51 58 ...\n",
      " $ TCO2                 : Factor w/ 461 levels \"\",\"-9999\",\"?mol/kg\",..: 2 2 2 2 2 2 2 2 2 2 ...\n",
      " $ fCO2                 : Factor w/ 755 levels \"\",\"-9999\",\"?atm\",..: 2 2 2 2 2 2 2 2 2 2 ...\n",
      " $ pH_corrected         : Factor w/ 572 levels \"\",\"-9999\",\"7.151\",..: 2 2 2 2 2 2 2 2 2 2 ...\n",
      " $ TCO2_corrected       : Factor w/ 484 levels \"\",\"-9999\",\"?mol/kg\",..: 2 2 2 2 2 2 2 2 2 2 ...\n",
      " $ fCO2_corrected       : Factor w/ 787 levels \"\",\"-9999\",\"?atm\",..: 2 2 2 2 2 2 2 2 2 2 ...\n",
      " $ Salinity_bottles     : Factor w/ 908 levels \"\",\"-9999\",\"35.842\",..: 437 439 451 472 609 706 727 792 442 306 ...\n",
      " $ Salinity_CTD         : Factor w/ 826 levels \"\",\"-9999\",\"35.835\",..: 2 2 2 2 2 2 2 2 2 2 ...\n",
      " $ Temperature          : Factor w/ 2963 levels \"\",\"-9999\",\"17.044\",..: 2810 2813 2810 2666 2488 2378 2316 2192 1146 885 ...\n",
      " $ Sigma.t              : Factor w/ 2315 levels \"\",\"-9999\",\"18.857\",..: 139 139 154 267 416 544 604 624 1622 1814 ...\n",
      " $ TPP                  : Factor w/ 1250 levels \"\",\"-9999\",\"0.00\",..: 2 2 2 2 2 2 2 2 2 2 ...\n",
      " $ PIP                  : Factor w/ 909 levels \"\",\"-9999\",\"0.00\",..: 2 2 2 2 2 2 2 2 2 2 ...\n",
      " $ POC_..g.kg.          : Factor w/ 3368 levels \"\",\"-1\",\"-9999\",..: 3 3 3 3 3 3 3 3 3 3 ...\n",
      " $ PN_..g.kg.           : Factor w/ 1761 levels \"\",\"-1\",\"-2\",\"-6\",..: 5 5 5 5 5 5 5 5 5 5 ...\n",
      " $ POC_..g.L.           : Factor w/ 1183 levels \"\",\"-14\",\"-154\",..: 10 10 10 10 10 10 10 10 10 10 ...\n",
      " $ PN_..g.L.            : Factor w/ 3342 levels \"\",\"-1\",\"-9999\",..: 3 3 3 3 3 3 3 3 3 3 ...\n",
      " $ C.N_particulate      : Factor w/ 1753 levels \"\",\"-1\",\"-2\",\"-6\",..: 5 5 5 5 5 5 5 5 5 5 ...\n",
      " $ DON                  : Factor w/ 449 levels \"\",\"-9999\",\"?M\",..: 2 2 2 2 2 2 2 2 2 2 ...\n",
      " $ DOP                  : Factor w/ 124 levels \"\",\"-9999\",\"?M\",..: 2 2 2 2 2 2 2 2 2 2 ...\n",
      " $ DOC                  : Factor w/ 1545 levels \"\",\"-9999\",\"?M\",..: 149 1461 1376 1334 1330 1323 1231 1251 1192 1543 ...\n",
      " $ TOC                  : Factor w/ 436 levels \"\",\"-9999\",\"?M\",..: 2 2 2 2 2 2 2 2 2 2 ...\n",
      " $ PrimaryProductivity  : Factor w/ 543 levels \"\",\"-9999\",\"0\",..: 2 2 2 2 2 2 2 2 2 2 ...\n",
      " $ Chlorophyll          : Factor w/ 303 levels \"\",\"-9999\",\"0.01\",..: 18 13 22 25 27 92 34 13 2 2 ...\n",
      " $ Phaeopigments        : Factor w/ 274 levels \"\",\"-9999\",\"0.02\",..: 14 7 11 32 52 116 72 38 2 2 ...\n",
      " $ Total.Prokaryotes    : Factor w/ 656 levels \"\",\"-9999\",\"(x10^8/L)\",..: 656 654 1 1 1 1 1 1 1 1 ...\n",
      " $ Bact_Biomass_.mgC.m3.: Factor w/ 1381 levels \"\",\"-9999\",\"0.03\",..: 1 1 1 1 1 1 1 1 1 1 ...\n",
      " $ Bact_Biomass_..MC.   : Factor w/ 278 levels \"\",\"-9999\",\"?MC\",..: 1 1 1 1 1 1 1 1 1 1 ...\n"
     ]
    }
   ],
   "source": [
    "# read file\n",
    "Cariaco_HydroMaster <- read.csv(\"../../RawFiles/Master_Hydrography_June2018.csv\")\n",
    "\n",
    "# truncate header\n",
    "Cariaco_Data <- Cariaco_HydroMaster[-1:-4,-49:-51]\n",
    "str(Cariaco_Data)"
   ]
  },
  {
   "cell_type": "code",
   "execution_count": 3,
   "metadata": {},
   "outputs": [
    {
     "name": "stdout",
     "output_type": "stream",
     "text": [
      " POSIXlt[1:5821], format: \"1995-11-08\" \"1995-11-08\" \"1995-11-08\" \"1995-11-08\" \"1995-11-08\" ...\n"
     ]
    }
   ],
   "source": [
    "# convert date & time into machine readable format\n",
    "Cariaco_Data$DateX <- as.POSIXlt(Cariaco_Data$Date, format=\"%Y/%m/%d\", tz=\"GMT\")\n",
    "Cariaco_Data$yday <- Cariaco_Data$DateX$yday #get julian day (day of the year)\n",
    "str(Cariaco_Data$DateX)"
   ]
  },
  {
   "cell_type": "code",
   "execution_count": null,
   "metadata": {},
   "outputs": [],
   "source": []
  }
 ],
 "metadata": {
  "kernelspec": {
   "display_name": "R",
   "language": "R",
   "name": "ir"
  },
  "language_info": {
   "codemirror_mode": "r",
   "file_extension": ".r",
   "mimetype": "text/x-r-source",
   "name": "R",
   "pygments_lexer": "r",
   "version": "3.5.1"
  }
 },
 "nbformat": 4,
 "nbformat_minor": 2
}
