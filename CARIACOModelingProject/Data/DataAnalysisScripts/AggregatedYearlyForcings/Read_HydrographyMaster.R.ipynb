{
 "cells": [
  {
   "cell_type": "markdown",
   "metadata": {},
   "source": [
    "# Read Hydrography Master (June 2018) file\n",
    "\n",
    "this R notebook reads (and cleans up) the Hydrography Master (June 2018) file that is provided on  \n",
    "  \n",
    "http://imars.marine.usf.edu/cariaco  \n",
    "\n",
    "This .csv file is a collection monthly sampled data at CARIACO Ocean Time Series Station."
   ]
  },
  {
   "cell_type": "code",
   "execution_count": 1,
   "metadata": {
    "code_folding": []
   },
   "outputs": [],
   "source": [
    "# read header\n",
    "file <- \"../../DataFiles_Raw/Master_Hydrography_June2018.csv\"\n",
    "header <- read.csv(file, header = F, nrows = 1, as.is=T)\n",
    "\n",
    "# skip empty rows & read data\n",
    "data <- read.csv(file, skip = 5, header = F)\n",
    "\n",
    "# assign header to data\n",
    "colnames(data) <- header"
   ]
  },
  {
   "cell_type": "markdown",
   "metadata": {},
   "source": [
    "# clean up dataframe"
   ]
  },
  {
   "cell_type": "code",
   "execution_count": 2,
   "metadata": {},
   "outputs": [],
   "source": [
    "# convert \"-9999\" values to NA\n",
    "data[data == -9999] <- NA\n",
    "\n",
    "# remove empty columns\n",
    "data <- data[,c(-1,-49:-50)]\n",
    "\n",
    "# remove rows full of NAs (i.e. where cruise number is NA)\n",
    "data <- data[!is.na(data$Cruise),]"
   ]
  },
  {
   "cell_type": "markdown",
   "metadata": {},
   "source": [
    "# convert date/time"
   ]
  },
  {
   "cell_type": "code",
   "execution_count": 3,
   "metadata": {},
   "outputs": [],
   "source": [
    "# convert date & time into machine readable format\n",
    "data$DateString <- data$Date\n",
    "data$Date <- as.POSIXlt(data$Date, format=\"%Y/%m/%d\")\n",
    "\n",
    "# get \"day of the year\" as variable\n",
    "data$yday <- data$Date$yday"
   ]
  },
  {
   "cell_type": "markdown",
   "metadata": {},
   "source": [
    "# the cleaned file is saved as a csv in the folder \"CleanedData\""
   ]
  },
  {
   "cell_type": "code",
   "execution_count": 4,
   "metadata": {},
   "outputs": [],
   "source": [
    "# Write CSV in R\n",
    "write.csv(data, file = \"../../DataFiles_Processed/Master_Hydrography_June2018_Cleaned.csv\")"
   ]
  }
 ],
 "metadata": {
  "kernelspec": {
   "display_name": "R",
   "language": "R",
   "name": "ir"
  },
  "language_info": {
   "codemirror_mode": "r",
   "file_extension": ".r",
   "mimetype": "text/x-r-source",
   "name": "R",
   "pygments_lexer": "r",
   "version": "3.5.1"
  }
 },
 "nbformat": 4,
 "nbformat_minor": 2
}
