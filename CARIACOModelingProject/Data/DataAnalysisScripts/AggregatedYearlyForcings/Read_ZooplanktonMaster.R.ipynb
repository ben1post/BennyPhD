{
 "cells": [
  {
   "cell_type": "markdown",
   "metadata": {},
   "source": [
    "# Read Zooplankton Master (Nov 2017) file\n",
    "\n",
    "this R notebook reads (and cleans up) the Zooplankton Master (Nov 2017) file that is provided on  \n",
    "  \n",
    "http://imars.marine.usf.edu/cariaco  \n",
    "\n",
    "This .csv file is a collection monthly sampled data at CARIACO Ocean Time Series Station."
   ]
  },
  {
   "cell_type": "code",
   "execution_count": 1,
   "metadata": {
    "code_folding": []
   },
   "outputs": [],
   "source": [
    "# read header\n",
    "file <- \"../../DataFiles_Raw/Zooplankton_Master_revised_2017Nov22.csv\"\n",
    "header <- read.csv(file, header = F, nrows = 1, as.is=T)\n",
    "\n",
    "# skip empty rows & read data\n",
    "data <- read.csv(file, skip = 5, header = F)\n",
    "\n",
    "# assign header to data\n",
    "colnames(data) <- header"
   ]
  },
  {
   "cell_type": "markdown",
   "metadata": {},
   "source": [
    "# clean up dataframe"
   ]
  },
  {
   "cell_type": "code",
   "execution_count": 2,
   "metadata": {},
   "outputs": [],
   "source": [
    "# remove empty columns\n",
    "data <- data[,c(-1:-2,-63:-76)]\n",
    "\n",
    "# remove rows full of NAs (i.e. where cruise number is NA)\n",
    "data <- data[!is.na(data$CRUISE),]"
   ]
  },
  {
   "cell_type": "markdown",
   "metadata": {},
   "source": [
    "# convert date/time"
   ]
  },
  {
   "cell_type": "markdown",
   "metadata": {},
   "source": [
    "read Hydrography Master, and extract precise date for each cruise from there:"
   ]
  },
  {
   "cell_type": "code",
   "execution_count": 3,
   "metadata": {},
   "outputs": [],
   "source": [
    "# read processed hydrography master\n",
    "phm <- read.csv(\"../../DataFiles_Processed/Master_Hydrography_June2018_Cleaned.csv\")\n",
    "\n",
    "# trim data frame to needed columns\n",
    "phmdate <- data.frame(phm$Cruise,phm$Date)\n",
    "names(phmdate) <- c('CRUISE','Date')"
   ]
  },
  {
   "cell_type": "markdown",
   "metadata": {},
   "source": [
    "merge two dataframes by cruise number:"
   ]
  },
  {
   "cell_type": "code",
   "execution_count": 4,
   "metadata": {},
   "outputs": [],
   "source": [
    "data_m <- merge(phmdate, data, by=\"CRUISE\")"
   ]
  },
  {
   "cell_type": "code",
   "execution_count": 5,
   "metadata": {},
   "outputs": [],
   "source": [
    "# remove duplicate rows due to merging: (#perhaps there is a better fix here)\n",
    "data_m <- data_m[!duplicated(data_m), ]"
   ]
  },
  {
   "cell_type": "code",
   "execution_count": 6,
   "metadata": {},
   "outputs": [],
   "source": [
    "data_m$Date <- as.POSIXlt(data_m$Date, format=\"%Y-%m-%d\")"
   ]
  },
  {
   "cell_type": "code",
   "execution_count": 7,
   "metadata": {},
   "outputs": [],
   "source": [
    "# get \"day of the year\" as variable\n",
    "data_m$yday <- data_m$Date$yday # Note: yday starts at 0 in POSIX format!"
   ]
  },
  {
   "cell_type": "markdown",
   "metadata": {},
   "source": [
    "# the cleaned file is saved as a csv in the folder \"DataFiles_Processed\" for later use"
   ]
  },
  {
   "cell_type": "code",
   "execution_count": 8,
   "metadata": {},
   "outputs": [],
   "source": [
    "# Write CSV in R\n",
    "write.csv(data_m, file = \"../../DataFiles_Processed/Master_Zooplankton_Nov2017_Cleaned.csv\")"
   ]
  },
  {
   "cell_type": "code",
   "execution_count": null,
   "metadata": {},
   "outputs": [],
   "source": []
  },
  {
   "cell_type": "code",
   "execution_count": null,
   "metadata": {},
   "outputs": [],
   "source": []
  }
 ],
 "metadata": {
  "kernelspec": {
   "display_name": "R",
   "language": "R",
   "name": "ir"
  },
  "language_info": {
   "codemirror_mode": "r",
   "file_extension": ".r",
   "mimetype": "text/x-r-source",
   "name": "R",
   "pygments_lexer": "r",
   "version": "3.5.1"
  }
 },
 "nbformat": 4,
 "nbformat_minor": 2
}
