{
 "cells": [
  {
   "cell_type": "markdown",
   "metadata": {},
   "source": [
    "# for loop Ernesto"
   ]
  },
  {
   "cell_type": "code",
   "execution_count": 2,
   "metadata": {},
   "outputs": [],
   "source": [
    "library(readxl)"
   ]
  },
  {
   "cell_type": "code",
   "execution_count": 3,
   "metadata": {},
   "outputs": [
    {
     "name": "stdout",
     "output_type": "stream",
     "text": [
      "  Sp1 Sp2 Sp3 Sp4 Sp5 Sp6 Sp7 Sp8 Sp9 Sp10\n",
      "1   1   1   1   0   1   1   1   1   0    0\n",
      "2   0   0   1   1   0   1   0   1   0    0\n",
      "3   0   0   0   1   1   1   0   1   1    1\n",
      "  Sp1 Sp2 Sp3 Sp4 Sp5 Sp6 Sp7 Sp8 Sp9 Sp10\n",
      "2   0   0   1   1   0   1   0   1   0    0\n",
      "3   0   0   0   1   1   1   0   1   1    1\n",
      "1   1   1   1   0   1   1   1   1   0    0\n",
      "  Sp1 Sp2 Sp3 Sp4 Sp5 Sp6 Sp7 Sp8 Sp9 Sp10\n",
      "3   0   0   0   1   1   1   0   1   1    1\n",
      "2   0   0   1   1   0   1   0   1   0    0\n",
      "1   1   1   1   0   1   1   1   1   0    0\n",
      "  Values Site_1-2-3 Site_2-3-1 Site_3-2-1\n",
      "1      m        2.0          2          2\n",
      "2     e1        3.0          0          2\n",
      "3   e1/m        1.5          0          1\n"
     ]
    }
   ],
   "source": [
    "# small example\n",
    "dat<- as.data.frame(read_excel(\"Example_endemism.xlsx\"))\n",
    "#check data\n",
    "A <- rowSums(dat)\n",
    " \n",
    "# Get permutations\n",
    "perms = data.frame(SiteA = c(1, 2, 3), SiteB = c(2, 3, 2), SiteC = c(3, 1, 1))\n",
    "outdat = data.frame(Values = c(\"m\", \"e1\", \"e1/m\"))\n",
    "for (i in 1:nrow(perms)){\n",
    "  # Order sites to compare\n",
    "  siteA = perms$SiteA[i]\n",
    "  siteB = perms$SiteB[i]\n",
    "  siteC = perms$SiteC[i]\n",
    "\n",
    "  # Subset sites\n",
    "  dat1 = dat[c(siteA, siteB, siteC), 2:11]\n",
    "    print(dat1)\n",
    "  # Calculate metrics\n",
    "  e1 = sum(ifelse(dat1[1, ] == 1, ifelse(dat1[2, ] == 0, ifelse(dat1[3, ] == 0, 1, 0), 0), 0))\n",
    "  m = length(which(colSums(dat1) == 3))\n",
    "  e1_m = e1/m\n",
    "  # Build data frame\n",
    "  indat = data.frame(site = c(m, e1, e1_m))\n",
    "  names(indat) = paste0(\"Site_\", siteA, \"-\", siteB, \"-\", siteC)\n",
    "  # Bind data frame\n",
    "  outdat = cbind(outdat, indat)\n",
    "}\n",
    "print(outdat)"
   ]
  },
  {
   "cell_type": "code",
   "execution_count": 16,
   "metadata": {},
   "outputs": [
    {
     "data": {
      "text/html": [
       "<table>\n",
       "<caption>A data.frame: 3 × 3</caption>\n",
       "<thead>\n",
       "\t<tr><th scope=col>SiteA</th><th scope=col>SiteB</th><th scope=col>SiteC</th></tr>\n",
       "\t<tr><th scope=col>&lt;dbl&gt;</th><th scope=col>&lt;dbl&gt;</th><th scope=col>&lt;dbl&gt;</th></tr>\n",
       "</thead>\n",
       "<tbody>\n",
       "\t<tr><td>1</td><td>2</td><td>3</td></tr>\n",
       "\t<tr><td>2</td><td>3</td><td>1</td></tr>\n",
       "\t<tr><td>3</td><td>2</td><td>1</td></tr>\n",
       "</tbody>\n",
       "</table>\n"
      ],
      "text/latex": [
       "A data.frame: 3 × 3\n",
       "\\begin{tabular}{r|lll}\n",
       " SiteA & SiteB & SiteC\\\\\n",
       " <dbl> & <dbl> & <dbl>\\\\\n",
       "\\hline\n",
       "\t 1 & 2 & 3\\\\\n",
       "\t 2 & 3 & 1\\\\\n",
       "\t 3 & 2 & 1\\\\\n",
       "\\end{tabular}\n"
      ],
      "text/markdown": [
       "\n",
       "A data.frame: 3 × 3\n",
       "\n",
       "| SiteA &lt;dbl&gt; | SiteB &lt;dbl&gt; | SiteC &lt;dbl&gt; |\n",
       "|---|---|---|\n",
       "| 1 | 2 | 3 |\n",
       "| 2 | 3 | 1 |\n",
       "| 3 | 2 | 1 |\n",
       "\n"
      ],
      "text/plain": [
       "  SiteA SiteB SiteC\n",
       "1 1     2     3    \n",
       "2 2     3     1    \n",
       "3 3     2     1    "
      ]
     },
     "metadata": {},
     "output_type": "display_data"
    },
    {
     "data": {
      "text/html": [
       "<table>\n",
       "<caption>A data.frame: 3 × 1</caption>\n",
       "<thead>\n",
       "\t<tr><th scope=col>c.1.3.</th></tr>\n",
       "\t<tr><th scope=col>&lt;int&gt;</th></tr>\n",
       "</thead>\n",
       "<tbody>\n",
       "\t<tr><td>1</td></tr>\n",
       "\t<tr><td>2</td></tr>\n",
       "\t<tr><td>3</td></tr>\n",
       "</tbody>\n",
       "</table>\n"
      ],
      "text/latex": [
       "A data.frame: 3 × 1\n",
       "\\begin{tabular}{r|l}\n",
       " c.1.3.\\\\\n",
       " <int>\\\\\n",
       "\\hline\n",
       "\t 1\\\\\n",
       "\t 2\\\\\n",
       "\t 3\\\\\n",
       "\\end{tabular}\n"
      ],
      "text/markdown": [
       "\n",
       "A data.frame: 3 × 1\n",
       "\n",
       "| c.1.3. &lt;int&gt; |\n",
       "|---|\n",
       "| 1 |\n",
       "| 2 |\n",
       "| 3 |\n",
       "\n"
      ],
      "text/plain": [
       "  c.1.3.\n",
       "1 1     \n",
       "2 2     \n",
       "3 3     "
      ]
     },
     "metadata": {},
     "output_type": "display_data"
    }
   ],
   "source": [
    "perms\n",
    "\n",
    "x <- data.frame(c(1:3))\n",
    "x"
   ]
  },
  {
   "cell_type": "code",
   "execution_count": 59,
   "metadata": {},
   "outputs": [],
   "source": [
    "x = data.frame(t(dat[2:ncol(dat)]))\n",
    "\n",
    "for (i in 1:ncol(x)){\n",
    "    cbind(x[i],x[-i])\n",
    "}"
   ]
  },
  {
   "cell_type": "code",
   "execution_count": 14,
   "metadata": {},
   "outputs": [
    {
     "data": {
      "text/html": [
       "<table>\n",
       "<caption>A tibble: 3 × 3</caption>\n",
       "<thead>\n",
       "\t<tr><th scope=col>m</th><th scope=col>e1</th><th scope=col>e1_m</th></tr>\n",
       "\t<tr><th scope=col>&lt;int&gt;</th><th scope=col>&lt;int&gt;</th><th scope=col>&lt;dbl&gt;</th></tr>\n",
       "</thead>\n",
       "<tbody>\n",
       "\t<tr><td>2</td><td>3</td><td>1.5</td></tr>\n",
       "\t<tr><td>2</td><td>3</td><td>1.5</td></tr>\n",
       "\t<tr><td>2</td><td>3</td><td>1.5</td></tr>\n",
       "</tbody>\n",
       "</table>\n"
      ],
      "text/latex": [
       "A tibble: 3 × 3\n",
       "\\begin{tabular}{r|lll}\n",
       " m & e1 & e1\\_m\\\\\n",
       " <int> & <int> & <dbl>\\\\\n",
       "\\hline\n",
       "\t 2 & 3 & 1.5\\\\\n",
       "\t 2 & 3 & 1.5\\\\\n",
       "\t 2 & 3 & 1.5\\\\\n",
       "\\end{tabular}\n"
      ],
      "text/markdown": [
       "\n",
       "A tibble: 3 × 3\n",
       "\n",
       "| m &lt;int&gt; | e1 &lt;int&gt; | e1_m &lt;dbl&gt; |\n",
       "|---|---|---|\n",
       "| 2 | 3 | 1.5 |\n",
       "| 2 | 3 | 1.5 |\n",
       "| 2 | 3 | 1.5 |\n",
       "\n"
      ],
      "text/plain": [
       "  m e1 e1_m\n",
       "1 2 3  1.5 \n",
       "2 2 3  1.5 \n",
       "3 2 3  1.5 "
      ]
     },
     "metadata": {},
     "output_type": "display_data"
    }
   ],
   "source": [
    "library(dplyr)\n",
    "\n",
    "x = data.frame(t(dat[2:ncol(dat)]))\n",
    "\n",
    "numSites = ncol(x)\n",
    "\n",
    "results <- data.frame()\n",
    "\n",
    "\n",
    "for (i in 1:numSites){\n",
    "    reargX <- cbind(x[i],x[-i])\n",
    "    \n",
    "    calc <- reargX %>%\n",
    "        mutate(SUM = rowSums(.)) %>%\n",
    "        rowwise() %>%\n",
    "        mutate(uniqueX = X1>0 & SUM==1, AllPresent = SUM==numSites) %>%\n",
    "        ungroup() %>%\n",
    "        summarise(m = sum(AllPresent), e1 = sum(uniqueX) ,e1_m = e1/m)\n",
    "    \n",
    "    results <- rbind(results, calc)\n",
    "    \n",
    "}\n",
    "\n",
    "results"
   ]
  },
  {
   "cell_type": "code",
   "execution_count": 11,
   "metadata": {},
   "outputs": [
    {
     "data": {
      "text/html": [
       "<table>\n",
       "<caption>A data.frame: 6 × 3</caption>\n",
       "<thead>\n",
       "\t<tr><th></th><th scope=col>X3L</th><th scope=col>X2L</th><th scope=col>X1L</th></tr>\n",
       "\t<tr><th></th><th scope=col>&lt;int&gt;</th><th scope=col>&lt;int&gt;</th><th scope=col>&lt;int&gt;</th></tr>\n",
       "</thead>\n",
       "<tbody>\n",
       "\t<tr><th scope=row>1</th><td>3</td><td>2</td><td>1</td></tr>\n",
       "\t<tr><th scope=row>2</th><td>3</td><td>1</td><td>2</td></tr>\n",
       "\t<tr><th scope=row>5</th><td>1</td><td>3</td><td>2</td></tr>\n",
       "\t<tr><th scope=row>8</th><td>2</td><td>3</td><td>1</td></tr>\n",
       "\t<tr><th scope=row>9</th><td>1</td><td>2</td><td>3</td></tr>\n",
       "\t<tr><th scope=row>11</th><td>2</td><td>1</td><td>3</td></tr>\n",
       "</tbody>\n",
       "</table>\n"
      ],
      "text/latex": [
       "A data.frame: 6 × 3\n",
       "\\begin{tabular}{r|lll}\n",
       "  & X3L & X2L & X1L\\\\\n",
       "  & <int> & <int> & <int>\\\\\n",
       "\\hline\n",
       "\t1 & 3 & 2 & 1\\\\\n",
       "\t2 & 3 & 1 & 2\\\\\n",
       "\t5 & 1 & 3 & 2\\\\\n",
       "\t8 & 2 & 3 & 1\\\\\n",
       "\t9 & 1 & 2 & 3\\\\\n",
       "\t11 & 2 & 1 & 3\\\\\n",
       "\\end{tabular}\n"
      ],
      "text/markdown": [
       "\n",
       "A data.frame: 6 × 3\n",
       "\n",
       "| <!--/--> | X3L &lt;int&gt; | X2L &lt;int&gt; | X1L &lt;int&gt; |\n",
       "|---|---|---|---|\n",
       "| 1 | 3 | 2 | 1 |\n",
       "| 2 | 3 | 1 | 2 |\n",
       "| 5 | 1 | 3 | 2 |\n",
       "| 8 | 2 | 3 | 1 |\n",
       "| 9 | 1 | 2 | 3 |\n",
       "| 11 | 2 | 1 | 3 |\n",
       "\n"
      ],
      "text/plain": [
       "   X3L X2L X1L\n",
       "1  3   2   1  \n",
       "2  3   1   2  \n",
       "5  1   3   2  \n",
       "8  2   3   1  \n",
       "9  1   2   3  \n",
       "11 2   1   3  "
      ]
     },
     "metadata": {},
     "output_type": "display_data"
    }
   ],
   "source": [
    "x <- data.frame()\n",
    "\n",
    "\n",
    "for (i in 1:1000){\n",
    " x <- rbind(x, sample.int(3, 3))   \n",
    "}\n",
    "\n",
    "\n",
    "x2 <- x[!duplicated(x), ]\n",
    "x2"
   ]
  },
  {
   "cell_type": "code",
   "execution_count": 118,
   "metadata": {},
   "outputs": [
    {
     "data": {
      "text/html": [
       "<ol class=list-inline>\n",
       "\t<li>3</li>\n",
       "\t<li>1</li>\n",
       "\t<li>2</li>\n",
       "</ol>\n"
      ],
      "text/latex": [
       "\\begin{enumerate*}\n",
       "\\item 3\n",
       "\\item 1\n",
       "\\item 2\n",
       "\\end{enumerate*}\n"
      ],
      "text/markdown": [
       "1. 3\n",
       "2. 1\n",
       "3. 2\n",
       "\n",
       "\n"
      ],
      "text/plain": [
       "[1] 3 1 2"
      ]
     },
     "metadata": {},
     "output_type": "display_data"
    }
   ],
   "source": []
  },
  {
   "cell_type": "code",
   "execution_count": 112,
   "metadata": {},
   "outputs": [
    {
     "data": {
      "text/html": [
       "<table>\n",
       "<caption>A matrix: 1 × 3 of type dbl</caption>\n",
       "<tbody>\n",
       "\t<tr><td>1</td><td>2</td><td>3</td></tr>\n",
       "</tbody>\n",
       "</table>\n"
      ],
      "text/latex": [
       "A matrix: 1 × 3 of type dbl\n",
       "\\begin{tabular}{lll}\n",
       "\t 1 & 2 & 3\\\\\n",
       "\\end{tabular}\n"
      ],
      "text/markdown": [
       "\n",
       "A matrix: 1 × 3 of type dbl\n",
       "\n",
       "| 1 | 2 | 3 |\n",
       "\n"
      ],
      "text/plain": [
       "     [,1] [,2] [,3]\n",
       "[1,] 1    2    3   "
      ]
     },
     "metadata": {},
     "output_type": "display_data"
    }
   ],
   "source": [
    "library(plyr)\n",
    "a=c(1,2,3)\n",
    "\n"
   ]
  },
  {
   "cell_type": "code",
   "execution_count": null,
   "metadata": {},
   "outputs": [],
   "source": []
  },
  {
   "cell_type": "code",
   "execution_count": 69,
   "metadata": {},
   "outputs": [
    {
     "ename": "ERROR",
     "evalue": "Error in data.frame(SiteA = c(1, 2, 3), SiteB = c(2, 3, 2), SiteC = c(3, : argument is missing, with no default\n",
     "output_type": "error",
     "traceback": [
      "Error in data.frame(SiteA = c(1, 2, 3), SiteB = c(2, 3, 2), SiteC = c(3, : argument is missing, with no default\nTraceback:\n",
      "1. data.frame(SiteA = c(1, 2, 3), SiteB = c(2, 3, 2), SiteC = c(3, \n .     1, 1), SiteD = )"
     ]
    }
   ],
   "source": [
    "# small example\n",
    "dat<- as.data.frame(read_excel(\"Example_endemism.xlsx\"))\n",
    "#check data\n",
    "A <- rowSums(dat)\n",
    " \n",
    "# Get permutations\n",
    "newperms = \n",
    "\n",
    "perms = data.frame(SiteA = c(1, 2, 3), SiteB = c(2, 3, 2), SiteC = c(3, 1, 1))\n",
    "\n",
    "\n",
    "outdat = data.frame(Values = c(\"m\", \"e1\", \"e1/m\"))\n",
    "for (i in 1:nrow(perms)){\n",
    "  # Order sites to compare\n",
    "  siteA = perms$SiteA[i]\n",
    "  siteB = perms$SiteB[i]\n",
    "  siteC = perms$SiteC[i]\n",
    "\n",
    "  # Subset sites\n",
    "  dat1 = dat[c(siteA, siteB, siteC), 2:11]\n",
    "    print(dat1)\n",
    "  # Calculate metrics\n",
    "  e1 = sum(ifelse(dat1[1, ] == 1, ifelse(dat1[2, ] == 0, ifelse(dat1[3, ] == 0, 1, 0), 0), 0))\n",
    "  m = length(which(colSums(dat1) == 3))\n",
    "  e1_m = e1/m\n",
    "  # Build data frame\n",
    "  indat = data.frame(site = c(m, e1, e1_m))\n",
    "  names(indat) = paste0(\"Site_\", siteA, \"-\", siteB, \"-\", siteC)\n",
    "  # Bind data frame\n",
    "  outdat = cbind(outdat, indat)\n",
    "}\n",
    "print(outdat)"
   ]
  },
  {
   "cell_type": "code",
   "execution_count": 32,
   "metadata": {},
   "outputs": [
    {
     "name": "stdout",
     "output_type": "stream",
     "text": [
      "[1] 1 2 3\n",
      "[1] 2 3 1\n",
      "[1] 3 2 1\n"
     ]
    }
   ],
   "source": [
    "perms = data.frame(SiteA = c(1, 2, 3), SiteB = c(2, 3, 2), SiteC = c(3, 1, 1))\n",
    "\n",
    "for (i in 1:nrow(perms)){\n",
    "    siteA = perms$SiteA[i]\n",
    "    siteB = perms$SiteB[i]\n",
    "    siteC = perms$SiteC[i]\n",
    "        print(c(siteA,siteB,siteC))\n",
    "}\n",
    "\n"
   ]
  },
  {
   "cell_type": "code",
   "execution_count": 11,
   "metadata": {},
   "outputs": [
    {
     "data": {
      "text/html": [
       "<table>\n",
       "<caption>A data.frame: 3 × 11</caption>\n",
       "<thead>\n",
       "\t<tr><th scope=col>Site</th><th scope=col>Sp1</th><th scope=col>Sp2</th><th scope=col>Sp3</th><th scope=col>Sp4</th><th scope=col>Sp5</th><th scope=col>Sp6</th><th scope=col>Sp7</th><th scope=col>Sp8</th><th scope=col>Sp9</th><th scope=col>Sp10</th></tr>\n",
       "\t<tr><th scope=col>&lt;dbl&gt;</th><th scope=col>&lt;dbl&gt;</th><th scope=col>&lt;dbl&gt;</th><th scope=col>&lt;dbl&gt;</th><th scope=col>&lt;dbl&gt;</th><th scope=col>&lt;dbl&gt;</th><th scope=col>&lt;dbl&gt;</th><th scope=col>&lt;dbl&gt;</th><th scope=col>&lt;dbl&gt;</th><th scope=col>&lt;dbl&gt;</th><th scope=col>&lt;dbl&gt;</th></tr>\n",
       "</thead>\n",
       "<tbody>\n",
       "\t<tr><td>1</td><td>1</td><td>1</td><td>1</td><td>0</td><td>1</td><td>1</td><td>1</td><td>1</td><td>0</td><td>0</td></tr>\n",
       "\t<tr><td>2</td><td>0</td><td>0</td><td>1</td><td>1</td><td>0</td><td>1</td><td>0</td><td>1</td><td>0</td><td>0</td></tr>\n",
       "\t<tr><td>3</td><td>0</td><td>0</td><td>0</td><td>1</td><td>1</td><td>1</td><td>0</td><td>1</td><td>1</td><td>1</td></tr>\n",
       "</tbody>\n",
       "</table>\n"
      ],
      "text/latex": [
       "A data.frame: 3 × 11\n",
       "\\begin{tabular}{r|lllllllllll}\n",
       " Site & Sp1 & Sp2 & Sp3 & Sp4 & Sp5 & Sp6 & Sp7 & Sp8 & Sp9 & Sp10\\\\\n",
       " <dbl> & <dbl> & <dbl> & <dbl> & <dbl> & <dbl> & <dbl> & <dbl> & <dbl> & <dbl> & <dbl>\\\\\n",
       "\\hline\n",
       "\t 1 & 1 & 1 & 1 & 0 & 1 & 1 & 1 & 1 & 0 & 0\\\\\n",
       "\t 2 & 0 & 0 & 1 & 1 & 0 & 1 & 0 & 1 & 0 & 0\\\\\n",
       "\t 3 & 0 & 0 & 0 & 1 & 1 & 1 & 0 & 1 & 1 & 1\\\\\n",
       "\\end{tabular}\n"
      ],
      "text/markdown": [
       "\n",
       "A data.frame: 3 × 11\n",
       "\n",
       "| Site &lt;dbl&gt; | Sp1 &lt;dbl&gt; | Sp2 &lt;dbl&gt; | Sp3 &lt;dbl&gt; | Sp4 &lt;dbl&gt; | Sp5 &lt;dbl&gt; | Sp6 &lt;dbl&gt; | Sp7 &lt;dbl&gt; | Sp8 &lt;dbl&gt; | Sp9 &lt;dbl&gt; | Sp10 &lt;dbl&gt; |\n",
       "|---|---|---|---|---|---|---|---|---|---|---|\n",
       "| 1 | 1 | 1 | 1 | 0 | 1 | 1 | 1 | 1 | 0 | 0 |\n",
       "| 2 | 0 | 0 | 1 | 1 | 0 | 1 | 0 | 1 | 0 | 0 |\n",
       "| 3 | 0 | 0 | 0 | 1 | 1 | 1 | 0 | 1 | 1 | 1 |\n",
       "\n"
      ],
      "text/plain": [
       "  Site Sp1 Sp2 Sp3 Sp4 Sp5 Sp6 Sp7 Sp8 Sp9 Sp10\n",
       "1 1    1   1   1   0   1   1   1   1   0   0   \n",
       "2 2    0   0   1   1   0   1   0   1   0   0   \n",
       "3 3    0   0   0   1   1   1   0   1   1   1   "
      ]
     },
     "metadata": {},
     "output_type": "display_data"
    }
   ],
   "source": [
    "dat"
   ]
  },
  {
   "cell_type": "code",
   "execution_count": 7,
   "metadata": {},
   "outputs": [],
   "source": [
    " # real data\n",
    "load(\"Ocurrence_Pico_surf.RData\")"
   ]
  },
  {
   "cell_type": "code",
   "execution_count": 10,
   "metadata": {},
   "outputs": [
    {
     "name": "stdout",
     "output_type": "stream",
     "text": [
      "'data.frame':\t9 obs. of  17323 variables:\n",
      " $ OTU_1    : num  1 1 1 1 1 1 1 1 1\n",
      " $ OTU_10   : num  1 1 1 1 0 0 1 0 1\n",
      " $ OTU_100  : num  0 1 0 1 0 0 1 0 1\n",
      " $ OTU_1000 : num  0 1 0 0 0 0 1 1 0\n",
      " $ OTU_10002: num  0 0 0 0 0 0 1 0 0\n",
      " $ OTU_10003: num  0 1 0 1 0 1 1 0 1\n",
      " $ OTU_10006: num  0 0 0 0 0 0 0 1 0\n",
      " $ OTU_1001 : num  0 0 0 0 0 0 1 1 0\n",
      " $ OTU_10012: num  0 0 0 0 0 0 1 0 0\n",
      " $ OTU_10013: num  0 0 0 0 1 0 0 0 0\n",
      " $ OTU_10019: num  0 1 1 1 0 1 1 1 1\n",
      " $ OTU_1002 : num  1 0 1 0 0 0 0 0 1\n",
      " $ OTU_10020: num  0 0 0 0 0 0 0 0 0\n",
      " $ OTU_10027: num  0 0 1 0 0 0 0 0 0\n",
      " $ OTU_1003 : num  0 1 0 1 0 0 1 0 0\n",
      " $ OTU_10033: num  0 0 0 0 0 0 0 0 0\n",
      " $ OTU_10045: num  0 1 1 0 0 0 0 0 1\n",
      " $ OTU_10047: num  1 1 1 1 1 1 1 1 1\n",
      " $ OTU_1005 : num  0 1 0 0 0 0 1 0 1\n",
      " $ OTU_10056: num  1 1 0 1 1 1 1 0 1\n",
      " $ OTU_10058: num  0 0 0 0 0 0 1 0 1\n",
      " $ OTU_1006 : num  0 0 0 0 0 0 0 1 0\n",
      " $ OTU_10061: num  0 1 0 0 0 0 0 0 0\n",
      " $ OTU_10066: num  0 0 0 0 1 0 0 0 1\n",
      " $ OTU_10067: num  0 0 0 0 0 0 0 0 1\n",
      " $ OTU_1007 : num  1 1 0 0 0 0 1 0 1\n",
      " $ OTU_10070: num  0 0 0 1 0 0 1 1 1\n",
      " $ OTU_10077: num  0 0 1 0 0 0 1 1 0\n",
      " $ OTU_1008 : num  0 0 0 0 0 0 0 0 1\n",
      " $ OTU_10084: num  0 0 0 0 0 0 1 0 0\n",
      " $ OTU_10087: num  0 1 0 0 1 1 1 0 1\n",
      " $ OTU_10093: num  0 1 0 0 0 0 1 0 0\n",
      " $ OTU_10096: num  0 0 0 0 0 0 0 0 1\n",
      " $ OTU_101  : num  0 0 0 1 1 0 0 1 1\n",
      " $ OTU_1011 : num  0 0 1 1 0 0 0 1 0\n",
      " $ OTU_10113: num  0 0 0 0 0 0 1 0 0\n",
      " $ OTU_10115: num  0 0 0 0 0 0 0 0 1\n",
      " $ OTU_1012 : num  0 0 0 1 1 0 1 1 1\n",
      " $ OTU_10124: num  1 0 0 0 0 0 0 0 0\n",
      " $ OTU_10126: num  1 0 1 0 1 1 1 0 1\n",
      " $ OTU_10127: num  0 0 0 0 0 0 0 0 0\n",
      " $ OTU_10128: num  0 0 0 0 0 0 0 1 0\n",
      " $ OTU_1013 : num  1 1 1 0 0 0 1 1 0\n",
      " $ OTU_10130: num  0 0 0 0 0 0 0 0 1\n",
      " $ OTU_10135: num  0 1 0 0 0 0 0 0 0\n",
      " $ OTU_10136: num  0 0 0 0 0 0 0 0 0\n",
      " $ OTU_10137: num  0 0 0 0 0 0 0 0 0\n",
      " $ OTU_1014 : num  0 0 1 1 0 0 0 1 0\n",
      " $ OTU_10140: num  0 0 1 0 0 0 0 0 0\n",
      " $ OTU_10145: num  1 1 0 0 1 0 1 1 1\n",
      " $ OTU_10149: num  0 0 0 0 0 0 0 0 1\n",
      " $ OTU_10157: num  0 0 1 1 1 1 1 1 1\n",
      " $ OTU_1016 : num  0 1 0 0 0 1 1 1 1\n",
      " $ OTU_10160: num  0 1 0 0 0 0 0 0 0\n",
      " $ OTU_10165: num  0 0 0 0 0 0 0 0 0\n",
      " $ OTU_10167: num  0 1 1 1 1 0 1 1 0\n",
      " $ OTU_1017 : num  0 1 1 1 1 0 1 1 1\n",
      " $ OTU_10171: num  0 0 0 0 0 0 0 1 0\n",
      " $ OTU_10179: num  0 0 0 1 0 0 0 0 0\n",
      " $ OTU_1018 : num  0 1 1 1 1 1 1 0 0\n",
      " $ OTU_10180: num  1 1 1 1 1 0 0 1 1\n",
      " $ OTU_10181: num  0 0 0 1 0 0 0 0 0\n",
      " $ OTU_10187: num  0 0 0 1 0 0 0 0 0\n",
      " $ OTU_1019 : num  0 0 1 1 0 0 0 0 1\n",
      " $ OTU_10198: num  0 0 0 0 0 0 0 0 1\n",
      " $ OTU_102  : num  1 0 1 1 0 1 1 1 1\n",
      " $ OTU_1020 : num  0 0 0 0 0 0 1 0 0\n",
      " $ OTU_10200: num  0 1 0 0 0 1 0 0 1\n",
      " $ OTU_1021 : num  1 0 0 1 0 0 0 1 0\n",
      " $ OTU_10213: num  0 0 0 0 0 0 1 0 0\n",
      " $ OTU_10215: num  1 1 1 1 1 1 1 1 1\n",
      " $ OTU_10216: num  1 0 0 1 1 0 0 0 0\n",
      " $ OTU_1022 : num  1 0 1 1 0 0 1 1 1\n",
      " $ OTU_10221: num  0 0 1 1 0 0 0 0 1\n",
      " $ OTU_10225: num  0 0 0 0 0 0 1 0 0\n",
      " $ OTU_10229: num  0 1 0 0 0 0 0 1 1\n",
      " $ OTU_10233: num  0 0 0 0 0 0 0 0 0\n",
      " $ OTU_1024 : num  1 1 0 1 0 0 1 1 1\n",
      " $ OTU_10249: num  0 1 0 0 0 0 0 0 1\n",
      " $ OTU_10266: num  0 0 0 0 0 0 0 1 0\n",
      " $ OTU_1027 : num  0 0 0 1 0 0 0 0 1\n",
      " $ OTU_10283: num  0 1 0 0 0 0 0 0 0\n",
      " $ OTU_10285: num  0 0 0 0 0 0 1 0 0\n",
      " $ OTU_10288: num  1 1 1 1 1 0 0 0 1\n",
      " $ OTU_1029 : num  0 1 1 0 0 0 1 0 1\n",
      " $ OTU_10291: num  0 1 1 1 0 0 0 0 1\n",
      " $ OTU_103  : num  1 1 1 1 1 0 1 1 1\n",
      " $ OTU_1030 : num  0 0 0 1 0 0 0 1 1\n",
      " $ OTU_10302: num  0 1 0 1 0 0 0 0 0\n",
      " $ OTU_10305: num  0 0 0 0 0 0 1 0 0\n",
      " $ OTU_10307: num  0 0 0 0 0 0 0 0 0\n",
      " $ OTU_1031 : num  0 0 0 1 0 0 0 1 0\n",
      " $ OTU_10310: num  0 0 0 0 0 0 0 0 0\n",
      " $ OTU_10313: num  0 1 0 0 1 0 1 1 0\n",
      " $ OTU_1032 : num  0 0 1 1 1 0 0 1 0\n",
      " $ OTU_10321: num  0 0 0 0 0 1 0 0 0\n",
      " $ OTU_10326: num  0 0 0 0 0 0 0 0 1\n",
      " $ OTU_10328: num  0 1 0 0 1 0 0 1 1\n",
      " $ OTU_10329: num  0 0 0 0 0 0 1 0 0\n",
      "  [list output truncated]\n"
     ]
    }
   ],
   "source": [
    "str(Ocurrence_Pico_surf)"
   ]
  },
  {
   "cell_type": "code",
   "execution_count": null,
   "metadata": {},
   "outputs": [],
   "source": []
  }
 ],
 "metadata": {
  "kernelspec": {
   "display_name": "R",
   "language": "R",
   "name": "ir"
  },
  "language_info": {
   "codemirror_mode": "r",
   "file_extension": ".r",
   "mimetype": "text/x-r-source",
   "name": "R",
   "pygments_lexer": "r",
   "version": "3.6.1"
  }
 },
 "nbformat": 4,
 "nbformat_minor": 4
}
