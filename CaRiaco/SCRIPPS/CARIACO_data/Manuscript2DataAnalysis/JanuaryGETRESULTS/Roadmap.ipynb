{
 "cells": [
  {
   "cell_type": "markdown",
   "id": "97f86a0c",
   "metadata": {},
   "source": [
    "# CARIACO time series analysis"
   ]
  },
  {
   "cell_type": "markdown",
   "id": "5b9af066",
   "metadata": {},
   "source": [
    "## Useful time-series for first proper analysis:\n",
    "- Satellite Data:\n",
    "    - MODIS aqua Chlorophyll (Daily, 8 Day & Monthly)\n",
    "    - SeaWiFS Chlorophyll (8 Day & Monthly)\n",
    "    \n",
    "    \n",
    "- In-Situ Data:\n",
    "    - 21° Isotherm (best proxy for physical upwelling)\n",
    "    - Chlorophyll + Phaeopigment + Daily primary production\n",
    "    - POC\n",
    "    - Zooplankton Biomass\n",
    "    - NO3 merged, PO4 merged and SiO4 merged (?)\n",
    "    - at a later stage: Phytoplankton Microscopy Counts\n",
    "    \n",
    "    \n",
    "- ERA 5 Climate Model:\n",
    "    - 10 metre U wind componen (-u drives Ekman transport --> Upwelling)\n",
    "    - Total precipitation (tp)\n",
    "    - Medium cloud cover (mcc)\n",
    "    - SST (sst)\n",
    "    - Possible: Evaporation, Solar Radiation, "
   ]
  },
  {
   "cell_type": "markdown",
   "id": "2444b848",
   "metadata": {},
   "source": [
    "## Dataset \"verification\":\n",
    "\n",
    "ERA5:\n",
    "- SST vs CTD measurements\n",
    "- Wind vs Wind data from stations\n",
    "\n",
    "Satellite:\n",
    "- Chlorophyll vs satellite chl a --> Do Daily Data comparison!"
   ]
  },
  {
   "cell_type": "markdown",
   "id": "7dabced6",
   "metadata": {},
   "source": [
    "# What I really want to do:\n",
    "\n",
    "The paper should be as simple as possible, in setup and execution\n",
    "\n",
    "\n",
    "This means I need to limit the data that I look at, and follow the straightforward example of the greek limnological paper! Just pick simple explanatory variables, and a small set of physical driver variables\n",
    "\n",
    "- Get this done this week!\n",
    "\n",
    "\n",
    "TODO:\n",
    "- merge Satellite Chlorophyll dataset, with error bars for overlapping period!\n",
    "- plot Satellite Chl a against in-situ measurements \n",
    "- Explanatory Vars:\n",
    "    - -u, precipitation, sst, evaporation\n",
    "    - isotherm, merged nutrients\n",
    "- create simple overview plot, with yearly + monthly anomalies\n",
    "- run simple Random Forest analysis\n",
    "\n",
    "- present next Monday + Tuesday!\n"
   ]
  },
  {
   "cell_type": "code",
   "execution_count": null,
   "id": "18900c96",
   "metadata": {},
   "outputs": [],
   "source": []
  }
 ],
 "metadata": {
  "kernelspec": {
   "display_name": "Python 3 (ipykernel)",
   "language": "python",
   "name": "python3"
  },
  "language_info": {
   "codemirror_mode": {
    "name": "ipython",
    "version": 3
   },
   "file_extension": ".py",
   "mimetype": "text/x-python",
   "name": "python",
   "nbconvert_exporter": "python",
   "pygments_lexer": "ipython3",
   "version": "3.9.9"
  }
 },
 "nbformat": 4,
 "nbformat_minor": 5
}
