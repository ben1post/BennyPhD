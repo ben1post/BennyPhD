{
 "cells": [
  {
   "cell_type": "code",
   "execution_count": 6,
   "id": "240042c7-c9b5-43c5-ad5b-92bb83c49379",
   "metadata": {},
   "outputs": [
    {
     "name": "stderr",
     "output_type": "stream",
     "text": [
      "Warning message in install.packages(\"terra\", .libPaths(), repos = \"http://cran.us.r-project.org\"):\n",
      "“installation of package ‘terra’ had non-zero exit status”\n",
      "Updating HTML index of packages in '.Library'\n",
      "\n",
      "Making 'packages.html' ...\n",
      " done\n",
      "\n"
     ]
    }
   ],
   "source": [
    "install.packages(\"terra\")"
   ]
  },
  {
   "cell_type": "code",
   "execution_count": 3,
   "id": "87ce0b0a-af96-493f-a0a1-e4a85e06b1d5",
   "metadata": {},
   "outputs": [
    {
     "ename": "ERROR",
     "evalue": "Error in library(usdm): there is no package called ‘usdm’\n",
     "output_type": "error",
     "traceback": [
      "Error in library(usdm): there is no package called ‘usdm’\nTraceback:\n",
      "1. library(usdm)"
     ]
    }
   ],
   "source": [
    "library(usdm)"
   ]
  },
  {
   "cell_type": "code",
   "execution_count": null,
   "id": "6926ef0a-e8d5-4637-8cab-0703124bc259",
   "metadata": {},
   "outputs": [],
   "source": []
  },
  {
   "cell_type": "code",
   "execution_count": null,
   "id": "3f6ab914-5e07-4302-b687-cfddc202eb60",
   "metadata": {},
   "outputs": [],
   "source": []
  }
 ],
 "metadata": {
  "kernelspec": {
   "display_name": "R",
   "language": "R",
   "name": "ir"
  },
  "language_info": {
   "codemirror_mode": "r",
   "file_extension": ".r",
   "mimetype": "text/x-r-source",
   "name": "R",
   "pygments_lexer": "r",
   "version": "4.0.2"
  }
 },
 "nbformat": 4,
 "nbformat_minor": 5
}
