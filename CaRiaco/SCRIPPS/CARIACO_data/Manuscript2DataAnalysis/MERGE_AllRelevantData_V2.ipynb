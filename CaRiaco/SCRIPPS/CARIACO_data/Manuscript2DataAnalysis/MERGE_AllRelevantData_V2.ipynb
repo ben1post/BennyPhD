{
 "cells": [
  {
   "cell_type": "code",
   "execution_count": 1,
   "metadata": {},
   "outputs": [
    {
     "name": "stderr",
     "output_type": "stream",
     "text": [
      "── \u001b[1mAttaching packages\u001b[22m ───────────────────────────────────────────────────────── tidyverse 1.3.1 ──\n",
      "\n",
      "\u001b[32m✔\u001b[39m \u001b[34mggplot2\u001b[39m 3.3.5     \u001b[32m✔\u001b[39m \u001b[34mpurrr  \u001b[39m 0.3.4\n",
      "\u001b[32m✔\u001b[39m \u001b[34mtibble \u001b[39m 3.1.3     \u001b[32m✔\u001b[39m \u001b[34mdplyr  \u001b[39m 1.0.7\n",
      "\u001b[32m✔\u001b[39m \u001b[34mtidyr  \u001b[39m 1.1.3     \u001b[32m✔\u001b[39m \u001b[34mstringr\u001b[39m 1.4.0\n",
      "\u001b[32m✔\u001b[39m \u001b[34mreadr  \u001b[39m 2.0.0     \u001b[32m✔\u001b[39m \u001b[34mforcats\u001b[39m 0.5.1\n",
      "\n",
      "── \u001b[1mConflicts\u001b[22m ──────────────────────────────────────────────────────────── tidyverse_conflicts() ──\n",
      "\u001b[31m✖\u001b[39m \u001b[34mdplyr\u001b[39m::\u001b[32mfilter()\u001b[39m masks \u001b[34mstats\u001b[39m::filter()\n",
      "\u001b[31m✖\u001b[39m \u001b[34mdplyr\u001b[39m::\u001b[32mlag()\u001b[39m    masks \u001b[34mstats\u001b[39m::lag()\n",
      "\n"
     ]
    }
   ],
   "source": [
    "library(tidyverse)#, warn.conflicts = FALSE)\n",
    "\n",
    "# library to read matlab data formats into R\n",
    "#library(reshape2)\n",
    "#library(lubridate)\n",
    "\n",
    "# set strings as factors to false\n",
    "options(stringsAsFactors = FALSE)"
   ]
  },
  {
   "cell_type": "markdown",
   "metadata": {},
   "source": [
    "# read WIND data"
   ]
  },
  {
   "cell_type": "code",
   "execution_count": 2,
   "metadata": {},
   "outputs": [],
   "source": [
    "wind_ds <- read.csv(\"DATA/ERA5_CombinedMonthlyData.csv\")"
   ]
  },
  {
   "cell_type": "code",
   "execution_count": 3,
   "metadata": {},
   "outputs": [
    {
     "data": {
      "text/html": [
       "<style>\n",
       ".list-inline {list-style: none; margin:0; padding: 0}\n",
       ".list-inline>li {display: inline-block}\n",
       ".list-inline>li:not(:last-child)::after {content: \"\\00b7\"; padding: 0 .5ex}\n",
       "</style>\n",
       "<ol class=list-inline><li>'X'</li><li>'time.x'</li><li>'cdww'</li><li>'iews'</li><li>'inss'</li><li>'mcc'</li><li>'mwp'</li><li>'si10'</li><li>'sp'</li><li>'sst'</li><li>'t2m'</li><li>'tauoc'</li><li>'u10'</li><li>'ust'</li><li>'v10'</li><li>'v10n'</li><li>'vst'</li><li>'wind'</li><li>'time_month'</li><li>'time.y'</li><li>'cdir'</li><li>'e'</li><li>'ewss'</li><li>'i10fg'</li><li>'lsp'</li><li>'magss'</li><li>'mer'</li><li>'metss'</li><li>'mmtss'</li><li>'mntss'</li><li>'mtpr'</li><li>'nsss'</li><li>'sshf'</li><li>'tp'</li></ol>\n"
      ],
      "text/latex": [
       "\\begin{enumerate*}\n",
       "\\item 'X'\n",
       "\\item 'time.x'\n",
       "\\item 'cdww'\n",
       "\\item 'iews'\n",
       "\\item 'inss'\n",
       "\\item 'mcc'\n",
       "\\item 'mwp'\n",
       "\\item 'si10'\n",
       "\\item 'sp'\n",
       "\\item 'sst'\n",
       "\\item 't2m'\n",
       "\\item 'tauoc'\n",
       "\\item 'u10'\n",
       "\\item 'ust'\n",
       "\\item 'v10'\n",
       "\\item 'v10n'\n",
       "\\item 'vst'\n",
       "\\item 'wind'\n",
       "\\item 'time\\_month'\n",
       "\\item 'time.y'\n",
       "\\item 'cdir'\n",
       "\\item 'e'\n",
       "\\item 'ewss'\n",
       "\\item 'i10fg'\n",
       "\\item 'lsp'\n",
       "\\item 'magss'\n",
       "\\item 'mer'\n",
       "\\item 'metss'\n",
       "\\item 'mmtss'\n",
       "\\item 'mntss'\n",
       "\\item 'mtpr'\n",
       "\\item 'nsss'\n",
       "\\item 'sshf'\n",
       "\\item 'tp'\n",
       "\\end{enumerate*}\n"
      ],
      "text/markdown": [
       "1. 'X'\n",
       "2. 'time.x'\n",
       "3. 'cdww'\n",
       "4. 'iews'\n",
       "5. 'inss'\n",
       "6. 'mcc'\n",
       "7. 'mwp'\n",
       "8. 'si10'\n",
       "9. 'sp'\n",
       "10. 'sst'\n",
       "11. 't2m'\n",
       "12. 'tauoc'\n",
       "13. 'u10'\n",
       "14. 'ust'\n",
       "15. 'v10'\n",
       "16. 'v10n'\n",
       "17. 'vst'\n",
       "18. 'wind'\n",
       "19. 'time_month'\n",
       "20. 'time.y'\n",
       "21. 'cdir'\n",
       "22. 'e'\n",
       "23. 'ewss'\n",
       "24. 'i10fg'\n",
       "25. 'lsp'\n",
       "26. 'magss'\n",
       "27. 'mer'\n",
       "28. 'metss'\n",
       "29. 'mmtss'\n",
       "30. 'mntss'\n",
       "31. 'mtpr'\n",
       "32. 'nsss'\n",
       "33. 'sshf'\n",
       "34. 'tp'\n",
       "\n",
       "\n"
      ],
      "text/plain": [
       " [1] \"X\"          \"time.x\"     \"cdww\"       \"iews\"       \"inss\"      \n",
       " [6] \"mcc\"        \"mwp\"        \"si10\"       \"sp\"         \"sst\"       \n",
       "[11] \"t2m\"        \"tauoc\"      \"u10\"        \"ust\"        \"v10\"       \n",
       "[16] \"v10n\"       \"vst\"        \"wind\"       \"time_month\" \"time.y\"    \n",
       "[21] \"cdir\"       \"e\"          \"ewss\"       \"i10fg\"      \"lsp\"       \n",
       "[26] \"magss\"      \"mer\"        \"metss\"      \"mmtss\"      \"mntss\"     \n",
       "[31] \"mtpr\"       \"nsss\"       \"sshf\"       \"tp\"        "
      ]
     },
     "metadata": {},
     "output_type": "display_data"
    }
   ],
   "source": [
    "names(wind_ds)"
   ]
  },
  {
   "cell_type": "code",
   "execution_count": 4,
   "metadata": {},
   "outputs": [],
   "source": [
    "wind_ds_cleaned <- wind_ds %>%\n",
    "    select(-X, -time.x, -time.y)"
   ]
  },
  {
   "cell_type": "markdown",
   "metadata": {},
   "source": [
    "# read NISKIN data"
   ]
  },
  {
   "cell_type": "code",
   "execution_count": 5,
   "metadata": {},
   "outputs": [],
   "source": [
    "niskin_ds <- read.csv(\"DATA/January/Niskin_qchecked_100m.csv\")"
   ]
  },
  {
   "cell_type": "code",
   "execution_count": 6,
   "metadata": {},
   "outputs": [
    {
     "data": {
      "text/html": [
       "<style>\n",
       ".list-inline {list-style: none; margin:0; padding: 0}\n",
       ".list-inline>li {display: inline-block}\n",
       ".list-inline>li:not(:last-child)::after {content: \"\\00b7\"; padding: 0 .5ex}\n",
       "</style>\n",
       "<ol class=list-inline><li>'X'</li><li>'NO3_UDO'</li><li>'time_month'</li><li>'PO4_UDO'</li><li>'SiO4_UDO'</li><li>'NH4_USF'</li><li>'NO2_USF'</li><li>'NO3_NO2_USF'</li><li>'PO4_USF'</li><li>'SiO4_USF'</li><li>'pH_corrected'</li><li>'Salinity_bottles'</li><li>'Temperature'</li><li>'Sigma_t'</li><li>'PrimaryProductivity'</li><li>'Chlorophyll'</li><li>'Phaeopigments'</li><li>'NO3_USF'</li></ol>\n"
      ],
      "text/latex": [
       "\\begin{enumerate*}\n",
       "\\item 'X'\n",
       "\\item 'NO3\\_UDO'\n",
       "\\item 'time\\_month'\n",
       "\\item 'PO4\\_UDO'\n",
       "\\item 'SiO4\\_UDO'\n",
       "\\item 'NH4\\_USF'\n",
       "\\item 'NO2\\_USF'\n",
       "\\item 'NO3\\_NO2\\_USF'\n",
       "\\item 'PO4\\_USF'\n",
       "\\item 'SiO4\\_USF'\n",
       "\\item 'pH\\_corrected'\n",
       "\\item 'Salinity\\_bottles'\n",
       "\\item 'Temperature'\n",
       "\\item 'Sigma\\_t'\n",
       "\\item 'PrimaryProductivity'\n",
       "\\item 'Chlorophyll'\n",
       "\\item 'Phaeopigments'\n",
       "\\item 'NO3\\_USF'\n",
       "\\end{enumerate*}\n"
      ],
      "text/markdown": [
       "1. 'X'\n",
       "2. 'NO3_UDO'\n",
       "3. 'time_month'\n",
       "4. 'PO4_UDO'\n",
       "5. 'SiO4_UDO'\n",
       "6. 'NH4_USF'\n",
       "7. 'NO2_USF'\n",
       "8. 'NO3_NO2_USF'\n",
       "9. 'PO4_USF'\n",
       "10. 'SiO4_USF'\n",
       "11. 'pH_corrected'\n",
       "12. 'Salinity_bottles'\n",
       "13. 'Temperature'\n",
       "14. 'Sigma_t'\n",
       "15. 'PrimaryProductivity'\n",
       "16. 'Chlorophyll'\n",
       "17. 'Phaeopigments'\n",
       "18. 'NO3_USF'\n",
       "\n",
       "\n"
      ],
      "text/plain": [
       " [1] \"X\"                   \"NO3_UDO\"             \"time_month\"         \n",
       " [4] \"PO4_UDO\"             \"SiO4_UDO\"            \"NH4_USF\"            \n",
       " [7] \"NO2_USF\"             \"NO3_NO2_USF\"         \"PO4_USF\"            \n",
       "[10] \"SiO4_USF\"            \"pH_corrected\"        \"Salinity_bottles\"   \n",
       "[13] \"Temperature\"         \"Sigma_t\"             \"PrimaryProductivity\"\n",
       "[16] \"Chlorophyll\"         \"Phaeopigments\"       \"NO3_USF\"            "
      ]
     },
     "metadata": {},
     "output_type": "display_data"
    }
   ],
   "source": [
    "names(niskin_ds)"
   ]
  },
  {
   "cell_type": "code",
   "execution_count": 7,
   "metadata": {},
   "outputs": [],
   "source": [
    "niskin_ds_cleaned <- niskin_ds %>%\n",
    "    select(-X)"
   ]
  },
  {
   "cell_type": "code",
   "execution_count": 8,
   "metadata": {},
   "outputs": [],
   "source": [
    "niskin_ds_35m <- read.csv(\"DATA/January/Niskin_qchecked_35m.csv\")\n",
    "\n",
    "# rename cols to separate\n",
    "colnames(niskin_ds_35m)<-paste(colnames(niskin_ds_35m),\"35m\",sep=\"_\")\n",
    "\n",
    "niskin_ds_cleaned_35m <- niskin_ds_35m %>%\n",
    " mutate(time_month = time_month_35m) %>%\n",
    "    select(-X_35m, -time_month_35m)"
   ]
  },
  {
   "cell_type": "code",
   "execution_count": 9,
   "metadata": {},
   "outputs": [],
   "source": [
    "niskin_ds_35to100m <- read.csv(\"DATA/January/Niskin_qchecked_35to100m.csv\")\n",
    "\n",
    "# rename cols to separate\n",
    "colnames(niskin_ds_35to100m)<-paste(colnames(niskin_ds_35to100m),\"35to100m\",sep=\"_\")\n",
    "\n",
    "niskin_ds_cleaned_35to100m <- niskin_ds_35to100m %>%\n",
    " mutate(time_month = time_month_35to100m) %>%\n",
    "    select(-X_35to100m, -time_month_35to100m)"
   ]
  },
  {
   "cell_type": "code",
   "execution_count": 27,
   "metadata": {},
   "outputs": [
    {
     "data": {
      "text/html": [
       "<style>\n",
       ".list-inline {list-style: none; margin:0; padding: 0}\n",
       ".list-inline>li {display: inline-block}\n",
       ".list-inline>li:not(:last-child)::after {content: \"\\00b7\"; padding: 0 .5ex}\n",
       "</style>\n",
       "<ol class=list-inline><li>'NO3_UDO_35m'</li><li>'PO4_UDO_35m'</li><li>'SiO4_UDO_35m'</li><li>'NH4_USF_35m'</li><li>'NO2_USF_35m'</li><li>'NO3_NO2_USF_35m'</li><li>'PO4_USF_35m'</li><li>'SiO4_USF_35m'</li><li>'pH_corrected_35m'</li><li>'Salinity_bottles_35m'</li><li>'Temperature_35m'</li><li>'Sigma_t_35m'</li><li>'PrimaryProductivity_35m'</li><li>'Chlorophyll_35m'</li><li>'Phaeopigments_35m'</li><li>'NO3_USF_35m'</li><li>'time_month'</li></ol>\n"
      ],
      "text/latex": [
       "\\begin{enumerate*}\n",
       "\\item 'NO3\\_UDO\\_35m'\n",
       "\\item 'PO4\\_UDO\\_35m'\n",
       "\\item 'SiO4\\_UDO\\_35m'\n",
       "\\item 'NH4\\_USF\\_35m'\n",
       "\\item 'NO2\\_USF\\_35m'\n",
       "\\item 'NO3\\_NO2\\_USF\\_35m'\n",
       "\\item 'PO4\\_USF\\_35m'\n",
       "\\item 'SiO4\\_USF\\_35m'\n",
       "\\item 'pH\\_corrected\\_35m'\n",
       "\\item 'Salinity\\_bottles\\_35m'\n",
       "\\item 'Temperature\\_35m'\n",
       "\\item 'Sigma\\_t\\_35m'\n",
       "\\item 'PrimaryProductivity\\_35m'\n",
       "\\item 'Chlorophyll\\_35m'\n",
       "\\item 'Phaeopigments\\_35m'\n",
       "\\item 'NO3\\_USF\\_35m'\n",
       "\\item 'time\\_month'\n",
       "\\end{enumerate*}\n"
      ],
      "text/markdown": [
       "1. 'NO3_UDO_35m'\n",
       "2. 'PO4_UDO_35m'\n",
       "3. 'SiO4_UDO_35m'\n",
       "4. 'NH4_USF_35m'\n",
       "5. 'NO2_USF_35m'\n",
       "6. 'NO3_NO2_USF_35m'\n",
       "7. 'PO4_USF_35m'\n",
       "8. 'SiO4_USF_35m'\n",
       "9. 'pH_corrected_35m'\n",
       "10. 'Salinity_bottles_35m'\n",
       "11. 'Temperature_35m'\n",
       "12. 'Sigma_t_35m'\n",
       "13. 'PrimaryProductivity_35m'\n",
       "14. 'Chlorophyll_35m'\n",
       "15. 'Phaeopigments_35m'\n",
       "16. 'NO3_USF_35m'\n",
       "17. 'time_month'\n",
       "\n",
       "\n"
      ],
      "text/plain": [
       " [1] \"NO3_UDO_35m\"             \"PO4_UDO_35m\"            \n",
       " [3] \"SiO4_UDO_35m\"            \"NH4_USF_35m\"            \n",
       " [5] \"NO2_USF_35m\"             \"NO3_NO2_USF_35m\"        \n",
       " [7] \"PO4_USF_35m\"             \"SiO4_USF_35m\"           \n",
       " [9] \"pH_corrected_35m\"        \"Salinity_bottles_35m\"   \n",
       "[11] \"Temperature_35m\"         \"Sigma_t_35m\"            \n",
       "[13] \"PrimaryProductivity_35m\" \"Chlorophyll_35m\"        \n",
       "[15] \"Phaeopigments_35m\"       \"NO3_USF_35m\"            \n",
       "[17] \"time_month\"             "
      ]
     },
     "metadata": {},
     "output_type": "display_data"
    }
   ],
   "source": [
    "names(niskin_ds_cleaned_35m)"
   ]
  },
  {
   "cell_type": "markdown",
   "metadata": {},
   "source": [
    "# read SST/CTD data"
   ]
  },
  {
   "cell_type": "markdown",
   "metadata": {},
   "source": [
    "here need to add MLD and isopycnal, reanalyzed because MLD2EuZ is only until 2013"
   ]
  },
  {
   "cell_type": "code",
   "execution_count": 10,
   "metadata": {},
   "outputs": [],
   "source": [
    "ctd_ds <- read.csv(\"DATA/January/CTD_Isotherm21_MLD.csv\")"
   ]
  },
  {
   "cell_type": "code",
   "execution_count": 11,
   "metadata": {},
   "outputs": [
    {
     "data": {
      "text/html": [
       "<style>\n",
       ".list-inline {list-style: none; margin:0; padding: 0}\n",
       ".list-inline>li {display: inline-block}\n",
       ".list-inline>li:not(:last-child)::after {content: \"\\00b7\"; padding: 0 .5ex}\n",
       "</style>\n",
       "<ol class=list-inline><li>'X'</li><li>'date'</li><li>'Isotherm_21'</li><li>'MLD'</li></ol>\n"
      ],
      "text/latex": [
       "\\begin{enumerate*}\n",
       "\\item 'X'\n",
       "\\item 'date'\n",
       "\\item 'Isotherm\\_21'\n",
       "\\item 'MLD'\n",
       "\\end{enumerate*}\n"
      ],
      "text/markdown": [
       "1. 'X'\n",
       "2. 'date'\n",
       "3. 'Isotherm_21'\n",
       "4. 'MLD'\n",
       "\n",
       "\n"
      ],
      "text/plain": [
       "[1] \"X\"           \"date\"        \"Isotherm_21\" \"MLD\"        "
      ]
     },
     "metadata": {},
     "output_type": "display_data"
    }
   ],
   "source": [
    "names(ctd_ds)"
   ]
  },
  {
   "cell_type": "code",
   "execution_count": 12,
   "metadata": {},
   "outputs": [],
   "source": [
    "# add time_month column to ctd ds\n",
    "ctd_ds$date = as.Date(ctd_ds$date, format=\"%Y-%m-%d\")\n",
    "\n",
    "ctd_ds_month <- ctd_ds %>%\n",
    "  mutate(time_month = format(date, format = \"%m-%Y\"))"
   ]
  },
  {
   "cell_type": "code",
   "execution_count": 13,
   "metadata": {},
   "outputs": [
    {
     "data": {
      "text/html": [
       "<table>\n",
       "<caption>A data.frame: 6 × 5</caption>\n",
       "<thead>\n",
       "\t<tr><th></th><th scope=col>X</th><th scope=col>date</th><th scope=col>Isotherm_21</th><th scope=col>MLD</th><th scope=col>time_month</th></tr>\n",
       "\t<tr><th></th><th scope=col>&lt;int&gt;</th><th scope=col>&lt;date&gt;</th><th scope=col>&lt;int&gt;</th><th scope=col>&lt;int&gt;</th><th scope=col>&lt;chr&gt;</th></tr>\n",
       "</thead>\n",
       "<tbody>\n",
       "\t<tr><th scope=row>1</th><td>1</td><td>1995-11-08</td><td>131</td><td>25</td><td>11-1995</td></tr>\n",
       "\t<tr><th scope=row>2</th><td>2</td><td>1995-12-14</td><td>115</td><td>20</td><td>12-1995</td></tr>\n",
       "\t<tr><th scope=row>3</th><td>3</td><td>1996-01-13</td><td>103</td><td>39</td><td>01-1996</td></tr>\n",
       "\t<tr><th scope=row>4</th><td>4</td><td>1996-02-14</td><td> 96</td><td>29</td><td>02-1996</td></tr>\n",
       "\t<tr><th scope=row>5</th><td>5</td><td>1996-03-13</td><td> 49</td><td>33</td><td>03-1996</td></tr>\n",
       "\t<tr><th scope=row>6</th><td>6</td><td>1996-04-16</td><td> 49</td><td>38</td><td>04-1996</td></tr>\n",
       "</tbody>\n",
       "</table>\n"
      ],
      "text/latex": [
       "A data.frame: 6 × 5\n",
       "\\begin{tabular}{r|lllll}\n",
       "  & X & date & Isotherm\\_21 & MLD & time\\_month\\\\\n",
       "  & <int> & <date> & <int> & <int> & <chr>\\\\\n",
       "\\hline\n",
       "\t1 & 1 & 1995-11-08 & 131 & 25 & 11-1995\\\\\n",
       "\t2 & 2 & 1995-12-14 & 115 & 20 & 12-1995\\\\\n",
       "\t3 & 3 & 1996-01-13 & 103 & 39 & 01-1996\\\\\n",
       "\t4 & 4 & 1996-02-14 &  96 & 29 & 02-1996\\\\\n",
       "\t5 & 5 & 1996-03-13 &  49 & 33 & 03-1996\\\\\n",
       "\t6 & 6 & 1996-04-16 &  49 & 38 & 04-1996\\\\\n",
       "\\end{tabular}\n"
      ],
      "text/markdown": [
       "\n",
       "A data.frame: 6 × 5\n",
       "\n",
       "| <!--/--> | X &lt;int&gt; | date &lt;date&gt; | Isotherm_21 &lt;int&gt; | MLD &lt;int&gt; | time_month &lt;chr&gt; |\n",
       "|---|---|---|---|---|---|\n",
       "| 1 | 1 | 1995-11-08 | 131 | 25 | 11-1995 |\n",
       "| 2 | 2 | 1995-12-14 | 115 | 20 | 12-1995 |\n",
       "| 3 | 3 | 1996-01-13 | 103 | 39 | 01-1996 |\n",
       "| 4 | 4 | 1996-02-14 |  96 | 29 | 02-1996 |\n",
       "| 5 | 5 | 1996-03-13 |  49 | 33 | 03-1996 |\n",
       "| 6 | 6 | 1996-04-16 |  49 | 38 | 04-1996 |\n",
       "\n"
      ],
      "text/plain": [
       "  X date       Isotherm_21 MLD time_month\n",
       "1 1 1995-11-08 131         25  11-1995   \n",
       "2 2 1995-12-14 115         20  12-1995   \n",
       "3 3 1996-01-13 103         39  01-1996   \n",
       "4 4 1996-02-14  96         29  02-1996   \n",
       "5 5 1996-03-13  49         33  03-1996   \n",
       "6 6 1996-04-16  49         38  04-1996   "
      ]
     },
     "metadata": {},
     "output_type": "display_data"
    }
   ],
   "source": [
    "head(ctd_ds_month)"
   ]
  },
  {
   "cell_type": "code",
   "execution_count": 14,
   "metadata": {},
   "outputs": [],
   "source": [
    "ctd_ds_month_cleaned <- ctd_ds_month %>%\n",
    "    select(-X, -date)"
   ]
  },
  {
   "cell_type": "markdown",
   "metadata": {},
   "source": [
    "# read Phytoplankton data\n",
    "\n",
    "- func group counts : these are only counts, not that meaningful, should be presence absence\n",
    "\n",
    "- species richness : more useful"
   ]
  },
  {
   "cell_type": "markdown",
   "metadata": {},
   "source": [
    "### HPLC func group + Tchla\n"
   ]
  },
  {
   "cell_type": "code",
   "execution_count": 15,
   "metadata": {},
   "outputs": [
    {
     "data": {
      "text/html": [
       "<style>\n",
       ".list-inline {list-style: none; margin:0; padding: 0}\n",
       ".list-inline>li {display: inline-block}\n",
       ".list-inline>li:not(:last-child)::after {content: \"\\00b7\"; padding: 0 .5ex}\n",
       "</style>\n",
       "<ol class=list-inline><li>'X'</li><li>'date'</li><li>'Tchla'</li><li>'Prasino3'</li><li>'Dino1'</li><li>'Crypto1'</li><li>'Hapto6'</li><li>'Chloro1'</li><li>'Cyano4'</li><li>'Diatom1'</li></ol>\n"
      ],
      "text/latex": [
       "\\begin{enumerate*}\n",
       "\\item 'X'\n",
       "\\item 'date'\n",
       "\\item 'Tchla'\n",
       "\\item 'Prasino3'\n",
       "\\item 'Dino1'\n",
       "\\item 'Crypto1'\n",
       "\\item 'Hapto6'\n",
       "\\item 'Chloro1'\n",
       "\\item 'Cyano4'\n",
       "\\item 'Diatom1'\n",
       "\\end{enumerate*}\n"
      ],
      "text/markdown": [
       "1. 'X'\n",
       "2. 'date'\n",
       "3. 'Tchla'\n",
       "4. 'Prasino3'\n",
       "5. 'Dino1'\n",
       "6. 'Crypto1'\n",
       "7. 'Hapto6'\n",
       "8. 'Chloro1'\n",
       "9. 'Cyano4'\n",
       "10. 'Diatom1'\n",
       "\n",
       "\n"
      ],
      "text/plain": [
       " [1] \"X\"        \"date\"     \"Tchla\"    \"Prasino3\" \"Dino1\"    \"Crypto1\" \n",
       " [7] \"Hapto6\"   \"Chloro1\"  \"Cyano4\"   \"Diatom1\" "
      ]
     },
     "metadata": {},
     "output_type": "display_data"
    }
   ],
   "source": [
    "# functional group counts integrated\n",
    "\n",
    "HPLC_phyto_ds <- read.csv(\"DATA/January/HPLC_Tchla_FuncType_sum100m.csv\")\n",
    "\n",
    "names(HPLC_phyto_ds)"
   ]
  },
  {
   "cell_type": "code",
   "execution_count": 16,
   "metadata": {},
   "outputs": [
    {
     "name": "stdout",
     "output_type": "stream",
     "text": [
      "'data.frame':\t163 obs. of  9 variables:\n",
      " $ Tchla     : num  13.5 44.2 28.8 21.3 171.9 ...\n",
      " $ Prasino3  : num  2.54 1.43 1.64 0.49 1.11 1.11 4.43 0.89 4.19 0.82 ...\n",
      " $ Dino1     : num  0.96 6.33 1.84 1.8 2.72 0.01 0.79 1.03 0.57 1.05 ...\n",
      " $ Crypto1   : num  0.66 1.08 1.93 0.92 2.76 0.22 3.81 0.19 0.14 0.64 ...\n",
      " $ Hapto6    : num  2.67 3.03 2.18 2.05 50.81 ...\n",
      " $ Chloro1   : num  0 0.59 0 0.09 11.84 ...\n",
      " $ Cyano4    : num  0.83 0.46 0.34 0.27 1.36 0.54 0.11 2.7 1.42 2.91 ...\n",
      " $ Diatom1   : num  5.87 29.02 20.23 14.93 101.3 ...\n",
      " $ time_month: chr  \"12-1995\" \"01-1996\" \"02-1996\" \"03-1996\" ...\n"
     ]
    }
   ],
   "source": [
    "# add time_month column to ctd ds\n",
    "HPLC_phyto_ds$date = as.Date(HPLC_phyto_ds$date, format=\"%Y-%m-%d\")\n",
    "\n",
    "HPLC_phyto_ds_month <- HPLC_phyto_ds %>%\n",
    "  mutate(time_month = format(date, format = \"%m-%Y\")) %>%\n",
    "  select(-X, -date)\n",
    "\n",
    "str(HPLC_phyto_ds_month)"
   ]
  },
  {
   "cell_type": "markdown",
   "metadata": {},
   "source": [
    "# Read Zooplankton Data"
   ]
  },
  {
   "cell_type": "code",
   "execution_count": 17,
   "metadata": {},
   "outputs": [
    {
     "data": {
      "text/html": [
       "<style>\n",
       ".list-inline {list-style: none; margin:0; padding: 0}\n",
       ".list-inline>li {display: inline-block}\n",
       ".list-inline>li:not(:last-child)::after {content: \"\\00b7\"; padding: 0 .5ex}\n",
       "</style>\n",
       "<ol class=list-inline><li>'X'</li><li>'Date'</li><li>'Mesh200'</li><li>'Mesh500'</li><li>'total_biomass'</li></ol>\n"
      ],
      "text/latex": [
       "\\begin{enumerate*}\n",
       "\\item 'X'\n",
       "\\item 'Date'\n",
       "\\item 'Mesh200'\n",
       "\\item 'Mesh500'\n",
       "\\item 'total\\_biomass'\n",
       "\\end{enumerate*}\n"
      ],
      "text/markdown": [
       "1. 'X'\n",
       "2. 'Date'\n",
       "3. 'Mesh200'\n",
       "4. 'Mesh500'\n",
       "5. 'total_biomass'\n",
       "\n",
       "\n"
      ],
      "text/plain": [
       "[1] \"X\"             \"Date\"          \"Mesh200\"       \"Mesh500\"      \n",
       "[5] \"total_biomass\""
      ]
     },
     "metadata": {},
     "output_type": "display_data"
    }
   ],
   "source": [
    "zoo_ds <- read.csv(\"DataPipeline/ZooplanktonBiomass_CleanedAggregated.csv\")\n",
    "\n",
    "names(zoo_ds)"
   ]
  },
  {
   "cell_type": "code",
   "execution_count": 18,
   "metadata": {},
   "outputs": [],
   "source": [
    "# add time_month column to ctd ds\n",
    "zoo_ds$date = as.Date(zoo_ds$Date, format=\"%Y-%m-%d\")\n",
    "\n",
    "zoo_ds_month <- zoo_ds %>%\n",
    "  mutate(time_month = format(date, format = \"%m-%Y\"))"
   ]
  },
  {
   "cell_type": "code",
   "execution_count": 19,
   "metadata": {},
   "outputs": [],
   "source": [
    "zoo_ds_month_cleaned <- zoo_ds_month %>%\n",
    "    select(-X, -Date, -date)"
   ]
  },
  {
   "cell_type": "code",
   "execution_count": 20,
   "metadata": {},
   "outputs": [],
   "source": [
    "#zoo_ds_month_cleaned"
   ]
  },
  {
   "cell_type": "markdown",
   "metadata": {},
   "source": [
    "# Read Satellite DATA"
   ]
  },
  {
   "cell_type": "code",
   "execution_count": 21,
   "metadata": {},
   "outputs": [],
   "source": [
    "SeaWiFS_raw <- read.csv(\"SatelliteData/MERGE/SeaWiFS_monthly_mean.csv\")\n",
    "\n",
    "MODIS_raw <- read.csv(\"SatelliteData/MERGE/MODIS_monthly_mean.csv\")\n",
    "\n",
    "SatCONCAT_raw <- read.csv(\"SatelliteData/MERGE/SatelliteCONCAT_monthly_mean.csv\")"
   ]
  },
  {
   "cell_type": "code",
   "execution_count": 22,
   "metadata": {},
   "outputs": [
    {
     "data": {
      "text/html": [
       "<table>\n",
       "<caption>A data.frame: 6 × 7</caption>\n",
       "<thead>\n",
       "\t<tr><th></th><th scope=col>date</th><th scope=col>year</th><th scope=col>month</th><th scope=col>day</th><th scope=col>lon</th><th scope=col>lat</th><th scope=col>value</th></tr>\n",
       "\t<tr><th></th><th scope=col>&lt;chr&gt;</th><th scope=col>&lt;dbl&gt;</th><th scope=col>&lt;dbl&gt;</th><th scope=col>&lt;dbl&gt;</th><th scope=col>&lt;dbl&gt;</th><th scope=col>&lt;dbl&gt;</th><th scope=col>&lt;dbl&gt;</th></tr>\n",
       "</thead>\n",
       "<tbody>\n",
       "\t<tr><th scope=row>1</th><td>1997-10-31</td><td>1997</td><td>10</td><td>16</td><td>-64.6835</td><td>10.6875</td><td>0.2311170</td></tr>\n",
       "\t<tr><th scope=row>2</th><td>1997-11-30</td><td>1997</td><td>11</td><td>15</td><td>-64.6835</td><td>10.6875</td><td>0.6380158</td></tr>\n",
       "\t<tr><th scope=row>3</th><td>1997-12-31</td><td>1997</td><td>12</td><td>16</td><td>-64.6835</td><td>10.6875</td><td>0.9182222</td></tr>\n",
       "\t<tr><th scope=row>4</th><td>1998-01-31</td><td>1998</td><td> 1</td><td>16</td><td>-64.6835</td><td>10.6875</td><td>1.2453725</td></tr>\n",
       "\t<tr><th scope=row>5</th><td>1998-02-28</td><td>1998</td><td> 2</td><td>14</td><td>-64.6835</td><td>10.6875</td><td>0.5960208</td></tr>\n",
       "\t<tr><th scope=row>6</th><td>1998-03-31</td><td>1998</td><td> 3</td><td>16</td><td>-64.6835</td><td>10.6875</td><td>1.9649349</td></tr>\n",
       "</tbody>\n",
       "</table>\n"
      ],
      "text/latex": [
       "A data.frame: 6 × 7\n",
       "\\begin{tabular}{r|lllllll}\n",
       "  & date & year & month & day & lon & lat & value\\\\\n",
       "  & <chr> & <dbl> & <dbl> & <dbl> & <dbl> & <dbl> & <dbl>\\\\\n",
       "\\hline\n",
       "\t1 & 1997-10-31 & 1997 & 10 & 16 & -64.6835 & 10.6875 & 0.2311170\\\\\n",
       "\t2 & 1997-11-30 & 1997 & 11 & 15 & -64.6835 & 10.6875 & 0.6380158\\\\\n",
       "\t3 & 1997-12-31 & 1997 & 12 & 16 & -64.6835 & 10.6875 & 0.9182222\\\\\n",
       "\t4 & 1998-01-31 & 1998 &  1 & 16 & -64.6835 & 10.6875 & 1.2453725\\\\\n",
       "\t5 & 1998-02-28 & 1998 &  2 & 14 & -64.6835 & 10.6875 & 0.5960208\\\\\n",
       "\t6 & 1998-03-31 & 1998 &  3 & 16 & -64.6835 & 10.6875 & 1.9649349\\\\\n",
       "\\end{tabular}\n"
      ],
      "text/markdown": [
       "\n",
       "A data.frame: 6 × 7\n",
       "\n",
       "| <!--/--> | date &lt;chr&gt; | year &lt;dbl&gt; | month &lt;dbl&gt; | day &lt;dbl&gt; | lon &lt;dbl&gt; | lat &lt;dbl&gt; | value &lt;dbl&gt; |\n",
       "|---|---|---|---|---|---|---|---|\n",
       "| 1 | 1997-10-31 | 1997 | 10 | 16 | -64.6835 | 10.6875 | 0.2311170 |\n",
       "| 2 | 1997-11-30 | 1997 | 11 | 15 | -64.6835 | 10.6875 | 0.6380158 |\n",
       "| 3 | 1997-12-31 | 1997 | 12 | 16 | -64.6835 | 10.6875 | 0.9182222 |\n",
       "| 4 | 1998-01-31 | 1998 |  1 | 16 | -64.6835 | 10.6875 | 1.2453725 |\n",
       "| 5 | 1998-02-28 | 1998 |  2 | 14 | -64.6835 | 10.6875 | 0.5960208 |\n",
       "| 6 | 1998-03-31 | 1998 |  3 | 16 | -64.6835 | 10.6875 | 1.9649349 |\n",
       "\n"
      ],
      "text/plain": [
       "  date       year month day lon      lat     value    \n",
       "1 1997-10-31 1997 10    16  -64.6835 10.6875 0.2311170\n",
       "2 1997-11-30 1997 11    15  -64.6835 10.6875 0.6380158\n",
       "3 1997-12-31 1997 12    16  -64.6835 10.6875 0.9182222\n",
       "4 1998-01-31 1998  1    16  -64.6835 10.6875 1.2453725\n",
       "5 1998-02-28 1998  2    14  -64.6835 10.6875 0.5960208\n",
       "6 1998-03-31 1998  3    16  -64.6835 10.6875 1.9649349"
      ]
     },
     "metadata": {},
     "output_type": "display_data"
    }
   ],
   "source": [
    "head(SeaWiFS_raw)"
   ]
  },
  {
   "cell_type": "code",
   "execution_count": 23,
   "metadata": {},
   "outputs": [],
   "source": [
    "# add time_month column to ctd ds\n",
    "SeaWiFS_raw$date = as.Date(SeaWiFS_raw$date, format=\"%Y-%m-%d\")\n",
    "MODIS_raw$date = as.Date(MODIS_raw$date, format=\"%Y-%m-%d\")\n",
    "SatCONCAT_raw$date = as.Date(SatCONCAT_raw$date, format=\"%Y-%m-%d\")\n",
    "\n",
    "SeaWiFS_month <- SeaWiFS_raw %>%\n",
    "  mutate(time_month = format(date, format = \"%m-%Y\"), SeaWiFS_chla=value) %>%\n",
    "    select(time_month, SeaWiFS_chla)\n",
    "\n",
    "MODIS_month <- MODIS_raw %>%\n",
    "  mutate(time_month = format(date, format = \"%m-%Y\"), MODIS_chla=value) %>%\n",
    "    select(time_month, MODIS_chla)\n",
    "\n",
    "SatCONCAT_month <- SatCONCAT_raw %>%\n",
    "  mutate(time_month = format(date, format = \"%m-%Y\"), Satellite_chla=value) %>%\n",
    "    select(time_month, Satellite_chla)"
   ]
  },
  {
   "cell_type": "code",
   "execution_count": null,
   "metadata": {},
   "outputs": [],
   "source": []
  },
  {
   "cell_type": "markdown",
   "metadata": {},
   "source": [
    "# NOW MERGE!"
   ]
  },
  {
   "cell_type": "raw",
   "metadata": {},
   "source": [
    "datasets=\n",
    "\n",
    "    wind_ds_cleaned\n",
    "\n",
    "    niskin_ds_cleaned\n",
    "\n",
    "    ctd_ds_month_cleaned\n",
    "    \n",
    "    HPLC_phyto_ds_month\n",
    "    \n",
    "    zoo_ds_month_cleaned\n",
    "    \n",
    "    MODIS + SeaWiFS"
   ]
  },
  {
   "cell_type": "code",
   "execution_count": 28,
   "metadata": {},
   "outputs": [],
   "source": [
    "require(purrr)\n",
    "require(dplyr)\n",
    "\n",
    "CARIACO_dat_joined <- list(wind_ds_cleaned, \n",
    "                           niskin_ds_cleaned, \n",
    "                           niskin_ds_cleaned_35m,\n",
    "                           niskin_ds_cleaned_35to100m,\n",
    "                           ctd_ds_month_cleaned, \n",
    "                           HPLC_phyto_ds_month,\n",
    "                           zoo_ds_month_cleaned,\n",
    "                           SeaWiFS_month,\n",
    "                           MODIS_month,\n",
    "                           SatCONCAT_month\n",
    "                          ) %>% \n",
    "  reduce(full_join, by = c(\"time_month\"))"
   ]
  },
  {
   "cell_type": "code",
   "execution_count": 29,
   "metadata": {},
   "outputs": [
    {
     "data": {
      "text/html": [
       "<style>\n",
       ".list-inline {list-style: none; margin:0; padding: 0}\n",
       ".list-inline>li {display: inline-block}\n",
       ".list-inline>li:not(:last-child)::after {content: \"\\00b7\"; padding: 0 .5ex}\n",
       "</style>\n",
       "<ol class=list-inline><li>'01-1979'</li><li>'02-1979'</li><li>'03-1979'</li><li>'04-1979'</li><li>'05-1979'</li><li>'06-1979'</li></ol>\n"
      ],
      "text/latex": [
       "\\begin{enumerate*}\n",
       "\\item '01-1979'\n",
       "\\item '02-1979'\n",
       "\\item '03-1979'\n",
       "\\item '04-1979'\n",
       "\\item '05-1979'\n",
       "\\item '06-1979'\n",
       "\\end{enumerate*}\n"
      ],
      "text/markdown": [
       "1. '01-1979'\n",
       "2. '02-1979'\n",
       "3. '03-1979'\n",
       "4. '04-1979'\n",
       "5. '05-1979'\n",
       "6. '06-1979'\n",
       "\n",
       "\n"
      ],
      "text/plain": [
       "[1] \"01-1979\" \"02-1979\" \"03-1979\" \"04-1979\" \"05-1979\" \"06-1979\""
      ]
     },
     "metadata": {},
     "output_type": "display_data"
    }
   ],
   "source": [
    "head(CARIACO_dat_joined$time_month)"
   ]
  },
  {
   "cell_type": "code",
   "execution_count": 30,
   "metadata": {},
   "outputs": [],
   "source": [
    "CARIACO_dat_joined_truncated <- CARIACO_dat_joined[203:518,]"
   ]
  },
  {
   "cell_type": "code",
   "execution_count": 31,
   "metadata": {},
   "outputs": [],
   "source": [
    "write.csv(CARIACO_dat_joined_truncated, \"DATA/January/Combined_CARIACO_data_v5.csv\")"
   ]
  },
  {
   "cell_type": "code",
   "execution_count": null,
   "metadata": {},
   "outputs": [],
   "source": []
  },
  {
   "cell_type": "code",
   "execution_count": 55,
   "metadata": {},
   "outputs": [
    {
     "data": {
      "text/html": [
       "500"
      ],
      "text/latex": [
       "500"
      ],
      "text/markdown": [
       "500"
      ],
      "text/plain": [
       "[1] 500"
      ]
     },
     "metadata": {},
     "output_type": "display_data"
    }
   ],
   "source": [
    "#length(CARIACO_dat_joined$time_month)"
   ]
  },
  {
   "cell_type": "code",
   "execution_count": null,
   "metadata": {},
   "outputs": [],
   "source": []
  }
 ],
 "metadata": {
  "kernelspec": {
   "display_name": "R",
   "language": "R",
   "name": "ir"
  },
  "language_info": {
   "codemirror_mode": "r",
   "file_extension": ".r",
   "mimetype": "text/x-r-source",
   "name": "R",
   "pygments_lexer": "r",
   "version": "4.0.2"
  }
 },
 "nbformat": 4,
 "nbformat_minor": 4
}
