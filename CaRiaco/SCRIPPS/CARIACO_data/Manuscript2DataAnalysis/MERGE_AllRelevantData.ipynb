{
 "cells": [
  {
   "cell_type": "code",
   "execution_count": 5,
   "metadata": {},
   "outputs": [
    {
     "name": "stderr",
     "output_type": "stream",
     "text": [
      "── \u001b[1mAttaching packages\u001b[22m ──────────────────────────────────────────────────────────── tidyverse 1.3.1 ──\n",
      "\n",
      "\u001b[32m✔\u001b[39m \u001b[34mggplot2\u001b[39m 3.3.5     \u001b[32m✔\u001b[39m \u001b[34mpurrr  \u001b[39m 0.3.4\n",
      "\u001b[32m✔\u001b[39m \u001b[34mtibble \u001b[39m 3.1.3     \u001b[32m✔\u001b[39m \u001b[34mdplyr  \u001b[39m 1.0.7\n",
      "\u001b[32m✔\u001b[39m \u001b[34mtidyr  \u001b[39m 1.1.3     \u001b[32m✔\u001b[39m \u001b[34mstringr\u001b[39m 1.4.0\n",
      "\u001b[32m✔\u001b[39m \u001b[34mreadr  \u001b[39m 2.0.0     \u001b[32m✔\u001b[39m \u001b[34mforcats\u001b[39m 0.5.1\n",
      "\n",
      "── \u001b[1mConflicts\u001b[22m ─────────────────────────────────────────────────────────────── tidyverse_conflicts() ──\n",
      "\u001b[31m✖\u001b[39m \u001b[34mdplyr\u001b[39m::\u001b[32mfilter()\u001b[39m masks \u001b[34mstats\u001b[39m::filter()\n",
      "\u001b[31m✖\u001b[39m \u001b[34mdplyr\u001b[39m::\u001b[32mlag()\u001b[39m    masks \u001b[34mstats\u001b[39m::lag()\n",
      "\n"
     ]
    }
   ],
   "source": [
    "library(tidyverse)#, warn.conflicts = FALSE)\n",
    "\n",
    "# library to read matlab data formats into R\n",
    "#library(reshape2)\n",
    "#library(lubridate)\n",
    "\n",
    "# set strings as factors to false\n",
    "options(stringsAsFactors = FALSE)"
   ]
  },
  {
   "cell_type": "markdown",
   "metadata": {},
   "source": [
    "# read WIND data"
   ]
  },
  {
   "cell_type": "code",
   "execution_count": 6,
   "metadata": {},
   "outputs": [],
   "source": [
    "wind_ds <- read.csv(\"DATA/ERA5_CombinedMonthlyData.csv\")"
   ]
  },
  {
   "cell_type": "code",
   "execution_count": 7,
   "metadata": {},
   "outputs": [
    {
     "data": {
      "text/html": [
       "<style>\n",
       ".list-inline {list-style: none; margin:0; padding: 0}\n",
       ".list-inline>li {display: inline-block}\n",
       ".list-inline>li:not(:last-child)::after {content: \"\\00b7\"; padding: 0 .5ex}\n",
       "</style>\n",
       "<ol class=list-inline><li>'X'</li><li>'time.x'</li><li>'cdww'</li><li>'iews'</li><li>'inss'</li><li>'mcc'</li><li>'mwp'</li><li>'si10'</li><li>'sp'</li><li>'sst'</li><li>'t2m'</li><li>'tauoc'</li><li>'u10'</li><li>'ust'</li><li>'v10'</li><li>'v10n'</li><li>'vst'</li><li>'wind'</li><li>'time_month'</li><li>'time.y'</li><li>'cdir'</li><li>'e'</li><li>'ewss'</li><li>'i10fg'</li><li>'lsp'</li><li>'magss'</li><li>'mer'</li><li>'metss'</li><li>'mmtss'</li><li>'mntss'</li><li>'mtpr'</li><li>'nsss'</li><li>'sshf'</li><li>'tp'</li></ol>\n"
      ],
      "text/latex": [
       "\\begin{enumerate*}\n",
       "\\item 'X'\n",
       "\\item 'time.x'\n",
       "\\item 'cdww'\n",
       "\\item 'iews'\n",
       "\\item 'inss'\n",
       "\\item 'mcc'\n",
       "\\item 'mwp'\n",
       "\\item 'si10'\n",
       "\\item 'sp'\n",
       "\\item 'sst'\n",
       "\\item 't2m'\n",
       "\\item 'tauoc'\n",
       "\\item 'u10'\n",
       "\\item 'ust'\n",
       "\\item 'v10'\n",
       "\\item 'v10n'\n",
       "\\item 'vst'\n",
       "\\item 'wind'\n",
       "\\item 'time\\_month'\n",
       "\\item 'time.y'\n",
       "\\item 'cdir'\n",
       "\\item 'e'\n",
       "\\item 'ewss'\n",
       "\\item 'i10fg'\n",
       "\\item 'lsp'\n",
       "\\item 'magss'\n",
       "\\item 'mer'\n",
       "\\item 'metss'\n",
       "\\item 'mmtss'\n",
       "\\item 'mntss'\n",
       "\\item 'mtpr'\n",
       "\\item 'nsss'\n",
       "\\item 'sshf'\n",
       "\\item 'tp'\n",
       "\\end{enumerate*}\n"
      ],
      "text/markdown": [
       "1. 'X'\n",
       "2. 'time.x'\n",
       "3. 'cdww'\n",
       "4. 'iews'\n",
       "5. 'inss'\n",
       "6. 'mcc'\n",
       "7. 'mwp'\n",
       "8. 'si10'\n",
       "9. 'sp'\n",
       "10. 'sst'\n",
       "11. 't2m'\n",
       "12. 'tauoc'\n",
       "13. 'u10'\n",
       "14. 'ust'\n",
       "15. 'v10'\n",
       "16. 'v10n'\n",
       "17. 'vst'\n",
       "18. 'wind'\n",
       "19. 'time_month'\n",
       "20. 'time.y'\n",
       "21. 'cdir'\n",
       "22. 'e'\n",
       "23. 'ewss'\n",
       "24. 'i10fg'\n",
       "25. 'lsp'\n",
       "26. 'magss'\n",
       "27. 'mer'\n",
       "28. 'metss'\n",
       "29. 'mmtss'\n",
       "30. 'mntss'\n",
       "31. 'mtpr'\n",
       "32. 'nsss'\n",
       "33. 'sshf'\n",
       "34. 'tp'\n",
       "\n",
       "\n"
      ],
      "text/plain": [
       " [1] \"X\"          \"time.x\"     \"cdww\"       \"iews\"       \"inss\"      \n",
       " [6] \"mcc\"        \"mwp\"        \"si10\"       \"sp\"         \"sst\"       \n",
       "[11] \"t2m\"        \"tauoc\"      \"u10\"        \"ust\"        \"v10\"       \n",
       "[16] \"v10n\"       \"vst\"        \"wind\"       \"time_month\" \"time.y\"    \n",
       "[21] \"cdir\"       \"e\"          \"ewss\"       \"i10fg\"      \"lsp\"       \n",
       "[26] \"magss\"      \"mer\"        \"metss\"      \"mmtss\"      \"mntss\"     \n",
       "[31] \"mtpr\"       \"nsss\"       \"sshf\"       \"tp\"        "
      ]
     },
     "metadata": {},
     "output_type": "display_data"
    }
   ],
   "source": [
    "names(wind_ds)"
   ]
  },
  {
   "cell_type": "code",
   "execution_count": 8,
   "metadata": {},
   "outputs": [
    {
     "data": {
      "text/html": [
       "197"
      ],
      "text/latex": [
       "197"
      ],
      "text/markdown": [
       "197"
      ],
      "text/plain": [
       "[1] 197"
      ]
     },
     "metadata": {},
     "output_type": "display_data"
    },
    {
     "data": {
      "text/html": [
       "197"
      ],
      "text/latex": [
       "197"
      ],
      "text/markdown": [
       "197"
      ],
      "text/plain": [
       "[1] 197"
      ]
     },
     "metadata": {},
     "output_type": "display_data"
    }
   ],
   "source": [
    "# limit time range to necessary_values\n",
    "\n",
    "wind_ds[wind_ds$time_month == \"05-1995\",]$X\n",
    "\n",
    "wind_ds[wind_ds$time_month == \"05-1995\",]$X"
   ]
  },
  {
   "cell_type": "code",
   "execution_count": 9,
   "metadata": {},
   "outputs": [],
   "source": [
    "wind_ds_cleaned <- wind_ds %>%\n",
    "    select(-X, -time.x, -time.y)"
   ]
  },
  {
   "cell_type": "markdown",
   "metadata": {},
   "source": [
    "# read NISKIN data"
   ]
  },
  {
   "cell_type": "code",
   "execution_count": 10,
   "metadata": {},
   "outputs": [],
   "source": [
    "niskin_ds <- read.csv(\"DATA/Niskin_mergedNutrients.csv\")"
   ]
  },
  {
   "cell_type": "code",
   "execution_count": 11,
   "metadata": {},
   "outputs": [
    {
     "data": {
      "text/html": [
       "<style>\n",
       ".list-inline {list-style: none; margin:0; padding: 0}\n",
       ".list-inline>li {display: inline-block}\n",
       ".list-inline>li:not(:last-child)::after {content: \"\\00b7\"; padding: 0 .5ex}\n",
       "</style>\n",
       "<ol class=list-inline><li>'X'</li><li>'O2_ml_L'</li><li>'time_month'</li><li>'O2_umol_kg'</li><li>'NO3_UDO'</li><li>'PO4_UDO'</li><li>'SiO4_UDO'</li><li>'NH4_USF'</li><li>'NO2_USF'</li><li>'NO3_NO2_USF'</li><li>'PO4_USF'</li><li>'SiO4_USF'</li><li>'pH'</li><li>'Alkalinity_mol_kg'</li><li>'Alkalinity_umol_kg'</li><li>'TCO2'</li><li>'fCO2'</li><li>'pH_corrected'</li><li>'TCO2_corrected'</li><li>'fCO2_corrected'</li><li>'Salinity_bottles'</li><li>'Salinity_CTD'</li><li>'Temperature'</li><li>'Sigma_t'</li><li>'TPP'</li><li>'PIP'</li><li>'POC_ug_kg'</li><li>'PON_ug_kg'</li><li>'POC_ug_L'</li><li>'PN_ug_L'</li><li>'C_N_particulate'</li><li>'DON'</li><li>'DOP'</li><li>'DOC'</li><li>'TOC'</li><li>'PrimaryProductivity'</li><li>'Chlorophyll'</li><li>'Phaeopigments'</li><li>'Total_Prokaryotes'</li><li>'Bact_Biomass_mgC_m3'</li><li>'Bact_Biomass_uMC'</li><li>'NO3_USF'</li><li>'NO3_merged'</li><li>'PO4_merged'</li><li>'SiO4_merged'</li></ol>\n"
      ],
      "text/latex": [
       "\\begin{enumerate*}\n",
       "\\item 'X'\n",
       "\\item 'O2\\_ml\\_L'\n",
       "\\item 'time\\_month'\n",
       "\\item 'O2\\_umol\\_kg'\n",
       "\\item 'NO3\\_UDO'\n",
       "\\item 'PO4\\_UDO'\n",
       "\\item 'SiO4\\_UDO'\n",
       "\\item 'NH4\\_USF'\n",
       "\\item 'NO2\\_USF'\n",
       "\\item 'NO3\\_NO2\\_USF'\n",
       "\\item 'PO4\\_USF'\n",
       "\\item 'SiO4\\_USF'\n",
       "\\item 'pH'\n",
       "\\item 'Alkalinity\\_mol\\_kg'\n",
       "\\item 'Alkalinity\\_umol\\_kg'\n",
       "\\item 'TCO2'\n",
       "\\item 'fCO2'\n",
       "\\item 'pH\\_corrected'\n",
       "\\item 'TCO2\\_corrected'\n",
       "\\item 'fCO2\\_corrected'\n",
       "\\item 'Salinity\\_bottles'\n",
       "\\item 'Salinity\\_CTD'\n",
       "\\item 'Temperature'\n",
       "\\item 'Sigma\\_t'\n",
       "\\item 'TPP'\n",
       "\\item 'PIP'\n",
       "\\item 'POC\\_ug\\_kg'\n",
       "\\item 'PON\\_ug\\_kg'\n",
       "\\item 'POC\\_ug\\_L'\n",
       "\\item 'PN\\_ug\\_L'\n",
       "\\item 'C\\_N\\_particulate'\n",
       "\\item 'DON'\n",
       "\\item 'DOP'\n",
       "\\item 'DOC'\n",
       "\\item 'TOC'\n",
       "\\item 'PrimaryProductivity'\n",
       "\\item 'Chlorophyll'\n",
       "\\item 'Phaeopigments'\n",
       "\\item 'Total\\_Prokaryotes'\n",
       "\\item 'Bact\\_Biomass\\_mgC\\_m3'\n",
       "\\item 'Bact\\_Biomass\\_uMC'\n",
       "\\item 'NO3\\_USF'\n",
       "\\item 'NO3\\_merged'\n",
       "\\item 'PO4\\_merged'\n",
       "\\item 'SiO4\\_merged'\n",
       "\\end{enumerate*}\n"
      ],
      "text/markdown": [
       "1. 'X'\n",
       "2. 'O2_ml_L'\n",
       "3. 'time_month'\n",
       "4. 'O2_umol_kg'\n",
       "5. 'NO3_UDO'\n",
       "6. 'PO4_UDO'\n",
       "7. 'SiO4_UDO'\n",
       "8. 'NH4_USF'\n",
       "9. 'NO2_USF'\n",
       "10. 'NO3_NO2_USF'\n",
       "11. 'PO4_USF'\n",
       "12. 'SiO4_USF'\n",
       "13. 'pH'\n",
       "14. 'Alkalinity_mol_kg'\n",
       "15. 'Alkalinity_umol_kg'\n",
       "16. 'TCO2'\n",
       "17. 'fCO2'\n",
       "18. 'pH_corrected'\n",
       "19. 'TCO2_corrected'\n",
       "20. 'fCO2_corrected'\n",
       "21. 'Salinity_bottles'\n",
       "22. 'Salinity_CTD'\n",
       "23. 'Temperature'\n",
       "24. 'Sigma_t'\n",
       "25. 'TPP'\n",
       "26. 'PIP'\n",
       "27. 'POC_ug_kg'\n",
       "28. 'PON_ug_kg'\n",
       "29. 'POC_ug_L'\n",
       "30. 'PN_ug_L'\n",
       "31. 'C_N_particulate'\n",
       "32. 'DON'\n",
       "33. 'DOP'\n",
       "34. 'DOC'\n",
       "35. 'TOC'\n",
       "36. 'PrimaryProductivity'\n",
       "37. 'Chlorophyll'\n",
       "38. 'Phaeopigments'\n",
       "39. 'Total_Prokaryotes'\n",
       "40. 'Bact_Biomass_mgC_m3'\n",
       "41. 'Bact_Biomass_uMC'\n",
       "42. 'NO3_USF'\n",
       "43. 'NO3_merged'\n",
       "44. 'PO4_merged'\n",
       "45. 'SiO4_merged'\n",
       "\n",
       "\n"
      ],
      "text/plain": [
       " [1] \"X\"                   \"O2_ml_L\"             \"time_month\"         \n",
       " [4] \"O2_umol_kg\"          \"NO3_UDO\"             \"PO4_UDO\"            \n",
       " [7] \"SiO4_UDO\"            \"NH4_USF\"             \"NO2_USF\"            \n",
       "[10] \"NO3_NO2_USF\"         \"PO4_USF\"             \"SiO4_USF\"           \n",
       "[13] \"pH\"                  \"Alkalinity_mol_kg\"   \"Alkalinity_umol_kg\" \n",
       "[16] \"TCO2\"                \"fCO2\"                \"pH_corrected\"       \n",
       "[19] \"TCO2_corrected\"      \"fCO2_corrected\"      \"Salinity_bottles\"   \n",
       "[22] \"Salinity_CTD\"        \"Temperature\"         \"Sigma_t\"            \n",
       "[25] \"TPP\"                 \"PIP\"                 \"POC_ug_kg\"          \n",
       "[28] \"PON_ug_kg\"           \"POC_ug_L\"            \"PN_ug_L\"            \n",
       "[31] \"C_N_particulate\"     \"DON\"                 \"DOP\"                \n",
       "[34] \"DOC\"                 \"TOC\"                 \"PrimaryProductivity\"\n",
       "[37] \"Chlorophyll\"         \"Phaeopigments\"       \"Total_Prokaryotes\"  \n",
       "[40] \"Bact_Biomass_mgC_m3\" \"Bact_Biomass_uMC\"    \"NO3_USF\"            \n",
       "[43] \"NO3_merged\"          \"PO4_merged\"          \"SiO4_merged\"        "
      ]
     },
     "metadata": {},
     "output_type": "display_data"
    }
   ],
   "source": [
    "names(niskin_ds)"
   ]
  },
  {
   "cell_type": "code",
   "execution_count": 12,
   "metadata": {},
   "outputs": [],
   "source": [
    "niskin_ds_cleaned <- niskin_ds %>%\n",
    "    select(-X)"
   ]
  },
  {
   "cell_type": "markdown",
   "metadata": {},
   "source": [
    "# read SST/CTD data"
   ]
  },
  {
   "cell_type": "markdown",
   "metadata": {},
   "source": [
    "here need to add MLD and isopycnal, reanalyzed because MLD2EuZ is only until 2013"
   ]
  },
  {
   "cell_type": "code",
   "execution_count": 13,
   "metadata": {},
   "outputs": [],
   "source": [
    "ctd_ds <- read.csv(\"DataPipeline/CTD_combinedData.csv\")"
   ]
  },
  {
   "cell_type": "code",
   "execution_count": 14,
   "metadata": {},
   "outputs": [
    {
     "data": {
      "text/html": [
       "<style>\n",
       ".list-inline {list-style: none; margin:0; padding: 0}\n",
       ".list-inline>li {display: inline-block}\n",
       ".list-inline>li:not(:last-child)::after {content: \"\\00b7\"; padding: 0 .5ex}\n",
       "</style>\n",
       "<ol class=list-inline><li>'X'</li><li>'Cruise_ID2'</li><li>'date'</li><li>'temp_5'</li><li>'temp_15'</li><li>'temp_25'</li><li>'temp_75'</li><li>'Isopycnal_21'</li><li>'MLD_potemp'</li></ol>\n"
      ],
      "text/latex": [
       "\\begin{enumerate*}\n",
       "\\item 'X'\n",
       "\\item 'Cruise\\_ID2'\n",
       "\\item 'date'\n",
       "\\item 'temp\\_5'\n",
       "\\item 'temp\\_15'\n",
       "\\item 'temp\\_25'\n",
       "\\item 'temp\\_75'\n",
       "\\item 'Isopycnal\\_21'\n",
       "\\item 'MLD\\_potemp'\n",
       "\\end{enumerate*}\n"
      ],
      "text/markdown": [
       "1. 'X'\n",
       "2. 'Cruise_ID2'\n",
       "3. 'date'\n",
       "4. 'temp_5'\n",
       "5. 'temp_15'\n",
       "6. 'temp_25'\n",
       "7. 'temp_75'\n",
       "8. 'Isopycnal_21'\n",
       "9. 'MLD_potemp'\n",
       "\n",
       "\n"
      ],
      "text/plain": [
       "[1] \"X\"            \"Cruise_ID2\"   \"date\"         \"temp_5\"       \"temp_15\"     \n",
       "[6] \"temp_25\"      \"temp_75\"      \"Isopycnal_21\" \"MLD_potemp\"  "
      ]
     },
     "metadata": {},
     "output_type": "display_data"
    }
   ],
   "source": [
    "names(ctd_ds)"
   ]
  },
  {
   "cell_type": "code",
   "execution_count": 15,
   "metadata": {},
   "outputs": [],
   "source": [
    "# add time_month column to ctd ds\n",
    "ctd_ds$date = as.Date(ctd_ds$date, format=\"%Y-%m-%d\")\n",
    "\n",
    "ctd_ds_month <- ctd_ds %>%\n",
    "  mutate(time_month = format(date, format = \"%m-%Y\"))"
   ]
  },
  {
   "cell_type": "code",
   "execution_count": 16,
   "metadata": {},
   "outputs": [],
   "source": [
    "ctd_ds_month_cleaned <- ctd_ds_month %>%\n",
    "    select(-X, -date, -Cruise_ID2)"
   ]
  },
  {
   "cell_type": "markdown",
   "metadata": {},
   "source": [
    "# read Phytoplankton data\n",
    "\n",
    "- func group counts : these are only counts, not that meaningful, should be presence absence\n",
    "\n",
    "- species richness : more useful"
   ]
  },
  {
   "cell_type": "markdown",
   "metadata": {},
   "source": [
    "### functional group counts integrated\n"
   ]
  },
  {
   "cell_type": "code",
   "execution_count": 17,
   "metadata": {},
   "outputs": [
    {
     "data": {
      "text/html": [
       "<style>\n",
       ".list-inline {list-style: none; margin:0; padding: 0}\n",
       ".list-inline>li {display: inline-block}\n",
       ".list-inline>li:not(:last-child)::after {content: \"\\00b7\"; padding: 0 .5ex}\n",
       "</style>\n",
       "<ol class=list-inline><li>'X'</li><li>'date'</li><li>'COCCOLITHOPHORIDS'</li><li>'DIATOMS'</li><li>'DINOFLAGELLATES'</li><li>'CYANOBACTERIA'</li><li>'OTHERS'</li><li>'NANOFLAGELLATES'</li></ol>\n"
      ],
      "text/latex": [
       "\\begin{enumerate*}\n",
       "\\item 'X'\n",
       "\\item 'date'\n",
       "\\item 'COCCOLITHOPHORIDS'\n",
       "\\item 'DIATOMS'\n",
       "\\item 'DINOFLAGELLATES'\n",
       "\\item 'CYANOBACTERIA'\n",
       "\\item 'OTHERS'\n",
       "\\item 'NANOFLAGELLATES'\n",
       "\\end{enumerate*}\n"
      ],
      "text/markdown": [
       "1. 'X'\n",
       "2. 'date'\n",
       "3. 'COCCOLITHOPHORIDS'\n",
       "4. 'DIATOMS'\n",
       "5. 'DINOFLAGELLATES'\n",
       "6. 'CYANOBACTERIA'\n",
       "7. 'OTHERS'\n",
       "8. 'NANOFLAGELLATES'\n",
       "\n",
       "\n"
      ],
      "text/plain": [
       "[1] \"X\"                 \"date\"              \"COCCOLITHOPHORIDS\"\n",
       "[4] \"DIATOMS\"           \"DINOFLAGELLATES\"   \"CYANOBACTERIA\"    \n",
       "[7] \"OTHERS\"            \"NANOFLAGELLATES\"  "
      ]
     },
     "metadata": {},
     "output_type": "display_data"
    }
   ],
   "source": [
    "# functional group counts integrated\n",
    "\n",
    "fgcounts_phyto_ds <- read.csv(\"DataPipeline/IntegratedPhytoplanktonFuncGroupCounts.csv\")\n",
    "\n",
    "names(fgcounts_phyto_ds)"
   ]
  },
  {
   "cell_type": "code",
   "execution_count": 18,
   "metadata": {},
   "outputs": [],
   "source": [
    "# add time_month column to ctd ds\n",
    "fgcounts_phyto_ds$date = as.Date(fgcounts_phyto_ds$date, format=\"%Y-%m-%d\")\n",
    "\n",
    "fgcounts_phyto_ds_month <- fgcounts_phyto_ds %>%\n",
    "  rename_with( ~ paste0(\"counts_int_\", .x)) %>%\n",
    "  mutate(time_month = format(counts_int_date, format = \"%m-%Y\"))"
   ]
  },
  {
   "cell_type": "markdown",
   "metadata": {},
   "source": [
    "### species richness total\n"
   ]
  },
  {
   "cell_type": "code",
   "execution_count": 19,
   "metadata": {},
   "outputs": [
    {
     "data": {
      "text/html": [
       "<style>\n",
       ".list-inline {list-style: none; margin:0; padding: 0}\n",
       ".list-inline>li {display: inline-block}\n",
       ".list-inline>li:not(:last-child)::after {content: \"\\00b7\"; padding: 0 .5ex}\n",
       "</style>\n",
       "<ol class=list-inline><li>'X'</li><li>'date'</li><li>'species_richness'</li></ol>\n"
      ],
      "text/latex": [
       "\\begin{enumerate*}\n",
       "\\item 'X'\n",
       "\\item 'date'\n",
       "\\item 'species\\_richness'\n",
       "\\end{enumerate*}\n"
      ],
      "text/markdown": [
       "1. 'X'\n",
       "2. 'date'\n",
       "3. 'species_richness'\n",
       "\n",
       "\n"
      ],
      "text/plain": [
       "[1] \"X\"                \"date\"             \"species_richness\""
      ]
     },
     "metadata": {},
     "output_type": "display_data"
    }
   ],
   "source": [
    "# species richness total\n",
    "\n",
    "sr_phyto_ds <- read.csv(\"DataPipeline/IntegratedPhytoplanktonSpeciesRichnessEstimate.csv\")\n",
    "\n",
    "names(sr_phyto_ds)"
   ]
  },
  {
   "cell_type": "code",
   "execution_count": 20,
   "metadata": {},
   "outputs": [],
   "source": [
    "# add time_month column to ctd ds\n",
    "sr_phyto_ds$date = as.Date(sr_phyto_ds$date, format=\"%Y-%m-%d\")\n",
    "\n",
    "sr_phyto_ds_month <- sr_phyto_ds %>%\n",
    "  mutate(time_month = format(date, format = \"%m-%Y\"))"
   ]
  },
  {
   "cell_type": "markdown",
   "metadata": {},
   "source": [
    "### Func Group species richness"
   ]
  },
  {
   "cell_type": "code",
   "execution_count": 21,
   "metadata": {},
   "outputs": [
    {
     "data": {
      "text/html": [
       "<style>\n",
       ".list-inline {list-style: none; margin:0; padding: 0}\n",
       ".list-inline>li {display: inline-block}\n",
       ".list-inline>li:not(:last-child)::after {content: \"\\00b7\"; padding: 0 .5ex}\n",
       "</style>\n",
       "<ol class=list-inline><li>'X'</li><li>'date'</li><li>'COCCOLITHOPHORIDS'</li><li>'CYANOBACTERIA'</li><li>'DIATOMS'</li><li>'DINOFLAGELLATES'</li><li>'OTHERS'</li></ol>\n"
      ],
      "text/latex": [
       "\\begin{enumerate*}\n",
       "\\item 'X'\n",
       "\\item 'date'\n",
       "\\item 'COCCOLITHOPHORIDS'\n",
       "\\item 'CYANOBACTERIA'\n",
       "\\item 'DIATOMS'\n",
       "\\item 'DINOFLAGELLATES'\n",
       "\\item 'OTHERS'\n",
       "\\end{enumerate*}\n"
      ],
      "text/markdown": [
       "1. 'X'\n",
       "2. 'date'\n",
       "3. 'COCCOLITHOPHORIDS'\n",
       "4. 'CYANOBACTERIA'\n",
       "5. 'DIATOMS'\n",
       "6. 'DINOFLAGELLATES'\n",
       "7. 'OTHERS'\n",
       "\n",
       "\n"
      ],
      "text/plain": [
       "[1] \"X\"                 \"date\"              \"COCCOLITHOPHORIDS\"\n",
       "[4] \"CYANOBACTERIA\"     \"DIATOMS\"           \"DINOFLAGELLATES\"  \n",
       "[7] \"OTHERS\"           "
      ]
     },
     "metadata": {},
     "output_type": "display_data"
    }
   ],
   "source": [
    "# species richness per func group\n",
    "\n",
    "fgsr_phyto_ds <- read.csv(\"DataPipeline/IntegratedPhytoplanktonFuncGroupSpeciesRichness.csv\")\n",
    "\n",
    "names(fgsr_phyto_ds)"
   ]
  },
  {
   "cell_type": "code",
   "execution_count": 22,
   "metadata": {},
   "outputs": [],
   "source": [
    "# add time_month column to ctd ds\n",
    "fgsr_phyto_ds$date = as.Date(fgsr_phyto_ds$date, format=\"%Y-%m-%d\")\n",
    "\n",
    "#fgsr_phyto_ds_month %>% rename_with( ~ paste0(\"SR_\", .x))\n",
    "\n",
    "fgsr_phyto_ds_month <- fgsr_phyto_ds %>%\n",
    " rename_with( ~ paste0(\"SR_\", .x)) %>%\n",
    "  mutate(time_month = format(SR_date, format = \"%m-%Y\"))"
   ]
  },
  {
   "cell_type": "code",
   "execution_count": 23,
   "metadata": {},
   "outputs": [],
   "source": [
    "#fgsr_phyto_ds_month"
   ]
  },
  {
   "cell_type": "markdown",
   "metadata": {},
   "source": [
    "### MERGE PHYTOPLANKTON DATA \n",
    "#### clean up"
   ]
  },
  {
   "cell_type": "code",
   "execution_count": 24,
   "metadata": {},
   "outputs": [],
   "source": [
    "phyto_1 <- left_join(fgsr_phyto_ds_month, sr_phyto_ds_month, by = \"time_month\")"
   ]
  },
  {
   "cell_type": "code",
   "execution_count": 25,
   "metadata": {},
   "outputs": [],
   "source": [
    "phyto_2 <- left_join(phyto_1, fgcounts_phyto_ds_month, by=\"time_month\")"
   ]
  },
  {
   "cell_type": "code",
   "execution_count": 26,
   "metadata": {},
   "outputs": [
    {
     "data": {
      "text/html": [
       "<style>\n",
       ".list-inline {list-style: none; margin:0; padding: 0}\n",
       ".list-inline>li {display: inline-block}\n",
       ".list-inline>li:not(:last-child)::after {content: \"\\00b7\"; padding: 0 .5ex}\n",
       "</style>\n",
       "<ol class=list-inline><li>'SR_X'</li><li>'SR_date'</li><li>'SR_COCCOLITHOPHORIDS'</li><li>'SR_CYANOBACTERIA'</li><li>'SR_DIATOMS'</li><li>'SR_DINOFLAGELLATES'</li><li>'SR_OTHERS'</li><li>'time_month'</li><li>'X'</li><li>'date'</li><li>'species_richness'</li><li>'counts_int_X'</li><li>'counts_int_date'</li><li>'counts_int_COCCOLITHOPHORIDS'</li><li>'counts_int_DIATOMS'</li><li>'counts_int_DINOFLAGELLATES'</li><li>'counts_int_CYANOBACTERIA'</li><li>'counts_int_OTHERS'</li><li>'counts_int_NANOFLAGELLATES'</li></ol>\n"
      ],
      "text/latex": [
       "\\begin{enumerate*}\n",
       "\\item 'SR\\_X'\n",
       "\\item 'SR\\_date'\n",
       "\\item 'SR\\_COCCOLITHOPHORIDS'\n",
       "\\item 'SR\\_CYANOBACTERIA'\n",
       "\\item 'SR\\_DIATOMS'\n",
       "\\item 'SR\\_DINOFLAGELLATES'\n",
       "\\item 'SR\\_OTHERS'\n",
       "\\item 'time\\_month'\n",
       "\\item 'X'\n",
       "\\item 'date'\n",
       "\\item 'species\\_richness'\n",
       "\\item 'counts\\_int\\_X'\n",
       "\\item 'counts\\_int\\_date'\n",
       "\\item 'counts\\_int\\_COCCOLITHOPHORIDS'\n",
       "\\item 'counts\\_int\\_DIATOMS'\n",
       "\\item 'counts\\_int\\_DINOFLAGELLATES'\n",
       "\\item 'counts\\_int\\_CYANOBACTERIA'\n",
       "\\item 'counts\\_int\\_OTHERS'\n",
       "\\item 'counts\\_int\\_NANOFLAGELLATES'\n",
       "\\end{enumerate*}\n"
      ],
      "text/markdown": [
       "1. 'SR_X'\n",
       "2. 'SR_date'\n",
       "3. 'SR_COCCOLITHOPHORIDS'\n",
       "4. 'SR_CYANOBACTERIA'\n",
       "5. 'SR_DIATOMS'\n",
       "6. 'SR_DINOFLAGELLATES'\n",
       "7. 'SR_OTHERS'\n",
       "8. 'time_month'\n",
       "9. 'X'\n",
       "10. 'date'\n",
       "11. 'species_richness'\n",
       "12. 'counts_int_X'\n",
       "13. 'counts_int_date'\n",
       "14. 'counts_int_COCCOLITHOPHORIDS'\n",
       "15. 'counts_int_DIATOMS'\n",
       "16. 'counts_int_DINOFLAGELLATES'\n",
       "17. 'counts_int_CYANOBACTERIA'\n",
       "18. 'counts_int_OTHERS'\n",
       "19. 'counts_int_NANOFLAGELLATES'\n",
       "\n",
       "\n"
      ],
      "text/plain": [
       " [1] \"SR_X\"                         \"SR_date\"                     \n",
       " [3] \"SR_COCCOLITHOPHORIDS\"         \"SR_CYANOBACTERIA\"            \n",
       " [5] \"SR_DIATOMS\"                   \"SR_DINOFLAGELLATES\"          \n",
       " [7] \"SR_OTHERS\"                    \"time_month\"                  \n",
       " [9] \"X\"                            \"date\"                        \n",
       "[11] \"species_richness\"             \"counts_int_X\"                \n",
       "[13] \"counts_int_date\"              \"counts_int_COCCOLITHOPHORIDS\"\n",
       "[15] \"counts_int_DIATOMS\"           \"counts_int_DINOFLAGELLATES\"  \n",
       "[17] \"counts_int_CYANOBACTERIA\"     \"counts_int_OTHERS\"           \n",
       "[19] \"counts_int_NANOFLAGELLATES\"  "
      ]
     },
     "metadata": {},
     "output_type": "display_data"
    }
   ],
   "source": [
    "names(phyto_2)"
   ]
  },
  {
   "cell_type": "code",
   "execution_count": 27,
   "metadata": {},
   "outputs": [],
   "source": [
    "phyto_cleaned <- phyto_2 %>%\n",
    "    select(-SR_X, -SR_date, -X, -date, -counts_int_X, -counts_int_date)"
   ]
  },
  {
   "cell_type": "markdown",
   "metadata": {},
   "source": [
    "# Read Zooplankton Data"
   ]
  },
  {
   "cell_type": "code",
   "execution_count": 28,
   "metadata": {},
   "outputs": [
    {
     "data": {
      "text/html": [
       "<style>\n",
       ".list-inline {list-style: none; margin:0; padding: 0}\n",
       ".list-inline>li {display: inline-block}\n",
       ".list-inline>li:not(:last-child)::after {content: \"\\00b7\"; padding: 0 .5ex}\n",
       "</style>\n",
       "<ol class=list-inline><li>'X'</li><li>'Date'</li><li>'Mesh200'</li><li>'Mesh500'</li><li>'total_biomass'</li></ol>\n"
      ],
      "text/latex": [
       "\\begin{enumerate*}\n",
       "\\item 'X'\n",
       "\\item 'Date'\n",
       "\\item 'Mesh200'\n",
       "\\item 'Mesh500'\n",
       "\\item 'total\\_biomass'\n",
       "\\end{enumerate*}\n"
      ],
      "text/markdown": [
       "1. 'X'\n",
       "2. 'Date'\n",
       "3. 'Mesh200'\n",
       "4. 'Mesh500'\n",
       "5. 'total_biomass'\n",
       "\n",
       "\n"
      ],
      "text/plain": [
       "[1] \"X\"             \"Date\"          \"Mesh200\"       \"Mesh500\"      \n",
       "[5] \"total_biomass\""
      ]
     },
     "metadata": {},
     "output_type": "display_data"
    }
   ],
   "source": [
    "zoo_ds <- read.csv(\"DataPipeline/ZooplanktonBiomass_CleanedAggregated.csv\")\n",
    "\n",
    "names(zoo_ds)"
   ]
  },
  {
   "cell_type": "code",
   "execution_count": 29,
   "metadata": {},
   "outputs": [],
   "source": [
    "# add time_month column to ctd ds\n",
    "zoo_ds$date = as.Date(zoo_ds$Date, format=\"%Y-%m-%d\")\n",
    "\n",
    "zoo_ds_month <- zoo_ds %>%\n",
    "  mutate(time_month = format(date, format = \"%m-%Y\"))"
   ]
  },
  {
   "cell_type": "code",
   "execution_count": 30,
   "metadata": {},
   "outputs": [],
   "source": [
    "zoo_ds_month_cleaned <- zoo_ds_month %>%\n",
    "    select(-X, -Date, -date)"
   ]
  },
  {
   "cell_type": "code",
   "execution_count": 31,
   "metadata": {},
   "outputs": [],
   "source": [
    "#zoo_ds_month_cleaned"
   ]
  },
  {
   "cell_type": "markdown",
   "metadata": {},
   "source": [
    "# Read Satellite DATA"
   ]
  },
  {
   "cell_type": "code",
   "execution_count": 45,
   "metadata": {},
   "outputs": [],
   "source": [
    "SeaWiFS_raw <- read.csv(\"SatelliteData/MERGE/SeaWiFS_monthly_mean.csv\")\n",
    "\n",
    "MODIS_raw <- read.csv(\"SatelliteData/MERGE/MODIS_monthly_mean.csv\")\n",
    "\n",
    "SatCONCAT_raw <- read.csv(\"SatelliteData/MERGE/SatelliteCONCAT_monthly_mean.csv\")"
   ]
  },
  {
   "cell_type": "code",
   "execution_count": 33,
   "metadata": {},
   "outputs": [
    {
     "data": {
      "text/html": [
       "<table>\n",
       "<caption>A data.frame: 6 × 7</caption>\n",
       "<thead>\n",
       "\t<tr><th></th><th scope=col>date</th><th scope=col>year</th><th scope=col>month</th><th scope=col>day</th><th scope=col>lon</th><th scope=col>lat</th><th scope=col>value</th></tr>\n",
       "\t<tr><th></th><th scope=col>&lt;chr&gt;</th><th scope=col>&lt;dbl&gt;</th><th scope=col>&lt;dbl&gt;</th><th scope=col>&lt;dbl&gt;</th><th scope=col>&lt;dbl&gt;</th><th scope=col>&lt;dbl&gt;</th><th scope=col>&lt;dbl&gt;</th></tr>\n",
       "</thead>\n",
       "<tbody>\n",
       "\t<tr><th scope=row>1</th><td>1997-10-31</td><td>1997</td><td>10</td><td>16</td><td>-64.6835</td><td>10.6875</td><td>0.2311170</td></tr>\n",
       "\t<tr><th scope=row>2</th><td>1997-11-30</td><td>1997</td><td>11</td><td>15</td><td>-64.6835</td><td>10.6875</td><td>0.6380158</td></tr>\n",
       "\t<tr><th scope=row>3</th><td>1997-12-31</td><td>1997</td><td>12</td><td>16</td><td>-64.6835</td><td>10.6875</td><td>0.9182222</td></tr>\n",
       "\t<tr><th scope=row>4</th><td>1998-01-31</td><td>1998</td><td> 1</td><td>16</td><td>-64.6835</td><td>10.6875</td><td>1.2453725</td></tr>\n",
       "\t<tr><th scope=row>5</th><td>1998-02-28</td><td>1998</td><td> 2</td><td>14</td><td>-64.6835</td><td>10.6875</td><td>0.5960208</td></tr>\n",
       "\t<tr><th scope=row>6</th><td>1998-03-31</td><td>1998</td><td> 3</td><td>16</td><td>-64.6835</td><td>10.6875</td><td>1.9649349</td></tr>\n",
       "</tbody>\n",
       "</table>\n"
      ],
      "text/latex": [
       "A data.frame: 6 × 7\n",
       "\\begin{tabular}{r|lllllll}\n",
       "  & date & year & month & day & lon & lat & value\\\\\n",
       "  & <chr> & <dbl> & <dbl> & <dbl> & <dbl> & <dbl> & <dbl>\\\\\n",
       "\\hline\n",
       "\t1 & 1997-10-31 & 1997 & 10 & 16 & -64.6835 & 10.6875 & 0.2311170\\\\\n",
       "\t2 & 1997-11-30 & 1997 & 11 & 15 & -64.6835 & 10.6875 & 0.6380158\\\\\n",
       "\t3 & 1997-12-31 & 1997 & 12 & 16 & -64.6835 & 10.6875 & 0.9182222\\\\\n",
       "\t4 & 1998-01-31 & 1998 &  1 & 16 & -64.6835 & 10.6875 & 1.2453725\\\\\n",
       "\t5 & 1998-02-28 & 1998 &  2 & 14 & -64.6835 & 10.6875 & 0.5960208\\\\\n",
       "\t6 & 1998-03-31 & 1998 &  3 & 16 & -64.6835 & 10.6875 & 1.9649349\\\\\n",
       "\\end{tabular}\n"
      ],
      "text/markdown": [
       "\n",
       "A data.frame: 6 × 7\n",
       "\n",
       "| <!--/--> | date &lt;chr&gt; | year &lt;dbl&gt; | month &lt;dbl&gt; | day &lt;dbl&gt; | lon &lt;dbl&gt; | lat &lt;dbl&gt; | value &lt;dbl&gt; |\n",
       "|---|---|---|---|---|---|---|---|\n",
       "| 1 | 1997-10-31 | 1997 | 10 | 16 | -64.6835 | 10.6875 | 0.2311170 |\n",
       "| 2 | 1997-11-30 | 1997 | 11 | 15 | -64.6835 | 10.6875 | 0.6380158 |\n",
       "| 3 | 1997-12-31 | 1997 | 12 | 16 | -64.6835 | 10.6875 | 0.9182222 |\n",
       "| 4 | 1998-01-31 | 1998 |  1 | 16 | -64.6835 | 10.6875 | 1.2453725 |\n",
       "| 5 | 1998-02-28 | 1998 |  2 | 14 | -64.6835 | 10.6875 | 0.5960208 |\n",
       "| 6 | 1998-03-31 | 1998 |  3 | 16 | -64.6835 | 10.6875 | 1.9649349 |\n",
       "\n"
      ],
      "text/plain": [
       "  date       year month day lon      lat     value    \n",
       "1 1997-10-31 1997 10    16  -64.6835 10.6875 0.2311170\n",
       "2 1997-11-30 1997 11    15  -64.6835 10.6875 0.6380158\n",
       "3 1997-12-31 1997 12    16  -64.6835 10.6875 0.9182222\n",
       "4 1998-01-31 1998  1    16  -64.6835 10.6875 1.2453725\n",
       "5 1998-02-28 1998  2    14  -64.6835 10.6875 0.5960208\n",
       "6 1998-03-31 1998  3    16  -64.6835 10.6875 1.9649349"
      ]
     },
     "metadata": {},
     "output_type": "display_data"
    }
   ],
   "source": [
    "head(SeaWiFS_raw)"
   ]
  },
  {
   "cell_type": "code",
   "execution_count": 61,
   "metadata": {},
   "outputs": [],
   "source": [
    "# add time_month column to ctd ds\n",
    "SeaWiFS_raw$date = as.Date(SeaWiFS_raw$date, format=\"%Y-%m-%d\")\n",
    "MODIS_raw$date = as.Date(MODIS_raw$date, format=\"%Y-%m-%d\")\n",
    "SatCONCAT_raw$date = as.Date(SatCONCAT_raw$date, format=\"%Y-%m-%d\")\n",
    "\n",
    "SeaWiFS_month <- SeaWiFS_raw %>%\n",
    "  mutate(time_month = format(date, format = \"%m-%Y\"), SeaWiFS_chla=value) %>%\n",
    "    select(time_month, SeaWiFS_chla)\n",
    "\n",
    "MODIS_month <- MODIS_raw %>%\n",
    "  mutate(time_month = format(date, format = \"%m-%Y\"), MODIS_chla=value) %>%\n",
    "    select(time_month, MODIS_chla)\n",
    "\n",
    "SatCONCAT_month <- SatCONCAT_raw %>%\n",
    "  mutate(time_month = format(date, format = \"%m-%Y\"), Satellite_chla=value) %>%\n",
    "    select(time_month, Satellite_chla)"
   ]
  },
  {
   "cell_type": "code",
   "execution_count": null,
   "metadata": {},
   "outputs": [],
   "source": []
  },
  {
   "cell_type": "markdown",
   "metadata": {},
   "source": [
    "# NOW MERGE!"
   ]
  },
  {
   "cell_type": "raw",
   "metadata": {},
   "source": [
    "datasets=\n",
    "\n",
    "    wind_ds_cleaned\n",
    "\n",
    "    niskin_ds_cleaned\n",
    "\n",
    "    ctd_ds_month_cleaned\n",
    "    \n",
    "    phyto_cleaned\n",
    "    \n",
    "    zoo_ds_month_cleaned\n",
    "    \n",
    "    MODIS + SeaWiFS"
   ]
  },
  {
   "cell_type": "code",
   "execution_count": 63,
   "metadata": {},
   "outputs": [],
   "source": [
    "require(purrr)\n",
    "require(dplyr)\n",
    "\n",
    "CARIACO_dat_joined <- list(wind_ds_cleaned, \n",
    "                           niskin_ds_cleaned, \n",
    "                           ctd_ds_month_cleaned, \n",
    "                           phyto_cleaned,\n",
    "                           zoo_ds_month_cleaned,\n",
    "                           SeaWiFS_month,\n",
    "                           MODIS_month,\n",
    "                           SatCONCAT_month\n",
    "                          ) %>% \n",
    "  reduce(left_join, by = c(\"time_month\"))"
   ]
  },
  {
   "cell_type": "code",
   "execution_count": 64,
   "metadata": {},
   "outputs": [],
   "source": [
    "CARIACO_dat_joined_truncated <- CARIACO_dat_joined[203:500,]"
   ]
  },
  {
   "cell_type": "code",
   "execution_count": 65,
   "metadata": {},
   "outputs": [],
   "source": [
    "write.csv(CARIACO_dat_joined_truncated, \"DATA/Combined_CARIACO_data_v3.csv\")"
   ]
  },
  {
   "cell_type": "code",
   "execution_count": null,
   "metadata": {},
   "outputs": [],
   "source": []
  },
  {
   "cell_type": "code",
   "execution_count": 55,
   "metadata": {},
   "outputs": [
    {
     "data": {
      "text/html": [
       "500"
      ],
      "text/latex": [
       "500"
      ],
      "text/markdown": [
       "500"
      ],
      "text/plain": [
       "[1] 500"
      ]
     },
     "metadata": {},
     "output_type": "display_data"
    }
   ],
   "source": [
    "#length(CARIACO_dat_joined$time_month)"
   ]
  },
  {
   "cell_type": "code",
   "execution_count": null,
   "metadata": {},
   "outputs": [],
   "source": []
  }
 ],
 "metadata": {
  "kernelspec": {
   "display_name": "R",
   "language": "R",
   "name": "ir"
  },
  "language_info": {
   "codemirror_mode": "r",
   "file_extension": ".r",
   "mimetype": "text/x-r-source",
   "name": "R",
   "pygments_lexer": "r",
   "version": "4.0.2"
  }
 },
 "nbformat": 4,
 "nbformat_minor": 4
}
