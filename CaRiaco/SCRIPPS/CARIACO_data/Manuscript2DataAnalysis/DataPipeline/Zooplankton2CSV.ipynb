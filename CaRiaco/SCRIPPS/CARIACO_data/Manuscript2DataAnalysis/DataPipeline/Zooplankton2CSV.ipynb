{
 "cells": [
  {
   "cell_type": "markdown",
   "metadata": {},
   "source": [
    "# Zooplankton data"
   ]
  },
  {
   "cell_type": "code",
   "execution_count": 26,
   "metadata": {},
   "outputs": [],
   "source": [
    "import xarray as xr\n",
    "import pandas as pd\n",
    "import numpy as np"
   ]
  },
  {
   "cell_type": "code",
   "execution_count": 27,
   "metadata": {},
   "outputs": [],
   "source": [
    "zooplankton = xr.open_dataset(\"../../VeryNEWESTCariacoData/zooplankton.netcdf\")"
   ]
  },
  {
   "cell_type": "code",
   "execution_count": 18,
   "metadata": {},
   "outputs": [
    {
     "data": {
      "text/plain": [
       "Data variables:\n",
       "    Cruise             (unlimited) float64 ...\n",
       "    Cruise_ID          (unlimited) |S513 ...\n",
       "    Day                (unlimited) float64 ...\n",
       "    Month              (unlimited) float64 ...\n",
       "    Year               (unlimited) float64 ...\n",
       "    Date               (unlimited) |S513 ...\n",
       "    Latitude           (unlimited) float64 ...\n",
       "    Longitude          (unlimited) float64 ...\n",
       "    Analyst            (unlimited) |S513 ...\n",
       "    Mesh_Size          (unlimited) float64 ...\n",
       "    TOTAL_DENSITY      (unlimited) float64 ...\n",
       "    BIOMASS            (unlimited) float64 ...\n",
       "    ASH                (unlimited) float64 ...\n",
       "    COPEPODS           (unlimited) float64 ...\n",
       "    CALANOIDS          (unlimited) |S513 ...\n",
       "    CYCLOPOIDA         (unlimited) |S513 ...\n",
       "    HAPARCTICOIDA      (unlimited) |S513 ...\n",
       "    POECILOSTOMATOIDA  (unlimited) |S513 ...\n",
       "    L_FISH             (unlimited) float64 ...\n",
       "    H_FISH             (unlimited) float64 ...\n",
       "    CHAETOGNATHA       (unlimited) float64 ...\n",
       "    CLADOCEROS         (unlimited) float64 ...\n",
       "    OSTRACODA          (unlimited) float64 ...\n",
       "    FORAMINIFERA       (unlimited) float64 ...\n",
       "    AMPHIPODS          (unlimited) float64 ...\n",
       "    ISOPODS            (unlimited) |S513 ...\n",
       "    EUPHAUSIIDS        (unlimited) float64 ...\n",
       "    MISYDACEA          (unlimited) float64 ...\n",
       "    SERGESTID          (unlimited) |S513 ...\n",
       "    L_CRUSTACEA        (unlimited) float64 ...\n",
       "    N_COPEPOD          (unlimited) |S513 ...\n",
       "    C_COPEPOD          (unlimited) |S513 ...\n",
       "    N_CIRRIPEDIA       (unlimited) |S513 ...\n",
       "    C_CIRRIPEDIA       (unlimited) |S513 ...\n",
       "    L_DECAPODA         (unlimited) |S513 ...\n",
       "    L_STOMATOPODA      (unlimited) |S513 ...\n",
       "    L_EUPHAUSIID       (unlimited) |S513 ...\n",
       "    L_SERGESTID        (unlimited) |S513 ...\n",
       "    POLICHAETES        (unlimited) float64 ...\n",
       "    L_CYPHONAUTES      (unlimited) |S513 ...\n",
       "    MEDUSA             (unlimited) float64 ...\n",
       "    SIPHONOPHORES      (unlimited) float64 ...\n",
       "    CTENOPHORES        (unlimited) float64 ...\n",
       "    L_ECHINODERMS      (unlimited) float64 ...\n",
       "    PTEROPODS          (unlimited) float64 ...\n",
       "    HETEROPODS         (unlimited) float64 ...\n",
       "    GASTROPODS         (unlimited) |S513 ...\n",
       "    L_CEPHALOPODA      (unlimited) float64 ...\n",
       "    L_BIVALVE          (unlimited) float64 ...\n",
       "    L_GASTROPOD        (unlimited) |S513 ...\n",
       "    PROTOZOAN          (unlimited) float64 ...\n",
       "    RADIOLARIAN        (unlimited) float64 ...\n",
       "    APPENDICULARIANS   (unlimited) float64 ...\n",
       "    SALPS              (unlimited) float64 ...\n",
       "    DOLIOLIDS          (unlimited) float64 ...\n",
       "    BIVALVES           (unlimited) float64 ...\n",
       "    H_CRUSTACEA        (unlimited) float64 ...\n",
       "    L_ANFIOXUS         (unlimited) |S513 ...\n",
       "    LUCIFER            (unlimited) float64 ...\n",
       "    JUV_GASTROPOD      (unlimited) |S513 ..."
      ]
     },
     "execution_count": 18,
     "metadata": {},
     "output_type": "execute_result"
    }
   ],
   "source": [
    "zooplankton.data_vars"
   ]
  },
  {
   "cell_type": "markdown",
   "metadata": {},
   "source": [
    "# Convert and clean up datasets"
   ]
  },
  {
   "cell_type": "code",
   "execution_count": 19,
   "metadata": {},
   "outputs": [],
   "source": [
    "def convert_str_data(data, var):\n",
    "    return data[var].str.decode('utf-8')#, errors='coerce')"
   ]
  },
  {
   "cell_type": "code",
   "execution_count": 20,
   "metadata": {},
   "outputs": [],
   "source": [
    "def convert_numeric_data(data, var):\n",
    "    return pd.to_numeric(data[var], errors='coerce')"
   ]
  },
  {
   "cell_type": "code",
   "execution_count": 21,
   "metadata": {},
   "outputs": [],
   "source": [
    "zooplankton_string = ['Cruise_ID', 'Date', 'Analyst']\n",
    "\n",
    "zooplankton_numeric = ['CALANOIDS', \n",
    "                  'CYCLOPOIDA', \n",
    "                  'HAPARCTICOIDA', \n",
    "                  'POECILOSTOMATOIDA', \n",
    "                  'ISOPODS', \n",
    "                  'SERGESTID', \n",
    "                  'N_COPEPOD', \n",
    "                  'C_COPEPOD', \n",
    "                  'N_CIRRIPEDIA',\n",
    "                  'C_CIRRIPEDIA', \n",
    "                  'L_DECAPODA', \n",
    "                  'L_STOMATOPODA', \n",
    "                  'L_EUPHAUSIID', \n",
    "                  'L_SERGESTID', \n",
    "                  'L_CYPHONAUTES', \n",
    "                  'GASTROPODS',\n",
    "                  'L_GASTROPOD',\n",
    "                  'L_ANFIOXUS',\n",
    "                  'JUV_GASTROPOD',\n",
    "                 ]"
   ]
  },
  {
   "cell_type": "code",
   "execution_count": 22,
   "metadata": {},
   "outputs": [],
   "source": [
    "for i in range(len(zooplankton_string)):\n",
    "    zooplankton[zooplankton_string[i]].values = convert_str_data(zooplankton, zooplankton_string[i]) #.astype(int)"
   ]
  },
  {
   "cell_type": "code",
   "execution_count": 23,
   "metadata": {},
   "outputs": [],
   "source": [
    "for i in range(len(zooplankton_numeric)):\n",
    "    zooplankton[zooplankton_numeric[i]].values = convert_numeric_data(zooplankton, zooplankton_numeric[i]) #.astype(int)"
   ]
  },
  {
   "cell_type": "code",
   "execution_count": 13,
   "metadata": {},
   "outputs": [],
   "source": [
    "zooplankton_pd = zooplankton.to_array().to_pandas().T  #.to_csv(\"CTD_data_export\")"
   ]
  },
  {
   "cell_type": "markdown",
   "metadata": {},
   "source": [
    "# export as CSV"
   ]
  },
  {
   "cell_type": "code",
   "execution_count": 14,
   "metadata": {},
   "outputs": [],
   "source": [
    "#zooplankton_pd.to_csv(\"Zooplankton_newest_full.csv\")"
   ]
  },
  {
   "cell_type": "code",
   "execution_count": null,
   "metadata": {},
   "outputs": [],
   "source": []
  }
 ],
 "metadata": {
  "kernelspec": {
   "display_name": "Python 3 (ipykernel)",
   "language": "python",
   "name": "python3"
  },
  "language_info": {
   "codemirror_mode": {
    "name": "ipython",
    "version": 3
   },
   "file_extension": ".py",
   "mimetype": "text/x-python",
   "name": "python",
   "nbconvert_exporter": "python",
   "pygments_lexer": "ipython3",
   "version": "3.9.7"
  }
 },
 "nbformat": 4,
 "nbformat_minor": 4
}
