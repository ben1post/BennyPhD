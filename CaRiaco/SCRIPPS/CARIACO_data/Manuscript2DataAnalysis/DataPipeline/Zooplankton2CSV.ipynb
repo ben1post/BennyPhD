{
 "cells": [
  {
   "cell_type": "markdown",
   "metadata": {},
   "source": [
    "# Zooplankton data"
   ]
  },
  {
   "cell_type": "code",
   "execution_count": 1,
   "metadata": {},
   "outputs": [],
   "source": [
    "import xarray as xr\n",
    "import pandas as pd\n",
    "import numpy as np"
   ]
  },
  {
   "cell_type": "code",
   "execution_count": 3,
   "metadata": {},
   "outputs": [],
   "source": [
    "zooplankton = xr.open_dataset(\"../../VeryNEWESTCariacoData/zooplankton.netcdf\")"
   ]
  },
  {
   "cell_type": "code",
   "execution_count": 11,
   "metadata": {},
   "outputs": [
    {
     "data": {
      "text/plain": [
       "Data variables:\n",
       "    Cruise             (unlimited) float64 71.0 71.0 72.0 ... 231.0 232.0 232.0\n",
       "    Cruise_ID          (unlimited) <U7 'CAR-071' 'CAR-071' ... 'CAR-232'\n",
       "    Day                (unlimited) float64 9.0 9.0 6.0 6.0 ... 21.0 12.0 12.0\n",
       "    Month              (unlimited) float64 10.0 10.0 11.0 11.0 ... 12.0 1.0 1.0\n",
       "    Year               (unlimited) float64 2.001e+03 2.001e+03 ... 2.017e+03\n",
       "    Date               (unlimited) <U10 '2001-10-09' ... '2017-01-12'\n",
       "    Latitude           (unlimited) float64 10.5 10.5 10.5 ... 10.5 10.5 10.5\n",
       "    Longitude          (unlimited) float64 -64.66 -64.66 ... -64.67 -64.67\n",
       "    Analyst            (unlimited) <U20 'Javier Gutierrez' ... 'Jaimie Rojas ...\n",
       "    Mesh_Size          (unlimited) float64 200.0 500.0 500.0 ... 200.0 500.0\n",
       "    TOTAL_DENSITY      (unlimited) float64 1.113e+03 212.9 13.43 ... 759.3 131.7\n",
       "    BIOMASS            (unlimited) float64 26.83 15.95 2.337 ... 3.107 0.9665\n",
       "    ASH                (unlimited) float64 6.843 3.309 0.07242 ... 0.6578 0.2469\n",
       "    COPEPODS           (unlimited) float64 741.8 160.2 5.618 ... 268.6 99.93\n",
       "    CALANOIDS          (unlimited) float64 nan nan nan nan ... 23.16 211.5 96.76\n",
       "    CYCLOPOIDA         (unlimited) float64 nan nan nan nan ... 0.0 0.0 31.72 0.0\n",
       "    HAPARCTICOIDA      (unlimited) float64 nan nan nan nan ... 2.725 8.46 0.0\n",
       "    POECILOSTOMATOIDA  (unlimited) float64 nan nan nan nan ... 12.94 16.92 3.172\n",
       "    L_FISH             (unlimited) float64 4.279 1.369 0.498 0.0 ... 0.0 0.0 0.0\n",
       "    H_FISH             (unlimited) float64 19.97 6.391 0.2789 ... 0.0 0.0 0.0\n",
       "    CHAETOGNATHA       (unlimited) float64 21.4 7.76 1.295 ... 0.0 10.57 1.586\n",
       "    CLADOCEROS         (unlimited) float64 98.43 3.88 0.01992 ... 8.46 1.586\n",
       "    OSTRACODA          (unlimited) float64 32.81 1.598 0.3387 ... 31.72 0.0\n",
       "    FORAMINIFERA       (unlimited) float64 2.853 3.424 1.195 ... 0.0 31.72 7.931\n",
       "    AMPHIPODS          (unlimited) float64 1.426 0.4565 0.1992 ... 1.363 0.0 0.0\n",
       "    ISOPODS            (unlimited) float64 nan 0.0 0.0 nan ... 0.0 0.0 0.0 1.586\n",
       "    EUPHAUSIIDS        (unlimited) float64 1.426 0.0 0.1992 ... 0.0 0.0 0.0\n",
       "    MISYDACEA          (unlimited) float64 0.0 0.6847 0.0 0.0 ... 0.0 0.0 0.0\n",
       "    SERGESTID          (unlimited) float64 nan 0.2282 0.01992 ... 0.0 4.23 1.586\n",
       "    L_CRUSTACEA        (unlimited) float64 0.0 3.195 1.175 ... 164.2 404.0 15.86\n",
       "    N_COPEPOD          (unlimited) float64 nan nan nan nan ... 3.406 19.03 0.0\n",
       "    C_COPEPOD          (unlimited) float64 nan nan nan nan ... 136.3 253.8 7.931\n",
       "    N_CIRRIPEDIA       (unlimited) float64 nan nan nan nan ... 0.0 0.0 0.0 0.0\n",
       "    C_CIRRIPEDIA       (unlimited) float64 nan nan nan nan ... 24.53 126.9 0.0\n",
       "    L_DECAPODA         (unlimited) float64 nan nan nan nan ... 0.0 4.23 7.931\n",
       "    L_STOMATOPODA      (unlimited) float64 nan 0.0 0.03984 nan ... 0.0 0.0 0.0\n",
       "    L_EUPHAUSIID       (unlimited) float64 nan nan nan nan ... 0.0 0.0 0.0 0.0\n",
       "    L_SERGESTID        (unlimited) float64 nan nan nan nan ... 0.0 0.0 0.0 0.0\n",
       "    POLICHAETES        (unlimited) float64 0.0 1.141 0.01992 ... 0.0 0.0 0.0\n",
       "    L_CYPHONAUTES      (unlimited) float64 nan 0.0 0.0 nan ... 0.0 0.0 0.0 0.0\n",
       "    MEDUSA             (unlimited) float64 15.69 2.511 0.1394 ... 0.0 0.0 0.0\n",
       "    SIPHONOPHORES      (unlimited) float64 0.0 1.141 0.01992 0.0 ... 0.0 0.0 0.0\n",
       "    CTENOPHORES        (unlimited) float64 0.0 0.2282 0.757 ... 0.0 0.0 0.0\n",
       "    L_ECHINODERMS      (unlimited) float64 0.0 0.0 0.0 0.4697 ... 0.0 0.0 0.0\n",
       "    PTEROPODS          (unlimited) float64 7.132 0.0 0.5777 ... 0.0 0.0 0.0\n",
       "    HETEROPODS         (unlimited) float64 0.0 0.0 0.0 0.0 ... 0.0 0.0 0.0 0.0\n",
       "    GASTROPODS         (unlimited) float64 nan 0.0 0.0 nan ... 0.0 0.0 0.0 0.0\n",
       "    L_CEPHALOPODA      (unlimited) float64 0.0 0.0 0.0 0.0 ... 0.0 0.0 0.0 0.0\n",
       "    L_BIVALVE          (unlimited) float64 0.0 0.0 0.0 0.0 ... 3.406 0.0 0.0\n",
       "    L_GASTROPOD        (unlimited) float64 nan 0.0 0.0 nan ... 0.0 5.45 0.0 0.0\n",
       "    PROTOZOAN          (unlimited) float64 39.94 7.532 0.0 ... 0.0 31.72 7.931\n",
       "    RADIOLARIAN        (unlimited) float64 0.0 0.0 0.0 0.0 ... 0.0 0.0 0.0 0.0\n",
       "    APPENDICULARIANS   (unlimited) float64 91.29 9.358 0.5179 ... 0.0 0.0 1.586\n",
       "    SALPS              (unlimited) float64 8.559 1.826 0.5179 ... 0.0 0.0 0.0\n",
       "    DOLIOLIDS          (unlimited) float64 0.0 0.0 0.0 0.0 ... 0.0 0.0 0.0 0.0\n",
       "    BIVALVES           (unlimited) float64 0.0 0.0 0.0 0.0 ... 0.0 0.0 0.0 0.0\n",
       "    H_CRUSTACEA        (unlimited) float64 0.0 0.0 0.0 0.0 ... 0.0 0.0 0.0 0.0\n",
       "    L_ANFIOXUS         (unlimited) float64 nan 0.0 0.0 nan ... 0.0 0.0 0.0 0.0\n",
       "    LUCIFER            (unlimited) float64 2.853 0.0 0.0 0.0 ... 0.0 0.0 0.0 0.0\n",
       "    JUV_GASTROPOD      (unlimited) float64 nan 0.0 0.0 nan ... 0.0 0.0 0.0 0.0"
      ]
     },
     "execution_count": 11,
     "metadata": {},
     "output_type": "execute_result"
    }
   ],
   "source": [
    "zooplankton.data_vars"
   ]
  },
  {
   "cell_type": "markdown",
   "metadata": {},
   "source": [
    "# Convert and clean up datasets"
   ]
  },
  {
   "cell_type": "code",
   "execution_count": 6,
   "metadata": {},
   "outputs": [],
   "source": [
    "def convert_str_data(data, var):\n",
    "    return data[var].str.decode('utf-8')#, errors='coerce')"
   ]
  },
  {
   "cell_type": "code",
   "execution_count": 7,
   "metadata": {},
   "outputs": [],
   "source": [
    "def convert_numeric_data(data, var):\n",
    "    return pd.to_numeric(data[var], errors='coerce')"
   ]
  },
  {
   "cell_type": "code",
   "execution_count": 8,
   "metadata": {},
   "outputs": [],
   "source": [
    "zooplankton_string = ['Cruise_ID', 'Date', 'Analyst']\n",
    "\n",
    "zooplankton_numeric = ['CALANOIDS', \n",
    "                  'CYCLOPOIDA', \n",
    "                  'HAPARCTICOIDA', \n",
    "                  'POECILOSTOMATOIDA', \n",
    "                  'ISOPODS', \n",
    "                  'SERGESTID', \n",
    "                  'N_COPEPOD', \n",
    "                  'C_COPEPOD', \n",
    "                  'N_CIRRIPEDIA',\n",
    "                  'C_CIRRIPEDIA', \n",
    "                  'L_DECAPODA', \n",
    "                  'L_STOMATOPODA', \n",
    "                  'L_EUPHAUSIID', \n",
    "                  'L_SERGESTID', \n",
    "                  'L_CYPHONAUTES', \n",
    "                  'GASTROPODS',\n",
    "                  'L_GASTROPOD',\n",
    "                  'L_ANFIOXUS',\n",
    "                  'JUV_GASTROPOD',\n",
    "                 ]"
   ]
  },
  {
   "cell_type": "code",
   "execution_count": 9,
   "metadata": {},
   "outputs": [],
   "source": [
    "for i in range(len(zooplankton_string)):\n",
    "    zooplankton[zooplankton_string[i]].values = convert_str_data(zooplankton, zooplankton_string[i]) #.astype(int)"
   ]
  },
  {
   "cell_type": "code",
   "execution_count": 10,
   "metadata": {},
   "outputs": [],
   "source": [
    "for i in range(len(zooplankton_numeric)):\n",
    "    zooplankton[zooplankton_numeric[i]].values = convert_numeric_data(zooplankton, zooplankton_numeric[i]) #.astype(int)"
   ]
  },
  {
   "cell_type": "code",
   "execution_count": 13,
   "metadata": {},
   "outputs": [],
   "source": [
    "zooplankton_pd = zooplankton.to_array().to_pandas().T  #.to_csv(\"CTD_data_export\")"
   ]
  },
  {
   "cell_type": "markdown",
   "metadata": {},
   "source": [
    "# export as CSV"
   ]
  },
  {
   "cell_type": "code",
   "execution_count": 14,
   "metadata": {},
   "outputs": [],
   "source": [
    "zooplankton_pd.to_csv(\"Zooplankton_newest_full.csv\")"
   ]
  },
  {
   "cell_type": "code",
   "execution_count": null,
   "metadata": {},
   "outputs": [],
   "source": []
  }
 ],
 "metadata": {
  "kernelspec": {
   "display_name": "Python 3",
   "language": "python",
   "name": "python3"
  },
  "language_info": {
   "codemirror_mode": {
    "name": "ipython",
    "version": 3
   },
   "file_extension": ".py",
   "mimetype": "text/x-python",
   "name": "python",
   "nbconvert_exporter": "python",
   "pygments_lexer": "ipython3",
   "version": "3.9.7"
  }
 },
 "nbformat": 4,
 "nbformat_minor": 4
}
