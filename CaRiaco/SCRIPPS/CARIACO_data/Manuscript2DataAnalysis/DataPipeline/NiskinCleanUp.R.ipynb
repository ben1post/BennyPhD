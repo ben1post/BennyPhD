{
 "cells": [
  {
   "cell_type": "markdown",
   "metadata": {},
   "source": [
    "# clean up, integrate and aggregate NISKIN data"
   ]
  },
  {
   "cell_type": "code",
   "execution_count": 3,
   "metadata": {},
   "outputs": [
    {
     "name": "stderr",
     "output_type": "stream",
     "text": [
      "── \u001b[1mAttaching packages\u001b[22m ─────────────────────────────────────── tidyverse 1.3.1 ──\n",
      "\n",
      "\u001b[32m✔\u001b[39m \u001b[34mggplot2\u001b[39m 3.3.5     \u001b[32m✔\u001b[39m \u001b[34mpurrr  \u001b[39m 0.3.4\n",
      "\u001b[32m✔\u001b[39m \u001b[34mtibble \u001b[39m 3.1.3     \u001b[32m✔\u001b[39m \u001b[34mdplyr  \u001b[39m 1.0.7\n",
      "\u001b[32m✔\u001b[39m \u001b[34mtidyr  \u001b[39m 1.1.3     \u001b[32m✔\u001b[39m \u001b[34mstringr\u001b[39m 1.4.0\n",
      "\u001b[32m✔\u001b[39m \u001b[34mreadr  \u001b[39m 2.0.0     \u001b[32m✔\u001b[39m \u001b[34mforcats\u001b[39m 0.5.1\n",
      "\n",
      "── \u001b[1mConflicts\u001b[22m ────────────────────────────────────────── tidyverse_conflicts() ──\n",
      "\u001b[31m✖\u001b[39m \u001b[34mdplyr\u001b[39m::\u001b[32mfilter()\u001b[39m masks \u001b[34mstats\u001b[39m::filter()\n",
      "\u001b[31m✖\u001b[39m \u001b[34mdplyr\u001b[39m::\u001b[32mlag()\u001b[39m    masks \u001b[34mstats\u001b[39m::lag()\n",
      "\n",
      "\n",
      "Attaching package: ‘reshape2’\n",
      "\n",
      "\n",
      "The following object is masked from ‘package:tidyr’:\n",
      "\n",
      "    smiths\n",
      "\n",
      "\n",
      "\n",
      "Attaching package: ‘lubridate’\n",
      "\n",
      "\n",
      "The following objects are masked from ‘package:base’:\n",
      "\n",
      "    date, intersect, setdiff, union\n",
      "\n",
      "\n"
     ]
    }
   ],
   "source": [
    "library(tidyverse, warn.conflicts = FALSE)\n",
    "\n",
    "# library to read matlab data formats into R\n",
    "library(reshape2)\n",
    "library(lubridate)\n",
    "\n",
    "# set strings as factors to false\n",
    "options(stringsAsFactors = FALSE)"
   ]
  },
  {
   "cell_type": "markdown",
   "metadata": {},
   "source": [
    "# read NISKIN data (from csv)"
   ]
  },
  {
   "cell_type": "code",
   "execution_count": 4,
   "metadata": {},
   "outputs": [],
   "source": [
    "niskin_ds <- read.csv(\"../../VeryNEWESTCariacoData/niskin_dtypes.csv\")"
   ]
  },
  {
   "cell_type": "code",
   "execution_count": 5,
   "metadata": {},
   "outputs": [],
   "source": [
    "niskin_ds$DATE <- paste(niskin_ds$Year,'-',niskin_ds$Month,'-',niskin_ds$Day, sep='')"
   ]
  },
  {
   "cell_type": "markdown",
   "metadata": {},
   "source": [
    "# interpolate niskin_ds"
   ]
  },
  {
   "cell_type": "code",
   "execution_count": 6,
   "metadata": {},
   "outputs": [],
   "source": [
    "# Function to read specific verfication type from dataset\n",
    "\n",
    "prepdataframe <- function(variable='', datasource='niskin'){\n",
    "    if(datasource=='niskin'){\n",
    "    DF <- niskin_ds\n",
    "    DF$date <- as.Date(DF$DATE, format=\"%Y-%m-%d\")\n",
    "    DF$depth <- DF$Depth_real\n",
    "    #print(names(DF))\n",
    "        \n",
    "    VarDF <- DF %>%\n",
    "      select(date, variable, depth) %>%\n",
    "      gather(key='key',value = \"value\", -date, -depth)\n",
    "    #head(VarDF)\n",
    "    }\n",
    "    \n",
    "    return(VarDF)\n",
    "}"
   ]
  },
  {
   "cell_type": "code",
   "execution_count": 7,
   "metadata": {},
   "outputs": [],
   "source": [
    "# Interpolate\n",
    "interpolateDF <- function(DF,func='oce-rr'){\n",
    "    zz <- seq(0, 200, 1)\n",
    "    \n",
    "    if(func=='linear'){\n",
    "        IntDF <- DF %>%\n",
    "            group_by(date) %>%\n",
    "            filter(sum(!is.na(value))>1) %>%\n",
    "            do(data.frame(value_int = with(.,approx(depth, value, zz)), depth = zz)) \n",
    "        \n",
    "        IntDF <- IntDF %>% \n",
    "              rename(\n",
    "                value_int = value_int.y\n",
    "                )\n",
    "        IntDF$value_int.x <- NULL\n",
    "        }\n",
    "    \n",
    "    else if(func=='oce-rr'){\n",
    "        IntDF <- DF %>%\n",
    "            group_by(date) %>%\n",
    "            do(data.frame(value_int = with(.,oceApprox(depth, value, zz, \"rr\")), depth = zz)) \n",
    "        }\n",
    "    \n",
    "    return(IntDF)\n",
    "}"
   ]
  },
  {
   "cell_type": "code",
   "execution_count": 8,
   "metadata": {},
   "outputs": [],
   "source": [
    "interpolateNiskin <- function(var){\n",
    " \n",
    "    niskin_dat <- prepdataframe(var)\n",
    "\n",
    "    niskin_int <- interpolateDF(niskin_dat, 'linear')   \n",
    "    \n",
    "    niskin_sum <- niskin_int %>%\n",
    "        group_by(date) %>%\n",
    "        filter(depth<101) %>%\n",
    "        filter(sum(is.na(value_int))<20) %>%\n",
    "        summarize(value_sum = sum(value_int, na.rm=TRUE), \n",
    "                  var = mean(value_int, na.rm=TRUE),\n",
    "                  #value_intgrtd = value_mean * 100,\n",
    "                  NAs = sum(is.na(value_int)), .groups=\"keep\")\n",
    "    \n",
    "    niskin_sum_monthly <- niskin_sum %>%\n",
    "          mutate(time_month = format(date, format=\"%m-%Y\"))\n",
    "\n",
    "    \n",
    "    return(niskin_sum_monthly)\n",
    "}"
   ]
  },
  {
   "cell_type": "code",
   "execution_count": 9,
   "metadata": {},
   "outputs": [],
   "source": [
    "niskin_numeric = c('O2_ml_L',\n",
    "                'O2_umol_kg',  \n",
    "                'NO3_UDO',\n",
    "                'PO4_UDO',\n",
    "                'SiO4_UDO',\n",
    "                'NH4_USF',\n",
    "                'NO2_USF',\n",
    "                'NO3_NO2_USF',\n",
    "                'PO4_USF',\n",
    "                'SiO4_USF',\n",
    "                'pH',\n",
    "                'Alkalinity_mol_kg',\n",
    "                'Alkalinity_umol_kg',\n",
    "                'TCO2',\n",
    "                'fCO2',\n",
    "                'pH_corrected',\n",
    "                'TCO2_corrected',\n",
    "                'fCO2_corrected',\n",
    "                'Salinity_bottles',\n",
    "                'Salinity_CTD',\n",
    "                'Temperature',\n",
    "                'Sigma_t',\n",
    "                'TPP',\n",
    "                'PIP',\n",
    "                'POC_ug_kg',\n",
    "                'PON_ug_kg',\n",
    "                'POC_ug_L',\n",
    "                'PN_ug_L',\n",
    "                'C_N_particulate',\n",
    "                'DON',\n",
    "                'DOP',\n",
    "                'DOC',\n",
    "                'TOC',\n",
    "                'PrimaryProductivity',\n",
    "                'Chlorophyll',\n",
    "                'Phaeopigments',\n",
    "                'Total_Prokaryotes',\n",
    "                'Bact_Biomass_mgC_m3',\n",
    "                'Bact_Biomass_uMC')"
   ]
  },
  {
   "cell_type": "code",
   "execution_count": 10,
   "metadata": {},
   "outputs": [
    {
     "name": "stdout",
     "output_type": "stream",
     "text": [
      "[1] \"O2_ml_L\"\n"
     ]
    },
    {
     "name": "stderr",
     "output_type": "stream",
     "text": [
      "Note: Using an external vector in selections is ambiguous.\n",
      "\u001b[34mℹ\u001b[39m Use `all_of(variable)` instead of `variable` to silence this message.\n",
      "\u001b[34mℹ\u001b[39m See <https://tidyselect.r-lib.org/reference/faq-external-vector.html>.\n",
      "\u001b[90mThis message is displayed once per session.\u001b[39m\n",
      "\n"
     ]
    },
    {
     "name": "stdout",
     "output_type": "stream",
     "text": [
      "[1] \"O2_umol_kg\"\n",
      "[1] \"NO3_UDO\"\n",
      "[1] \"PO4_UDO\"\n",
      "[1] \"SiO4_UDO\"\n",
      "[1] \"NH4_USF\"\n",
      "[1] \"NO2_USF\"\n",
      "[1] \"NO3_NO2_USF\"\n",
      "[1] \"PO4_USF\"\n",
      "[1] \"SiO4_USF\"\n",
      "[1] \"pH\"\n",
      "[1] \"Alkalinity_mol_kg\"\n",
      "[1] \"Alkalinity_umol_kg\"\n",
      "[1] \"TCO2\"\n",
      "[1] \"fCO2\"\n",
      "[1] \"pH_corrected\"\n",
      "[1] \"TCO2_corrected\"\n",
      "[1] \"fCO2_corrected\"\n",
      "[1] \"Salinity_bottles\"\n",
      "[1] \"Salinity_CTD\"\n",
      "[1] \"Temperature\"\n",
      "[1] \"Sigma_t\"\n",
      "[1] \"TPP\"\n",
      "[1] \"PIP\"\n",
      "[1] \"POC_ug_kg\"\n",
      "[1] \"PON_ug_kg\"\n",
      "[1] \"POC_ug_L\"\n",
      "[1] \"PN_ug_L\"\n",
      "[1] \"C_N_particulate\"\n",
      "[1] \"DON\"\n",
      "[1] \"DOP\"\n",
      "[1] \"DOC\"\n",
      "[1] \"TOC\"\n",
      "[1] \"PrimaryProductivity\"\n",
      "[1] \"Chlorophyll\"\n",
      "[1] \"Phaeopigments\"\n",
      "[1] \"Total_Prokaryotes\"\n",
      "[1] \"Bact_Biomass_mgC_m3\"\n",
      "[1] \"Bact_Biomass_uMC\"\n"
     ]
    }
   ],
   "source": [
    "niskin_temp_store = list()\n",
    "\n",
    "for (variable in niskin_numeric) {\n",
    "    print(variable)\n",
    "    dat <- interpolateNiskin(variable)\n",
    "    niskin_temp_store[[variable]] <- data.frame(dat_var = dat$var, time_month = dat$time_month)\n",
    "    names(niskin_temp_store[[variable]])[1] <- variable\n",
    "    #print(head(niskin_temp_store[[variable]]))\n",
    "}"
   ]
  },
  {
   "cell_type": "code",
   "execution_count": 11,
   "metadata": {},
   "outputs": [],
   "source": [
    "niskin_intrp <- niskin_temp_store %>% \n",
    "    reduce(left_join, by = \"time_month\")"
   ]
  },
  {
   "cell_type": "code",
   "execution_count": 12,
   "metadata": {},
   "outputs": [
    {
     "data": {
      "text/html": [
       "<table>\n",
       "<caption>A data.frame: 6 × 40</caption>\n",
       "<thead>\n",
       "\t<tr><th></th><th scope=col>O2_ml_L</th><th scope=col>time_month</th><th scope=col>O2_umol_kg</th><th scope=col>NO3_UDO</th><th scope=col>PO4_UDO</th><th scope=col>SiO4_UDO</th><th scope=col>NH4_USF</th><th scope=col>NO2_USF</th><th scope=col>NO3_NO2_USF</th><th scope=col>PO4_USF</th><th scope=col>⋯</th><th scope=col>DON</th><th scope=col>DOP</th><th scope=col>DOC</th><th scope=col>TOC</th><th scope=col>PrimaryProductivity</th><th scope=col>Chlorophyll</th><th scope=col>Phaeopigments</th><th scope=col>Total_Prokaryotes</th><th scope=col>Bact_Biomass_mgC_m3</th><th scope=col>Bact_Biomass_uMC</th></tr>\n",
       "\t<tr><th></th><th scope=col>&lt;dbl&gt;</th><th scope=col>&lt;chr&gt;</th><th scope=col>&lt;dbl&gt;</th><th scope=col>&lt;dbl&gt;</th><th scope=col>&lt;dbl&gt;</th><th scope=col>&lt;dbl&gt;</th><th scope=col>&lt;dbl&gt;</th><th scope=col>&lt;dbl&gt;</th><th scope=col>&lt;dbl&gt;</th><th scope=col>&lt;dbl&gt;</th><th scope=col>⋯</th><th scope=col>&lt;dbl&gt;</th><th scope=col>&lt;dbl&gt;</th><th scope=col>&lt;dbl&gt;</th><th scope=col>&lt;dbl&gt;</th><th scope=col>&lt;dbl&gt;</th><th scope=col>&lt;dbl&gt;</th><th scope=col>&lt;dbl&gt;</th><th scope=col>&lt;dbl&gt;</th><th scope=col>&lt;dbl&gt;</th><th scope=col>&lt;dbl&gt;</th></tr>\n",
       "</thead>\n",
       "<tbody>\n",
       "\t<tr><th scope=row>1</th><td>4.066699</td><td>11-1995</td><td>177.2776</td><td>0.9217535</td><td>0.06162603</td><td>2.127115</td><td>NA</td><td>NA</td><td>NA</td><td>NA</td><td>⋯</td><td>NA</td><td>NA</td><td>78.70598</td><td>NA</td><td>       NA</td><td>0.1793046</td><td>0.2700351</td><td>       NA</td><td>      NA</td><td>       NA</td></tr>\n",
       "\t<tr><th scope=row>2</th><td>3.438551</td><td>12-1995</td><td>149.8085</td><td>3.0948845</td><td>0.21142690</td><td>3.868919</td><td>NA</td><td>NA</td><td>NA</td><td>NA</td><td>⋯</td><td>NA</td><td>NA</td><td>      NA</td><td>NA</td><td>0.4826918</td><td>0.1150949</td><td>0.1636278</td><td>0.7002847</td><td>2.131909</td><td>0.1776498</td></tr>\n",
       "\t<tr><th scope=row>3</th><td>3.405264</td><td>01-1996</td><td>148.3119</td><td>7.5116266</td><td>0.30383795</td><td>4.868135</td><td>NA</td><td>NA</td><td>NA</td><td>NA</td><td>⋯</td><td>NA</td><td>NA</td><td>81.52567</td><td>NA</td><td>2.0569311</td><td>0.5825762</td><td>0.3451711</td><td>3.0429052</td><td>9.928947</td><td>0.8274119</td></tr>\n",
       "\t<tr><th scope=row>4</th><td>3.304298</td><td>02-1996</td><td>143.9005</td><td>6.8777834</td><td>0.32541078</td><td>4.052312</td><td>NA</td><td>NA</td><td>NA</td><td>NA</td><td>⋯</td><td>NA</td><td>NA</td><td>70.76477</td><td>NA</td><td>1.2175528</td><td>0.3497634</td><td>0.2855399</td><td>2.5915307</td><td>8.455257</td><td>0.7046181</td></tr>\n",
       "\t<tr><th scope=row>5</th><td>3.412656</td><td>03-1996</td><td>148.5819</td><td>6.5870977</td><td>0.33615601</td><td>5.161176</td><td>NA</td><td>NA</td><td>NA</td><td>NA</td><td>⋯</td><td>NA</td><td>NA</td><td>      NA</td><td>NA</td><td>1.5397245</td><td>0.6365204</td><td>0.3778061</td><td>       NA</td><td>      NA</td><td>       NA</td></tr>\n",
       "\t<tr><th scope=row>6</th><td>3.569975</td><td>04-1996</td><td>155.4296</td><td>6.7700114</td><td>0.36042125</td><td>3.744388</td><td>NA</td><td>NA</td><td>NA</td><td>NA</td><td>⋯</td><td>NA</td><td>NA</td><td>89.78809</td><td>NA</td><td>0.9200121</td><td>2.2452814</td><td>1.3622393</td><td>1.6907867</td><td>5.531503</td><td>0.4609772</td></tr>\n",
       "</tbody>\n",
       "</table>\n"
      ],
      "text/latex": [
       "A data.frame: 6 × 40\n",
       "\\begin{tabular}{r|lllllllllllllllllllll}\n",
       "  & O2\\_ml\\_L & time\\_month & O2\\_umol\\_kg & NO3\\_UDO & PO4\\_UDO & SiO4\\_UDO & NH4\\_USF & NO2\\_USF & NO3\\_NO2\\_USF & PO4\\_USF & ⋯ & DON & DOP & DOC & TOC & PrimaryProductivity & Chlorophyll & Phaeopigments & Total\\_Prokaryotes & Bact\\_Biomass\\_mgC\\_m3 & Bact\\_Biomass\\_uMC\\\\\n",
       "  & <dbl> & <chr> & <dbl> & <dbl> & <dbl> & <dbl> & <dbl> & <dbl> & <dbl> & <dbl> & ⋯ & <dbl> & <dbl> & <dbl> & <dbl> & <dbl> & <dbl> & <dbl> & <dbl> & <dbl> & <dbl>\\\\\n",
       "\\hline\n",
       "\t1 & 4.066699 & 11-1995 & 177.2776 & 0.9217535 & 0.06162603 & 2.127115 & NA & NA & NA & NA & ⋯ & NA & NA & 78.70598 & NA &        NA & 0.1793046 & 0.2700351 &        NA &       NA &        NA\\\\\n",
       "\t2 & 3.438551 & 12-1995 & 149.8085 & 3.0948845 & 0.21142690 & 3.868919 & NA & NA & NA & NA & ⋯ & NA & NA &       NA & NA & 0.4826918 & 0.1150949 & 0.1636278 & 0.7002847 & 2.131909 & 0.1776498\\\\\n",
       "\t3 & 3.405264 & 01-1996 & 148.3119 & 7.5116266 & 0.30383795 & 4.868135 & NA & NA & NA & NA & ⋯ & NA & NA & 81.52567 & NA & 2.0569311 & 0.5825762 & 0.3451711 & 3.0429052 & 9.928947 & 0.8274119\\\\\n",
       "\t4 & 3.304298 & 02-1996 & 143.9005 & 6.8777834 & 0.32541078 & 4.052312 & NA & NA & NA & NA & ⋯ & NA & NA & 70.76477 & NA & 1.2175528 & 0.3497634 & 0.2855399 & 2.5915307 & 8.455257 & 0.7046181\\\\\n",
       "\t5 & 3.412656 & 03-1996 & 148.5819 & 6.5870977 & 0.33615601 & 5.161176 & NA & NA & NA & NA & ⋯ & NA & NA &       NA & NA & 1.5397245 & 0.6365204 & 0.3778061 &        NA &       NA &        NA\\\\\n",
       "\t6 & 3.569975 & 04-1996 & 155.4296 & 6.7700114 & 0.36042125 & 3.744388 & NA & NA & NA & NA & ⋯ & NA & NA & 89.78809 & NA & 0.9200121 & 2.2452814 & 1.3622393 & 1.6907867 & 5.531503 & 0.4609772\\\\\n",
       "\\end{tabular}\n"
      ],
      "text/markdown": [
       "\n",
       "A data.frame: 6 × 40\n",
       "\n",
       "| <!--/--> | O2_ml_L &lt;dbl&gt; | time_month &lt;chr&gt; | O2_umol_kg &lt;dbl&gt; | NO3_UDO &lt;dbl&gt; | PO4_UDO &lt;dbl&gt; | SiO4_UDO &lt;dbl&gt; | NH4_USF &lt;dbl&gt; | NO2_USF &lt;dbl&gt; | NO3_NO2_USF &lt;dbl&gt; | PO4_USF &lt;dbl&gt; | ⋯ ⋯ | DON &lt;dbl&gt; | DOP &lt;dbl&gt; | DOC &lt;dbl&gt; | TOC &lt;dbl&gt; | PrimaryProductivity &lt;dbl&gt; | Chlorophyll &lt;dbl&gt; | Phaeopigments &lt;dbl&gt; | Total_Prokaryotes &lt;dbl&gt; | Bact_Biomass_mgC_m3 &lt;dbl&gt; | Bact_Biomass_uMC &lt;dbl&gt; |\n",
       "|---|---|---|---|---|---|---|---|---|---|---|---|---|---|---|---|---|---|---|---|---|---|\n",
       "| 1 | 4.066699 | 11-1995 | 177.2776 | 0.9217535 | 0.06162603 | 2.127115 | NA | NA | NA | NA | ⋯ | NA | NA | 78.70598 | NA |        NA | 0.1793046 | 0.2700351 |        NA |       NA |        NA |\n",
       "| 2 | 3.438551 | 12-1995 | 149.8085 | 3.0948845 | 0.21142690 | 3.868919 | NA | NA | NA | NA | ⋯ | NA | NA |       NA | NA | 0.4826918 | 0.1150949 | 0.1636278 | 0.7002847 | 2.131909 | 0.1776498 |\n",
       "| 3 | 3.405264 | 01-1996 | 148.3119 | 7.5116266 | 0.30383795 | 4.868135 | NA | NA | NA | NA | ⋯ | NA | NA | 81.52567 | NA | 2.0569311 | 0.5825762 | 0.3451711 | 3.0429052 | 9.928947 | 0.8274119 |\n",
       "| 4 | 3.304298 | 02-1996 | 143.9005 | 6.8777834 | 0.32541078 | 4.052312 | NA | NA | NA | NA | ⋯ | NA | NA | 70.76477 | NA | 1.2175528 | 0.3497634 | 0.2855399 | 2.5915307 | 8.455257 | 0.7046181 |\n",
       "| 5 | 3.412656 | 03-1996 | 148.5819 | 6.5870977 | 0.33615601 | 5.161176 | NA | NA | NA | NA | ⋯ | NA | NA |       NA | NA | 1.5397245 | 0.6365204 | 0.3778061 |        NA |       NA |        NA |\n",
       "| 6 | 3.569975 | 04-1996 | 155.4296 | 6.7700114 | 0.36042125 | 3.744388 | NA | NA | NA | NA | ⋯ | NA | NA | 89.78809 | NA | 0.9200121 | 2.2452814 | 1.3622393 | 1.6907867 | 5.531503 | 0.4609772 |\n",
       "\n"
      ],
      "text/plain": [
       "  O2_ml_L  time_month O2_umol_kg NO3_UDO   PO4_UDO    SiO4_UDO NH4_USF NO2_USF\n",
       "1 4.066699 11-1995    177.2776   0.9217535 0.06162603 2.127115 NA      NA     \n",
       "2 3.438551 12-1995    149.8085   3.0948845 0.21142690 3.868919 NA      NA     \n",
       "3 3.405264 01-1996    148.3119   7.5116266 0.30383795 4.868135 NA      NA     \n",
       "4 3.304298 02-1996    143.9005   6.8777834 0.32541078 4.052312 NA      NA     \n",
       "5 3.412656 03-1996    148.5819   6.5870977 0.33615601 5.161176 NA      NA     \n",
       "6 3.569975 04-1996    155.4296   6.7700114 0.36042125 3.744388 NA      NA     \n",
       "  NO3_NO2_USF PO4_USF ⋯ DON DOP DOC      TOC PrimaryProductivity Chlorophyll\n",
       "1 NA          NA      ⋯ NA  NA  78.70598 NA         NA           0.1793046  \n",
       "2 NA          NA      ⋯ NA  NA        NA NA  0.4826918           0.1150949  \n",
       "3 NA          NA      ⋯ NA  NA  81.52567 NA  2.0569311           0.5825762  \n",
       "4 NA          NA      ⋯ NA  NA  70.76477 NA  1.2175528           0.3497634  \n",
       "5 NA          NA      ⋯ NA  NA        NA NA  1.5397245           0.6365204  \n",
       "6 NA          NA      ⋯ NA  NA  89.78809 NA  0.9200121           2.2452814  \n",
       "  Phaeopigments Total_Prokaryotes Bact_Biomass_mgC_m3 Bact_Biomass_uMC\n",
       "1 0.2700351            NA               NA                   NA       \n",
       "2 0.1636278     0.7002847         2.131909            0.1776498       \n",
       "3 0.3451711     3.0429052         9.928947            0.8274119       \n",
       "4 0.2855399     2.5915307         8.455257            0.7046181       \n",
       "5 0.3778061            NA               NA                   NA       \n",
       "6 1.3622393     1.6907867         5.531503            0.4609772       "
      ]
     },
     "metadata": {},
     "output_type": "display_data"
    }
   ],
   "source": [
    "head(niskin_intrp)"
   ]
  },
  {
   "cell_type": "markdown",
   "metadata": {},
   "source": [
    "# NOW:\n",
    "- join nutrient data into single column for NO2, NO3, NO3_NO2, PO4, SiO4, NH4\n",
    "- export to csv to merge later"
   ]
  },
  {
   "cell_type": "code",
   "execution_count": 20,
   "metadata": {},
   "outputs": [
    {
     "data": {
      "text/html": [
       "<style>\n",
       ".list-inline {list-style: none; margin:0; padding: 0}\n",
       ".list-inline>li {display: inline-block}\n",
       ".list-inline>li:not(:last-child)::after {content: \"\\00b7\"; padding: 0 .5ex}\n",
       "</style>\n",
       "<ol class=list-inline><li>'O2_ml_L'</li><li>'time_month'</li><li>'O2_umol_kg'</li><li>'NO3_UDO'</li><li>'PO4_UDO'</li><li>'SiO4_UDO'</li><li>'NH4_USF'</li><li>'NO2_USF'</li><li>'NO3_NO2_USF'</li><li>'PO4_USF'</li><li>'SiO4_USF'</li><li>'pH'</li><li>'Alkalinity_mol_kg'</li><li>'Alkalinity_umol_kg'</li><li>'TCO2'</li><li>'fCO2'</li><li>'pH_corrected'</li><li>'TCO2_corrected'</li><li>'fCO2_corrected'</li><li>'Salinity_bottles'</li><li>'Salinity_CTD'</li><li>'Temperature'</li><li>'Sigma_t'</li><li>'TPP'</li><li>'PIP'</li><li>'POC_ug_kg'</li><li>'PON_ug_kg'</li><li>'POC_ug_L'</li><li>'PN_ug_L'</li><li>'C_N_particulate'</li><li>'DON'</li><li>'DOP'</li><li>'DOC'</li><li>'TOC'</li><li>'PrimaryProductivity'</li><li>'Chlorophyll'</li><li>'Phaeopigments'</li><li>'Total_Prokaryotes'</li><li>'Bact_Biomass_mgC_m3'</li><li>'Bact_Biomass_uMC'</li><li>'NO3_USF'</li></ol>\n"
      ],
      "text/latex": [
       "\\begin{enumerate*}\n",
       "\\item 'O2\\_ml\\_L'\n",
       "\\item 'time\\_month'\n",
       "\\item 'O2\\_umol\\_kg'\n",
       "\\item 'NO3\\_UDO'\n",
       "\\item 'PO4\\_UDO'\n",
       "\\item 'SiO4\\_UDO'\n",
       "\\item 'NH4\\_USF'\n",
       "\\item 'NO2\\_USF'\n",
       "\\item 'NO3\\_NO2\\_USF'\n",
       "\\item 'PO4\\_USF'\n",
       "\\item 'SiO4\\_USF'\n",
       "\\item 'pH'\n",
       "\\item 'Alkalinity\\_mol\\_kg'\n",
       "\\item 'Alkalinity\\_umol\\_kg'\n",
       "\\item 'TCO2'\n",
       "\\item 'fCO2'\n",
       "\\item 'pH\\_corrected'\n",
       "\\item 'TCO2\\_corrected'\n",
       "\\item 'fCO2\\_corrected'\n",
       "\\item 'Salinity\\_bottles'\n",
       "\\item 'Salinity\\_CTD'\n",
       "\\item 'Temperature'\n",
       "\\item 'Sigma\\_t'\n",
       "\\item 'TPP'\n",
       "\\item 'PIP'\n",
       "\\item 'POC\\_ug\\_kg'\n",
       "\\item 'PON\\_ug\\_kg'\n",
       "\\item 'POC\\_ug\\_L'\n",
       "\\item 'PN\\_ug\\_L'\n",
       "\\item 'C\\_N\\_particulate'\n",
       "\\item 'DON'\n",
       "\\item 'DOP'\n",
       "\\item 'DOC'\n",
       "\\item 'TOC'\n",
       "\\item 'PrimaryProductivity'\n",
       "\\item 'Chlorophyll'\n",
       "\\item 'Phaeopigments'\n",
       "\\item 'Total\\_Prokaryotes'\n",
       "\\item 'Bact\\_Biomass\\_mgC\\_m3'\n",
       "\\item 'Bact\\_Biomass\\_uMC'\n",
       "\\item 'NO3\\_USF'\n",
       "\\end{enumerate*}\n"
      ],
      "text/markdown": [
       "1. 'O2_ml_L'\n",
       "2. 'time_month'\n",
       "3. 'O2_umol_kg'\n",
       "4. 'NO3_UDO'\n",
       "5. 'PO4_UDO'\n",
       "6. 'SiO4_UDO'\n",
       "7. 'NH4_USF'\n",
       "8. 'NO2_USF'\n",
       "9. 'NO3_NO2_USF'\n",
       "10. 'PO4_USF'\n",
       "11. 'SiO4_USF'\n",
       "12. 'pH'\n",
       "13. 'Alkalinity_mol_kg'\n",
       "14. 'Alkalinity_umol_kg'\n",
       "15. 'TCO2'\n",
       "16. 'fCO2'\n",
       "17. 'pH_corrected'\n",
       "18. 'TCO2_corrected'\n",
       "19. 'fCO2_corrected'\n",
       "20. 'Salinity_bottles'\n",
       "21. 'Salinity_CTD'\n",
       "22. 'Temperature'\n",
       "23. 'Sigma_t'\n",
       "24. 'TPP'\n",
       "25. 'PIP'\n",
       "26. 'POC_ug_kg'\n",
       "27. 'PON_ug_kg'\n",
       "28. 'POC_ug_L'\n",
       "29. 'PN_ug_L'\n",
       "30. 'C_N_particulate'\n",
       "31. 'DON'\n",
       "32. 'DOP'\n",
       "33. 'DOC'\n",
       "34. 'TOC'\n",
       "35. 'PrimaryProductivity'\n",
       "36. 'Chlorophyll'\n",
       "37. 'Phaeopigments'\n",
       "38. 'Total_Prokaryotes'\n",
       "39. 'Bact_Biomass_mgC_m3'\n",
       "40. 'Bact_Biomass_uMC'\n",
       "41. 'NO3_USF'\n",
       "\n",
       "\n"
      ],
      "text/plain": [
       " [1] \"O2_ml_L\"             \"time_month\"          \"O2_umol_kg\"         \n",
       " [4] \"NO3_UDO\"             \"PO4_UDO\"             \"SiO4_UDO\"           \n",
       " [7] \"NH4_USF\"             \"NO2_USF\"             \"NO3_NO2_USF\"        \n",
       "[10] \"PO4_USF\"             \"SiO4_USF\"            \"pH\"                 \n",
       "[13] \"Alkalinity_mol_kg\"   \"Alkalinity_umol_kg\"  \"TCO2\"               \n",
       "[16] \"fCO2\"                \"pH_corrected\"        \"TCO2_corrected\"     \n",
       "[19] \"fCO2_corrected\"      \"Salinity_bottles\"    \"Salinity_CTD\"       \n",
       "[22] \"Temperature\"         \"Sigma_t\"             \"TPP\"                \n",
       "[25] \"PIP\"                 \"POC_ug_kg\"           \"PON_ug_kg\"          \n",
       "[28] \"POC_ug_L\"            \"PN_ug_L\"             \"C_N_particulate\"    \n",
       "[31] \"DON\"                 \"DOP\"                 \"DOC\"                \n",
       "[34] \"TOC\"                 \"PrimaryProductivity\" \"Chlorophyll\"        \n",
       "[37] \"Phaeopigments\"       \"Total_Prokaryotes\"   \"Bact_Biomass_mgC_m3\"\n",
       "[40] \"Bact_Biomass_uMC\"    \"NO3_USF\"            "
      ]
     },
     "metadata": {},
     "output_type": "display_data"
    }
   ],
   "source": [
    "names(niskin_intrp)"
   ]
  },
  {
   "cell_type": "code",
   "execution_count": 19,
   "metadata": {},
   "outputs": [],
   "source": [
    "niskin_intrp$NO3_USF = niskin_intrp$NO3_NO2_USF - niskin_intrp$NO2_USF"
   ]
  },
  {
   "cell_type": "code",
   "execution_count": 27,
   "metadata": {},
   "outputs": [],
   "source": [
    "niskin_merged_nuts <- niskin_intrp %>%\n",
    "    group_by(time_month) %>%\n",
    "    mutate(NO3_merged =  mean(c(NO3_UDO, NO3_USF), na.rm=TRUE),\n",
    "          PO4_merged = mean(c(PO4_UDO, PO4_USF), na.rm=TRUE),\n",
    "          SiO4_merged = mean(c(SiO4_UDO, SiO4_USF), na.rm=TRUE))"
   ]
  },
  {
   "cell_type": "code",
   "execution_count": 28,
   "metadata": {},
   "outputs": [],
   "source": [
    "write.csv(niskin_merged_nuts, \"../DATA/Niskin_mergedNutrients.csv\")"
   ]
  },
  {
   "cell_type": "code",
   "execution_count": null,
   "metadata": {},
   "outputs": [],
   "source": []
  }
 ],
 "metadata": {
  "kernelspec": {
   "display_name": "R",
   "language": "R",
   "name": "ir"
  },
  "language_info": {
   "codemirror_mode": "r",
   "file_extension": ".r",
   "mimetype": "text/x-r-source",
   "name": "R",
   "pygments_lexer": "r",
   "version": "4.0.2"
  }
 },
 "nbformat": 4,
 "nbformat_minor": 4
}
