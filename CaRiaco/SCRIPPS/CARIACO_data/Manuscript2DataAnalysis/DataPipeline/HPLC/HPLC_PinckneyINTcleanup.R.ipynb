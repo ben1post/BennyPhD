{
 "cells": [
  {
   "cell_type": "code",
   "execution_count": 2,
   "id": "33a85cd6-8c5f-40dc-9581-5f734897073f",
   "metadata": {},
   "outputs": [],
   "source": [
    "library(tidyverse, warn.conflicts = FALSE)\n",
    "\n",
    "# library to read matlab data formats into R\n",
    "library(reshape2)\n",
    "library(lubridate)\n",
    "library(viridis)\n",
    "library(oce)\n",
    "\n",
    "# set strings as factors to false\n",
    "#options(stringsAsFactors = FALSE)"
   ]
  },
  {
   "cell_type": "markdown",
   "id": "80d1d29d-dd87-43a6-a88d-ae209bfd8290",
   "metadata": {},
   "source": [
    "# GET INTEGRATED HPLC FOR TCHLA AND FUNC TYPES"
   ]
  },
  {
   "cell_type": "code",
   "execution_count": 14,
   "id": "5260f106-84eb-4857-b329-389d6c466350",
   "metadata": {},
   "outputs": [],
   "source": [
    "HPLC_raw <- read.csv(\"../../HPLC/IntegratedValues_PINCKNEY.csv\", sep=\";\", dec=\",\")"
   ]
  },
  {
   "cell_type": "code",
   "execution_count": 15,
   "id": "9c531236-6768-4f39-9cb1-956865d66d0d",
   "metadata": {},
   "outputs": [],
   "source": [
    "HPLC_raw$date <- as.Date(HPLC_raw$Date, format=\"%m.%d.%y\")\n",
    "HPLC_raw$Depth <- as.factor(HPLC_raw$Depth)\n",
    "HPLC_raw$depth_num <- as.numeric(HPLC_raw$Depth) - 1"
   ]
  },
  {
   "cell_type": "code",
   "execution_count": 16,
   "id": "3113bfb9-97b0-41c4-bf3d-5db548b7dc4a",
   "metadata": {},
   "outputs": [
    {
     "name": "stdout",
     "output_type": "stream",
     "text": [
      "'data.frame':\t325 obs. of  16 variables:\n",
      " $ Year     : int  1995 1996 1996 1996 1996 1996 1996 1996 1996 1996 ...\n",
      " $ Month    : chr  \"Dec\" \"Jan\" \"Feb\" \"0\" ...\n",
      " $ Day      : int  14 13 14 13 17 10 13 11 7 11 ...\n",
      " $ Date     : chr  \"12.14.95\" \"01.13.96\" \"02.14.96\" \"03.13.96\" ...\n",
      " $ Depth    : Factor w/ 2 levels \"0 - 55 m\",\"55 - 100 m\": 1 1 1 1 1 1 1 1 1 1 ...\n",
      " $ Date.1   : chr  \"14-Dec-95\" \"13. Jan 96\" \"14. Feb 96\" \"13-Mar-96\" ...\n",
      " $ Tchla    : num  11.3 41.9 25.4 20.2 167.8 ...\n",
      " $ Prasino3 : num  1.93 0.96 1.08 0.37 0.84 0.92 3.6 0.52 2.04 0.49 ...\n",
      " $ Dino1    : num  0.85 6.23 1.79 1.8 2.72 0.01 0.79 0.79 0.43 0.57 ...\n",
      " $ Crypto1  : num  0.66 1.08 1.81 0.92 2.76 0.22 3.13 0.19 0.14 0.33 ...\n",
      " $ Hapto6   : num  2.13 2.55 1.79 1.84 50.01 ...\n",
      " $ Chloro1  : num  0 0.59 0 0.09 11.79 ...\n",
      " $ Cyano4   : num  0.66 0.4 0.25 0.25 1.35 0.53 0.09 2.07 1.17 1.51 ...\n",
      " $ Diatom1  : num  5.1 27.9 18.1 14.2 98.3 ...\n",
      " $ date     : Date, format: \"1995-12-14\" \"1996-01-13\" ...\n",
      " $ depth_num: num  0 0 0 0 0 0 0 0 0 0 ...\n"
     ]
    }
   ],
   "source": [
    "str(HPLC_raw)"
   ]
  },
  {
   "cell_type": "code",
   "execution_count": 19,
   "id": "ed35f20f-0ed1-4e29-97da-67a839660724",
   "metadata": {},
   "outputs": [],
   "source": [
    "HPLC <- HPLC_raw %>%\n",
    "    select(-Year, - Month, -Day, -Date, -Date.1)"
   ]
  },
  {
   "cell_type": "code",
   "execution_count": 20,
   "id": "e9092441-4019-41da-b8a0-4860268fc6fb",
   "metadata": {},
   "outputs": [
    {
     "name": "stdout",
     "output_type": "stream",
     "text": [
      "'data.frame':\t325 obs. of  11 variables:\n",
      " $ Depth    : Factor w/ 2 levels \"0 - 55 m\",\"55 - 100 m\": 1 1 1 1 1 1 1 1 1 1 ...\n",
      " $ Tchla    : num  11.3 41.9 25.4 20.2 167.8 ...\n",
      " $ Prasino3 : num  1.93 0.96 1.08 0.37 0.84 0.92 3.6 0.52 2.04 0.49 ...\n",
      " $ Dino1    : num  0.85 6.23 1.79 1.8 2.72 0.01 0.79 0.79 0.43 0.57 ...\n",
      " $ Crypto1  : num  0.66 1.08 1.81 0.92 2.76 0.22 3.13 0.19 0.14 0.33 ...\n",
      " $ Hapto6   : num  2.13 2.55 1.79 1.84 50.01 ...\n",
      " $ Chloro1  : num  0 0.59 0 0.09 11.79 ...\n",
      " $ Cyano4   : num  0.66 0.4 0.25 0.25 1.35 0.53 0.09 2.07 1.17 1.51 ...\n",
      " $ Diatom1  : num  5.1 27.9 18.1 14.2 98.3 ...\n",
      " $ date     : Date, format: \"1995-12-14\" \"1996-01-13\" ...\n",
      " $ depth_num: num  0 0 0 0 0 0 0 0 0 0 ...\n"
     ]
    }
   ],
   "source": [
    "str(HPLC)"
   ]
  },
  {
   "cell_type": "code",
   "execution_count": 30,
   "id": "a2e4c497-98e5-41c5-9199-5685d836dfc5",
   "metadata": {},
   "outputs": [],
   "source": [
    "write.csv(HPLC, \"../../DATA/January/HPLC_Tchla_FuncTypes_055_55100.csv\")"
   ]
  },
  {
   "cell_type": "markdown",
   "id": "0b8e0532-06ab-4d46-8c25-3e796fc187b2",
   "metadata": {},
   "source": [
    "## sum up depth intervals"
   ]
  },
  {
   "cell_type": "code",
   "execution_count": 31,
   "id": "1bb21553-c312-410d-95eb-03e8352f31a4",
   "metadata": {},
   "outputs": [],
   "source": [
    "HPLC100m <- HPLC %>%\n",
    "    group_by(date) %>%\n",
    "    summarize(Tchla = sum(Tchla),\n",
    "             Prasino3 = sum(Prasino3),\n",
    "             Dino1 = sum(Dino1),\n",
    "             Crypto1 = sum(Crypto1),\n",
    "             Hapto6 = sum(Hapto6),\n",
    "             Chloro1 = sum(Chloro1),\n",
    "             Cyano4 = sum(Cyano4),\n",
    "             Diatom1 = sum(Diatom1)\n",
    "             )"
   ]
  },
  {
   "cell_type": "code",
   "execution_count": 32,
   "id": "feb0bfd7-58a3-449a-9f68-ead24c109416",
   "metadata": {},
   "outputs": [
    {
     "name": "stdout",
     "output_type": "stream",
     "text": [
      "tibble [163 × 9] (S3: tbl_df/tbl/data.frame)\n",
      " $ date    : Date[1:163], format: \"1995-12-14\" \"1996-01-13\" ...\n",
      " $ Tchla   : num [1:163] 13.5 44.2 28.8 21.3 171.9 ...\n",
      " $ Prasino3: num [1:163] 2.54 1.43 1.64 0.49 1.11 1.11 4.43 0.89 4.19 0.82 ...\n",
      " $ Dino1   : num [1:163] 0.96 6.33 1.84 1.8 2.72 0.01 0.79 1.03 0.57 1.05 ...\n",
      " $ Crypto1 : num [1:163] 0.66 1.08 1.93 0.92 2.76 0.22 3.81 0.19 0.14 0.64 ...\n",
      " $ Hapto6  : num [1:163] 2.67 3.03 2.18 2.05 50.81 ...\n",
      " $ Chloro1 : num [1:163] 0 0.59 0 0.09 11.84 ...\n",
      " $ Cyano4  : num [1:163] 0.83 0.46 0.34 0.27 1.36 0.54 0.11 2.7 1.42 2.91 ...\n",
      " $ Diatom1 : num [1:163] 5.87 29.02 20.23 14.93 101.3 ...\n"
     ]
    }
   ],
   "source": [
    "str(HPLC100m)"
   ]
  },
  {
   "cell_type": "code",
   "execution_count": 33,
   "id": "8cf7de9c-18c6-4643-bc72-6ee0af0f2b29",
   "metadata": {},
   "outputs": [],
   "source": [
    "write.csv(HPLC100m, \"../../DATA/January/HPLC_Tchla_FuncType_sum100m.csv\")"
   ]
  },
  {
   "cell_type": "code",
   "execution_count": null,
   "id": "c4e34b05-ac75-4cf0-bcc2-9ec40c3db087",
   "metadata": {},
   "outputs": [],
   "source": []
  }
 ],
 "metadata": {
  "kernelspec": {
   "display_name": "R",
   "language": "R",
   "name": "ir"
  },
  "language_info": {
   "codemirror_mode": "r",
   "file_extension": ".r",
   "mimetype": "text/x-r-source",
   "name": "R",
   "pygments_lexer": "r",
   "version": "4.0.2"
  }
 },
 "nbformat": 4,
 "nbformat_minor": 5
}
