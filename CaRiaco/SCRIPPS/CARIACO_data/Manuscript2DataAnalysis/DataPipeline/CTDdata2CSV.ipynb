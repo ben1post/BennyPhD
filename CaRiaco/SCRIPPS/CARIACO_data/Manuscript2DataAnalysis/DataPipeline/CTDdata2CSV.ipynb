{
 "cells": [
  {
   "cell_type": "markdown",
   "metadata": {},
   "source": [
    "# Read CTD data"
   ]
  },
  {
   "cell_type": "code",
   "execution_count": 1,
   "metadata": {},
   "outputs": [],
   "source": [
    "import xarray as xr\n",
    "import pandas as pd\n",
    "import numpy as np"
   ]
  },
  {
   "cell_type": "code",
   "execution_count": 2,
   "metadata": {},
   "outputs": [],
   "source": [
    "ctd = xr.open_dataset(\"../../VeryNEWESTCariacoData/ctd.netcdf\")"
   ]
  },
  {
   "cell_type": "code",
   "execution_count": 3,
   "metadata": {},
   "outputs": [
    {
     "data": {
      "text/plain": [
       "Data variables:\n",
       "    cruise_no   (unlimited) float64 ...\n",
       "    Cruise_ID1  (unlimited) |S513 ...\n",
       "    Cruise_ID2  (unlimited) |S513 ...\n",
       "    Year        (unlimited) float64 ...\n",
       "    Month       (unlimited) float64 ...\n",
       "    Day         (unlimited) float64 ...\n",
       "    Date        (unlimited) |S513 ...\n",
       "    Latitude    (unlimited) float64 ...\n",
       "    Longitude   (unlimited) float64 ...\n",
       "    press       (unlimited) float64 ...\n",
       "    depth       (unlimited) float64 ...\n",
       "    temp        (unlimited) |S513 ...\n",
       "    sal         (unlimited) float64 ...\n",
       "    potemp      (unlimited) |S513 ...\n",
       "    sigma_t     (unlimited) |S513 ...\n",
       "    sigma_0     (unlimited) |S513 ...\n",
       "    O2_ml_L     (unlimited) |S513 ...\n",
       "    beam_cp     (unlimited) |S513 ...\n",
       "    beam_att    (unlimited) |S513 ...\n",
       "    fluor_CTD   (unlimited) float64 ...\n",
       "    fluor_chla  (unlimited) |S513 ..."
      ]
     },
     "execution_count": 3,
     "metadata": {},
     "output_type": "execute_result"
    }
   ],
   "source": [
    "ctd.data_vars"
   ]
  },
  {
   "cell_type": "markdown",
   "metadata": {},
   "source": [
    "# Convert and clean up datasets"
   ]
  },
  {
   "cell_type": "code",
   "execution_count": 4,
   "metadata": {},
   "outputs": [],
   "source": [
    "def convert_str_data(data, var):\n",
    "    return data[var].str.decode('utf-8')#, errors='coerce')"
   ]
  },
  {
   "cell_type": "code",
   "execution_count": 5,
   "metadata": {},
   "outputs": [],
   "source": [
    "def convert_numeric_data(data, var):\n",
    "    return pd.to_numeric(data[var], errors='coerce')"
   ]
  },
  {
   "cell_type": "code",
   "execution_count": 6,
   "metadata": {},
   "outputs": [],
   "source": [
    "# numerics\n",
    "ctd['temp'].values = convert_numeric_data(ctd, 'temp')\n",
    "ctd['potemp'].values = convert_numeric_data(ctd, 'potemp')\n",
    "ctd['sigma_t'].values = convert_numeric_data(ctd, 'sigma_t')\n",
    "ctd['sigma_0'].values = convert_numeric_data(ctd, 'sigma_0')\n",
    "ctd['O2_ml_L'].values = convert_numeric_data(ctd, 'O2_ml_L')\n",
    "ctd['beam_cp'].values = convert_numeric_data(ctd, 'beam_cp')\n",
    "ctd['beam_att'].values = convert_numeric_data(ctd, 'beam_att')\n",
    "ctd['fluor_chla'].values = convert_numeric_data(ctd, 'fluor_chla')"
   ]
  },
  {
   "cell_type": "code",
   "execution_count": 7,
   "metadata": {},
   "outputs": [],
   "source": [
    "# dates\n",
    "#ctd.Date.values = pd.to_datetime(ctd.Date.astype('str').values)\n",
    "ctd['Date'] = convert_str_data(ctd, 'Date')"
   ]
  },
  {
   "cell_type": "code",
   "execution_count": 8,
   "metadata": {},
   "outputs": [],
   "source": [
    "# strings\n",
    "ctd['Cruise_ID1'] = convert_str_data(ctd, 'Cruise_ID1')\n",
    "ctd['Cruise_ID2'] = convert_str_data(ctd, 'Cruise_ID2')"
   ]
  },
  {
   "cell_type": "code",
   "execution_count": 9,
   "metadata": {},
   "outputs": [],
   "source": [
    "CTD_dat_pd = ctd.to_array().to_pandas().T  #.to_csv(\"CTD_data_export\")"
   ]
  },
  {
   "cell_type": "markdown",
   "metadata": {},
   "source": [
    "# export as CSV"
   ]
  },
  {
   "cell_type": "code",
   "execution_count": 10,
   "metadata": {},
   "outputs": [],
   "source": [
    "CTD_dat_pd.to_csv(\"CTD_newest_full.csv\")"
   ]
  },
  {
   "cell_type": "code",
   "execution_count": null,
   "metadata": {},
   "outputs": [],
   "source": []
  },
  {
   "cell_type": "code",
   "execution_count": null,
   "metadata": {},
   "outputs": [],
   "source": []
  }
 ],
 "metadata": {
  "kernelspec": {
   "display_name": "Python 3",
   "language": "python",
   "name": "python3"
  },
  "language_info": {
   "codemirror_mode": {
    "name": "ipython",
    "version": 3
   },
   "file_extension": ".py",
   "mimetype": "text/x-python",
   "name": "python",
   "nbconvert_exporter": "python",
   "pygments_lexer": "ipython3",
   "version": "3.9.7"
  }
 },
 "nbformat": 4,
 "nbformat_minor": 4
}
