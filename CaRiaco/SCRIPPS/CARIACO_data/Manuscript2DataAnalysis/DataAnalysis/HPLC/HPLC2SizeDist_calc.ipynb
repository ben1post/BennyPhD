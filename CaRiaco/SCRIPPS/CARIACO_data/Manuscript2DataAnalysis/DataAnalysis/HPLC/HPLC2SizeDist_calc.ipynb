{
 "cells": [
  {
   "cell_type": "code",
   "execution_count": null,
   "id": "0e366e5e-1e63-42ad-9df3-ff54d7fd0980",
   "metadata": {},
   "outputs": [],
   "source": [
    "import numpy as np\n",
    "import pandas as pd\n",
    "import matplotlib.pyplot as plt"
   ]
  },
  {
   "cell_type": "code",
   "execution_count": null,
   "id": "3d58f09c-0e0b-4087-a102-10e6303740c3",
   "metadata": {},
   "outputs": [],
   "source": [
    "CARIACO = pd.read_csv(\"../DATA/January/Combined_CARIACO_data_v5.csv\")\n",
    "CARIACO['date'] = pd.to_datetime(CARIACO['time_month'])\n",
    "CARIACO = CARIACO.set_index('date')"
   ]
  },
  {
   "cell_type": "code",
   "execution_count": null,
   "id": "ce3870f2-469e-490d-88c3-2edb7f131c0a",
   "metadata": {},
   "outputs": [],
   "source": []
  },
  {
   "cell_type": "code",
   "execution_count": null,
   "id": "12c01350-f7e8-457f-9859-24fc17a99d7b",
   "metadata": {},
   "outputs": [],
   "source": []
  }
 ],
 "metadata": {
  "kernelspec": {
   "display_name": "Python 3 (ipykernel)",
   "language": "python",
   "name": "python3"
  },
  "language_info": {
   "codemirror_mode": {
    "name": "ipython",
    "version": 3
   },
   "file_extension": ".py",
   "mimetype": "text/x-python",
   "name": "python",
   "nbconvert_exporter": "python",
   "pygments_lexer": "ipython3",
   "version": "3.9.9"
  }
 },
 "nbformat": 4,
 "nbformat_minor": 5
}
