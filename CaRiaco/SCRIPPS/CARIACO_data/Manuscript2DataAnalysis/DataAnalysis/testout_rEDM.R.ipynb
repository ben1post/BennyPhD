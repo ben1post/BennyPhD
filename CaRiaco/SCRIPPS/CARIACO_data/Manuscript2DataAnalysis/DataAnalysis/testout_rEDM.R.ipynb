{
 "cells": [
  {
   "cell_type": "markdown",
   "id": "ea19e759-a62d-4051-930f-455815ac2b46",
   "metadata": {},
   "source": [
    "# zero mean and unit variance:"
   ]
  },
  {
   "cell_type": "code",
   "execution_count": null,
   "id": "a6e796cc-9e13-41d5-945e-4cd5423ae0b6",
   "metadata": {},
   "outputs": [],
   "source": []
  }
 ],
 "metadata": {
  "kernelspec": {
   "display_name": "R",
   "language": "R",
   "name": "ir"
  },
  "language_info": {
   "codemirror_mode": "r",
   "file_extension": ".r",
   "mimetype": "text/x-r-source",
   "name": "R",
   "pygments_lexer": "r",
   "version": "4.0.2"
  }
 },
 "nbformat": 4,
 "nbformat_minor": 5
}
