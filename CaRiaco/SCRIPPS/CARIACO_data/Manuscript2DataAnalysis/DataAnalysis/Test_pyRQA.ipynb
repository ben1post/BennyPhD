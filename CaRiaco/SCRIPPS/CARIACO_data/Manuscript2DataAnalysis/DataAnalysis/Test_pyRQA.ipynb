{
 "cells": [
  {
   "cell_type": "code",
   "execution_count": 7,
   "id": "18f021b9-f2af-4a98-88de-aa8f57e2eebe",
   "metadata": {},
   "outputs": [],
   "source": [
    "import numpy as np\n",
    "import pandas as pd\n",
    "import matplotlib.pyplot as plt\n",
    "\n",
    "CARIACO = pd.read_csv(\"../DATA/January/Combined_CARIACO_data_v5.csv\")\n",
    "CARIACO['date'] = pd.to_datetime(CARIACO['time_month'])\n",
    "CARIACO = CARIACO.set_index('date')"
   ]
  },
  {
   "cell_type": "code",
   "execution_count": 39,
   "id": "b67c41a8-3310-4528-b437-a09f8ea6a77c",
   "metadata": {},
   "outputs": [],
   "source": [
    "sat_chla = CARIACO.Chlorophyll.values\n",
    "sat_chla = sat_chla[~np.isnan(sat_chla)]"
   ]
  },
  {
   "cell_type": "code",
   "execution_count": 40,
   "id": "5366bb39-afd0-4da8-bef7-641a13dddeb9",
   "metadata": {},
   "outputs": [
    {
     "name": "stdout",
     "output_type": "stream",
     "text": [
      "[Platform 'Apple']\n",
      "Vendor: Apple\n",
      "Version: OpenCL 1.2 (Jun 21 2021 20:10:17)\n",
      "Profile: FULL_PROFILE\n",
      "Extensions: cl_APPLE_SetMemObjectDestructor cl_APPLE_ContextLoggingFunctions cl_APPLE_clut cl_APPLE_query_kernel_names cl_APPLE_gl_sharing cl_khr_gl_event\n",
      "\n",
      "\n",
      "[Device 'Intel(R) Core(TM) i7-4980HQ CPU @ 2.80GHz']\n",
      "Vendor: Intel\n",
      "Type: 2\n",
      "Version: OpenCL 1.2 \n",
      "Profile: FULL_PROFILE\n",
      "Max Clock Frequency: 2800\n",
      "Global Mem Size: 17179869184\n",
      "Address Bits: 64\n",
      "Max Compute Units: 8\n",
      "Max Work Group Size: 1024\n",
      "Max Work Item Dimensions: 3\n",
      "Max Work Item Sizes: [1024, 1, 1]\n",
      "Local Mem Size: 32768\n",
      "Max Mem Alloc Size: 4294967296\n",
      "Extensions: cl_APPLE_SetMemObjectDestructor cl_APPLE_ContextLoggingFunctions cl_APPLE_clut cl_APPLE_query_kernel_names cl_APPLE_gl_sharing cl_khr_gl_event cl_khr_fp64 cl_khr_global_int32_base_atomics cl_khr_global_int32_extended_atomics cl_khr_local_int32_base_atomics cl_khr_local_int32_extended_atomics cl_khr_byte_addressable_store cl_khr_int64_base_atomics cl_khr_int64_extended_atomics cl_khr_3d_image_writes cl_khr_image2d_from_buffer cl_APPLE_fp64_basic_ops cl_APPLE_fixed_alpha_channel_orders cl_APPLE_biased_fixed_point_image_formats cl_APPLE_command_queue_priority\n",
      "\n",
      "\n",
      "RQA Result:\n",
      "===========\n",
      "\n",
      "Minimum diagonal line length (L_min): 2\n",
      "Minimum vertical line length (V_min): 2\n",
      "Minimum white vertical line length (W_min): 2\n",
      "\n",
      "Recurrence rate (RR): 0.731126\n",
      "Determinism (DET): 0.877361\n",
      "Average diagonal line length (L): 7.510782\n",
      "Longest diagonal line length (L_max): 43\n",
      "Divergence (DIV): 0.023256\n",
      "Entropy diagonal lines (L_entr): 2.691373\n",
      "Laminarity (LAM): 0.933518\n",
      "Trapping time (TT): 11.108628\n",
      "Longest vertical line length (V_max): 95\n",
      "Entropy vertical lines (V_entr): 2.626087\n",
      "Average white vertical line length (W): 6.899306\n",
      "Longest white vertical line length (W_max): 143\n",
      "Longest white vertical line length inverse (W_div): 0.006993\n",
      "Entropy white vertical lines (W_entr): 2.314367\n",
      "\n",
      "Ratio determinism / recurrence rate (DET/RR): 1.200013\n",
      "Ratio laminarity / determinism (LAM/DET): 1.064006\n",
      "\n"
     ]
    }
   ],
   "source": [
    "from pyrqa.time_series import TimeSeries\n",
    "from pyrqa.settings import Settings\n",
    "from pyrqa.analysis_type import Classic\n",
    "from pyrqa.neighbourhood import FixedRadius\n",
    "from pyrqa.metric import EuclideanMetric\n",
    "from pyrqa.computation import RQAComputation\n",
    "data_points = sat_chla\n",
    "time_series = TimeSeries(data_points,\n",
    "                         embedding_dimension=2,\n",
    "                         time_delay=2)\n",
    "settings = Settings(time_series,\n",
    "                    analysis_type=Classic,\n",
    "                    neighbourhood=FixedRadius(0.65),\n",
    "                    similarity_measure=EuclideanMetric,\n",
    "                    theiler_corrector=1)\n",
    "computation = RQAComputation.create(settings,\n",
    "                                    verbose=True)\n",
    "result = computation.run()\n",
    "result.min_diagonal_line_length = 2\n",
    "result.min_vertical_line_length = 2\n",
    "result.min_white_vertical_line_length = 2\n",
    "print(result)"
   ]
  },
  {
   "cell_type": "code",
   "execution_count": 41,
   "id": "9bf1ccb9-2edf-4ae6-a1f5-cd0779ce95b6",
   "metadata": {},
   "outputs": [],
   "source": [
    "from pyrqa.computation import RPComputation\n",
    "from pyrqa.image_generator import ImageGenerator\n",
    "computation = RPComputation.create(settings)\n",
    "result = computation.run()\n",
    "ImageGenerator.save_recurrence_plot(result.recurrence_matrix_reverse,\n",
    "                                    'CHLa_recurrence_plot.png')"
   ]
  },
  {
   "cell_type": "code",
   "execution_count": 43,
   "id": "e74177a1-a7f4-4e4e-8c92-5ca9a3d586ca",
   "metadata": {},
   "outputs": [],
   "source": [
    "# two time series\n",
    "\n",
    "CSUB1 = CARIACO[['u10',\n",
    "         'sst',\n",
    "         'mtpr',\n",
    "         'cdir',\n",
    "         'e',\n",
    "         'Satellite_chla',\n",
    "                 'Chlorophyll'\n",
    "        ]].dropna()\n",
    "\n",
    "\n",
    "dat1 = CSUB1.Satellite_chla.values\n",
    "dat2 = CSUB1.Chlorophyll.values"
   ]
  },
  {
   "cell_type": "code",
   "execution_count": 44,
   "id": "6d67d179-0546-4ae4-aad5-95ee9c71607f",
   "metadata": {},
   "outputs": [],
   "source": [
    "#dat1, dat2"
   ]
  },
  {
   "cell_type": "code",
   "execution_count": 45,
   "id": "59124abf-fd75-4f84-bc2b-1be30e226c2b",
   "metadata": {},
   "outputs": [
    {
     "name": "stdout",
     "output_type": "stream",
     "text": [
      "[Platform 'Apple']\n",
      "Vendor: Apple\n",
      "Version: OpenCL 1.2 (Jun 21 2021 20:10:17)\n",
      "Profile: FULL_PROFILE\n",
      "Extensions: cl_APPLE_SetMemObjectDestructor cl_APPLE_ContextLoggingFunctions cl_APPLE_clut cl_APPLE_query_kernel_names cl_APPLE_gl_sharing cl_khr_gl_event\n",
      "\n",
      "\n",
      "[Device 'Intel(R) Core(TM) i7-4980HQ CPU @ 2.80GHz']\n",
      "Vendor: Intel\n",
      "Type: 2\n",
      "Version: OpenCL 1.2 \n",
      "Profile: FULL_PROFILE\n",
      "Max Clock Frequency: 2800\n",
      "Global Mem Size: 17179869184\n",
      "Address Bits: 64\n",
      "Max Compute Units: 8\n",
      "Max Work Group Size: 1024\n",
      "Max Work Item Dimensions: 3\n",
      "Max Work Item Sizes: [1024, 1, 1]\n",
      "Local Mem Size: 32768\n",
      "Max Mem Alloc Size: 4294967296\n",
      "Extensions: cl_APPLE_SetMemObjectDestructor cl_APPLE_ContextLoggingFunctions cl_APPLE_clut cl_APPLE_query_kernel_names cl_APPLE_gl_sharing cl_khr_gl_event cl_khr_fp64 cl_khr_global_int32_base_atomics cl_khr_global_int32_extended_atomics cl_khr_local_int32_base_atomics cl_khr_local_int32_extended_atomics cl_khr_byte_addressable_store cl_khr_int64_base_atomics cl_khr_int64_extended_atomics cl_khr_3d_image_writes cl_khr_image2d_from_buffer cl_APPLE_fp64_basic_ops cl_APPLE_fixed_alpha_channel_orders cl_APPLE_biased_fixed_point_image_formats cl_APPLE_command_queue_priority\n",
      "\n",
      "\n",
      "CRQA Result:\n",
      "============\n",
      "\n",
      "Minimum diagonal line length (L_min): 2\n",
      "Minimum vertical line length (V_min): 2\n",
      "Minimum white vertical line length (W_min): 2\n",
      "\n",
      "Recurrence rate (RR): 0.497657\n",
      "Determinism (DET): 0.921151\n",
      "Average diagonal line length (L): 4.619518\n",
      "Longest diagonal line length (L_max): 18\n",
      "Divergence (DIV): 0.055556\n",
      "Entropy diagonal lines (L_entr): 2.008212\n",
      "Laminarity (LAM): 0.933116\n",
      "Trapping time (TT): 11.748336\n",
      "Longest vertical line length (V_max): 98\n",
      "Entropy vertical lines (V_entr): 2.604867\n",
      "Average white vertical line length (W): 16.880847\n",
      "Longest white vertical line length (W_max): 204\n",
      "Longest white vertical line length inverse (W_div): 0.004902\n",
      "Entropy white vertical lines (W_entr): 2.906685\n",
      "\n",
      "Ratio determinism / recurrence rate (DET/RR): 1.850978\n",
      "Ratio laminarity / determinism (LAM/DET): 1.012988\n",
      "\n"
     ]
    }
   ],
   "source": [
    "from pyrqa.analysis_type import Cross\n",
    "data_points_x = dat1\n",
    "time_series_x = TimeSeries(data_points_x,\n",
    "                           embedding_dimension=2,\n",
    "                           time_delay=1)\n",
    "data_points_y = dat2\n",
    "time_series_y = TimeSeries(data_points_y,\n",
    "                           embedding_dimension=2,\n",
    "                           time_delay=2)\n",
    "time_series = (time_series_x,\n",
    "               time_series_y)\n",
    "settings = Settings(time_series,\n",
    "                    analysis_type=Cross,\n",
    "                    neighbourhood=FixedRadius(0.73),\n",
    "                    similarity_measure=EuclideanMetric,\n",
    "                    theiler_corrector=0)\n",
    "computation = RQAComputation.create(settings,\n",
    "                                    verbose=True)\n",
    "result = computation.run()\n",
    "result.min_diagonal_line_length = 2\n",
    "result.min_vertical_line_length = 2\n",
    "result.min_white_vertical_line_length = 2\n",
    "print(result)"
   ]
  },
  {
   "cell_type": "code",
   "execution_count": 46,
   "id": "502bd21c-e7e9-4dec-bdff-abc4bb63dd91",
   "metadata": {},
   "outputs": [],
   "source": [
    "from pyrqa.computation import RPComputation\n",
    "from pyrqa.image_generator import ImageGenerator\n",
    "computation = RPComputation.create(settings)\n",
    "result = computation.run()\n",
    "ImageGenerator.save_recurrence_plot(result.recurrence_matrix_reverse,\n",
    "                                    'cross_recurrence_plot_ChlvsChl.png')"
   ]
  },
  {
   "cell_type": "code",
   "execution_count": null,
   "id": "867e2973-9e24-4cd6-a8a6-8295bdcfaaf8",
   "metadata": {},
   "outputs": [],
   "source": []
  }
 ],
 "metadata": {
  "kernelspec": {
   "display_name": "Python 3 (ipykernel)",
   "language": "python",
   "name": "python3"
  },
  "language_info": {
   "codemirror_mode": {
    "name": "ipython",
    "version": 3
   },
   "file_extension": ".py",
   "mimetype": "text/x-python",
   "name": "python",
   "nbconvert_exporter": "python",
   "pygments_lexer": "ipython3",
   "version": "3.9.9"
  }
 },
 "nbformat": 4,
 "nbformat_minor": 5
}
