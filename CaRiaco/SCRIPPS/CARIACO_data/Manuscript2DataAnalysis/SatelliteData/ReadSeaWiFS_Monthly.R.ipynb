{
 "cells": [
  {
   "cell_type": "markdown",
   "metadata": {},
   "source": [
    "# Read SeaWIFs 8 day extracted data\n",
    "\n",
    "this R notebook reads netcdf files from L3 Browser @ NASA Ocean Color https://oceancolor.gsfc.nasa.gov/l3/\n",
    "\n",
    "the data is from 8-day running averages of PAR measured by SeaWIFs extracted from the Cariaco Region"
   ]
  },
  {
   "cell_type": "code",
   "execution_count": 1,
   "metadata": {},
   "outputs": [],
   "source": [
    "library(\"ncdf4\")\n",
    "library(\"reshape2\")"
   ]
  },
  {
   "cell_type": "code",
   "execution_count": 2,
   "metadata": {},
   "outputs": [
    {
     "data": {
      "text/html": [
       "TRUE"
      ],
      "text/latex": [
       "TRUE"
      ],
      "text/markdown": [
       "TRUE"
      ],
      "text/plain": [
       "[1] TRUE"
      ]
     },
     "metadata": {},
     "output_type": "display_data"
    },
    {
     "name": "stdout",
     "output_type": "stream",
     "text": [
      "[1] \"DATA/SeaWiFS_monthly.csv\"\n"
     ]
    }
   ],
   "source": [
    "outputfile <- \"DATA/SeaWiFS_monthly.csv\"\n",
    "if (file.exists(outputfile)) file.remove(outputfile)    # caution new data will be appended to this file if it already exists\n",
    "print(outputfile)"
   ]
  },
  {
   "cell_type": "markdown",
   "metadata": {},
   "source": [
    "## create bounding box & create list of file names"
   ]
  },
  {
   "cell_type": "code",
   "execution_count": 3,
   "metadata": {},
   "outputs": [
    {
     "data": {
      "text/html": [
       "'outputfile'"
      ],
      "text/latex": [
       "'outputfile'"
      ],
      "text/markdown": [
       "'outputfile'"
      ],
      "text/plain": [
       "[1] \"outputfile\""
      ]
     },
     "metadata": {},
     "output_type": "display_data"
    },
    {
     "name": "stdout",
     "output_type": "stream",
     "text": [
      "[1] \"S19972741997304.L3m_MO_CHL.x_chlor_a.nc\"\n",
      "[2] \"S19973051997334.L3m_MO_CHL.x_chlor_a.nc\"\n",
      "[3] \"S19973351997365.L3m_MO_CHL.x_chlor_a.nc\"\n",
      "[4] \"S19980011998031.L3m_MO_CHL.x_chlor_a.nc\"\n",
      "[5] \"S19980321998059.L3m_MO_CHL.x_chlor_a.nc\"\n",
      "[6] \"S19980601998090.L3m_MO_CHL.x_chlor_a.nc\"\n"
     ]
    }
   ],
   "source": [
    "# list and remove objects\n",
    "ls()\n",
    "rm(list = ls())\n",
    "\n",
    "# set the study area\n",
    "latmax <- 10.683\n",
    "latmin <- 10.492\n",
    "lonmax <- -64.367\n",
    "lonmin <- -64.735\n",
    "\n",
    "\n",
    "#lat = c(10.35,  10.78, 10.78, 10.35)\n",
    "#lon = c(-64.53,-64.53,-64.9, -64.9)\n",
    "\n",
    "#latmax <- 10.8\n",
    "#latmin <- 10.5\n",
    "#lonmax <- -64.6\n",
    "# lonmin <- -65.2\n",
    "\n",
    "# create a list of files and indicate its length\n",
    "f <- list.files(\"RAW/requested_files_4/.\", pattern=\"*.L3m_MO_CHL.x_chlor_a.nc\",full.names=F)\n",
    "lf<-length(f)\n",
    "print(head(f))"
   ]
  },
  {
   "cell_type": "markdown",
   "metadata": {},
   "source": [
    "## show netcdf file structure"
   ]
  },
  {
   "cell_type": "code",
   "execution_count": 4,
   "metadata": {},
   "outputs": [
    {
     "name": "stdout",
     "output_type": "stream",
     "text": [
      "File RAW/requested_files_4/S19972741997304.L3m_MO_CHL.x_chlor_a.nc (NC_FORMAT_NETCDF4):\n",
      "\n",
      "     2 variables (excluding dimension variables):\n",
      "        float chlor_a[lon,lat]   (Chunking: [3,2])  (Compression: shuffle,level 4)\n",
      "            long_name: Chlorophyll Concentration, OCI Algorithm\n",
      "            units: mg m^-3\n",
      "            standard_name: mass_concentration_of_chlorophyll_in_sea_water\n",
      "            _FillValue: -32767\n",
      "            valid_min: 0.00100000004749745\n",
      "            valid_max: 100\n",
      "            reference: Hu, C., Lee Z., and Franz, B.A. (2012). Chlorophyll-a algorithms for oligotrophic oceans: A novel approach based on three-band reflectance difference, J. Geophys. Res., 117, C01011, doi:10.1029/2011JC007395.\n",
      "            display_scale: log\n",
      "            display_min: 0.00999999977648258\n",
      "            display_max: 20\n",
      "        unsigned byte palette[eightbitcolor,rgb]   (Contiguous storage)  \n",
      "\n",
      "     4 dimensions:\n",
      "        lat  Size:5\n",
      "            long_name: Latitude\n",
      "            units: degrees_north\n",
      "            standard_name: latitude\n",
      "            _FillValue: -999\n",
      "            valid_min: -90\n",
      "            valid_max: 90\n",
      "        lon  Size:8\n",
      "            long_name: Longitude\n",
      "            units: degrees_east\n",
      "            standard_name: longitude\n",
      "            _FillValue: -999\n",
      "            valid_min: -180\n",
      "            valid_max: 180\n",
      "        rgb  Size:3\n",
      "[1] \"vobjtovarid4: **** WARNING **** I was asked to get a varid for dimension named rgb BUT this dimension HAS NO DIMVAR! Code will probably fail at this point\"\n",
      "        eightbitcolor  Size:256\n",
      "[1] \"vobjtovarid4: **** WARNING **** I was asked to get a varid for dimension named eightbitcolor BUT this dimension HAS NO DIMVAR! Code will probably fail at this point\"\n",
      "[1] \">>>> WARNING <<<  attribute data_bins is an 8-byte value, but R\"\n",
      "[1] \"does not support this data type. I am returning a double precision\"\n",
      "[1] \"floating point, but you must be aware that this could lose precision!\"\n",
      "\n",
      "    60 global attributes:\n",
      "        product_name: S19972741997304.L3m_MO_CHL.x_chlor_a.nc\n",
      "        instrument: SeaWiFS\n",
      "        title: SeaWiFS Level-3 Equidistant Cylindrical Mapped Image\n",
      "        project: Ocean Biology Processing Group (NASA/GSFC/OBPG)\n",
      "        platform: Orbview-2\n",
      "        temporal_range: month\n",
      "        processing_version: Unspecified\n",
      "        date_created: 2022-01-12T15:02:14.000Z\n",
      "        history: l3mapgen par=S19972741997304.L3m_MO_CHL.x_chlor_a.nc.param \n",
      "        l2_flag_names: ATMFAIL,LAND,HILT,HISATZEN,STRAYLIGHT,CLDICE,COCCOLITH,LOWLW,CHLWARN,CHLFAIL,NAVWARN,MAXAERITER,ATMWARN,HISOLZEN,NAVFAIL,FILTER,HIGLINT\n",
      "        time_coverage_start: 1997-09-30T20:56:59.000Z\n",
      "        time_coverage_end: 1997-11-01T01:04:34.000Z\n",
      "        start_orbit_number: 900\n",
      "        end_orbit_number: 1353\n",
      "        map_projection: PlateCarree\n",
      "        latitude_units: degrees_north\n",
      "        longitude_units: degrees_east\n",
      "        northernmost_latitude: 10.8830003738403\n",
      "        southernmost_latitude: 10.4919996261597\n",
      "        westernmost_longitude: -65\n",
      "        easternmost_longitude: -64.3669967651367\n",
      "        geospatial_lat_max: 10.8830003738403\n",
      "        geospatial_lat_min: 10.4919996261597\n",
      "        geospatial_lon_max: -64.3669967651367\n",
      "        geospatial_lon_min: -65\n",
      "        latitude_step: 0.0782001465559006\n",
      "        longitude_step: 0.0791254043579102\n",
      "        sw_point_latitude: 10.531099319458\n",
      "        sw_point_longitude: -64.9604339599609\n",
      "        spatialResolution: 9.28 km\n",
      "        geospatial_lon_resolution: 0.0833333358168602\n",
      "        geospatial_lat_resolution: 0.0833333358168602\n",
      "        geospatial_lat_units: degrees_north\n",
      "        geospatial_lon_units: degrees_east\n",
      "        number_of_lines: 5\n",
      "        number_of_columns: 8\n",
      "        measure: Mean\n",
      "        suggested_image_scaling_minimum: 0.00999999977648258\n",
      "        suggested_image_scaling_maximum: 20\n",
      "        suggested_image_scaling_type: LOG\n",
      "        suggested_image_scaling_applied: No\n",
      "        _lastModified: 2022-01-12T15:02:14.000Z\n",
      "        Conventions: CF-1.6 ACDD-1.3\n",
      "        institution: NASA Goddard Space Flight Center, Ocean Ecology Laboratory, Ocean Biology Processing Group\n",
      "        standard_name_vocabulary: CF Standard Name Table v36\n",
      "        naming_authority: gov.nasa.gsfc.sci.oceandata\n",
      "        id: L3/S19972741997304.L3b_MO_CHL.x.nc\n",
      "        license: https://science.nasa.gov/earth-science/earth-science-data/data-information-policy/\n",
      "        creator_name: NASA/GSFC/OBPG\n",
      "        publisher_name: NASA/GSFC/OBPG\n",
      "        creator_email: data@oceancolor.gsfc.nasa.gov\n",
      "        publisher_email: data@oceancolor.gsfc.nasa.gov\n",
      "        creator_url: https://oceandata.sci.gsfc.nasa.gov\n",
      "        publisher_url: https://oceandata.sci.gsfc.nasa.gov\n",
      "        processing_level: L3 Mapped\n",
      "        cdm_data_type: grid\n",
      "        proj4_string: +proj=eqc +lat_ts=0 +lat_0=0 +x_0=0 +y_0=0 +ellps=WGS84 +datum=WGS84 +units=m +no_defs +lon_0=-64.683502\n",
      "        data_bins: 40\n",
      "        data_minimum: 0.146130278706551\n",
      "        data_maximum: 0.522465109825134\n"
     ]
    }
   ],
   "source": [
    "data<-nc_open(paste('RAW/requested_files_4/',f[1],sep=''))\n",
    "print(data)\n",
    "#ncvar_get(data, \"chlor_a\")\n",
    "# extract data\n",
    "nc_close(data)"
   ]
  },
  {
   "cell_type": "markdown",
   "metadata": {},
   "source": [
    "## define variable to extract "
   ]
  },
  {
   "cell_type": "code",
   "execution_count": 5,
   "metadata": {},
   "outputs": [],
   "source": [
    "# variable\n",
    "#var <- \"chlor_a\""
   ]
  },
  {
   "cell_type": "markdown",
   "metadata": {},
   "source": [
    "## Open each individual file and extract values within bounding box defined above"
   ]
  },
  {
   "cell_type": "code",
   "execution_count": 6,
   "metadata": {},
   "outputs": [
    {
     "name": "stdout",
     "output_type": "stream",
     "text": [
      "[1] \"Processing file 1 from 152\"\n",
      "[1] \"Processing file 2 from 152\"\n",
      "[1] \"Processing file 3 from 152\"\n",
      "[1] \"Processing file 4 from 152\"\n",
      "[1] \"Processing file 5 from 152\"\n",
      "[1] \"Processing file 6 from 152\"\n",
      "[1] \"Processing file 7 from 152\"\n",
      "[1] \"Processing file 8 from 152\"\n",
      "[1] \"Processing file 9 from 152\"\n",
      "[1] \"Processing file 10 from 152\"\n",
      "[1] \"Processing file 11 from 152\"\n",
      "[1] \"Processing file 12 from 152\"\n",
      "[1] \"Processing file 13 from 152\"\n",
      "[1] \"Processing file 14 from 152\"\n",
      "[1] \"Processing file 15 from 152\"\n",
      "[1] \"Processing file 16 from 152\"\n",
      "[1] \"Processing file 17 from 152\"\n",
      "[1] \"Processing file 18 from 152\"\n",
      "[1] \"Processing file 19 from 152\"\n",
      "[1] \"Processing file 20 from 152\"\n",
      "[1] \"Processing file 21 from 152\"\n",
      "[1] \"Processing file 22 from 152\"\n",
      "[1] \"Processing file 23 from 152\"\n",
      "[1] \"Processing file 24 from 152\"\n",
      "[1] \"Processing file 25 from 152\"\n",
      "[1] \"Processing file 26 from 152\"\n",
      "[1] \"Processing file 27 from 152\"\n",
      "[1] \"Processing file 28 from 152\"\n",
      "[1] \"Processing file 29 from 152\"\n",
      "[1] \"Processing file 30 from 152\"\n",
      "[1] \"Processing file 31 from 152\"\n",
      "[1] \"Processing file 32 from 152\"\n",
      "[1] \"Processing file 33 from 152\"\n",
      "[1] \"Processing file 34 from 152\"\n",
      "[1] \"Processing file 35 from 152\"\n",
      "[1] \"Processing file 36 from 152\"\n",
      "[1] \"Processing file 37 from 152\"\n",
      "[1] \"Processing file 38 from 152\"\n",
      "[1] \"Processing file 39 from 152\"\n",
      "[1] \"Processing file 40 from 152\"\n",
      "[1] \"Processing file 41 from 152\"\n",
      "[1] \"Processing file 42 from 152\"\n",
      "[1] \"Processing file 43 from 152\"\n",
      "[1] \"Processing file 44 from 152\"\n",
      "[1] \"Processing file 45 from 152\"\n",
      "[1] \"Processing file 46 from 152\"\n",
      "[1] \"Processing file 47 from 152\"\n",
      "[1] \"Processing file 48 from 152\"\n",
      "[1] \"Processing file 49 from 152\"\n",
      "[1] \"Processing file 50 from 152\"\n",
      "[1] \"Processing file 51 from 152\"\n",
      "[1] \"Processing file 52 from 152\"\n",
      "[1] \"Processing file 53 from 152\"\n",
      "[1] \"Processing file 54 from 152\"\n",
      "[1] \"Processing file 55 from 152\"\n",
      "[1] \"Processing file 56 from 152\"\n",
      "[1] \"Processing file 57 from 152\"\n",
      "[1] \"Processing file 58 from 152\"\n",
      "[1] \"Processing file 59 from 152\"\n",
      "[1] \"Processing file 60 from 152\"\n",
      "[1] \"Processing file 61 from 152\"\n",
      "[1] \"Processing file 62 from 152\"\n",
      "[1] \"Processing file 63 from 152\"\n",
      "[1] \"Processing file 64 from 152\"\n",
      "[1] \"Processing file 65 from 152\"\n",
      "[1] \"Processing file 66 from 152\"\n",
      "[1] \"Processing file 67 from 152\"\n",
      "[1] \"Processing file 68 from 152\"\n",
      "[1] \"Processing file 69 from 152\"\n",
      "[1] \"Processing file 70 from 152\"\n",
      "[1] \"Processing file 71 from 152\"\n",
      "[1] \"Processing file 72 from 152\"\n",
      "[1] \"Processing file 73 from 152\"\n",
      "[1] \"Processing file 74 from 152\"\n",
      "[1] \"Processing file 75 from 152\"\n",
      "[1] \"Processing file 76 from 152\"\n",
      "[1] \"Processing file 77 from 152\"\n",
      "[1] \"Processing file 78 from 152\"\n",
      "[1] \"Processing file 79 from 152\"\n",
      "[1] \"Processing file 80 from 152\"\n",
      "[1] \"Processing file 81 from 152\"\n",
      "[1] \"Processing file 82 from 152\"\n",
      "[1] \"Processing file 83 from 152\"\n",
      "[1] \"Processing file 84 from 152\"\n",
      "[1] \"Processing file 85 from 152\"\n",
      "[1] \"Processing file 86 from 152\"\n",
      "[1] \"Processing file 87 from 152\"\n",
      "[1] \"Processing file 88 from 152\"\n",
      "[1] \"Processing file 89 from 152\"\n",
      "[1] \"Processing file 90 from 152\"\n",
      "[1] \"Processing file 91 from 152\"\n",
      "[1] \"Processing file 92 from 152\"\n",
      "[1] \"Processing file 93 from 152\"\n",
      "[1] \"Processing file 94 from 152\"\n",
      "[1] \"Processing file 95 from 152\"\n",
      "[1] \"Processing file 96 from 152\"\n",
      "[1] \"Processing file 97 from 152\"\n",
      "[1] \"Processing file 98 from 152\"\n",
      "[1] \"Processing file 99 from 152\"\n",
      "[1] \"Processing file 100 from 152\"\n",
      "[1] \"Processing file 101 from 152\"\n",
      "[1] \"Processing file 102 from 152\"\n",
      "[1] \"Processing file 103 from 152\"\n",
      "[1] \"Processing file 104 from 152\"\n",
      "[1] \"Processing file 105 from 152\"\n",
      "[1] \"Processing file 106 from 152\"\n",
      "[1] \"Processing file 107 from 152\"\n",
      "[1] \"Processing file 108 from 152\"\n",
      "[1] \"Processing file 109 from 152\"\n",
      "[1] \"Processing file 110 from 152\"\n",
      "[1] \"Processing file 111 from 152\"\n",
      "[1] \"Processing file 112 from 152\"\n",
      "[1] \"Processing file 113 from 152\"\n",
      "[1] \"Processing file 114 from 152\"\n",
      "[1] \"Processing file 115 from 152\"\n",
      "[1] \"Processing file 116 from 152\"\n",
      "[1] \"Processing file 117 from 152\"\n",
      "[1] \"Processing file 118 from 152\"\n",
      "[1] \"Processing file 119 from 152\"\n",
      "[1] \"Processing file 120 from 152\"\n",
      "[1] \"Processing file 121 from 152\"\n",
      "[1] \"Processing file 122 from 152\"\n",
      "[1] \"Processing file 123 from 152\"\n",
      "[1] \"Processing file 124 from 152\"\n",
      "[1] \"Processing file 125 from 152\"\n",
      "[1] \"Processing file 126 from 152\"\n",
      "[1] \"Processing file 127 from 152\"\n",
      "[1] \"Processing file 128 from 152\"\n",
      "[1] \"Processing file 129 from 152\"\n",
      "[1] \"Processing file 130 from 152\"\n",
      "[1] \"Processing file 131 from 152\"\n",
      "[1] \"Processing file 132 from 152\"\n",
      "[1] \"Processing file 133 from 152\"\n",
      "[1] \"Processing file 134 from 152\"\n",
      "[1] \"Processing file 135 from 152\"\n",
      "[1] \"Processing file 136 from 152\"\n",
      "[1] \"Processing file 137 from 152\"\n",
      "[1] \"Processing file 138 from 152\"\n",
      "[1] \"Processing file 139 from 152\"\n",
      "[1] \"Processing file 140 from 152\"\n",
      "[1] \"Processing file 141 from 152\"\n",
      "[1] \"Processing file 142 from 152\"\n",
      "[1] \"Processing file 143 from 152\"\n",
      "[1] \"Processing file 144 from 152\"\n",
      "[1] \"Processing file 145 from 152\"\n",
      "[1] \"Processing file 146 from 152\"\n",
      "[1] \"Processing file 147 from 152\"\n",
      "[1] \"Processing file 148 from 152\"\n",
      "[1] \"Processing file 149 from 152\"\n",
      "[1] \"Processing file 150 from 152\"\n",
      "[1] \"Processing file 151 from 152\"\n",
      "[1] \"Processing file 152 from 152\"\n"
     ]
    }
   ],
   "source": [
    "for (i in 1:lf) {\n",
    "  # progress indicator\n",
    "  print(paste(\"Processing file\",i,\"from\",length(f),sep=\" \"))\n",
    "  # open netCDF file\n",
    "  data<-nc_open(paste('RAW/requested_files_4/',f[i],sep=''))\n",
    "  # extract data\n",
    "  lon<-ncvar_get(data,\"lon\")\n",
    "  lat<-ncvar_get(data,\"lat\")\n",
    "  value<-ncvar_get(data,\"chlor_a\")\n",
    "  unit<-ncatt_get(data,\"chlor_a\",\"units\")$value\n",
    "  # matrix to data.frame\n",
    "  dimnames(value)<-list(lon=lon,lat=lat)\n",
    "  dat.var<-melt(value,id=\"lon\")\n",
    "  # select data from the study area taking out missing data\n",
    "  dat.varSAtmp<-dat.var #subset(dat.var,lon<=lonmax & lon>=lonmin & lat<=latmax & lat>=latmin)\n",
    "  # extract date information\n",
    "  dateini<-ncatt_get(data,0,\"time_coverage_start\")$value\n",
    "  dateend<-ncatt_get(data,0,\"time_coverage_end\")$value\n",
    "  #print(c(\"ini\", dateini, \"end\", dateend))\n",
    "  datemean<-mean(c(as.Date(dateend,\"%Y-%m-%dT%H:%M:%OSZ\"),as.Date(dateini,\"%Y-%m-%dT%H:%M:%OSZ\")))\n",
    "  year<- substring(datemean,0,4) #1997 + ((i+6)/12)#\n",
    "  month<- substring(datemean,6,7) #i+6 #\n",
    "  day<- substring(datemean,9,10)\n",
    "  # prepare final data set\n",
    "  dat.varSA<-data.frame(rep(as.integer(year,nrow(dat.varSAtmp))),rep(as.integer(month,nrow(dat.varSAtmp))),rep(as.integer(day,nrow(dat.varSAtmp))),\n",
    "                        dat.varSAtmp,rep(unit,nrow(dat.varSAtmp)),rep(\"chlor_a\",nrow(dat.varSAtmp)))\n",
    "  names(dat.varSA)<-c(\"year\",\"month\",\"day\",\"lon\",\"lat\",\"value\",\"unit\",\"var\")\n",
    "  # save csv file DATA/FirstTestExtracted.csv\n",
    "  fe<-file.exists(paste('DATA/','SeaWiFS_monthly.csv',sep=''))\n",
    "  write.table(dat.varSA,paste('DATA/','SeaWiFS_monthly.csv',sep=''),row.names=FALSE,col.names=!fe,sep=\",\",dec=\".\",append=fe)\n",
    "  # close connection\n",
    "  nc_close(data)\n",
    "  # clean workspace\n",
    "  rm(data,lon,lat,value,unit,dat.var,dat.varSAtmp,dateini,dateend,datemean,year,month,dat.varSA,fe)\n",
    "}\n",
    "rm(f,i,latmax,latmin,lf,lonmax,lonmin)"
   ]
  },
  {
   "cell_type": "code",
   "execution_count": null,
   "metadata": {},
   "outputs": [],
   "source": []
  }
 ],
 "metadata": {
  "kernelspec": {
   "display_name": "R",
   "language": "R",
   "name": "ir"
  },
  "language_info": {
   "codemirror_mode": "r",
   "file_extension": ".r",
   "mimetype": "text/x-r-source",
   "name": "R",
   "pygments_lexer": "r",
   "version": "4.0.2"
  }
 },
 "nbformat": 4,
 "nbformat_minor": 4
}
