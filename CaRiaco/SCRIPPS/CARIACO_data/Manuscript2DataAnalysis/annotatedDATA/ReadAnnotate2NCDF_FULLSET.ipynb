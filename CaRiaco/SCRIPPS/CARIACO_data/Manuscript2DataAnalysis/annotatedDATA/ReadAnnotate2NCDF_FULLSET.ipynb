{
 "cells": [
  {
   "cell_type": "markdown",
   "metadata": {},
   "source": [
    "# read in combined CARIACO csv"
   ]
  },
  {
   "cell_type": "code",
   "execution_count": 180,
   "metadata": {},
   "outputs": [],
   "source": [
    "import numpy as np\n",
    "import pandas as pd\n",
    "import xarray as xr\n",
    "import matplotlib.pyplot as plt"
   ]
  },
  {
   "cell_type": "code",
   "execution_count": 181,
   "metadata": {},
   "outputs": [],
   "source": [
    "pd_CARIACO = pd.read_csv(\"../DATA/Combined_CARIACO_data_v2.csv\")"
   ]
  },
  {
   "cell_type": "code",
   "execution_count": 182,
   "metadata": {},
   "outputs": [],
   "source": [
    "pd_CARIACO['time_month_dt'] = pd.to_datetime(pd_CARIACO['time_month'])"
   ]
  },
  {
   "cell_type": "code",
   "execution_count": 183,
   "metadata": {},
   "outputs": [],
   "source": [
    "pd_CARIACO = pd_CARIACO.drop(labels='Unnamed: 0', axis=1)"
   ]
  },
  {
   "cell_type": "code",
   "execution_count": 184,
   "metadata": {},
   "outputs": [],
   "source": [
    "pd_CARIACO = pd_CARIACO.set_index('time_month_dt')\n",
    "pd_CARIACO.index.rename('time', inplace=True)"
   ]
  },
  {
   "cell_type": "code",
   "execution_count": 185,
   "metadata": {},
   "outputs": [],
   "source": [
    "## get metadata from the original netcdf files!"
   ]
  },
  {
   "cell_type": "code",
   "execution_count": 186,
   "metadata": {},
   "outputs": [],
   "source": [
    "#pd.DataFrame(data={'par_names':pd_CARIACO.columns.values}).to_csv('CombinedCARIACOannotations.csv')"
   ]
  },
  {
   "cell_type": "markdown",
   "metadata": {},
   "source": [
    "# convert to xarray dataset"
   ]
  },
  {
   "cell_type": "code",
   "execution_count": 187,
   "metadata": {},
   "outputs": [],
   "source": [
    "from datetime import date\n",
    "\n",
    "today = date.today()"
   ]
  },
  {
   "cell_type": "code",
   "execution_count": 188,
   "metadata": {},
   "outputs": [
    {
     "data": {
      "text/plain": [
       "'2021-12-13'"
      ]
     },
     "execution_count": 188,
     "metadata": {},
     "output_type": "execute_result"
    }
   ],
   "source": [
    "str(today)"
   ]
  },
  {
   "cell_type": "code",
   "execution_count": 189,
   "metadata": {},
   "outputs": [],
   "source": [
    "metadata = {'creator': 'Benjamin Post', 'creation date': str(today)}\n",
    "CARIACO = xr.Dataset.from_dataframe(pd_CARIACO)\n",
    "CARIACO.attrs = metadata"
   ]
  },
  {
   "cell_type": "markdown",
   "metadata": {},
   "source": [
    "# add Metadata programmatically\n",
    "- add clear text variable names\n",
    "- add units\n",
    "- add data source\n",
    "- add data group (biological, physical, chemical)"
   ]
  },
  {
   "cell_type": "code",
   "execution_count": 228,
   "metadata": {},
   "outputs": [],
   "source": [
    "wind_meta = pd.read_csv(\"META/ERA5_META.csv\")"
   ]
  },
  {
   "cell_type": "code",
   "execution_count": 229,
   "metadata": {},
   "outputs": [
    {
     "data": {
      "text/plain": [
       "Index(['Unnamed: 0', 'GRIB_paramId', 'GRIB_shortName', 'GRIB_units',\n",
       "       'GRIB_name', 'GRIB_cfVarName', 'GRIB_dataType', 'GRIB_missingValue',\n",
       "       'GRIB_numberOfPoints', 'GRIB_totalNumber', 'GRIB_typeOfLevel',\n",
       "       'GRIB_NV', 'GRIB_stepUnits', 'GRIB_stepType', 'GRIB_gridType',\n",
       "       'GRIB_gridDefinitionDescription', 'GRIB_Nx',\n",
       "       'GRIB_iDirectionIncrementInDegrees', 'GRIB_iScansNegatively',\n",
       "       'GRIB_longitudeOfFirstGridPointInDegrees',\n",
       "       'GRIB_longitudeOfLastGridPointInDegrees', 'GRIB_Ny',\n",
       "       'GRIB_jDirectionIncrementInDegrees', 'GRIB_jPointsAreConsecutive',\n",
       "       'GRIB_jScansPositively', 'GRIB_latitudeOfFirstGridPointInDegrees',\n",
       "       'GRIB_latitudeOfLastGridPointInDegrees', 'long_name', 'units',\n",
       "       'custom_name', 'GRIB_cfName', 'standard_name'],\n",
       "      dtype='object')"
      ]
     },
     "execution_count": 229,
     "metadata": {},
     "output_type": "execute_result"
    }
   ],
   "source": [
    "wind_meta.columns"
   ]
  },
  {
   "cell_type": "code",
   "execution_count": 230,
   "metadata": {},
   "outputs": [
    {
     "name": "stdout",
     "output_type": "stream",
     "text": [
      "cdww\n",
      "['Coefficient of drag with waves']\n",
      "['coefficient_of_drag_with_waves']\n",
      "['dimensionless']\n",
      "iews\n",
      "['Instantaneous eastward turbulent surface stress']\n",
      "['instantaneous_eastward_turbulent_surface_stress']\n",
      "['N m**-2']\n",
      "inss\n",
      "['Instantaneous northward turbulent surface stress']\n",
      "['instantaneous_northward_turbulent_surface_stress']\n",
      "['N m**-2']\n",
      "mcc\n",
      "['Medium cloud cover']\n",
      "['medium_cloud_cover']\n",
      "['(0 - 1)']\n",
      "mwp\n",
      "['Mean wave period']\n",
      "['mean_wave_period']\n",
      "['s']\n",
      "si10\n",
      "['10 metre wind speed']\n",
      "['10m_wind_speed']\n",
      "['m s**-1']\n",
      "sp\n",
      "['Surface pressure']\n",
      "['surface_pressure']\n",
      "['Pa']\n",
      "sst\n",
      "['Sea surface temperature']\n",
      "['sea_surface_temperature']\n",
      "['K']\n",
      "t2m\n",
      "['2 metre temperature']\n",
      "['2m_temperature']\n",
      "['K']\n",
      "tauoc\n",
      "['Normalized stress into ocean']\n",
      "['normalized_stress_into_ocean']\n",
      "['dimensionless']\n",
      "u10\n",
      "['10 metre U wind component']\n",
      "['10m_u_component_of_wind']\n",
      "['m s**-1']\n",
      "ust\n",
      "['U-component stokes drift']\n",
      "['u_component_stokes_drift']\n",
      "['m s**-1']\n",
      "v10\n",
      "['10 metre V wind component']\n",
      "['10m_v_component_of_wind']\n",
      "['m s**-1']\n",
      "v10n\n",
      "['Neutral wind at 10 m v-component']\n",
      "['10m_v_component_of_neutral_wind']\n",
      "['m s**-1']\n",
      "vst\n",
      "['V-component stokes drift']\n",
      "['v_component_stokes_drift']\n",
      "['m s**-1']\n",
      "wind\n",
      "['10 metre wind speed']\n",
      "['ocean_surface_stress_equivalent_10m_neutral_wind_speed']\n",
      "['m s**-1']\n",
      "time_month\n",
      "cdir\n",
      "['Clear-sky direct solar radiation at surface']\n",
      "['clear_sky_direct_solar_radiation_at_surface']\n",
      "['J m**-2']\n",
      "e\n",
      "['Evaporation']\n",
      "['evaporation']\n",
      "['m of water equivalent']\n",
      "ewss\n",
      "['Eastward turbulent surface stress']\n",
      "['eastward_turbulent_surface_stress']\n",
      "['N m**-2 s']\n",
      "i10fg\n",
      "['Instantaneous 10 metre wind gust']\n",
      "['instantaneous_10m_wind_gust']\n",
      "['m s**-1']\n",
      "lsp\n",
      "['Large-scale precipitation']\n",
      "['large_scale_precipitation']\n",
      "['m']\n",
      "magss\n",
      "['Magnitude of turbulent surface stress']\n",
      "['magnitude_of_turbulent_surface_stress']\n",
      "['N m**-2 s']\n",
      "mer\n",
      "['Mean evaporation rate']\n",
      "['mean_evaporation_rate']\n",
      "['kg m**-2 s**-1']\n",
      "metss\n",
      "['Mean eastward turbulent surface stress']\n",
      "['mean_eastward_turbulent_surface_stress']\n",
      "['N m**-2']\n",
      "mmtss\n",
      "['Mean magnitude of turbulent surface stress']\n",
      "['mean_magnitude_of_turbulent_surface_stress']\n",
      "['N m**-2']\n",
      "mntss\n",
      "['Mean northward turbulent surface stress']\n",
      "['mean_northward_turbulent_surface_stress']\n",
      "['N m**-2']\n",
      "mtpr\n",
      "['Mean total precipitation rate']\n",
      "['mean_total_precipitation_rate']\n",
      "['kg m**-2 s**-1']\n",
      "nsss\n",
      "['Northward turbulent surface stress']\n",
      "['northward_turbulent_surface_stress']\n",
      "['N m**-2 s']\n",
      "sshf\n",
      "['Surface sensible heat flux']\n",
      "['surface_sensible_heat_flux']\n",
      "['J m**-2']\n",
      "tp\n",
      "['Total precipitation']\n",
      "['total_precipitation']\n",
      "['m']\n",
      "O2_ml_L\n",
      "O2_umol_kg\n",
      "NO3_UDO\n",
      "PO4_UDO\n",
      "SiO4_UDO\n",
      "NH4_USF\n",
      "NO2_USF\n",
      "NO3_NO2_USF\n",
      "PO4_USF\n",
      "SiO4_USF\n",
      "pH\n",
      "Alkalinity_mol_kg\n",
      "Alkalinity_umol_kg\n",
      "TCO2\n",
      "fCO2\n",
      "pH_corrected\n",
      "TCO2_corrected\n",
      "fCO2_corrected\n",
      "Salinity_bottles\n",
      "Salinity_CTD\n",
      "Temperature\n",
      "Sigma_t\n",
      "TPP\n",
      "PIP\n",
      "POC_ug_kg\n",
      "PON_ug_kg\n",
      "POC_ug_L\n",
      "PN_ug_L\n",
      "C_N_particulate\n",
      "DON\n",
      "DOP\n",
      "DOC\n",
      "TOC\n",
      "PrimaryProductivity\n",
      "Chlorophyll\n",
      "Phaeopigments\n",
      "Total_Prokaryotes\n",
      "Bact_Biomass_mgC_m3\n",
      "Bact_Biomass_uMC\n",
      "NO3_USF\n",
      "NO3_merged\n",
      "PO4_merged\n",
      "SiO4_merged\n",
      "temp_5\n",
      "temp_15\n",
      "temp_25\n",
      "temp_75\n",
      "Isopycnal_21\n",
      "MLD_potemp\n",
      "SR_COCCOLITHOPHORIDS\n",
      "SR_CYANOBACTERIA\n",
      "SR_DIATOMS\n",
      "SR_DINOFLAGELLATES\n",
      "SR_OTHERS\n",
      "species_richness\n",
      "counts_int_COCCOLITHOPHORIDS\n",
      "counts_int_DIATOMS\n",
      "counts_int_DINOFLAGELLATES\n",
      "counts_int_CYANOBACTERIA\n",
      "counts_int_OTHERS\n",
      "counts_int_NANOFLAGELLATES\n",
      "Mesh200\n",
      "Mesh500\n",
      "total_biomass\n"
     ]
    }
   ],
   "source": [
    "for var in CARIACO.data_vars:\n",
    "    print(var)\n",
    "    row = wind_meta.loc[wind_meta['GRIB_cfVarName'] == var]\n",
    "    if len(row) > 0:        \n",
    "        print(row['GRIB_name'].values)\n",
    "        print(row['custom_name'].values)\n",
    "        print(row['GRIB_units'].values)\n",
    "\n"
   ]
  },
  {
   "cell_type": "code",
   "execution_count": 204,
   "metadata": {},
   "outputs": [],
   "source": [
    "### add units\n",
    "# data.attrs['long_name']\n",
    "# data.attrs['units']\n",
    "\n",
    "CARIACO.Chlorophyll.attrs['long_name'] = 'Chlorophyll conc. top 100m [mg m^-3]'\n",
    "CARIACO.Chlorophyll.attrs['unit'] = '[mg m^-3]'"
   ]
  },
  {
   "cell_type": "code",
   "execution_count": 205,
   "metadata": {},
   "outputs": [
    {
     "data": {
      "text/plain": [
       "'[mg m^-3]'"
      ]
     },
     "execution_count": 205,
     "metadata": {},
     "output_type": "execute_result"
    }
   ],
   "source": [
    "CARIACO.Chlorophyll.unit"
   ]
  },
  {
   "cell_type": "code",
   "execution_count": 217,
   "metadata": {},
   "outputs": [],
   "source": [
    "#chl_pd.values\n",
    "from matplotlib.pyplot import figure\n",
    "def plot_yearmonth_cmap(data):\n",
    "    \n",
    "    figure(figsize=(7, 8), dpi=80)\n",
    "    data_pd = data.to_dataframe()\n",
    "    \n",
    "    dat_pivot = (data_pd.assign(year=data_pd.index.year, month=data_pd.index.month)#.unstack()\n",
    "      .pivot_table(index='year', columns='month', values=data.name)\n",
    "    )\n",
    "    ax = plt.gca()\n",
    "    c = plt.pcolormesh(dat_pivot)\n",
    "\n",
    "    cbar = plt.colorbar(c)\n",
    "    cbar.set_label(data.name + ' ' + data.unit)\n",
    "    plt.clim(0)\n",
    "    \n",
    "    ax.set_yticks(np.arange(0,len(dat_pivot.index.values)))\n",
    "    ax.set_yticklabels(dat_pivot.index.values)\n",
    "    ax.set_ylabel('Years')\n",
    "    \n",
    "    ax.set_xticks(np.arange(0,12)+1-0.5)\n",
    "    ax.set_xticklabels(np.arange(1,13))\n",
    "    ax.set_xlabel('Months')\n",
    "\n",
    "    plt.show()"
   ]
  },
  {
   "cell_type": "code",
   "execution_count": 218,
   "metadata": {},
   "outputs": [
    {
     "data": {
      "text/plain": [
       "<Figure size 560x640 with 0 Axes>"
      ]
     },
     "metadata": {},
     "output_type": "display_data"
    },
    {
     "data": {
      "image/png": "[encoded data removed]",
      "text/plain": [
       "<Figure size 560x640 with 2 Axes>"
      ]
     },
     "metadata": {
      "needs_background": "light"
     },
     "output_type": "display_data"
    }
   ],
   "source": [
    "from matplotlib.pyplot import figure\n",
    "figure(figsize=(7, 8), dpi=80)\n",
    "\n",
    "plot_yearmonth_cmap(CARIACO.Chlorophyll)"
   ]
  },
  {
   "cell_type": "code",
   "execution_count": 219,
   "metadata": {},
   "outputs": [],
   "source": [
    "#CARIACO.u10"
   ]
  },
  {
   "cell_type": "code",
   "execution_count": 220,
   "metadata": {},
   "outputs": [
    {
     "ename": "AttributeError",
     "evalue": "'DataArray' object has no attribute 'unit'",
     "output_type": "error",
     "traceback": [
      "\u001b[0;31m---------------------------------------------------------------------------\u001b[0m",
      "\u001b[0;31mAttributeError\u001b[0m                            Traceback (most recent call last)",
      "\u001b[0;32m<ipython-input-220-d1a322b83966>\u001b[0m in \u001b[0;36m<module>\u001b[0;34m\u001b[0m\n\u001b[0;32m----> 1\u001b[0;31m \u001b[0mplot_yearmonth_cmap\u001b[0m\u001b[0;34m(\u001b[0m\u001b[0mCARIACO\u001b[0m\u001b[0;34m.\u001b[0m\u001b[0mu10\u001b[0m\u001b[0;34m)\u001b[0m\u001b[0;34m\u001b[0m\u001b[0;34m\u001b[0m\u001b[0m\n\u001b[0m",
      "\u001b[0;32m<ipython-input-217-2c80d720a00e>\u001b[0m in \u001b[0;36mplot_yearmonth_cmap\u001b[0;34m(data)\u001b[0m\n\u001b[1;32m     13\u001b[0m \u001b[0;34m\u001b[0m\u001b[0m\n\u001b[1;32m     14\u001b[0m     \u001b[0mcbar\u001b[0m \u001b[0;34m=\u001b[0m \u001b[0mplt\u001b[0m\u001b[0;34m.\u001b[0m\u001b[0mcolorbar\u001b[0m\u001b[0;34m(\u001b[0m\u001b[0mc\u001b[0m\u001b[0;34m)\u001b[0m\u001b[0;34m\u001b[0m\u001b[0;34m\u001b[0m\u001b[0m\n\u001b[0;32m---> 15\u001b[0;31m     \u001b[0mcbar\u001b[0m\u001b[0;34m.\u001b[0m\u001b[0mset_label\u001b[0m\u001b[0;34m(\u001b[0m\u001b[0mdata\u001b[0m\u001b[0;34m.\u001b[0m\u001b[0mname\u001b[0m \u001b[0;34m+\u001b[0m \u001b[0;34m' '\u001b[0m \u001b[0;34m+\u001b[0m \u001b[0mdata\u001b[0m\u001b[0;34m.\u001b[0m\u001b[0munit\u001b[0m\u001b[0;34m)\u001b[0m\u001b[0;34m\u001b[0m\u001b[0;34m\u001b[0m\u001b[0m\n\u001b[0m\u001b[1;32m     16\u001b[0m     \u001b[0mplt\u001b[0m\u001b[0;34m.\u001b[0m\u001b[0mclim\u001b[0m\u001b[0;34m(\u001b[0m\u001b[0;36m0\u001b[0m\u001b[0;34m)\u001b[0m\u001b[0;34m\u001b[0m\u001b[0;34m\u001b[0m\u001b[0m\n\u001b[1;32m     17\u001b[0m \u001b[0;34m\u001b[0m\u001b[0m\n",
      "\u001b[0;32m~/opt/anaconda3/envs/xsimlab2/lib/python3.9/site-packages/xarray/core/common.py\u001b[0m in \u001b[0;36m__getattr__\u001b[0;34m(self, name)\u001b[0m\n\u001b[1;32m    226\u001b[0m                 \u001b[0;32mwith\u001b[0m \u001b[0msuppress\u001b[0m\u001b[0;34m(\u001b[0m\u001b[0mKeyError\u001b[0m\u001b[0;34m)\u001b[0m\u001b[0;34m:\u001b[0m\u001b[0;34m\u001b[0m\u001b[0;34m\u001b[0m\u001b[0m\n\u001b[1;32m    227\u001b[0m                     \u001b[0;32mreturn\u001b[0m \u001b[0msource\u001b[0m\u001b[0;34m[\u001b[0m\u001b[0mname\u001b[0m\u001b[0;34m]\u001b[0m\u001b[0;34m\u001b[0m\u001b[0;34m\u001b[0m\u001b[0m\n\u001b[0;32m--> 228\u001b[0;31m         raise AttributeError(\n\u001b[0m\u001b[1;32m    229\u001b[0m             \u001b[0;34m\"{!r} object has no attribute {!r}\"\u001b[0m\u001b[0;34m.\u001b[0m\u001b[0mformat\u001b[0m\u001b[0;34m(\u001b[0m\u001b[0mtype\u001b[0m\u001b[0;34m(\u001b[0m\u001b[0mself\u001b[0m\u001b[0;34m)\u001b[0m\u001b[0;34m.\u001b[0m\u001b[0m__name__\u001b[0m\u001b[0;34m,\u001b[0m \u001b[0mname\u001b[0m\u001b[0;34m)\u001b[0m\u001b[0;34m\u001b[0m\u001b[0;34m\u001b[0m\u001b[0m\n\u001b[1;32m    230\u001b[0m         )\n",
      "\u001b[0;31mAttributeError\u001b[0m: 'DataArray' object has no attribute 'unit'"
     ]
    },
    {
     "data": {
      "image/png": "[encoded data removed]",
      "text/plain": [
       "<Figure size 560x640 with 2 Axes>"
      ]
     },
     "metadata": {
      "needs_background": "light"
     },
     "output_type": "display_data"
    }
   ],
   "source": [
    "plot_yearmonth_cmap(CARIACO.u10)"
   ]
  },
  {
   "cell_type": "code",
   "execution_count": null,
   "metadata": {},
   "outputs": [],
   "source": []
  },
  {
   "cell_type": "code",
   "execution_count": null,
   "metadata": {},
   "outputs": [],
   "source": []
  },
  {
   "cell_type": "code",
   "execution_count": null,
   "metadata": {},
   "outputs": [],
   "source": []
  },
  {
   "cell_type": "code",
   "execution_count": 179,
   "metadata": {},
   "outputs": [],
   "source": [
    "#timetest = CARIACO.expand_dims({'year':CARIACO['time.year'],'month':CARIACO['time.month']})"
   ]
  },
  {
   "cell_type": "code",
   "execution_count": 180,
   "metadata": {},
   "outputs": [],
   "source": [
    "time2darray = np.vstack((CARIACO['time.year'].values,CARIACO['time.month'].values))"
   ]
  },
  {
   "cell_type": "code",
   "execution_count": 182,
   "metadata": {},
   "outputs": [],
   "source": [
    "timetest = CARIACO.assign_coords(new_dim=(('year', 'month'), time2darray))"
   ]
  },
  {
   "cell_type": "code",
   "execution_count": 184,
   "metadata": {},
   "outputs": [
    {
     "ename": "ValueError",
     "evalue": "x must be one of None, 'time'",
     "output_type": "error",
     "traceback": [
      "\u001b[0;31m---------------------------------------------------------------------------\u001b[0m",
      "\u001b[0;31mValueError\u001b[0m                                Traceback (most recent call last)",
      "\u001b[0;32m<ipython-input-184-28dae2e29ee6>\u001b[0m in \u001b[0;36m<module>\u001b[0;34m\u001b[0m\n\u001b[0;32m----> 1\u001b[0;31m \u001b[0mtimetest\u001b[0m\u001b[0;34m.\u001b[0m\u001b[0mChlorophyll\u001b[0m\u001b[0;34m.\u001b[0m\u001b[0mplot\u001b[0m\u001b[0;34m(\u001b[0m\u001b[0mx\u001b[0m\u001b[0;34m=\u001b[0m\u001b[0;34m'year'\u001b[0m\u001b[0;34m)\u001b[0m\u001b[0;34m\u001b[0m\u001b[0;34m\u001b[0m\u001b[0m\n\u001b[0m",
      "\u001b[0;32m~/opt/anaconda3/envs/xsimlab2/lib/python3.9/site-packages/xarray/plot/plot.py\u001b[0m in \u001b[0;36m__call__\u001b[0;34m(self, **kwargs)\u001b[0m\n\u001b[1;32m    444\u001b[0m \u001b[0;34m\u001b[0m\u001b[0m\n\u001b[1;32m    445\u001b[0m     \u001b[0;32mdef\u001b[0m \u001b[0m__call__\u001b[0m\u001b[0;34m(\u001b[0m\u001b[0mself\u001b[0m\u001b[0;34m,\u001b[0m \u001b[0;34m**\u001b[0m\u001b[0mkwargs\u001b[0m\u001b[0;34m)\u001b[0m\u001b[0;34m:\u001b[0m\u001b[0;34m\u001b[0m\u001b[0;34m\u001b[0m\u001b[0m\n\u001b[0;32m--> 446\u001b[0;31m         \u001b[0;32mreturn\u001b[0m \u001b[0mplot\u001b[0m\u001b[0;34m(\u001b[0m\u001b[0mself\u001b[0m\u001b[0;34m.\u001b[0m\u001b[0m_da\u001b[0m\u001b[0;34m,\u001b[0m \u001b[0;34m**\u001b[0m\u001b[0mkwargs\u001b[0m\u001b[0;34m)\u001b[0m\u001b[0;34m\u001b[0m\u001b[0;34m\u001b[0m\u001b[0m\n\u001b[0m\u001b[1;32m    447\u001b[0m \u001b[0;34m\u001b[0m\u001b[0m\n\u001b[1;32m    448\u001b[0m     \u001b[0;31m# we can't use functools.wraps here since that also modifies the name / qualname\u001b[0m\u001b[0;34m\u001b[0m\u001b[0;34m\u001b[0m\u001b[0m\n",
      "\u001b[0;32m~/opt/anaconda3/envs/xsimlab2/lib/python3.9/site-packages/xarray/plot/plot.py\u001b[0m in \u001b[0;36mplot\u001b[0;34m(darray, row, col, col_wrap, ax, hue, rtol, subplot_kws, **kwargs)\u001b[0m\n\u001b[1;32m    198\u001b[0m     \u001b[0mkwargs\u001b[0m\u001b[0;34m[\u001b[0m\u001b[0;34m\"ax\"\u001b[0m\u001b[0;34m]\u001b[0m \u001b[0;34m=\u001b[0m \u001b[0max\u001b[0m\u001b[0;34m\u001b[0m\u001b[0;34m\u001b[0m\u001b[0m\n\u001b[1;32m    199\u001b[0m \u001b[0;34m\u001b[0m\u001b[0m\n\u001b[0;32m--> 200\u001b[0;31m     \u001b[0;32mreturn\u001b[0m \u001b[0mplotfunc\u001b[0m\u001b[0;34m(\u001b[0m\u001b[0mdarray\u001b[0m\u001b[0;34m,\u001b[0m \u001b[0;34m**\u001b[0m\u001b[0mkwargs\u001b[0m\u001b[0;34m)\u001b[0m\u001b[0;34m\u001b[0m\u001b[0;34m\u001b[0m\u001b[0m\n\u001b[0m\u001b[1;32m    201\u001b[0m \u001b[0;34m\u001b[0m\u001b[0m\n\u001b[1;32m    202\u001b[0m \u001b[0;34m\u001b[0m\u001b[0m\n",
      "\u001b[0;32m~/opt/anaconda3/envs/xsimlab2/lib/python3.9/site-packages/xarray/plot/plot.py\u001b[0m in \u001b[0;36mline\u001b[0;34m(darray, row, col, figsize, aspect, size, ax, hue, x, y, xincrease, yincrease, xscale, yscale, xticks, yticks, xlim, ylim, add_legend, _labels, *args, **kwargs)\u001b[0m\n\u001b[1;32m    293\u001b[0m \u001b[0;34m\u001b[0m\u001b[0m\n\u001b[1;32m    294\u001b[0m     \u001b[0max\u001b[0m \u001b[0;34m=\u001b[0m \u001b[0mget_axis\u001b[0m\u001b[0;34m(\u001b[0m\u001b[0mfigsize\u001b[0m\u001b[0;34m,\u001b[0m \u001b[0msize\u001b[0m\u001b[0;34m,\u001b[0m \u001b[0maspect\u001b[0m\u001b[0;34m,\u001b[0m \u001b[0max\u001b[0m\u001b[0;34m)\u001b[0m\u001b[0;34m\u001b[0m\u001b[0;34m\u001b[0m\u001b[0m\n\u001b[0;32m--> 295\u001b[0;31m     \u001b[0mxplt\u001b[0m\u001b[0;34m,\u001b[0m \u001b[0myplt\u001b[0m\u001b[0;34m,\u001b[0m \u001b[0mhueplt\u001b[0m\u001b[0;34m,\u001b[0m \u001b[0mxlabel\u001b[0m\u001b[0;34m,\u001b[0m \u001b[0mylabel\u001b[0m\u001b[0;34m,\u001b[0m \u001b[0mhue_label\u001b[0m \u001b[0;34m=\u001b[0m \u001b[0m_infer_line_data\u001b[0m\u001b[0;34m(\u001b[0m\u001b[0mdarray\u001b[0m\u001b[0;34m,\u001b[0m \u001b[0mx\u001b[0m\u001b[0;34m,\u001b[0m \u001b[0my\u001b[0m\u001b[0;34m,\u001b[0m \u001b[0mhue\u001b[0m\u001b[0;34m)\u001b[0m\u001b[0;34m\u001b[0m\u001b[0;34m\u001b[0m\u001b[0m\n\u001b[0m\u001b[1;32m    296\u001b[0m \u001b[0;34m\u001b[0m\u001b[0m\n\u001b[1;32m    297\u001b[0m     \u001b[0;31m# Remove pd.Intervals if contained in xplt.values and/or yplt.values.\u001b[0m\u001b[0;34m\u001b[0m\u001b[0;34m\u001b[0m\u001b[0m\n",
      "\u001b[0;32m~/opt/anaconda3/envs/xsimlab2/lib/python3.9/site-packages/xarray/plot/plot.py\u001b[0m in \u001b[0;36m_infer_line_data\u001b[0;34m(darray, x, y, hue)\u001b[0m\n\u001b[1;32m     38\u001b[0m \u001b[0;34m\u001b[0m\u001b[0m\n\u001b[1;32m     39\u001b[0m     \u001b[0;32mif\u001b[0m \u001b[0mx\u001b[0m \u001b[0;32mis\u001b[0m \u001b[0;32mnot\u001b[0m \u001b[0;32mNone\u001b[0m\u001b[0;34m:\u001b[0m\u001b[0;34m\u001b[0m\u001b[0;34m\u001b[0m\u001b[0m\n\u001b[0;32m---> 40\u001b[0;31m         \u001b[0m_assert_valid_xy\u001b[0m\u001b[0;34m(\u001b[0m\u001b[0mdarray\u001b[0m\u001b[0;34m,\u001b[0m \u001b[0mx\u001b[0m\u001b[0;34m,\u001b[0m \u001b[0;34m\"x\"\u001b[0m\u001b[0;34m)\u001b[0m\u001b[0;34m\u001b[0m\u001b[0;34m\u001b[0m\u001b[0m\n\u001b[0m\u001b[1;32m     41\u001b[0m \u001b[0;34m\u001b[0m\u001b[0m\n\u001b[1;32m     42\u001b[0m     \u001b[0;32mif\u001b[0m \u001b[0my\u001b[0m \u001b[0;32mis\u001b[0m \u001b[0;32mnot\u001b[0m \u001b[0;32mNone\u001b[0m\u001b[0;34m:\u001b[0m\u001b[0;34m\u001b[0m\u001b[0;34m\u001b[0m\u001b[0m\n",
      "\u001b[0;32m~/opt/anaconda3/envs/xsimlab2/lib/python3.9/site-packages/xarray/plot/utils.py\u001b[0m in \u001b[0;36m_assert_valid_xy\u001b[0;34m(darray, xy, name)\u001b[0m\n\u001b[1;32m    410\u001b[0m     \u001b[0;32mif\u001b[0m \u001b[0mxy\u001b[0m \u001b[0;32mnot\u001b[0m \u001b[0;32min\u001b[0m \u001b[0mvalid_xy\u001b[0m\u001b[0;34m:\u001b[0m\u001b[0;34m\u001b[0m\u001b[0;34m\u001b[0m\u001b[0m\n\u001b[1;32m    411\u001b[0m         \u001b[0mvalid_xy_str\u001b[0m \u001b[0;34m=\u001b[0m \u001b[0;34m\"', '\"\u001b[0m\u001b[0;34m.\u001b[0m\u001b[0mjoin\u001b[0m\u001b[0;34m(\u001b[0m\u001b[0msorted\u001b[0m\u001b[0;34m(\u001b[0m\u001b[0mvalid_xy\u001b[0m\u001b[0;34m)\u001b[0m\u001b[0;34m)\u001b[0m\u001b[0;34m\u001b[0m\u001b[0;34m\u001b[0m\u001b[0m\n\u001b[0;32m--> 412\u001b[0;31m         \u001b[0;32mraise\u001b[0m \u001b[0mValueError\u001b[0m\u001b[0;34m(\u001b[0m\u001b[0;34mf\"{name} must be one of None, '{valid_xy_str}'\"\u001b[0m\u001b[0;34m)\u001b[0m\u001b[0;34m\u001b[0m\u001b[0;34m\u001b[0m\u001b[0m\n\u001b[0m\u001b[1;32m    413\u001b[0m \u001b[0;34m\u001b[0m\u001b[0m\n\u001b[1;32m    414\u001b[0m \u001b[0;34m\u001b[0m\u001b[0m\n",
      "\u001b[0;31mValueError\u001b[0m: x must be one of None, 'time'"
     ]
    },
    {
     "data": {
      "image/png": "[encoded data removed]",
      "text/plain": [
       "<Figure size 432x288 with 1 Axes>"
      ]
     },
     "metadata": {
      "needs_background": "light"
     },
     "output_type": "display_data"
    }
   ],
   "source": [
    "timetest.Chlorophyll.plot(x='year')"
   ]
  },
  {
   "cell_type": "code",
   "execution_count": 170,
   "metadata": {},
   "outputs": [
    {
     "ename": "AttributeError",
     "evalue": "'_Dataset_PlotMethods' object has no attribute 'pcolormesh'",
     "output_type": "error",
     "traceback": [
      "\u001b[0;31m---------------------------------------------------------------------------\u001b[0m",
      "\u001b[0;31mAttributeError\u001b[0m                            Traceback (most recent call last)",
      "\u001b[0;32m<ipython-input-170-3f7982d48cce>\u001b[0m in \u001b[0;36m<module>\u001b[0;34m\u001b[0m\n\u001b[0;32m----> 1\u001b[0;31m \u001b[0mtimetest\u001b[0m\u001b[0;34m.\u001b[0m\u001b[0mplot\u001b[0m\u001b[0;34m.\u001b[0m\u001b[0mpcolormesh\u001b[0m\u001b[0;34m(\u001b[0m\u001b[0mx\u001b[0m\u001b[0;34m=\u001b[0m\u001b[0;34m'month'\u001b[0m\u001b[0;34m,\u001b[0m\u001b[0my\u001b[0m\u001b[0;34m=\u001b[0m\u001b[0;34m'time'\u001b[0m\u001b[0;34m,\u001b[0m\u001b[0mz\u001b[0m\u001b[0;34m=\u001b[0m\u001b[0;34m'Chlorophyll'\u001b[0m\u001b[0;34m)\u001b[0m\u001b[0;34m\u001b[0m\u001b[0;34m\u001b[0m\u001b[0m\n\u001b[0m",
      "\u001b[0;31mAttributeError\u001b[0m: '_Dataset_PlotMethods' object has no attribute 'pcolormesh'"
     ]
    }
   ],
   "source": [
    "timetest.plot.pcolormesh(x='month',y='time',z='Chlorophyll')"
   ]
  },
  {
   "cell_type": "code",
   "execution_count": 169,
   "metadata": {},
   "outputs": [
    {
     "ename": "ValueError",
     "evalue": "DataArray must be 2d",
     "output_type": "error",
     "traceback": [
      "\u001b[0;31m---------------------------------------------------------------------------\u001b[0m",
      "\u001b[0;31mValueError\u001b[0m                                Traceback (most recent call last)",
      "\u001b[0;32m<ipython-input-169-097356d01ef2>\u001b[0m in \u001b[0;36m<module>\u001b[0;34m\u001b[0m\n\u001b[0;32m----> 1\u001b[0;31m \u001b[0mtimetest\u001b[0m\u001b[0;34m.\u001b[0m\u001b[0mChlorophyll\u001b[0m\u001b[0;34m.\u001b[0m\u001b[0mplot\u001b[0m\u001b[0;34m.\u001b[0m\u001b[0mpcolormesh\u001b[0m\u001b[0;34m(\u001b[0m\u001b[0;34m)\u001b[0m\u001b[0;34m\u001b[0m\u001b[0;34m\u001b[0m\u001b[0m\n\u001b[0m",
      "\u001b[0;32m~/opt/anaconda3/envs/xsimlab2/lib/python3.9/site-packages/xarray/plot/plot.py\u001b[0m in \u001b[0;36mplotmethod\u001b[0;34m(_PlotMethods_obj, x, y, figsize, size, aspect, ax, row, col, col_wrap, xincrease, yincrease, add_colorbar, add_labels, vmin, vmax, cmap, colors, center, robust, extend, levels, infer_intervals, subplot_kws, cbar_ax, cbar_kwargs, xscale, yscale, xticks, yticks, xlim, ylim, norm, **kwargs)\u001b[0m\n\u001b[1;32m    842\u001b[0m         \u001b[0;32mfor\u001b[0m \u001b[0marg\u001b[0m \u001b[0;32min\u001b[0m \u001b[0;34m[\u001b[0m\u001b[0;34m\"_PlotMethods_obj\"\u001b[0m\u001b[0;34m,\u001b[0m \u001b[0;34m\"newplotfunc\"\u001b[0m\u001b[0;34m,\u001b[0m \u001b[0;34m\"kwargs\"\u001b[0m\u001b[0;34m]\u001b[0m\u001b[0;34m:\u001b[0m\u001b[0;34m\u001b[0m\u001b[0;34m\u001b[0m\u001b[0m\n\u001b[1;32m    843\u001b[0m             \u001b[0;32mdel\u001b[0m \u001b[0mallargs\u001b[0m\u001b[0;34m[\u001b[0m\u001b[0marg\u001b[0m\u001b[0;34m]\u001b[0m\u001b[0;34m\u001b[0m\u001b[0;34m\u001b[0m\u001b[0m\n\u001b[0;32m--> 844\u001b[0;31m         \u001b[0;32mreturn\u001b[0m \u001b[0mnewplotfunc\u001b[0m\u001b[0;34m(\u001b[0m\u001b[0;34m**\u001b[0m\u001b[0mallargs\u001b[0m\u001b[0;34m)\u001b[0m\u001b[0;34m\u001b[0m\u001b[0;34m\u001b[0m\u001b[0m\n\u001b[0m\u001b[1;32m    845\u001b[0m \u001b[0;34m\u001b[0m\u001b[0m\n\u001b[1;32m    846\u001b[0m     \u001b[0;31m# Add to class _PlotMethods\u001b[0m\u001b[0;34m\u001b[0m\u001b[0;34m\u001b[0m\u001b[0m\n",
      "\u001b[0;32m~/opt/anaconda3/envs/xsimlab2/lib/python3.9/site-packages/xarray/plot/plot.py\u001b[0m in \u001b[0;36mnewplotfunc\u001b[0;34m(darray, x, y, figsize, size, aspect, ax, row, col, col_wrap, xincrease, yincrease, add_colorbar, add_labels, vmin, vmax, cmap, center, robust, extend, levels, infer_intervals, colors, subplot_kws, cbar_ax, cbar_kwargs, xscale, yscale, xticks, yticks, xlim, ylim, norm, **kwargs)\u001b[0m\n\u001b[1;32m    668\u001b[0m             )\n\u001b[1;32m    669\u001b[0m \u001b[0;34m\u001b[0m\u001b[0m\n\u001b[0;32m--> 670\u001b[0;31m         xlab, ylab = _infer_xy_labels(\n\u001b[0m\u001b[1;32m    671\u001b[0m             \u001b[0mdarray\u001b[0m\u001b[0;34m=\u001b[0m\u001b[0mdarray\u001b[0m\u001b[0;34m,\u001b[0m \u001b[0mx\u001b[0m\u001b[0;34m=\u001b[0m\u001b[0mx\u001b[0m\u001b[0;34m,\u001b[0m \u001b[0my\u001b[0m\u001b[0;34m=\u001b[0m\u001b[0my\u001b[0m\u001b[0;34m,\u001b[0m \u001b[0mimshow\u001b[0m\u001b[0;34m=\u001b[0m\u001b[0mimshow_rgb\u001b[0m\u001b[0;34m,\u001b[0m \u001b[0mrgb\u001b[0m\u001b[0;34m=\u001b[0m\u001b[0mrgb\u001b[0m\u001b[0;34m\u001b[0m\u001b[0;34m\u001b[0m\u001b[0m\n\u001b[1;32m    672\u001b[0m         )\n",
      "\u001b[0;32m~/opt/anaconda3/envs/xsimlab2/lib/python3.9/site-packages/xarray/plot/utils.py\u001b[0m in \u001b[0;36m_infer_xy_labels\u001b[0;34m(darray, x, y, imshow, rgb)\u001b[0m\n\u001b[1;32m    375\u001b[0m     \u001b[0;32mif\u001b[0m \u001b[0mx\u001b[0m \u001b[0;32mis\u001b[0m \u001b[0;32mNone\u001b[0m \u001b[0;32mand\u001b[0m \u001b[0my\u001b[0m \u001b[0;32mis\u001b[0m \u001b[0;32mNone\u001b[0m\u001b[0;34m:\u001b[0m\u001b[0;34m\u001b[0m\u001b[0;34m\u001b[0m\u001b[0m\n\u001b[1;32m    376\u001b[0m         \u001b[0;32mif\u001b[0m \u001b[0mdarray\u001b[0m\u001b[0;34m.\u001b[0m\u001b[0mndim\u001b[0m \u001b[0;34m!=\u001b[0m \u001b[0;36m2\u001b[0m\u001b[0;34m:\u001b[0m\u001b[0;34m\u001b[0m\u001b[0;34m\u001b[0m\u001b[0m\n\u001b[0;32m--> 377\u001b[0;31m             \u001b[0;32mraise\u001b[0m \u001b[0mValueError\u001b[0m\u001b[0;34m(\u001b[0m\u001b[0;34m\"DataArray must be 2d\"\u001b[0m\u001b[0;34m)\u001b[0m\u001b[0;34m\u001b[0m\u001b[0;34m\u001b[0m\u001b[0m\n\u001b[0m\u001b[1;32m    378\u001b[0m         \u001b[0my\u001b[0m\u001b[0;34m,\u001b[0m \u001b[0mx\u001b[0m \u001b[0;34m=\u001b[0m \u001b[0mdarray\u001b[0m\u001b[0;34m.\u001b[0m\u001b[0mdims\u001b[0m\u001b[0;34m\u001b[0m\u001b[0;34m\u001b[0m\u001b[0m\n\u001b[1;32m    379\u001b[0m     \u001b[0;32melif\u001b[0m \u001b[0mx\u001b[0m \u001b[0;32mis\u001b[0m \u001b[0;32mNone\u001b[0m\u001b[0;34m:\u001b[0m\u001b[0;34m\u001b[0m\u001b[0;34m\u001b[0m\u001b[0m\n",
      "\u001b[0;31mValueError\u001b[0m: DataArray must be 2d"
     ]
    }
   ],
   "source": [
    "timetest.Chlorophyll.plot.pcolormesh()"
   ]
  },
  {
   "cell_type": "code",
   "execution_count": 148,
   "metadata": {},
   "outputs": [
    {
     "ename": "ValueError",
     "evalue": "x must be one of None, 'time'",
     "output_type": "error",
     "traceback": [
      "\u001b[0;31m---------------------------------------------------------------------------\u001b[0m",
      "\u001b[0;31mValueError\u001b[0m                                Traceback (most recent call last)",
      "\u001b[0;32m<ipython-input-148-8349de795174>\u001b[0m in \u001b[0;36m<module>\u001b[0;34m\u001b[0m\n\u001b[0;32m----> 1\u001b[0;31m \u001b[0mCARIACO\u001b[0m\u001b[0;34m.\u001b[0m\u001b[0mChlorophyll\u001b[0m\u001b[0;34m.\u001b[0m\u001b[0mplot\u001b[0m\u001b[0;34m(\u001b[0m\u001b[0mx\u001b[0m\u001b[0;34m=\u001b[0m\u001b[0;34m'month'\u001b[0m\u001b[0;34m)\u001b[0m\u001b[0;34m\u001b[0m\u001b[0;34m\u001b[0m\u001b[0m\n\u001b[0m",
      "\u001b[0;32m~/opt/anaconda3/envs/xsimlab2/lib/python3.9/site-packages/xarray/plot/plot.py\u001b[0m in \u001b[0;36m__call__\u001b[0;34m(self, **kwargs)\u001b[0m\n\u001b[1;32m    444\u001b[0m \u001b[0;34m\u001b[0m\u001b[0m\n\u001b[1;32m    445\u001b[0m     \u001b[0;32mdef\u001b[0m \u001b[0m__call__\u001b[0m\u001b[0;34m(\u001b[0m\u001b[0mself\u001b[0m\u001b[0;34m,\u001b[0m \u001b[0;34m**\u001b[0m\u001b[0mkwargs\u001b[0m\u001b[0;34m)\u001b[0m\u001b[0;34m:\u001b[0m\u001b[0;34m\u001b[0m\u001b[0;34m\u001b[0m\u001b[0m\n\u001b[0;32m--> 446\u001b[0;31m         \u001b[0;32mreturn\u001b[0m \u001b[0mplot\u001b[0m\u001b[0;34m(\u001b[0m\u001b[0mself\u001b[0m\u001b[0;34m.\u001b[0m\u001b[0m_da\u001b[0m\u001b[0;34m,\u001b[0m \u001b[0;34m**\u001b[0m\u001b[0mkwargs\u001b[0m\u001b[0;34m)\u001b[0m\u001b[0;34m\u001b[0m\u001b[0;34m\u001b[0m\u001b[0m\n\u001b[0m\u001b[1;32m    447\u001b[0m \u001b[0;34m\u001b[0m\u001b[0m\n\u001b[1;32m    448\u001b[0m     \u001b[0;31m# we can't use functools.wraps here since that also modifies the name / qualname\u001b[0m\u001b[0;34m\u001b[0m\u001b[0;34m\u001b[0m\u001b[0m\n",
      "\u001b[0;32m~/opt/anaconda3/envs/xsimlab2/lib/python3.9/site-packages/xarray/plot/plot.py\u001b[0m in \u001b[0;36mplot\u001b[0;34m(darray, row, col, col_wrap, ax, hue, rtol, subplot_kws, **kwargs)\u001b[0m\n\u001b[1;32m    198\u001b[0m     \u001b[0mkwargs\u001b[0m\u001b[0;34m[\u001b[0m\u001b[0;34m\"ax\"\u001b[0m\u001b[0;34m]\u001b[0m \u001b[0;34m=\u001b[0m \u001b[0max\u001b[0m\u001b[0;34m\u001b[0m\u001b[0;34m\u001b[0m\u001b[0m\n\u001b[1;32m    199\u001b[0m \u001b[0;34m\u001b[0m\u001b[0m\n\u001b[0;32m--> 200\u001b[0;31m     \u001b[0;32mreturn\u001b[0m \u001b[0mplotfunc\u001b[0m\u001b[0;34m(\u001b[0m\u001b[0mdarray\u001b[0m\u001b[0;34m,\u001b[0m \u001b[0;34m**\u001b[0m\u001b[0mkwargs\u001b[0m\u001b[0;34m)\u001b[0m\u001b[0;34m\u001b[0m\u001b[0;34m\u001b[0m\u001b[0m\n\u001b[0m\u001b[1;32m    201\u001b[0m \u001b[0;34m\u001b[0m\u001b[0m\n\u001b[1;32m    202\u001b[0m \u001b[0;34m\u001b[0m\u001b[0m\n",
      "\u001b[0;32m~/opt/anaconda3/envs/xsimlab2/lib/python3.9/site-packages/xarray/plot/plot.py\u001b[0m in \u001b[0;36mline\u001b[0;34m(darray, row, col, figsize, aspect, size, ax, hue, x, y, xincrease, yincrease, xscale, yscale, xticks, yticks, xlim, ylim, add_legend, _labels, *args, **kwargs)\u001b[0m\n\u001b[1;32m    293\u001b[0m \u001b[0;34m\u001b[0m\u001b[0m\n\u001b[1;32m    294\u001b[0m     \u001b[0max\u001b[0m \u001b[0;34m=\u001b[0m \u001b[0mget_axis\u001b[0m\u001b[0;34m(\u001b[0m\u001b[0mfigsize\u001b[0m\u001b[0;34m,\u001b[0m \u001b[0msize\u001b[0m\u001b[0;34m,\u001b[0m \u001b[0maspect\u001b[0m\u001b[0;34m,\u001b[0m \u001b[0max\u001b[0m\u001b[0;34m)\u001b[0m\u001b[0;34m\u001b[0m\u001b[0;34m\u001b[0m\u001b[0m\n\u001b[0;32m--> 295\u001b[0;31m     \u001b[0mxplt\u001b[0m\u001b[0;34m,\u001b[0m \u001b[0myplt\u001b[0m\u001b[0;34m,\u001b[0m \u001b[0mhueplt\u001b[0m\u001b[0;34m,\u001b[0m \u001b[0mxlabel\u001b[0m\u001b[0;34m,\u001b[0m \u001b[0mylabel\u001b[0m\u001b[0;34m,\u001b[0m \u001b[0mhue_label\u001b[0m \u001b[0;34m=\u001b[0m \u001b[0m_infer_line_data\u001b[0m\u001b[0;34m(\u001b[0m\u001b[0mdarray\u001b[0m\u001b[0;34m,\u001b[0m \u001b[0mx\u001b[0m\u001b[0;34m,\u001b[0m \u001b[0my\u001b[0m\u001b[0;34m,\u001b[0m \u001b[0mhue\u001b[0m\u001b[0;34m)\u001b[0m\u001b[0;34m\u001b[0m\u001b[0;34m\u001b[0m\u001b[0m\n\u001b[0m\u001b[1;32m    296\u001b[0m \u001b[0;34m\u001b[0m\u001b[0m\n\u001b[1;32m    297\u001b[0m     \u001b[0;31m# Remove pd.Intervals if contained in xplt.values and/or yplt.values.\u001b[0m\u001b[0;34m\u001b[0m\u001b[0;34m\u001b[0m\u001b[0m\n",
      "\u001b[0;32m~/opt/anaconda3/envs/xsimlab2/lib/python3.9/site-packages/xarray/plot/plot.py\u001b[0m in \u001b[0;36m_infer_line_data\u001b[0;34m(darray, x, y, hue)\u001b[0m\n\u001b[1;32m     38\u001b[0m \u001b[0;34m\u001b[0m\u001b[0m\n\u001b[1;32m     39\u001b[0m     \u001b[0;32mif\u001b[0m \u001b[0mx\u001b[0m \u001b[0;32mis\u001b[0m \u001b[0;32mnot\u001b[0m \u001b[0;32mNone\u001b[0m\u001b[0;34m:\u001b[0m\u001b[0;34m\u001b[0m\u001b[0;34m\u001b[0m\u001b[0m\n\u001b[0;32m---> 40\u001b[0;31m         \u001b[0m_assert_valid_xy\u001b[0m\u001b[0;34m(\u001b[0m\u001b[0mdarray\u001b[0m\u001b[0;34m,\u001b[0m \u001b[0mx\u001b[0m\u001b[0;34m,\u001b[0m \u001b[0;34m\"x\"\u001b[0m\u001b[0;34m)\u001b[0m\u001b[0;34m\u001b[0m\u001b[0;34m\u001b[0m\u001b[0m\n\u001b[0m\u001b[1;32m     41\u001b[0m \u001b[0;34m\u001b[0m\u001b[0m\n\u001b[1;32m     42\u001b[0m     \u001b[0;32mif\u001b[0m \u001b[0my\u001b[0m \u001b[0;32mis\u001b[0m \u001b[0;32mnot\u001b[0m \u001b[0;32mNone\u001b[0m\u001b[0;34m:\u001b[0m\u001b[0;34m\u001b[0m\u001b[0;34m\u001b[0m\u001b[0m\n",
      "\u001b[0;32m~/opt/anaconda3/envs/xsimlab2/lib/python3.9/site-packages/xarray/plot/utils.py\u001b[0m in \u001b[0;36m_assert_valid_xy\u001b[0;34m(darray, xy, name)\u001b[0m\n\u001b[1;32m    410\u001b[0m     \u001b[0;32mif\u001b[0m \u001b[0mxy\u001b[0m \u001b[0;32mnot\u001b[0m \u001b[0;32min\u001b[0m \u001b[0mvalid_xy\u001b[0m\u001b[0;34m:\u001b[0m\u001b[0;34m\u001b[0m\u001b[0;34m\u001b[0m\u001b[0m\n\u001b[1;32m    411\u001b[0m         \u001b[0mvalid_xy_str\u001b[0m \u001b[0;34m=\u001b[0m \u001b[0;34m\"', '\"\u001b[0m\u001b[0;34m.\u001b[0m\u001b[0mjoin\u001b[0m\u001b[0;34m(\u001b[0m\u001b[0msorted\u001b[0m\u001b[0;34m(\u001b[0m\u001b[0mvalid_xy\u001b[0m\u001b[0;34m)\u001b[0m\u001b[0;34m)\u001b[0m\u001b[0;34m\u001b[0m\u001b[0;34m\u001b[0m\u001b[0m\n\u001b[0;32m--> 412\u001b[0;31m         \u001b[0;32mraise\u001b[0m \u001b[0mValueError\u001b[0m\u001b[0;34m(\u001b[0m\u001b[0;34mf\"{name} must be one of None, '{valid_xy_str}'\"\u001b[0m\u001b[0;34m)\u001b[0m\u001b[0;34m\u001b[0m\u001b[0;34m\u001b[0m\u001b[0m\n\u001b[0m\u001b[1;32m    413\u001b[0m \u001b[0;34m\u001b[0m\u001b[0m\n\u001b[1;32m    414\u001b[0m \u001b[0;34m\u001b[0m\u001b[0m\n",
      "\u001b[0;31mValueError\u001b[0m: x must be one of None, 'time'"
     ]
    },
    {
     "data": {
      "image/png": "[encoded data removed]",
      "text/plain": [
       "<Figure size 432x288 with 1 Axes>"
      ]
     },
     "metadata": {
      "needs_background": "light"
     },
     "output_type": "display_data"
    }
   ],
   "source": [
    "CARIACO.Chlorophyll.plot(x='month')"
   ]
  },
  {
   "cell_type": "code",
   "execution_count": 139,
   "metadata": {},
   "outputs": [
    {
     "data": {
      "text/plain": [
       "[<matplotlib.lines.Line2D at 0x1627b5c10>]"
      ]
     },
     "execution_count": 139,
     "metadata": {},
     "output_type": "execute_result"
    },
    {
     "data": {
      "image/png": "[encoded data removed]",
      "text/plain": [
       "<Figure size 864x432 with 1 Axes>"
      ]
     },
     "metadata": {
      "needs_background": "light"
     },
     "output_type": "display_data"
    }
   ],
   "source": [
    "CARIACO.Chlorophyll.plot.line(color=\"purple\", marker=\"o\",\n",
    "                             aspect=2, size=6, ylim=[0,3])"
   ]
  },
  {
   "cell_type": "code",
   "execution_count": null,
   "metadata": {},
   "outputs": [],
   "source": []
  },
  {
   "cell_type": "markdown",
   "metadata": {},
   "source": [
    "# export to ncdf for plotting etc."
   ]
  },
  {
   "cell_type": "code",
   "execution_count": null,
   "metadata": {},
   "outputs": [],
   "source": []
  }
 ],
 "metadata": {
  "kernelspec": {
   "display_name": "Python 3",
   "language": "python",
   "name": "python3"
  },
  "language_info": {
   "codemirror_mode": {
    "name": "ipython",
    "version": 3
   },
   "file_extension": ".py",
   "mimetype": "text/x-python",
   "name": "python",
   "nbconvert_exporter": "python",
   "pygments_lexer": "ipython3",
   "version": "3.9.7"
  }
 },
 "nbformat": 4,
 "nbformat_minor": 4
}
