{
 "cells": [
  {
   "cell_type": "markdown",
   "id": "62f1c325-b3f4-4bb2-ba3e-274704f0e185",
   "metadata": {},
   "source": [
    "# Create Plots showing general dynamics of analysis group\n",
    "\n",
    "## GROUP 1\n",
    "\n",
    "- ERA5 Wind\n",
    "- ERA5 SST\n",
    "- ERA5 Precipitation\n",
    "- ERA5 Evaporation\n",
    "- ERA5 irradiance\n",
    "- MERGED Satellite Chl a"
   ]
  },
  {
   "cell_type": "code",
   "execution_count": null,
   "id": "ac9877fd-13e6-4fec-aa1b-e01c3398c510",
   "metadata": {},
   "outputs": [],
   "source": []
  }
 ],
 "metadata": {
  "kernelspec": {
   "display_name": "Python 3 (ipykernel)",
   "language": "python",
   "name": "python3"
  },
  "language_info": {
   "codemirror_mode": {
    "name": "ipython",
    "version": 3
   },
   "file_extension": ".py",
   "mimetype": "text/x-python",
   "name": "python",
   "nbconvert_exporter": "python",
   "pygments_lexer": "ipython3",
   "version": "3.10.4"
  }
 },
 "nbformat": 4,
 "nbformat_minor": 5
}
