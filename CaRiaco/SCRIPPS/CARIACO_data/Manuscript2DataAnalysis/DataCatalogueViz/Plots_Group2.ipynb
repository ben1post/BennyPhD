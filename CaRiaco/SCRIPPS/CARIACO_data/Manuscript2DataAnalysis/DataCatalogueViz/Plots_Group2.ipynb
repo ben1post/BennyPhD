{
 "cells": [
  {
   "cell_type": "markdown",
   "id": "51a2b474-68c1-4fd7-b6a4-368aa0848b9f",
   "metadata": {},
   "source": [
    "# Create Plots showing general dynamics of analysis group\n",
    "\n",
    "## GROUP 2\n",
    "\n",
    "- Satellite merged\n",
    "- ERA5 cdir (irradiance)\n",
    "- ERA5 mtpr (precipitation)\n",
    "- TimeSeries 21° Isotherm\n",
    "- TimeSeries Chlorophyll 35m\n",
    "- TimeSeries Tchla\n",
    "- TimeSeries Phaeopigment 35m\n",
    "- TimeSeries NO3 35m\n",
    "- TimeSeries PO4 35m\n",
    "- TimeSeries SiO4 35m"
   ]
  },
  {
   "cell_type": "code",
   "execution_count": null,
   "id": "ee18fa80-9f00-42a7-a15d-008a78725002",
   "metadata": {},
   "outputs": [],
   "source": []
  }
 ],
 "metadata": {
  "kernelspec": {
   "display_name": "Python 3 (ipykernel)",
   "language": "python",
   "name": "python3"
  },
  "language_info": {
   "codemirror_mode": {
    "name": "ipython",
    "version": 3
   },
   "file_extension": ".py",
   "mimetype": "text/x-python",
   "name": "python",
   "nbconvert_exporter": "python",
   "pygments_lexer": "ipython3",
   "version": "3.9.9"
  }
 },
 "nbformat": 4,
 "nbformat_minor": 5
}
