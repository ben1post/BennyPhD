{
 "cells": [
  {
   "cell_type": "markdown",
   "id": "51a2b474-68c1-4fd7-b6a4-368aa0848b9f",
   "metadata": {},
   "source": [
    "# Create Plots showing general dynamics of analysis group\n",
    "\n",
    "## GROUP 2\n",
    "\n",
    "- ERA5 Wind\n",
    "- ERA5 Precipitation\n",
    "- ERA5 Evaporation\n",
    "- TimeSeries 21° Isotherm\n",
    "- TimeSeries Chlorophyll\n",
    "- TimeSeries Phaeopigment\n",
    "- TimeSeries NO3\n",
    "- TimeSeries PO4\n",
    "- TimeSeries SiO4"
   ]
  },
  {
   "cell_type": "code",
   "execution_count": null,
   "id": "ee18fa80-9f00-42a7-a15d-008a78725002",
   "metadata": {},
   "outputs": [],
   "source": []
  }
 ],
 "metadata": {
  "kernelspec": {
   "display_name": "Python 3 (ipykernel)",
   "language": "python",
   "name": "python3"
  },
  "language_info": {
   "codemirror_mode": {
    "name": "ipython",
    "version": 3
   },
   "file_extension": ".py",
   "mimetype": "text/x-python",
   "name": "python",
   "nbconvert_exporter": "python",
   "pygments_lexer": "ipython3",
   "version": "3.9.9"
  }
 },
 "nbformat": 4,
 "nbformat_minor": 5
}
