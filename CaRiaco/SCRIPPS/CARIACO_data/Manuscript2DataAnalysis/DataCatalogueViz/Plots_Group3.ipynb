{
 "cells": [
  {
   "cell_type": "markdown",
   "id": "35b76f8d-8387-4172-957a-b041ec60c655",
   "metadata": {},
   "source": [
    "# Create Plots showing general dynamics of analysis group\n",
    "\n",
    "## GROUP 3\n",
    "\n",
    "- ERA5 Wind\n",
    "- TimeSeries 21° Isotherm\n",
    "- TimeSeries NO3\n",
    "- TimeSeries PO4\n",
    "- TimeSeries SiO4\n",
    "\n",
    "- HPLC Func groups (8x)"
   ]
  },
  {
   "cell_type": "code",
   "execution_count": null,
   "id": "6e5d909a-6ad9-4f19-b138-cd8d799e65c1",
   "metadata": {},
   "outputs": [],
   "source": []
  }
 ],
 "metadata": {
  "kernelspec": {
   "display_name": "Python 3 (ipykernel)",
   "language": "python",
   "name": "python3"
  },
  "language_info": {
   "codemirror_mode": {
    "name": "ipython",
    "version": 3
   },
   "file_extension": ".py",
   "mimetype": "text/x-python",
   "name": "python",
   "nbconvert_exporter": "python",
   "pygments_lexer": "ipython3",
   "version": "3.9.9"
  }
 },
 "nbformat": 4,
 "nbformat_minor": 5
}
