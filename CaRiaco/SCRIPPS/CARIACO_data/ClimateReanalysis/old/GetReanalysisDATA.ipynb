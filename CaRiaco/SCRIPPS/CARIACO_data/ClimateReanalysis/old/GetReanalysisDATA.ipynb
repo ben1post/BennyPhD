{
 "cells": [
  {
   "cell_type": "code",
   "execution_count": 1,
   "metadata": {},
   "outputs": [
    {
     "name": "stdout",
     "output_type": "stream",
     "text": [
      "[1] \"hello world\"\n"
     ]
    }
   ],
   "source": [
    "print(\"hello world\")"
   ]
  },
  {
   "cell_type": "code",
   "execution_count": 2,
   "metadata": {},
   "outputs": [
    {
     "name": "stderr",
     "output_type": "stream",
     "text": [
      "Loading required package: RNCEP\n",
      "Warning message in library(package, lib.loc = lib.loc, character.only = TRUE, logical.return = TRUE, :\n",
      "“there is no package called ‘RNCEP’”also installing the dependencies ‘dotCall64’, ‘spam’, ‘maptree’, ‘maps’, ‘RColorBrewer’, ‘abind’, ‘fields’, ‘tgp’, ‘sp’\n",
      "\n",
      "Updating HTML index of packages in '.Library'\n",
      "Making 'packages.html' ... done\n",
      "Loading required package: lubridate\n",
      "Warning message in library(package, lib.loc = lib.loc, character.only = TRUE, logical.return = TRUE, :\n",
      "“there is no package called ‘lubridate’”also installing the dependency ‘generics’\n",
      "\n",
      "Updating HTML index of packages in '.Library'\n",
      "Making 'packages.html' ... done\n",
      "Loading required package: tidyverse\n",
      "Warning message in library(package, lib.loc = lib.loc, character.only = TRUE, logical.return = TRUE, :\n",
      "“there is no package called ‘tidyverse’”also installing the dependencies ‘desc’, ‘pkgbuild’, ‘rprojroot’, ‘pkgload’, ‘praise’, ‘colorspace’, ‘sys’, ‘ps’, ‘highr’, ‘markdown’, ‘testthat’, ‘farver’, ‘labeling’, ‘munsell’, ‘viridisLite’, ‘askpass’, ‘rematch’, ‘prettyunits’, ‘processx’, ‘knitr’, ‘yaml’, ‘tinytex’, ‘xfun’, ‘backports’, ‘ellipsis’, ‘glue’, ‘assertthat’, ‘fansi’, ‘DBI’, ‘lifecycle’, ‘R6’, ‘tidyselect’, ‘blob’, ‘vctrs’, ‘gtable’, ‘isoband’, ‘scales’, ‘withr’, ‘pkgconfig’, ‘curl’, ‘mime’, ‘openssl’, ‘utf8’, ‘clipr’, ‘BH’, ‘cellranger’, ‘progress’, ‘callr’, ‘fs’, ‘rmarkdown’, ‘whisker’, ‘selectr’, ‘stringi’, ‘cpp11’, ‘broom’, ‘cli’, ‘dbplyr’, ‘dplyr’, ‘forcats’, ‘ggplot2’, ‘haven’, ‘hms’, ‘httr’, ‘magrittr’, ‘modelr’, ‘pillar’, ‘purrr’, ‘readr’, ‘readxl’, ‘reprex’, ‘rlang’, ‘rstudioapi’, ‘rvest’, ‘stringr’, ‘tibble’, ‘tidyr’, ‘xml2’\n",
      "\n",
      "Updating HTML index of packages in '.Library'\n",
      "Making 'packages.html' ... done\n",
      "Loading required package: sf\n",
      "Warning message in library(package, lib.loc = lib.loc, character.only = TRUE, logical.return = TRUE, :\n",
      "“there is no package called ‘sf’”also installing the dependencies ‘e1071’, ‘classInt’, ‘units’\n",
      "\n",
      "Warning message in install.packages(\"sf\"):\n",
      "“installation of package ‘units’ had non-zero exit status”Warning message in install.packages(\"sf\"):\n",
      "“installation of package ‘sf’ had non-zero exit status”Updating HTML index of packages in '.Library'\n",
      "Making 'packages.html' ... done\n"
     ]
    }
   ],
   "source": [
    "#install the RNCEP, lubridate and tidyverse packages\n",
    "if(!require(\"RNCEP\")) install.packages(\"RNCEP\")\n",
    "if(!require(\"lubridate\")) install.packages(\"lubridate\")\n",
    "if(!require(\"tidyverse\")) install.packages(\"tidyverse\")\n",
    "if(!require(\"sf\")) install.packages(\"sf\")"
   ]
  },
  {
   "cell_type": "code",
   "execution_count": 3,
   "metadata": {},
   "outputs": [
    {
     "name": "stderr",
     "output_type": "stream",
     "text": [
      "Loading required package: maps\n",
      "Warning message in system2(\"/usr/bin/otool\", c(\"-L\", shQuote(DSO)), stdout = TRUE):\n",
      "“running command ''/usr/bin/otool' -L '/Users/bpo/opt/miniconda3/envs/r-kernel/lib/R/library/tcltk/libs//tcltk.so'' had status 1”\n",
      "Attaching package: ‘lubridate’\n",
      "\n",
      "The following objects are masked from ‘package:base’:\n",
      "\n",
      "    date, intersect, setdiff, union\n",
      "\n",
      "── Attaching packages ─────────────────────────────────────── tidyverse 1.3.0 ──\n",
      "✔ ggplot2 3.3.2     ✔ purrr   0.3.4\n",
      "✔ tibble  3.0.3     ✔ dplyr   1.0.1\n",
      "✔ tidyr   1.1.1     ✔ stringr 1.4.0\n",
      "✔ readr   1.3.1     ✔ forcats 0.5.0\n",
      "── Conflicts ────────────────────────────────────────── tidyverse_conflicts() ──\n",
      "✖ lubridate::as.difftime() masks base::as.difftime()\n",
      "✖ lubridate::date()        masks base::date()\n",
      "✖ dplyr::filter()          masks stats::filter()\n",
      "✖ lubridate::intersect()   masks base::intersect()\n",
      "✖ dplyr::lag()             masks stats::lag()\n",
      "✖ purrr::map()             masks maps::map()\n",
      "✖ lubridate::setdiff()     masks base::setdiff()\n",
      "✖ lubridate::union()       masks base::union()\n"
     ]
    },
    {
     "ename": "ERROR",
     "evalue": "Error in library(sf): there is no package called ‘sf’\n",
     "output_type": "error",
     "traceback": [
      "Error in library(sf): there is no package called ‘sf’\nTraceback:\n",
      "1. library(sf)"
     ]
    }
   ],
   "source": [
    "#load the packages\n",
    "library(RNCEP)\n",
    "library(lubridate) #date and time manipulation\n",
    "library(tidyverse) #data manipulation and visualization\n",
    "library(RColorBrewer) #color schemes\n",
    "library(sf) #to import a spatial object and to work with geom_sf in ggplot2"
   ]
  },
  {
   "cell_type": "code",
   "execution_count": 4,
   "metadata": {},
   "outputs": [
    {
     "name": "stderr",
     "output_type": "stream",
     "text": [
      "Warning message in install.packages(\"units\"):\n",
      "“installation of package ‘units’ had non-zero exit status”Updating HTML index of packages in '.Library'\n",
      "Making 'packages.html' ... done\n"
     ]
    }
   ],
   "source": [
    "install.packages(\"sf\")"
   ]
  },
  {
   "cell_type": "code",
   "execution_count": null,
   "metadata": {},
   "outputs": [],
   "source": []
  }
 ],
 "metadata": {
  "kernelspec": {
   "display_name": "R",
   "language": "R",
   "name": "ir"
  },
  "language_info": {
   "codemirror_mode": "r",
   "file_extension": ".r",
   "mimetype": "text/x-r-source",
   "name": "R",
   "pygments_lexer": "r",
   "version": "4.0.2"
  }
 },
 "nbformat": 4,
 "nbformat_minor": 4
}
