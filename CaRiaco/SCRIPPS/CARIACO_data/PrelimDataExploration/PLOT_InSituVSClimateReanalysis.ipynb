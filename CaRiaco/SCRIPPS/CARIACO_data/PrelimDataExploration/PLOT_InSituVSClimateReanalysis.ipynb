{
 "cells": [
  {
   "cell_type": "code",
   "execution_count": null,
   "metadata": {},
   "outputs": [],
   "source": [
    "import xarray as xr\n",
    "import pandas as pd\n",
    "import numpy as np"
   ]
  },
  {
   "cell_type": "raw",
   "metadata": {},
   "source": [
    "zonal component of the 10-m wind, \n",
    "meridional com- ponent of the 10-m wind, \n",
    "total (surface and subsurface) runoff, \n",
    "precipitation, \n",
    "2-m air temperature, \n",
    "lake bottom temperature, \n",
    "lake mix-layer temperature, \n",
    "lake mix-layer depth, \n",
    "lake total layer tem- perature, and \n",
    "lake shape factor. \n",
    "\n",
    "For precipitation and total runoff, we edited the native average monthly data to calculate the ac- cumulated monthly values for each month. \n",
    "\n",
    "Average monthly 10- m wind speed was calculated through the zonal and meridional components of the 10-m wind to be used in further analysis. \n",
    "\n",
    "Fur- thermore, to account for the variability of chlorophyll-a and phy- toplankton biomass between natural lakes and artificial impound- ments we used the type of the water body (natural vs reservoir) as a factor variable. The type of the water body can explain variations in phytoplankton due to differences in nutrient levels and lake morphometry since reservoirs are usually deep and oligotrophic opposed to shallower and more eutrophic natural lakes (Table S1). \n",
    "\n",
    "Then we matched the available chlorophyll-a and phytoplank- ton biomass measurements with monthly values of the climate reanalysis data based on the date of the sampling."
   ]
  },
  {
   "cell_type": "code",
   "execution_count": null,
   "metadata": {},
   "outputs": [],
   "source": [
    "analysis_variables_list = ['10m_u_component_of_wind', \n",
    "                           '10m_v_component_of_neutral_wind', \n",
    "                           '10m_v_component_of_wind',\n",
    "                           '10m_wind_speed',\n",
    "                           '2m_temperature',\n",
    "                           'benjamin_feir_index',  \n",
    "                           'clear_sky_direct_solar_radiation_at_surface',\n",
    "                           'coefficient_of_drag_with_waves',\n",
    "                           'evaporation',\n",
    "                           'instantaneous_10m_wind_gust', \n",
    "                           'instantaneous_eastward_turbulent_surface_stress', \n",
    "                           'instantaneous_large_scale_surface_precipitation_fraction',\n",
    "                           'instantaneous_northward_turbulent_surface_stress',\n",
    "                           'lake_mix_layer_depth',\n",
    "                           'lake_mix_layer_temperature',\n",
    "                           'mean_evaporation_rate',\n",
    "                           'large_scale_precipitation',\n",
    "                           'mean_runoff_rate',\n",
    "                           'mean_total_precipitation_rate',\n",
    "                           'mean_wave_period',\n",
    "                           'medium_cloud_cover',\n",
    "                           'northward_turbulent_surface_stress',\n",
    "                           'runoff',\n",
    "                           'sea_surface_temperature',\n",
    "                           'sub_surface_runoff',\n",
    "                           'surface_pressure',\n",
    "                           'surface_runoff', \n",
    "                           'surface_sensible_heat_flux',\n",
    "                           'total_precipitation',\n",
    "                           'v_component_stokes_drift',\n",
    "                           \n",
    "                          ]\n",
    "                           "
   ]
  },
  {
   "cell_type": "code",
   "execution_count": null,
   "metadata": {
    "jupyter": {
     "source_hidden": true
    }
   },
   "outputs": [],
   "source": [
    "variables_list = [\n",
    "            '100m_u_component_of_wind', '100m_v_component_of_wind', '10m_u_component_of_neutral_wind',\n",
    "            '10m_u_component_of_wind', '10m_v_component_of_neutral_wind', '10m_v_component_of_wind',\n",
    "            '10m_wind_speed', '2m_dewpoint_temperature', '2m_temperature',\n",
    "            'air_density_over_the_oceans', 'angle_of_sub_gridscale_orography', 'anisotropy_of_sub_gridscale_orography',\n",
    "            'benjamin_feir_index', 'boundary_layer_dissipation', 'boundary_layer_height',\n",
    "            'charnock', 'clear_sky_direct_solar_radiation_at_surface', 'cloud_base_height',\n",
    "            'coefficient_of_drag_with_waves', 'convective_available_potential_energy', 'convective_inhibition',\n",
    "            'convective_precipitation', 'convective_rain_rate', 'convective_snowfall',\n",
    "            'convective_snowfall_rate_water_equivalent', 'downward_uv_radiation_at_the_surface', 'duct_base_height',\n",
    "            'eastward_gravity_wave_surface_stress', 'eastward_turbulent_surface_stress', 'evaporation',\n",
    "            'forecast_albedo', 'forecast_logarithm_of_surface_roughness_for_heat', 'forecast_surface_roughness',\n",
    "            'free_convective_velocity_over_the_oceans', 'friction_velocity', 'gravity_wave_dissipation',\n",
    "            'high_cloud_cover', 'high_vegetation_cover', 'ice_temperature_layer_1',\n",
    "            'ice_temperature_layer_2', 'ice_temperature_layer_3', 'ice_temperature_layer_4',\n",
    "            'instantaneous_10m_wind_gust', 'instantaneous_eastward_turbulent_surface_stress', 'instantaneous_large_scale_surface_precipitation_fraction',\n",
    "            'instantaneous_moisture_flux', 'instantaneous_northward_turbulent_surface_stress', 'instantaneous_surface_sensible_heat_flux',\n",
    "            'k_index', 'lake_bottom_temperature', 'lake_cover',\n",
    "            'lake_depth', 'lake_ice_depth', 'lake_ice_temperature',\n",
    "            'lake_mix_layer_depth', 'lake_mix_layer_temperature', 'lake_shape_factor',\n",
    "            'lake_total_layer_temperature', 'land_sea_mask', 'large_scale_precipitation',\n",
    "            'large_scale_precipitation_fraction', 'large_scale_rain_rate', 'large_scale_snowfall',\n",
    "            'large_scale_snowfall_rate_water_equivalent', 'leaf_area_index_high_vegetation', 'leaf_area_index_low_vegetation',\n",
    "            'low_cloud_cover', 'low_vegetation_cover', \n",
    "            'magnitude_of_turbulent_surface_stress',\n",
    "            'maximum_individual_wave_height', 'mean_boundary_layer_dissipation', 'mean_convective_precipitation_rate',\n",
    "            'mean_convective_snowfall_rate', 'mean_direction_of_total_swell', 'mean_direction_of_wind_waves',\n",
    "            'mean_eastward_gravity_wave_surface_stress', 'mean_eastward_turbulent_surface_stress', 'mean_evaporation_rate',\n",
    "            'mean_gravity_wave_dissipation', 'mean_large_scale_precipitation_fraction', 'mean_large_scale_precipitation_rate',\n",
    "            'mean_large_scale_snowfall_rate', 'mean_magnitude_of_turbulent_surface_stress', 'mean_northward_gravity_wave_surface_stress',\n",
    "            'mean_northward_turbulent_surface_stress', 'mean_period_of_total_swell', 'mean_period_of_wind_waves',\n",
    "            'mean_potential_evaporation_rate', 'mean_runoff_rate', 'mean_sea_level_pressure',\n",
    "            'mean_snow_evaporation_rate', 'mean_snowfall_rate', 'mean_snowmelt_rate',\n",
    "            'mean_square_slope_of_waves', 'mean_sub_surface_runoff_rate', 'mean_surface_direct_short_wave_radiation_flux',\n",
    "            'mean_surface_direct_short_wave_radiation_flux_clear_sky', 'mean_surface_downward_long_wave_radiation_flux', 'mean_surface_downward_long_wave_radiation_flux_clear_sky',\n",
    "            'mean_surface_downward_short_wave_radiation_flux', 'mean_surface_downward_short_wave_radiation_flux_clear_sky', 'mean_surface_downward_uv_radiation_flux',\n",
    "            'mean_surface_latent_heat_flux', 'mean_surface_net_long_wave_radiation_flux', 'mean_surface_net_long_wave_radiation_flux_clear_sky',\n",
    "            'mean_surface_net_short_wave_radiation_flux', 'mean_surface_net_short_wave_radiation_flux_clear_sky', 'mean_surface_runoff_rate',\n",
    "            'mean_surface_sensible_heat_flux', 'mean_top_downward_short_wave_radiation_flux', 'mean_top_net_long_wave_radiation_flux',\n",
    "            'mean_top_net_long_wave_radiation_flux_clear_sky', 'mean_top_net_short_wave_radiation_flux', 'mean_top_net_short_wave_radiation_flux_clear_sky',\n",
    "            'mean_total_precipitation_rate', 'mean_vertical_gradient_of_refractivity_inside_trapping_layer', 'mean_vertically_integrated_moisture_divergence',\n",
    "            'mean_wave_direction', 'mean_wave_direction_of_first_swell_partition', 'mean_wave_direction_of_second_swell_partition',\n",
    "            'mean_wave_direction_of_third_swell_partition', 'mean_wave_period', 'mean_wave_period_based_on_first_moment',\n",
    "            'mean_wave_period_based_on_first_moment_for_swell', 'mean_wave_period_based_on_first_moment_for_wind_waves', 'mean_wave_period_based_on_second_moment_for_swell',\n",
    "            'mean_wave_period_based_on_second_moment_for_wind_waves', 'mean_wave_period_of_first_swell_partition', 'mean_wave_period_of_second_swell_partition',\n",
    "            'mean_wave_period_of_third_swell_partition', 'mean_zero_crossing_wave_period', 'medium_cloud_cover',\n",
    "            'minimum_vertical_gradient_of_refractivity_inside_trapping_layer', 'model_bathymetry', 'near_ir_albedo_for_diffuse_radiation',\n",
    "            'near_ir_albedo_for_direct_radiation', 'normalized_energy_flux_into_ocean', 'normalized_energy_flux_into_waves',\n",
    "            'normalized_stress_into_ocean', 'northward_gravity_wave_surface_stress', 'northward_turbulent_surface_stress',\n",
    "            'ocean_surface_stress_equivalent_10m_neutral_wind_direction', 'ocean_surface_stress_equivalent_10m_neutral_wind_speed', 'orography',\n",
    "            'peak_wave_period', 'period_corresponding_to_maximum_individual_wave_height', 'potential_evaporation',\n",
    "            'precipitation_type', 'runoff', 'sea_ice_cover',\n",
    "            'sea_surface_temperature', 'significant_height_of_combined_wind_waves_and_swell', 'significant_height_of_total_swell',\n",
    "            'significant_height_of_wind_waves', 'significant_wave_height_of_first_swell_partition', 'significant_wave_height_of_second_swell_partition',\n",
    "            'significant_wave_height_of_third_swell_partition', 'skin_reservoir_content', 'skin_temperature',\n",
    "            'slope_of_sub_gridscale_orography', 'snow_albedo', 'snow_density',\n",
    "            'snow_depth', 'snow_evaporation', 'snowfall',\n",
    "            'snowmelt', 'soil_temperature_level_1', 'soil_temperature_level_2',\n",
    "            'soil_temperature_level_3', 'soil_temperature_level_4', 'soil_type',\n",
    "            'standard_deviation_of_filtered_subgrid_orography', 'standard_deviation_of_orography', 'sub_surface_runoff',\n",
    "            'surface_latent_heat_flux', 'surface_net_solar_radiation', 'surface_net_solar_radiation_clear_sky',\n",
    "            'surface_net_thermal_radiation', 'surface_net_thermal_radiation_clear_sky', 'surface_pressure',\n",
    "            'surface_runoff', 'surface_sensible_heat_flux', 'surface_solar_radiation_downward_clear_sky',\n",
    "            'surface_solar_radiation_downwards', 'surface_thermal_radiation_downward_clear_sky', 'surface_thermal_radiation_downwards',\n",
    "            'temperature_of_snow_layer', 'toa_incident_solar_radiation', 'top_net_solar_radiation',\n",
    "            'top_net_solar_radiation_clear_sky', 'top_net_thermal_radiation', 'top_net_thermal_radiation_clear_sky',\n",
    "            'total_cloud_cover', 'total_column_cloud_ice_water', 'total_column_cloud_liquid_water',\n",
    "            'total_column_ozone', 'total_column_rain_water', 'total_column_snow_water',\n",
    "            'total_column_supercooled_liquid_water', 'total_column_water', 'total_column_water_vapour',\n",
    "            'total_precipitation', 'total_sky_direct_solar_radiation_at_surface', 'total_totals_index',\n",
    "            'trapping_layer_base_height', 'trapping_layer_top_height', 'type_of_high_vegetation',\n",
    "            'type_of_low_vegetation', \n",
    "            'u_component_stokes_drift', 'uv_visible_albedo_for_diffuse_radiation',\n",
    "            'uv_visible_albedo_for_direct_radiation', 'v_component_stokes_drift', 'vertical_integral_of_divergence_of_cloud_frozen_water_flux',\n",
    "            'vertical_integral_of_divergence_of_cloud_liquid_water_flux', 'vertical_integral_of_divergence_of_geopotential_flux', 'vertical_integral_of_divergence_of_kinetic_energy_flux',\n",
    "            'vertical_integral_of_divergence_of_mass_flux', 'vertical_integral_of_divergence_of_moisture_flux', 'vertical_integral_of_divergence_of_ozone_flux',\n",
    "            'vertical_integral_of_divergence_of_thermal_energy_flux', 'vertical_integral_of_divergence_of_total_energy_flux', 'vertical_integral_of_eastward_cloud_frozen_water_flux',\n",
    "            'vertical_integral_of_eastward_cloud_liquid_water_flux', 'vertical_integral_of_eastward_geopotential_flux', 'vertical_integral_of_eastward_heat_flux',\n",
    "            'vertical_integral_of_eastward_kinetic_energy_flux', 'vertical_integral_of_eastward_mass_flux', 'vertical_integral_of_eastward_ozone_flux',\n",
    "            'vertical_integral_of_eastward_total_energy_flux', 'vertical_integral_of_eastward_water_vapour_flux', 'vertical_integral_of_energy_conversion',\n",
    "            'vertical_integral_of_kinetic_energy', 'vertical_integral_of_mass_of_atmosphere', 'vertical_integral_of_mass_tendency',\n",
    "            'vertical_integral_of_northward_cloud_frozen_water_flux', 'vertical_integral_of_northward_cloud_liquid_water_flux', 'vertical_integral_of_northward_geopotential_flux',\n",
    "            'vertical_integral_of_northward_heat_flux', 'vertical_integral_of_northward_kinetic_energy_flux', 'vertical_integral_of_northward_mass_flux',\n",
    "            'vertical_integral_of_northward_ozone_flux', 'vertical_integral_of_northward_total_energy_flux', 'vertical_integral_of_northward_water_vapour_flux',\n",
    "            'vertical_integral_of_potential_and_internal_energy', 'vertical_integral_of_potential_internal_and_latent_energy', 'vertical_integral_of_temperature',\n",
    "            'vertical_integral_of_thermal_energy', 'vertical_integral_of_total_energy', 'vertically_integrated_moisture_divergence',\n",
    "            'volumetric_soil_water_layer_1', 'volumetric_soil_water_layer_2', 'volumetric_soil_water_layer_3',\n",
    "            'volumetric_soil_water_layer_4', 'wave_spectral_directional_width', 'wave_spectral_directional_width_for_swell',\n",
    "            'wave_spectral_directional_width_for_wind_waves', 'wave_spectral_kurtosis', 'wave_spectral_peakedness',\n",
    "            'wave_spectral_skewness', 'zero_degree_level',\n",
    "        ]"
   ]
  },
  {
   "cell_type": "code",
   "execution_count": null,
   "metadata": {},
   "outputs": [],
   "source": [
    "import matplotlib.pyplot as plt\n",
    "plt.rcParams['figure.figsize'] = [15, 10]\n",
    "\n",
    "plt.rcParams.update({'font.size': 15})"
   ]
  },
  {
   "cell_type": "markdown",
   "metadata": {},
   "source": [
    "# GET CLIMATE DATA"
   ]
  },
  {
   "cell_type": "code",
   "execution_count": 148,
   "metadata": {},
   "outputs": [],
   "source": [
    "def get_var(var):\n",
    "    #var = variables_list[index]\n",
    "    print(f\"retrieving {var}\")\n",
    "    ds_grib = xr.open_dataset('../ClimateReanalysis/ERA5_reanalysis_monthly/ERA5_reanalysis_monthly_'+var+'.grib', engine=\"cfgrib\")\n",
    "    cariaco_grib = ds_grib.sel(latitude=10.5, longitude=-64.66, method=\"nearest\")\n",
    "    #car_df = cariaco_grib.to_dataframe()\n",
    "    cariaco_grib.attrs = {}\n",
    "    cariaco_grib_renamed = cariaco_grib.rename({str(tuple(cariaco_grib.data_vars)[0]):var})\n",
    "    return cariaco_grib_renamed.drop_vars(\"step\")"
   ]
  },
  {
   "cell_type": "code",
   "execution_count": 129,
   "metadata": {},
   "outputs": [
    {
     "ename": "TypeError",
     "evalue": "get_var() missing 1 required positional argument: 'var'",
     "output_type": "error",
     "traceback": [
      "\u001b[0;31m---------------------------------------------------------------------------\u001b[0m",
      "\u001b[0;31mTypeError\u001b[0m                                 Traceback (most recent call last)",
      "\u001b[0;32m<ipython-input-129-6b0ebf190ce8>\u001b[0m in \u001b[0;36m<module>\u001b[0;34m\u001b[0m\n\u001b[0;32m----> 1\u001b[0;31m \u001b[0mget_var\u001b[0m\u001b[0;34m(\u001b[0m\u001b[0;34m)\u001b[0m\u001b[0;34m\u001b[0m\u001b[0;34m\u001b[0m\u001b[0m\n\u001b[0m",
      "\u001b[0;31mTypeError\u001b[0m: get_var() missing 1 required positional argument: 'var'"
     ]
    }
   ],
   "source": [
    "get_var()"
   ]
  },
  {
   "cell_type": "code",
   "execution_count": 110,
   "metadata": {},
   "outputs": [
    {
     "name": "stdout",
     "output_type": "stream",
     "text": [
      "retrieving 10m_v_component_of_neutral_wind\n",
      "retrieving lake_mix_layer_depth\n"
     ]
    },
    {
     "data": {
      "text/plain": [
       "'lmld'"
      ]
     },
     "execution_count": 110,
     "metadata": {},
     "output_type": "execute_result"
    }
   ],
   "source": [
    "type(get_var(analysis_variables_list[1]))\n",
    "halo = get_var(analysis_variables_list[13])\n",
    "\n",
    "#halo.rename({\"lmld\":\"hello\"})\n",
    "tuple(halo.data_vars)[0]"
   ]
  },
  {
   "cell_type": "code",
   "execution_count": 149,
   "metadata": {},
   "outputs": [
    {
     "name": "stdout",
     "output_type": "stream",
     "text": [
      "retrieving 10m_u_component_of_wind\n",
      "retrieving 10m_v_component_of_neutral_wind\n",
      "retrieving 10m_v_component_of_wind\n",
      "retrieving 10m_wind_speed\n",
      "retrieving 2m_temperature\n",
      "retrieving benjamin_feir_index\n",
      "retrieving clear_sky_direct_solar_radiation_at_surface\n",
      "retrieving coefficient_of_drag_with_waves\n",
      "retrieving evaporation\n",
      "retrieving instantaneous_10m_wind_gust\n",
      "retrieving instantaneous_eastward_turbulent_surface_stress\n",
      "retrieving instantaneous_large_scale_surface_precipitation_fraction\n",
      "retrieving instantaneous_northward_turbulent_surface_stress\n",
      "retrieving lake_mix_layer_depth\n",
      "retrieving lake_mix_layer_temperature\n",
      "retrieving mean_evaporation_rate\n",
      "retrieving large_scale_precipitation\n",
      "retrieving mean_runoff_rate\n",
      "retrieving mean_total_precipitation_rate\n",
      "retrieving mean_wave_period\n",
      "retrieving medium_cloud_cover\n",
      "retrieving northward_turbulent_surface_stress\n",
      "retrieving runoff\n",
      "retrieving sea_surface_temperature\n",
      "retrieving sub_surface_runoff\n",
      "retrieving surface_pressure\n",
      "retrieving surface_runoff\n",
      "retrieving surface_sensible_heat_flux\n",
      "retrieving total_precipitation\n",
      "retrieving v_component_stokes_drift\n"
     ]
    }
   ],
   "source": [
    "wind_dat_list = [get_var(var) for var in analysis_variables_list]"
   ]
  },
  {
   "cell_type": "code",
   "execution_count": 152,
   "metadata": {},
   "outputs": [],
   "source": [
    "combined_wind = xr.combine_by_coords(wind_dat_list, compat='override')"
   ]
  },
  {
   "cell_type": "code",
   "execution_count": 156,
   "metadata": {},
   "outputs": [],
   "source": [
    "combined_wind.to_array().to_pandas().to_csv(\"ERA5_combined_wind.csv\")"
   ]
  },
  {
   "cell_type": "markdown",
   "metadata": {},
   "source": [
    "# Start Plotting All Data, with smoothing curve and statistics!\n",
    "- both for annual, and full time series\n",
    "- plot full wind_data\n",
    "- choose the most interesting and create presentation for Ago & Esteban"
   ]
  },
  {
   "cell_type": "code",
   "execution_count": null,
   "metadata": {},
   "outputs": [],
   "source": [
    "def plt_envvar_seasonal(var_data):\n",
    "    \n",
    "    #plt.scatter(var_data.index.month, var_data.iloc[:,-1:], c=var_data.index.year)\n",
    "\n",
    "    plt.title(var_data.name + ' - seasonal', fontsize=30)\n",
    "    \n",
    "    month_group_list = [var_data.iloc[:,-1:].groupby(var_data.index.month).agg(list).values[i][0] for i in range(12)]\n",
    "    plt.boxplot(month_group_list, showmeans=True)\n",
    "    \n",
    "    group_mean = var_data.iloc[:,-1:].groupby(var_data.index.month).mean()\n",
    "    plt.plot(group_mean.index, group_mean.iloc[:,-1:], label='mean')\n",
    "    group_median = var_data.iloc[:,-1:].groupby(var_data.index.month).median()\n",
    "    plt.plot(group_median.index, group_median.iloc[:,-1:], label='median')\n",
    "    \n",
    "    plt.legend()\n",
    "    #plt.colorbar()\n",
    "    if np.mean(var_data.iloc[:,-1:]).values > 0:\n",
    "        plt.ylim(bottom=0)\n",
    "    else:\n",
    "        plt.ylim(top=0)\n",
    "    plt.show()"
   ]
  },
  {
   "cell_type": "code",
   "execution_count": null,
   "metadata": {},
   "outputs": [],
   "source": [
    "from datetime import timedelta\n",
    "delta = timedelta(days=365/2)"
   ]
  },
  {
   "cell_type": "code",
   "execution_count": null,
   "metadata": {},
   "outputs": [],
   "source": [
    "wind_dat_list[2].resample('Y').last().index - delta"
   ]
  },
  {
   "cell_type": "code",
   "execution_count": null,
   "metadata": {},
   "outputs": [],
   "source": [
    "#mdates.date2num(wind_dat_list[2].index)\n",
    "#wind_dat_list[2].iloc[:,-1:].values.flatten()"
   ]
  },
  {
   "cell_type": "code",
   "execution_count": null,
   "metadata": {},
   "outputs": [],
   "source": [
    "import matplotlib.dates as mdates\n",
    "\n",
    "fit = np.polyfit(mdates.date2num(wind_dat_list[2].index), wind_dat_list[2].iloc[:,-1:].values.flatten(), 1)\n",
    "fit_fn = np.poly1d(fit)\n",
    "\n",
    "plt.plot(wind_dat_list[2].index, fit_fn(mdates.date2num(wind_dat_list[2].index)))"
   ]
  },
  {
   "cell_type": "code",
   "execution_count": null,
   "metadata": {},
   "outputs": [],
   "source": [
    "from datetime import timedelta\n",
    "delta = timedelta(days=365/2)\n",
    "\n",
    "import matplotlib.dates as mdates\n",
    "\n",
    "\n",
    "\n",
    "def plt_envvar_timeseries(var_data):\n",
    "    \n",
    "    # plot yearly mean\n",
    "    yearly_mean = var_data.groupby(var_data.index.year).mean()\n",
    "    plt.scatter(var_data.resample('Y').first().index-delta, yearly_mean.iloc[:,-1:], c='red', label='yearly mean')\n",
    "    # plot yearly median\n",
    "    yearly_mean = var_data.groupby(var_data.index.year).median()\n",
    "    plt.scatter(var_data.resample('Y').first().index-delta, yearly_mean.iloc[:,-1:], c='blue', label='yearly median')\n",
    "\n",
    "    # plot linear reg\n",
    "    fit = np.polyfit(mdates.date2num(var_data.index), var_data.iloc[:,-1:].values.flatten(), 1)\n",
    "    fit_fn = np.poly1d(fit)\n",
    "    \n",
    "    plt.plot(var_data.index, fit_fn(mdates.date2num(var_data.index)), label='linear reg')\n",
    "    \n",
    "    #plot time series\n",
    "    plt.plot(var_data.index, var_data.iloc[:,-1:], c='black')\n",
    "    \n",
    "    plt.title(var_data.name + ' - timeseries', fontsize=30)\n",
    "    \n",
    "    plt.legend()\n",
    "    #plt.colorbar()\n",
    "    if np.mean(var_data.iloc[:,-1:]).values > 0:\n",
    "        plt.ylim(bottom=0)\n",
    "    else:\n",
    "        plt.ylim(top=0)\n",
    "    plt.show()"
   ]
  },
  {
   "cell_type": "code",
   "execution_count": null,
   "metadata": {},
   "outputs": [],
   "source": [
    "plt_envvar_timeseries(wind_dat_list[2])"
   ]
  },
  {
   "cell_type": "code",
   "execution_count": null,
   "metadata": {},
   "outputs": [],
   "source": [
    "for data in wind_dat_list:\n",
    "    plt_envvar_timeseries(data)\n",
    "    plt_envvar_seasonal(data)"
   ]
  },
  {
   "cell_type": "markdown",
   "metadata": {},
   "source": [
    "# GET In-Situ DATA\n",
    "\n",
    "so what do I want to plot?\n",
    "\n",
    "MLD vs Climate vars\n",
    "21° Isocline vs Climate vars\n",
    "Chlorophyll vs Climate vars"
   ]
  },
  {
   "cell_type": "markdown",
   "metadata": {},
   "source": [
    "# SO FIRST:\n",
    "1. get MLD\n",
    "2. get 21° Isocline\n",
    "3. get Chlorophyll"
   ]
  },
  {
   "cell_type": "code",
   "execution_count": null,
   "metadata": {},
   "outputs": [],
   "source": [
    "xr.read_"
   ]
  },
  {
   "cell_type": "code",
   "execution_count": null,
   "metadata": {},
   "outputs": [],
   "source": []
  },
  {
   "cell_type": "code",
   "execution_count": null,
   "metadata": {},
   "outputs": [],
   "source": [
    "MLD2EuZ = pd.read_csv(\"MLD2EuZ_2.csv\")"
   ]
  },
  {
   "cell_type": "code",
   "execution_count": null,
   "metadata": {},
   "outputs": [],
   "source": [
    "MLD2EuZ.Date = pd.to_datetime(MLD2EuZ.Date)"
   ]
  },
  {
   "cell_type": "code",
   "execution_count": null,
   "metadata": {},
   "outputs": [],
   "source": [
    "MLD2EuZ"
   ]
  },
  {
   "cell_type": "code",
   "execution_count": null,
   "metadata": {},
   "outputs": [],
   "source": [
    "MLDdat = MLD2EuZ.to_xarray()"
   ]
  },
  {
   "cell_type": "code",
   "execution_count": null,
   "metadata": {},
   "outputs": [],
   "source": [
    "plt.scatter(MLDdat.Date.dt.month, MLDdat.X21degC)\n",
    "plt.ylim(bottom=0)\n",
    "plt.title(\"21° isocline - seasonally\")\n",
    "plt.ylabel(\"Depth [m]\")\n",
    "plt.xlabel(\"Month\")"
   ]
  },
  {
   "cell_type": "code",
   "execution_count": null,
   "metadata": {},
   "outputs": [],
   "source": [
    "plt.scatter(MLDdat.Date.dt.month, MLDdat.MLD2019)\n",
    "plt.ylim(bottom=0)\n",
    "plt.title(\"MLD - seasonally\")\n",
    "plt.ylabel(\"Depth [m]\")\n",
    "plt.xlabel(\"Month\")"
   ]
  },
  {
   "cell_type": "code",
   "execution_count": null,
   "metadata": {},
   "outputs": [],
   "source": [
    "MLDdat.assign_coords(month=MLDdat.Date.dt.month)"
   ]
  },
  {
   "cell_type": "code",
   "execution_count": null,
   "metadata": {},
   "outputs": [],
   "source": [
    "#type(MLD2EuZ.to_xarray()),type(m10_wind_speed)\n",
    "merged = xr.merge([MLD2EuZ.to_xarray(), m10_wind_speed])"
   ]
  },
  {
   "cell_type": "code",
   "execution_count": null,
   "metadata": {},
   "outputs": [],
   "source": [
    "merged.Date, merged.time"
   ]
  },
  {
   "cell_type": "code",
   "execution_count": null,
   "metadata": {},
   "outputs": [],
   "source": [
    "MLDdat"
   ]
  },
  {
   "cell_type": "code",
   "execution_count": null,
   "metadata": {},
   "outputs": [],
   "source": [
    "#MLDdat.resample(Date='M')"
   ]
  },
  {
   "cell_type": "code",
   "execution_count": null,
   "metadata": {},
   "outputs": [],
   "source": [
    "#xr.merge([MLDdat, m10_wind_speed], compat='no_conflicts')"
   ]
  },
  {
   "cell_type": "code",
   "execution_count": null,
   "metadata": {},
   "outputs": [],
   "source": [
    "plt.plot(MLD2EuZ.Date, MLD2EuZ.X21degC, label='21°')\n",
    "\n",
    "plt.plot(m10_wind_speed.time.values, m10_wind_speed.si10*10, label='10m wind speed')\n",
    "plt.xlim(727693.65, 738333.35)\n",
    "plt.legend()\n",
    "\n",
    "plt.title(\"21° Isocline vs 10m wind speed\")"
   ]
  },
  {
   "cell_type": "code",
   "execution_count": null,
   "metadata": {},
   "outputs": [],
   "source": [
    "# Nutrient Gradient -> Entrainment Flux, nutrient input over time\n",
    "# upwelling velocity from wind curl\n",
    "# proxy for upwelling from 21° isotherm"
   ]
  },
  {
   "cell_type": "code",
   "execution_count": null,
   "metadata": {},
   "outputs": [],
   "source": [
    "INT_Chlorophyll = pd.read_csv(\"PINTDF_integratedChlorophyll.csv\")"
   ]
  },
  {
   "cell_type": "code",
   "execution_count": null,
   "metadata": {},
   "outputs": [],
   "source": [
    "INT_Chlorophyll.Date = pd.to_datetime(INT_Chlorophyll.Date)"
   ]
  },
  {
   "cell_type": "code",
   "execution_count": null,
   "metadata": {},
   "outputs": [],
   "source": [
    "TotalChlaDat = INT_Chlorophyll[INT_Chlorophyll.spec=='Tchla']"
   ]
  },
  {
   "cell_type": "code",
   "execution_count": null,
   "metadata": {},
   "outputs": [],
   "source": [
    "plt.plot(TotalChlaDat.Date, TotalChlaDat.val)"
   ]
  },
  {
   "cell_type": "code",
   "execution_count": null,
   "metadata": {},
   "outputs": [],
   "source": []
  },
  {
   "cell_type": "code",
   "execution_count": null,
   "metadata": {},
   "outputs": [],
   "source": [
    "xr.open_dataset('../VeryNEWESTCariacoData/niskin.netcdf')"
   ]
  },
  {
   "cell_type": "code",
   "execution_count": null,
   "metadata": {},
   "outputs": [],
   "source": []
  },
  {
   "cell_type": "code",
   "execution_count": null,
   "metadata": {},
   "outputs": [],
   "source": []
  },
  {
   "cell_type": "code",
   "execution_count": null,
   "metadata": {},
   "outputs": [],
   "source": [
    "import xarray as xr\n",
    "import pandas as pd\n",
    "import numpy as np"
   ]
  },
  {
   "cell_type": "code",
   "execution_count": null,
   "metadata": {},
   "outputs": [],
   "source": [
    "phyto = xr.open_dataset('../VeryNEWESTCariacoData/phytoplankton_dtypes.netcdf')"
   ]
  },
  {
   "cell_type": "code",
   "execution_count": null,
   "metadata": {},
   "outputs": [],
   "source": [
    "phyto"
   ]
  },
  {
   "cell_type": "code",
   "execution_count": null,
   "metadata": {},
   "outputs": [],
   "source": []
  }
 ],
 "metadata": {
  "kernelspec": {
   "display_name": "Python 3",
   "language": "python",
   "name": "python3"
  },
  "language_info": {
   "codemirror_mode": {
    "name": "ipython",
    "version": 3
   },
   "file_extension": ".py",
   "mimetype": "text/x-python",
   "name": "python",
   "nbconvert_exporter": "python",
   "pygments_lexer": "ipython3",
   "version": "3.9.7"
  }
 },
 "nbformat": 4,
 "nbformat_minor": 4
}
