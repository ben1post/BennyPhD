{
 "cells": [
  {
   "cell_type": "markdown",
   "metadata": {},
   "source": [
    "# Read Phytoplankton.ncdf \n",
    "\n",
    "this R notebook reads (and cleans up) the Phytoplankton ncdf file that is provided on  \n",
    "  \n",
    "https://www.bco-dmo.org/dataset/3095\n",
    "\n",
    "This .ncdf file is a collection of monthly Phytoplankton Samplings at CARIACO Ocean Time Series Station."
   ]
  },
  {
   "cell_type": "code",
   "execution_count": 1,
   "metadata": {},
   "outputs": [
    {
     "name": "stderr",
     "output_type": "stream",
     "text": [
      "Loading required package: ncdf4\n"
     ]
    }
   ],
   "source": [
    "#install.packages(\"ncdf4\")\n",
    "require(ncdf4, warn.conflicts = FALSE);"
   ]
  },
  {
   "cell_type": "code",
   "execution_count": 6,
   "metadata": {},
   "outputs": [
    {
     "name": "stdout",
     "output_type": "stream",
     "text": [
      "File DATA_raw/Phytoplankton.netcdf (NC_FORMAT_CLASSIC):\n",
      "\n",
      "     10 variables (excluding dimension variables):\n",
      "        char Cruise_ID[maxlen_,unlimited]   \n",
      "        double lon[unlimited]   \n",
      "        double lat[unlimited]   \n",
      "        double Date[unlimited]   \n",
      "        double Year[unlimited]   \n",
      "        double Mon[unlimited]   \n",
      "        char taxon_group[maxlen_,unlimited]   \n",
      "        char taxon[maxlen_,unlimited]   \n",
      "        char depth[maxlen_,unlimited]   \n",
      "        double abundance[unlimited]   \n",
      "\n",
      "     2 dimensions:\n",
      "        unlimited  Size:642834   *** is unlimited ***\n",
      "        maxlen_  Size:513\n"
     ]
    }
   ],
   "source": [
    "# read data from ncdf and plot\n",
    "filename <- \"DATA_raw/Phytoplankton.netcdf\"\n",
    "# large file not on github, link to data: 'https://www.bco-dmo.org/dataset/3095'\n",
    "\n",
    "phydat<-nc_open(filename)\n",
    "\n",
    "print(phydat)\n",
    "\n",
    "CruiseID <- ncvar_get(phydat, 'Cruise_ID')\n",
    "lon<-ncvar_get(phydat, 'lon')\n",
    "lat<-ncvar_get(phydat, 'lat')\n",
    "dateRaw <-ncvar_get(phydat, 'Date')\n",
    "taxon <- ncvar_get(phydat, 'taxon')\n",
    "group <- ncvar_get(phydat, 'taxon_group')\n",
    "depth <- ncvar_get(phydat, 'depth')\n",
    "abundance <- ncvar_get(phydat,'abundance')\n",
    "month <- ncvar_get(phydat,'Mon')\n",
    "year <- ncvar_get(phydat, 'Year')\n",
    "\n",
    "nc_close(phydat)"
   ]
  },
  {
   "cell_type": "code",
   "execution_count": 7,
   "metadata": {},
   "outputs": [],
   "source": [
    "date <- as.POSIXlt(as.character(dateRaw), format = \"%Y%m%d\", tz=\"GMT\")\n",
    "\n",
    "# prepare final data set\n",
    "phyto <- data.frame(CruiseID,lon,lat,date,month,year,depth,taxon,group,abundance)"
   ]
  },
  {
   "cell_type": "code",
   "execution_count": 8,
   "metadata": {},
   "outputs": [],
   "source": [
    "# Write CSV in R\n",
    "write.csv(phyto, file = \"DATA_processed/Phytoplankton.csv\")"
   ]
  }
 ],
 "metadata": {
  "kernelspec": {
   "display_name": "R",
   "language": "R",
   "name": "ir"
  },
  "language_info": {
   "codemirror_mode": "r",
   "file_extension": ".r",
   "mimetype": "text/x-r-source",
   "name": "R",
   "pygments_lexer": "r",
   "version": "3.6.1"
  }
 },
 "nbformat": 4,
 "nbformat_minor": 4
}
