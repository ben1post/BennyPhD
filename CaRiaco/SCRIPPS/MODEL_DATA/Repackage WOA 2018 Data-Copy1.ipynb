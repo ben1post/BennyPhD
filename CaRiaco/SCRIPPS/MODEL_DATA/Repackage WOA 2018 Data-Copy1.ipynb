{
 "cells": [
  {
   "cell_type": "markdown",
   "metadata": {},
   "source": [
    "# create repackaged WOA DATA for each Dataset"
   ]
  },
  {
   "cell_type": "code",
   "execution_count": 1,
   "metadata": {},
   "outputs": [],
   "source": [
    "import numpy as np\n",
    "import pandas as pd\n",
    "import xarray as xr\n",
    "import glob"
   ]
  },
  {
   "cell_type": "code",
   "execution_count": 2,
   "metadata": {},
   "outputs": [
    {
     "name": "stderr",
     "output_type": "stream",
     "text": [
      "/Users/bpo/anaconda/anaconda3/lib/python3.7/site-packages/xarray/coding/times.py:465: SerializationWarning: Unable to decode time axis into full numpy.datetime64 objects, continuing using cftime.datetime objects instead, reason: dates out of range\n",
      "  dtype = _decode_cf_datetime_dtype(data, units, calendar, self.use_cftime)\n",
      "/Users/bpo/anaconda/anaconda3/lib/python3.7/site-packages/numpy/core/_asarray.py:85: SerializationWarning: Unable to decode time axis into full numpy.datetime64 objects, continuing using cftime.datetime objects instead, reason: dates out of range\n",
      "  return array(a, dtype, copy=False, order=order)\n"
     ]
    }
   ],
   "source": [
    "mld1 = xr.open_dataset('MLDClimatology_DeBoyerMontagut/mld_DT02_c1m_reg2.0.nc')"
   ]
  },
  {
   "cell_type": "code",
   "execution_count": 67,
   "metadata": {},
   "outputs": [
    {
     "data": {
      "text/plain": [
       "Frozen(OrderedDict([('krig_std_dev', <xarray.Variable (time: 12, lat: 90, lon: 180)>\n",
       "[194400 values with dtype=float32]\n",
       "Attributes:\n",
       "    units:       meters\n",
       "    long_name:   statistical std deviation linked to kriging of mld\n",
       "    min_value:   0.0\n",
       "    max_value:   213.17142\n",
       "    mask_value:  1000000000.0), ('lat', <xarray.IndexVariable 'lat' (lat: 90)>\n",
       "array([-88. , -86. , -84. , -82. , -80. , -78. , -76. , -74. , -72. , -70. ,\n",
       "       -68. , -66. , -64. , -62. , -60. , -58. , -56. , -54. , -52. , -50. ,\n",
       "       -48. , -46. , -44. , -42. , -40. , -38. , -36. , -34. , -32. , -30. ,\n",
       "       -28. , -26. , -24. , -22. , -20. , -18. , -16. , -14. , -12. , -10. ,\n",
       "        -8. ,  -6. ,  -4. ,  -2. ,   0. ,   2. ,   4. ,   6. ,   8. ,  10. ,\n",
       "        12. ,  14. ,  16. ,  18. ,  20. ,  22. ,  24. ,  26. ,  28. ,  30. ,\n",
       "        32. ,  34. ,  36. ,  38. ,  40. ,  42. ,  44. ,  46. ,  48. ,  50. ,\n",
       "        52. ,  54. ,  56. ,  58. ,  60. ,  62. ,  64. ,  66. ,  68. ,  70. ,\n",
       "        72. ,  74. ,  76. ,  78. ,  80. ,  82. ,  84. ,  86. ,  88. ,  89.5],\n",
       "      dtype=float32)\n",
       "Attributes:\n",
       "    units:      degrees_N\n",
       "    long_name:  center mesh latitude\n",
       "    min_value:  -88.0\n",
       "    max_value:  89.5), ('lon', <xarray.IndexVariable 'lon' (lon: 180)>\n",
       "array([  0.,   2.,   4.,   6.,   8.,  10.,  12.,  14.,  16.,  18.,  20.,  22.,\n",
       "        24.,  26.,  28.,  30.,  32.,  34.,  36.,  38.,  40.,  42.,  44.,  46.,\n",
       "        48.,  50.,  52.,  54.,  56.,  58.,  60.,  62.,  64.,  66.,  68.,  70.,\n",
       "        72.,  74.,  76.,  78.,  80.,  82.,  84.,  86.,  88.,  90.,  92.,  94.,\n",
       "        96.,  98., 100., 102., 104., 106., 108., 110., 112., 114., 116., 118.,\n",
       "       120., 122., 124., 126., 128., 130., 132., 134., 136., 138., 140., 142.,\n",
       "       144., 146., 148., 150., 152., 154., 156., 158., 160., 162., 164., 166.,\n",
       "       168., 170., 172., 174., 176., 178., 180., 182., 184., 186., 188., 190.,\n",
       "       192., 194., 196., 198., 200., 202., 204., 206., 208., 210., 212., 214.,\n",
       "       216., 218., 220., 222., 224., 226., 228., 230., 232., 234., 236., 238.,\n",
       "       240., 242., 244., 246., 248., 250., 252., 254., 256., 258., 260., 262.,\n",
       "       264., 266., 268., 270., 272., 274., 276., 278., 280., 282., 284., 286.,\n",
       "       288., 290., 292., 294., 296., 298., 300., 302., 304., 306., 308., 310.,\n",
       "       312., 314., 316., 318., 320., 322., 324., 326., 328., 330., 332., 334.,\n",
       "       336., 338., 340., 342., 344., 346., 348., 350., 352., 354., 356., 358.],\n",
       "      dtype=float32)\n",
       "Attributes:\n",
       "    units:      degrees_E\n",
       "    long_name:  center mesh longitude\n",
       "    min_value:  0.0\n",
       "    max_value:  358.0), ('mask', <xarray.Variable (lat: 90, lon: 180)>\n",
       "array([[0., 0., 0., ..., 0., 0., 0.],\n",
       "       [0., 0., 0., ..., 0., 0., 0.],\n",
       "       [0., 0., 0., ..., 0., 0., 0.],\n",
       "       ...,\n",
       "       [1., 1., 1., ..., 1., 1., 1.],\n",
       "       [1., 1., 1., ..., 1., 1., 1.],\n",
       "       [1., 1., 1., ..., 1., 1., 1.]], dtype=float32)\n",
       "Attributes:\n",
       "    units:      n/a\n",
       "    long_name:  land-sea mask (1 on ocean, 0 on land)), ('med_dev', <xarray.Variable (time: 12, lat: 90, lon: 180)>\n",
       "[194400 values with dtype=float32]\n",
       "Attributes:\n",
       "    units:       meters\n",
       "    long_name:   median absolute deviation of mld_raw\n",
       "    min_value:   0.0\n",
       "    max_value:   752.0106\n",
       "    mask_value:  1000000000.0), ('mld', <xarray.Variable (time: 12, lat: 90, lon: 180)>\n",
       "[194400 values with dtype=float32]\n",
       "Attributes:\n",
       "    units:       meters\n",
       "    long_name:   mixed layer depth (estimated by kriging of mld_smth)\n",
       "    min_value:   10.267677\n",
       "    max_value:   772.3705\n",
       "    mask_value:  1000000000.0), ('mld_raw', <xarray.Variable (time: 12, lat: 90, lon: 180)>\n",
       "[194400 values with dtype=float32]\n",
       "Attributes:\n",
       "    units:       meters\n",
       "    long_name:   mixed layer depth (estimated with median in each gridbox)\n",
       "    min_value:   10.05\n",
       "    max_value:   1300.2\n",
       "    mask_value:  1000000000.0), ('mld_smth', <xarray.Variable (time: 12, lat: 90, lon: 180)>\n",
       "[194400 values with dtype=float32]\n",
       "Attributes:\n",
       "    units:       meters\n",
       "    long_name:   smooth of mld_raw weighted by neighboring n_profiles\n",
       "    min_value:   10.267677\n",
       "    max_value:   772.3705\n",
       "    mask_value:  1000000000.0), ('n_profiles', <xarray.Variable (time: 12, lat: 90, lon: 180)>\n",
       "[194400 values with dtype=float32]\n",
       "Attributes:\n",
       "    units:       n/a\n",
       "    long_name:   number of profiles in each grid box\n",
       "    min_value:   1.0\n",
       "    max_value:   7283.0\n",
       "    mask_value:  1000000000.0), ('time', <xarray.IndexVariable 'time' (time: 12)>\n",
       "array([cftime.DatetimeGregorian(1, 1, 15, 12, 0, 0, 0, 5, 15),\n",
       "       cftime.DatetimeGregorian(1, 2, 15, 12, 0, 0, 0, 1, 46),\n",
       "       cftime.DatetimeGregorian(1, 3, 15, 12, 0, 0, 0, 1, 74),\n",
       "       cftime.DatetimeGregorian(1, 4, 15, 12, 0, 0, 0, 4, 105),\n",
       "       cftime.DatetimeGregorian(1, 5, 15, 12, 0, 0, 0, 6, 135),\n",
       "       cftime.DatetimeGregorian(1, 6, 15, 12, 0, 0, 0, 2, 166),\n",
       "       cftime.DatetimeGregorian(1, 7, 15, 12, 0, 0, 0, 4, 196),\n",
       "       cftime.DatetimeGregorian(1, 8, 15, 12, 0, 0, 0, 0, 227),\n",
       "       cftime.DatetimeGregorian(1, 9, 15, 12, 0, 0, 0, 3, 258),\n",
       "       cftime.DatetimeGregorian(1, 10, 15, 12, 0, 0, 0, 5, 288),\n",
       "       cftime.DatetimeGregorian(1, 11, 15, 12, 0, 0, 0, 1, 319),\n",
       "       cftime.DatetimeGregorian(1, 12, 15, 12, 0, 0, 0, 3, 349)], dtype=object))]))"
      ]
     },
     "execution_count": 67,
     "metadata": {},
     "output_type": "execute_result"
    }
   ],
   "source": [
    "mld1.variables"
   ]
  },
  {
   "cell_type": "code",
   "execution_count": 65,
   "metadata": {},
   "outputs": [
    {
     "data": {
      "text/plain": [
       "Frozen(OrderedDict([('crs', <xarray.Variable ()>\n",
       "array(-2147483647, dtype=int32)\n",
       "Attributes:\n",
       "    grid_mapping_name:            latitude_longitude\n",
       "    epsg_code:                    EPSG:4326\n",
       "    longitude_of_prime_meridian:  0.0\n",
       "    semi_major_axis:              6378137.0\n",
       "    inverse_flattening:           298.25723), ('lat', <xarray.IndexVariable 'lat' (lat: 180)>\n",
       "array([-89.5, -88.5, -87.5, -86.5, -85.5, -84.5, -83.5, -82.5, -81.5, -80.5,\n",
       "       -79.5, -78.5, -77.5, -76.5, -75.5, -74.5, -73.5, -72.5, -71.5, -70.5,\n",
       "       -69.5, -68.5, -67.5, -66.5, -65.5, -64.5, -63.5, -62.5, -61.5, -60.5,\n",
       "       -59.5, -58.5, -57.5, -56.5, -55.5, -54.5, -53.5, -52.5, -51.5, -50.5,\n",
       "       -49.5, -48.5, -47.5, -46.5, -45.5, -44.5, -43.5, -42.5, -41.5, -40.5,\n",
       "       -39.5, -38.5, -37.5, -36.5, -35.5, -34.5, -33.5, -32.5, -31.5, -30.5,\n",
       "       -29.5, -28.5, -27.5, -26.5, -25.5, -24.5, -23.5, -22.5, -21.5, -20.5,\n",
       "       -19.5, -18.5, -17.5, -16.5, -15.5, -14.5, -13.5, -12.5, -11.5, -10.5,\n",
       "        -9.5,  -8.5,  -7.5,  -6.5,  -5.5,  -4.5,  -3.5,  -2.5,  -1.5,  -0.5,\n",
       "         0.5,   1.5,   2.5,   3.5,   4.5,   5.5,   6.5,   7.5,   8.5,   9.5,\n",
       "        10.5,  11.5,  12.5,  13.5,  14.5,  15.5,  16.5,  17.5,  18.5,  19.5,\n",
       "        20.5,  21.5,  22.5,  23.5,  24.5,  25.5,  26.5,  27.5,  28.5,  29.5,\n",
       "        30.5,  31.5,  32.5,  33.5,  34.5,  35.5,  36.5,  37.5,  38.5,  39.5,\n",
       "        40.5,  41.5,  42.5,  43.5,  44.5,  45.5,  46.5,  47.5,  48.5,  49.5,\n",
       "        50.5,  51.5,  52.5,  53.5,  54.5,  55.5,  56.5,  57.5,  58.5,  59.5,\n",
       "        60.5,  61.5,  62.5,  63.5,  64.5,  65.5,  66.5,  67.5,  68.5,  69.5,\n",
       "        70.5,  71.5,  72.5,  73.5,  74.5,  75.5,  76.5,  77.5,  78.5,  79.5,\n",
       "        80.5,  81.5,  82.5,  83.5,  84.5,  85.5,  86.5,  87.5,  88.5,  89.5],\n",
       "      dtype=float32)\n",
       "Attributes:\n",
       "    standard_name:  latitude\n",
       "    long_name:      latitude\n",
       "    units:          degrees_north\n",
       "    axis:           Y\n",
       "    bounds:         lat_bnds), ('lat_bnds', <xarray.Variable (lat: 180, nbounds: 2)>\n",
       "array([[-90., -89.],\n",
       "       [-89., -88.],\n",
       "       [-88., -87.],\n",
       "       ...,\n",
       "       [ 87.,  88.],\n",
       "       [ 88.,  89.],\n",
       "       [ 89.,  90.]], dtype=float32)\n",
       "Attributes:\n",
       "    comment:  latitude bounds), ('lon', <xarray.IndexVariable 'lon' (lon: 360)>\n",
       "array([-179.5, -178.5, -177.5, ...,  177.5,  178.5,  179.5], dtype=float32)\n",
       "Attributes:\n",
       "    standard_name:  longitude\n",
       "    long_name:      longitude\n",
       "    units:          degrees_east\n",
       "    axis:           X\n",
       "    bounds:         lon_bnds), ('lon_bnds', <xarray.Variable (lon: 360, nbounds: 2)>\n",
       "array([[-180., -179.],\n",
       "       [-179., -178.],\n",
       "       [-178., -177.],\n",
       "       ...,\n",
       "       [ 177.,  178.],\n",
       "       [ 178.,  179.],\n",
       "       [ 179.,  180.]], dtype=float32)\n",
       "Attributes:\n",
       "    comment:  longitude bounds), ('depth', <xarray.IndexVariable 'depth' (depth: 57)>\n",
       "array([   0.,    5.,   10.,   15.,   20.,   25.,   30.,   35.,   40.,   45.,\n",
       "         50.,   55.,   60.,   65.,   70.,   75.,   80.,   85.,   90.,   95.,\n",
       "        100.,  125.,  150.,  175.,  200.,  225.,  250.,  275.,  300.,  325.,\n",
       "        350.,  375.,  400.,  425.,  450.,  475.,  500.,  550.,  600.,  650.,\n",
       "        700.,  750.,  800.,  850.,  900.,  950., 1000., 1050., 1100., 1150.,\n",
       "       1200., 1250., 1300., 1350., 1400., 1450., 1500.], dtype=float32)\n",
       "Attributes:\n",
       "    standard_name:  depth\n",
       "    bounds:         depth_bnds\n",
       "    positive:       down\n",
       "    units:          meters\n",
       "    axis:           Z), ('depth_bnds', <xarray.Variable (depth: 57, nbounds: 2)>\n",
       "array([[   0. ,    2.5],\n",
       "       [   2.5,    7.5],\n",
       "       [   7.5,   12.5],\n",
       "       [  12.5,   17.5],\n",
       "       [  17.5,   22.5],\n",
       "       [  22.5,   27.5],\n",
       "       [  27.5,   32.5],\n",
       "       [  32.5,   37.5],\n",
       "       [  37.5,   42.5],\n",
       "       [  42.5,   47.5],\n",
       "       [  47.5,   52.5],\n",
       "       [  52.5,   57.5],\n",
       "       [  57.5,   62.5],\n",
       "       [  62.5,   67.5],\n",
       "       [  67.5,   72.5],\n",
       "       [  72.5,   77.5],\n",
       "       [  77.5,   82.5],\n",
       "       [  82.5,   87.5],\n",
       "       [  87.5,   92.5],\n",
       "       [  92.5,   97.5],\n",
       "       [  97.5,  112.5],\n",
       "       [ 112.5,  137.5],\n",
       "       [ 137.5,  162.5],\n",
       "       [ 162.5,  187.5],\n",
       "       [ 187.5,  212.5],\n",
       "       [ 212.5,  237.5],\n",
       "       [ 237.5,  262.5],\n",
       "       [ 262.5,  287.5],\n",
       "       [ 287.5,  312.5],\n",
       "       [ 312.5,  337.5],\n",
       "       [ 337.5,  362.5],\n",
       "       [ 362.5,  387.5],\n",
       "       [ 387.5,  412.5],\n",
       "       [ 412.5,  437.5],\n",
       "       [ 437.5,  462.5],\n",
       "       [ 462.5,  487.5],\n",
       "       [ 487.5,  525. ],\n",
       "       [ 525. ,  575. ],\n",
       "       [ 575. ,  625. ],\n",
       "       [ 625. ,  675. ],\n",
       "       [ 675. ,  725. ],\n",
       "       [ 725. ,  775. ],\n",
       "       [ 775. ,  825. ],\n",
       "       [ 825. ,  875. ],\n",
       "       [ 875. ,  925. ],\n",
       "       [ 925. ,  975. ],\n",
       "       [ 975. , 1025. ],\n",
       "       [1025. , 1075. ],\n",
       "       [1075. , 1125. ],\n",
       "       [1125. , 1175. ],\n",
       "       [1175. , 1225. ],\n",
       "       [1225. , 1275. ],\n",
       "       [1275. , 1325. ],\n",
       "       [1325. , 1375. ],\n",
       "       [1375. , 1425. ],\n",
       "       [1425. , 1475. ],\n",
       "       [1475. , 1500. ]], dtype=float32)\n",
       "Attributes:\n",
       "    comment:  depth bounds), ('time', <xarray.IndexVariable 'time' (time: 1)>\n",
       "array([372.5], dtype=float32)\n",
       "Attributes:\n",
       "    standard_name:  time\n",
       "    long_name:      time\n",
       "    units:          months since 1955-01-01 00:00:00\n",
       "    axis:           T\n",
       "    climatology:    climatology_bounds), ('climatology_bounds', <xarray.Variable (time: 1, nbounds: 2)>\n",
       "array([[  0., 404.]], dtype=float32)\n",
       "Attributes:\n",
       "    comment:  This variable defines the bounds of the climatological time per...), ('t_an', <xarray.Variable (time: 1, depth: 57, lat: 180, lon: 360)>\n",
       "[3693600 values with dtype=float32]\n",
       "Attributes:\n",
       "    standard_name:  sea_water_temperature\n",
       "    long_name:      Objectively analyzed mean fields for sea_water_temperatur...\n",
       "    cell_methods:   area: mean depth: mean time: mean within years time: mean...\n",
       "    grid_mapping:   crs\n",
       "    units:          degrees_celsius), ('t_mn', <xarray.Variable (time: 1, depth: 57, lat: 180, lon: 360)>\n",
       "[3693600 values with dtype=float32]\n",
       "Attributes:\n",
       "    standard_name:  sea_water_temperature\n",
       "    long_name:      Average of all unflagged interpolated values at each stan...\n",
       "    cell_methods:   area: mean depth: mean time: mean within years time: mean...\n",
       "    grid_mapping:   crs\n",
       "    units:          degrees_celsius), ('t_dd', <xarray.Variable (time: 1, depth: 57, lat: 180, lon: 360)>\n",
       "[3693600 values with dtype=float64]\n",
       "Attributes:\n",
       "    standard_name:  sea_water_temperature number_of_observations\n",
       "    long_name:      The number of observations of sea_water_temperature in ea...\n",
       "    cell_methods:   area: sum depth: point time: sum\n",
       "    grid_mapping:   crs\n",
       "    units:          1), ('t_sd', <xarray.Variable (time: 1, depth: 57, lat: 180, lon: 360)>\n",
       "[3693600 values with dtype=float32]\n",
       "Attributes:\n",
       "    long_name:     The standard deviation about the statistical mean of sea_w...\n",
       "    cell_methods:  area: mean depth: mean time: standard_deviation\n",
       "    grid_mapping:  crs\n",
       "    units:         degrees_celsius), ('t_se', <xarray.Variable (time: 1, depth: 57, lat: 180, lon: 360)>\n",
       "[3693600 values with dtype=float32]\n",
       "Attributes:\n",
       "    standard_name:  sea_water_temperature standard_error\n",
       "    long_name:      The standard error about the statistical mean of sea_wate...\n",
       "    cell_methods:   area: mean depth: mean time: mean\n",
       "    grid_mapping:   crs\n",
       "    units:          degrees_celsius), ('t_oa', <xarray.Variable (time: 1, depth: 57, lat: 180, lon: 360)>\n",
       "[3693600 values with dtype=float32]\n",
       "Attributes:\n",
       "    standard_name:  sea_water_temperature\n",
       "    long_name:      statistical mean value minus the objectively analyzed mea...\n",
       "    cell_methods:   area: mean depth: mean time: mean with years time: mean o...\n",
       "    grid_mapping:   crs\n",
       "    units:          degrees_celsius), ('t_ma', <xarray.Variable (time: 1, depth: 57, lat: 180, lon: 360)>\n",
       "[3693600 values with dtype=float32]\n",
       "Attributes:\n",
       "    standard_name:  sea_water_temperature\n",
       "    long_name:       The objectively analyzed value for the given time period...\n",
       "    cell_methods:   area: mean depth: mean time: mean within years time: mean...\n",
       "    grid_mapping:   crs\n",
       "    units:          degrees_celsius), ('t_gp', <xarray.Variable (time: 1, depth: 57, lat: 180, lon: 360)>\n",
       "[3693600 values with dtype=float64]\n",
       "Attributes:\n",
       "    long_name:     The number of grid-squares within the smallest radius of i...\n",
       "    cell_methods:  area: mean depth: mean time: mean within years time: mean ...\n",
       "    grid_mapping:  crs\n",
       "    units:         1)]))"
      ]
     },
     "execution_count": 65,
     "metadata": {},
     "output_type": "execute_result"
    }
   ],
   "source": [
    "WOAtest.variables"
   ]
  },
  {
   "cell_type": "code",
   "execution_count": 46,
   "metadata": {},
   "outputs": [
    {
     "data": {
      "text/plain": [
       "Frozen(SortedKeysDict({'depth': 57, 'lon': 360, 'lat': 180, 'time': 12, 'nbounds': 2}))"
      ]
     },
     "execution_count": 46,
     "metadata": {},
     "output_type": "execute_result"
    }
   ],
   "source": [
    "WOAtemp.dims"
   ]
  },
  {
   "cell_type": "code",
   "execution_count": 3,
   "metadata": {},
   "outputs": [],
   "source": [
    "TempNCDFfiles = glob.glob('WOA2018/Temperature/*.nc', recursive=True)\n",
    "WOAtemp = xr.open_mfdataset(TempNCDFfiles,combine='by_coords',decode_times=False)"
   ]
  },
  {
   "cell_type": "code",
   "execution_count": 134,
   "metadata": {},
   "outputs": [],
   "source": [
    "def MLD_at_latlon(lats=40,lons=-20, mlddata=mld1, justMLD=True):\n",
    "    \"\"\"This function returns MLD depth across the year at a specific location\"\"\"\n",
    "    #ToDO include check whether the spot is on land or water\n",
    "    #Make sure the lat lon usage across everything is coherent!\n",
    "    mld2 = mlddata.sel(lat=lats,lon=lons,method='nearest').to_dataframe()\n",
    "    mld2['time'] = mld2.index\n",
    "    mld2.index = range(1,13)\n",
    "    mld2.index.names = ['time']\n",
    "    if mld2['mask'].any()==0:\n",
    "        print('step1')\n",
    "        return pd.DataFrame()\n",
    "    elif justMLD==True:\n",
    "        return mld2[['mld']]#.reset_index()\n",
    "    else:\n",
    "        return mld2#.reset_index()"
   ]
  },
  {
   "cell_type": "code",
   "execution_count": 135,
   "metadata": {},
   "outputs": [
    {
     "name": "stdout",
     "output_type": "stream",
     "text": [
      "step1\n"
     ]
    },
    {
     "data": {
      "text/plain": [
       "True"
      ]
     },
     "execution_count": 135,
     "metadata": {},
     "output_type": "execute_result"
    }
   ],
   "source": [
    "a=MLD_at_latlon(20,10)\n",
    "a.empty"
   ]
  },
  {
   "cell_type": "code",
   "execution_count": 120,
   "metadata": {},
   "outputs": [],
   "source": [
    "def WOADatInLocation(lats=40,lons=-20, WOAtempdata=WOAtemp,var='t_an', justTempDepth=True):\n",
    "    \"\"\"This function returns the xarray of Temperature in a specific location\"\"\"\n",
    "    WOAtemp1 = WOAtempdata.sel(nbounds=0)\n",
    "    WOAtemp_df = WOAtemp1.sel(lat=lats,lon=lons, method='nearest').to_dataframe()\n",
    "    WOAtemp_df.index = pd.MultiIndex.from_arrays([WOAtemp_df.index.get_level_values(level='depth'), [i for j in range(0,57) for i in range(1,13)]])\n",
    "    WOAtemp_df.index.names = ['depth','time']\n",
    "    \n",
    "    if justTempDepth==True:\n",
    "        return WOAtemp_df[[var]]#.reset_index()\n",
    "    else:\n",
    "        return WOAtemp_df#.reset_index()"
   ]
  },
  {
   "cell_type": "code",
   "execution_count": 121,
   "metadata": {},
   "outputs": [
    {
     "data": {
      "text/html": [
       "<div>\n",
       "<style scoped>\n",
       "    .dataframe tbody tr th:only-of-type {\n",
       "        vertical-align: middle;\n",
       "    }\n",
       "\n",
       "    .dataframe tbody tr th {\n",
       "        vertical-align: top;\n",
       "    }\n",
       "\n",
       "    .dataframe thead th {\n",
       "        text-align: right;\n",
       "    }\n",
       "</style>\n",
       "<table border=\"1\" class=\"dataframe\">\n",
       "  <thead>\n",
       "    <tr style=\"text-align: right;\">\n",
       "      <th></th>\n",
       "      <th></th>\n",
       "      <th>t_an</th>\n",
       "    </tr>\n",
       "    <tr>\n",
       "      <th>depth</th>\n",
       "      <th>time</th>\n",
       "      <th></th>\n",
       "    </tr>\n",
       "  </thead>\n",
       "  <tbody>\n",
       "    <tr>\n",
       "      <th rowspan=\"5\" valign=\"top\">0.0</th>\n",
       "      <th>1</th>\n",
       "      <td>NaN</td>\n",
       "    </tr>\n",
       "    <tr>\n",
       "      <th>2</th>\n",
       "      <td>NaN</td>\n",
       "    </tr>\n",
       "    <tr>\n",
       "      <th>3</th>\n",
       "      <td>NaN</td>\n",
       "    </tr>\n",
       "    <tr>\n",
       "      <th>4</th>\n",
       "      <td>NaN</td>\n",
       "    </tr>\n",
       "    <tr>\n",
       "      <th>5</th>\n",
       "      <td>NaN</td>\n",
       "    </tr>\n",
       "    <tr>\n",
       "      <th>...</th>\n",
       "      <th>...</th>\n",
       "      <td>...</td>\n",
       "    </tr>\n",
       "    <tr>\n",
       "      <th rowspan=\"5\" valign=\"top\">1500.0</th>\n",
       "      <th>8</th>\n",
       "      <td>NaN</td>\n",
       "    </tr>\n",
       "    <tr>\n",
       "      <th>9</th>\n",
       "      <td>NaN</td>\n",
       "    </tr>\n",
       "    <tr>\n",
       "      <th>10</th>\n",
       "      <td>NaN</td>\n",
       "    </tr>\n",
       "    <tr>\n",
       "      <th>11</th>\n",
       "      <td>NaN</td>\n",
       "    </tr>\n",
       "    <tr>\n",
       "      <th>12</th>\n",
       "      <td>NaN</td>\n",
       "    </tr>\n",
       "  </tbody>\n",
       "</table>\n",
       "<p>684 rows × 1 columns</p>\n",
       "</div>"
      ],
      "text/plain": [
       "             t_an\n",
       "depth  time      \n",
       "0.0    1      NaN\n",
       "       2      NaN\n",
       "       3      NaN\n",
       "       4      NaN\n",
       "       5      NaN\n",
       "...           ...\n",
       "1500.0 8      NaN\n",
       "       9      NaN\n",
       "       10     NaN\n",
       "       11     NaN\n",
       "       12     NaN\n",
       "\n",
       "[684 rows x 1 columns]"
      ]
     },
     "execution_count": 121,
     "metadata": {},
     "output_type": "execute_result"
    }
   ],
   "source": [
    "WOADatInLocation(20,10)"
   ]
  },
  {
   "cell_type": "code",
   "execution_count": 122,
   "metadata": {},
   "outputs": [],
   "source": [
    "def interpolateWOAprofiles(WOAdat):\n",
    "    \"\"\"this function interpolates the WOA profiles to a resolution of 1 meter\"\"\"\n",
    "    WOAgrid = WOAdat.unstack(level=1)\n",
    "    WOAgrid1 = WOAgrid.reindex(range(0,1501))\n",
    "    return WOAgrid1.interpolate(method='linear')"
   ]
  },
  {
   "cell_type": "code",
   "execution_count": 123,
   "metadata": {},
   "outputs": [],
   "source": [
    "def MeanAboveMLD(WOAint, MLD):\n",
    "    \"\"\"this function filters all temperature measurements above a certain depth and takes the mean\"\"\"\n",
    "    WOAint_d1 = WOAint\n",
    "    WOAint_d1.columns = WOAint.columns.droplevel()\n",
    "    WOAx = WOAint_d1.reset_index()\n",
    "    out = []\n",
    "    for i in range(1,13):\n",
    "        out.append({'Month':i,'Temp':WOAx[WOAx['depth'] < MLD[MLD['time']==i]['mld'].values[0]][i].mean()})\n",
    "    return pd.DataFrame(out)"
   ]
  },
  {
   "cell_type": "code",
   "execution_count": 132,
   "metadata": {},
   "outputs": [],
   "source": [
    "def MeanAboveMLDatLoc(lats=40, lons=-20, month = 1, mlddat=mld1, WOAdat=WOAtemp, var='t_an'):\n",
    "    \n",
    "    MLD = MLD_at_latlon(lats,lons,mlddat).reset_index()\n",
    "    print('hi')\n",
    "    if MLD.empty == True:\n",
    "        print('yes')\n",
    "        return True\n",
    "    else:\n",
    "        WOA = WOADatInLocation(lats,lons,WOAdat,var)\n",
    "        WOA_int = interpolateWOAprofiles(WOA)\n",
    "        return MeanAboveMLD(WOA_int,MLD)"
   ]
  },
  {
   "cell_type": "code",
   "execution_count": 133,
   "metadata": {},
   "outputs": [
    {
     "name": "stdout",
     "output_type": "stream",
     "text": [
      "hi\n"
     ]
    },
    {
     "data": {
      "text/html": [
       "<div>\n",
       "<style scoped>\n",
       "    .dataframe tbody tr th:only-of-type {\n",
       "        vertical-align: middle;\n",
       "    }\n",
       "\n",
       "    .dataframe tbody tr th {\n",
       "        vertical-align: top;\n",
       "    }\n",
       "\n",
       "    .dataframe thead th {\n",
       "        text-align: right;\n",
       "    }\n",
       "</style>\n",
       "<table border=\"1\" class=\"dataframe\">\n",
       "  <thead>\n",
       "    <tr style=\"text-align: right;\">\n",
       "      <th></th>\n",
       "      <th>Month</th>\n",
       "      <th>Temp</th>\n",
       "    </tr>\n",
       "  </thead>\n",
       "  <tbody>\n",
       "    <tr>\n",
       "      <th>0</th>\n",
       "      <td>1</td>\n",
       "      <td>NaN</td>\n",
       "    </tr>\n",
       "    <tr>\n",
       "      <th>1</th>\n",
       "      <td>2</td>\n",
       "      <td>NaN</td>\n",
       "    </tr>\n",
       "    <tr>\n",
       "      <th>2</th>\n",
       "      <td>3</td>\n",
       "      <td>NaN</td>\n",
       "    </tr>\n",
       "    <tr>\n",
       "      <th>3</th>\n",
       "      <td>4</td>\n",
       "      <td>NaN</td>\n",
       "    </tr>\n",
       "    <tr>\n",
       "      <th>4</th>\n",
       "      <td>5</td>\n",
       "      <td>NaN</td>\n",
       "    </tr>\n",
       "    <tr>\n",
       "      <th>5</th>\n",
       "      <td>6</td>\n",
       "      <td>NaN</td>\n",
       "    </tr>\n",
       "    <tr>\n",
       "      <th>6</th>\n",
       "      <td>7</td>\n",
       "      <td>NaN</td>\n",
       "    </tr>\n",
       "    <tr>\n",
       "      <th>7</th>\n",
       "      <td>8</td>\n",
       "      <td>NaN</td>\n",
       "    </tr>\n",
       "    <tr>\n",
       "      <th>8</th>\n",
       "      <td>9</td>\n",
       "      <td>NaN</td>\n",
       "    </tr>\n",
       "    <tr>\n",
       "      <th>9</th>\n",
       "      <td>10</td>\n",
       "      <td>NaN</td>\n",
       "    </tr>\n",
       "    <tr>\n",
       "      <th>10</th>\n",
       "      <td>11</td>\n",
       "      <td>NaN</td>\n",
       "    </tr>\n",
       "    <tr>\n",
       "      <th>11</th>\n",
       "      <td>12</td>\n",
       "      <td>NaN</td>\n",
       "    </tr>\n",
       "  </tbody>\n",
       "</table>\n",
       "</div>"
      ],
      "text/plain": [
       "    Month  Temp\n",
       "0       1   NaN\n",
       "1       2   NaN\n",
       "2       3   NaN\n",
       "3       4   NaN\n",
       "4       5   NaN\n",
       "5       6   NaN\n",
       "6       7   NaN\n",
       "7       8   NaN\n",
       "8       9   NaN\n",
       "9      10   NaN\n",
       "10     11   NaN\n",
       "11     12   NaN"
      ]
     },
     "execution_count": 133,
     "metadata": {},
     "output_type": "execute_result"
    }
   ],
   "source": [
    "MeanAboveMLDatLoc(20,10,7)"
   ]
  },
  {
   "cell_type": "code",
   "execution_count": 10,
   "metadata": {},
   "outputs": [
    {
     "data": {
      "text/plain": [
       "array([ 0,  1,  2,  3,  4,  5,  6,  7,  8,  9, 10, 11])"
      ]
     },
     "execution_count": 10,
     "metadata": {},
     "output_type": "execute_result"
    }
   ],
   "source": [
    "np.arange(0,12,1)"
   ]
  },
  {
   "cell_type": "markdown",
   "metadata": {},
   "source": [
    "# START CREATING NCDF FILE"
   ]
  },
  {
   "cell_type": "code",
   "execution_count": 27,
   "metadata": {},
   "outputs": [],
   "source": [
    "from netCDF4 import Dataset"
   ]
  },
  {
   "cell_type": "code",
   "execution_count": 28,
   "metadata": {},
   "outputs": [],
   "source": [
    "rootgrp = Dataset('13_netcdf4.nc', 'w', format='NETCDF4')\n",
    "\n",
    "import time\n",
    "rootgrp.description = 'WOA 2018 Temperature averaged above MLD'\n",
    "rootgrp.history = \"Created \" + time.ctime(time.time())\n",
    "rootgrp.source = \"WOA2018 + DeBoyer Montague et al. 2004 MLD\"\n",
    "\n",
    "#nutgrp = rootgrp.createGroup(\"MLD_DeBoyer2004\")\n",
    "#tempgrp = rootgrp.createGroup(\"WOA2018\")\n",
    "#print(rootgrp.groups)"
   ]
  },
  {
   "cell_type": "code",
   "execution_count": 29,
   "metadata": {},
   "outputs": [],
   "source": [
    "lats = np.arange(-90,91,1)\n",
    "lons = np.arange(-180,180,1)\n",
    "times = np.arange(1,13,1)\n",
    "\n",
    "#[[i,j,k,MeanAboveMLDatLoc(i,j,k)] for k in time for i in lats[1:5] for j in lons[1:5]]"
   ]
  },
  {
   "cell_type": "code",
   "execution_count": 30,
   "metadata": {},
   "outputs": [
    {
     "name": "stdout",
     "output_type": "stream",
     "text": [
      "OrderedDict([('var', <class 'netCDF4._netCDF4.Dimension'> (unlimited): name = 'var', size = 0\n",
      "), ('time', <class 'netCDF4._netCDF4.Dimension'>: name = 'time', size = 12\n",
      "), ('lat', <class 'netCDF4._netCDF4.Dimension'>: name = 'lat', size = 181\n",
      "), ('lon', <class 'netCDF4._netCDF4.Dimension'>: name = 'lon', size = 360\n",
      ")])\n"
     ]
    }
   ],
   "source": [
    "var = rootgrp.createDimension(\"var\", None)\n",
    "time = rootgrp.createDimension(\"time\", len(times))\n",
    "lat = rootgrp.createDimension(\"lat\", len(lats))\n",
    "lon = rootgrp.createDimension(\"lon\", len(lons))\n",
    "print(rootgrp.dimensions)"
   ]
  },
  {
   "cell_type": "code",
   "execution_count": 31,
   "metadata": {},
   "outputs": [
    {
     "name": "stdout",
     "output_type": "stream",
     "text": [
      "OrderedDict()\n"
     ]
    }
   ],
   "source": [
    "print(rootgrp.groups)"
   ]
  },
  {
   "cell_type": "code",
   "execution_count": 32,
   "metadata": {},
   "outputs": [
    {
     "name": "stdout",
     "output_type": "stream",
     "text": [
      "<class 'netCDF4._netCDF4.Variable'>\n",
      "float64 var(lat, lon, time)\n",
      "unlimited dimensions: \n",
      "current shape = (181, 360, 12)\n",
      "filling on, default _FillValue of 9.969209968386869e+36 used\n",
      "\n"
     ]
    }
   ],
   "source": [
    "varss = rootgrp.createVariable(\"var\",\"f8\",(\"lat\",\"lon\",\"time\"))\n",
    "month = rootgrp.createVariable(\"time\",\"i4\",(\"time\",))\n",
    "latitudes = rootgrp.createVariable(\"lat\",\"f4\",(\"lat\",))\n",
    "longitudes = rootgrp.createVariable(\"lon\",\"f4\",(\"lon\",))\n",
    "\n",
    "# two dimensions unlimited\n",
    "\n",
    "print(varss)"
   ]
  },
  {
   "cell_type": "code",
   "execution_count": 33,
   "metadata": {},
   "outputs": [
    {
     "name": "stdout",
     "output_type": "stream",
     "text": [
      "OrderedDict([('description', 'WOA 2018 Temperature averaged above MLD'), ('history', 'Created Fri Nov  8 14:09:15 2019'), ('source', 'WOA2018 + DeBoyer Montague et al. 2004 MLD')])\n"
     ]
    }
   ],
   "source": [
    "latitudes.units = \"degrees north\"\n",
    "longitudes.units = \"degrees east\"\n",
    "\n",
    "month.units = \"climatological months\"\n",
    "month.calendar = \"gregorian\"\n",
    "\n",
    "print(rootgrp.__dict__)"
   ]
  },
  {
   "cell_type": "code",
   "execution_count": 34,
   "metadata": {},
   "outputs": [
    {
     "name": "stdout",
     "output_type": "stream",
     "text": [
      "temp shape before adding data = (181, 360, 12)\n"
     ]
    }
   ],
   "source": [
    "latitudes[:] = lats\n",
    "longitudes[:] = lons\n",
    "month[:] = times\n",
    "\n",
    "nlats = len(rootgrp.dimensions[\"lat\"])\n",
    "nlons = len(rootgrp.dimensions[\"lon\"])\n",
    "print(\"temp shape before adding data = {}\".format(varss.shape))"
   ]
  },
  {
   "cell_type": "code",
   "execution_count": 35,
   "metadata": {},
   "outputs": [
    {
     "data": {
      "text/plain": [
       "<class 'netCDF4._netCDF4.Variable'>\n",
       "float64 var(lat, lon, time)\n",
       "unlimited dimensions: \n",
       "current shape = (181, 360, 12)\n",
       "filling on, default _FillValue of 9.969209968386869e+36 used"
      ]
     },
     "execution_count": 35,
     "metadata": {},
     "output_type": "execute_result"
    }
   ],
   "source": [
    "for i in range(len(lats[1:5])):\n",
    "    \n",
    "    for j in range(len(lons[1:5])):\n",
    "        \n",
    "        MAMLD = MeanAboveMLDatLoc(i,j)\n",
    "        \n",
    "        for k in range(len(times)):\n",
    "            if MAMLD == True:\n",
    "                varss[i, j, k] = np.nan\n",
    "            else:\n",
    "            varss[i, j, k] = MAMLD['Temp'].values[k]\n",
    "\n",
    "varss"
   ]
  },
  {
   "cell_type": "code",
   "execution_count": 36,
   "metadata": {},
   "outputs": [],
   "source": [
    "rootgrp.close()"
   ]
  },
  {
   "cell_type": "code",
   "execution_count": 96,
   "metadata": {},
   "outputs": [
    {
     "data": {
      "text/plain": [
       "False"
      ]
     },
     "execution_count": 96,
     "metadata": {},
     "output_type": "execute_result"
    }
   ],
   "source": [
    "np.nan == 0\n"
   ]
  },
  {
   "cell_type": "code",
   "execution_count": null,
   "metadata": {},
   "outputs": [],
   "source": []
  },
  {
   "cell_type": "code",
   "execution_count": null,
   "metadata": {},
   "outputs": [],
   "source": []
  },
  {
   "cell_type": "code",
   "execution_count": 41,
   "metadata": {},
   "outputs": [
    {
     "data": {
      "text/plain": [
       "Frozen(OrderedDict([('var', <xarray.Variable (lat: 181, lon: 360, time: 12)>\n",
       "[781920 values with dtype=float64]), ('time', <xarray.IndexVariable 'time' (time: 12)>\n",
       "array([ 1,  2,  3,  4,  5,  6,  7,  8,  9, 10, 11, 12], dtype=int32)\n",
       "Attributes:\n",
       "    units:     climatological months\n",
       "    calendar:  gregorian), ('lat', <xarray.IndexVariable 'lat' (lat: 181)>\n",
       "array([-90., -89., -88., -87., -86., -85., -84., -83., -82., -81., -80., -79.,\n",
       "       -78., -77., -76., -75., -74., -73., -72., -71., -70., -69., -68., -67.,\n",
       "       -66., -65., -64., -63., -62., -61., -60., -59., -58., -57., -56., -55.,\n",
       "       -54., -53., -52., -51., -50., -49., -48., -47., -46., -45., -44., -43.,\n",
       "       -42., -41., -40., -39., -38., -37., -36., -35., -34., -33., -32., -31.,\n",
       "       -30., -29., -28., -27., -26., -25., -24., -23., -22., -21., -20., -19.,\n",
       "       -18., -17., -16., -15., -14., -13., -12., -11., -10.,  -9.,  -8.,  -7.,\n",
       "        -6.,  -5.,  -4.,  -3.,  -2.,  -1.,   0.,   1.,   2.,   3.,   4.,   5.,\n",
       "         6.,   7.,   8.,   9.,  10.,  11.,  12.,  13.,  14.,  15.,  16.,  17.,\n",
       "        18.,  19.,  20.,  21.,  22.,  23.,  24.,  25.,  26.,  27.,  28.,  29.,\n",
       "        30.,  31.,  32.,  33.,  34.,  35.,  36.,  37.,  38.,  39.,  40.,  41.,\n",
       "        42.,  43.,  44.,  45.,  46.,  47.,  48.,  49.,  50.,  51.,  52.,  53.,\n",
       "        54.,  55.,  56.,  57.,  58.,  59.,  60.,  61.,  62.,  63.,  64.,  65.,\n",
       "        66.,  67.,  68.,  69.,  70.,  71.,  72.,  73.,  74.,  75.,  76.,  77.,\n",
       "        78.,  79.,  80.,  81.,  82.,  83.,  84.,  85.,  86.,  87.,  88.,  89.,\n",
       "        90.], dtype=float32)\n",
       "Attributes:\n",
       "    units:    degrees north), ('lon', <xarray.IndexVariable 'lon' (lon: 360)>\n",
       "array([-180., -179., -178., ...,  177.,  178.,  179.], dtype=float32)\n",
       "Attributes:\n",
       "    units:    degrees east)]))"
      ]
     },
     "execution_count": 41,
     "metadata": {},
     "output_type": "execute_result"
    }
   ],
   "source": [
    "testdata = xr.open_dataset('13_netcdf4.nc')\n",
    "testdata.variables"
   ]
  },
  {
   "cell_type": "code",
   "execution_count": null,
   "metadata": {},
   "outputs": [],
   "source": []
  },
  {
   "cell_type": "code",
   "execution_count": null,
   "metadata": {},
   "outputs": [],
   "source": []
  }
 ],
 "metadata": {
  "kernelspec": {
   "display_name": "Python 3",
   "language": "python",
   "name": "python3"
  },
  "language_info": {
   "codemirror_mode": {
    "name": "ipython",
    "version": 3
   },
   "file_extension": ".py",
   "mimetype": "text/x-python",
   "name": "python",
   "nbconvert_exporter": "python",
   "pygments_lexer": "ipython3",
   "version": "3.7.3"
  }
 },
 "nbformat": 4,
 "nbformat_minor": 4
}
