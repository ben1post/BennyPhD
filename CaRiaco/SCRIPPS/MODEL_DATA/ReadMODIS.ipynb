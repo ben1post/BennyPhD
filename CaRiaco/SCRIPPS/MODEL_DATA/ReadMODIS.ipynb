{
 "cells": [
  {
   "cell_type": "markdown",
   "metadata": {},
   "source": [
    "# READ MODIS"
   ]
  },
  {
   "cell_type": "code",
   "execution_count": 1,
   "metadata": {},
   "outputs": [],
   "source": [
    "import numpy as np\n",
    "import pandas as pd\n",
    "import xarray as xr\n",
    "import glob"
   ]
  },
  {
   "cell_type": "code",
   "execution_count": 3,
   "metadata": {},
   "outputs": [],
   "source": [
    "test = xr.open_dataset('MODIS/PARMonthlyClimatology/A20021822019212.L3m_MC_PAR_par_9km.nc')"
   ]
  },
  {
   "cell_type": "code",
   "execution_count": 4,
   "metadata": {},
   "outputs": [
    {
     "data": {
      "text/plain": [
       "<xarray.Dataset>\n",
       "Dimensions:  (eightbitcolor: 256, lat: 2160, lon: 4320, rgb: 3)\n",
       "Coordinates:\n",
       "  * lat      (lat) float32 89.958336 89.875 89.79167 ... -89.87501 -89.958336\n",
       "  * lon      (lon) float32 -179.95833 -179.875 ... 179.87502 179.95836\n",
       "Dimensions without coordinates: eightbitcolor, rgb\n",
       "Data variables:\n",
       "    par      (lat, lon) float32 ...\n",
       "    palette  (rgb, eightbitcolor) uint8 ...\n",
       "Attributes:\n",
       "    product_name:                      A20021822019212.L3m_MC_PAR_par_9km.nc\n",
       "    instrument:                        MODIS\n",
       "    title:                             MODISA Level-3 Standard Mapped Image\n",
       "    project:                           Ocean Biology Processing Group (NASA/G...\n",
       "    platform:                          Aqua\n",
       "    temporal_range:                    17-year\n",
       "    processing_version:                2018.0\n",
       "    date_created:                      2019-09-09T18:30:32.000Z\n",
       "    history:                           l3mapgen par=A20021822019212.L3m_MC_PA...\n",
       "    l2_flag_names:                     LAND,NAVFAIL,FILTER,HIGLINT\n",
       "    time_coverage_start:               2002-07-04T00:40:05.000Z\n",
       "    time_coverage_end:                 2019-08-01T02:39:59.000Z\n",
       "    start_orbit_number:                885\n",
       "    end_orbit_number:                  91713\n",
       "    map_projection:                    Equidistant Cylindrical\n",
       "    latitude_units:                    degrees_north\n",
       "    longitude_units:                   degrees_east\n",
       "    northernmost_latitude:             90.0\n",
       "    southernmost_latitude:             -90.0\n",
       "    westernmost_longitude:             -180.0\n",
       "    easternmost_longitude:             180.0\n",
       "    geospatial_lat_max:                90.0\n",
       "    geospatial_lat_min:                -90.0\n",
       "    geospatial_lon_max:                180.0\n",
       "    geospatial_lon_min:                -180.0\n",
       "    latitude_step:                     0.083333336\n",
       "    longitude_step:                    0.083333336\n",
       "    sw_point_latitude:                 -89.958336\n",
       "    sw_point_longitude:                -179.95833\n",
       "    geospatial_lon_resolution:         9.276625\n",
       "    geospatial_lat_resolution:         9.276625\n",
       "    geospatial_lat_units:              degrees_north\n",
       "    geospatial_lon_units:              degrees_east\n",
       "    spatialResolution:                 9.28 km\n",
       "    number_of_lines:                   2160\n",
       "    number_of_columns:                 4320\n",
       "    measure:                           Mean\n",
       "    suggested_image_scaling_minimum:   0.0\n",
       "    suggested_image_scaling_maximum:   76.2\n",
       "    suggested_image_scaling_type:      LINEAR\n",
       "    suggested_image_scaling_applied:   No\n",
       "    _lastModified:                     2019-09-09T18:30:32.000Z\n",
       "    Conventions:                       CF-1.6 ACDD-1.3\n",
       "    institution:                       NASA Goddard Space Flight Center, Ocea...\n",
       "    standard_name_vocabulary:          CF Standard Name Table v36\n",
       "    naming_authority:                  gov.nasa.gsfc.sci.oceandata\n",
       "    id:                                A20021822019212.L3b_MC_PAR.nc/L3/A2002...\n",
       "    license:                           http://science.nasa.gov/earth-science/...\n",
       "    creator_name:                      NASA/GSFC/OBPG\n",
       "    publisher_name:                    NASA/GSFC/OBPG\n",
       "    creator_email:                     data@oceancolor.gsfc.nasa.gov\n",
       "    publisher_email:                   data@oceancolor.gsfc.nasa.gov\n",
       "    creator_url:                       http://oceandata.sci.gsfc.nasa.gov\n",
       "    publisher_url:                     http://oceandata.sci.gsfc.nasa.gov\n",
       "    processing_level:                  L3 Mapped\n",
       "    cdm_data_type:                     grid\n",
       "    identifier_product_doi_authority:  http://dx.doi.org\n",
       "    identifier_product_doi:            10.5067/AQUA/MODIS/L3M/PAR/2018\n",
       "    keywords:                          Earth Science > Oceans > Ocean Optics ...\n",
       "    keywords_vocabulary:               NASA Global Change Master Directory (G...\n",
       "    data_bins:                         5382824\n",
       "    data_minimum:                      0.0039978023\n",
       "    data_maximum:                      65.5"
      ]
     },
     "execution_count": 4,
     "metadata": {},
     "output_type": "execute_result"
    }
   ],
   "source": [
    "test"
   ]
  },
  {
   "cell_type": "code",
   "execution_count": 2,
   "metadata": {},
   "outputs": [
    {
     "ename": "ValueError",
     "evalue": "Could not find any dimension coordinates to use to order the datasets for concatenation",
     "output_type": "error",
     "traceback": [
      "\u001b[0;31m---------------------------------------------------------------------------\u001b[0m",
      "\u001b[0;31mValueError\u001b[0m                                Traceback (most recent call last)",
      "\u001b[0;32m<ipython-input-2-41d3b11e299e>\u001b[0m in \u001b[0;36m<module>\u001b[0;34m\u001b[0m\n\u001b[1;32m      1\u001b[0m \u001b[0mTempNCDFfiles\u001b[0m \u001b[0;34m=\u001b[0m \u001b[0mglob\u001b[0m\u001b[0;34m.\u001b[0m\u001b[0mglob\u001b[0m\u001b[0;34m(\u001b[0m\u001b[0;34m'MODIS/PARMonthlyClimatology/*.nc'\u001b[0m\u001b[0;34m,\u001b[0m \u001b[0mrecursive\u001b[0m\u001b[0;34m=\u001b[0m\u001b[0;32mTrue\u001b[0m\u001b[0;34m)\u001b[0m\u001b[0;34m\u001b[0m\u001b[0;34m\u001b[0m\u001b[0m\n\u001b[0;32m----> 2\u001b[0;31m \u001b[0mMODIS\u001b[0m \u001b[0;34m=\u001b[0m \u001b[0mxr\u001b[0m\u001b[0;34m.\u001b[0m\u001b[0mopen_mfdataset\u001b[0m\u001b[0;34m(\u001b[0m\u001b[0mTempNCDFfiles\u001b[0m\u001b[0;34m,\u001b[0m\u001b[0mcombine\u001b[0m\u001b[0;34m=\u001b[0m\u001b[0;34m'by_coords'\u001b[0m\u001b[0;34m)\u001b[0m\u001b[0;31m#,decode_times=False)\u001b[0m\u001b[0;34m\u001b[0m\u001b[0;34m\u001b[0m\u001b[0m\n\u001b[0m",
      "\u001b[0;32m~/anaconda/anaconda3/lib/python3.7/site-packages/xarray/backends/api.py\u001b[0m in \u001b[0;36mopen_mfdataset\u001b[0;34m(paths, chunks, concat_dim, compat, preprocess, engine, lock, data_vars, coords, combine, autoclose, parallel, join, **kwargs)\u001b[0m\n\u001b[1;32m    950\u001b[0m             \u001b[0;31m# previously\u001b[0m\u001b[0;34m\u001b[0m\u001b[0;34m\u001b[0m\u001b[0;34m\u001b[0m\u001b[0m\n\u001b[1;32m    951\u001b[0m             combined = combine_by_coords(\n\u001b[0;32m--> 952\u001b[0;31m                 \u001b[0mdatasets\u001b[0m\u001b[0;34m,\u001b[0m \u001b[0mcompat\u001b[0m\u001b[0;34m=\u001b[0m\u001b[0mcompat\u001b[0m\u001b[0;34m,\u001b[0m \u001b[0mdata_vars\u001b[0m\u001b[0;34m=\u001b[0m\u001b[0mdata_vars\u001b[0m\u001b[0;34m,\u001b[0m \u001b[0mcoords\u001b[0m\u001b[0;34m=\u001b[0m\u001b[0mcoords\u001b[0m\u001b[0;34m,\u001b[0m \u001b[0mjoin\u001b[0m\u001b[0;34m=\u001b[0m\u001b[0mjoin\u001b[0m\u001b[0;34m\u001b[0m\u001b[0;34m\u001b[0m\u001b[0m\n\u001b[0m\u001b[1;32m    953\u001b[0m             )\n\u001b[1;32m    954\u001b[0m         \u001b[0;32melse\u001b[0m\u001b[0;34m:\u001b[0m\u001b[0;34m\u001b[0m\u001b[0;34m\u001b[0m\u001b[0m\n",
      "\u001b[0;32m~/anaconda/anaconda3/lib/python3.7/site-packages/xarray/core/combine.py\u001b[0m in \u001b[0;36mcombine_by_coords\u001b[0;34m(datasets, compat, data_vars, coords, fill_value, join)\u001b[0m\n\u001b[1;32m    591\u001b[0m     \u001b[0;32mfor\u001b[0m \u001b[0mvars\u001b[0m\u001b[0;34m,\u001b[0m \u001b[0mdatasets_with_same_vars\u001b[0m \u001b[0;32min\u001b[0m \u001b[0mgrouped_by_vars\u001b[0m\u001b[0;34m:\u001b[0m\u001b[0;34m\u001b[0m\u001b[0;34m\u001b[0m\u001b[0m\n\u001b[1;32m    592\u001b[0m         combined_ids, concat_dims = _infer_concat_order_from_coords(\n\u001b[0;32m--> 593\u001b[0;31m             \u001b[0mlist\u001b[0m\u001b[0;34m(\u001b[0m\u001b[0mdatasets_with_same_vars\u001b[0m\u001b[0;34m)\u001b[0m\u001b[0;34m\u001b[0m\u001b[0;34m\u001b[0m\u001b[0m\n\u001b[0m\u001b[1;32m    594\u001b[0m         )\n\u001b[1;32m    595\u001b[0m \u001b[0;34m\u001b[0m\u001b[0m\n",
      "\u001b[0;32m~/anaconda/anaconda3/lib/python3.7/site-packages/xarray/core/combine.py\u001b[0m in \u001b[0;36m_infer_concat_order_from_coords\u001b[0;34m(datasets)\u001b[0m\n\u001b[1;32m    107\u001b[0m     \u001b[0;32mif\u001b[0m \u001b[0mlen\u001b[0m\u001b[0;34m(\u001b[0m\u001b[0mdatasets\u001b[0m\u001b[0;34m)\u001b[0m \u001b[0;34m>\u001b[0m \u001b[0;36m1\u001b[0m \u001b[0;32mand\u001b[0m \u001b[0;32mnot\u001b[0m \u001b[0mconcat_dims\u001b[0m\u001b[0;34m:\u001b[0m\u001b[0;34m\u001b[0m\u001b[0;34m\u001b[0m\u001b[0m\n\u001b[1;32m    108\u001b[0m         raise ValueError(\n\u001b[0;32m--> 109\u001b[0;31m             \u001b[0;34m\"Could not find any dimension coordinates to use to \"\u001b[0m\u001b[0;34m\u001b[0m\u001b[0;34m\u001b[0m\u001b[0m\n\u001b[0m\u001b[1;32m    110\u001b[0m             \u001b[0;34m\"order the datasets for concatenation\"\u001b[0m\u001b[0;34m\u001b[0m\u001b[0;34m\u001b[0m\u001b[0m\n\u001b[1;32m    111\u001b[0m         )\n",
      "\u001b[0;31mValueError\u001b[0m: Could not find any dimension coordinates to use to order the datasets for concatenation"
     ]
    }
   ],
   "source": [
    "TempNCDFfiles = glob.glob('MODIS/PARMonthlyClimatology/*.nc', recursive=True)\n",
    "MODIS = xr.open_mfdataset(TempNCDFfiles,combine='by_coords',aggdim=)#,decode_times=False)"
   ]
  },
  {
   "cell_type": "code",
   "execution_count": null,
   "metadata": {},
   "outputs": [],
   "source": []
  }
 ],
 "metadata": {
  "kernelspec": {
   "display_name": "Python 3",
   "language": "python",
   "name": "python3"
  },
  "language_info": {
   "codemirror_mode": {
    "name": "ipython",
    "version": 3
   },
   "file_extension": ".py",
   "mimetype": "text/x-python",
   "name": "python",
   "nbconvert_exporter": "python",
   "pygments_lexer": "ipython3",
   "version": "3.7.5"
  }
 },
 "nbformat": 4,
 "nbformat_minor": 4
}
