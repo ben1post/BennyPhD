{
 "cells": [
  {
   "cell_type": "markdown",
   "metadata": {},
   "source": [
    "# Read Niskin Bottle master csv file\n",
    "\n",
    "this R notebook reads (and cleans up) the Niskin Master file that is provided on  \n",
    "  \n",
    "http://imars.marine.usf.edu/cariaco  \n",
    "\n",
    "This .csv file is a collection monthly sampled data at CARIACO Ocean Time Series Station."
   ]
  },
  {
   "cell_type": "code",
   "execution_count": 9,
   "metadata": {
    "code_folding": []
   },
   "outputs": [],
   "source": [
    "# read header\n",
    "file <- \"DATA_raw/Niskin_Master_edit.csv\"\n",
    "header <- read.csv(file, header = F, nrows = 1, as.is=T)\n",
    "\n",
    "# skip empty rows & read data\n",
    "data <- read.csv(file, skip = 1, header = F)\n",
    "\n",
    "# assign header to data\n",
    "colnames(data) <- header"
   ]
  },
  {
   "cell_type": "markdown",
   "metadata": {},
   "source": [
    "# clean up dataframe"
   ]
  },
  {
   "cell_type": "code",
   "execution_count": 10,
   "metadata": {},
   "outputs": [],
   "source": [
    "# convert \"-9999\" values to NA\n",
    "data[data == -9999] <- NA\n",
    "\n",
    "# remove empty columns\n",
    "#data <- data[,c(-1,-49:-50)]\n",
    "\n",
    "# remove rows full of NAs (i.e. where cruise number is NA)\n",
    "data <- data[!is.na(data$Cruise),]"
   ]
  },
  {
   "cell_type": "code",
   "execution_count": 12,
   "metadata": {},
   "outputs": [
    {
     "data": {
      "text/html": [
       "<table>\n",
       "<thead><tr><th scope=col>Cruise</th><th scope=col>Leg</th><th scope=col>Day</th><th scope=col>Month</th><th scope=col>Year</th><th scope=col>Depth_target</th><th scope=col>Depth_real</th><th scope=col>O2_ml_L</th><th scope=col>O2_umol_kg</th><th scope=col>SiOH4_Cumana</th><th scope=col>⋯</th><th scope=col>C/N part.</th><th scope=col>POC</th><th scope=col>PN</th><th scope=col>DON_USF</th><th scope=col>DOP_USF</th><th scope=col>DOC</th><th scope=col>TOC</th><th scope=col>PriPro</th><th scope=col>Chl</th><th scope=col>Phaeo</th></tr></thead>\n",
       "<tbody>\n",
       "\t<tr><td>1     </td><td>2     </td><td>8     </td><td>11    </td><td>1995  </td><td> 1    </td><td> 1.5  </td><td>4.85  </td><td>211.61</td><td>2.4   </td><td>⋯     </td><td>NA    </td><td>NA    </td><td>NA    </td><td>NA    </td><td>NA    </td><td>135   </td><td>NA    </td><td>NA    </td><td>0.09  </td><td>0.09  </td></tr>\n",
       "\t<tr><td>1     </td><td>2     </td><td>8     </td><td>11    </td><td>1995  </td><td> 7    </td><td> 6.5  </td><td>4.41  </td><td>192.39</td><td>2.8   </td><td>⋯     </td><td>NA    </td><td>NA    </td><td>NA    </td><td>NA    </td><td>NA    </td><td> 88   </td><td>NA    </td><td>NA    </td><td>0.07  </td><td>0.06  </td></tr>\n",
       "\t<tr><td>1     </td><td>2     </td><td>8     </td><td>11    </td><td>1995  </td><td>15    </td><td>15.0  </td><td>4.38  </td><td>191.08</td><td>2.2   </td><td>⋯     </td><td>NA    </td><td>NA    </td><td>NA    </td><td>NA    </td><td>NA    </td><td> 81   </td><td>NA    </td><td>NA    </td><td>0.10  </td><td>0.08  </td></tr>\n",
       "\t<tr><td>1     </td><td>2     </td><td>8     </td><td>11    </td><td>1995  </td><td>25    </td><td>25.0  </td><td>4.37  </td><td>190.57</td><td> NA   </td><td>⋯     </td><td>NA    </td><td>NA    </td><td>NA    </td><td>NA    </td><td>NA    </td><td> 78   </td><td>NA    </td><td>NA    </td><td>0.12  </td><td>0.14  </td></tr>\n",
       "\t<tr><td>1     </td><td>2     </td><td>8     </td><td>11    </td><td>1995  </td><td>35    </td><td>35.0  </td><td>4.27  </td><td>186.13</td><td>1.9   </td><td>⋯     </td><td>NA    </td><td>NA    </td><td>NA    </td><td>NA    </td><td>NA    </td><td> 78   </td><td>NA    </td><td>NA    </td><td>0.13  </td><td>0.20  </td></tr>\n",
       "\t<tr><td>1     </td><td>2     </td><td>8     </td><td>11    </td><td>1995  </td><td>55    </td><td>54.5  </td><td>3.95  </td><td>172.14</td><td>1.7   </td><td>⋯     </td><td>NA    </td><td>NA    </td><td>NA    </td><td>NA    </td><td>NA    </td><td> 78   </td><td>NA    </td><td>NA    </td><td>0.42  </td><td>0.60  </td></tr>\n",
       "</tbody>\n",
       "</table>\n"
      ],
      "text/latex": [
       "\\begin{tabular}{r|llllllllllllllllllllllllllllllllllllllll}\n",
       " Cruise & Leg & Day & Month & Year & Depth\\_target & Depth\\_real & O2\\_ml\\_L & O2\\_umol\\_kg & SiOH4\\_Cumana & ⋯ & C/N part. & POC & PN & DON\\_USF & DOP\\_USF & DOC & TOC & PriPro & Chl & Phaeo\\\\\n",
       "\\hline\n",
       "\t 1      & 2      & 8      & 11     & 1995   &  1     &  1.5   & 4.85   & 211.61 & 2.4    & ⋯      & NA     & NA     & NA     & NA     & NA     & 135    & NA     & NA     & 0.09   & 0.09  \\\\\n",
       "\t 1      & 2      & 8      & 11     & 1995   &  7     &  6.5   & 4.41   & 192.39 & 2.8    & ⋯      & NA     & NA     & NA     & NA     & NA     &  88    & NA     & NA     & 0.07   & 0.06  \\\\\n",
       "\t 1      & 2      & 8      & 11     & 1995   & 15     & 15.0   & 4.38   & 191.08 & 2.2    & ⋯      & NA     & NA     & NA     & NA     & NA     &  81    & NA     & NA     & 0.10   & 0.08  \\\\\n",
       "\t 1      & 2      & 8      & 11     & 1995   & 25     & 25.0   & 4.37   & 190.57 &  NA    & ⋯      & NA     & NA     & NA     & NA     & NA     &  78    & NA     & NA     & 0.12   & 0.14  \\\\\n",
       "\t 1      & 2      & 8      & 11     & 1995   & 35     & 35.0   & 4.27   & 186.13 & 1.9    & ⋯      & NA     & NA     & NA     & NA     & NA     &  78    & NA     & NA     & 0.13   & 0.20  \\\\\n",
       "\t 1      & 2      & 8      & 11     & 1995   & 55     & 54.5   & 3.95   & 172.14 & 1.7    & ⋯      & NA     & NA     & NA     & NA     & NA     &  78    & NA     & NA     & 0.42   & 0.60  \\\\\n",
       "\\end{tabular}\n"
      ],
      "text/markdown": [
       "\n",
       "Cruise | Leg | Day | Month | Year | Depth_target | Depth_real | O2_ml_L | O2_umol_kg | SiOH4_Cumana | ⋯ | C/N part. | POC | PN | DON_USF | DOP_USF | DOC | TOC | PriPro | Chl | Phaeo | \n",
       "|---|---|---|---|---|---|\n",
       "| 1      | 2      | 8      | 11     | 1995   |  1     |  1.5   | 4.85   | 211.61 | 2.4    | ⋯      | NA     | NA     | NA     | NA     | NA     | 135    | NA     | NA     | 0.09   | 0.09   | \n",
       "| 1      | 2      | 8      | 11     | 1995   |  7     |  6.5   | 4.41   | 192.39 | 2.8    | ⋯      | NA     | NA     | NA     | NA     | NA     |  88    | NA     | NA     | 0.07   | 0.06   | \n",
       "| 1      | 2      | 8      | 11     | 1995   | 15     | 15.0   | 4.38   | 191.08 | 2.2    | ⋯      | NA     | NA     | NA     | NA     | NA     |  81    | NA     | NA     | 0.10   | 0.08   | \n",
       "| 1      | 2      | 8      | 11     | 1995   | 25     | 25.0   | 4.37   | 190.57 |  NA    | ⋯      | NA     | NA     | NA     | NA     | NA     |  78    | NA     | NA     | 0.12   | 0.14   | \n",
       "| 1      | 2      | 8      | 11     | 1995   | 35     | 35.0   | 4.27   | 186.13 | 1.9    | ⋯      | NA     | NA     | NA     | NA     | NA     |  78    | NA     | NA     | 0.13   | 0.20   | \n",
       "| 1      | 2      | 8      | 11     | 1995   | 55     | 54.5   | 3.95   | 172.14 | 1.7    | ⋯      | NA     | NA     | NA     | NA     | NA     |  78    | NA     | NA     | 0.42   | 0.60   | \n",
       "\n",
       "\n"
      ],
      "text/plain": [
       "  Cruise Leg Day Month Year Depth_target Depth_real O2_ml_L O2_umol_kg\n",
       "1 1      2   8   11    1995  1            1.5       4.85    211.61    \n",
       "2 1      2   8   11    1995  7            6.5       4.41    192.39    \n",
       "3 1      2   8   11    1995 15           15.0       4.38    191.08    \n",
       "4 1      2   8   11    1995 25           25.0       4.37    190.57    \n",
       "5 1      2   8   11    1995 35           35.0       4.27    186.13    \n",
       "6 1      2   8   11    1995 55           54.5       3.95    172.14    \n",
       "  SiOH4_Cumana ⋯ C/N part. POC PN DON_USF DOP_USF DOC TOC PriPro Chl  Phaeo\n",
       "1 2.4          ⋯ NA        NA  NA NA      NA      135 NA  NA     0.09 0.09 \n",
       "2 2.8          ⋯ NA        NA  NA NA      NA       88 NA  NA     0.07 0.06 \n",
       "3 2.2          ⋯ NA        NA  NA NA      NA       81 NA  NA     0.10 0.08 \n",
       "4  NA          ⋯ NA        NA  NA NA      NA       78 NA  NA     0.12 0.14 \n",
       "5 1.9          ⋯ NA        NA  NA NA      NA       78 NA  NA     0.13 0.20 \n",
       "6 1.7          ⋯ NA        NA  NA NA      NA       78 NA  NA     0.42 0.60 "
      ]
     },
     "metadata": {},
     "output_type": "display_data"
    }
   ],
   "source": [
    "data$'NA' <- NULL\n",
    "data$NA.1 <- NULL\n",
    "head(data)"
   ]
  },
  {
   "cell_type": "code",
   "execution_count": 16,
   "metadata": {},
   "outputs": [],
   "source": [
    "data$Date <- paste(data$Year,'-',data$Month,'-',data$Day,sep='')"
   ]
  },
  {
   "cell_type": "code",
   "execution_count": 18,
   "metadata": {},
   "outputs": [
    {
     "data": {
      "text/html": [
       "<ol class=list-inline>\n",
       "\t<li>'1995-11-8'</li>\n",
       "\t<li>'1995-11-8'</li>\n",
       "\t<li>'1995-11-8'</li>\n",
       "\t<li>'1995-11-8'</li>\n",
       "\t<li>'1995-11-8'</li>\n",
       "\t<li>'1995-11-8'</li>\n",
       "</ol>\n"
      ],
      "text/latex": [
       "\\begin{enumerate*}\n",
       "\\item '1995-11-8'\n",
       "\\item '1995-11-8'\n",
       "\\item '1995-11-8'\n",
       "\\item '1995-11-8'\n",
       "\\item '1995-11-8'\n",
       "\\item '1995-11-8'\n",
       "\\end{enumerate*}\n"
      ],
      "text/markdown": [
       "1. '1995-11-8'\n",
       "2. '1995-11-8'\n",
       "3. '1995-11-8'\n",
       "4. '1995-11-8'\n",
       "5. '1995-11-8'\n",
       "6. '1995-11-8'\n",
       "\n",
       "\n"
      ],
      "text/plain": [
       "[1] \"1995-11-8\" \"1995-11-8\" \"1995-11-8\" \"1995-11-8\" \"1995-11-8\" \"1995-11-8\""
      ]
     },
     "metadata": {},
     "output_type": "display_data"
    }
   ],
   "source": [
    "head(data$Date)"
   ]
  },
  {
   "cell_type": "markdown",
   "metadata": {},
   "source": [
    "# convert date/time"
   ]
  },
  {
   "cell_type": "code",
   "execution_count": 19,
   "metadata": {},
   "outputs": [],
   "source": [
    "# convert date & time into machine readable format\n",
    "data$DateString <- data$Date\n",
    "data$Date <- as.POSIXlt(data$Date, format=\"%Y-%m-%d\")\n",
    "\n",
    "# get \"day of the year\" as variable\n",
    "data$yday <- data$Date$yday"
   ]
  },
  {
   "cell_type": "code",
   "execution_count": 20,
   "metadata": {},
   "outputs": [
    {
     "name": "stdout",
     "output_type": "stream",
     "text": [
      "'data.frame':\t4395 obs. of  43 variables:\n",
      " $ Cruise           : int  1 1 1 1 1 1 1 1 1 1 ...\n",
      " $ Leg              : int  2 2 2 2 2 2 2 2 2 2 ...\n",
      " $ Day              : int  8 8 8 8 8 8 8 8 8 8 ...\n",
      " $ Month            : int  11 11 11 11 11 11 11 11 11 11 ...\n",
      " $ Year             : int  1995 1995 1995 1995 1995 1995 1995 1995 1995 1995 ...\n",
      " $ Depth_target     : int  1 7 15 25 35 55 75 100 150 200 ...\n",
      " $ Depth_real       : num  1.5 6.5 15 25 35 ...\n",
      " $ O2_ml_L          : num  4.85 4.41 4.38 4.37 4.27 3.95 3.87 3.63 1.81 0.45 ...\n",
      " $ O2_umol_kg       : num  212 192 191 191 186 ...\n",
      " $ SiOH4_Cumana     : num  2.4 2.8 2.2 NA 1.9 1.7 2.2 2.4 10.7 22.1 ...\n",
      " $   PO4_Cumana     : num  0 0 0 0 0.01 0.06 0.08 0.2 0.96 1.5 ...\n",
      " $ NO3_Cumana       : num  0.18 0.17 0.16 0.17 0.85 ...\n",
      " $ NH4              : num  NA NA NA NA NA NA NA NA NA NA ...\n",
      " $ NO2              : num  NA NA NA NA NA NA NA NA NA NA ...\n",
      " $ NO3NO2           : num  NA NA NA NA NA NA NA NA NA NA ...\n",
      " $ PO4              : num  NA NA NA NA NA NA NA NA NA NA ...\n",
      " $ SiOH4            : num  NA NA NA NA NA NA NA NA NA NA ...\n",
      " $ pH               : num  NA NA NA NA NA NA NA NA NA NA ...\n",
      " $ Alkalinity       : num  NA 0.00241 0.00241 0.00241 0.00242 ...\n",
      " $ TCO2             : num  NA NA NA NA NA NA NA NA NA NA ...\n",
      " $ fCO2             : num  NA NA NA NA NA NA NA NA NA NA ...\n",
      " $ Salinity_bott    : num  36.6 36.6 36.6 36.6 36.7 ...\n",
      " $ Salinity_bottcorr: num  NA NA NA NA NA NA NA NA NA NA ...\n",
      " $ Salinity_ctd     : num  NA NA NA NA NA NA NA NA NA NA ...\n",
      " $ Temp_ctd         : num  27.5 27.5 27.5 26.3 25.3 ...\n",
      " $ Sigma-t_ctd      : num  23.7 23.7 23.8 24.2 24.6 ...\n",
      " $ TPP              : num  NA NA NA NA NA NA NA NA NA NA ...\n",
      " $ PIP              : num  NA NA NA NA NA NA NA NA NA NA ...\n",
      " $ POC              : num  NA NA NA NA NA NA NA NA NA NA ...\n",
      " $ PN               : num  NA NA NA NA NA NA NA NA NA NA ...\n",
      " $ C/N part.        : num  NA NA NA NA NA NA NA NA NA NA ...\n",
      " $ POC              : num  NA NA NA NA NA NA NA NA NA NA ...\n",
      " $ PN               : num  NA NA NA NA NA NA NA NA NA NA ...\n",
      " $ DON_USF          : num  NA NA NA NA NA NA NA NA NA NA ...\n",
      " $ DOP_USF          : num  NA NA NA NA NA NA NA NA NA NA ...\n",
      " $ DOC              : num  135 88 81 78 78 78 73 74 71 100 ...\n",
      " $ TOC              : num  NA NA NA NA NA NA NA NA NA NA ...\n",
      " $ PriPro           : num  NA NA NA NA NA NA NA NA NA NA ...\n",
      " $ Chl              : num  0.09 0.07 0.1 0.12 0.13 0.42 0.16 0.07 NA NA ...\n",
      " $ Phaeo            : num  0.09 0.06 0.08 0.14 0.2 0.6 0.31 0.16 NA NA ...\n",
      " $ Date             : POSIXlt, format: \"1995-11-08\" \"1995-11-08\" ...\n",
      " $ DateString       : chr  \"1995-11-8\" \"1995-11-8\" \"1995-11-8\" \"1995-11-8\" ...\n",
      " $ yday             : int  311 311 311 311 311 311 311 311 311 311 ...\n"
     ]
    }
   ],
   "source": [
    "str(data)"
   ]
  },
  {
   "cell_type": "markdown",
   "metadata": {},
   "source": [
    "# the cleaned file is saved as a csv in the folder \"DATA_processed\" for later use"
   ]
  },
  {
   "cell_type": "code",
   "execution_count": 21,
   "metadata": {},
   "outputs": [],
   "source": [
    "# Write CSV in R\n",
    "write.csv(data, file = \"DATA_processed/Master_Niskin_cleaned_2.csv\")"
   ]
  },
  {
   "cell_type": "code",
   "execution_count": null,
   "metadata": {},
   "outputs": [],
   "source": []
  }
 ],
 "metadata": {
  "kernelspec": {
   "display_name": "R",
   "language": "R",
   "name": "ir"
  },
  "language_info": {
   "codemirror_mode": "r",
   "file_extension": ".r",
   "mimetype": "text/x-r-source",
   "name": "R",
   "pygments_lexer": "r",
   "version": "3.6.1"
  }
 },
 "nbformat": 4,
 "nbformat_minor": 4
}
