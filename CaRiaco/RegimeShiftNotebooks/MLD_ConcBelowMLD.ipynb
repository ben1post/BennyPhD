{
 "cells": [
  {
   "cell_type": "markdown",
   "metadata": {},
   "source": [
    "# Calculate Nutrient concentrations below MLD for model forcing"
   ]
  },
  {
   "cell_type": "code",
   "execution_count": null,
   "metadata": {},
   "outputs": [],
   "source": [
    "require(dplyr, warn.conflicts = FALSE)\n",
    "require(cowplot, warn.conflicts = FALSE)"
   ]
  },
  {
   "cell_type": "markdown",
   "metadata": {},
   "source": [
    "## read calculated MLD depth from csv"
   ]
  },
  {
   "cell_type": "code",
   "execution_count": 5,
   "metadata": {},
   "outputs": [],
   "source": [
    "# read CTDdat file\n",
    "mld_depth <- read.csv(\"DATA_processed/MLD_depth_calculated.csv\")\n",
    "\n",
    "# read Date column as POSIXct\n",
    "mld_depth$Date <- as.POSIXct(mld_depth$Date, format=\"%Y-%m-%d\")"
   ]
  },
  {
   "cell_type": "code",
   "execution_count": null,
   "metadata": {},
   "outputs": [],
   "source": []
  },
  {
   "cell_type": "code",
   "execution_count": null,
   "metadata": {},
   "outputs": [],
   "source": [
    "##########'GET NITRATE*NITRITE @MLD \n",
    "\n",
    "\n",
    "nitrait_mld <- merge(nitraite_df, x, by.y=\"datefix\", by.x=\"datefix\")\n",
    "\n",
    "nitrait_mld$depthdiff <- nitrait_mld$press - nitrait_mld$Depth_real\n",
    "nitrait_mld\n",
    "\n",
    "q <- nitrait_mld %>%\n",
    "  group_by(CruiseID.y) %>% #this groups it by the run number \n",
    "  filter(depthdiff < 0) %>% \n",
    "  arrange(desc(depthdiff))%>%\n",
    "  #do(diff == min(abs(depthdiff))) %>% #create new column that gives \"True\" for values below MLD\n",
    "  #filter(diff == T) %>% # only take \"True\" values \n",
    "  slice(1) %>% # takes the first occurrence\n",
    "  ungroup() #removes grouping\n",
    "\n",
    "# q <- nitrait_mld %>%\n",
    "#   group_by(CruiseID.y) %>% #this groups it by the run number \n",
    "#   arrange(desc(-abs(depthdiff)))%>%\n",
    "#   #do(diff == min(abs(depthdiff))) %>% #create new column that gives \"True\" for values below MLD\n",
    "#   #filter(diff == T) %>% # only take \"True\" values \n",
    "#   slice(1) %>% # takes the first occurrence\n",
    "#   ungroup() #removes grouping\n",
    "\n",
    "filterq <- q[q$depthdiff>-15,]\n",
    "\n",
    "\n",
    "##### Nitrate @ MLD plot\n",
    "# ggplot(q,aes(x=days.x,y=as.numeric(NO3_NO2)))+\n",
    "#   geom_point()+ geom_smooth(se=F)+\n",
    "#   xlab(\"Day of the year\")+ggtitle(\"Cariaco - Nitrate + Nitrite below MLD\")+\n",
    "#   ylab(expression(paste(NO[3],'+',NO[2],' [µmol ', m^{-1},']')))\n",
    "\n",
    "\n",
    "\n",
    "####################SILICATE######################\n",
    "\n",
    "# reformat NAs\n",
    "Silicate[Silicate<0] <- NA\n",
    "\n",
    "silicate_df <- data.frame(CruiseID,datefix,days,Depth_real,Silicate)[complete.cases(Silicate),]\n",
    "\n",
    "\n",
    "silicate_df\n",
    "\n",
    "silicate_mld <- merge(silicate_df, x, by.y=\"datefix\", by.x=\"datefix\")\n",
    "\n",
    "silicate_mld$depthdiff <- silicate_mld$press - silicate_mld$Depth_real\n",
    "silicate_mld\n",
    "\n",
    "si <- silicate_mld %>%\n",
    "  group_by(CruiseID.y) %>% #this groups it by the run number \n",
    "  filter(depthdiff < 0) %>% \n",
    "  arrange(desc(depthdiff))%>%\n",
    "  #do(diff == min(abs(depthdiff))) %>% #create new column that gives \"True\" for values below MLD\n",
    "  #filter(diff == T) %>% # only take \"True\" values \n",
    "  slice(1) %>% # takes the first occurrence\n",
    "  ungroup() #removes grouping\n",
    "\n",
    "# q <- nitrait_mld %>%\n",
    "#   group_by(CruiseID.y) %>% #this groups it by the run number \n",
    "#   arrange(desc(-abs(depthdiff)))%>%\n",
    "#   #do(diff == min(abs(depthdiff))) %>% #create new column that gives \"True\" for values below MLD\n",
    "#   #filter(diff == T) %>% # only take \"True\" values \n",
    "#   slice(1) %>% # takes the first occurrence\n",
    "#   ungroup() #removes grouping\n",
    "\n",
    "filtersi <- si[si$depthdiff>-15,]\n",
    "si\n",
    "filtersi\n"
   ]
  }
 ],
 "metadata": {
  "kernelspec": {
   "display_name": "R",
   "language": "R",
   "name": "ir"
  },
  "language_info": {
   "codemirror_mode": "r",
   "file_extension": ".r",
   "mimetype": "text/x-r-source",
   "name": "R",
   "pygments_lexer": "r",
   "version": "3.5.1"
  }
 },
 "nbformat": 4,
 "nbformat_minor": 2
}
