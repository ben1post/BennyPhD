{
 "cells": [
  {
   "cell_type": "markdown",
   "metadata": {},
   "source": [
    "# Read SeaWIFs 8 day extracted data\n",
    "\n",
    "this R notebook reads netcdf files from L3 Browser @ NASA Ocean Color https://oceancolor.gsfc.nasa.gov/l3/\n",
    "\n",
    "the data is from 8-day running averages of PAR measured by SeaWIFs extracted from the Cariaco Region"
   ]
  },
  {
   "cell_type": "code",
   "execution_count": 1,
   "metadata": {},
   "outputs": [],
   "source": [
    "library(\"ncdf4\")\n",
    "library(\"reshape2\")"
   ]
  },
  {
   "cell_type": "code",
   "execution_count": 2,
   "metadata": {},
   "outputs": [
    {
     "data": {
      "text/html": [
       "TRUE"
      ],
      "text/latex": [
       "TRUE"
      ],
      "text/markdown": [
       "TRUE"
      ],
      "text/plain": [
       "[1] TRUE"
      ]
     },
     "metadata": {},
     "output_type": "display_data"
    },
    {
     "name": "stdout",
     "output_type": "stream",
     "text": [
      "[1] \"DATA_processed/SeaWIFs_monthly_extracted.csv\"\n"
     ]
    }
   ],
   "source": [
    "outputfile <- \"DATA_processed/SeaWIFs_monthly_extracted.csv\"\n",
    "if (file.exists(outputfile)) file.remove(outputfile)    # caution new data will be appended to this file if it already exists\n",
    "print(outputfile)"
   ]
  },
  {
   "cell_type": "markdown",
   "metadata": {},
   "source": [
    "## create bounding box & create list of file names"
   ]
  },
  {
   "cell_type": "code",
   "execution_count": 3,
   "metadata": {},
   "outputs": [
    {
     "data": {
      "text/html": [
       "'outputfile'"
      ],
      "text/latex": [
       "'outputfile'"
      ],
      "text/markdown": [
       "'outputfile'"
      ],
      "text/plain": [
       "[1] \"outputfile\""
      ]
     },
     "metadata": {},
     "output_type": "display_data"
    },
    {
     "name": "stdout",
     "output_type": "stream",
     "text": [
      "[1] \"S19972741997304.L3m_MO_PAR.x_par.nc\" \"S19973051997334.L3m_MO_PAR.x_par.nc\"\n",
      "[3] \"S19973351997365.L3m_MO_PAR.x_par.nc\" \"S19980011998031.L3m_MO_PAR.x_par.nc\"\n",
      "[5] \"S19980321998059.L3m_MO_PAR.x_par.nc\" \"S19980601998090.L3m_MO_PAR.x_par.nc\"\n"
     ]
    }
   ],
   "source": [
    "# list and remove objects\n",
    "ls()\n",
    "rm(list = ls())\n",
    "\n",
    "# set the study area\n",
    "latmax <- 10.78\n",
    "latmin <- 10.35\n",
    "lonmax <- -64.53\n",
    "lonmin <- -64.9\n",
    "\n",
    "\n",
    "lat = c(10.35,  10.78, 10.78, 10.35)\n",
    "lon = c(-64.53,-64.53,-64.9, -64.9)\n",
    "\n",
    "# latmax <- 10.8\n",
    "# latmin <- 10.5\n",
    "# lonmax <- -64.6\n",
    "# lonmin <- -65.2\n",
    "\n",
    "# create a list of files and indicate its length\n",
    "f <- list.files(\"DATA_raw/SeaWIFs_PAR_monthly/.\", pattern=\"*.L3m_MO_PAR.x_par.nc\",full.names=F)\n",
    "lf<-length(f)\n",
    "print(head(f))"
   ]
  },
  {
   "cell_type": "markdown",
   "metadata": {},
   "source": [
    "## show netcdf file structure"
   ]
  },
  {
   "cell_type": "code",
   "execution_count": 4,
   "metadata": {},
   "outputs": [
    {
     "name": "stdout",
     "output_type": "stream",
     "text": [
      "File DATA_raw/SeaWIFs_PAR_monthly/S19972741997304.L3m_MO_PAR.x_par.nc (NC_FORMAT_NETCDF4):\n",
      "\n",
      "     2 variables (excluding dimension variables):\n",
      "        short par[lon,lat]   (Chunking: [26,20])  (Compression: shuffle,level 4)\n",
      "            long_name: Photosynthetically Available Radiation, R. Frouin\n",
      "            scale_factor: 0.0020000000949949\n",
      "            add_offset: 65.5\n",
      "            units: einstein m^-2 day^-1\n",
      "            standard_name: surface_downwelling_photosynthetic_photon_flux_in_air\n",
      "            _FillValue: -32767\n",
      "            valid_min: -32750\n",
      "            valid_max: 32250\n",
      "            reference: Frouin, R., Ligner, D.W., and Gautier, C., 1989: A Simple analytical formula to compute clear sky total and photosynthetically available solar irradiance at the ocean surface. J. Geophys. Res., 94, 9731-9742.\n",
      "            display_scale: linear\n",
      "            display_min: 0\n",
      "            display_max: 76.1999969482422\n",
      "        unsigned byte palette[eightbitcolor,rgb]   (Contiguous storage)  \n",
      "\n",
      "     4 dimensions:\n",
      "        lat  Size:59\n",
      "            long_name: Latitude\n",
      "            units: degrees_north\n",
      "            standard_name: latitude\n",
      "            _FillValue: -999\n",
      "            valid_min: -90\n",
      "            valid_max: 90\n",
      "        lon  Size:75\n",
      "            long_name: Longitude\n",
      "            units: degrees_east\n",
      "            standard_name: longitude\n",
      "            _FillValue: -999\n",
      "            valid_min: -180\n",
      "            valid_max: 180\n",
      "        rgb  Size:3\n",
      "        eightbitcolor  Size:256\n",
      "\n",
      "    60 global attributes:\n",
      "        product_name: S19972741997304.L3m_MO_PAR.x_par.nc\n",
      "        instrument: SeaWiFS\n",
      "        title: SeaWiFS Level-3 Standard Mapped Image\n",
      "        project: Ocean Biology Processing Group (NASA/GSFC/OBPG)\n",
      "        platform: Orbview-2\n",
      "        temporal_range: month\n",
      "        processing_version: Unspecified\n",
      "        date_created: 2019-04-05T13:58:48.000Z\n",
      "        history: l3mapgen par=S19972741997304.L3m_MO_PAR.x_par.nc.param \n",
      "        l2_flag_names: LAND,NAVFAIL,FILTER,HIGLINT\n",
      "        time_coverage_start: 1997-09-30T20:56:59.000Z\n",
      "        time_coverage_end: 1997-11-01T01:04:34.000Z\n",
      "        start_orbit_number: 900\n",
      "        end_orbit_number: 1353\n",
      "        map_projection: Equidistant Cylindrical\n",
      "        latitude_units: degrees_north\n",
      "        longitude_units: degrees_east\n",
      "        northernmost_latitude: 14.2600002288818\n",
      "        southernmost_latitude: 9.34000015258789\n",
      "        westernmost_longitude: -69.2600021362305\n",
      "        easternmost_longitude: -62.9300003051758\n",
      "        geospatial_lat_max: 14.2600002288818\n",
      "        geospatial_lat_min: 9.34000015258789\n",
      "        geospatial_lon_max: -62.9300003051758\n",
      "        geospatial_lon_min: -69.2600021362305\n",
      "        grid_mapping_name: latitude_longitude\n",
      "        latitude_step: 0.0833898335695267\n",
      "        longitude_step: 0.0844000279903412\n",
      "        sw_point_latitude: 9.38169479370117\n",
      "        sw_point_longitude: -69.2178039550781\n",
      "        geospatial_lon_resolution: 9.27662467956543\n",
      "        geospatial_lat_resolution: 9.27662467956543\n",
      "        geospatial_lat_units: degrees_north\n",
      "        geospatial_lon_units: degrees_east\n",
      "        spatialResolution: 9.28 km\n",
      "        number_of_lines: 59\n",
      "        number_of_columns: 75\n",
      "        measure: Mean\n",
      "        suggested_image_scaling_minimum: 0\n",
      "        suggested_image_scaling_maximum: 76.1999969482422\n",
      "        suggested_image_scaling_type: LINEAR\n",
      "        suggested_image_scaling_applied: No\n",
      "        _lastModified: 2019-04-05T13:58:48.000Z\n",
      "        Conventions: CF-1.6 ACDD-1.3\n",
      "        institution: NASA Goddard Space Flight Center, Ocean Ecology Laboratory, Ocean Biology Processing Group\n",
      "        standard_name_vocabulary: CF Standard Name Table v36\n",
      "        naming_authority: gov.nasa.gsfc.sci.oceandata\n",
      "        id: L3//data1/sdpsoper/vdc/vpu0/workbuf/S19972741997304.L3b_MO_PAR.x.nc\n",
      "        license: http://science.nasa.gov/earth-science/earth-science-data/data-information-policy/\n",
      "        creator_name: NASA/GSFC/OBPG\n",
      "        publisher_name: NASA/GSFC/OBPG\n",
      "        creator_email: data@oceancolor.gsfc.nasa.gov\n",
      "        publisher_email: data@oceancolor.gsfc.nasa.gov\n",
      "        creator_url: http://oceandata.sci.gsfc.nasa.gov\n",
      "        publisher_url: http://oceandata.sci.gsfc.nasa.gov\n",
      "        processing_level: L3 Mapped\n",
      "        cdm_data_type: grid\n",
      "        data_bins: 3470\n",
      "        data_minimum: 21.7399978637695\n",
      "        data_maximum: 55.6679992675781\n"
     ]
    }
   ],
   "source": [
    "data<-nc_open(paste('DATA_raw/SeaWIFs_PAR_monthly/',f[1],sep=''))\n",
    "print(data)\n",
    "# extract data\n",
    "nc_close(data)"
   ]
  },
  {
   "cell_type": "markdown",
   "metadata": {},
   "source": [
    "## define variable to extract : PAR"
   ]
  },
  {
   "cell_type": "code",
   "execution_count": 5,
   "metadata": {},
   "outputs": [],
   "source": [
    "# variable\n",
    "var<-\"par\""
   ]
  },
  {
   "cell_type": "markdown",
   "metadata": {},
   "source": [
    "## Open each individual file and extract PAR values within bounding box defined above"
   ]
  },
  {
   "cell_type": "code",
   "execution_count": 6,
   "metadata": {},
   "outputs": [
    {
     "name": "stdout",
     "output_type": "stream",
     "text": [
      "[1] \"Processing file 1 from 153\"\n",
      "[1] \"Processing file 2 from 153\"\n",
      "[1] \"Processing file 3 from 153\"\n",
      "[1] \"Processing file 4 from 153\"\n",
      "[1] \"Processing file 5 from 153\"\n",
      "[1] \"Processing file 6 from 153\"\n",
      "[1] \"Processing file 7 from 153\"\n",
      "[1] \"Processing file 8 from 153\"\n",
      "[1] \"Processing file 9 from 153\"\n",
      "[1] \"Processing file 10 from 153\"\n",
      "[1] \"Processing file 11 from 153\"\n",
      "[1] \"Processing file 12 from 153\"\n",
      "[1] \"Processing file 13 from 153\"\n",
      "[1] \"Processing file 14 from 153\"\n",
      "[1] \"Processing file 15 from 153\"\n",
      "[1] \"Processing file 16 from 153\"\n",
      "[1] \"Processing file 17 from 153\"\n",
      "[1] \"Processing file 18 from 153\"\n",
      "[1] \"Processing file 19 from 153\"\n",
      "[1] \"Processing file 20 from 153\"\n",
      "[1] \"Processing file 21 from 153\"\n",
      "[1] \"Processing file 22 from 153\"\n",
      "[1] \"Processing file 23 from 153\"\n",
      "[1] \"Processing file 24 from 153\"\n",
      "[1] \"Processing file 25 from 153\"\n",
      "[1] \"Processing file 26 from 153\"\n",
      "[1] \"Processing file 27 from 153\"\n",
      "[1] \"Processing file 28 from 153\"\n",
      "[1] \"Processing file 29 from 153\"\n",
      "[1] \"Processing file 30 from 153\"\n",
      "[1] \"Processing file 31 from 153\"\n",
      "[1] \"Processing file 32 from 153\"\n",
      "[1] \"Processing file 33 from 153\"\n",
      "[1] \"Processing file 34 from 153\"\n",
      "[1] \"Processing file 35 from 153\"\n",
      "[1] \"Processing file 36 from 153\"\n",
      "[1] \"Processing file 37 from 153\"\n",
      "[1] \"Processing file 38 from 153\"\n",
      "[1] \"Processing file 39 from 153\"\n",
      "[1] \"Processing file 40 from 153\"\n",
      "[1] \"Processing file 41 from 153\"\n",
      "[1] \"Processing file 42 from 153\"\n",
      "[1] \"Processing file 43 from 153\"\n",
      "[1] \"Processing file 44 from 153\"\n",
      "[1] \"Processing file 45 from 153\"\n",
      "[1] \"Processing file 46 from 153\"\n",
      "[1] \"Processing file 47 from 153\"\n",
      "[1] \"Processing file 48 from 153\"\n",
      "[1] \"Processing file 49 from 153\"\n",
      "[1] \"Processing file 50 from 153\"\n",
      "[1] \"Processing file 51 from 153\"\n",
      "[1] \"Processing file 52 from 153\"\n",
      "[1] \"Processing file 53 from 153\"\n",
      "[1] \"Processing file 54 from 153\"\n",
      "[1] \"Processing file 55 from 153\"\n",
      "[1] \"Processing file 56 from 153\"\n",
      "[1] \"Processing file 57 from 153\"\n",
      "[1] \"Processing file 58 from 153\"\n",
      "[1] \"Processing file 59 from 153\"\n",
      "[1] \"Processing file 60 from 153\"\n",
      "[1] \"Processing file 61 from 153\"\n",
      "[1] \"Processing file 62 from 153\"\n",
      "[1] \"Processing file 63 from 153\"\n",
      "[1] \"Processing file 64 from 153\"\n",
      "[1] \"Processing file 65 from 153\"\n",
      "[1] \"Processing file 66 from 153\"\n",
      "[1] \"Processing file 67 from 153\"\n",
      "[1] \"Processing file 68 from 153\"\n",
      "[1] \"Processing file 69 from 153\"\n",
      "[1] \"Processing file 70 from 153\"\n",
      "[1] \"Processing file 71 from 153\"\n",
      "[1] \"Processing file 72 from 153\"\n",
      "[1] \"Processing file 73 from 153\"\n",
      "[1] \"Processing file 74 from 153\"\n",
      "[1] \"Processing file 75 from 153\"\n",
      "[1] \"Processing file 76 from 153\"\n",
      "[1] \"Processing file 77 from 153\"\n",
      "[1] \"Processing file 78 from 153\"\n",
      "[1] \"Processing file 79 from 153\"\n",
      "[1] \"Processing file 80 from 153\"\n",
      "[1] \"Processing file 81 from 153\"\n",
      "[1] \"Processing file 82 from 153\"\n",
      "[1] \"Processing file 83 from 153\"\n",
      "[1] \"Processing file 84 from 153\"\n",
      "[1] \"Processing file 85 from 153\"\n",
      "[1] \"Processing file 86 from 153\"\n",
      "[1] \"Processing file 87 from 153\"\n",
      "[1] \"Processing file 88 from 153\"\n",
      "[1] \"Processing file 89 from 153\"\n",
      "[1] \"Processing file 90 from 153\"\n",
      "[1] \"Processing file 91 from 153\"\n",
      "[1] \"Processing file 92 from 153\"\n",
      "[1] \"Processing file 93 from 153\"\n",
      "[1] \"Processing file 94 from 153\"\n",
      "[1] \"Processing file 95 from 153\"\n",
      "[1] \"Processing file 96 from 153\"\n",
      "[1] \"Processing file 97 from 153\"\n",
      "[1] \"Processing file 98 from 153\"\n",
      "[1] \"Processing file 99 from 153\"\n",
      "[1] \"Processing file 100 from 153\"\n",
      "[1] \"Processing file 101 from 153\"\n",
      "[1] \"Processing file 102 from 153\"\n",
      "[1] \"Processing file 103 from 153\"\n",
      "[1] \"Processing file 104 from 153\"\n",
      "[1] \"Processing file 105 from 153\"\n",
      "[1] \"Processing file 106 from 153\"\n",
      "[1] \"Processing file 107 from 153\"\n",
      "[1] \"Processing file 108 from 153\"\n",
      "[1] \"Processing file 109 from 153\"\n",
      "[1] \"Processing file 110 from 153\"\n",
      "[1] \"Processing file 111 from 153\"\n",
      "[1] \"Processing file 112 from 153\"\n",
      "[1] \"Processing file 113 from 153\"\n",
      "[1] \"Processing file 114 from 153\"\n",
      "[1] \"Processing file 115 from 153\"\n",
      "[1] \"Processing file 116 from 153\"\n",
      "[1] \"Processing file 117 from 153\"\n",
      "[1] \"Processing file 118 from 153\"\n",
      "[1] \"Processing file 119 from 153\"\n",
      "[1] \"Processing file 120 from 153\"\n",
      "[1] \"Processing file 121 from 153\"\n",
      "[1] \"Processing file 122 from 153\"\n",
      "[1] \"Processing file 123 from 153\"\n",
      "[1] \"Processing file 124 from 153\"\n",
      "[1] \"Processing file 125 from 153\"\n",
      "[1] \"Processing file 126 from 153\"\n",
      "[1] \"Processing file 127 from 153\"\n",
      "[1] \"Processing file 128 from 153\"\n",
      "[1] \"Processing file 129 from 153\"\n",
      "[1] \"Processing file 130 from 153\"\n",
      "[1] \"Processing file 131 from 153\"\n",
      "[1] \"Processing file 132 from 153\"\n",
      "[1] \"Processing file 133 from 153\"\n",
      "[1] \"Processing file 134 from 153\"\n",
      "[1] \"Processing file 135 from 153\"\n",
      "[1] \"Processing file 136 from 153\"\n",
      "[1] \"Processing file 137 from 153\"\n",
      "[1] \"Processing file 138 from 153\"\n",
      "[1] \"Processing file 139 from 153\"\n",
      "[1] \"Processing file 140 from 153\"\n",
      "[1] \"Processing file 141 from 153\"\n",
      "[1] \"Processing file 142 from 153\"\n",
      "[1] \"Processing file 143 from 153\"\n",
      "[1] \"Processing file 144 from 153\"\n",
      "[1] \"Processing file 145 from 153\"\n",
      "[1] \"Processing file 146 from 153\"\n",
      "[1] \"Processing file 147 from 153\"\n",
      "[1] \"Processing file 148 from 153\"\n",
      "[1] \"Processing file 149 from 153\"\n",
      "[1] \"Processing file 150 from 153\"\n",
      "[1] \"Processing file 151 from 153\"\n",
      "[1] \"Processing file 152 from 153\"\n",
      "[1] \"Processing file 153 from 153\"\n"
     ]
    }
   ],
   "source": [
    "for (i in 1:lf) {\n",
    "  # progress indicator\n",
    "  print(paste(\"Processing file\",i,\"from\",length(f),sep=\" \"))\n",
    "  # open netCDF file\n",
    "  data<-nc_open(paste('DATA_raw/SeaWIFs_PAR_monthly/',f[i],sep=''))\n",
    "  # extract data\n",
    "  lon<-ncvar_get(data,\"lon\")\n",
    "  lat<-ncvar_get(data,\"lat\")\n",
    "  value<-ncvar_get(data,var)\n",
    "  unit<-ncatt_get(data,var,\"units\")$value\n",
    "  # matrix to data.frame\n",
    "  dimnames(value)<-list(lon=lon,lat=lat)\n",
    "  dat.var<-melt(value,id=\"lon\")\n",
    "  # select data from the study area taking out missing data\n",
    "  dat.varSAtmp<-subset(dat.var,lon<=lonmax & lon>=lonmin & lat<=latmax & lat>=latmin)\n",
    "  # extract date information\n",
    "  dateini<-ncatt_get(data,0,\"time_coverage_start\")$value\n",
    "  dateend<-ncatt_get(data,0,\"time_coverage_end\")$value\n",
    "  datemean<-mean(c(as.Date(dateend,\"%Y-%m-%dT%H:%M:%OSZ\"),as.Date(dateini,\"%Y-%m-%dT%H:%M:%OSZ\")))\n",
    "  year<- substring(datemean,0,4) #1997 + ((i+6)/12)#\n",
    "  month<- substring(datemean,6,7) #i+6 #\n",
    "  # prepare final data set\n",
    "  dat.varSA<-data.frame(rep(as.integer(year,nrow(dat.varSAtmp))),rep(as.integer(month,nrow(dat.varSAtmp))),\n",
    "                        dat.varSAtmp,rep(unit,nrow(dat.varSAtmp)),rep(var,nrow(dat.varSAtmp)))\n",
    "  names(dat.varSA)<-c(\"year\",\"month\",\"lon\",\"lat\",\"value\",\"unit\",\"var\")\n",
    "  # save csv file\n",
    "  fe<-file.exists(paste('DATA_processed/','SeaWIFs_monthly_extracted.csv',sep=''))\n",
    "  write.table(dat.varSA,paste('DATA_processed/','SeaWIFs_monthly_extracted.csv',sep=''),row.names=FALSE,col.names=!fe,sep=\",\",dec=\".\",append=fe)\n",
    "  # close connection\n",
    "  nc_close(data)\n",
    "  # clean workspace\n",
    "  rm(data,lon,lat,value,unit,dat.var,dat.varSAtmp,dateini,dateend,datemean,year,month,dat.varSA,fe)\n",
    "}\n",
    "rm(var,f,i,latmax,latmin,lf,lonmax,lonmin)"
   ]
  },
  {
   "cell_type": "code",
   "execution_count": null,
   "metadata": {},
   "outputs": [],
   "source": []
  }
 ],
 "metadata": {
  "kernelspec": {
   "display_name": "R",
   "language": "R",
   "name": "ir"
  },
  "language_info": {
   "codemirror_mode": "r",
   "file_extension": ".r",
   "mimetype": "text/x-r-source",
   "name": "R",
   "pygments_lexer": "r",
   "version": "3.5.1"
  }
 },
 "nbformat": 4,
 "nbformat_minor": 2
}
