{
 "cells": [
  {
   "cell_type": "markdown",
   "metadata": {},
   "source": [
    "# Read CTDdat.ncdf \n",
    "\n",
    "this R notebook reads (and cleans up) the CTD ncdf file that is provided on  \n",
    "  \n",
    "https://www.bco-dmo.org/dataset/3092\n",
    "\n",
    "This .ncdf file is a collection of monthly CTD runs at CARIACO Ocean Time Series Station."
   ]
  },
  {
   "cell_type": "code",
   "execution_count": 1,
   "metadata": {},
   "outputs": [
    {
     "name": "stderr",
     "output_type": "stream",
     "text": [
      "Loading required package: dplyr\n",
      "Loading required package: cowplot\n",
      "Loading required package: ggplot2\n",
      "Loading required package: chron\n",
      "Loading required package: ncdf4\n"
     ]
    }
   ],
   "source": [
    "require(dplyr, warn.conflicts = FALSE);\n",
    "#require(ggplot2);\n",
    "require(cowplot, warn.conflicts = FALSE); # for nicer plots, includes ggplot2\n",
    "require(chron, warn.conflicts = FALSE);\n",
    "require(ncdf4, warn.conflicts = FALSE);"
   ]
  },
  {
   "cell_type": "code",
   "execution_count": 2,
   "metadata": {},
   "outputs": [
    {
     "name": "stdout",
     "output_type": "stream",
     "text": [
      "File DATA_raw/CTD.netcdf (NC_FORMAT_CLASSIC):\n",
      "\n",
      "     19 variables (excluding dimension variables):\n",
      "        char Cruise_ID[maxlen_,unlimited]   \n",
      "        double lon[unlimited]   \n",
      "        double lat[unlimited]   \n",
      "        double Date[unlimited]   \n",
      "        double Year[unlimited]   \n",
      "        double Month[unlimited]   \n",
      "        double press[unlimited]   \n",
      "        double depth[unlimited]   \n",
      "        double temp[unlimited]   \n",
      "        double sal[unlimited]   \n",
      "        double potemp[unlimited]   \n",
      "        double sigma_t[unlimited]   \n",
      "        double sigma_0[unlimited]   \n",
      "        double O2_ml_L[unlimited]   \n",
      "        double O2_umol_kg[unlimited]   \n",
      "        char beam_cp[maxlen_,unlimited]   \n",
      "        char beam_att[maxlen_,unlimited]   \n",
      "        char fluor_CTD[maxlen_,unlimited]   \n",
      "        char fluor_chla[maxlen_,unlimited]   \n",
      "\n",
      "     2 dimensions:\n",
      "        unlimited  Size:250474   *** is unlimited ***\n",
      "        maxlen_  Size:513\n"
     ]
    }
   ],
   "source": [
    "nctdname <- \"DATA_raw/CTD.netcdf\"\n",
    "# open a NetCDF file\n",
    "nctdin <- nc_open(nctdname)\n",
    "\n",
    "print(nctdin)\n",
    "\n",
    "CruiseID <- ncvar_get(nctdin,\"Cruise_ID\")\n",
    "date <- ncvar_get(nctdin,\"Date\")\n",
    "month <- ncvar_get(nctdin,\"Month\")\n",
    "press <- ncvar_get(nctdin,\"press\")\n",
    "depth <- ncvar_get(nctdin,\"depth\")\n",
    "sigma_t <- ncvar_get(nctdin,\"sigma_t\")\n",
    "sigma_0 <- ncvar_get(nctdin, \"sigma_0\")\n",
    "potemp <- ncvar_get(nctdin, \"potemp\")\n",
    "sal <- ncvar_get(nctdin, \"sal\")\n",
    "temp <- ncvar_get(nctdin, \"temp\")\n",
    "lat <- ncvar_get(nctdin, \"lat\")\n",
    "lon <- ncvar_get(nctdin, \"lon\")\n",
    "beam_att <- ncvar_get(nctdin, \"beam_att\")\n",
    "beam_cp <- ncvar_get(nctdin, \"beam_cp\")\n",
    "fluor_chla <- ncvar_get(nctdin, \"fluor_chla\")\n",
    "\n",
    "nc_close(nctdin)"
   ]
  },
  {
   "cell_type": "code",
   "execution_count": 3,
   "metadata": {},
   "outputs": [
    {
     "data": {
      "text/html": [
       "<table>\n",
       "<thead><tr><th scope=col>CruiseID</th><th scope=col>Date</th><th scope=col>month</th><th scope=col>days</th><th scope=col>press</th><th scope=col>depth</th><th scope=col>lat</th><th scope=col>lon</th><th scope=col>sigma_t</th><th scope=col>sigma_0</th><th scope=col>potemp</th><th scope=col>sal</th><th scope=col>temp</th><th scope=col>beam_att</th><th scope=col>beam_cp</th><th scope=col>fluor_chla</th></tr></thead>\n",
       "<tbody>\n",
       "\t<tr><td>93HG_001  </td><td>1995-11-08</td><td>11        </td><td>311       </td><td> 2.011    </td><td> 2        </td><td>10.5      </td><td>-64.67    </td><td>23.764    </td><td>23.764    </td><td>27.522    </td><td>36.612    </td><td>27.522    </td><td>NA        </td><td>NA        </td><td>NA        </td></tr>\n",
       "\t<tr><td>93HG_001  </td><td>1995-11-08</td><td>11        </td><td>311       </td><td> 4.023    </td><td> 4        </td><td>10.5      </td><td>-64.67    </td><td>23.775    </td><td>23.775    </td><td>27.488    </td><td>36.612    </td><td>27.489    </td><td>NA        </td><td>NA        </td><td>NA        </td></tr>\n",
       "\t<tr><td>93HG_001  </td><td>1995-11-08</td><td>11        </td><td>311       </td><td> 6.034    </td><td> 6        </td><td>10.5      </td><td>-64.67    </td><td>23.782    </td><td>23.782    </td><td>27.464    </td><td>36.614    </td><td>27.465    </td><td>NA        </td><td>NA        </td><td>NA        </td></tr>\n",
       "\t<tr><td>93HG_001  </td><td>1995-11-08</td><td>11        </td><td>311       </td><td> 8.046    </td><td> 8        </td><td>10.5      </td><td>-64.67    </td><td>23.786    </td><td>23.787    </td><td>27.456    </td><td>36.613    </td><td>27.458    </td><td>NA        </td><td>NA        </td><td>NA        </td></tr>\n",
       "\t<tr><td>93HG_001  </td><td>1995-11-08</td><td>11        </td><td>311       </td><td>10.057    </td><td>10        </td><td>10.5      </td><td>-64.67    </td><td>23.787    </td><td>23.787    </td><td>27.452    </td><td>36.613    </td><td>27.454    </td><td>NA        </td><td>NA        </td><td>NA        </td></tr>\n",
       "\t<tr><td>93HG_001  </td><td>1995-11-08</td><td>11        </td><td>311       </td><td>12.069    </td><td>12        </td><td>10.5      </td><td>-64.67    </td><td>23.787    </td><td>23.788    </td><td>27.449    </td><td>36.612    </td><td>27.452    </td><td>NA        </td><td>NA        </td><td>NA        </td></tr>\n",
       "</tbody>\n",
       "</table>\n"
      ],
      "text/latex": [
       "\\begin{tabular}{r|llllllllllllllll}\n",
       " CruiseID & Date & month & days & press & depth & lat & lon & sigma\\_t & sigma\\_0 & potemp & sal & temp & beam\\_att & beam\\_cp & fluor\\_chla\\\\\n",
       "\\hline\n",
       "\t 93HG\\_001 & 1995-11-08 & 11         & 311        &  2.011     &  2         & 10.5       & -64.67     & 23.764     & 23.764     & 27.522     & 36.612     & 27.522     & NA         & NA         & NA        \\\\\n",
       "\t 93HG\\_001 & 1995-11-08 & 11         & 311        &  4.023     &  4         & 10.5       & -64.67     & 23.775     & 23.775     & 27.488     & 36.612     & 27.489     & NA         & NA         & NA        \\\\\n",
       "\t 93HG\\_001 & 1995-11-08 & 11         & 311        &  6.034     &  6         & 10.5       & -64.67     & 23.782     & 23.782     & 27.464     & 36.614     & 27.465     & NA         & NA         & NA        \\\\\n",
       "\t 93HG\\_001 & 1995-11-08 & 11         & 311        &  8.046     &  8         & 10.5       & -64.67     & 23.786     & 23.787     & 27.456     & 36.613     & 27.458     & NA         & NA         & NA        \\\\\n",
       "\t 93HG\\_001 & 1995-11-08 & 11         & 311        & 10.057     & 10         & 10.5       & -64.67     & 23.787     & 23.787     & 27.452     & 36.613     & 27.454     & NA         & NA         & NA        \\\\\n",
       "\t 93HG\\_001 & 1995-11-08 & 11         & 311        & 12.069     & 12         & 10.5       & -64.67     & 23.787     & 23.788     & 27.449     & 36.612     & 27.452     & NA         & NA         & NA        \\\\\n",
       "\\end{tabular}\n"
      ],
      "text/markdown": [
       "\n",
       "CruiseID | Date | month | days | press | depth | lat | lon | sigma_t | sigma_0 | potemp | sal | temp | beam_att | beam_cp | fluor_chla | \n",
       "|---|---|---|---|---|---|\n",
       "| 93HG_001   | 1995-11-08 | 11         | 311        |  2.011     |  2         | 10.5       | -64.67     | 23.764     | 23.764     | 27.522     | 36.612     | 27.522     | NA         | NA         | NA         | \n",
       "| 93HG_001   | 1995-11-08 | 11         | 311        |  4.023     |  4         | 10.5       | -64.67     | 23.775     | 23.775     | 27.488     | 36.612     | 27.489     | NA         | NA         | NA         | \n",
       "| 93HG_001   | 1995-11-08 | 11         | 311        |  6.034     |  6         | 10.5       | -64.67     | 23.782     | 23.782     | 27.464     | 36.614     | 27.465     | NA         | NA         | NA         | \n",
       "| 93HG_001   | 1995-11-08 | 11         | 311        |  8.046     |  8         | 10.5       | -64.67     | 23.786     | 23.787     | 27.456     | 36.613     | 27.458     | NA         | NA         | NA         | \n",
       "| 93HG_001   | 1995-11-08 | 11         | 311        | 10.057     | 10         | 10.5       | -64.67     | 23.787     | 23.787     | 27.452     | 36.613     | 27.454     | NA         | NA         | NA         | \n",
       "| 93HG_001   | 1995-11-08 | 11         | 311        | 12.069     | 12         | 10.5       | -64.67     | 23.787     | 23.788     | 27.449     | 36.612     | 27.452     | NA         | NA         | NA         | \n",
       "\n",
       "\n"
      ],
      "text/plain": [
       "  CruiseID Date       month days press  depth lat  lon    sigma_t sigma_0\n",
       "1 93HG_001 1995-11-08 11    311   2.011  2    10.5 -64.67 23.764  23.764 \n",
       "2 93HG_001 1995-11-08 11    311   4.023  4    10.5 -64.67 23.775  23.775 \n",
       "3 93HG_001 1995-11-08 11    311   6.034  6    10.5 -64.67 23.782  23.782 \n",
       "4 93HG_001 1995-11-08 11    311   8.046  8    10.5 -64.67 23.786  23.787 \n",
       "5 93HG_001 1995-11-08 11    311  10.057 10    10.5 -64.67 23.787  23.787 \n",
       "6 93HG_001 1995-11-08 11    311  12.069 12    10.5 -64.67 23.787  23.788 \n",
       "  potemp sal    temp   beam_att beam_cp fluor_chla\n",
       "1 27.522 36.612 27.522 NA       NA      NA        \n",
       "2 27.488 36.612 27.489 NA       NA      NA        \n",
       "3 27.464 36.614 27.465 NA       NA      NA        \n",
       "4 27.456 36.613 27.458 NA       NA      NA        \n",
       "5 27.452 36.613 27.454 NA       NA      NA        \n",
       "6 27.449 36.612 27.452 NA       NA      NA        "
      ]
     },
     "metadata": {},
     "output_type": "display_data"
    }
   ],
   "source": [
    "# date format\n",
    "DateString <- date\n",
    "Date <- as.POSIXlt(as.character(date), format=\"%Y%m%d\")\n",
    "\n",
    "days <- Date$yday\n",
    "\n",
    "# reformat NAs\n",
    "press[press<0] <- NA\n",
    "sigma_t[sigma_t<0] <- NA\n",
    "sigma_0[sigma_0<0] <- NA\n",
    "potemp[potemp<0] <- NA\n",
    "sal[sal<0] <- NA\n",
    "temp[temp<0] <- NA\n",
    "beam_att[beam_att<0] <- NA\n",
    "beam_cp[beam_cp<0] <- NA\n",
    "fluor_chla[fluor_chla<0] <- NA\n",
    "\n",
    "press[press>1e30] <- NA\n",
    "sigma_t[sigma_t>1e30] <- NA\n",
    "sigma_0[sigma_0>1e30] <- NA\n",
    "potemp[potemp>1e30] <- NA\n",
    "sal[sal>1e30] <- NA\n",
    "temp[temp>1e30] <- NA\n",
    "beam_att[beam_att>1e30] <- NA\n",
    "beam_cp[beam_cp>1e30] <- NA\n",
    "fluor_chla[fluor_chla>1e30] <- NA\n",
    "\n",
    "# create data.frame (without NAs)\n",
    "CTDdat <- data.frame(CruiseID,Date,month,days,press,depth,lat,lon,sigma_t,sigma_0,potemp,sal,temp,beam_att,beam_cp,fluor_chla)\n",
    "head(CTDdat)"
   ]
  },
  {
   "cell_type": "code",
   "execution_count": 4,
   "metadata": {},
   "outputs": [
    {
     "data": {
      "text/html": [
       "<table>\n",
       "<thead><tr><th></th><th scope=col>CruiseID</th><th scope=col>Date</th><th scope=col>month</th><th scope=col>days</th><th scope=col>press</th><th scope=col>depth</th><th scope=col>lat</th><th scope=col>lon</th><th scope=col>sigma_t</th><th scope=col>sigma_0</th><th scope=col>potemp</th><th scope=col>sal</th><th scope=col>temp</th><th scope=col>beam_att</th><th scope=col>beam_cp</th><th scope=col>fluor_chla</th></tr></thead>\n",
       "<tbody>\n",
       "\t<tr><th scope=row>250469</th><td>93HG_199  </td><td>2013-03-13</td><td>3         </td><td>71        </td><td>1318      </td><td>1306.393  </td><td>10.5      </td><td>-64.67    </td><td>26.411    </td><td>26.466    </td><td>17.061    </td><td>36.259    </td><td>17.288    </td><td>0.030     </td><td>0.394     </td><td>NA        </td></tr>\n",
       "\t<tr><th scope=row>250470</th><td>93HG_199  </td><td>2013-03-13</td><td>3         </td><td>71        </td><td>1319      </td><td>1307.381  </td><td>10.5      </td><td>-64.67    </td><td>26.411    </td><td>26.466    </td><td>17.061    </td><td>36.259    </td><td>17.288    </td><td>0.031     </td><td>0.395     </td><td>NA        </td></tr>\n",
       "\t<tr><th scope=row>250471</th><td>93HG_199  </td><td>2013-03-13</td><td>3         </td><td>71        </td><td>1320      </td><td>1308.369  </td><td>10.5      </td><td>-64.67    </td><td>26.411    </td><td>26.466    </td><td>17.060    </td><td>36.258    </td><td>17.289    </td><td>0.030     </td><td>0.394     </td><td>NA        </td></tr>\n",
       "\t<tr><th scope=row>250472</th><td>93HG_199  </td><td>2013-03-13</td><td>3         </td><td>71        </td><td>1321      </td><td>1309.357  </td><td>10.5      </td><td>-64.67    </td><td>26.411    </td><td>26.466    </td><td>17.060    </td><td>36.259    </td><td>17.289    </td><td>0.030     </td><td>0.394     </td><td>NA        </td></tr>\n",
       "\t<tr><th scope=row>250473</th><td>93HG_199  </td><td>2013-03-13</td><td>3         </td><td>71        </td><td>1322      </td><td>1310.345  </td><td>10.5      </td><td>-64.67    </td><td>26.411    </td><td>26.466    </td><td>17.060    </td><td>36.258    </td><td>17.289    </td><td>0.032     </td><td>0.396     </td><td>NA        </td></tr>\n",
       "\t<tr><th scope=row>250474</th><td>93HG_199  </td><td>2013-03-13</td><td>3         </td><td>71        </td><td>1323      </td><td>1311.333  </td><td>10.5      </td><td>-64.67    </td><td>26.411    </td><td>26.466    </td><td>17.060    </td><td>36.258    </td><td>17.289    </td><td>0.030     </td><td>0.394     </td><td>NA        </td></tr>\n",
       "</tbody>\n",
       "</table>\n"
      ],
      "text/latex": [
       "\\begin{tabular}{r|llllllllllllllll}\n",
       "  & CruiseID & Date & month & days & press & depth & lat & lon & sigma\\_t & sigma\\_0 & potemp & sal & temp & beam\\_att & beam\\_cp & fluor\\_chla\\\\\n",
       "\\hline\n",
       "\t250469 & 93HG\\_199 & 2013-03-13 & 3          & 71         & 1318       & 1306.393   & 10.5       & -64.67     & 26.411     & 26.466     & 17.061     & 36.259     & 17.288     & 0.030      & 0.394      & NA        \\\\\n",
       "\t250470 & 93HG\\_199 & 2013-03-13 & 3          & 71         & 1319       & 1307.381   & 10.5       & -64.67     & 26.411     & 26.466     & 17.061     & 36.259     & 17.288     & 0.031      & 0.395      & NA        \\\\\n",
       "\t250471 & 93HG\\_199 & 2013-03-13 & 3          & 71         & 1320       & 1308.369   & 10.5       & -64.67     & 26.411     & 26.466     & 17.060     & 36.258     & 17.289     & 0.030      & 0.394      & NA        \\\\\n",
       "\t250472 & 93HG\\_199 & 2013-03-13 & 3          & 71         & 1321       & 1309.357   & 10.5       & -64.67     & 26.411     & 26.466     & 17.060     & 36.259     & 17.289     & 0.030      & 0.394      & NA        \\\\\n",
       "\t250473 & 93HG\\_199 & 2013-03-13 & 3          & 71         & 1322       & 1310.345   & 10.5       & -64.67     & 26.411     & 26.466     & 17.060     & 36.258     & 17.289     & 0.032      & 0.396      & NA        \\\\\n",
       "\t250474 & 93HG\\_199 & 2013-03-13 & 3          & 71         & 1323       & 1311.333   & 10.5       & -64.67     & 26.411     & 26.466     & 17.060     & 36.258     & 17.289     & 0.030      & 0.394      & NA        \\\\\n",
       "\\end{tabular}\n"
      ],
      "text/markdown": [
       "\n",
       "| <!--/--> | CruiseID | Date | month | days | press | depth | lat | lon | sigma_t | sigma_0 | potemp | sal | temp | beam_att | beam_cp | fluor_chla | \n",
       "|---|---|---|---|---|---|\n",
       "| 250469 | 93HG_199   | 2013-03-13 | 3          | 71         | 1318       | 1306.393   | 10.5       | -64.67     | 26.411     | 26.466     | 17.061     | 36.259     | 17.288     | 0.030      | 0.394      | NA         | \n",
       "| 250470 | 93HG_199   | 2013-03-13 | 3          | 71         | 1319       | 1307.381   | 10.5       | -64.67     | 26.411     | 26.466     | 17.061     | 36.259     | 17.288     | 0.031      | 0.395      | NA         | \n",
       "| 250471 | 93HG_199   | 2013-03-13 | 3          | 71         | 1320       | 1308.369   | 10.5       | -64.67     | 26.411     | 26.466     | 17.060     | 36.258     | 17.289     | 0.030      | 0.394      | NA         | \n",
       "| 250472 | 93HG_199   | 2013-03-13 | 3          | 71         | 1321       | 1309.357   | 10.5       | -64.67     | 26.411     | 26.466     | 17.060     | 36.259     | 17.289     | 0.030      | 0.394      | NA         | \n",
       "| 250473 | 93HG_199   | 2013-03-13 | 3          | 71         | 1322       | 1310.345   | 10.5       | -64.67     | 26.411     | 26.466     | 17.060     | 36.258     | 17.289     | 0.032      | 0.396      | NA         | \n",
       "| 250474 | 93HG_199   | 2013-03-13 | 3          | 71         | 1323       | 1311.333   | 10.5       | -64.67     | 26.411     | 26.466     | 17.060     | 36.258     | 17.289     | 0.030      | 0.394      | NA         | \n",
       "\n",
       "\n"
      ],
      "text/plain": [
       "       CruiseID Date       month days press depth    lat  lon    sigma_t\n",
       "250469 93HG_199 2013-03-13 3     71   1318  1306.393 10.5 -64.67 26.411 \n",
       "250470 93HG_199 2013-03-13 3     71   1319  1307.381 10.5 -64.67 26.411 \n",
       "250471 93HG_199 2013-03-13 3     71   1320  1308.369 10.5 -64.67 26.411 \n",
       "250472 93HG_199 2013-03-13 3     71   1321  1309.357 10.5 -64.67 26.411 \n",
       "250473 93HG_199 2013-03-13 3     71   1322  1310.345 10.5 -64.67 26.411 \n",
       "250474 93HG_199 2013-03-13 3     71   1323  1311.333 10.5 -64.67 26.411 \n",
       "       sigma_0 potemp sal    temp   beam_att beam_cp fluor_chla\n",
       "250469 26.466  17.061 36.259 17.288 0.030    0.394   NA        \n",
       "250470 26.466  17.061 36.259 17.288 0.031    0.395   NA        \n",
       "250471 26.466  17.060 36.258 17.289 0.030    0.394   NA        \n",
       "250472 26.466  17.060 36.259 17.289 0.030    0.394   NA        \n",
       "250473 26.466  17.060 36.258 17.289 0.032    0.396   NA        \n",
       "250474 26.466  17.060 36.258 17.289 0.030    0.394   NA        "
      ]
     },
     "metadata": {},
     "output_type": "display_data"
    }
   ],
   "source": [
    "tail(CTDdat)"
   ]
  },
  {
   "cell_type": "code",
   "execution_count": 5,
   "metadata": {},
   "outputs": [],
   "source": [
    "# Write CSV in R\n",
    "write.csv(CTDdat, file = \"DATA_processed/CTDdat_processed.csv\")"
   ]
  },
  {
   "cell_type": "code",
   "execution_count": null,
   "metadata": {},
   "outputs": [],
   "source": []
  },
  {
   "cell_type": "code",
   "execution_count": null,
   "metadata": {},
   "outputs": [],
   "source": []
  },
  {
   "cell_type": "code",
   "execution_count": null,
   "metadata": {},
   "outputs": [],
   "source": []
  },
  {
   "cell_type": "code",
   "execution_count": null,
   "metadata": {},
   "outputs": [],
   "source": []
  },
  {
   "cell_type": "code",
   "execution_count": null,
   "metadata": {},
   "outputs": [],
   "source": []
  }
 ],
 "metadata": {
  "kernelspec": {
   "display_name": "R",
   "language": "R",
   "name": "ir"
  },
  "language_info": {
   "codemirror_mode": "r",
   "file_extension": ".r",
   "mimetype": "text/x-r-source",
   "name": "R",
   "pygments_lexer": "r",
   "version": "3.5.1"
  }
 },
 "nbformat": 4,
 "nbformat_minor": 2
}
