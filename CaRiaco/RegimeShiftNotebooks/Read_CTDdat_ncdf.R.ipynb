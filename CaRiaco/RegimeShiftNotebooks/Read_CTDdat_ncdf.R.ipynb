{
 "cells": [
  {
   "cell_type": "markdown",
   "metadata": {},
   "source": [
    "# Read CTDdat.ncdf \n",
    "\n",
    "this R notebook reads (and cleans up) the CTD ncdf file that is provided on  \n",
    "  \n",
    "https://www.bco-dmo.org/dataset/3092\n",
    "\n",
    "This .ncdf file is a collection of monthly CTD runs at CARIACO Ocean Time Series Station."
   ]
  },
  {
   "cell_type": "code",
   "execution_count": 1,
   "metadata": {},
   "outputs": [
    {
     "name": "stderr",
     "output_type": "stream",
     "text": [
      "Loading required package: dplyr\n",
      "Loading required package: cowplot\n",
      "Loading required package: ggplot2\n",
      "Loading required package: chron\n",
      "Loading required package: ncdf4\n"
     ]
    }
   ],
   "source": [
    "require(dplyr, warn.conflicts = FALSE);\n",
    "#require(ggplot2);\n",
    "require(cowplot, warn.conflicts = FALSE); # for nicer plots, includes ggplot2\n",
    "require(chron, warn.conflicts = FALSE);\n",
    "require(ncdf4, warn.conflicts = FALSE);"
   ]
  },
  {
   "cell_type": "code",
   "execution_count": 7,
   "metadata": {},
   "outputs": [
    {
     "name": "stdout",
     "output_type": "stream",
     "text": [
      "File DATA_raw/CTD.netcdf (NC_FORMAT_CLASSIC):\n",
      "\n",
      "     19 variables (excluding dimension variables):\n",
      "        char Cruise_ID[maxlen_,unlimited]   \n",
      "        double lon[unlimited]   \n",
      "        double lat[unlimited]   \n",
      "        double Date[unlimited]   \n",
      "        double Year[unlimited]   \n",
      "        double Month[unlimited]   \n",
      "        double press[unlimited]   \n",
      "        double depth[unlimited]   \n",
      "        double temp[unlimited]   \n",
      "        double sal[unlimited]   \n",
      "        double potemp[unlimited]   \n",
      "        double sigma_t[unlimited]   \n",
      "        double sigma_0[unlimited]   \n",
      "        double O2_ml_L[unlimited]   \n",
      "        double O2_umol_kg[unlimited]   \n",
      "        char beam_cp[maxlen_,unlimited]   \n",
      "        char beam_att[maxlen_,unlimited]   \n",
      "        char fluor_CTD[maxlen_,unlimited]   \n",
      "        char fluor_chla[maxlen_,unlimited]   \n",
      "\n",
      "     2 dimensions:\n",
      "        unlimited  Size:250474   *** is unlimited ***\n",
      "        maxlen_  Size:513\n"
     ]
    }
   ],
   "source": [
    "nctdname <- \"DATA_raw/CTD.netcdf\"\n",
    "# open a NetCDF file\n",
    "nctdin <- nc_open(nctdname)\n",
    "\n",
    "print(nctdin)\n",
    "\n",
    "CruiseID <- ncvar_get(nctdin,\"Cruise_ID\")\n",
    "date <- ncvar_get(nctdin,\"Date\")\n",
    "month <- ncvar_get(nctdin,\"Month\")\n",
    "press <- ncvar_get(nctdin,\"press\")\n",
    "sigma_t <- ncvar_get(nctdin,\"sigma_t\")\n",
    "sigma_0 <- ncvar_get(nctdin, \"sigma_0\")\n",
    "potemp <- ncvar_get(nctdin, \"potemp\")\n",
    "sal <- ncvar_get(nctdin, \"sal\")\n",
    "temp <- ncvar_get(nctdin, \"temp\")\n",
    "lat <- ncvar_get(nctdin, \"lat\")\n",
    "lon <- ncvar_get(nctdin, \"lon\")\n",
    "beam_att <- ncvar_get(nctdin, \"beam_att\")\n",
    "beam_cp <- ncvar_get(nctdin, \"beam_cp\")\n",
    "fluor_chla <- ncvar_get(nctdin, \"fluor_chla\")\n",
    "\n",
    "nc_close(nctdin)"
   ]
  },
  {
   "cell_type": "code",
   "execution_count": 9,
   "metadata": {},
   "outputs": [
    {
     "data": {
      "text/html": [
       "<table>\n",
       "<thead><tr><th scope=col>CruiseID</th><th scope=col>Date</th><th scope=col>month</th><th scope=col>days</th><th scope=col>press</th><th scope=col>lat</th><th scope=col>lon</th><th scope=col>sigma_t</th><th scope=col>sigma_0</th><th scope=col>potemp</th><th scope=col>sal</th><th scope=col>temp</th><th scope=col>beam_att</th><th scope=col>beam_cp</th><th scope=col>fluor_chla</th></tr></thead>\n",
       "<tbody>\n",
       "\t<tr><td>93HG_001  </td><td>1995-11-08</td><td>11        </td><td>311       </td><td> 2.011    </td><td>10.5      </td><td>-64.67    </td><td>23.764    </td><td>23.764    </td><td>27.522    </td><td>36.612    </td><td>27.522    </td><td>NA        </td><td>NA        </td><td>NA        </td></tr>\n",
       "\t<tr><td>93HG_001  </td><td>1995-11-08</td><td>11        </td><td>311       </td><td> 4.023    </td><td>10.5      </td><td>-64.67    </td><td>23.775    </td><td>23.775    </td><td>27.488    </td><td>36.612    </td><td>27.489    </td><td>NA        </td><td>NA        </td><td>NA        </td></tr>\n",
       "\t<tr><td>93HG_001  </td><td>1995-11-08</td><td>11        </td><td>311       </td><td> 6.034    </td><td>10.5      </td><td>-64.67    </td><td>23.782    </td><td>23.782    </td><td>27.464    </td><td>36.614    </td><td>27.465    </td><td>NA        </td><td>NA        </td><td>NA        </td></tr>\n",
       "\t<tr><td>93HG_001  </td><td>1995-11-08</td><td>11        </td><td>311       </td><td> 8.046    </td><td>10.5      </td><td>-64.67    </td><td>23.786    </td><td>23.787    </td><td>27.456    </td><td>36.613    </td><td>27.458    </td><td>NA        </td><td>NA        </td><td>NA        </td></tr>\n",
       "\t<tr><td>93HG_001  </td><td>1995-11-08</td><td>11        </td><td>311       </td><td>10.057    </td><td>10.5      </td><td>-64.67    </td><td>23.787    </td><td>23.787    </td><td>27.452    </td><td>36.613    </td><td>27.454    </td><td>NA        </td><td>NA        </td><td>NA        </td></tr>\n",
       "\t<tr><td>93HG_001  </td><td>1995-11-08</td><td>11        </td><td>311       </td><td>12.069    </td><td>10.5      </td><td>-64.67    </td><td>23.787    </td><td>23.788    </td><td>27.449    </td><td>36.612    </td><td>27.452    </td><td>NA        </td><td>NA        </td><td>NA        </td></tr>\n",
       "</tbody>\n",
       "</table>\n"
      ],
      "text/latex": [
       "\\begin{tabular}{r|lllllllllllllll}\n",
       " CruiseID & Date & month & days & press & lat & lon & sigma\\_t & sigma\\_0 & potemp & sal & temp & beam\\_att & beam\\_cp & fluor\\_chla\\\\\n",
       "\\hline\n",
       "\t 93HG\\_001 & 1995-11-08 & 11         & 311        &  2.011     & 10.5       & -64.67     & 23.764     & 23.764     & 27.522     & 36.612     & 27.522     & NA         & NA         & NA        \\\\\n",
       "\t 93HG\\_001 & 1995-11-08 & 11         & 311        &  4.023     & 10.5       & -64.67     & 23.775     & 23.775     & 27.488     & 36.612     & 27.489     & NA         & NA         & NA        \\\\\n",
       "\t 93HG\\_001 & 1995-11-08 & 11         & 311        &  6.034     & 10.5       & -64.67     & 23.782     & 23.782     & 27.464     & 36.614     & 27.465     & NA         & NA         & NA        \\\\\n",
       "\t 93HG\\_001 & 1995-11-08 & 11         & 311        &  8.046     & 10.5       & -64.67     & 23.786     & 23.787     & 27.456     & 36.613     & 27.458     & NA         & NA         & NA        \\\\\n",
       "\t 93HG\\_001 & 1995-11-08 & 11         & 311        & 10.057     & 10.5       & -64.67     & 23.787     & 23.787     & 27.452     & 36.613     & 27.454     & NA         & NA         & NA        \\\\\n",
       "\t 93HG\\_001 & 1995-11-08 & 11         & 311        & 12.069     & 10.5       & -64.67     & 23.787     & 23.788     & 27.449     & 36.612     & 27.452     & NA         & NA         & NA        \\\\\n",
       "\\end{tabular}\n"
      ],
      "text/markdown": [
       "\n",
       "CruiseID | Date | month | days | press | lat | lon | sigma_t | sigma_0 | potemp | sal | temp | beam_att | beam_cp | fluor_chla | \n",
       "|---|---|---|---|---|---|\n",
       "| 93HG_001   | 1995-11-08 | 11         | 311        |  2.011     | 10.5       | -64.67     | 23.764     | 23.764     | 27.522     | 36.612     | 27.522     | NA         | NA         | NA         | \n",
       "| 93HG_001   | 1995-11-08 | 11         | 311        |  4.023     | 10.5       | -64.67     | 23.775     | 23.775     | 27.488     | 36.612     | 27.489     | NA         | NA         | NA         | \n",
       "| 93HG_001   | 1995-11-08 | 11         | 311        |  6.034     | 10.5       | -64.67     | 23.782     | 23.782     | 27.464     | 36.614     | 27.465     | NA         | NA         | NA         | \n",
       "| 93HG_001   | 1995-11-08 | 11         | 311        |  8.046     | 10.5       | -64.67     | 23.786     | 23.787     | 27.456     | 36.613     | 27.458     | NA         | NA         | NA         | \n",
       "| 93HG_001   | 1995-11-08 | 11         | 311        | 10.057     | 10.5       | -64.67     | 23.787     | 23.787     | 27.452     | 36.613     | 27.454     | NA         | NA         | NA         | \n",
       "| 93HG_001   | 1995-11-08 | 11         | 311        | 12.069     | 10.5       | -64.67     | 23.787     | 23.788     | 27.449     | 36.612     | 27.452     | NA         | NA         | NA         | \n",
       "\n",
       "\n"
      ],
      "text/plain": [
       "  CruiseID Date       month days press  lat  lon    sigma_t sigma_0 potemp\n",
       "1 93HG_001 1995-11-08 11    311   2.011 10.5 -64.67 23.764  23.764  27.522\n",
       "2 93HG_001 1995-11-08 11    311   4.023 10.5 -64.67 23.775  23.775  27.488\n",
       "3 93HG_001 1995-11-08 11    311   6.034 10.5 -64.67 23.782  23.782  27.464\n",
       "4 93HG_001 1995-11-08 11    311   8.046 10.5 -64.67 23.786  23.787  27.456\n",
       "5 93HG_001 1995-11-08 11    311  10.057 10.5 -64.67 23.787  23.787  27.452\n",
       "6 93HG_001 1995-11-08 11    311  12.069 10.5 -64.67 23.787  23.788  27.449\n",
       "  sal    temp   beam_att beam_cp fluor_chla\n",
       "1 36.612 27.522 NA       NA      NA        \n",
       "2 36.612 27.489 NA       NA      NA        \n",
       "3 36.614 27.465 NA       NA      NA        \n",
       "4 36.613 27.458 NA       NA      NA        \n",
       "5 36.613 27.454 NA       NA      NA        \n",
       "6 36.612 27.452 NA       NA      NA        "
      ]
     },
     "metadata": {},
     "output_type": "display_data"
    }
   ],
   "source": [
    "# date format\n",
    "DateString <- date\n",
    "Date <- as.POSIXlt(as.character(date), format=\"%Y%m%d\")\n",
    "\n",
    "days <- Date$yday\n",
    "\n",
    "# reformat NAs\n",
    "press[press<0] <- NA\n",
    "sigma_t[sigma_t<0] <- NA\n",
    "sigma_0[sigma_0<0] <- NA\n",
    "potemp[potemp<0] <- NA\n",
    "sal[sal<0] <- NA\n",
    "temp[temp<0] <- NA\n",
    "beam_att[beam_att<0] <- NA\n",
    "beam_cp[beam_cp<0] <- NA\n",
    "fluor_chla[fluor_chla<0] <- NA\n",
    "\n",
    "# create data.frame (without NAs)\n",
    "CTDdat <- data.frame(CruiseID,Date,month,days,press,lat,lon,sigma_t,sigma_0,potemp,sal,temp,beam_att,beam_cp,fluor_chla)[complete.cases(CruiseID),]\n",
    "head(CTDdat)"
   ]
  },
  {
   "cell_type": "code",
   "execution_count": 10,
   "metadata": {},
   "outputs": [],
   "source": [
    "# Write CSV in R\n",
    "write.csv(CTDdat, file = \"DATA_processed/CTDdat_processed.csv\")"
   ]
  }
 ],
 "metadata": {
  "kernelspec": {
   "display_name": "R",
   "language": "R",
   "name": "ir"
  },
  "language_info": {
   "codemirror_mode": "r",
   "file_extension": ".r",
   "mimetype": "text/x-r-source",
   "name": "R",
   "pygments_lexer": "r",
   "version": "3.5.1"
  }
 },
 "nbformat": 4,
 "nbformat_minor": 2
}
