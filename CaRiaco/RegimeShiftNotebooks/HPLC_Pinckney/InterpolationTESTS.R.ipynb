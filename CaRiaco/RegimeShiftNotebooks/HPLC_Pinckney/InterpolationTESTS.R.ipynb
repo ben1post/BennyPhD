{
 "cells": [
  {
   "cell_type": "code",
   "execution_count": 12,
   "metadata": {},
   "outputs": [],
   "source": [
    "require(tidyverse, warn.conflicts = FALSE);\n",
    "require(cowplot, warn.conflicts = FALSE); # for nicer plots, includes ggplot2\n",
    "\n",
    "require(MBA)\n",
    "require(colorRamps)\n",
    "require(lubridate)\n",
    "require(reshape2)\n",
    "\n",
    "require(oce, warn.conflicts = FALSE)\n",
    "\n",
    "# library(lubridate)\n",
    "# library(reshape2)\n",
    "# library(scales)\n",
    "# library(chron)\n",
    "# library(ncdf4)"
   ]
  },
  {
   "cell_type": "markdown",
   "metadata": {},
   "source": [
    "# Here I want to quickly test the different types of interpolation\n",
    "## and compare calculated means with the published data in Pinckney et al. 2015"
   ]
  },
  {
   "cell_type": "code",
   "execution_count": 13,
   "metadata": {},
   "outputs": [
    {
     "ename": "ERROR",
     "evalue": "Error in parse(text = x, srcfile = src): <text>:6:12: unexpected '='\n5:     \n6:     for (i =\n              ^\n",
     "execution_count": 13,
     "output_type": "error",
     "traceback": [
      "Error in parse(text = x, srcfile = src): <text>:6:12: unexpected '='\n5:     \n6:     for (i =\n              ^\nTraceback:\n"
     ]
    }
   ],
   "source": [
    "midpoint <- function(f, a, b, n){\n",
    "    h = (b-a)/n\n",
    "    \n",
    "    result = 0\n",
    "    \n",
    "    for (i = 0:(n-1)){\n",
    "        result = result + f((a + h/2) + i*h)}\n",
    "    \n",
    "    result_integration = h*result\n",
    "    return(result_integration)\n",
    "}\n"
   ]
  },
  {
   "cell_type": "markdown",
   "metadata": {},
   "source": [
    "### what do they actually say in the pub:\n",
    "\n",
    "they integrated by the trapezoidal rule using the midpoint between sample depths and and the measured values for each sample depth"
   ]
  },
  {
   "cell_type": "code",
   "execution_count": null,
   "metadata": {},
   "outputs": [],
   "source": []
  },
  {
   "cell_type": "code",
   "execution_count": 14,
   "metadata": {},
   "outputs": [],
   "source": [
    "TotChlA <- read.csv(\"CARIACO Data Chl a Contour Plot.csv\")\n",
    "TotChlA$Date.1 <- as.POSIXct(as.character(TotChlA$Time.1), format=\"%m/%d/%y\")\n",
    "TotChlA$Date.2 <- as.POSIXct(as.character(TotChlA$Time.2), format=\"%m/%d/%y\")"
   ]
  },
  {
   "cell_type": "code",
   "execution_count": 15,
   "metadata": {},
   "outputs": [],
   "source": [
    "chla1 <- data.frame(\"date\" = TotChlA$Date.1, \"press\" = TotChlA$Depth.1, \"chla\" = TotChlA$Chla.1)[complete.cases(data.frame(\"date\" = TotChlA$Date.1, \"press\" = TotChlA$Depth.1, \"chla\" = TotChlA$Chla.1)),] "
   ]
  },
  {
   "cell_type": "code",
   "execution_count": 16,
   "metadata": {},
   "outputs": [],
   "source": [
    "chla2 <- data.frame(\"date\" = TotChlA$Date.2, \"press\" = TotChlA$Depth.2, \"chla\" = TotChlA$Chla.2)[complete.cases(data.frame(\"date\" = TotChlA$Date.2, \"press\" = TotChlA$Depth.2, \"chla\" = TotChlA$Chla.2)),] "
   ]
  },
  {
   "cell_type": "code",
   "execution_count": 17,
   "metadata": {},
   "outputs": [
    {
     "data": {
      "text/html": [
       "<table>\n",
       "<thead><tr><th scope=col>date</th><th scope=col>press</th><th scope=col>chla</th></tr></thead>\n",
       "<tbody>\n",
       "\t<tr><td>1995-12-14</td><td>  1       </td><td>107       </td></tr>\n",
       "\t<tr><td>1995-12-14</td><td>  7       </td><td>139       </td></tr>\n",
       "\t<tr><td>1995-12-14</td><td> 15       </td><td>163       </td></tr>\n",
       "\t<tr><td>1995-12-14</td><td> 25       </td><td>408       </td></tr>\n",
       "\t<tr><td>1995-12-14</td><td> 35       </td><td>241       </td></tr>\n",
       "\t<tr><td>1995-12-14</td><td> 55       </td><td> 88       </td></tr>\n",
       "\t<tr><td>1995-12-14</td><td> 75       </td><td> 51       </td></tr>\n",
       "\t<tr><td>1995-12-14</td><td>100       </td><td> 14       </td></tr>\n",
       "</tbody>\n",
       "</table>\n"
      ],
      "text/latex": [
       "\\begin{tabular}{r|lll}\n",
       " date & press & chla\\\\\n",
       "\\hline\n",
       "\t 1995-12-14 &   1        & 107       \\\\\n",
       "\t 1995-12-14 &   7        & 139       \\\\\n",
       "\t 1995-12-14 &  15        & 163       \\\\\n",
       "\t 1995-12-14 &  25        & 408       \\\\\n",
       "\t 1995-12-14 &  35        & 241       \\\\\n",
       "\t 1995-12-14 &  55        &  88       \\\\\n",
       "\t 1995-12-14 &  75        &  51       \\\\\n",
       "\t 1995-12-14 & 100        &  14       \\\\\n",
       "\\end{tabular}\n"
      ],
      "text/markdown": [
       "\n",
       "date | press | chla | \n",
       "|---|---|---|---|---|---|---|---|\n",
       "| 1995-12-14 |   1        | 107        | \n",
       "| 1995-12-14 |   7        | 139        | \n",
       "| 1995-12-14 |  15        | 163        | \n",
       "| 1995-12-14 |  25        | 408        | \n",
       "| 1995-12-14 |  35        | 241        | \n",
       "| 1995-12-14 |  55        |  88        | \n",
       "| 1995-12-14 |  75        |  51        | \n",
       "| 1995-12-14 | 100        |  14        | \n",
       "\n",
       "\n"
      ],
      "text/plain": [
       "  date       press chla\n",
       "1 1995-12-14   1   107 \n",
       "2 1995-12-14   7   139 \n",
       "3 1995-12-14  15   163 \n",
       "4 1995-12-14  25   408 \n",
       "5 1995-12-14  35   241 \n",
       "6 1995-12-14  55    88 \n",
       "7 1995-12-14  75    51 \n",
       "8 1995-12-14 100    14 "
      ]
     },
     "metadata": {},
     "output_type": "display_data"
    }
   ],
   "source": [
    "chla1_trunc <- head(chla1, n=8)\n",
    "chla1_trunc"
   ]
  },
  {
   "cell_type": "code",
   "execution_count": 18,
   "metadata": {},
   "outputs": [],
   "source": [
    "middepth <- chla1_trunc$press[-length(chla1_trunc$press)] + diff(chla1_trunc$press)/2\n",
    "midchla <- chla1_trunc$chla[-length(chla1_trunc$chla)] + diff(chla1_trunc$chla)/2\n",
    "\n",
    "midchla1_trunc <- data.frame(middepth,midchla)"
   ]
  },
  {
   "cell_type": "code",
   "execution_count": 19,
   "metadata": {},
   "outputs": [
    {
     "data": {
      "text/html": [
       "<ol class=list-inline>\n",
       "\t<li>107</li>\n",
       "\t<li>139</li>\n",
       "\t<li>163</li>\n",
       "\t<li>408</li>\n",
       "\t<li>241</li>\n",
       "\t<li>88</li>\n",
       "\t<li>51</li>\n",
       "\t<li>14</li>\n",
       "</ol>\n"
      ],
      "text/latex": [
       "\\begin{enumerate*}\n",
       "\\item 107\n",
       "\\item 139\n",
       "\\item 163\n",
       "\\item 408\n",
       "\\item 241\n",
       "\\item 88\n",
       "\\item 51\n",
       "\\item 14\n",
       "\\end{enumerate*}\n"
      ],
      "text/markdown": [
       "1. 107\n",
       "2. 139\n",
       "3. 163\n",
       "4. 408\n",
       "5. 241\n",
       "6. 88\n",
       "7. 51\n",
       "8. 14\n",
       "\n",
       "\n"
      ],
      "text/plain": [
       "[1] 107 139 163 408 241  88  51  14"
      ]
     },
     "metadata": {},
     "output_type": "display_data"
    },
    {
     "data": {
      "text/html": [
       "<ol class=list-inline>\n",
       "\t<li>123</li>\n",
       "\t<li>151</li>\n",
       "\t<li>285.5</li>\n",
       "\t<li>324.5</li>\n",
       "\t<li>164.5</li>\n",
       "\t<li>69.5</li>\n",
       "\t<li>32.5</li>\n",
       "\t<li>&lt;NA&gt;</li>\n",
       "</ol>\n"
      ],
      "text/latex": [
       "\\begin{enumerate*}\n",
       "\\item 123\n",
       "\\item 151\n",
       "\\item 285.5\n",
       "\\item 324.5\n",
       "\\item 164.5\n",
       "\\item 69.5\n",
       "\\item 32.5\n",
       "\\item <NA>\n",
       "\\end{enumerate*}\n"
      ],
      "text/markdown": [
       "1. 123\n",
       "2. 151\n",
       "3. 285.5\n",
       "4. 324.5\n",
       "5. 164.5\n",
       "6. 69.5\n",
       "7. 32.5\n",
       "8. &lt;NA&gt;\n",
       "\n",
       "\n"
      ],
      "text/plain": [
       "[1] 123.0 151.0 285.5 324.5 164.5  69.5  32.5    NA"
      ]
     },
     "metadata": {},
     "output_type": "display_data"
    }
   ],
   "source": [
    "chla1_trunc$chla\n",
    "as.numeric(stats::filter(chla1_trunc$chla, c(0.5,0.5)))"
   ]
  },
  {
   "cell_type": "code",
   "execution_count": 25,
   "metadata": {},
   "outputs": [
    {
     "data": {
      "text/html": [
       "<table>\n",
       "<thead><tr><th scope=col>date</th><th scope=col>middepth</th><th scope=col>midval</th></tr></thead>\n",
       "<tbody>\n",
       "\t<tr><td>1995-12-14</td><td> 4.0      </td><td> 123.0    </td></tr>\n",
       "\t<tr><td>1995-12-14</td><td>11.0      </td><td> 151.0    </td></tr>\n",
       "\t<tr><td>1995-12-14</td><td>20.0      </td><td> 285.5    </td></tr>\n",
       "\t<tr><td>1995-12-14</td><td>30.0      </td><td> 324.5    </td></tr>\n",
       "\t<tr><td>1995-12-14</td><td>45.0      </td><td> 164.5    </td></tr>\n",
       "\t<tr><td>1995-12-14</td><td>65.0      </td><td>  69.5    </td></tr>\n",
       "\t<tr><td>1995-12-14</td><td>87.5      </td><td>  32.5    </td></tr>\n",
       "\t<tr><td>1995-12-14</td><td>  NA      </td><td>    NA    </td></tr>\n",
       "\t<tr><td>1996-01-13</td><td> 4.0      </td><td>1071.0    </td></tr>\n",
       "</tbody>\n",
       "</table>\n"
      ],
      "text/latex": [
       "\\begin{tabular}{r|lll}\n",
       " date & middepth & midval\\\\\n",
       "\\hline\n",
       "\t 1995-12-14 &  4.0       &  123.0    \\\\\n",
       "\t 1995-12-14 & 11.0       &  151.0    \\\\\n",
       "\t 1995-12-14 & 20.0       &  285.5    \\\\\n",
       "\t 1995-12-14 & 30.0       &  324.5    \\\\\n",
       "\t 1995-12-14 & 45.0       &  164.5    \\\\\n",
       "\t 1995-12-14 & 65.0       &   69.5    \\\\\n",
       "\t 1995-12-14 & 87.5       &   32.5    \\\\\n",
       "\t 1995-12-14 &   NA       &     NA    \\\\\n",
       "\t 1996-01-13 &  4.0       & 1071.0    \\\\\n",
       "\\end{tabular}\n"
      ],
      "text/markdown": [
       "\n",
       "date | middepth | midval | \n",
       "|---|---|---|---|---|---|---|---|---|\n",
       "| 1995-12-14 |  4.0       |  123.0     | \n",
       "| 1995-12-14 | 11.0       |  151.0     | \n",
       "| 1995-12-14 | 20.0       |  285.5     | \n",
       "| 1995-12-14 | 30.0       |  324.5     | \n",
       "| 1995-12-14 | 45.0       |  164.5     | \n",
       "| 1995-12-14 | 65.0       |   69.5     | \n",
       "| 1995-12-14 | 87.5       |   32.5     | \n",
       "| 1995-12-14 |   NA       |     NA     | \n",
       "| 1996-01-13 |  4.0       | 1071.0     | \n",
       "\n",
       "\n"
      ],
      "text/plain": [
       "  date       middepth midval\n",
       "1 1995-12-14  4.0      123.0\n",
       "2 1995-12-14 11.0      151.0\n",
       "3 1995-12-14 20.0      285.5\n",
       "4 1995-12-14 30.0      324.5\n",
       "5 1995-12-14 45.0      164.5\n",
       "6 1995-12-14 65.0       69.5\n",
       "7 1995-12-14 87.5       32.5\n",
       "8 1995-12-14   NA         NA\n",
       "9 1996-01-13  4.0     1071.0"
      ]
     },
     "metadata": {},
     "output_type": "display_data"
    }
   ],
   "source": [
    "x <- seq(0,50,10)\n",
    "DFtest <- chla1_df %>%\n",
    "    group_by(date) %>%\n",
    "    filter(sum(!is.na(value))>2) %>%\n",
    "    do(data.frame(middepth = as.numeric(stats::filter(.$depth, c(0.5,0.5))), midval = as.numeric(stats::filter(.$value, c(0.5,0.5)))))\n",
    "head(DFtest, n=9)"
   ]
  },
  {
   "cell_type": "code",
   "execution_count": 26,
   "metadata": {},
   "outputs": [
    {
     "data": {
      "text/html": [
       "13.5385"
      ],
      "text/latex": [
       "13.5385"
      ],
      "text/markdown": [
       "13.5385"
      ],
      "text/plain": [
       "[1] 13.5385"
      ]
     },
     "metadata": {},
     "output_type": "display_data"
    },
    {
     "data": {
      "text/html": [
       "13.12825"
      ],
      "text/latex": [
       "13.12825"
      ],
      "text/markdown": [
       "13.12825"
      ],
      "text/plain": [
       "[1] 13.12825"
      ]
     },
     "metadata": {},
     "output_type": "display_data"
    },
    {
     "data": {
      "text/html": [
       "13.6455"
      ],
      "text/latex": [
       "13.6455"
      ],
      "text/markdown": [
       "13.6455"
      ],
      "text/plain": [
       "[1] 13.6455"
      ]
     },
     "metadata": {},
     "output_type": "display_data"
    },
    {
     "data": {
      "text/html": [
       "14.0265"
      ],
      "text/latex": [
       "14.0265"
      ],
      "text/markdown": [
       "14.0265"
      ],
      "text/plain": [
       "[1] 14.0265"
      ]
     },
     "metadata": {},
     "output_type": "display_data"
    }
   ],
   "source": [
    "integrateTrapezoid(x=chla1_trunc$press, y=chla1_trunc$chla) / 1000\n",
    "integrateTrapezoid(x=midchla1_trunc$middepth, y=midchla1_trunc$midchla) / 1000\n",
    "integrateTrapezoid(x=chla1_trunc$press, y=chla1_trunc$chla, xmin=0, xmax=100) / 1000\n",
    "integrateTrapezoid(x=midchla1_trunc$middepth, y=midchla1_trunc$midchla, xmin=0, xmax=100) / 1000"
   ]
  },
  {
   "cell_type": "code",
   "execution_count": 65,
   "metadata": {},
   "outputs": [],
   "source": [
    "integrate <- function(DF, spec=\"trap\"){\n",
    "    if(spec==\"trap\"){\n",
    "        DF_1 <- DF %>%\n",
    "            group_by(date, depth) %>%\n",
    "            summarise(value = mean(value))\n",
    "        \n",
    "        DF_int <- DF_1 %>%\n",
    "            group_by(date) %>%\n",
    "            do(data.frame(value_int = with(.,integrateTrapezoid(x=depth, y=value))))\n",
    "        print(tail(DF_1,n=11))\n",
    "        }else{\n",
    "            DF_1 <- DF %>%\n",
    "            group_by(date,depth) %>%\n",
    "            summarise(value = mean(value))\n",
    "        \n",
    "        DFtest <- DF_1 %>%\n",
    "            group_by(date) %>%\n",
    "            filter(sum(!is.na(value))>2) %>%\n",
    "            do(data.frame(middepth = as.numeric(stats::filter(.$depth, c(0.5,0.5))), midval = as.numeric(stats::filter(.$value, c(0.5,0.5)))))\n",
    "        DFtest <- na.omit(DFtest)\n",
    "        print(tail(DF_1,n=10))\n",
    "        DF_int <- DFtest %>%\n",
    "        group_by(date) %>%\n",
    "        do(data.frame(value_int = with(.,integrateTrapezoid(x=middepth, y=midval))))\n",
    "        print(head(DF_int))\n",
    "        \n",
    "    }\n",
    "    return(DF_int)\n",
    "}"
   ]
  },
  {
   "cell_type": "code",
   "execution_count": 66,
   "metadata": {},
   "outputs": [],
   "source": [
    "prep_df_ntrplt <- function(dataframe){\n",
    "    colnames(dataframe) <- c(\"date\", \"depth\",\"value\")\n",
    "    return(dataframe)\n",
    "}"
   ]
  },
  {
   "cell_type": "code",
   "execution_count": 67,
   "metadata": {},
   "outputs": [
    {
     "ename": "ERROR",
     "evalue": "Error in integrateTrapezoid(x = depth, y = value): object 'depth' not found\n",
     "execution_count": 67,
     "output_type": "error",
     "traceback": [
      "Error in integrateTrapezoid(x = depth, y = value): object 'depth' not found\nTraceback:\n",
      "1. integrate(chla1_df)",
      "2. DF_1 %>% group_by(date) %>% do(data.frame(value_int = with(., \n .     integrateTrapezoid(x = depth, y = value))))   # at line 7-9 of file <text>",
      "3. withVisible(eval(quote(`_fseq`(`_lhs`)), env, env))",
      "4. eval(quote(`_fseq`(`_lhs`)), env, env)",
      "5. eval(quote(`_fseq`(`_lhs`)), env, env)",
      "6. `_fseq`(`_lhs`)",
      "7. freduce(value, `_function_list`)",
      "8. withVisible(function_list[[k]](value))",
      "9. function_list[[k]](value)",
      "10. do(., data.frame(value_int = with(., integrateTrapezoid(x = depth, \n  .     y = value))))",
      "11. do.grouped_df(., data.frame(value_int = with(., integrateTrapezoid(x = depth, \n  .     y = value))))",
      "12. overscope_eval_next(overscope, args[[j]])",
      "13. data.frame(value_int = with(., integrateTrapezoid(x = depth, \n  .     y = value)))",
      "14. with(., integrateTrapezoid(x = depth, y = value))",
      "15. with.default(., integrateTrapezoid(x = depth, y = value))",
      "16. eval(substitute(expr), data, enclos = parent.frame())",
      "17. eval(substitute(expr), data, enclos = parent.frame())",
      "18. integrateTrapezoid(x = depth, y = value)"
     ]
    }
   ],
   "source": [
    "chla1_df <- prep_df_ntrplt(chla1)\n",
    "chla1_int_trap <- integrate(chla1_df)\n",
    "chla1_int_mid <- integrate(chla1_df, spec=\"mid\")\n",
    "chla2_df <- prep_df_ntrplt(chla2)\n",
    "chla2_int_trap <- integrate(chla2_df)\n",
    "chla2_int_mid <- integrate(chla2_df, spec=\"mid\")"
   ]
  },
  {
   "cell_type": "code",
   "execution_count": 57,
   "metadata": {},
   "outputs": [
    {
     "data": {
      "text/html": [
       "29.9952770833333"
      ],
      "text/latex": [
       "29.9952770833333"
      ],
      "text/markdown": [
       "29.9952770833333"
      ],
      "text/plain": [
       "[1] 29.99528"
      ]
     },
     "metadata": {},
     "output_type": "display_data"
    },
    {
     "data": {
      "text/html": [
       "26.0847605467836"
      ],
      "text/latex": [
       "26.0847605467836"
      ],
      "text/markdown": [
       "26.0847605467836"
      ],
      "text/plain": [
       "[1] 26.08476"
      ]
     },
     "metadata": {},
     "output_type": "display_data"
    },
    {
     "data": {
      "text/html": [
       "34.7057254901961"
      ],
      "text/latex": [
       "34.7057254901961"
      ],
      "text/markdown": [
       "34.7057254901961"
      ],
      "text/plain": [
       "[1] 34.70573"
      ]
     },
     "metadata": {},
     "output_type": "display_data"
    },
    {
     "data": {
      "text/html": [
       "16.9196700932653"
      ],
      "text/latex": [
       "16.9196700932653"
      ],
      "text/markdown": [
       "16.9196700932653"
      ],
      "text/plain": [
       "[1] 16.91967"
      ]
     },
     "metadata": {},
     "output_type": "display_data"
    },
    {
     "data": {
      "text/html": [
       "1.15703966973788"
      ],
      "text/latex": [
       "1.15703966973788"
      ],
      "text/markdown": [
       "1.15703966973788"
      ],
      "text/plain": [
       "[1] 1.15704"
      ]
     },
     "metadata": {},
     "output_type": "display_data"
    }
   ],
   "source": [
    "mean(chla1_int_trap$value_int)/1000\n",
    "sd(chla1_int_trap$value_int)/1000\n",
    "mean(chla2_int_trap$value_int)/1000\n",
    "sd(chla2_int_trap$value_int)/1000\n",
    "\n",
    "\n",
    "(mean(chla2_int_trap$value_int) / mean(chla1_int_trap$value_int))"
   ]
  },
  {
   "cell_type": "code",
   "execution_count": 72,
   "metadata": {},
   "outputs": [
    {
     "data": {
      "text/html": [
       "28.7667829741379"
      ],
      "text/latex": [
       "28.7667829741379"
      ],
      "text/markdown": [
       "28.7667829741379"
      ],
      "text/plain": [
       "[1] 28.76678"
      ]
     },
     "metadata": {},
     "output_type": "display_data"
    },
    {
     "data": {
      "text/html": [
       "24.6964834992075"
      ],
      "text/latex": [
       "24.6964834992075"
      ],
      "text/markdown": [
       "24.6964834992075"
      ],
      "text/plain": [
       "[1] 24.69648"
      ]
     },
     "metadata": {},
     "output_type": "display_data"
    },
    {
     "data": {
      "text/html": [
       "32.4316926470588"
      ],
      "text/latex": [
       "32.4316926470588"
      ],
      "text/markdown": [
       "32.4316926470588"
      ],
      "text/plain": [
       "[1] 32.43169"
      ]
     },
     "metadata": {},
     "output_type": "display_data"
    },
    {
     "data": {
      "text/html": [
       "15.3009622818381"
      ],
      "text/latex": [
       "15.3009622818381"
      ],
      "text/markdown": [
       "15.3009622818381"
      ],
      "text/plain": [
       "[1] 15.30096"
      ]
     },
     "metadata": {},
     "output_type": "display_data"
    },
    {
     "data": {
      "text/html": [
       "1.12740074815511"
      ],
      "text/latex": [
       "1.12740074815511"
      ],
      "text/markdown": [
       "1.12740074815511"
      ],
      "text/plain": [
       "[1] 1.127401"
      ]
     },
     "metadata": {},
     "output_type": "display_data"
    },
    {
     "data": {
      "text/html": [
       "1.22096420745069"
      ],
      "text/latex": [
       "1.22096420745069"
      ],
      "text/markdown": [
       "1.22096420745069"
      ],
      "text/plain": [
       "[1] 1.220964"
      ]
     },
     "metadata": {},
     "output_type": "display_data"
    }
   ],
   "source": [
    "mean(chla1_int_mid$value_int)/1000\n",
    "sd(chla1_int_mid$value_int)/1000\n",
    "mean(chla2_int_mid$value_int)/1000\n",
    "sd(chla2_int_mid$value_int)/1000\n",
    "\n",
    "(mean(chla2_int_mid$value_int) / mean(chla1_int_mid$value_int))\n",
    "\n",
    "33.43/27.38"
   ]
  },
  {
   "cell_type": "code",
   "execution_count": 59,
   "metadata": {},
   "outputs": [],
   "source": [
    "FuncTypeChlA <- read.csv(\"CARIACO Data for Algal Group Plots.csv\")"
   ]
  },
  {
   "cell_type": "code",
   "execution_count": 60,
   "metadata": {},
   "outputs": [],
   "source": [
    "FuncTypeChlA$Date <- as.POSIXct(as.character(FuncTypeChlA$Date), format=\"%m/%d/%y\")\n",
    "FuncTypeChlA$X2Date <- as.POSIXct(as.character(FuncTypeChlA$X2Date), format=\"%m/%d/%y\")"
   ]
  },
  {
   "cell_type": "code",
   "execution_count": 61,
   "metadata": {},
   "outputs": [],
   "source": [
    "diatom_chla1 <- data.frame(\"date\" = FuncTypeChlA$Date, \"press\" = FuncTypeChlA$depth, \n",
    "                    \"chla\" = FuncTypeChlA$Diatoms_Hapto1)[complete.cases(data.frame(\n",
    "                    \"date\" = FuncTypeChlA$Date, \"press\" = FuncTypeChlA$depth, \"chla\" = FuncTypeChlA$Diatoms_Hapto1)),] \n",
    "diatom_chla2 <- data.frame(\"date\" = FuncTypeChlA$X2Date, \"press\" = FuncTypeChlA$X2depth, \n",
    "                    \"chla\" = FuncTypeChlA$X2Diatoms_Hapto1)[complete.cases(data.frame(\n",
    "                    \"date\" = FuncTypeChlA$X2Date, \"press\" = FuncTypeChlA$X2depth, \"chla\" = FuncTypeChlA$X2Diatoms_Hapto1)),] "
   ]
  },
  {
   "cell_type": "code",
   "execution_count": 62,
   "metadata": {},
   "outputs": [
    {
     "name": "stdout",
     "output_type": "stream",
     "text": [
      "# A tibble: 11 x 3\n",
      "# Groups:   date [2]\n",
      "   date                depth  value\n",
      "   <dttm>              <dbl>  <dbl>\n",
      " 1 2000-09-12 00:00:00    55 417.  \n",
      " 2 2000-09-12 00:00:00    75 180.  \n",
      " 3 2000-09-12 00:00:00   100  10.8 \n",
      " 4 2000-10-10 00:00:00     1   0   \n",
      " 5 2000-10-10 00:00:00     7   0   \n",
      " 6 2000-10-10 00:00:00    15   0   \n",
      " 7 2000-10-10 00:00:00    25   0   \n",
      " 8 2000-10-10 00:00:00    35  96.6 \n",
      " 9 2000-10-10 00:00:00    55  75.5 \n",
      "10 2000-10-10 00:00:00    75   7.36\n",
      "11 2000-10-10 00:00:00   100   0   \n",
      "# A tibble: 10 x 3\n",
      "# Groups:   date [2]\n",
      "   date                depth  value\n",
      "   <dttm>              <dbl>  <dbl>\n",
      " 1 2000-09-12 00:00:00    75 180.  \n",
      " 2 2000-09-12 00:00:00   100  10.8 \n",
      " 3 2000-10-10 00:00:00     1   0   \n",
      " 4 2000-10-10 00:00:00     7   0   \n",
      " 5 2000-10-10 00:00:00    15   0   \n",
      " 6 2000-10-10 00:00:00    25   0   \n",
      " 7 2000-10-10 00:00:00    35  96.6 \n",
      " 8 2000-10-10 00:00:00    55  75.5 \n",
      " 9 2000-10-10 00:00:00    75   7.36\n",
      "10 2000-10-10 00:00:00   100   0   \n",
      "# A tibble: 6 x 2\n",
      "# Groups:   date [6]\n",
      "  date                value_int\n",
      "  <dttm>                  <dbl>\n",
      "1 1995-12-14 00:00:00     5681.\n",
      "2 1996-01-13 00:00:00    28029.\n",
      "3 1996-02-14 00:00:00    20038.\n",
      "4 1996-03-13 00:00:00    11075.\n",
      "5 1996-04-17 00:00:00    97293.\n",
      "6 1996-05-10 00:00:00    26696.\n",
      "# A tibble: 11 x 3\n",
      "# Groups:   date [2]\n",
      "   date                depth  value\n",
      "   <dttm>              <dbl>  <dbl>\n",
      " 1 2010-11-09 00:00:00    55  70.7 \n",
      " 2 2010-11-09 00:00:00    75   5.06\n",
      " 3 2010-11-09 00:00:00   100   0   \n",
      " 4 2010-12-08 00:00:00     1  62.2 \n",
      " 5 2010-12-08 00:00:00     7  59.3 \n",
      " 6 2010-12-08 00:00:00    15  61.2 \n",
      " 7 2010-12-08 00:00:00    25 284.  \n",
      " 8 2010-12-08 00:00:00    35  81.1 \n",
      " 9 2010-12-08 00:00:00    55   7.29\n",
      "10 2010-12-08 00:00:00    75   4.88\n",
      "11 2010-12-08 00:00:00   100   0.78\n",
      "# A tibble: 10 x 3\n",
      "# Groups:   date [2]\n",
      "   date                depth  value\n",
      "   <dttm>              <dbl>  <dbl>\n",
      " 1 2010-11-09 00:00:00    75   5.06\n",
      " 2 2010-11-09 00:00:00   100   0   \n",
      " 3 2010-12-08 00:00:00     1  62.2 \n",
      " 4 2010-12-08 00:00:00     7  59.3 \n",
      " 5 2010-12-08 00:00:00    15  61.2 \n",
      " 6 2010-12-08 00:00:00    25 284.  \n",
      " 7 2010-12-08 00:00:00    35  81.1 \n",
      " 8 2010-12-08 00:00:00    55   7.29\n",
      " 9 2010-12-08 00:00:00    75   4.88\n",
      "10 2010-12-08 00:00:00   100   0.78\n",
      "# A tibble: 6 x 2\n",
      "# Groups:   date [6]\n",
      "  date                value_int\n",
      "  <dttm>                  <dbl>\n",
      "1 2006-07-04 00:00:00     5207.\n",
      "2 2006-08-03 00:00:00     5848.\n",
      "3 2006-09-12 00:00:00     7313.\n",
      "4 2006-10-10 00:00:00    21964.\n",
      "5 2006-11-02 00:00:00     5588.\n",
      "6 2006-12-05 00:00:00    10849.\n"
     ]
    }
   ],
   "source": [
    "diatom_chla1_df <- prep_df_ntrplt(diatom_chla1)\n",
    "diatom_chla1_int_trap <- integrate(diatom_chla1_df)\n",
    "diatom_chla1_int_mid <- integrate(diatom_chla1_df, spec=\"mid\")\n",
    "diatom_chla2_df <- prep_df_ntrplt(diatom_chla2)\n",
    "diatom_chla2_int_trap <- integrate(diatom_chla2_df)\n",
    "diatom_chla2_int_mid <- integrate(diatom_chla2_df, spec=\"mid\")"
   ]
  },
  {
   "cell_type": "code",
   "execution_count": 63,
   "metadata": {},
   "outputs": [
    {
     "data": {
      "text/html": [
       "16.5296895614035"
      ],
      "text/latex": [
       "16.5296895614035"
      ],
      "text/markdown": [
       "16.5296895614035"
      ],
      "text/plain": [
       "[1] 16.52969"
      ]
     },
     "metadata": {},
     "output_type": "display_data"
    },
    {
     "data": {
      "text/html": [
       "19.6519220369739"
      ],
      "text/latex": [
       "19.6519220369739"
      ],
      "text/markdown": [
       "19.6519220369739"
      ],
      "text/plain": [
       "[1] 19.65192"
      ]
     },
     "metadata": {},
     "output_type": "display_data"
    },
    {
     "data": {
      "text/html": [
       "12.7705147058824"
      ],
      "text/latex": [
       "12.7705147058824"
      ],
      "text/markdown": [
       "12.7705147058824"
      ],
      "text/plain": [
       "[1] 12.77051"
      ]
     },
     "metadata": {},
     "output_type": "display_data"
    },
    {
     "data": {
      "text/html": [
       "15.4555480787086"
      ],
      "text/latex": [
       "15.4555480787086"
      ],
      "text/markdown": [
       "15.4555480787086"
      ],
      "text/plain": [
       "[1] 15.45555"
      ]
     },
     "metadata": {},
     "output_type": "display_data"
    }
   ],
   "source": [
    "mean(diatom_chla1_int_trap$value_int)/1000\n",
    "sd(diatom_chla1_int_trap$value_int)/1000\n",
    "mean(diatom_chla2_int_trap$value_int)/1000\n",
    "sd(diatom_chla2_int_trap$value_int)/1000\n",
    "\n",
    "\n",
    "#(mean(diatom_chla1_int_trap$value_int) / mean(diatom_chla2_int_trap$value_int))"
   ]
  },
  {
   "cell_type": "code",
   "execution_count": 64,
   "metadata": {},
   "outputs": [
    {
     "data": {
      "text/html": [
       "15.4719819642857"
      ],
      "text/latex": [
       "15.4719819642857"
      ],
      "text/markdown": [
       "15.4719819642857"
      ],
      "text/plain": [
       "[1] 15.47198"
      ]
     },
     "metadata": {},
     "output_type": "display_data"
    },
    {
     "data": {
      "text/html": [
       "18.3719141209544"
      ],
      "text/latex": [
       "18.3719141209544"
      ],
      "text/markdown": [
       "18.3719141209544"
      ],
      "text/plain": [
       "[1] 18.37191"
      ]
     },
     "metadata": {},
     "output_type": "display_data"
    },
    {
     "data": {
      "text/html": [
       "11.6891443259804"
      ],
      "text/latex": [
       "11.6891443259804"
      ],
      "text/markdown": [
       "11.6891443259804"
      ],
      "text/plain": [
       "[1] 11.68914"
      ]
     },
     "metadata": {},
     "output_type": "display_data"
    },
    {
     "data": {
      "text/html": [
       "13.8545446939017"
      ],
      "text/latex": [
       "13.8545446939017"
      ],
      "text/markdown": [
       "13.8545446939017"
      ],
      "text/plain": [
       "[1] 13.85454"
      ]
     },
     "metadata": {},
     "output_type": "display_data"
    }
   ],
   "source": [
    "mean(diatom_chla1_int_mid$value_int)/1000\n",
    "sd(diatom_chla1_int_mid$value_int)/1000\n",
    "mean(diatom_chla2_int_mid$value_int)/1000\n",
    "sd(diatom_chla2_int_mid$value_int)/1000\n",
    "\n",
    "#(mean(diatom_chla2_int_mid$value_int) / mean(diatom_chla1_int_mid$value_int))"
   ]
  },
  {
   "cell_type": "code",
   "execution_count": 70,
   "metadata": {},
   "outputs": [
    {
     "data": {
      "text/html": [
       "<table>\n",
       "<thead><tr><th scope=col>date</th><th scope=col>value</th></tr></thead>\n",
       "<tbody>\n",
       "\t<tr><td>1997-01-08 </td><td>1524.736250</td></tr>\n",
       "\t<tr><td>1996-04-17 </td><td>1406.825714</td></tr>\n",
       "\t<tr><td>1998-03-12 </td><td>1302.983750</td></tr>\n",
       "\t<tr><td>1997-04-16 </td><td> 810.326250</td></tr>\n",
       "\t<tr><td>1997-03-13 </td><td> 796.015000</td></tr>\n",
       "\t<tr><td>1997-02-23 </td><td> 625.522857</td></tr>\n",
       "\t<tr><td>1996-05-10 </td><td> 610.081250</td></tr>\n",
       "\t<tr><td>1999-01-12 </td><td> 530.821667</td></tr>\n",
       "\t<tr><td>1996-01-13 </td><td> 440.416250</td></tr>\n",
       "\t<tr><td>1997-05-10 </td><td> 385.951250</td></tr>\n",
       "\t<tr><td>1997-07-16 </td><td> 341.195000</td></tr>\n",
       "\t<tr><td>2000-02-08 </td><td> 319.285000</td></tr>\n",
       "\t<tr><td>2000-01-11 </td><td> 319.257500</td></tr>\n",
       "\t<tr><td>1996-11-11 </td><td> 311.690000</td></tr>\n",
       "\t<tr><td>1997-02-14 </td><td> 310.845000</td></tr>\n",
       "\t<tr><td>1996-02-14 </td><td> 248.162500</td></tr>\n",
       "\t<tr><td>1998-01-14 </td><td> 216.827500</td></tr>\n",
       "\t<tr><td>2000-04-11 </td><td> 214.788571</td></tr>\n",
       "\t<tr><td>1996-03-13 </td><td> 213.634286</td></tr>\n",
       "\t<tr><td>1997-12-17 </td><td> 211.410000</td></tr>\n",
       "\t<tr><td>1996-06-13 </td><td> 205.170000</td></tr>\n",
       "\t<tr><td>2000-05-11 </td><td> 187.058750</td></tr>\n",
       "\t<tr><td>1998-02-11 </td><td> 186.370000</td></tr>\n",
       "\t<tr><td>1999-06-08 </td><td> 170.912500</td></tr>\n",
       "\t<tr><td>1996-10-09 </td><td> 163.888750</td></tr>\n",
       "\t<tr><td>1998-04-21 </td><td> 158.471250</td></tr>\n",
       "\t<tr><td>1998-06-09 </td><td> 136.842857</td></tr>\n",
       "\t<tr><td>1996-09-11 </td><td> 136.527500</td></tr>\n",
       "\t<tr><td>1997-07-08 </td><td> 131.658750</td></tr>\n",
       "\t<tr><td>2000-09-12 </td><td> 126.741250</td></tr>\n",
       "\t<tr><td>1996-07-11 </td><td> 114.515000</td></tr>\n",
       "\t<tr><td>1997-08-17 </td><td>  98.002500</td></tr>\n",
       "\t<tr><td>1996-12-10 </td><td>  92.451250</td></tr>\n",
       "\t<tr><td>1998-08-05 </td><td>  83.936667</td></tr>\n",
       "\t<tr><td>1996-08-07 </td><td>  77.923750</td></tr>\n",
       "\t<tr><td>1999-07-15 </td><td>  77.724286</td></tr>\n",
       "\t<tr><td>1998-09-01 </td><td>  73.384286</td></tr>\n",
       "\t<tr><td>1995-12-14 </td><td>  69.780000</td></tr>\n",
       "\t<tr><td>1997-06-17 </td><td>  67.592500</td></tr>\n",
       "\t<tr><td>1998-07-09 </td><td>  66.472000</td></tr>\n",
       "\t<tr><td>2000-03-09 </td><td>  65.006250</td></tr>\n",
       "\t<tr><td>1997-10-14 </td><td>  59.306250</td></tr>\n",
       "\t<tr><td>1999-09-14 </td><td>  57.574286</td></tr>\n",
       "\t<tr><td>1997-09-17 </td><td>  52.336250</td></tr>\n",
       "\t<tr><td>1997-11-13 </td><td>  50.622500</td></tr>\n",
       "\t<tr><td>2000-06-06 </td><td>  50.018750</td></tr>\n",
       "\t<tr><td>2000-07-07 </td><td>  41.018333</td></tr>\n",
       "\t<tr><td>2000-08-09 </td><td>  32.841250</td></tr>\n",
       "\t<tr><td>1999-04-07 </td><td>  27.560000</td></tr>\n",
       "\t<tr><td>1999-12-07 </td><td>  23.242500</td></tr>\n",
       "\t<tr><td>2000-10-10 </td><td>  22.436250</td></tr>\n",
       "\t<tr><td>1999-11-04 </td><td>  16.453750</td></tr>\n",
       "\t<tr><td>1998-12-16 </td><td>  15.960000</td></tr>\n",
       "\t<tr><td>1999-10-05 </td><td>   5.131429</td></tr>\n",
       "\t<tr><td>1999-08-11 </td><td>   3.214286</td></tr>\n",
       "\t<tr><td>1999-05-06 </td><td>   2.280000</td></tr>\n",
       "\t<tr><td>1999-03-04 </td><td>   0.000000</td></tr>\n",
       "</tbody>\n",
       "</table>\n"
      ],
      "text/latex": [
       "\\begin{tabular}{r|ll}\n",
       " date & value\\\\\n",
       "\\hline\n",
       "\t 1997-01-08  & 1524.736250\\\\\n",
       "\t 1996-04-17  & 1406.825714\\\\\n",
       "\t 1998-03-12  & 1302.983750\\\\\n",
       "\t 1997-04-16  &  810.326250\\\\\n",
       "\t 1997-03-13  &  796.015000\\\\\n",
       "\t 1997-02-23  &  625.522857\\\\\n",
       "\t 1996-05-10  &  610.081250\\\\\n",
       "\t 1999-01-12  &  530.821667\\\\\n",
       "\t 1996-01-13  &  440.416250\\\\\n",
       "\t 1997-05-10  &  385.951250\\\\\n",
       "\t 1997-07-16  &  341.195000\\\\\n",
       "\t 2000-02-08  &  319.285000\\\\\n",
       "\t 2000-01-11  &  319.257500\\\\\n",
       "\t 1996-11-11  &  311.690000\\\\\n",
       "\t 1997-02-14  &  310.845000\\\\\n",
       "\t 1996-02-14  &  248.162500\\\\\n",
       "\t 1998-01-14  &  216.827500\\\\\n",
       "\t 2000-04-11  &  214.788571\\\\\n",
       "\t 1996-03-13  &  213.634286\\\\\n",
       "\t 1997-12-17  &  211.410000\\\\\n",
       "\t 1996-06-13  &  205.170000\\\\\n",
       "\t 2000-05-11  &  187.058750\\\\\n",
       "\t 1998-02-11  &  186.370000\\\\\n",
       "\t 1999-06-08  &  170.912500\\\\\n",
       "\t 1996-10-09  &  163.888750\\\\\n",
       "\t 1998-04-21  &  158.471250\\\\\n",
       "\t 1998-06-09  &  136.842857\\\\\n",
       "\t 1996-09-11  &  136.527500\\\\\n",
       "\t 1997-07-08  &  131.658750\\\\\n",
       "\t 2000-09-12  &  126.741250\\\\\n",
       "\t 1996-07-11  &  114.515000\\\\\n",
       "\t 1997-08-17  &   98.002500\\\\\n",
       "\t 1996-12-10  &   92.451250\\\\\n",
       "\t 1998-08-05  &   83.936667\\\\\n",
       "\t 1996-08-07  &   77.923750\\\\\n",
       "\t 1999-07-15  &   77.724286\\\\\n",
       "\t 1998-09-01  &   73.384286\\\\\n",
       "\t 1995-12-14  &   69.780000\\\\\n",
       "\t 1997-06-17  &   67.592500\\\\\n",
       "\t 1998-07-09  &   66.472000\\\\\n",
       "\t 2000-03-09  &   65.006250\\\\\n",
       "\t 1997-10-14  &   59.306250\\\\\n",
       "\t 1999-09-14  &   57.574286\\\\\n",
       "\t 1997-09-17  &   52.336250\\\\\n",
       "\t 1997-11-13  &   50.622500\\\\\n",
       "\t 2000-06-06  &   50.018750\\\\\n",
       "\t 2000-07-07  &   41.018333\\\\\n",
       "\t 2000-08-09  &   32.841250\\\\\n",
       "\t 1999-04-07  &   27.560000\\\\\n",
       "\t 1999-12-07  &   23.242500\\\\\n",
       "\t 2000-10-10  &   22.436250\\\\\n",
       "\t 1999-11-04  &   16.453750\\\\\n",
       "\t 1998-12-16  &   15.960000\\\\\n",
       "\t 1999-10-05  &    5.131429\\\\\n",
       "\t 1999-08-11  &    3.214286\\\\\n",
       "\t 1999-05-06  &    2.280000\\\\\n",
       "\t 1999-03-04  &    0.000000\\\\\n",
       "\\end{tabular}\n"
      ],
      "text/markdown": [
       "\n",
       "date | value | \n",
       "|---|---|---|---|---|---|---|---|---|---|---|---|---|---|---|---|---|---|---|---|---|---|---|---|---|---|---|---|---|---|---|---|---|---|---|---|---|---|---|---|---|---|---|---|---|---|---|---|---|---|---|---|---|---|---|---|---|\n",
       "| 1997-01-08  | 1524.736250 | \n",
       "| 1996-04-17  | 1406.825714 | \n",
       "| 1998-03-12  | 1302.983750 | \n",
       "| 1997-04-16  |  810.326250 | \n",
       "| 1997-03-13  |  796.015000 | \n",
       "| 1997-02-23  |  625.522857 | \n",
       "| 1996-05-10  |  610.081250 | \n",
       "| 1999-01-12  |  530.821667 | \n",
       "| 1996-01-13  |  440.416250 | \n",
       "| 1997-05-10  |  385.951250 | \n",
       "| 1997-07-16  |  341.195000 | \n",
       "| 2000-02-08  |  319.285000 | \n",
       "| 2000-01-11  |  319.257500 | \n",
       "| 1996-11-11  |  311.690000 | \n",
       "| 1997-02-14  |  310.845000 | \n",
       "| 1996-02-14  |  248.162500 | \n",
       "| 1998-01-14  |  216.827500 | \n",
       "| 2000-04-11  |  214.788571 | \n",
       "| 1996-03-13  |  213.634286 | \n",
       "| 1997-12-17  |  211.410000 | \n",
       "| 1996-06-13  |  205.170000 | \n",
       "| 2000-05-11  |  187.058750 | \n",
       "| 1998-02-11  |  186.370000 | \n",
       "| 1999-06-08  |  170.912500 | \n",
       "| 1996-10-09  |  163.888750 | \n",
       "| 1998-04-21  |  158.471250 | \n",
       "| 1998-06-09  |  136.842857 | \n",
       "| 1996-09-11  |  136.527500 | \n",
       "| 1997-07-08  |  131.658750 | \n",
       "| 2000-09-12  |  126.741250 | \n",
       "| 1996-07-11  |  114.515000 | \n",
       "| 1997-08-17  |   98.002500 | \n",
       "| 1996-12-10  |   92.451250 | \n",
       "| 1998-08-05  |   83.936667 | \n",
       "| 1996-08-07  |   77.923750 | \n",
       "| 1999-07-15  |   77.724286 | \n",
       "| 1998-09-01  |   73.384286 | \n",
       "| 1995-12-14  |   69.780000 | \n",
       "| 1997-06-17  |   67.592500 | \n",
       "| 1998-07-09  |   66.472000 | \n",
       "| 2000-03-09  |   65.006250 | \n",
       "| 1997-10-14  |   59.306250 | \n",
       "| 1999-09-14  |   57.574286 | \n",
       "| 1997-09-17  |   52.336250 | \n",
       "| 1997-11-13  |   50.622500 | \n",
       "| 2000-06-06  |   50.018750 | \n",
       "| 2000-07-07  |   41.018333 | \n",
       "| 2000-08-09  |   32.841250 | \n",
       "| 1999-04-07  |   27.560000 | \n",
       "| 1999-12-07  |   23.242500 | \n",
       "| 2000-10-10  |   22.436250 | \n",
       "| 1999-11-04  |   16.453750 | \n",
       "| 1998-12-16  |   15.960000 | \n",
       "| 1999-10-05  |    5.131429 | \n",
       "| 1999-08-11  |    3.214286 | \n",
       "| 1999-05-06  |    2.280000 | \n",
       "| 1999-03-04  |    0.000000 | \n",
       "\n",
       "\n"
      ],
      "text/plain": [
       "   date       value      \n",
       "1  1997-01-08 1524.736250\n",
       "2  1996-04-17 1406.825714\n",
       "3  1998-03-12 1302.983750\n",
       "4  1997-04-16  810.326250\n",
       "5  1997-03-13  796.015000\n",
       "6  1997-02-23  625.522857\n",
       "7  1996-05-10  610.081250\n",
       "8  1999-01-12  530.821667\n",
       "9  1996-01-13  440.416250\n",
       "10 1997-05-10  385.951250\n",
       "11 1997-07-16  341.195000\n",
       "12 2000-02-08  319.285000\n",
       "13 2000-01-11  319.257500\n",
       "14 1996-11-11  311.690000\n",
       "15 1997-02-14  310.845000\n",
       "16 1996-02-14  248.162500\n",
       "17 1998-01-14  216.827500\n",
       "18 2000-04-11  214.788571\n",
       "19 1996-03-13  213.634286\n",
       "20 1997-12-17  211.410000\n",
       "21 1996-06-13  205.170000\n",
       "22 2000-05-11  187.058750\n",
       "23 1998-02-11  186.370000\n",
       "24 1999-06-08  170.912500\n",
       "25 1996-10-09  163.888750\n",
       "26 1998-04-21  158.471250\n",
       "27 1998-06-09  136.842857\n",
       "28 1996-09-11  136.527500\n",
       "29 1997-07-08  131.658750\n",
       "30 2000-09-12  126.741250\n",
       "31 1996-07-11  114.515000\n",
       "32 1997-08-17   98.002500\n",
       "33 1996-12-10   92.451250\n",
       "34 1998-08-05   83.936667\n",
       "35 1996-08-07   77.923750\n",
       "36 1999-07-15   77.724286\n",
       "37 1998-09-01   73.384286\n",
       "38 1995-12-14   69.780000\n",
       "39 1997-06-17   67.592500\n",
       "40 1998-07-09   66.472000\n",
       "41 2000-03-09   65.006250\n",
       "42 1997-10-14   59.306250\n",
       "43 1999-09-14   57.574286\n",
       "44 1997-09-17   52.336250\n",
       "45 1997-11-13   50.622500\n",
       "46 2000-06-06   50.018750\n",
       "47 2000-07-07   41.018333\n",
       "48 2000-08-09   32.841250\n",
       "49 1999-04-07   27.560000\n",
       "50 1999-12-07   23.242500\n",
       "51 2000-10-10   22.436250\n",
       "52 1999-11-04   16.453750\n",
       "53 1998-12-16   15.960000\n",
       "54 1999-10-05    5.131429\n",
       "55 1999-08-11    3.214286\n",
       "56 1999-05-06    2.280000\n",
       "57 1999-03-04    0.000000"
      ]
     },
     "metadata": {},
     "output_type": "display_data"
    }
   ],
   "source": [
    "diatom_chla1_df %>%\n",
    "            group_by(date) %>%\n",
    "            summarise(value = mean(value))%>%\n",
    "            arrange(desc(value))"
   ]
  },
  {
   "cell_type": "code",
   "execution_count": null,
   "metadata": {},
   "outputs": [],
   "source": []
  }
 ],
 "metadata": {
  "kernelspec": {
   "display_name": "R",
   "language": "R",
   "name": "ir"
  },
  "language_info": {
   "codemirror_mode": "r",
   "file_extension": ".r",
   "mimetype": "text/x-r-source",
   "name": "R",
   "pygments_lexer": "r",
   "version": "3.5.1"
  }
 },
 "nbformat": 4,
 "nbformat_minor": 2
}
