{
 "cells": [
  {
   "cell_type": "markdown",
   "metadata": {},
   "source": [
    "# Create time series plots for all relevant parameters\n",
    "\n",
    "List of parameters:\n",
    "- MLD depth\n",
    "- nitrogen dynamics\n",
    "- silicate dynamics\n",
    "- PAR / irradiance\n",
    "- some kind of detritus/turbidity measure\n",
    "- primary production\n",
    "- chl a\n",
    "- phytoplankton abundances\n",
    "- zooplankton abundances\n"
   ]
  },
  {
   "cell_type": "code",
   "execution_count": null,
   "metadata": {},
   "outputs": [],
   "source": []
  }
 ],
 "metadata": {
  "kernelspec": {
   "display_name": "R",
   "language": "R",
   "name": "ir"
  },
  "language_info": {
   "codemirror_mode": "r",
   "file_extension": ".r",
   "mimetype": "text/x-r-source",
   "name": "R",
   "pygments_lexer": "r",
   "version": "3.5.1"
  }
 },
 "nbformat": 4,
 "nbformat_minor": 2
}
