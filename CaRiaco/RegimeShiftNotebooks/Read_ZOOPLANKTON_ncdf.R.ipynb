{
 "cells": [
  {
   "cell_type": "markdown",
   "metadata": {},
   "source": [
    "# Read CTDdat.ncdf \n",
    "\n",
    "this R notebook reads (and cleans up) the CTD ncdf file that is provided on  \n",
    "  \n",
    "https://www.bco-dmo.org/dataset/3092\n",
    "\n",
    "This .ncdf file is a collection of monthly CTD runs at CARIACO Ocean Time Series Station."
   ]
  },
  {
   "cell_type": "code",
   "execution_count": 2,
   "metadata": {},
   "outputs": [
    {
     "name": "stderr",
     "output_type": "stream",
     "text": [
      "Loading required package: dplyr\n",
      "Loading required package: cowplot\n",
      "Loading required package: ggplot2\n",
      "Loading required package: chron\n",
      "Loading required package: ncdf4\n"
     ]
    }
   ],
   "source": [
    "require(dplyr, warn.conflicts = FALSE);\n",
    "#require(ggplot2);\n",
    "require(cowplot, warn.conflicts = FALSE); # for nicer plots, includes ggplot2\n",
    "require(chron, warn.conflicts = FALSE);\n",
    "require(ncdf4, warn.conflicts = FALSE);"
   ]
  },
  {
   "cell_type": "code",
   "execution_count": 3,
   "metadata": {},
   "outputs": [
    {
     "name": "stdout",
     "output_type": "stream",
     "text": [
      "File DATA_raw/Zooplankton.netcdf (NC_FORMAT_CLASSIC):\n",
      "\n",
      "     11 variables (excluding dimension variables):\n",
      "        char Cruise_ID[maxlen_,unlimited]   \n",
      "        double lon[unlimited]   \n",
      "        double lat[unlimited]   \n",
      "        double Date[unlimited]   \n",
      "        double Year[unlimited]   \n",
      "        double Month[unlimited]   \n",
      "        double Day[unlimited]   \n",
      "        double zoop_DW_200[unlimited]   \n",
      "        double zoop_ash_200[unlimited]   \n",
      "        double zoop_DW_500[unlimited]   \n",
      "        double zoop_ash_500[unlimited]   \n",
      "\n",
      "     2 dimensions:\n",
      "        unlimited  Size:34   *** is unlimited ***\n",
      "        maxlen_  Size:513\n"
     ]
    }
   ],
   "source": [
    "nctdname <- \"DATA_raw/Zooplankton.netcdf\"\n",
    "# open a NetCDF file\n",
    "nctdin <- nc_open(nctdname)\n",
    "\n",
    "print(nctdin)"
   ]
  },
  {
   "cell_type": "code",
   "execution_count": 5,
   "metadata": {},
   "outputs": [],
   "source": [
    "CruiseID <- ncvar_get(nctdin,\"Cruise_ID\")\n",
    "date <- ncvar_get(nctdin,\"Date\")\n",
    "month <- ncvar_get(nctdin,\"Month\")\n",
    "zoop_DW_200 <- ncvar_get(nctdin,\"zoop_DW_200\")   # milligrams/meter^3 \n",
    "zoop_ash_200 <- ncvar_get(nctdin,\"zoop_ash_200\") # milligrams/meter^3 \n",
    "zoop_DW_500 <- ncvar_get(nctdin, \"zoop_DW_500\")  # milligrams/meter^3 \n",
    "zoop_ash_500 <- ncvar_get(nctdin, \"zoop_ash_500\")# milligrams/meter^3 \n",
    "\n",
    "nc_close(nctdin)"
   ]
  },
  {
   "cell_type": "code",
   "execution_count": 6,
   "metadata": {},
   "outputs": [],
   "source": [
    "DateString <- date\n",
    "Date <- as.POSIXlt(as.character(date), format=\"%Y%m%d\")\n",
    "\n",
    "days <- Date$yday"
   ]
  },
  {
   "cell_type": "code",
   "execution_count": 17,
   "metadata": {},
   "outputs": [
    {
     "name": "stdout",
     "output_type": "stream",
     "text": [
      " num [1:34(1d)] 15.95 2.34 0.71 4.93 NA ...\n",
      " num [1:34(1d)] 3.31 0.07 0.18 0.18 NA 0.77 2.15 0.09 0.35 0.13 ...\n"
     ]
    }
   ],
   "source": [
    "zoop_DW_500[zoop_DW_500>1e30] <- NA\n",
    "zoop_ash_500[zoop_ash_500>1e30] <- NA\n",
    "str(zoop_DW_500)\n",
    "str(zoop_ash_500)"
   ]
  },
  {
   "cell_type": "code",
   "execution_count": 18,
   "metadata": {},
   "outputs": [
    {
     "data": {
      "text/html": [
       "<table>\n",
       "<thead><tr><th scope=col>CruiseID</th><th scope=col>Date</th><th scope=col>month</th><th scope=col>days</th><th scope=col>zoop_DW_200</th><th scope=col>zoop_ash_200</th><th scope=col>zoop_DW_500</th><th scope=col>zoop_ash_500</th></tr></thead>\n",
       "<tbody>\n",
       "\t<tr><td>93HG_071  </td><td>2001-10-09</td><td>10        </td><td>281       </td><td>26.83     </td><td>6.84      </td><td>15.95     </td><td>3.31      </td></tr>\n",
       "\t<tr><td>93HG_072  </td><td>2001-11-06</td><td>11        </td><td>309       </td><td> 7.43     </td><td>0.64      </td><td> 2.34     </td><td>0.07      </td></tr>\n",
       "\t<tr><td>93HG_073  </td><td>2001-12-11</td><td>12        </td><td>344       </td><td> 5.60     </td><td>0.14      </td><td> 0.71     </td><td>0.18      </td></tr>\n",
       "\t<tr><td>93HG_074  </td><td>2002-01-10</td><td> 1        </td><td>  9       </td><td>10.24     </td><td>0.51      </td><td> 4.93     </td><td>0.18      </td></tr>\n",
       "\t<tr><td>93HG_075  </td><td>2002-02-14</td><td> 2        </td><td> 44       </td><td>12.92     </td><td>2.56      </td><td>   NA     </td><td>  NA      </td></tr>\n",
       "\t<tr><td>93HG_076  </td><td>2002-03-12</td><td> 3        </td><td> 70       </td><td>10.55     </td><td>1.78      </td><td> 5.47     </td><td>0.77      </td></tr>\n",
       "</tbody>\n",
       "</table>\n"
      ],
      "text/latex": [
       "\\begin{tabular}{r|llllllll}\n",
       " CruiseID & Date & month & days & zoop\\_DW\\_200 & zoop\\_ash\\_200 & zoop\\_DW\\_500 & zoop\\_ash\\_500\\\\\n",
       "\\hline\n",
       "\t 93HG\\_071 & 2001-10-09 & 10         & 281        & 26.83      & 6.84       & 15.95      & 3.31      \\\\\n",
       "\t 93HG\\_072 & 2001-11-06 & 11         & 309        &  7.43      & 0.64       &  2.34      & 0.07      \\\\\n",
       "\t 93HG\\_073 & 2001-12-11 & 12         & 344        &  5.60      & 0.14       &  0.71      & 0.18      \\\\\n",
       "\t 93HG\\_074 & 2002-01-10 &  1         &   9        & 10.24      & 0.51       &  4.93      & 0.18      \\\\\n",
       "\t 93HG\\_075 & 2002-02-14 &  2         &  44        & 12.92      & 2.56       &    NA      &   NA      \\\\\n",
       "\t 93HG\\_076 & 2002-03-12 &  3         &  70        & 10.55      & 1.78       &  5.47      & 0.77      \\\\\n",
       "\\end{tabular}\n"
      ],
      "text/markdown": [
       "\n",
       "CruiseID | Date | month | days | zoop_DW_200 | zoop_ash_200 | zoop_DW_500 | zoop_ash_500 | \n",
       "|---|---|---|---|---|---|\n",
       "| 93HG_071   | 2001-10-09 | 10         | 281        | 26.83      | 6.84       | 15.95      | 3.31       | \n",
       "| 93HG_072   | 2001-11-06 | 11         | 309        |  7.43      | 0.64       |  2.34      | 0.07       | \n",
       "| 93HG_073   | 2001-12-11 | 12         | 344        |  5.60      | 0.14       |  0.71      | 0.18       | \n",
       "| 93HG_074   | 2002-01-10 |  1         |   9        | 10.24      | 0.51       |  4.93      | 0.18       | \n",
       "| 93HG_075   | 2002-02-14 |  2         |  44        | 12.92      | 2.56       |    NA      |   NA       | \n",
       "| 93HG_076   | 2002-03-12 |  3         |  70        | 10.55      | 1.78       |  5.47      | 0.77       | \n",
       "\n",
       "\n"
      ],
      "text/plain": [
       "  CruiseID Date       month days zoop_DW_200 zoop_ash_200 zoop_DW_500\n",
       "1 93HG_071 2001-10-09 10    281  26.83       6.84         15.95      \n",
       "2 93HG_072 2001-11-06 11    309   7.43       0.64          2.34      \n",
       "3 93HG_073 2001-12-11 12    344   5.60       0.14          0.71      \n",
       "4 93HG_074 2002-01-10  1      9  10.24       0.51          4.93      \n",
       "5 93HG_075 2002-02-14  2     44  12.92       2.56            NA      \n",
       "6 93HG_076 2002-03-12  3     70  10.55       1.78          5.47      \n",
       "  zoop_ash_500\n",
       "1 3.31        \n",
       "2 0.07        \n",
       "3 0.18        \n",
       "4 0.18        \n",
       "5   NA        \n",
       "6 0.77        "
      ]
     },
     "metadata": {},
     "output_type": "display_data"
    }
   ],
   "source": [
    "ZOOdat <- data.frame(CruiseID,Date,month,days,zoop_DW_200,zoop_ash_200,zoop_DW_500,zoop_ash_500)\n",
    "head(ZOOdat)"
   ]
  },
  {
   "cell_type": "code",
   "execution_count": 19,
   "metadata": {},
   "outputs": [
    {
     "data": {
      "text/html": [
       "<table>\n",
       "<thead><tr><th></th><th scope=col>CruiseID</th><th scope=col>Date</th><th scope=col>month</th><th scope=col>days</th><th scope=col>zoop_DW_200</th><th scope=col>zoop_ash_200</th><th scope=col>zoop_DW_500</th><th scope=col>zoop_ash_500</th></tr></thead>\n",
       "<tbody>\n",
       "\t<tr><th scope=row>29</th><td>93HG_100  </td><td>2004-05-13</td><td> 5        </td><td>133       </td><td>11.47     </td><td>4.07      </td><td> 5.11     </td><td>2.82      </td></tr>\n",
       "\t<tr><th scope=row>30</th><td>93HG_101  </td><td>2004-06-08</td><td> 6        </td><td>159       </td><td>14.01     </td><td>3.86      </td><td>10.72     </td><td>4.29      </td></tr>\n",
       "\t<tr><th scope=row>31</th><td>93HG_102  </td><td>2004-07-07</td><td> 7        </td><td>188       </td><td>18.15     </td><td>5.62      </td><td> 7.91     </td><td>2.33      </td></tr>\n",
       "\t<tr><th scope=row>32</th><td>93HG_103  </td><td>2004-08-10</td><td> 8        </td><td>222       </td><td>15.80     </td><td>3.88      </td><td> 8.86     </td><td>2.95      </td></tr>\n",
       "\t<tr><th scope=row>33</th><td>93HG_104  </td><td>2004-09-07</td><td> 9        </td><td>250       </td><td>11.44     </td><td>2.44      </td><td> 3.24     </td><td>1.05      </td></tr>\n",
       "\t<tr><th scope=row>34</th><td>93HG_105  </td><td>2004-10-05</td><td>10        </td><td>278       </td><td> 5.40     </td><td>1.07      </td><td> 2.81     </td><td>1.11      </td></tr>\n",
       "</tbody>\n",
       "</table>\n"
      ],
      "text/latex": [
       "\\begin{tabular}{r|llllllll}\n",
       "  & CruiseID & Date & month & days & zoop\\_DW\\_200 & zoop\\_ash\\_200 & zoop\\_DW\\_500 & zoop\\_ash\\_500\\\\\n",
       "\\hline\n",
       "\t29 & 93HG\\_100 & 2004-05-13 &  5         & 133        & 11.47      & 4.07       &  5.11      & 2.82      \\\\\n",
       "\t30 & 93HG\\_101 & 2004-06-08 &  6         & 159        & 14.01      & 3.86       & 10.72      & 4.29      \\\\\n",
       "\t31 & 93HG\\_102 & 2004-07-07 &  7         & 188        & 18.15      & 5.62       &  7.91      & 2.33      \\\\\n",
       "\t32 & 93HG\\_103 & 2004-08-10 &  8         & 222        & 15.80      & 3.88       &  8.86      & 2.95      \\\\\n",
       "\t33 & 93HG\\_104 & 2004-09-07 &  9         & 250        & 11.44      & 2.44       &  3.24      & 1.05      \\\\\n",
       "\t34 & 93HG\\_105 & 2004-10-05 & 10         & 278        &  5.40      & 1.07       &  2.81      & 1.11      \\\\\n",
       "\\end{tabular}\n"
      ],
      "text/markdown": [
       "\n",
       "| <!--/--> | CruiseID | Date | month | days | zoop_DW_200 | zoop_ash_200 | zoop_DW_500 | zoop_ash_500 | \n",
       "|---|---|---|---|---|---|\n",
       "| 29 | 93HG_100   | 2004-05-13 |  5         | 133        | 11.47      | 4.07       |  5.11      | 2.82       | \n",
       "| 30 | 93HG_101   | 2004-06-08 |  6         | 159        | 14.01      | 3.86       | 10.72      | 4.29       | \n",
       "| 31 | 93HG_102   | 2004-07-07 |  7         | 188        | 18.15      | 5.62       |  7.91      | 2.33       | \n",
       "| 32 | 93HG_103   | 2004-08-10 |  8         | 222        | 15.80      | 3.88       |  8.86      | 2.95       | \n",
       "| 33 | 93HG_104   | 2004-09-07 |  9         | 250        | 11.44      | 2.44       |  3.24      | 1.05       | \n",
       "| 34 | 93HG_105   | 2004-10-05 | 10         | 278        |  5.40      | 1.07       |  2.81      | 1.11       | \n",
       "\n",
       "\n"
      ],
      "text/plain": [
       "   CruiseID Date       month days zoop_DW_200 zoop_ash_200 zoop_DW_500\n",
       "29 93HG_100 2004-05-13  5    133  11.47       4.07          5.11      \n",
       "30 93HG_101 2004-06-08  6    159  14.01       3.86         10.72      \n",
       "31 93HG_102 2004-07-07  7    188  18.15       5.62          7.91      \n",
       "32 93HG_103 2004-08-10  8    222  15.80       3.88          8.86      \n",
       "33 93HG_104 2004-09-07  9    250  11.44       2.44          3.24      \n",
       "34 93HG_105 2004-10-05 10    278   5.40       1.07          2.81      \n",
       "   zoop_ash_500\n",
       "29 2.82        \n",
       "30 4.29        \n",
       "31 2.33        \n",
       "32 2.95        \n",
       "33 1.05        \n",
       "34 1.11        "
      ]
     },
     "metadata": {},
     "output_type": "display_data"
    }
   ],
   "source": [
    "tail(ZOOdat)"
   ]
  },
  {
   "cell_type": "code",
   "execution_count": 20,
   "metadata": {},
   "outputs": [],
   "source": [
    "# Write CSV in R\n",
    "write.csv(ZOOdat, file = \"DATA_processed/ZOOPLANKTON_processed.csv\")"
   ]
  },
  {
   "cell_type": "code",
   "execution_count": null,
   "metadata": {},
   "outputs": [],
   "source": []
  },
  {
   "cell_type": "code",
   "execution_count": null,
   "metadata": {},
   "outputs": [],
   "source": []
  },
  {
   "cell_type": "code",
   "execution_count": null,
   "metadata": {},
   "outputs": [],
   "source": []
  },
  {
   "cell_type": "code",
   "execution_count": null,
   "metadata": {},
   "outputs": [],
   "source": []
  },
  {
   "cell_type": "code",
   "execution_count": null,
   "metadata": {},
   "outputs": [],
   "source": []
  }
 ],
 "metadata": {
  "kernelspec": {
   "display_name": "R",
   "language": "R",
   "name": "ir"
  },
  "language_info": {
   "codemirror_mode": "r",
   "file_extension": ".r",
   "mimetype": "text/x-r-source",
   "name": "R",
   "pygments_lexer": "r",
   "version": "3.6.1"
  }
 },
 "nbformat": 4,
 "nbformat_minor": 4
}
