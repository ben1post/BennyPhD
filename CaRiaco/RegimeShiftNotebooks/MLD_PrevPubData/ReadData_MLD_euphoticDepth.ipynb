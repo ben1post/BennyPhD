{
 "cells": [
  {
   "cell_type": "markdown",
   "metadata": {},
   "source": [
    "# Get master list of cruises and dates to match data to"
   ]
  },
  {
   "cell_type": "code",
   "execution_count": 1,
   "metadata": {},
   "outputs": [],
   "source": [
    "# read ctd file\n",
    "ctd <- read.csv(\"../DATA_processed/CTDdat_processed.csv\")"
   ]
  },
  {
   "cell_type": "code",
   "execution_count": 2,
   "metadata": {},
   "outputs": [
    {
     "data": {
      "text/html": [
       "<table>\n",
       "<thead><tr><th scope=col>X</th><th scope=col>CruiseID</th><th scope=col>Date</th><th scope=col>month</th><th scope=col>days</th><th scope=col>press</th><th scope=col>depth</th><th scope=col>lat</th><th scope=col>lon</th><th scope=col>sigma_t</th><th scope=col>sigma_0</th><th scope=col>potemp</th><th scope=col>sal</th><th scope=col>temp</th><th scope=col>beam_att</th><th scope=col>beam_cp</th><th scope=col>fluor_chla</th></tr></thead>\n",
       "<tbody>\n",
       "\t<tr><td>1         </td><td>93HG_001  </td><td>1995-11-08</td><td>11        </td><td>311       </td><td> 2.011    </td><td> 2        </td><td>10.5      </td><td>-64.67    </td><td>23.764    </td><td>23.764    </td><td>27.522    </td><td>36.612    </td><td>27.522    </td><td>NA        </td><td>NA        </td><td>NA        </td></tr>\n",
       "\t<tr><td>2         </td><td>93HG_001  </td><td>1995-11-08</td><td>11        </td><td>311       </td><td> 4.023    </td><td> 4        </td><td>10.5      </td><td>-64.67    </td><td>23.775    </td><td>23.775    </td><td>27.488    </td><td>36.612    </td><td>27.489    </td><td>NA        </td><td>NA        </td><td>NA        </td></tr>\n",
       "\t<tr><td>3         </td><td>93HG_001  </td><td>1995-11-08</td><td>11        </td><td>311       </td><td> 6.034    </td><td> 6        </td><td>10.5      </td><td>-64.67    </td><td>23.782    </td><td>23.782    </td><td>27.464    </td><td>36.614    </td><td>27.465    </td><td>NA        </td><td>NA        </td><td>NA        </td></tr>\n",
       "\t<tr><td>4         </td><td>93HG_001  </td><td>1995-11-08</td><td>11        </td><td>311       </td><td> 8.046    </td><td> 8        </td><td>10.5      </td><td>-64.67    </td><td>23.786    </td><td>23.787    </td><td>27.456    </td><td>36.613    </td><td>27.458    </td><td>NA        </td><td>NA        </td><td>NA        </td></tr>\n",
       "\t<tr><td>5         </td><td>93HG_001  </td><td>1995-11-08</td><td>11        </td><td>311       </td><td>10.057    </td><td>10        </td><td>10.5      </td><td>-64.67    </td><td>23.787    </td><td>23.787    </td><td>27.452    </td><td>36.613    </td><td>27.454    </td><td>NA        </td><td>NA        </td><td>NA        </td></tr>\n",
       "\t<tr><td>6         </td><td>93HG_001  </td><td>1995-11-08</td><td>11        </td><td>311       </td><td>12.069    </td><td>12        </td><td>10.5      </td><td>-64.67    </td><td>23.787    </td><td>23.788    </td><td>27.449    </td><td>36.612    </td><td>27.452    </td><td>NA        </td><td>NA        </td><td>NA        </td></tr>\n",
       "</tbody>\n",
       "</table>\n"
      ],
      "text/latex": [
       "\\begin{tabular}{r|lllllllllllllllll}\n",
       " X & CruiseID & Date & month & days & press & depth & lat & lon & sigma\\_t & sigma\\_0 & potemp & sal & temp & beam\\_att & beam\\_cp & fluor\\_chla\\\\\n",
       "\\hline\n",
       "\t 1          & 93HG\\_001 & 1995-11-08 & 11         & 311        &  2.011     &  2         & 10.5       & -64.67     & 23.764     & 23.764     & 27.522     & 36.612     & 27.522     & NA         & NA         & NA        \\\\\n",
       "\t 2          & 93HG\\_001 & 1995-11-08 & 11         & 311        &  4.023     &  4         & 10.5       & -64.67     & 23.775     & 23.775     & 27.488     & 36.612     & 27.489     & NA         & NA         & NA        \\\\\n",
       "\t 3          & 93HG\\_001 & 1995-11-08 & 11         & 311        &  6.034     &  6         & 10.5       & -64.67     & 23.782     & 23.782     & 27.464     & 36.614     & 27.465     & NA         & NA         & NA        \\\\\n",
       "\t 4          & 93HG\\_001 & 1995-11-08 & 11         & 311        &  8.046     &  8         & 10.5       & -64.67     & 23.786     & 23.787     & 27.456     & 36.613     & 27.458     & NA         & NA         & NA        \\\\\n",
       "\t 5          & 93HG\\_001 & 1995-11-08 & 11         & 311        & 10.057     & 10         & 10.5       & -64.67     & 23.787     & 23.787     & 27.452     & 36.613     & 27.454     & NA         & NA         & NA        \\\\\n",
       "\t 6          & 93HG\\_001 & 1995-11-08 & 11         & 311        & 12.069     & 12         & 10.5       & -64.67     & 23.787     & 23.788     & 27.449     & 36.612     & 27.452     & NA         & NA         & NA        \\\\\n",
       "\\end{tabular}\n"
      ],
      "text/markdown": [
       "\n",
       "| X | CruiseID | Date | month | days | press | depth | lat | lon | sigma_t | sigma_0 | potemp | sal | temp | beam_att | beam_cp | fluor_chla |\n",
       "|---|---|---|---|---|---|---|---|---|---|---|---|---|---|---|---|---|\n",
       "| 1          | 93HG_001   | 1995-11-08 | 11         | 311        |  2.011     |  2         | 10.5       | -64.67     | 23.764     | 23.764     | 27.522     | 36.612     | 27.522     | NA         | NA         | NA         |\n",
       "| 2          | 93HG_001   | 1995-11-08 | 11         | 311        |  4.023     |  4         | 10.5       | -64.67     | 23.775     | 23.775     | 27.488     | 36.612     | 27.489     | NA         | NA         | NA         |\n",
       "| 3          | 93HG_001   | 1995-11-08 | 11         | 311        |  6.034     |  6         | 10.5       | -64.67     | 23.782     | 23.782     | 27.464     | 36.614     | 27.465     | NA         | NA         | NA         |\n",
       "| 4          | 93HG_001   | 1995-11-08 | 11         | 311        |  8.046     |  8         | 10.5       | -64.67     | 23.786     | 23.787     | 27.456     | 36.613     | 27.458     | NA         | NA         | NA         |\n",
       "| 5          | 93HG_001   | 1995-11-08 | 11         | 311        | 10.057     | 10         | 10.5       | -64.67     | 23.787     | 23.787     | 27.452     | 36.613     | 27.454     | NA         | NA         | NA         |\n",
       "| 6          | 93HG_001   | 1995-11-08 | 11         | 311        | 12.069     | 12         | 10.5       | -64.67     | 23.787     | 23.788     | 27.449     | 36.612     | 27.452     | NA         | NA         | NA         |\n",
       "\n"
      ],
      "text/plain": [
       "  X CruiseID Date       month days press  depth lat  lon    sigma_t sigma_0\n",
       "1 1 93HG_001 1995-11-08 11    311   2.011  2    10.5 -64.67 23.764  23.764 \n",
       "2 2 93HG_001 1995-11-08 11    311   4.023  4    10.5 -64.67 23.775  23.775 \n",
       "3 3 93HG_001 1995-11-08 11    311   6.034  6    10.5 -64.67 23.782  23.782 \n",
       "4 4 93HG_001 1995-11-08 11    311   8.046  8    10.5 -64.67 23.786  23.787 \n",
       "5 5 93HG_001 1995-11-08 11    311  10.057 10    10.5 -64.67 23.787  23.787 \n",
       "6 6 93HG_001 1995-11-08 11    311  12.069 12    10.5 -64.67 23.787  23.788 \n",
       "  potemp sal    temp   beam_att beam_cp fluor_chla\n",
       "1 27.522 36.612 27.522 NA       NA      NA        \n",
       "2 27.488 36.612 27.489 NA       NA      NA        \n",
       "3 27.464 36.614 27.465 NA       NA      NA        \n",
       "4 27.456 36.613 27.458 NA       NA      NA        \n",
       "5 27.452 36.613 27.454 NA       NA      NA        \n",
       "6 27.449 36.612 27.452 NA       NA      NA        "
      ]
     },
     "metadata": {},
     "output_type": "display_data"
    }
   ],
   "source": [
    "head(ctd)"
   ]
  },
  {
   "cell_type": "code",
   "execution_count": 3,
   "metadata": {},
   "outputs": [
    {
     "name": "stdout",
     "output_type": "stream",
     "text": [
      "'data.frame':\t198 obs. of  3 variables:\n",
      " $ CruiseID : Factor w/ 198 levels \"93HG_001\",\"93HG_002\",..: 1 2 3 4 5 6 7 8 9 10 ...\n",
      " $ Date     : Date, format: \"1995-11-08\" \"1995-12-13\" ...\n",
      " $ DateMonth: chr  \"1995-11\" \"1995-12\" \"1996-01\" \"1996-02\" ...\n"
     ]
    }
   ],
   "source": [
    "master <- data.frame(CruiseID=levels(ctd$CruiseID),Date=levels(as.factor(ctd$Date)))\n",
    "\n",
    "#reformat Date from chr to Date\n",
    "master$Date <- as.Date(master$Date, format=\"%Y-%m-%d\")\n",
    "\n",
    "# get just month and year for merging later\n",
    "master$DateMonth <- format(master$Date, format=\"%Y-%m\")\n",
    "\n",
    "str(master)"
   ]
  },
  {
   "cell_type": "markdown",
   "metadata": {},
   "source": [
    "# Read Pinckney MLD data, match to master and clean up"
   ]
  },
  {
   "cell_type": "code",
   "execution_count": 4,
   "metadata": {},
   "outputs": [],
   "source": [
    "# read MLD depth file\n",
    "MLD_2015 <- read.csv(\"MLD_Cariaco_Edit.csv\")\n",
    "\n",
    "# read Date column\n",
    "MLD_2015$Date <- as.Date(MLD_2015$date, format=\"%m/%d/%y\")\n",
    "\n",
    "# get just month and year for merging later\n",
    "MLD_2015$DateMonth <- format(MLD_2015$Date, format=\"%Y-%m\")"
   ]
  },
  {
   "cell_type": "code",
   "execution_count": 5,
   "metadata": {},
   "outputs": [],
   "source": [
    "MLD_2015_fixed <- merge(master,MLD_2015,by = \"DateMonth\", all = \"true\")"
   ]
  },
  {
   "cell_type": "code",
   "execution_count": 6,
   "metadata": {},
   "outputs": [
    {
     "name": "stdout",
     "output_type": "stream",
     "text": [
      "'data.frame':\t207 obs. of  7 variables:\n",
      " $ DateMonth: chr  \"1995-11\" \"1995-12\" \"1996-01\" \"1996-02\" ...\n",
      " $ CruiseID : Factor w/ 198 levels \"93HG_001\",\"93HG_002\",..: 1 2 3 4 5 6 7 8 9 10 ...\n",
      " $ Date.x   : Date, format: \"1995-11-08\" \"1995-12-13\" ...\n",
      " $ cuise    : int  NA NA 3 4 5 6 7 8 9 10 ...\n",
      " $ date     : Factor w/ 203 levels \"01/01/08\",\"01/01/09\",..: NA NA 14 31 48 65 82 99 116 133 ...\n",
      " $ MLD      : int  NA NA 36 28 28 32 12 21 14 22 ...\n",
      " $ Date.y   : Date, format: NA NA ...\n"
     ]
    }
   ],
   "source": [
    "str(MLD_2015_fixed)"
   ]
  },
  {
   "cell_type": "markdown",
   "metadata": {},
   "source": [
    "# Read LEGACY MLD"
   ]
  },
  {
   "cell_type": "code",
   "execution_count": 13,
   "metadata": {},
   "outputs": [],
   "source": [
    "# read MLD depth file\n",
    "MLD_2019 <- read.csv(\"Upwelling_Final-Feb 2018_edit_incISO.csv\", sep=';', dec=',')\n",
    "\n",
    "# read Date column\n",
    "MLD_2019$Date <- as.Date(MLD_2019$Date, format=\"%m.%d.%y\")\n",
    "\n",
    "# get just month and year for merging later\n",
    "MLD_2019$DateMonth <- format(MLD_2019$Date, format=\"%Y-%m\")"
   ]
  },
  {
   "cell_type": "code",
   "execution_count": 14,
   "metadata": {},
   "outputs": [
    {
     "name": "stdout",
     "output_type": "stream",
     "text": [
      "'data.frame':\t230 obs. of  5 variables:\n",
      " $ Date     : Date, format: \"1995-11-01\" \"1995-12-01\" ...\n",
      " $ MLD      : num  24.14 18.1 10.06 8.05 10.06 ...\n",
      " $ X21degC  : int  130 114 102 94 48 48 30 81 108 86 ...\n",
      " $ X22degC  : int  118 94 62 66 24 26 8 39 93 48 ...\n",
      " $ DateMonth: chr  \"1995-11\" \"1995-12\" \"1996-01\" \"1996-02\" ...\n"
     ]
    }
   ],
   "source": [
    "str(MLD_2019)"
   ]
  },
  {
   "cell_type": "code",
   "execution_count": 15,
   "metadata": {},
   "outputs": [],
   "source": [
    "MLD_201519 <- merge(MLD_2015_fixed,MLD_2019,by = \"DateMonth\", all = \"True\")"
   ]
  },
  {
   "cell_type": "code",
   "execution_count": 16,
   "metadata": {},
   "outputs": [
    {
     "name": "stdout",
     "output_type": "stream",
     "text": [
      "'data.frame':\t240 obs. of  11 variables:\n",
      " $ DateMonth: chr  \"1995-11\" \"1995-12\" \"1996-01\" \"1996-02\" ...\n",
      " $ CruiseID : Factor w/ 198 levels \"93HG_001\",\"93HG_002\",..: 1 2 3 4 5 6 7 8 9 10 ...\n",
      " $ Date.x   : Date, format: \"1995-11-08\" \"1995-12-13\" ...\n",
      " $ cuise    : int  NA NA 3 4 5 6 7 8 9 10 ...\n",
      " $ date     : Factor w/ 203 levels \"01/01/08\",\"01/01/09\",..: NA NA 14 31 48 65 82 99 116 133 ...\n",
      " $ MLD.x    : int  NA NA 36 28 28 32 12 21 14 22 ...\n",
      " $ Date.y   : Date, format: NA NA ...\n",
      " $ Date     : Date, format: \"1995-11-01\" \"1995-12-01\" ...\n",
      " $ MLD.y    : num  24.14 18.1 10.06 8.05 10.06 ...\n",
      " $ X21degC  : int  130 114 102 94 48 48 30 81 108 86 ...\n",
      " $ X22degC  : int  118 94 62 66 24 26 8 39 93 48 ...\n"
     ]
    }
   ],
   "source": [
    "str(MLD_201519)"
   ]
  },
  {
   "cell_type": "markdown",
   "metadata": {},
   "source": [
    "# Read euphotic depth data, and clean up data frame"
   ]
  },
  {
   "cell_type": "code",
   "execution_count": 17,
   "metadata": {},
   "outputs": [],
   "source": [
    "# read MLD depth file\n",
    "EuZ <- read.csv(\"par_Light_Level_edit.csv\")\n",
    "\n",
    "# read Date column\n",
    "EuZ$DateEu <- as.Date(EuZ$Fecha, format=\"%m/%d/%y\")\n",
    "\n",
    "# get just month and year for merging later\n",
    "EuZ$DateMonth <- format(EuZ$DateEu, format=\"%Y-%m\")"
   ]
  },
  {
   "cell_type": "code",
   "execution_count": 18,
   "metadata": {},
   "outputs": [
    {
     "name": "stdout",
     "output_type": "stream",
     "text": [
      "'data.frame':\t132 obs. of  7 variables:\n",
      " $ Campaign : Factor w/ 131 levels \"\",\"C118\",\"C119\",..: 72 73 74 75 76 77 78 79 80 81 ...\n",
      " $ Fecha    : Factor w/ 131 levels \"\",\"1/1/98\",\"1/1/99\",..: 23 32 2 42 54 67 89 101 111 121 ...\n",
      " $ X0.10.   : num  59 59 46.5 NA 25.5 74 71 60 71.5 74 ...\n",
      " $ X1.      : num  48.5 34 33 NA 14.5 45 45 41.5 48 57.5 ...\n",
      " $ X10.     : num  23 13.5 14 21 6.5 21 23.5 17.5 29 27 ...\n",
      " $ DateEu   : Date, format: \"1997-11-01\" \"1997-12-01\" ...\n",
      " $ DateMonth: chr  \"1997-11\" \"1997-12\" \"1998-01\" \"1998-02\" ...\n"
     ]
    }
   ],
   "source": [
    "str(EuZ)"
   ]
  },
  {
   "cell_type": "code",
   "execution_count": null,
   "metadata": {},
   "outputs": [],
   "source": []
  },
  {
   "cell_type": "code",
   "execution_count": 19,
   "metadata": {},
   "outputs": [],
   "source": [
    "MEZ <- merge(MLD_201519,EuZ,by = \"DateMonth\", all = \"True\")"
   ]
  },
  {
   "cell_type": "code",
   "execution_count": 20,
   "metadata": {},
   "outputs": [
    {
     "name": "stdout",
     "output_type": "stream",
     "text": [
      "'data.frame':\t241 obs. of  17 variables:\n",
      " $ DateMonth: chr  \"1995-11\" \"1995-12\" \"1996-01\" \"1996-02\" ...\n",
      " $ CruiseID : Factor w/ 198 levels \"93HG_001\",\"93HG_002\",..: 1 2 3 4 5 6 7 8 9 10 ...\n",
      " $ Date.x   : Date, format: \"1995-11-08\" \"1995-12-13\" ...\n",
      " $ cuise    : int  NA NA 3 4 5 6 7 8 9 10 ...\n",
      " $ date     : Factor w/ 203 levels \"01/01/08\",\"01/01/09\",..: NA NA 14 31 48 65 82 99 116 133 ...\n",
      " $ MLD.x    : int  NA NA 36 28 28 32 12 21 14 22 ...\n",
      " $ Date.y   : Date, format: NA NA ...\n",
      " $ Date     : Date, format: \"1995-11-01\" \"1995-12-01\" ...\n",
      " $ MLD.y    : num  24.14 18.1 10.06 8.05 10.06 ...\n",
      " $ X21degC  : int  130 114 102 94 48 48 30 81 108 86 ...\n",
      " $ X22degC  : int  118 94 62 66 24 26 8 39 93 48 ...\n",
      " $ Campaign : Factor w/ 131 levels \"\",\"C118\",\"C119\",..: NA NA NA NA NA NA NA NA NA NA ...\n",
      " $ Fecha    : Factor w/ 131 levels \"\",\"1/1/98\",\"1/1/99\",..: NA NA NA NA NA NA NA NA NA NA ...\n",
      " $ X0.10.   : num  NA NA NA NA NA NA NA NA NA NA ...\n",
      " $ X1.      : num  NA NA NA NA NA NA NA NA NA NA ...\n",
      " $ X10.     : num  NA NA NA NA NA NA NA NA NA NA ...\n",
      " $ DateEu   : Date, format: NA NA ...\n"
     ]
    }
   ],
   "source": [
    "str(MEZ)"
   ]
  },
  {
   "cell_type": "markdown",
   "metadata": {},
   "source": [
    "# Export csv containing all values"
   ]
  },
  {
   "cell_type": "code",
   "execution_count": 21,
   "metadata": {},
   "outputs": [],
   "source": [
    "# clean up data frame\n",
    "ALLDATA <- data.frame(CruiseID = MEZ$CruiseID, Date = MEZ$Date.x, MLD2015 = MEZ$MLD.x,\n",
    "                     MLD2019 = MEZ$MLD.y, x0.1 = MEZ$X0.10., x1 = MEZ$X1., x10 =MEZ$X10., '21degC'=MEZ$X21degC, '22degC'=MEZ$X22degC)\n",
    "ALLDATA_filt <- ALLDATA[complete.cases(ALLDATA$CruiseID),]"
   ]
  },
  {
   "cell_type": "code",
   "execution_count": 22,
   "metadata": {},
   "outputs": [],
   "source": [
    "# Write CSV in R\n",
    "write.csv(ALLDATA_filt, file = \"../DATA_processed/MLD2EuZ_2.csv\")"
   ]
  },
  {
   "cell_type": "code",
   "execution_count": null,
   "metadata": {},
   "outputs": [],
   "source": []
  },
  {
   "cell_type": "code",
   "execution_count": null,
   "metadata": {},
   "outputs": [],
   "source": []
  },
  {
   "cell_type": "code",
   "execution_count": null,
   "metadata": {},
   "outputs": [],
   "source": []
  }
 ],
 "metadata": {
  "kernelspec": {
   "display_name": "R",
   "language": "R",
   "name": "ir"
  },
  "language_info": {
   "codemirror_mode": "r",
   "file_extension": ".r",
   "mimetype": "text/x-r-source",
   "name": "R",
   "pygments_lexer": "r",
   "version": "3.6.0"
  }
 },
 "nbformat": 4,
 "nbformat_minor": 2
}
