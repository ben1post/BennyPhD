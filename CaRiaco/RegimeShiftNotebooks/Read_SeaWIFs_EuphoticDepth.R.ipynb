{
 "cells": [
  {
   "cell_type": "markdown",
   "metadata": {},
   "source": [
    "# Read SeaWIFs monthly euphotic depth data\n",
    "\n",
    "this R notebook reads netcdf files from L3 Browser @ NASA Ocean Color https://oceancolor.gsfc.nasa.gov/l3/\n",
    "\n",
    "the data is from 8-day running averages of euphotic depth measured by SeaWIFs extracted from the Cariaco Region"
   ]
  },
  {
   "cell_type": "code",
   "execution_count": 11,
   "metadata": {},
   "outputs": [],
   "source": [
    "library(\"ncdf4\")\n",
    "library(\"reshape2\")"
   ]
  },
  {
   "cell_type": "code",
   "execution_count": 12,
   "metadata": {},
   "outputs": [
    {
     "data": {
      "text/html": [
       "TRUE"
      ],
      "text/latex": [
       "TRUE"
      ],
      "text/markdown": [
       "TRUE"
      ],
      "text/plain": [
       "[1] TRUE"
      ]
     },
     "metadata": {},
     "output_type": "display_data"
    },
    {
     "name": "stdout",
     "output_type": "stream",
     "text": [
      "[1] \"DATA_processed/SeaWIFs_EuphoticDepth_extracted.csv\"\n"
     ]
    }
   ],
   "source": [
    "outputfile <- \"DATA_processed/SeaWIFs_EuphoticDepth_extracted.csv\"\n",
    "if (file.exists(outputfile)) file.remove(outputfile)    # caution new data will be appended to this file if it already exists\n",
    "print(outputfile)"
   ]
  },
  {
   "cell_type": "markdown",
   "metadata": {},
   "source": [
    "## create bounding box & create list of file names"
   ]
  },
  {
   "cell_type": "code",
   "execution_count": 13,
   "metadata": {},
   "outputs": [
    {
     "data": {
      "text/html": [
       "'outputfile'"
      ],
      "text/latex": [
       "'outputfile'"
      ],
      "text/markdown": [
       "'outputfile'"
      ],
      "text/plain": [
       "[1] \"outputfile\""
      ]
     },
     "metadata": {},
     "output_type": "display_data"
    },
    {
     "name": "stdout",
     "output_type": "stream",
     "text": [
      "[1] \"S19972741997304.L3m_MO_ZLEE.x_Zeu_lee.nc\"\n",
      "[2] \"S19973051997334.L3m_MO_ZLEE.x_Zeu_lee.nc\"\n",
      "[3] \"S19973351997365.L3m_MO_ZLEE.x_Zeu_lee.nc\"\n",
      "[4] \"S19980011998031.L3m_MO_ZLEE.x_Zeu_lee.nc\"\n",
      "[5] \"S19980321998059.L3m_MO_ZLEE.x_Zeu_lee.nc\"\n",
      "[6] \"S19980601998090.L3m_MO_ZLEE.x_Zeu_lee.nc\"\n"
     ]
    }
   ],
   "source": [
    "# list and remove objects\n",
    "ls()\n",
    "rm(list = ls())\n",
    "\n",
    "# 10.500000, -64.666667\n",
    "\n",
    "# set the study area\n",
    "latmax <- 10.6\n",
    "latmin <- 10.4\n",
    "lonmax <- -64.75\n",
    "lonmin <- -65.6\n",
    "\n",
    "# create a list of files and indicate its length\n",
    "f <- list.files(\"DATA_raw/SeaWIFs_euphoticdepth_monthly/.\", pattern=\"*.L3m_MO_ZLEE.x_Zeu_lee.nc\",full.names=F)\n",
    "lf<-length(f)\n",
    "print(head(f))"
   ]
  },
  {
   "cell_type": "markdown",
   "metadata": {},
   "source": [
    "## show netcdf file structure"
   ]
  },
  {
   "cell_type": "code",
   "execution_count": 14,
   "metadata": {},
   "outputs": [
    {
     "name": "stdout",
     "output_type": "stream",
     "text": [
      "File DATA_raw/SeaWIFs_euphoticdepth_monthly/S19972741997304.L3m_MO_ZLEE.x_Zeu_lee.nc (NC_FORMAT_NETCDF4):\n",
      "\n",
      "     2 variables (excluding dimension variables):\n",
      "        short Zeu_lee[lon,lat]   (Chunking: [26,26])  (Compression: shuffle,level 4)\n",
      "            long_name: Euphotic depth, Lee algorithm\n",
      "            scale_factor: 0.00499999988824129\n",
      "            add_offset: 160\n",
      "            units: m\n",
      "            _FillValue: -32767\n",
      "            valid_min: -32000\n",
      "            valid_max: 4000\n",
      "            display_scale: linear\n",
      "            display_min: 5\n",
      "            display_max: 180\n",
      "        unsigned byte palette[eightbitcolor,rgb]   (Contiguous storage)  \n",
      "\n",
      "     4 dimensions:\n",
      "        lat  Size:75\n",
      "            long_name: Latitude\n",
      "            units: degrees_north\n",
      "            standard_name: latitude\n",
      "            _FillValue: -999\n",
      "            valid_min: -90\n",
      "            valid_max: 90\n",
      "        lon  Size:75\n",
      "            long_name: Longitude\n",
      "            units: degrees_east\n",
      "            standard_name: longitude\n",
      "            _FillValue: -999\n",
      "            valid_min: -180\n",
      "            valid_max: 180\n",
      "        rgb  Size:3\n",
      "        eightbitcolor  Size:256\n",
      "\n",
      "    60 global attributes:\n",
      "        product_name: S19972741997304.L3m_MO_ZLEE.x_Zeu_lee.nc\n",
      "        instrument: SeaWiFS\n",
      "        title: SeaWiFS Level-3 Standard Mapped Image\n",
      "        project: Ocean Biology Processing Group (NASA/GSFC/OBPG)\n",
      "        platform: Orbview-2\n",
      "        temporal_range: month\n",
      "        processing_version: Unspecified\n",
      "        date_created: 2019-04-03T14:05:56.000Z\n",
      "        history: l3mapgen par=S19972741997304.L3m_MO_ZLEE.x_Zeu_lee.nc.param \n",
      "        l2_flag_names: ATMFAIL,LAND,HILT,HISATZEN,STRAYLIGHT,CLDICE,COCCOLITH,LOWLW,CHLWARN,CHLFAIL,NAVWARN,MAXAERITER,ATMWARN,HISOLZEN,NAVFAIL,FILTER,HIGLINT\n",
      "        time_coverage_start: 1997-09-30T20:56:59.000Z\n",
      "        time_coverage_end: 1997-11-01T01:04:34.000Z\n",
      "        start_orbit_number: 900\n",
      "        end_orbit_number: 1353\n",
      "        map_projection: Equidistant Cylindrical\n",
      "        latitude_units: degrees_north\n",
      "        longitude_units: degrees_east\n",
      "        northernmost_latitude: 14.960000038147\n",
      "        southernmost_latitude: 8.64000034332275\n",
      "        westernmost_longitude: -69.2600021362305\n",
      "        easternmost_longitude: -62.9300003051758\n",
      "        geospatial_lat_max: 14.960000038147\n",
      "        geospatial_lat_min: 8.64000034332275\n",
      "        geospatial_lon_max: -62.9300003051758\n",
      "        geospatial_lon_min: -69.2600021362305\n",
      "        grid_mapping_name: latitude_longitude\n",
      "        latitude_step: 0.0842666625976562\n",
      "        longitude_step: 0.0844000279903412\n",
      "        sw_point_latitude: 8.68213367462158\n",
      "        sw_point_longitude: -69.2178039550781\n",
      "        geospatial_lon_resolution: 9.27662467956543\n",
      "        geospatial_lat_resolution: 9.27662467956543\n",
      "        geospatial_lat_units: degrees_north\n",
      "        geospatial_lon_units: degrees_east\n",
      "        spatialResolution: 9.28 km\n",
      "        number_of_lines: 75\n",
      "        number_of_columns: 75\n",
      "        measure: Mean\n",
      "        suggested_image_scaling_minimum: 5\n",
      "        suggested_image_scaling_maximum: 180\n",
      "        suggested_image_scaling_type: LINEAR\n",
      "        suggested_image_scaling_applied: No\n",
      "        _lastModified: 2019-04-03T14:05:56.000Z\n",
      "        Conventions: CF-1.6 ACDD-1.3\n",
      "        institution: NASA Goddard Space Flight Center, Ocean Ecology Laboratory, Ocean Biology Processing Group\n",
      "        standard_name_vocabulary: CF Standard Name Table v36\n",
      "        naming_authority: gov.nasa.gsfc.sci.oceandata\n",
      "        id: L3//data1/sdpsoper/vdc/vpu0/workbuf/S19972741997304.L3b_MO_ZLEE.x.nc\n",
      "        license: http://science.nasa.gov/earth-science/earth-science-data/data-information-policy/\n",
      "        creator_name: NASA/GSFC/OBPG\n",
      "        publisher_name: NASA/GSFC/OBPG\n",
      "        creator_email: data@oceancolor.gsfc.nasa.gov\n",
      "        publisher_email: data@oceancolor.gsfc.nasa.gov\n",
      "        creator_url: http://oceandata.sci.gsfc.nasa.gov\n",
      "        publisher_url: http://oceandata.sci.gsfc.nasa.gov\n",
      "        processing_level: L3 Mapped\n",
      "        cdm_data_type: grid\n",
      "        data_bins: 3905\n",
      "        data_minimum: 9.42254447937012\n",
      "        data_maximum: 105.378173828125\n"
     ]
    }
   ],
   "source": [
    "data<-nc_open(paste('DATA_raw/SeaWIFs_euphoticdepth_monthly/',f[1],sep=''))\n",
    "print(data)\n",
    "# extract data\n",
    "nc_close(data)"
   ]
  },
  {
   "cell_type": "markdown",
   "metadata": {},
   "source": [
    "## define variable to extract : PAR"
   ]
  },
  {
   "cell_type": "code",
   "execution_count": 15,
   "metadata": {},
   "outputs": [],
   "source": [
    "# variable\n",
    "var<-\"Zeu_lee\""
   ]
  },
  {
   "cell_type": "markdown",
   "metadata": {},
   "source": [
    "## Open each individual file and extract PAR values within bounding box defined above"
   ]
  },
  {
   "cell_type": "code",
   "execution_count": 16,
   "metadata": {},
   "outputs": [
    {
     "name": "stdout",
     "output_type": "stream",
     "text": [
      "[1] \"Processing file 1 from 152\"\n",
      "[1] \"Processing file 2 from 152\"\n",
      "[1] \"Processing file 3 from 152\"\n",
      "[1] \"Processing file 4 from 152\"\n",
      "[1] \"Processing file 5 from 152\"\n",
      "[1] \"Processing file 6 from 152\"\n",
      "[1] \"Processing file 7 from 152\"\n",
      "[1] \"Processing file 8 from 152\"\n",
      "[1] \"Processing file 9 from 152\"\n",
      "[1] \"Processing file 10 from 152\"\n",
      "[1] \"Processing file 11 from 152\"\n",
      "[1] \"Processing file 12 from 152\"\n",
      "[1] \"Processing file 13 from 152\"\n",
      "[1] \"Processing file 14 from 152\"\n",
      "[1] \"Processing file 15 from 152\"\n",
      "[1] \"Processing file 16 from 152\"\n",
      "[1] \"Processing file 17 from 152\"\n",
      "[1] \"Processing file 18 from 152\"\n",
      "[1] \"Processing file 19 from 152\"\n",
      "[1] \"Processing file 20 from 152\"\n",
      "[1] \"Processing file 21 from 152\"\n",
      "[1] \"Processing file 22 from 152\"\n",
      "[1] \"Processing file 23 from 152\"\n",
      "[1] \"Processing file 24 from 152\"\n",
      "[1] \"Processing file 25 from 152\"\n",
      "[1] \"Processing file 26 from 152\"\n",
      "[1] \"Processing file 27 from 152\"\n",
      "[1] \"Processing file 28 from 152\"\n",
      "[1] \"Processing file 29 from 152\"\n",
      "[1] \"Processing file 30 from 152\"\n",
      "[1] \"Processing file 31 from 152\"\n",
      "[1] \"Processing file 32 from 152\"\n",
      "[1] \"Processing file 33 from 152\"\n",
      "[1] \"Processing file 34 from 152\"\n",
      "[1] \"Processing file 35 from 152\"\n",
      "[1] \"Processing file 36 from 152\"\n",
      "[1] \"Processing file 37 from 152\"\n",
      "[1] \"Processing file 38 from 152\"\n",
      "[1] \"Processing file 39 from 152\"\n",
      "[1] \"Processing file 40 from 152\"\n",
      "[1] \"Processing file 41 from 152\"\n",
      "[1] \"Processing file 42 from 152\"\n",
      "[1] \"Processing file 43 from 152\"\n",
      "[1] \"Processing file 44 from 152\"\n",
      "[1] \"Processing file 45 from 152\"\n",
      "[1] \"Processing file 46 from 152\"\n",
      "[1] \"Processing file 47 from 152\"\n",
      "[1] \"Processing file 48 from 152\"\n",
      "[1] \"Processing file 49 from 152\"\n",
      "[1] \"Processing file 50 from 152\"\n",
      "[1] \"Processing file 51 from 152\"\n",
      "[1] \"Processing file 52 from 152\"\n",
      "[1] \"Processing file 53 from 152\"\n",
      "[1] \"Processing file 54 from 152\"\n",
      "[1] \"Processing file 55 from 152\"\n",
      "[1] \"Processing file 56 from 152\"\n",
      "[1] \"Processing file 57 from 152\"\n",
      "[1] \"Processing file 58 from 152\"\n",
      "[1] \"Processing file 59 from 152\"\n",
      "[1] \"Processing file 60 from 152\"\n",
      "[1] \"Processing file 61 from 152\"\n",
      "[1] \"Processing file 62 from 152\"\n",
      "[1] \"Processing file 63 from 152\"\n",
      "[1] \"Processing file 64 from 152\"\n",
      "[1] \"Processing file 65 from 152\"\n",
      "[1] \"Processing file 66 from 152\"\n",
      "[1] \"Processing file 67 from 152\"\n",
      "[1] \"Processing file 68 from 152\"\n",
      "[1] \"Processing file 69 from 152\"\n",
      "[1] \"Processing file 70 from 152\"\n",
      "[1] \"Processing file 71 from 152\"\n",
      "[1] \"Processing file 72 from 152\"\n",
      "[1] \"Processing file 73 from 152\"\n",
      "[1] \"Processing file 74 from 152\"\n",
      "[1] \"Processing file 75 from 152\"\n",
      "[1] \"Processing file 76 from 152\"\n",
      "[1] \"Processing file 77 from 152\"\n",
      "[1] \"Processing file 78 from 152\"\n",
      "[1] \"Processing file 79 from 152\"\n",
      "[1] \"Processing file 80 from 152\"\n",
      "[1] \"Processing file 81 from 152\"\n",
      "[1] \"Processing file 82 from 152\"\n",
      "[1] \"Processing file 83 from 152\"\n",
      "[1] \"Processing file 84 from 152\"\n",
      "[1] \"Processing file 85 from 152\"\n",
      "[1] \"Processing file 86 from 152\"\n",
      "[1] \"Processing file 87 from 152\"\n",
      "[1] \"Processing file 88 from 152\"\n",
      "[1] \"Processing file 89 from 152\"\n",
      "[1] \"Processing file 90 from 152\"\n",
      "[1] \"Processing file 91 from 152\"\n",
      "[1] \"Processing file 92 from 152\"\n",
      "[1] \"Processing file 93 from 152\"\n",
      "[1] \"Processing file 94 from 152\"\n",
      "[1] \"Processing file 95 from 152\"\n",
      "[1] \"Processing file 96 from 152\"\n",
      "[1] \"Processing file 97 from 152\"\n",
      "[1] \"Processing file 98 from 152\"\n",
      "[1] \"Processing file 99 from 152\"\n",
      "[1] \"Processing file 100 from 152\"\n",
      "[1] \"Processing file 101 from 152\"\n",
      "[1] \"Processing file 102 from 152\"\n",
      "[1] \"Processing file 103 from 152\"\n",
      "[1] \"Processing file 104 from 152\"\n",
      "[1] \"Processing file 105 from 152\"\n",
      "[1] \"Processing file 106 from 152\"\n",
      "[1] \"Processing file 107 from 152\"\n",
      "[1] \"Processing file 108 from 152\"\n",
      "[1] \"Processing file 109 from 152\"\n",
      "[1] \"Processing file 110 from 152\"\n",
      "[1] \"Processing file 111 from 152\"\n",
      "[1] \"Processing file 112 from 152\"\n",
      "[1] \"Processing file 113 from 152\"\n",
      "[1] \"Processing file 114 from 152\"\n",
      "[1] \"Processing file 115 from 152\"\n",
      "[1] \"Processing file 116 from 152\"\n",
      "[1] \"Processing file 117 from 152\"\n",
      "[1] \"Processing file 118 from 152\"\n",
      "[1] \"Processing file 119 from 152\"\n",
      "[1] \"Processing file 120 from 152\"\n",
      "[1] \"Processing file 121 from 152\"\n",
      "[1] \"Processing file 122 from 152\"\n",
      "[1] \"Processing file 123 from 152\"\n",
      "[1] \"Processing file 124 from 152\"\n",
      "[1] \"Processing file 125 from 152\"\n",
      "[1] \"Processing file 126 from 152\"\n",
      "[1] \"Processing file 127 from 152\"\n",
      "[1] \"Processing file 128 from 152\"\n",
      "[1] \"Processing file 129 from 152\"\n",
      "[1] \"Processing file 130 from 152\"\n",
      "[1] \"Processing file 131 from 152\"\n",
      "[1] \"Processing file 132 from 152\"\n",
      "[1] \"Processing file 133 from 152\"\n",
      "[1] \"Processing file 134 from 152\"\n",
      "[1] \"Processing file 135 from 152\"\n",
      "[1] \"Processing file 136 from 152\"\n",
      "[1] \"Processing file 137 from 152\"\n",
      "[1] \"Processing file 138 from 152\"\n",
      "[1] \"Processing file 139 from 152\"\n",
      "[1] \"Processing file 140 from 152\"\n",
      "[1] \"Processing file 141 from 152\"\n",
      "[1] \"Processing file 142 from 152\"\n",
      "[1] \"Processing file 143 from 152\"\n",
      "[1] \"Processing file 144 from 152\"\n",
      "[1] \"Processing file 145 from 152\"\n",
      "[1] \"Processing file 146 from 152\"\n",
      "[1] \"Processing file 147 from 152\"\n",
      "[1] \"Processing file 148 from 152\"\n",
      "[1] \"Processing file 149 from 152\"\n",
      "[1] \"Processing file 150 from 152\"\n",
      "[1] \"Processing file 151 from 152\"\n",
      "[1] \"Processing file 152 from 152\"\n"
     ]
    }
   ],
   "source": [
    "for (i in 1:lf) {\n",
    "  # progress indicator\n",
    "  print(paste(\"Processing file\",i,\"from\",length(f),sep=\" \"))\n",
    "  # open netCDF file\n",
    "  data<-nc_open(paste('DATA_raw/SeaWIFs_euphoticdepth_monthly/',f[i],sep=''))\n",
    "  # extract data\n",
    "  lon<-ncvar_get(data,\"lon\")\n",
    "  lat<-ncvar_get(data,\"lat\")\n",
    "  value<-ncvar_get(data,var)\n",
    "  unit<-ncatt_get(data,var,\"units\")$value\n",
    "  # matrix to data.frame\n",
    "  dimnames(value)<-list(lon=lon,lat=lat)\n",
    "  dat.var<-melt(value,id=\"lon\")\n",
    "  # select data from the study area taking out missing data\n",
    "  dat.varSAtmp<-subset(dat.var,lon<=lonmax & lon>=lonmin & lat<=latmax & lat>=latmin)\n",
    "  # extract date information\n",
    "  dateini<-ncatt_get(data,0,\"time_coverage_start\")$value\n",
    "  dateend<-ncatt_get(data,0,\"time_coverage_end\")$value\n",
    "  datemean<-mean(c(as.Date(dateend,\"%Y-%m-%dT%H:%M:%OSZ\"),as.Date(dateini,\"%Y-%m-%dT%H:%M:%OSZ\")))\n",
    "  year<- substring(datemean,0,4) #1997 + ((i+6)/12)#\n",
    "  month<- substring(datemean,6,7) #i+6 #\n",
    "  # prepare final data set\n",
    "  dat.varSA<-data.frame(rep(as.integer(year,nrow(dat.varSAtmp))),rep(as.integer(month,nrow(dat.varSAtmp))),\n",
    "                        dat.varSAtmp,rep(unit,nrow(dat.varSAtmp)),rep(var,nrow(dat.varSAtmp)))\n",
    "  names(dat.varSA)<-c(\"year\",\"month\",\"lon\",\"lat\",\"value\",\"unit\",\"var\")\n",
    "  # save csv file\n",
    "  fe<-file.exists(paste('DATA_processed/','SeaWIFs_EuphoticDepth_extracted.csv',sep=''))\n",
    "  write.table(dat.varSA,paste('DATA_processed/','SeaWIFs_EuphoticDepth_extracted.csv',sep=''),row.names=FALSE,col.names=!fe,sep=\",\",dec=\".\",append=fe)\n",
    "  # close connection\n",
    "  nc_close(data)\n",
    "  # clean workspace\n",
    "  rm(data,lon,lat,value,unit,dat.var,dat.varSAtmp,dateini,dateend,datemean,year,month,dat.varSA,fe)\n",
    "}\n",
    "rm(var,f,i,latmax,latmin,lf,lonmax,lonmin)"
   ]
  },
  {
   "cell_type": "code",
   "execution_count": null,
   "metadata": {},
   "outputs": [],
   "source": []
  }
 ],
 "metadata": {
  "kernelspec": {
   "display_name": "R",
   "language": "R",
   "name": "ir"
  },
  "language_info": {
   "codemirror_mode": "r",
   "file_extension": ".r",
   "mimetype": "text/x-r-source",
   "name": "R",
   "pygments_lexer": "r",
   "version": "3.5.1"
  }
 },
 "nbformat": 4,
 "nbformat_minor": 2
}
