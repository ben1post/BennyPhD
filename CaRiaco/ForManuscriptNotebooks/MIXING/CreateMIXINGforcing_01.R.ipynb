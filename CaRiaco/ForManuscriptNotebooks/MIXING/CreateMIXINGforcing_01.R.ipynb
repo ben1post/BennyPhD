{
 "cells": [
  {
   "cell_type": "markdown",
   "metadata": {},
   "source": [
    "# CREATE USEFUL MODEL FORCING (instead of MLD)\n",
    "that affects kappa / mixing coefficient"
   ]
  },
  {
   "cell_type": "markdown",
   "metadata": {},
   "source": [
    "- first of all, think about how to implement this, then perhaps create some \"mixing\" statistic, that actually checks how much mixing is going on\n",
    "- then i can compare the MLD slab model with the box model, and keep the total mixing in ranges that are reasonable\n",
    "\n",
    "but for this:\n",
    "- constant kappa\n",
    "- linked to 2015 MLD\n",
    "- linked to 2018 pycnocline"
   ]
  },
  {
   "cell_type": "markdown",
   "metadata": {},
   "source": [
    "NOTE:\n",
    "/// for this I need to work on the model first of all"
   ]
  },
  {
   "cell_type": "markdown",
   "metadata": {},
   "source": [
    "## Claudia & Jay - upwelling 21 deg isopycnal categories\n",
    "/Strong upwelling\t// Pycnoclin is >35  \n",
    "/moderate upwelling\t// pycnocline is >50, <35  \n",
    "/weak upwelling\t// Pycnocline starts to climb but is below 50m  "
   ]
  },
  {
   "cell_type": "markdown",
   "metadata": {},
   "source": [
    "### but let's get MLD data and pycnocline data into this notebook for later modification\n"
   ]
  },
  {
   "cell_type": "code",
   "execution_count": 1,
   "metadata": {},
   "outputs": [],
   "source": [
    "packs <- c(\"tidyverse\",\"cowplot\",\"scales\",\"oce\")\n",
    "\n",
    "# install.packages(packs)"
   ]
  },
  {
   "cell_type": "code",
   "execution_count": 3,
   "metadata": {},
   "outputs": [],
   "source": [
    "require(tidyverse, warn.conflicts = FALSE)\n",
    "require(cowplot, warn.conflicts = FALSE)\n",
    "require(scales, warn.conflicts = FALSE)\n",
    "\n",
    "require(oce, warn.conflicts = FALSE)"
   ]
  },
  {
   "cell_type": "code",
   "execution_count": 4,
   "metadata": {},
   "outputs": [],
   "source": [
    "# read MLD and euphotic depth file\n",
    "MLD2EuZ <- read.csv(\"MLD2EuZ_2.csv\")\n",
    "\n",
    "# read Date column\n",
    "MLD2EuZ$Date <- as.Date(MLD2EuZ$Date, format=\"%Y-%m-%d\")"
   ]
  },
  {
   "cell_type": "code",
   "execution_count": 5,
   "metadata": {},
   "outputs": [
    {
     "data": {
      "text/html": [
       "<table>\n",
       "<thead><tr><th scope=col>X</th><th scope=col>CruiseID</th><th scope=col>Date</th><th scope=col>MLD2015</th><th scope=col>MLD2019</th><th scope=col>x0.1</th><th scope=col>x1</th><th scope=col>x10</th><th scope=col>X21degC</th><th scope=col>X22degC</th></tr></thead>\n",
       "<tbody>\n",
       "\t<tr><td>1         </td><td>93HG_001  </td><td>1995-11-08</td><td>NA        </td><td>24.138    </td><td>NA        </td><td>NA        </td><td>NA        </td><td>130       </td><td>118       </td></tr>\n",
       "\t<tr><td>2         </td><td>93HG_002  </td><td>1995-12-13</td><td>NA        </td><td>18.103    </td><td>NA        </td><td>NA        </td><td>NA        </td><td>114       </td><td> 94       </td></tr>\n",
       "\t<tr><td>3         </td><td>93HG_003  </td><td>1996-01-12</td><td>36        </td><td>10.057    </td><td>NA        </td><td>NA        </td><td>NA        </td><td>102       </td><td> 62       </td></tr>\n",
       "\t<tr><td>4         </td><td>93HG_004  </td><td>1996-02-13</td><td>28        </td><td> 8.046    </td><td>NA        </td><td>NA        </td><td>NA        </td><td> 94       </td><td> 66       </td></tr>\n",
       "\t<tr><td>5         </td><td>93HG_005  </td><td>1996-03-13</td><td>28        </td><td>10.057    </td><td>NA        </td><td>NA        </td><td>NA        </td><td> 48       </td><td> 24       </td></tr>\n",
       "\t<tr><td>6         </td><td>93HG_006  </td><td>1996-04-16</td><td>32        </td><td> 7.040    </td><td>NA        </td><td>NA        </td><td>NA        </td><td> 48       </td><td> 26       </td></tr>\n",
       "</tbody>\n",
       "</table>\n"
      ],
      "text/latex": [
       "\\begin{tabular}{r|llllllllll}\n",
       " X & CruiseID & Date & MLD2015 & MLD2019 & x0.1 & x1 & x10 & X21degC & X22degC\\\\\n",
       "\\hline\n",
       "\t 1          & 93HG\\_001 & 1995-11-08 & NA         & 24.138     & NA         & NA         & NA         & 130        & 118       \\\\\n",
       "\t 2          & 93HG\\_002 & 1995-12-13 & NA         & 18.103     & NA         & NA         & NA         & 114        &  94       \\\\\n",
       "\t 3          & 93HG\\_003 & 1996-01-12 & 36         & 10.057     & NA         & NA         & NA         & 102        &  62       \\\\\n",
       "\t 4          & 93HG\\_004 & 1996-02-13 & 28         &  8.046     & NA         & NA         & NA         &  94        &  66       \\\\\n",
       "\t 5          & 93HG\\_005 & 1996-03-13 & 28         & 10.057     & NA         & NA         & NA         &  48        &  24       \\\\\n",
       "\t 6          & 93HG\\_006 & 1996-04-16 & 32         &  7.040     & NA         & NA         & NA         &  48        &  26       \\\\\n",
       "\\end{tabular}\n"
      ],
      "text/markdown": [
       "\n",
       "| X | CruiseID | Date | MLD2015 | MLD2019 | x0.1 | x1 | x10 | X21degC | X22degC |\n",
       "|---|---|---|---|---|---|---|---|---|---|\n",
       "| 1          | 93HG_001   | 1995-11-08 | NA         | 24.138     | NA         | NA         | NA         | 130        | 118        |\n",
       "| 2          | 93HG_002   | 1995-12-13 | NA         | 18.103     | NA         | NA         | NA         | 114        |  94        |\n",
       "| 3          | 93HG_003   | 1996-01-12 | 36         | 10.057     | NA         | NA         | NA         | 102        |  62        |\n",
       "| 4          | 93HG_004   | 1996-02-13 | 28         |  8.046     | NA         | NA         | NA         |  94        |  66        |\n",
       "| 5          | 93HG_005   | 1996-03-13 | 28         | 10.057     | NA         | NA         | NA         |  48        |  24        |\n",
       "| 6          | 93HG_006   | 1996-04-16 | 32         |  7.040     | NA         | NA         | NA         |  48        |  26        |\n",
       "\n"
      ],
      "text/plain": [
       "  X CruiseID Date       MLD2015 MLD2019 x0.1 x1 x10 X21degC X22degC\n",
       "1 1 93HG_001 1995-11-08 NA      24.138  NA   NA NA  130     118    \n",
       "2 2 93HG_002 1995-12-13 NA      18.103  NA   NA NA  114      94    \n",
       "3 3 93HG_003 1996-01-12 36      10.057  NA   NA NA  102      62    \n",
       "4 4 93HG_004 1996-02-13 28       8.046  NA   NA NA   94      66    \n",
       "5 5 93HG_005 1996-03-13 28      10.057  NA   NA NA   48      24    \n",
       "6 6 93HG_006 1996-04-16 32       7.040  NA   NA NA   48      26    "
      ]
     },
     "metadata": {},
     "output_type": "display_data"
    }
   ],
   "source": [
    "head(MLD2EuZ)"
   ]
  },
  {
   "cell_type": "code",
   "execution_count": null,
   "metadata": {},
   "outputs": [],
   "source": []
  }
 ],
 "metadata": {
  "kernelspec": {
   "display_name": "R",
   "language": "R",
   "name": "ir"
  },
  "language_info": {
   "codemirror_mode": "r",
   "file_extension": ".r",
   "mimetype": "text/x-r-source",
   "name": "R",
   "pygments_lexer": "r",
   "version": "3.6.1"
  }
 },
 "nbformat": 4,
 "nbformat_minor": 4
}
