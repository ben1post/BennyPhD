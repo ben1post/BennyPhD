{
 "cells": [
  {
   "cell_type": "markdown",
   "metadata": {},
   "source": [
    "# Get exact forcing to use with phydra!"
   ]
  },
  {
   "cell_type": "markdown",
   "metadata": {},
   "source": [
    "## what do i need?\n",
    "### - init values:\n",
    "value, parameter\n",
    "0.1, 'Pinit (0.1): initial P, mmol N m-3' \n",
    "10.0, 'Ninit (10.0): initial N, mmol m-3'\n",
    "0.1, 'Zinit (1.0): initial Z, mmol N m-3'\n",
    "0.1, 'Dsinit (0.1): inital Ds, mmol N m-3'\n",
    "0.04, 'kw (0.04): light attenuation by water, m-1'\n",
    "0.03, 'kc (0.03): light attenuation by phyto., (mmol N m-3)-1'\n",
    "0.1, 'tstep (0.1): time step, day'\n",
    "5, 'nyears (3): run duration, years (1 year= 365 days)'\n",
    "2, 'flag_stn     (1): station; 1=India (60N 20W), 2=Biotrans (47N 20W), 3=Kerfix (50 40S 68 25E), 4=Papa (50N, 145W)'\n",
    "1, 'flag_LI (1): 1=numeric; 2=Evans & Parslow (1985); 3=Anderson (1993)'\n",
    "2, 'flag_atten (2): 1: kw+kcP (one layer for ML); 2: Anderson (1993) (spectral, layers 0-5,5-23,>23 m'\n",
    "2, 'flag_irrad (2): 1=triangular over day; 2=sinusoidal over day'\n",
    "1, 'flag_PIcurve (1): 1=Smith fn; 2=exponential fn'\n",
    "2, 'flag_grazing (2): (1) phihat_i = phi_i, (2) phihat_i = phi_i*P_i'\n",
    "1, 'flag_outtype (1): output to files: 0=none, 1=last year only, 2=whole simulation'\n",
    "1, 'flag_outfreq (0): frequency for writing output: 1=every day, 0=every time step'\n",
    "1, 'flag_integ   (1): choice of integration method: 0=Euler, 1=Runge Kutta 4'\n",
    "\n",
    "### - forcing:\n",
    "- PAR\n",
    "- SST\n",
    "- Temp\n",
    "- MLD"
   ]
  },
  {
   "cell_type": "code",
   "execution_count": 2,
   "metadata": {},
   "outputs": [
    {
     "data": {
      "text/html": [
       "<table>\n",
       "<thead><tr><th scope=col>X1460</th><th scope=col>X0.02047</th><th scope=col>X0.8392</th><th scope=col>X0.0314</th><th scope=col>X194</th><th scope=col>X82.45</th><th scope=col>X0.138</th><th scope=col>X12.93</th><th scope=col>X0.7929</th><th scope=col>X0.004087</th><th scope=col>...</th><th scope=col>X0.002376</th><th scope=col>X7.376</th><th scope=col>X28.77</th><th scope=col>X0</th><th scope=col>X0.1</th><th scope=col>X1</th><th scope=col>X0.2</th><th scope=col>X0.3</th><th scope=col>X0.4</th><th scope=col>X0.5</th></tr></thead>\n",
       "<tbody>\n",
       "\t<tr><td>1461    </td><td>0.02032 </td><td>0.8407  </td><td>0.03117 </td><td>197.2   </td><td>82.79   </td><td>0.1366  </td><td>12.90   </td><td>0.7920  </td><td>0.004016</td><td>...     </td><td>0.002348</td><td>7.431   </td><td>28.93   </td><td>0       </td><td>0       </td><td>1       </td><td>0       </td><td>0       </td><td>0       </td><td>0       </td></tr>\n",
       "\t<tr><td>1462    </td><td>0.02018 </td><td>0.8421  </td><td>0.03096 </td><td>200.4   </td><td>83.17   </td><td>0.1352  </td><td>12.88   </td><td>0.7916  </td><td>0.003950</td><td>...     </td><td>0.002321</td><td>7.487   </td><td>29.12   </td><td>0       </td><td>0       </td><td>1       </td><td>0       </td><td>0       </td><td>0       </td><td>0       </td></tr>\n",
       "\t<tr><td>1463    </td><td>0.02005 </td><td>0.8434  </td><td>0.03077 </td><td>203.6   </td><td>83.59   </td><td>0.1339  </td><td>12.86   </td><td>0.7918  </td><td>0.003889</td><td>...     </td><td>0.002295</td><td>7.543   </td><td>29.33   </td><td>0       </td><td>0       </td><td>1       </td><td>0       </td><td>0       </td><td>0       </td><td>0       </td></tr>\n",
       "\t<tr><td>1464    </td><td>0.01994 </td><td>0.8448  </td><td>0.03060 </td><td>206.8   </td><td>84.03   </td><td>0.1327  </td><td>12.83   </td><td>0.7924  </td><td>0.003831</td><td>...     </td><td>0.002270</td><td>7.599   </td><td>29.54   </td><td>0       </td><td>0       </td><td>1       </td><td>0       </td><td>0       </td><td>0       </td><td>0       </td></tr>\n",
       "\t<tr><td>1465    </td><td>0.01984 </td><td>0.8460  </td><td>0.03045 </td><td>210.0   </td><td>84.51   </td><td>0.1315  </td><td>12.81   </td><td>0.7935  </td><td>0.003778</td><td>...     </td><td>0.002246</td><td>7.654   </td><td>29.78   </td><td>0       </td><td>0       </td><td>1       </td><td>0       </td><td>0       </td><td>0       </td><td>0       </td></tr>\n",
       "\t<tr><td>1466    </td><td>0.01975 </td><td>0.8473  </td><td>0.03031 </td><td>213.2   </td><td>85.02   </td><td>0.1304  </td><td>12.78   </td><td>0.7951  </td><td>0.003729</td><td>...     </td><td>0.002224</td><td>7.710   </td><td>30.03   </td><td>0       </td><td>0       </td><td>1       </td><td>0       </td><td>0       </td><td>0       </td><td>0       </td></tr>\n",
       "</tbody>\n",
       "</table>\n"
      ],
      "text/latex": [
       "\\begin{tabular}{r|lllllllllllllllllllll}\n",
       " X1460 & X0.02047 & X0.8392 & X0.0314 & X194 & X82.45 & X0.138 & X12.93 & X0.7929 & X0.004087 & ... & X0.002376 & X7.376 & X28.77 & X0 & X0.1 & X1 & X0.2 & X0.3 & X0.4 & X0.5\\\\\n",
       "\\hline\n",
       "\t 1461     & 0.02032  & 0.8407   & 0.03117  & 197.2    & 82.79    & 0.1366   & 12.90    & 0.7920   & 0.004016 & ...      & 0.002348 & 7.431    & 28.93    & 0        & 0        & 1        & 0        & 0        & 0        & 0       \\\\\n",
       "\t 1462     & 0.02018  & 0.8421   & 0.03096  & 200.4    & 83.17    & 0.1352   & 12.88    & 0.7916   & 0.003950 & ...      & 0.002321 & 7.487    & 29.12    & 0        & 0        & 1        & 0        & 0        & 0        & 0       \\\\\n",
       "\t 1463     & 0.02005  & 0.8434   & 0.03077  & 203.6    & 83.59    & 0.1339   & 12.86    & 0.7918   & 0.003889 & ...      & 0.002295 & 7.543    & 29.33    & 0        & 0        & 1        & 0        & 0        & 0        & 0       \\\\\n",
       "\t 1464     & 0.01994  & 0.8448   & 0.03060  & 206.8    & 84.03    & 0.1327   & 12.83    & 0.7924   & 0.003831 & ...      & 0.002270 & 7.599    & 29.54    & 0        & 0        & 1        & 0        & 0        & 0        & 0       \\\\\n",
       "\t 1465     & 0.01984  & 0.8460   & 0.03045  & 210.0    & 84.51    & 0.1315   & 12.81    & 0.7935   & 0.003778 & ...      & 0.002246 & 7.654    & 29.78    & 0        & 0        & 1        & 0        & 0        & 0        & 0       \\\\\n",
       "\t 1466     & 0.01975  & 0.8473   & 0.03031  & 213.2    & 85.02    & 0.1304   & 12.78    & 0.7951   & 0.003729 & ...      & 0.002224 & 7.710    & 30.03    & 0        & 0        & 1        & 0        & 0        & 0        & 0       \\\\\n",
       "\\end{tabular}\n"
      ],
      "text/markdown": [
       "\n",
       "| X1460 | X0.02047 | X0.8392 | X0.0314 | X194 | X82.45 | X0.138 | X12.93 | X0.7929 | X0.004087 | ... | X0.002376 | X7.376 | X28.77 | X0 | X0.1 | X1 | X0.2 | X0.3 | X0.4 | X0.5 |\n",
       "|---|---|---|---|---|---|---|---|---|---|---|---|---|---|---|---|---|---|---|---|---|\n",
       "| 1461     | 0.02032  | 0.8407   | 0.03117  | 197.2    | 82.79    | 0.1366   | 12.90    | 0.7920   | 0.004016 | ...      | 0.002348 | 7.431    | 28.93    | 0        | 0        | 1        | 0        | 0        | 0        | 0        |\n",
       "| 1462     | 0.02018  | 0.8421   | 0.03096  | 200.4    | 83.17    | 0.1352   | 12.88    | 0.7916   | 0.003950 | ...      | 0.002321 | 7.487    | 29.12    | 0        | 0        | 1        | 0        | 0        | 0        | 0        |\n",
       "| 1463     | 0.02005  | 0.8434   | 0.03077  | 203.6    | 83.59    | 0.1339   | 12.86    | 0.7918   | 0.003889 | ...      | 0.002295 | 7.543    | 29.33    | 0        | 0        | 1        | 0        | 0        | 0        | 0        |\n",
       "| 1464     | 0.01994  | 0.8448   | 0.03060  | 206.8    | 84.03    | 0.1327   | 12.83    | 0.7924   | 0.003831 | ...      | 0.002270 | 7.599    | 29.54    | 0        | 0        | 1        | 0        | 0        | 0        | 0        |\n",
       "| 1465     | 0.01984  | 0.8460   | 0.03045  | 210.0    | 84.51    | 0.1315   | 12.81    | 0.7935   | 0.003778 | ...      | 0.002246 | 7.654    | 29.78    | 0        | 0        | 1        | 0        | 0        | 0        | 0        |\n",
       "| 1466     | 0.01975  | 0.8473   | 0.03031  | 213.2    | 85.02    | 0.1304   | 12.78    | 0.7951   | 0.003729 | ...      | 0.002224 | 7.710    | 30.03    | 0        | 0        | 1        | 0        | 0        | 0        | 0        |\n",
       "\n"
      ],
      "text/plain": [
       "  X1460 X0.02047 X0.8392 X0.0314 X194  X82.45 X0.138 X12.93 X0.7929 X0.004087\n",
       "1 1461  0.02032  0.8407  0.03117 197.2 82.79  0.1366 12.90  0.7920  0.004016 \n",
       "2 1462  0.02018  0.8421  0.03096 200.4 83.17  0.1352 12.88  0.7916  0.003950 \n",
       "3 1463  0.02005  0.8434  0.03077 203.6 83.59  0.1339 12.86  0.7918  0.003889 \n",
       "4 1464  0.01994  0.8448  0.03060 206.8 84.03  0.1327 12.83  0.7924  0.003831 \n",
       "5 1465  0.01984  0.8460  0.03045 210.0 84.51  0.1315 12.81  0.7935  0.003778 \n",
       "6 1466  0.01975  0.8473  0.03031 213.2 85.02  0.1304 12.78  0.7951  0.003729 \n",
       "  ... X0.002376 X7.376 X28.77 X0 X0.1 X1 X0.2 X0.3 X0.4 X0.5\n",
       "1 ... 0.002348  7.431  28.93  0  0    1  0    0    0    0   \n",
       "2 ... 0.002321  7.487  29.12  0  0    1  0    0    0    0   \n",
       "3 ... 0.002295  7.543  29.33  0  0    1  0    0    0    0   \n",
       "4 ... 0.002270  7.599  29.54  0  0    1  0    0    0    0   \n",
       "5 ... 0.002246  7.654  29.78  0  0    1  0    0    0    0   \n",
       "6 ... 0.002224  7.710  30.03  0  0    1  0    0    0    0   "
      ]
     },
     "metadata": {},
     "output_type": "display_data"
    }
   ],
   "source": [
    "out_aux = read.csv(file = 'out_aux.txt')\n",
    "head(out_aux)"
   ]
  },
  {
   "cell_type": "code",
   "execution_count": 5,
   "metadata": {},
   "outputs": [],
   "source": [
    "MLD = out_aux[,5]"
   ]
  },
  {
   "cell_type": "code",
   "execution_count": 6,
   "metadata": {},
   "outputs": [],
   "source": [
    "SST = out_aux[,8]"
   ]
  },
  {
   "cell_type": "code",
   "execution_count": 7,
   "metadata": {},
   "outputs": [],
   "source": [
    "N0 = out_aux[,13]"
   ]
  },
  {
   "cell_type": "code",
   "execution_count": 8,
   "metadata": {},
   "outputs": [],
   "source": [
    "PAR = out_aux[,14]"
   ]
  },
  {
   "cell_type": "code",
   "execution_count": 10,
   "metadata": {},
   "outputs": [],
   "source": [
    "forcing = data.frame('MLD' = MLD, 'N0' = N0, 'PAR' = PAR, 'SST' = SST)"
   ]
  },
  {
   "cell_type": "code",
   "execution_count": 13,
   "metadata": {},
   "outputs": [],
   "source": [
    "write.csv(forcing, 'EMPOWER-forcing-export.csv')"
   ]
  },
  {
   "cell_type": "code",
   "execution_count": 16,
   "metadata": {},
   "outputs": [
    {
     "data": {
      "text/html": [
       "169.9"
      ],
      "text/latex": [
       "169.9"
      ],
      "text/markdown": [
       "169.9"
      ],
      "text/plain": [
       "[1] 169.9"
      ]
     },
     "metadata": {},
     "output_type": "display_data"
    }
   ],
   "source": [
    "max(PAR)"
   ]
  },
  {
   "cell_type": "code",
   "execution_count": null,
   "metadata": {},
   "outputs": [],
   "source": []
  }
 ],
 "metadata": {
  "kernelspec": {
   "display_name": "R",
   "language": "R",
   "name": "ir"
  },
  "language_info": {
   "codemirror_mode": "r",
   "file_extension": ".r",
   "mimetype": "text/x-r-source",
   "name": "R",
   "pygments_lexer": "r",
   "version": "3.6.1"
  }
 },
 "nbformat": 4,
 "nbformat_minor": 4
}
