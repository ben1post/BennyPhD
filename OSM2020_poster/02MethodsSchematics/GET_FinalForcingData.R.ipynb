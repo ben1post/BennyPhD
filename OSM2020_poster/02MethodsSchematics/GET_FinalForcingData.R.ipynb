{
 "cells": [
  {
   "cell_type": "markdown",
   "metadata": {},
   "source": [
    "# So Idea:\n",
    "- get typical (aggregated) forcing for both regimes (100m box model structure)\n",
    "- instead of aggregating to one year, get forcing for 5 years per each regime\n"
   ]
  },
  {
   "cell_type": "markdown",
   "metadata": {},
   "source": [
    "# now what to do first: \n",
    "1. get necessary raw data, \n",
    "2. then integrate over entire time-series & depth (if necessary)\n",
    "3. create aggregated forcing raw csvs for model (simply include proper Date information, in addition to yday)\n",
    "4. date truncation & aggregation can happen in python code of model!"
   ]
  },
  {
   "cell_type": "code",
   "execution_count": 2,
   "metadata": {},
   "outputs": [],
   "source": [
    "### create one large file with all possible forcing? (depends on where data is from, don't overcomplicate)"
   ]
  },
  {
   "cell_type": "markdown",
   "metadata": {},
   "source": [
    "Let's write up what I need:\n",
    "1. x25.8 depth\n",
    "2. T_box\n",
    "3. PAR\n",
    "4. N0 (mean 100-150m)\n",
    "4. NH40, ....\n",
    "5. Si0\n",
    "6. P0\n"
   ]
  },
  {
   "cell_type": "code",
   "execution_count": 3,
   "metadata": {},
   "outputs": [],
   "source": [
    "### important point: actually use (as much as possible) raw values as forcing, then assumptions more apparent"
   ]
  },
  {
   "cell_type": "code",
   "execution_count": null,
   "metadata": {},
   "outputs": [],
   "source": []
  }
 ],
 "metadata": {
  "kernelspec": {
   "display_name": "R",
   "language": "R",
   "name": "ir"
  },
  "language_info": {
   "codemirror_mode": "r",
   "file_extension": ".r",
   "mimetype": "text/x-r-source",
   "name": "R",
   "pygments_lexer": "r",
   "version": "3.6.1"
  }
 },
 "nbformat": 4,
 "nbformat_minor": 4
}
