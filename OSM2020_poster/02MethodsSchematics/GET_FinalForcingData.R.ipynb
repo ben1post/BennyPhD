{
 "cells": [
  {
   "cell_type": "markdown",
   "metadata": {},
   "source": [
    "# FORCING"
   ]
  },
  {
   "cell_type": "markdown",
   "metadata": {},
   "source": [
    "# So Idea:\n",
    "- get typical (aggregated) forcing for both regimes (100m box model structure)\n",
    "- instead of aggregating to one year, get forcing for 5 years per each regime\n"
   ]
  },
  {
   "cell_type": "markdown",
   "metadata": {},
   "source": [
    "# now what to do first: \n",
    "1. get necessary raw data, \n",
    "2. then integrate over entire time-series & depth (if necessary)\n",
    "3. create aggregated forcing raw csvs for model (simply include proper Date information, in addition to yday)\n",
    "4. date truncation & aggregation can happen in python code of model!"
   ]
  },
  {
   "cell_type": "code",
   "execution_count": 1,
   "metadata": {},
   "outputs": [],
   "source": [
    "### create one large file with all possible forcing? (depends on where data is from, don't overcomplicate)"
   ]
  },
  {
   "cell_type": "markdown",
   "metadata": {},
   "source": [
    "Let's write up what I need:\n",
    "1. x25.8 depth (!) \n",
    "2. T_box\n",
    "3. PAR\n",
    "4. N0 (mean 100-150m)\n",
    "4. NH40, ....\n",
    "5. Si0\n",
    "6. P0\n"
   ]
  },
  {
   "cell_type": "code",
   "execution_count": 2,
   "metadata": {},
   "outputs": [],
   "source": [
    "### important point: actually use (as much as possible) raw values as forcing, then assumptions more apparent"
   ]
  },
  {
   "cell_type": "markdown",
   "metadata": {},
   "source": [
    "# NISKIN DATA"
   ]
  },
  {
   "cell_type": "code",
   "execution_count": 3,
   "metadata": {},
   "outputs": [
    {
     "name": "stderr",
     "output_type": "stream",
     "text": [
      "Loading required package: ncdf4\n",
      "Loading required package: cowplot\n",
      "Registered S3 methods overwritten by 'ggplot2':\n",
      "  method         from \n",
      "  [.quosures     rlang\n",
      "  c.quosures     rlang\n",
      "  print.quosures rlang\n",
      "\n",
      "********************************************************\n",
      "Note: As of version 1.0.0, cowplot does not change the\n",
      "  default ggplot2 theme anymore. To recover the previous\n",
      "  behavior, execute:\n",
      "  theme_set(theme_cowplot())\n",
      "********************************************************\n",
      "\n",
      "Loading required package: tidyverse\n",
      "Registered S3 method overwritten by 'rvest':\n",
      "  method            from\n",
      "  read_xml.response xml2\n",
      "── Attaching packages ─────────────────────────────────────── tidyverse 1.2.1 ──\n",
      "✔ ggplot2 3.1.1       ✔ purrr   0.3.3  \n",
      "✔ tibble  2.1.1       ✔ dplyr   0.8.0.1\n",
      "✔ tidyr   0.8.3       ✔ stringr 1.4.0  \n",
      "✔ readr   1.3.1       ✔ forcats 0.4.0  \n",
      "── Conflicts ────────────────────────────────────────── tidyverse_conflicts() ──\n",
      "✖ dplyr::filter() masks stats::filter()\n",
      "✖ dplyr::lag()    masks stats::lag()\n",
      "Loading required package: oce\n",
      "Loading required package: testthat\n",
      "\n",
      "Attaching package: ‘testthat’\n",
      "\n",
      "The following object is masked from ‘package:dplyr’:\n",
      "\n",
      "    matches\n",
      "\n",
      "The following object is masked from ‘package:purrr’:\n",
      "\n",
      "    is_null\n",
      "\n",
      "Loading required package: gsw\n",
      "Loading required package: lubridate\n"
     ]
    }
   ],
   "source": [
    "require(ncdf4, warn.conflicts = FALSE);\n",
    "require(cowplot, warn.conflicts = FALSE);\n",
    "require(tidyverse, warn.conflicts = FALSE);\n",
    "require(oce, warn.conflicts = FALSE);\n",
    "\n",
    "\n",
    "require(lubridate, warn.conflicts = FALSE);"
   ]
  },
  {
   "cell_type": "code",
   "execution_count": 4,
   "metadata": {},
   "outputs": [],
   "source": [
    "# open a NetCDF file\n",
    "niskdat <- nc_open(\"../01Observations/Data/niskin.netcdf\")\n",
    "#print(niskdat)"
   ]
  },
  {
   "cell_type": "code",
   "execution_count": 5,
   "metadata": {},
   "outputs": [
    {
     "name": "stdout",
     "output_type": "stream",
     "text": [
      "[1] \"start\"\n",
      "[1] \"done reading\"\n"
     ]
    },
    {
     "data": {
      "text/html": [
       "<table>\n",
       "<thead><tr><th scope=col>Num</th><th scope=col>Cruise_number</th><th scope=col>Cruise_ID_1</th><th scope=col>Cruise_ID_2</th><th scope=col>Leg</th><th scope=col>Day</th><th scope=col>Month</th><th scope=col>Year</th><th scope=col>Latitude</th><th scope=col>Longitude</th><th scope=col>...</th><th scope=col>Bact_Biomass_uMC</th><th scope=col>Bio_cast_no</th><th scope=col>ISO_DateTime_start_hc_local</th><th scope=col>ISO_DateTime_end_hc_local</th><th scope=col>ISO_DateTime_start_bc_local</th><th scope=col>ISO_DateTime_end_bc_local</th><th scope=col>ISO_DateTime_start_hc_UTC</th><th scope=col>ISO_DateTime_end_hc_UTC</th><th scope=col>ISO_DateTime_start_bc_UTC</th><th scope=col>ISO_DateTime_end_bc_UTC</th></tr></thead>\n",
       "<tbody>\n",
       "\t<tr><td>1                  </td><td>1                  </td><td>93HG_001           </td><td>CAR-001            </td><td>2                  </td><td>8                  </td><td>11                 </td><td>1995               </td><td>10.5               </td><td>-64.667            </td><td>...                </td><td>BM_master          </td><td>2                  </td><td>1995-11-08T06:12:00</td><td>1995-11-08T06:38:00</td><td>1995-11-08T03:36:00</td><td>1995-11-08T03:54:00</td><td>1995-11-08T10:12:00</td><td>1995-11-08T10:38:00</td><td>1995-11-08T07:36:00</td><td>1995-11-08T07:54:00</td></tr>\n",
       "\t<tr><td>2                  </td><td>1                  </td><td>93HG_001           </td><td>CAR-001            </td><td>2                  </td><td>8                  </td><td>11                 </td><td>1995               </td><td>10.5               </td><td>-64.667            </td><td>...                </td><td>BM_master          </td><td>2                  </td><td>1995-11-08T06:12:00</td><td>1995-11-08T06:38:00</td><td>1995-11-08T03:36:00</td><td>1995-11-08T03:54:00</td><td>1995-11-08T10:12:00</td><td>1995-11-08T10:38:00</td><td>1995-11-08T07:36:00</td><td>1995-11-08T07:54:00</td></tr>\n",
       "\t<tr><td>3                  </td><td>1                  </td><td>93HG_001           </td><td>CAR-001            </td><td>2                  </td><td>8                  </td><td>11                 </td><td>1995               </td><td>10.5               </td><td>-64.667            </td><td>...                </td><td>BM_master          </td><td>2                  </td><td>1995-11-08T06:12:00</td><td>1995-11-08T06:38:00</td><td>1995-11-08T03:36:00</td><td>1995-11-08T03:54:00</td><td>1995-11-08T10:12:00</td><td>1995-11-08T10:38:00</td><td>1995-11-08T07:36:00</td><td>1995-11-08T07:54:00</td></tr>\n",
       "\t<tr><td>4                  </td><td>1                  </td><td>93HG_001           </td><td>CAR-001            </td><td>2                  </td><td>8                  </td><td>11                 </td><td>1995               </td><td>10.5               </td><td>-64.667            </td><td>...                </td><td>BM_master          </td><td>2                  </td><td>1995-11-08T06:12:00</td><td>1995-11-08T06:38:00</td><td>1995-11-08T03:36:00</td><td>1995-11-08T03:54:00</td><td>1995-11-08T10:12:00</td><td>1995-11-08T10:38:00</td><td>1995-11-08T07:36:00</td><td>1995-11-08T07:54:00</td></tr>\n",
       "\t<tr><td>5                  </td><td>1                  </td><td>93HG_001           </td><td>CAR-001            </td><td>2                  </td><td>8                  </td><td>11                 </td><td>1995               </td><td>10.5               </td><td>-64.667            </td><td>...                </td><td>BM_master          </td><td>2                  </td><td>1995-11-08T06:12:00</td><td>1995-11-08T06:38:00</td><td>1995-11-08T03:36:00</td><td>1995-11-08T03:54:00</td><td>1995-11-08T10:12:00</td><td>1995-11-08T10:38:00</td><td>1995-11-08T07:36:00</td><td>1995-11-08T07:54:00</td></tr>\n",
       "\t<tr><td>6                  </td><td>1                  </td><td>93HG_001           </td><td>CAR-001            </td><td>2                  </td><td>8                  </td><td>11                 </td><td>1995               </td><td>10.5               </td><td>-64.667            </td><td>...                </td><td>BM_master          </td><td>2                  </td><td>1995-11-08T06:12:00</td><td>1995-11-08T06:38:00</td><td>1995-11-08T03:36:00</td><td>1995-11-08T03:54:00</td><td>1995-11-08T10:12:00</td><td>1995-11-08T10:38:00</td><td>1995-11-08T07:36:00</td><td>1995-11-08T07:54:00</td></tr>\n",
       "</tbody>\n",
       "</table>\n"
      ],
      "text/latex": [
       "\\begin{tabular}{r|lllllllllllllllllllllllllllllllllllllllllllllllllllllllllllllllllllllllllllllllllllllllllllllllll}\n",
       " Num & Cruise\\_number & Cruise\\_ID\\_1 & Cruise\\_ID\\_2 & Leg & Day & Month & Year & Latitude & Longitude & ... & Bact\\_Biomass\\_uMC & Bio\\_cast\\_no & ISO\\_DateTime\\_start\\_hc\\_local & ISO\\_DateTime\\_end\\_hc\\_local & ISO\\_DateTime\\_start\\_bc\\_local & ISO\\_DateTime\\_end\\_bc\\_local & ISO\\_DateTime\\_start\\_hc\\_UTC & ISO\\_DateTime\\_end\\_hc\\_UTC & ISO\\_DateTime\\_start\\_bc\\_UTC & ISO\\_DateTime\\_end\\_bc\\_UTC\\\\\n",
       "\\hline\n",
       "\t 1                   & 1                   & 93HG\\_001          & CAR-001             & 2                   & 8                   & 11                  & 1995                & 10.5                & -64.667             & ...                 & BM\\_master         & 2                   & 1995-11-08T06:12:00 & 1995-11-08T06:38:00 & 1995-11-08T03:36:00 & 1995-11-08T03:54:00 & 1995-11-08T10:12:00 & 1995-11-08T10:38:00 & 1995-11-08T07:36:00 & 1995-11-08T07:54:00\\\\\n",
       "\t 2                   & 1                   & 93HG\\_001          & CAR-001             & 2                   & 8                   & 11                  & 1995                & 10.5                & -64.667             & ...                 & BM\\_master         & 2                   & 1995-11-08T06:12:00 & 1995-11-08T06:38:00 & 1995-11-08T03:36:00 & 1995-11-08T03:54:00 & 1995-11-08T10:12:00 & 1995-11-08T10:38:00 & 1995-11-08T07:36:00 & 1995-11-08T07:54:00\\\\\n",
       "\t 3                   & 1                   & 93HG\\_001          & CAR-001             & 2                   & 8                   & 11                  & 1995                & 10.5                & -64.667             & ...                 & BM\\_master         & 2                   & 1995-11-08T06:12:00 & 1995-11-08T06:38:00 & 1995-11-08T03:36:00 & 1995-11-08T03:54:00 & 1995-11-08T10:12:00 & 1995-11-08T10:38:00 & 1995-11-08T07:36:00 & 1995-11-08T07:54:00\\\\\n",
       "\t 4                   & 1                   & 93HG\\_001          & CAR-001             & 2                   & 8                   & 11                  & 1995                & 10.5                & -64.667             & ...                 & BM\\_master         & 2                   & 1995-11-08T06:12:00 & 1995-11-08T06:38:00 & 1995-11-08T03:36:00 & 1995-11-08T03:54:00 & 1995-11-08T10:12:00 & 1995-11-08T10:38:00 & 1995-11-08T07:36:00 & 1995-11-08T07:54:00\\\\\n",
       "\t 5                   & 1                   & 93HG\\_001          & CAR-001             & 2                   & 8                   & 11                  & 1995                & 10.5                & -64.667             & ...                 & BM\\_master         & 2                   & 1995-11-08T06:12:00 & 1995-11-08T06:38:00 & 1995-11-08T03:36:00 & 1995-11-08T03:54:00 & 1995-11-08T10:12:00 & 1995-11-08T10:38:00 & 1995-11-08T07:36:00 & 1995-11-08T07:54:00\\\\\n",
       "\t 6                   & 1                   & 93HG\\_001          & CAR-001             & 2                   & 8                   & 11                  & 1995                & 10.5                & -64.667             & ...                 & BM\\_master         & 2                   & 1995-11-08T06:12:00 & 1995-11-08T06:38:00 & 1995-11-08T03:36:00 & 1995-11-08T03:54:00 & 1995-11-08T10:12:00 & 1995-11-08T10:38:00 & 1995-11-08T07:36:00 & 1995-11-08T07:54:00\\\\\n",
       "\\end{tabular}\n"
      ],
      "text/markdown": [
       "\n",
       "| Num | Cruise_number | Cruise_ID_1 | Cruise_ID_2 | Leg | Day | Month | Year | Latitude | Longitude | ... | Bact_Biomass_uMC | Bio_cast_no | ISO_DateTime_start_hc_local | ISO_DateTime_end_hc_local | ISO_DateTime_start_bc_local | ISO_DateTime_end_bc_local | ISO_DateTime_start_hc_UTC | ISO_DateTime_end_hc_UTC | ISO_DateTime_start_bc_UTC | ISO_DateTime_end_bc_UTC |\n",
       "|---|---|---|---|---|---|---|---|---|---|---|---|---|---|---|---|---|---|---|---|---|\n",
       "| 1                   | 1                   | 93HG_001            | CAR-001             | 2                   | 8                   | 11                  | 1995                | 10.5                | -64.667             | ...                 | BM_master           | 2                   | 1995-11-08T06:12:00 | 1995-11-08T06:38:00 | 1995-11-08T03:36:00 | 1995-11-08T03:54:00 | 1995-11-08T10:12:00 | 1995-11-08T10:38:00 | 1995-11-08T07:36:00 | 1995-11-08T07:54:00 |\n",
       "| 2                   | 1                   | 93HG_001            | CAR-001             | 2                   | 8                   | 11                  | 1995                | 10.5                | -64.667             | ...                 | BM_master           | 2                   | 1995-11-08T06:12:00 | 1995-11-08T06:38:00 | 1995-11-08T03:36:00 | 1995-11-08T03:54:00 | 1995-11-08T10:12:00 | 1995-11-08T10:38:00 | 1995-11-08T07:36:00 | 1995-11-08T07:54:00 |\n",
       "| 3                   | 1                   | 93HG_001            | CAR-001             | 2                   | 8                   | 11                  | 1995                | 10.5                | -64.667             | ...                 | BM_master           | 2                   | 1995-11-08T06:12:00 | 1995-11-08T06:38:00 | 1995-11-08T03:36:00 | 1995-11-08T03:54:00 | 1995-11-08T10:12:00 | 1995-11-08T10:38:00 | 1995-11-08T07:36:00 | 1995-11-08T07:54:00 |\n",
       "| 4                   | 1                   | 93HG_001            | CAR-001             | 2                   | 8                   | 11                  | 1995                | 10.5                | -64.667             | ...                 | BM_master           | 2                   | 1995-11-08T06:12:00 | 1995-11-08T06:38:00 | 1995-11-08T03:36:00 | 1995-11-08T03:54:00 | 1995-11-08T10:12:00 | 1995-11-08T10:38:00 | 1995-11-08T07:36:00 | 1995-11-08T07:54:00 |\n",
       "| 5                   | 1                   | 93HG_001            | CAR-001             | 2                   | 8                   | 11                  | 1995                | 10.5                | -64.667             | ...                 | BM_master           | 2                   | 1995-11-08T06:12:00 | 1995-11-08T06:38:00 | 1995-11-08T03:36:00 | 1995-11-08T03:54:00 | 1995-11-08T10:12:00 | 1995-11-08T10:38:00 | 1995-11-08T07:36:00 | 1995-11-08T07:54:00 |\n",
       "| 6                   | 1                   | 93HG_001            | CAR-001             | 2                   | 8                   | 11                  | 1995                | 10.5                | -64.667             | ...                 | BM_master           | 2                   | 1995-11-08T06:12:00 | 1995-11-08T06:38:00 | 1995-11-08T03:36:00 | 1995-11-08T03:54:00 | 1995-11-08T10:12:00 | 1995-11-08T10:38:00 | 1995-11-08T07:36:00 | 1995-11-08T07:54:00 |\n",
       "\n"
      ],
      "text/plain": [
       "  Num Cruise_number Cruise_ID_1 Cruise_ID_2 Leg Day Month Year Latitude\n",
       "1 1   1             93HG_001    CAR-001     2   8   11    1995 10.5    \n",
       "2 2   1             93HG_001    CAR-001     2   8   11    1995 10.5    \n",
       "3 3   1             93HG_001    CAR-001     2   8   11    1995 10.5    \n",
       "4 4   1             93HG_001    CAR-001     2   8   11    1995 10.5    \n",
       "5 5   1             93HG_001    CAR-001     2   8   11    1995 10.5    \n",
       "6 6   1             93HG_001    CAR-001     2   8   11    1995 10.5    \n",
       "  Longitude ... Bact_Biomass_uMC Bio_cast_no ISO_DateTime_start_hc_local\n",
       "1 -64.667   ... BM_master        2           1995-11-08T06:12:00        \n",
       "2 -64.667   ... BM_master        2           1995-11-08T06:12:00        \n",
       "3 -64.667   ... BM_master        2           1995-11-08T06:12:00        \n",
       "4 -64.667   ... BM_master        2           1995-11-08T06:12:00        \n",
       "5 -64.667   ... BM_master        2           1995-11-08T06:12:00        \n",
       "6 -64.667   ... BM_master        2           1995-11-08T06:12:00        \n",
       "  ISO_DateTime_end_hc_local ISO_DateTime_start_bc_local\n",
       "1 1995-11-08T06:38:00       1995-11-08T03:36:00        \n",
       "2 1995-11-08T06:38:00       1995-11-08T03:36:00        \n",
       "3 1995-11-08T06:38:00       1995-11-08T03:36:00        \n",
       "4 1995-11-08T06:38:00       1995-11-08T03:36:00        \n",
       "5 1995-11-08T06:38:00       1995-11-08T03:36:00        \n",
       "6 1995-11-08T06:38:00       1995-11-08T03:36:00        \n",
       "  ISO_DateTime_end_bc_local ISO_DateTime_start_hc_UTC ISO_DateTime_end_hc_UTC\n",
       "1 1995-11-08T03:54:00       1995-11-08T10:12:00       1995-11-08T10:38:00    \n",
       "2 1995-11-08T03:54:00       1995-11-08T10:12:00       1995-11-08T10:38:00    \n",
       "3 1995-11-08T03:54:00       1995-11-08T10:12:00       1995-11-08T10:38:00    \n",
       "4 1995-11-08T03:54:00       1995-11-08T10:12:00       1995-11-08T10:38:00    \n",
       "5 1995-11-08T03:54:00       1995-11-08T10:12:00       1995-11-08T10:38:00    \n",
       "6 1995-11-08T03:54:00       1995-11-08T10:12:00       1995-11-08T10:38:00    \n",
       "  ISO_DateTime_start_bc_UTC ISO_DateTime_end_bc_UTC\n",
       "1 1995-11-08T07:36:00       1995-11-08T07:54:00    \n",
       "2 1995-11-08T07:36:00       1995-11-08T07:54:00    \n",
       "3 1995-11-08T07:36:00       1995-11-08T07:54:00    \n",
       "4 1995-11-08T07:36:00       1995-11-08T07:54:00    \n",
       "5 1995-11-08T07:36:00       1995-11-08T07:54:00    \n",
       "6 1995-11-08T07:36:00       1995-11-08T07:54:00    "
      ]
     },
     "metadata": {},
     "output_type": "display_data"
    }
   ],
   "source": [
    "niskdat_df <- data.frame(\"Num\" = 1:niskdat$dim$unlimited$len)\n",
    "print('start')\n",
    "for(i in 1:niskdat$nvars){\n",
    "    #print(i)\n",
    "    niskdat_df[paste(attributes(niskdat$var)$names[i])] <- ncvar_get(niskdat, attributes(niskdat$var)$names[i])\n",
    "}\n",
    "print('done reading')\n",
    "head(niskdat_df)"
   ]
  },
  {
   "cell_type": "code",
   "execution_count": 6,
   "metadata": {},
   "outputs": [
    {
     "name": "stdout",
     "output_type": "stream",
     "text": [
      "Num Cruise_number Cruise_ID_1 Cruise_ID_2 Leg Day Month Year Latitude Longitude Hydro_cast_no Depth_target Depth_real O2_ml_L q_O2_ml_L O2_umol_kg q_O2_umol_kg NO3_UDO q_NO3_UDO PO4_UDO q_PO4_UDO SiO4_UDO q_SiO4_UDO NH4_USF q_NH4_USF NO2_USF q_NO2_USF NO3_NO2_USF q_NO3_NO3_USF PO4_USF q_PO4_USF SiO4_USF q_SiO4_USF pH q_pH Alkalinity_mol_kg q_Alkalinity_mol_kg Alkalinity_umol_kg q_Alkalinity_umol_kg TCO2 q_TCO2 fCO2 q_fCO2 pH_corrected q_pH_corrected TCO2_corrected q_TCO2_corrected fCO2_corrected q_fCO2_corrected Salinity_bottles q_Salinity_bottles Salinity_CTD q_Salinity_CTD Temperature q_Temperature Sigma_t q_Sigma_t TPP q_TPP PIP q_PIP POC_ug_kg q_POC_ug_kg PON_ug_kg q_PON_ug_kg POC_ug_L q_POC_ug_L PN_ug_L q_PN_ug_L C_N_particulate q_C_N_particulate DON q_DON DOP q_DOP DOC q_DOC TOC q_TOC PrimaryProductivity q_PrimaryProductivity Chlorophyll q_Chlorophyll Phaeopigments q_Phaeopigments Total_Prokaryotes Bact_Biomass_mgC_m3 Bact_Biomass_uMC Bio_cast_no ISO_DateTime_start_hc_local ISO_DateTime_end_hc_local ISO_DateTime_start_bc_local ISO_DateTime_end_bc_local ISO_DateTime_start_hc_UTC ISO_DateTime_end_hc_UTC ISO_DateTime_start_bc_UTC ISO_DateTime_end_bc_UTC"
     ]
    }
   ],
   "source": [
    "cat(names(niskdat_df))"
   ]
  },
  {
   "cell_type": "code",
   "execution_count": 7,
   "metadata": {},
   "outputs": [],
   "source": [
    "niskdat_df$Date <- paste(niskdat_df$Year,'-',niskdat_df$Month,'-',niskdat_df$Day,sep='')"
   ]
  },
  {
   "cell_type": "code",
   "execution_count": 8,
   "metadata": {},
   "outputs": [],
   "source": [
    "niskdat_df$date <- as.Date(niskdat_df$Date) # as.Date(substr(niskdat_df$ISO_DateTime_end_hc_UTC, 0, 10))"
   ]
  },
  {
   "cell_type": "code",
   "execution_count": 9,
   "metadata": {},
   "outputs": [],
   "source": [
    "niskdat_df$Depth_real <- as.numeric(niskdat_df$Depth_real)\n",
    "niskdat_df$Depth_target <- as.numeric(niskdat_df$Depth_target)\n",
    "\n",
    "niskdat_df$Temperature <- as.numeric(niskdat_df$Temperature)\n",
    "\n",
    "niskdat_df$NO3_NO2_USF <- as.numeric(niskdat_df$NO3_NO2_USF)\n",
    "niskdat_df$NO3_UDO <- as.numeric(niskdat_df$NO3_UDO)\n",
    "\n",
    "niskdat_df$SiO4_USF <- as.numeric(niskdat_df$SiO4_USF)\n",
    "niskdat_df$SiO4_UDO <- as.numeric(niskdat_df$SiO4_UDO)\n",
    "\n",
    "niskdat_df$PO4_USF <- as.numeric(niskdat_df$PO4_USF)\n",
    "niskdat_df$PO4_UDO <- as.numeric(niskdat_df$PO4_UDO)\n",
    "\n",
    "niskdat_df$Sigma_t <- as.numeric(niskdat_df$Sigma_t)\n",
    "niskdat_df$Salinity_bottles <- as.numeric(niskdat_df$Salinity_bottles)\n",
    "niskdat_df$Salinity_CTD <- as.numeric(niskdat_df$Salinity_CTD)"
   ]
  },
  {
   "cell_type": "code",
   "execution_count": 12,
   "metadata": {},
   "outputs": [],
   "source": [
    "#niskdat_df$Depth_real"
   ]
  },
  {
   "cell_type": "code",
   "execution_count": 17,
   "metadata": {},
   "outputs": [],
   "source": [
    "#mean(niskdat_df[niskdat_df$Depth_real<100,]$Temperature, na.rm=T)"
   ]
  },
  {
   "cell_type": "code",
   "execution_count": 10,
   "metadata": {},
   "outputs": [],
   "source": [
    "#head(niskdat_df[niskdat_df$date > as.Date('1997-05-10'),]$SiO4_USF, n=100)\n",
    "#head(niskdat_df[niskdat_df$date > as.Date('1997-05-10'),]$Depth_real, n=100)"
   ]
  },
  {
   "cell_type": "code",
   "execution_count": 11,
   "metadata": {},
   "outputs": [],
   "source": [
    "niskdat_df$O2_umol_kg <- as.numeric(niskdat_df$O2_umol_kg)\n",
    "niskdat_df$POC_ug_kg <- as.numeric(niskdat_df$POC_ug_kg)\n",
    "niskdat_df$POC_ug_L <- as.numeric(niskdat_df$POC_ug_L)\n",
    "niskdat_df$PN_ug_L <- as.numeric(niskdat_df$PN_ug_L)\n",
    "niskdat_df$C_N_particulate <- as.numeric(niskdat_df$C_N_particulate)"
   ]
  },
  {
   "cell_type": "code",
   "execution_count": 12,
   "metadata": {},
   "outputs": [],
   "source": [
    "niskdat_df$PON_ug_kg <- as.numeric(niskdat_df$PON_ug_kg)\n",
    "niskdat_df$PN_ug_L <- as.numeric(niskdat_df$PN_ug_L)\n",
    "\n",
    "niskdat_df$C_N_particulate <- as.numeric(niskdat_df$C_N_particulate)\n",
    "niskdat_df$PIP <- as.numeric(niskdat_df$PIP)\n",
    "niskdat_df$TPP <- as.numeric(niskdat_df$TPP)\n",
    "niskdat_df$DOC <- as.numeric(niskdat_df$DOC)\n",
    "niskdat_df$DON <- as.numeric(niskdat_df$DON)\n",
    "niskdat_df$DOP <- as.numeric(niskdat_df$DOP)\n",
    "niskdat_df$TOC <- as.numeric(niskdat_df$TOC)"
   ]
  },
  {
   "cell_type": "code",
   "execution_count": 13,
   "metadata": {},
   "outputs": [
    {
     "name": "stderr",
     "output_type": "stream",
     "text": [
      "Warning message in eval(expr, envir, enclos):\n",
      "“NAs introduced by coercion”Warning message in eval(expr, envir, enclos):\n",
      "“NAs introduced by coercion”"
     ]
    }
   ],
   "source": [
    "niskdat_df$PrimaryProductivity <- as.numeric(niskdat_df$PrimaryProductivity)\n",
    "niskdat_df$Chlorophyll <- as.numeric(niskdat_df$Chlorophyll)\n",
    "niskdat_df$Phaeopigments <- as.numeric(niskdat_df$Phaeopigments)\n",
    "niskdat_df$Total_Prokaryotes <- as.numeric(niskdat_df$Total_Prokaryotes)\n",
    "niskdat_df$Bact_Biomass_mgC_m3 <- as.numeric(niskdat_df$Bact_Biomass_mgC_m3)"
   ]
  },
  {
   "cell_type": "code",
   "execution_count": 14,
   "metadata": {},
   "outputs": [],
   "source": [
    "# Function to read specific verfication type from dataset\n",
    "prepdataframe <- function(variable='', datasource='niskin'){\n",
    "    if(datasource=='niskin'){\n",
    "    DF <- niskdat_df\n",
    "    DF$depth <- DF$Depth_real\n",
    "    # print(names(DF))\n",
    "        \n",
    "    VarDF <- DF[complete.cases(DF[variable]),] %>%\n",
    "      select(date, variable, depth) %>%\n",
    "      gather(key='key',value = \"value\", -date, -depth)\n",
    "    head(VarDF)\n",
    "    }\n",
    "    return(VarDF)\n",
    "}"
   ]
  },
  {
   "cell_type": "code",
   "execution_count": 15,
   "metadata": {},
   "outputs": [],
   "source": [
    "# integration functions (if necessary)\n",
    "\n",
    "# adapt integration function from PINCKNEY\n",
    "integrateJAYfunc <- function(x, y){\n",
    "    N1 = length(y)\n",
    "    area = 0\n",
    "    \n",
    "    for(j in 2:N1){\n",
    "        area = area + (x[j] - x[j-1]) * (y[j] + y[j-1]) / 2\n",
    "    }\n",
    "    return(area)\n",
    "}\n",
    "\n",
    "intgrtJAY <- function(DFtest, reg, var){\n",
    "    DF_int <- DFtest %>%\n",
    "        group_by(date) %>%\n",
    "        do(data.frame(\"value_int\" = with(.,integrateJAYfunc(x=depth, y=value)), \"reg\" = reg , \"var\" = var)) %>%\n",
    "        ungroup()\n",
    "        \n",
    "    return(DF_int)\n",
    "}"
   ]
  },
  {
   "cell_type": "code",
   "execution_count": 16,
   "metadata": {},
   "outputs": [],
   "source": [
    "# Interpolate\n",
    "interpolateDF <- function(DF,func='oce-rr'){\n",
    "    zz <- seq(0, 200, 1)\n",
    "    var = DF$key[1]\n",
    "    if(func=='oce-rr'){\n",
    "        IntDF <- DF %>%\n",
    "            group_by(date) %>%\n",
    "            do(data.frame(value_int = with(.,oceApprox(depth, value, zz, \"rr\")), depth = zz)) \n",
    "        }\n",
    "    \n",
    "    return(IntDF)\n",
    "}\n",
    "\n",
    "# take MEAN of concentrations at certain depth\n",
    "meanTOdepth <- function(DF_int,type='fixed',depthFROM=0,depthTO=100){\n",
    "    DF_means <- DF_int %>%\n",
    "        group_by(date) %>% # this groups it by the run number \n",
    "        filter(depthFROM < depth & depth < depthTO) %>% # only keep values above the depth passed to function\n",
    "        summarize('mean'=mean(value_int, na.rm=T))\n",
    "\n",
    "    return(DF_means)}"
   ]
  },
  {
   "cell_type": "code",
   "execution_count": null,
   "metadata": {},
   "outputs": [],
   "source": []
  },
  {
   "cell_type": "code",
   "execution_count": 17,
   "metadata": {},
   "outputs": [],
   "source": [
    "extrctintrplt <- function(x, below=TRUE){\n",
    "    DF <- prepdataframe(x)\n",
    "    \n",
    "    #head(DF)\n",
    "    ##############################\n",
    "    DF_int <- interpolateDF(DF)\n",
    "    #head(DF_int)\n",
    "    ##############################\n",
    "    DF_mean <- meanTOdepth(DF_int, type='fixed')\n",
    "    names(DF_mean)[2] <- paste(x,'_Box', sep='')\n",
    "    #head(DF_mean)\n",
    "    if(below==TRUE){\n",
    "        ##############################\n",
    "        DF_atDEPTH <- meanTOdepth(DF_int, type='fixed', depthFROM = 100, depthTO = 150)\n",
    "        names(DF_atDEPTH)[2] <- paste(x,'_AtDepth', sep='')\n",
    "        #head(DF_atDEPTH)\n",
    "        ##############################\n",
    "        DFX <- merge(DF_mean,DF_atDEPTH, all=T)\n",
    "    }else{\n",
    "        DFX <- DF_mean\n",
    "    }\n",
    "\n",
    "    return(DFX)\n",
    "}"
   ]
  },
  {
   "cell_type": "code",
   "execution_count": 18,
   "metadata": {},
   "outputs": [],
   "source": [
    "Temperature <- extrctintrplt('Temperature')\n",
    "#head(Temp)\n",
    "NO3_NO2_USF <- extrctintrplt('NO3_NO2_USF')\n",
    "#head(NO3_NO2_USF)\n",
    "NO3_UDO <- extrctintrplt('NO3_UDO')\n",
    "#head(NO3_UDO)\n",
    "SiO4_USF <- extrctintrplt('SiO4_USF')\n",
    "#head(SiO4_USF)\n",
    "SiO4_UDO <- extrctintrplt('SiO4_UDO')\n",
    "#head(SiO4_UDO)\n",
    "PO4_USF <- extrctintrplt('PO4_USF')\n",
    "#head(PO4_USF)\n",
    "PO4_UDO <- extrctintrplt('PO4_UDO')\n",
    "#head(PO4_UDO)\n",
    "Sigma_t <- extrctintrplt('Sigma_t')\n",
    "#head(Sigma_t)\n",
    "Salinity_bottles <- extrctintrplt('Salinity_bottles')\n",
    "#head(Salinity_bottles)\n",
    "Salinity_CTD <- extrctintrplt('Salinity_CTD')\n",
    "#head(Salinity_CTD)"
   ]
  },
  {
   "cell_type": "code",
   "execution_count": 19,
   "metadata": {},
   "outputs": [],
   "source": [
    "O2_umol_kg <- extrctintrplt('O2_umol_kg')\n",
    "#head(O2_umol_kg)\n",
    "POC_ug_kg <- extrctintrplt('POC_ug_kg')\n",
    "#head(POC_ug_kg)\n",
    "POC_ug_L <- extrctintrplt('POC_ug_L')\n",
    "#head(POC_ug_L)\n",
    "PN_ug_L <- extrctintrplt('PN_ug_L')\n",
    "#head(PN_ug_L)\n",
    "C_N_particulate <- extrctintrplt('C_N_particulate')\n",
    "#head(C_N_particulate)\n",
    "PON_ug_kg <- extrctintrplt('PON_ug_kg')\n",
    "#head(PON_ug_kg)\n",
    "PIP <- extrctintrplt('PIP')\n",
    "#head(PIP)\n",
    "DOC <- extrctintrplt('DOC')\n",
    "#head(DOC)\n",
    "DON <- extrctintrplt('DON')\n",
    "#head(DON)\n",
    "DOP <- extrctintrplt('DOP')\n",
    "#head(DOP)\n",
    "TOC <- extrctintrplt('TOC')\n",
    "#head(TOC)"
   ]
  },
  {
   "cell_type": "code",
   "execution_count": 20,
   "metadata": {},
   "outputs": [],
   "source": [
    "PrimaryProductivity <- extrctintrplt('PrimaryProductivity')\n",
    "#head(PrimaryProductivity)\n",
    "Chlorophyll <- extrctintrplt('Chlorophyll')\n",
    "#head(Chlorophyll)\n",
    "Phaeopigments <- extrctintrplt('Phaeopigments')\n",
    "#head(DON)\n",
    "Total_Prokaryotes <- extrctintrplt('Total_Prokaryotes')\n",
    "#head(DOP)\n",
    "Bact_Biomass_mgC_m3 <- extrctintrplt('Bact_Biomass_mgC_m3')\n",
    "#head(TOC)"
   ]
  },
  {
   "cell_type": "code",
   "execution_count": 21,
   "metadata": {},
   "outputs": [],
   "source": [
    "BoxVSAtDepth <- list(Temperature, NO3_NO2_USF, NO3_UDO , SiO4_USF, SiO4_UDO, PO4_USF, PO4_UDO, Sigma_t, Salinity_bottles, Salinity_CTD,\n",
    "    O2_umol_kg, POC_ug_kg, POC_ug_L, PN_ug_L, C_N_particulate, PON_ug_kg, PIP, DOC, DON, DOP, TOC,\n",
    "    PrimaryProductivity, Chlorophyll, Phaeopigments, Total_Prokaryotes, Bact_Biomass_mgC_m3) %>% reduce(left_join, by = \"date\")"
   ]
  },
  {
   "cell_type": "code",
   "execution_count": 23,
   "metadata": {},
   "outputs": [],
   "source": [
    "BoxVSAtDepth$yday <- yday(BoxVSAtDepth$date)\n",
    "BoxVSAtDepth$month <- month(BoxVSAtDepth$date)"
   ]
  },
  {
   "cell_type": "code",
   "execution_count": 24,
   "metadata": {},
   "outputs": [
    {
     "name": "stdout",
     "output_type": "stream",
     "text": [
      "'data.frame':\t230 obs. of  55 variables:\n",
      " $ date                       : Date, format: \"1995-11-08\" \"1995-12-13\" ...\n",
      " $ Temperature_Box            : num  25.3 23.7 22.6 22.3 21.2 ...\n",
      " $ Temperature_AtDepth        : num  21.6 20.6 20.3 20.1 19.5 ...\n",
      " $ NO3_NO2_USF_Box            : num  NA NA NA NA NA NA NA NA NA NA ...\n",
      " $ NO3_NO2_USF_AtDepth        : num  NA NA NA NA NA NA NA NA NA NA ...\n",
      " $ NO3_UDO_Box                : num  0.86 3.07 7.48 6.79 6.5 ...\n",
      " $ NO3_UDO_AtDepth            : num  6.59 7.36 16.09 13.86 10.46 ...\n",
      " $ SiO4_USF_Box               : num  NA NA NA NA NA NA NA NA NA NA ...\n",
      " $ SiO4_USF_AtDepth           : num  NA NA NA NA NA NA NA NA NA NA ...\n",
      " $ SiO4_UDO_Box               : num  2.11 3.85 4.84 4.03 5.14 ...\n",
      " $ SiO4_UDO_AtDepth           : num  5.83 6.59 7.92 8.03 6.88 ...\n",
      " $ PO4_USF_Box                : num  NA NA NA NA NA NA NA NA NA NA ...\n",
      " $ PO4_USF_AtDepth            : num  NA NA NA NA NA NA NA NA NA NA ...\n",
      " $ PO4_UDO_Box                : num  0.0576 0.2074 0.3003 0.3189 0.331 ...\n",
      " $ PO4_UDO_AtDepth            : num  0.599 0.519 0.686 0.755 0.548 ...\n",
      " $ Sigma_t_Box                : num  24.5 25.1 25.5 25.6 25.8 ...\n",
      " $ Sigma_t_AtDepth            : num  25.6 25.9 26 26.1 26.2 ...\n",
      " $ Salinity_bottles_Box       : num  36.8 NA 36.9 36.9 36.8 ...\n",
      " $ Salinity_bottles_AtDepth   : num  36.7 NA 36.7 36.7 36.7 ...\n",
      " $ Salinity_CTD_Box           : num  NA 36.9 NaN NaN 36.8 ...\n",
      " $ Salinity_CTD_AtDepth       : num  NA 36.7 36.7 36.7 36.7 ...\n",
      " $ O2_umol_kg_Box             : num  178 150 149 144 149 ...\n",
      " $ O2_umol_kg_AtDepth         : num  117 117 116 103 121 ...\n",
      " $ POC_ug_kg_Box              : num  NA 47.9 81.3 110 165.4 ...\n",
      " $ POC_ug_kg_AtDepth          : num  NA 24.3 17.6 18.3 29.2 ...\n",
      " $ POC_ug_L_Box               : num  NA 6.35 5.67 6.04 6.41 ...\n",
      " $ POC_ug_L_AtDepth           : num  NA 5.99 5.37 5.1 5.53 ...\n",
      " $ PN_ug_L_Box                : num  NA 46.8 79.3 107.3 161.4 ...\n",
      " $ PN_ug_L_AtDepth            : num  NA 23.7 17.1 17.8 28.5 ...\n",
      " $ C_N_particulate_Box        : num  NA 8.68 13.98 17.8 25.01 ...\n",
      " $ C_N_particulate_AtDepth    : num  NA 4.43 3.77 4.08 5.9 ...\n",
      " $ PON_ug_kg_Box              : num  NA 8.89 14.33 18.24 25.63 ...\n",
      " $ PON_ug_kg_AtDepth          : num  NA 4.54 3.86 4.18 6.04 ...\n",
      " $ PIP_Box                    : num  NA NA NA NA NA NA NA NA NA NA ...\n",
      " $ PIP_AtDepth                : num  NA NA NA NA NA NA NA NA NA NA ...\n",
      " $ DOC_Box                    : num  78.6 NA 81.2 70.8 NA ...\n",
      " $ DOC_AtDepth                : num  73 NA 63.7 67.4 NA ...\n",
      " $ DON_Box                    : num  NA NA NA NA NA NA NA NA NA NA ...\n",
      " $ DON_AtDepth                : num  NA NA NA NA NA NA NA NA NA NA ...\n",
      " $ DOP_Box                    : num  NA NA NA NA NA NA NA NA NA NA ...\n",
      " $ DOP_AtDepth                : num  NA NA NA NA NA NA NA NA NA NA ...\n",
      " $ TOC_Box                    : num  NA NA NA NA NA NA NA NA NA NA ...\n",
      " $ TOC_AtDepth                : num  NA NA NA NA NA NA NA NA NA NA ...\n",
      " $ PrimaryProductivity_Box    : num  NA 0.455 1.976 1.111 1.528 ...\n",
      " $ PrimaryProductivity_AtDepth: num  NA NaN NaN NaN 0 ...\n",
      " $ Chlorophyll_Box            : num  0.166 0.112 0.559 0.341 0.629 ...\n",
      " $ Chlorophyll_AtDepth        : num  NaN NaN NaN NaN 0.0599 ...\n",
      " $ Phaeopigments_Box          : num  0.249 0.157 0.334 0.28 0.379 ...\n",
      " $ Phaeopigments_AtDepth      : num  NaN NaN NaN NaN 0.08 0.07 0.09 0.07 0.19 0.04 ...\n",
      " $ Total_Prokaryotes_Box      : num  NA 0.712 2.97 2.635 NA ...\n",
      " $ Total_Prokaryotes_AtDepth  : num  NA 1.46 1.02 1.04 NA ...\n",
      " $ Bact_Biomass_mgC_m3_Box    : num  NA 2.09 9.69 8.6 NA ...\n",
      " $ Bact_Biomass_mgC_m3_AtDepth: num  NA 4.94 3.49 3.55 NA ...\n",
      " $ yday                       : num  312 347 12 44 73 107 130 164 192 219 ...\n",
      " $ month                      : num  11 12 1 2 3 4 5 6 7 8 ...\n"
     ]
    }
   ],
   "source": [
    "str(BoxVSAtDepth)"
   ]
  },
  {
   "cell_type": "code",
   "execution_count": 25,
   "metadata": {},
   "outputs": [],
   "source": [
    "write.csv(BoxVSAtDepth,\"ProcessedDATA/BoxVSatDepth_02.csv\")"
   ]
  },
  {
   "cell_type": "markdown",
   "metadata": {},
   "source": [
    "# CTD DATA"
   ]
  },
  {
   "cell_type": "code",
   "execution_count": 26,
   "metadata": {},
   "outputs": [],
   "source": [
    "# open a NetCDF file\n",
    "ctdat <- nc_open(\"../01Observations/Data/ctd.netcdf\")\n",
    "\n",
    "#print(niskdat)"
   ]
  },
  {
   "cell_type": "code",
   "execution_count": 27,
   "metadata": {},
   "outputs": [
    {
     "name": "stdout",
     "output_type": "stream",
     "text": [
      "[1] \"start\"\n",
      "[1] \"done reading\"\n"
     ]
    },
    {
     "data": {
      "text/html": [
       "<table>\n",
       "<thead><tr><th scope=col>Num</th><th scope=col>cruise_no</th><th scope=col>Cruise_ID1</th><th scope=col>Cruise_ID2</th><th scope=col>Year</th><th scope=col>Month</th><th scope=col>Day</th><th scope=col>Date</th><th scope=col>Latitude</th><th scope=col>Longitude</th><th scope=col>...</th><th scope=col>temp</th><th scope=col>sal</th><th scope=col>potemp</th><th scope=col>sigma_t</th><th scope=col>sigma_0</th><th scope=col>O2_ml_L</th><th scope=col>beam_cp</th><th scope=col>beam_att</th><th scope=col>fluor_CTD</th><th scope=col>fluor_chla</th></tr></thead>\n",
       "<tbody>\n",
       "\t<tr><td>1         </td><td>1         </td><td>93HG_001  </td><td>CAR-001   </td><td>1995      </td><td>11        </td><td>8         </td><td>1995-11-08</td><td>10.5      </td><td>-64.667   </td><td>...       </td><td>          </td><td>36.612    </td><td>          </td><td>          </td><td>          </td><td>          </td><td>          </td><td>          </td><td>0.173     </td><td>          </td></tr>\n",
       "\t<tr><td>2         </td><td>1         </td><td>93HG_001  </td><td>CAR-001   </td><td>1995      </td><td>11        </td><td>8         </td><td>1995-11-08</td><td>10.5      </td><td>-64.667   </td><td>...       </td><td>27.522    </td><td>36.612    </td><td>27.522    </td><td>23.764    </td><td>23.764    </td><td>3.964     </td><td>          </td><td>          </td><td>0.176     </td><td>          </td></tr>\n",
       "\t<tr><td>3         </td><td>1         </td><td>93HG_001  </td><td>CAR-001   </td><td>1995      </td><td>11        </td><td>8         </td><td>1995-11-08</td><td>10.5      </td><td>-64.667   </td><td>...       </td><td>27.489    </td><td>36.612    </td><td>27.488    </td><td>23.775    </td><td>23.775    </td><td>3.978     </td><td>          </td><td>          </td><td>0.166     </td><td>          </td></tr>\n",
       "\t<tr><td>4         </td><td>1         </td><td>93HG_001  </td><td>CAR-001   </td><td>1995      </td><td>11        </td><td>8         </td><td>1995-11-08</td><td>10.5      </td><td>-64.667   </td><td>...       </td><td>27.465    </td><td>36.614    </td><td>27.464    </td><td>23.782    </td><td>23.782    </td><td>3.984     </td><td>          </td><td>          </td><td>0.164     </td><td>          </td></tr>\n",
       "\t<tr><td>5         </td><td>1         </td><td>93HG_001  </td><td>CAR-001   </td><td>1995      </td><td>11        </td><td>8         </td><td>1995-11-08</td><td>10.5      </td><td>-64.667   </td><td>...       </td><td>27.458    </td><td>36.613    </td><td>27.456    </td><td>23.786    </td><td>23.787    </td><td>3.990     </td><td>          </td><td>          </td><td>0.170     </td><td>          </td></tr>\n",
       "\t<tr><td>6         </td><td>1         </td><td>93HG_001  </td><td>CAR-001   </td><td>1995      </td><td>11        </td><td>8         </td><td>1995-11-08</td><td>10.5      </td><td>-64.667   </td><td>...       </td><td>27.454    </td><td>36.613    </td><td>27.452    </td><td>23.787    </td><td>23.787    </td><td>3.992     </td><td>          </td><td>          </td><td>0.175     </td><td>          </td></tr>\n",
       "</tbody>\n",
       "</table>\n"
      ],
      "text/latex": [
       "\\begin{tabular}{r|llllllllllllllllllllll}\n",
       " Num & cruise\\_no & Cruise\\_ID1 & Cruise\\_ID2 & Year & Month & Day & Date & Latitude & Longitude & ... & temp & sal & potemp & sigma\\_t & sigma\\_0 & O2\\_ml\\_L & beam\\_cp & beam\\_att & fluor\\_CTD & fluor\\_chla\\\\\n",
       "\\hline\n",
       "\t 1          & 1          & 93HG\\_001 & CAR-001    & 1995       & 11         & 8          & 1995-11-08 & 10.5       & -64.667    & ...        &            & 36.612     &            &            &            &            &            &            & 0.173      &           \\\\\n",
       "\t 2          & 1          & 93HG\\_001 & CAR-001    & 1995       & 11         & 8          & 1995-11-08 & 10.5       & -64.667    & ...        & 27.522     & 36.612     & 27.522     & 23.764     & 23.764     & 3.964      &            &            & 0.176      &           \\\\\n",
       "\t 3          & 1          & 93HG\\_001 & CAR-001    & 1995       & 11         & 8          & 1995-11-08 & 10.5       & -64.667    & ...        & 27.489     & 36.612     & 27.488     & 23.775     & 23.775     & 3.978      &            &            & 0.166      &           \\\\\n",
       "\t 4          & 1          & 93HG\\_001 & CAR-001    & 1995       & 11         & 8          & 1995-11-08 & 10.5       & -64.667    & ...        & 27.465     & 36.614     & 27.464     & 23.782     & 23.782     & 3.984      &            &            & 0.164      &           \\\\\n",
       "\t 5          & 1          & 93HG\\_001 & CAR-001    & 1995       & 11         & 8          & 1995-11-08 & 10.5       & -64.667    & ...        & 27.458     & 36.613     & 27.456     & 23.786     & 23.787     & 3.990      &            &            & 0.170      &           \\\\\n",
       "\t 6          & 1          & 93HG\\_001 & CAR-001    & 1995       & 11         & 8          & 1995-11-08 & 10.5       & -64.667    & ...        & 27.454     & 36.613     & 27.452     & 23.787     & 23.787     & 3.992      &            &            & 0.175      &           \\\\\n",
       "\\end{tabular}\n"
      ],
      "text/markdown": [
       "\n",
       "| Num | cruise_no | Cruise_ID1 | Cruise_ID2 | Year | Month | Day | Date | Latitude | Longitude | ... | temp | sal | potemp | sigma_t | sigma_0 | O2_ml_L | beam_cp | beam_att | fluor_CTD | fluor_chla |\n",
       "|---|---|---|---|---|---|---|---|---|---|---|---|---|---|---|---|---|---|---|---|---|\n",
       "| 1          | 1          | 93HG_001   | CAR-001    | 1995       | 11         | 8          | 1995-11-08 | 10.5       | -64.667    | ...        |            | 36.612     |            |            |            |            |            |            | 0.173      |            |\n",
       "| 2          | 1          | 93HG_001   | CAR-001    | 1995       | 11         | 8          | 1995-11-08 | 10.5       | -64.667    | ...        | 27.522     | 36.612     | 27.522     | 23.764     | 23.764     | 3.964      |            |            | 0.176      |            |\n",
       "| 3          | 1          | 93HG_001   | CAR-001    | 1995       | 11         | 8          | 1995-11-08 | 10.5       | -64.667    | ...        | 27.489     | 36.612     | 27.488     | 23.775     | 23.775     | 3.978      |            |            | 0.166      |            |\n",
       "| 4          | 1          | 93HG_001   | CAR-001    | 1995       | 11         | 8          | 1995-11-08 | 10.5       | -64.667    | ...        | 27.465     | 36.614     | 27.464     | 23.782     | 23.782     | 3.984      |            |            | 0.164      |            |\n",
       "| 5          | 1          | 93HG_001   | CAR-001    | 1995       | 11         | 8          | 1995-11-08 | 10.5       | -64.667    | ...        | 27.458     | 36.613     | 27.456     | 23.786     | 23.787     | 3.990      |            |            | 0.170      |            |\n",
       "| 6          | 1          | 93HG_001   | CAR-001    | 1995       | 11         | 8          | 1995-11-08 | 10.5       | -64.667    | ...        | 27.454     | 36.613     | 27.452     | 23.787     | 23.787     | 3.992      |            |            | 0.175      |            |\n",
       "\n"
      ],
      "text/plain": [
       "  Num cruise_no Cruise_ID1 Cruise_ID2 Year Month Day Date       Latitude\n",
       "1 1   1         93HG_001   CAR-001    1995 11    8   1995-11-08 10.5    \n",
       "2 2   1         93HG_001   CAR-001    1995 11    8   1995-11-08 10.5    \n",
       "3 3   1         93HG_001   CAR-001    1995 11    8   1995-11-08 10.5    \n",
       "4 4   1         93HG_001   CAR-001    1995 11    8   1995-11-08 10.5    \n",
       "5 5   1         93HG_001   CAR-001    1995 11    8   1995-11-08 10.5    \n",
       "6 6   1         93HG_001   CAR-001    1995 11    8   1995-11-08 10.5    \n",
       "  Longitude ... temp   sal    potemp sigma_t sigma_0 O2_ml_L beam_cp beam_att\n",
       "1 -64.667   ...        36.612                                                \n",
       "2 -64.667   ... 27.522 36.612 27.522 23.764  23.764  3.964                   \n",
       "3 -64.667   ... 27.489 36.612 27.488 23.775  23.775  3.978                   \n",
       "4 -64.667   ... 27.465 36.614 27.464 23.782  23.782  3.984                   \n",
       "5 -64.667   ... 27.458 36.613 27.456 23.786  23.787  3.990                   \n",
       "6 -64.667   ... 27.454 36.613 27.452 23.787  23.787  3.992                   \n",
       "  fluor_CTD fluor_chla\n",
       "1 0.173               \n",
       "2 0.176               \n",
       "3 0.166               \n",
       "4 0.164               \n",
       "5 0.170               \n",
       "6 0.175               "
      ]
     },
     "metadata": {},
     "output_type": "display_data"
    }
   ],
   "source": [
    "ctdat_df <- data.frame(\"Num\" = 1:ctdat$dim$unlimited$len)\n",
    "print('start')\n",
    "for(i in 1:ctdat$nvars){\n",
    "    #print(i)\n",
    "    ctdat_df[paste(attributes(ctdat$var)$names[i])] <- ncvar_get(ctdat, attributes(ctdat$var)$names[i])\n",
    "}\n",
    "print('done reading')\n",
    "head(ctdat_df)"
   ]
  },
  {
   "cell_type": "code",
   "execution_count": 28,
   "metadata": {},
   "outputs": [
    {
     "name": "stdout",
     "output_type": "stream",
     "text": [
      "Num cruise_no Cruise_ID1 Cruise_ID2 Year Month Day Date Latitude Longitude press depth temp sal potemp sigma_t sigma_0 O2_ml_L beam_cp beam_att fluor_CTD fluor_chla"
     ]
    }
   ],
   "source": [
    "cat(names(ctdat_df))"
   ]
  },
  {
   "cell_type": "code",
   "execution_count": 29,
   "metadata": {},
   "outputs": [],
   "source": [
    "ctdat_df$date <- as.Date(ctdat_df$Date)"
   ]
  },
  {
   "cell_type": "code",
   "execution_count": 30,
   "metadata": {},
   "outputs": [],
   "source": [
    "ctdat_df$press <- as.numeric(ctdat_df$press)\n",
    "ctdat_df$depth <- as.numeric(ctdat_df$depth)\n",
    "ctdat_df$temp <- as.numeric(ctdat_df$temp)\n",
    "ctdat_df$sal <- as.numeric(ctdat_df$sal)\n",
    "ctdat_df$potemp <- as.numeric(ctdat_df$potemp) \n",
    "ctdat_df$sigma_t <- as.numeric(ctdat_df$sigma_t)\n",
    "ctdat_df$sigma_0 <- as.numeric(ctdat_df$sigma_0)\n",
    "ctdat_df$O2_ml_L <- as.numeric(ctdat_df$O2_ml_L)\n",
    "ctdat_df$beam_cp <- as.numeric(ctdat_df$beam_cp)\n",
    "ctdat_df$beam_att <- as.numeric(ctdat_df$beam_att)\n",
    "ctdat_df$fluor_CTD <- as.numeric(ctdat_df$fluor_CTD)\n",
    "ctdat_df$fluor_chla <- as.numeric(ctdat_df$fluor_chla)"
   ]
  },
  {
   "cell_type": "code",
   "execution_count": 31,
   "metadata": {},
   "outputs": [],
   "source": [
    "ctdat_df[ctdat_df>10000000000]=NA"
   ]
  },
  {
   "cell_type": "code",
   "execution_count": 32,
   "metadata": {},
   "outputs": [],
   "source": [
    "CTDx258 <- ctdat_df %>%\n",
    "  group_by(date) %>% # this groups it by the run number \n",
    "  #filter(press > 8) %>% # only take values below 8 meters depth to minimze influence of surface anomalies\n",
    "  mutate(belowmld = sigma_t >= 25.8) %>% # create new column that gives \"True\" for values with sigma t higher than 25.8\n",
    "  filter(belowmld == T) %>% # only take \"True\" values \n",
    "  slice(1) %>% # takes the first occurrence\n",
    "  ungroup() #removes grouping"
   ]
  },
  {
   "cell_type": "code",
   "execution_count": 33,
   "metadata": {},
   "outputs": [],
   "source": [
    "x258 <- data.frame(date=CTDx258$date, x258depth = CTDx258$depth)"
   ]
  },
  {
   "cell_type": "code",
   "execution_count": 34,
   "metadata": {},
   "outputs": [],
   "source": [
    "x258$yday <- yday(x258$date)\n",
    "\n",
    "x258$month <- month(x258$date)"
   ]
  },
  {
   "cell_type": "code",
   "execution_count": 35,
   "metadata": {},
   "outputs": [
    {
     "name": "stdout",
     "output_type": "stream",
     "text": [
      "'data.frame':\t229 obs. of  4 variables:\n",
      " $ date     : Date, format: \"1995-11-08\" \"1995-12-14\" ...\n",
      " $ x258depth: num  130 44 92 88 38 39 14 53 105 64 ...\n",
      " $ yday     : num  312 348 13 45 73 107 130 164 192 219 ...\n",
      " $ month    : num  11 12 1 2 3 4 5 6 7 8 ...\n"
     ]
    }
   ],
   "source": [
    "str(x258)"
   ]
  },
  {
   "cell_type": "code",
   "execution_count": 36,
   "metadata": {},
   "outputs": [],
   "source": [
    "write.csv(x258,\"ProcessedDATA/x258_02.csv\")"
   ]
  },
  {
   "cell_type": "markdown",
   "metadata": {},
   "source": [
    "# PAR DATA"
   ]
  },
  {
   "cell_type": "code",
   "execution_count": 37,
   "metadata": {},
   "outputs": [],
   "source": [
    "# read SeaWIFs 8Day extracted file\n",
    "SeaWIFs <- read.csv('SeaWIFs_PAR_8day_extracted.csv')"
   ]
  },
  {
   "cell_type": "code",
   "execution_count": 38,
   "metadata": {},
   "outputs": [
    {
     "name": "stdout",
     "output_type": "stream",
     "text": [
      "'data.frame':\t11540 obs. of  8 variables:\n",
      " $ year : int  1997 1997 1997 1997 1997 1997 1997 1997 1997 1997 ...\n",
      " $ month: int  9 9 9 9 9 9 9 9 9 9 ...\n",
      " $ lon  : num  -64.8 -64.8 -64.7 -64.6 -64.8 ...\n",
      " $ lat  : num  10.7 10.7 10.7 10.7 10.6 ...\n",
      " $ value: num  31.1 27.3 32.1 38.9 25.7 ...\n",
      " $ unit : Factor w/ 1 level \"einstein m^-2 day^-1\": 1 1 1 1 1 1 1 1 1 1 ...\n",
      " $ var  : Factor w/ 1 level \"par\": 1 1 1 1 1 1 1 1 1 1 ...\n",
      " $ Date : Date, format: \"1997-09-15\" \"1997-09-15\" ...\n"
     ]
    }
   ],
   "source": [
    "date = as.character(paste(SeaWIFs$year,'-',SeaWIFs$month,'-15',sep=''))\n",
    "SeaWIFs$Date <- as.Date(date, format='%Y-%m-%d')\n",
    "str(SeaWIFs)"
   ]
  },
  {
   "cell_type": "code",
   "execution_count": 39,
   "metadata": {},
   "outputs": [],
   "source": [
    "PARX <- data.frame(date = SeaWIFs$Date,lat = SeaWIFs$lat,lon = SeaWIFs$lon, value= SeaWIFs$value, unit = SeaWIFs$unit)"
   ]
  },
  {
   "cell_type": "code",
   "execution_count": 40,
   "metadata": {},
   "outputs": [],
   "source": [
    "PARX$yday <- yday(PARX$date)\n",
    "\n",
    "PARX$month <- month(PARX$date)"
   ]
  },
  {
   "cell_type": "code",
   "execution_count": 41,
   "metadata": {},
   "outputs": [
    {
     "data": {
      "text/html": [
       "<table>\n",
       "<thead><tr><th scope=col>date</th><th scope=col>lat</th><th scope=col>lon</th><th scope=col>value</th><th scope=col>unit</th><th scope=col>yday</th><th scope=col>month</th></tr></thead>\n",
       "<tbody>\n",
       "\t<tr><td>1997-09-15          </td><td>10.7326             </td><td>-64.83918           </td><td>31.060              </td><td>einstein m^-2 day^-1</td><td>258                 </td><td>9                   </td></tr>\n",
       "\t<tr><td>1997-09-15          </td><td>10.7326             </td><td>-64.75515           </td><td>27.270              </td><td>einstein m^-2 day^-1</td><td>258                 </td><td>9                   </td></tr>\n",
       "\t<tr><td>1997-09-15          </td><td>10.7326             </td><td>-64.67112           </td><td>32.122              </td><td>einstein m^-2 day^-1</td><td>258                 </td><td>9                   </td></tr>\n",
       "\t<tr><td>1997-09-15          </td><td>10.7326             </td><td>-64.58709           </td><td>38.942              </td><td>einstein m^-2 day^-1</td><td>258                 </td><td>9                   </td></tr>\n",
       "\t<tr><td>1997-09-15          </td><td>10.6482             </td><td>-64.83918           </td><td>25.684              </td><td>einstein m^-2 day^-1</td><td>258                 </td><td>9                   </td></tr>\n",
       "\t<tr><td>1997-09-15          </td><td>10.6482             </td><td>-64.75515           </td><td>28.770              </td><td>einstein m^-2 day^-1</td><td>258                 </td><td>9                   </td></tr>\n",
       "</tbody>\n",
       "</table>\n"
      ],
      "text/latex": [
       "\\begin{tabular}{r|lllllll}\n",
       " date & lat & lon & value & unit & yday & month\\\\\n",
       "\\hline\n",
       "\t 1997-09-15                                               & 10.7326                                                  & -64.83918                                                & 31.060                                                   & einstein m\\textasciicircum{}-2 day\\textasciicircum{}-1 & 258                                                      & 9                                                       \\\\\n",
       "\t 1997-09-15                                               & 10.7326                                                  & -64.75515                                                & 27.270                                                   & einstein m\\textasciicircum{}-2 day\\textasciicircum{}-1 & 258                                                      & 9                                                       \\\\\n",
       "\t 1997-09-15                                               & 10.7326                                                  & -64.67112                                                & 32.122                                                   & einstein m\\textasciicircum{}-2 day\\textasciicircum{}-1 & 258                                                      & 9                                                       \\\\\n",
       "\t 1997-09-15                                               & 10.7326                                                  & -64.58709                                                & 38.942                                                   & einstein m\\textasciicircum{}-2 day\\textasciicircum{}-1 & 258                                                      & 9                                                       \\\\\n",
       "\t 1997-09-15                                               & 10.6482                                                  & -64.83918                                                & 25.684                                                   & einstein m\\textasciicircum{}-2 day\\textasciicircum{}-1 & 258                                                      & 9                                                       \\\\\n",
       "\t 1997-09-15                                               & 10.6482                                                  & -64.75515                                                & 28.770                                                   & einstein m\\textasciicircum{}-2 day\\textasciicircum{}-1 & 258                                                      & 9                                                       \\\\\n",
       "\\end{tabular}\n"
      ],
      "text/markdown": [
       "\n",
       "| date | lat | lon | value | unit | yday | month |\n",
       "|---|---|---|---|---|---|---|\n",
       "| 1997-09-15           | 10.7326              | -64.83918            | 31.060               | einstein m^-2 day^-1 | 258                  | 9                    |\n",
       "| 1997-09-15           | 10.7326              | -64.75515            | 27.270               | einstein m^-2 day^-1 | 258                  | 9                    |\n",
       "| 1997-09-15           | 10.7326              | -64.67112            | 32.122               | einstein m^-2 day^-1 | 258                  | 9                    |\n",
       "| 1997-09-15           | 10.7326              | -64.58709            | 38.942               | einstein m^-2 day^-1 | 258                  | 9                    |\n",
       "| 1997-09-15           | 10.6482              | -64.83918            | 25.684               | einstein m^-2 day^-1 | 258                  | 9                    |\n",
       "| 1997-09-15           | 10.6482              | -64.75515            | 28.770               | einstein m^-2 day^-1 | 258                  | 9                    |\n",
       "\n"
      ],
      "text/plain": [
       "  date       lat     lon       value  unit                 yday month\n",
       "1 1997-09-15 10.7326 -64.83918 31.060 einstein m^-2 day^-1 258  9    \n",
       "2 1997-09-15 10.7326 -64.75515 27.270 einstein m^-2 day^-1 258  9    \n",
       "3 1997-09-15 10.7326 -64.67112 32.122 einstein m^-2 day^-1 258  9    \n",
       "4 1997-09-15 10.7326 -64.58709 38.942 einstein m^-2 day^-1 258  9    \n",
       "5 1997-09-15 10.6482 -64.83918 25.684 einstein m^-2 day^-1 258  9    \n",
       "6 1997-09-15 10.6482 -64.75515 28.770 einstein m^-2 day^-1 258  9    "
      ]
     },
     "metadata": {},
     "output_type": "display_data"
    }
   ],
   "source": [
    "head(PARX)"
   ]
  },
  {
   "cell_type": "code",
   "execution_count": 42,
   "metadata": {},
   "outputs": [
    {
     "data": {
      "text/html": [
       "<table>\n",
       "<thead><tr><th></th><th scope=col>date</th><th scope=col>lat</th><th scope=col>lon</th><th scope=col>value</th><th scope=col>unit</th><th scope=col>yday</th><th scope=col>month</th></tr></thead>\n",
       "<tbody>\n",
       "\t<tr><th scope=row>11535</th><td>2010-12-15          </td><td>10.4794             </td><td>-64.67112           </td><td>44.792              </td><td>einstein m^-2 day^-1</td><td>349                 </td><td>12                  </td></tr>\n",
       "\t<tr><th scope=row>11536</th><td>2010-12-15          </td><td>10.4794             </td><td>-64.58709           </td><td>44.842              </td><td>einstein m^-2 day^-1</td><td>349                 </td><td>12                  </td></tr>\n",
       "\t<tr><th scope=row>11537</th><td>2010-12-15          </td><td>10.3950             </td><td>-64.83918           </td><td>43.916              </td><td>einstein m^-2 day^-1</td><td>349                 </td><td>12                  </td></tr>\n",
       "\t<tr><th scope=row>11538</th><td>2010-12-15          </td><td>10.3950             </td><td>-64.75515           </td><td>44.148              </td><td>einstein m^-2 day^-1</td><td>349                 </td><td>12                  </td></tr>\n",
       "\t<tr><th scope=row>11539</th><td>2010-12-15          </td><td>10.3950             </td><td>-64.67112           </td><td>43.434              </td><td>einstein m^-2 day^-1</td><td>349                 </td><td>12                  </td></tr>\n",
       "\t<tr><th scope=row>11540</th><td>2010-12-15          </td><td>10.3950             </td><td>-64.58709           </td><td>42.218              </td><td>einstein m^-2 day^-1</td><td>349                 </td><td>12                  </td></tr>\n",
       "</tbody>\n",
       "</table>\n"
      ],
      "text/latex": [
       "\\begin{tabular}{r|lllllll}\n",
       "  & date & lat & lon & value & unit & yday & month\\\\\n",
       "\\hline\n",
       "\t11535 & 2010-12-15                                               & 10.4794                                                  & -64.67112                                                & 44.792                                                   & einstein m\\textasciicircum{}-2 day\\textasciicircum{}-1 & 349                                                      & 12                                                      \\\\\n",
       "\t11536 & 2010-12-15                                               & 10.4794                                                  & -64.58709                                                & 44.842                                                   & einstein m\\textasciicircum{}-2 day\\textasciicircum{}-1 & 349                                                      & 12                                                      \\\\\n",
       "\t11537 & 2010-12-15                                               & 10.3950                                                  & -64.83918                                                & 43.916                                                   & einstein m\\textasciicircum{}-2 day\\textasciicircum{}-1 & 349                                                      & 12                                                      \\\\\n",
       "\t11538 & 2010-12-15                                               & 10.3950                                                  & -64.75515                                                & 44.148                                                   & einstein m\\textasciicircum{}-2 day\\textasciicircum{}-1 & 349                                                      & 12                                                      \\\\\n",
       "\t11539 & 2010-12-15                                               & 10.3950                                                  & -64.67112                                                & 43.434                                                   & einstein m\\textasciicircum{}-2 day\\textasciicircum{}-1 & 349                                                      & 12                                                      \\\\\n",
       "\t11540 & 2010-12-15                                               & 10.3950                                                  & -64.58709                                                & 42.218                                                   & einstein m\\textasciicircum{}-2 day\\textasciicircum{}-1 & 349                                                      & 12                                                      \\\\\n",
       "\\end{tabular}\n"
      ],
      "text/markdown": [
       "\n",
       "| <!--/--> | date | lat | lon | value | unit | yday | month |\n",
       "|---|---|---|---|---|---|---|---|\n",
       "| 11535 | 2010-12-15           | 10.4794              | -64.67112            | 44.792               | einstein m^-2 day^-1 | 349                  | 12                   |\n",
       "| 11536 | 2010-12-15           | 10.4794              | -64.58709            | 44.842               | einstein m^-2 day^-1 | 349                  | 12                   |\n",
       "| 11537 | 2010-12-15           | 10.3950              | -64.83918            | 43.916               | einstein m^-2 day^-1 | 349                  | 12                   |\n",
       "| 11538 | 2010-12-15           | 10.3950              | -64.75515            | 44.148               | einstein m^-2 day^-1 | 349                  | 12                   |\n",
       "| 11539 | 2010-12-15           | 10.3950              | -64.67112            | 43.434               | einstein m^-2 day^-1 | 349                  | 12                   |\n",
       "| 11540 | 2010-12-15           | 10.3950              | -64.58709            | 42.218               | einstein m^-2 day^-1 | 349                  | 12                   |\n",
       "\n"
      ],
      "text/plain": [
       "      date       lat     lon       value  unit                 yday month\n",
       "11535 2010-12-15 10.4794 -64.67112 44.792 einstein m^-2 day^-1 349  12   \n",
       "11536 2010-12-15 10.4794 -64.58709 44.842 einstein m^-2 day^-1 349  12   \n",
       "11537 2010-12-15 10.3950 -64.83918 43.916 einstein m^-2 day^-1 349  12   \n",
       "11538 2010-12-15 10.3950 -64.75515 44.148 einstein m^-2 day^-1 349  12   \n",
       "11539 2010-12-15 10.3950 -64.67112 43.434 einstein m^-2 day^-1 349  12   \n",
       "11540 2010-12-15 10.3950 -64.58709 42.218 einstein m^-2 day^-1 349  12   "
      ]
     },
     "metadata": {},
     "output_type": "display_data"
    }
   ],
   "source": [
    "tail(PARX)"
   ]
  },
  {
   "cell_type": "code",
   "execution_count": 43,
   "metadata": {},
   "outputs": [],
   "source": [
    "write.csv(PARX,\"ProcessedDATA/PARXSeaWiFS_02.csv\")"
   ]
  },
  {
   "cell_type": "markdown",
   "metadata": {},
   "source": [
    "# EUPHOTIC ZONE"
   ]
  },
  {
   "cell_type": "code",
   "execution_count": 44,
   "metadata": {},
   "outputs": [],
   "source": [
    "# read MLD depth file\n",
    "EuZ <- read.csv(\"par_Light_Level_edit.csv\")\n",
    "\n",
    "# read Date column\n",
    "EuZ$Date <- as.Date(EuZ$Fecha, format=\"%m/%d/%y\")\n",
    "\n",
    "# get just month and year for merging later\n",
    "EuZ$DateMonth <- format(EuZ$Date, format=\"%Y-%m\")"
   ]
  },
  {
   "cell_type": "code",
   "execution_count": 45,
   "metadata": {},
   "outputs": [
    {
     "name": "stdout",
     "output_type": "stream",
     "text": [
      "'data.frame':\t132 obs. of  7 variables:\n",
      " $ Campaign : Factor w/ 131 levels \"\",\"C118\",\"C119\",..: 72 73 74 75 76 77 78 79 80 81 ...\n",
      " $ Fecha    : Factor w/ 131 levels \"\",\"1/1/98\",\"1/1/99\",..: 23 32 2 42 54 67 89 101 111 121 ...\n",
      " $ X0.10.   : num  59 59 46.5 NA 25.5 74 71 60 71.5 74 ...\n",
      " $ X1.      : num  48.5 34 33 NA 14.5 45 45 41.5 48 57.5 ...\n",
      " $ X10.     : num  23 13.5 14 21 6.5 21 23.5 17.5 29 27 ...\n",
      " $ Date     : Date, format: \"1997-11-01\" \"1997-12-01\" ...\n",
      " $ DateMonth: chr  \"1997-11\" \"1997-12\" \"1998-01\" \"1998-02\" ...\n"
     ]
    }
   ],
   "source": [
    "str(EuZ)"
   ]
  },
  {
   "cell_type": "code",
   "execution_count": 46,
   "metadata": {},
   "outputs": [
    {
     "data": {
      "text/html": [
       "<table>\n",
       "<thead><tr><th></th><th scope=col>Campaign</th><th scope=col>Fecha</th><th scope=col>X0.10.</th><th scope=col>X1.</th><th scope=col>X10.</th><th scope=col>Date</th><th scope=col>DateMonth</th></tr></thead>\n",
       "<tbody>\n",
       "\t<tr><th scope=row>127</th><td>C185      </td><td>10/4/11   </td><td>  NA      </td><td>58.6      </td><td>28.7      </td><td>2011-10-04</td><td>2011-10   </td></tr>\n",
       "\t<tr><th scope=row>128</th><td>C186      </td><td>11/18/11  </td><td>81.0      </td><td>57.0      </td><td>36.3      </td><td>2011-11-18</td><td>2011-11   </td></tr>\n",
       "\t<tr><th scope=row>129</th><td>C187      </td><td>1/10/12   </td><td>  NA      </td><td>29.7      </td><td>17.1      </td><td>2012-01-10</td><td>2012-01   </td></tr>\n",
       "\t<tr><th scope=row>130</th><td>C188      </td><td>2/7/12    </td><td>  NA      </td><td>40.2      </td><td>19.2      </td><td>2012-02-07</td><td>2012-02   </td></tr>\n",
       "\t<tr><th scope=row>131</th><td>C189      </td><td>3/16/12   </td><td>23.1      </td><td>12.4      </td><td> 4.6      </td><td>2012-03-16</td><td>2012-03   </td></tr>\n",
       "\t<tr><th scope=row>132</th><td>        </td><td>        </td><td>  NA    </td><td>49.2    </td><td> 5.3    </td><td>NA      </td><td>NA      </td></tr>\n",
       "</tbody>\n",
       "</table>\n"
      ],
      "text/latex": [
       "\\begin{tabular}{r|lllllll}\n",
       "  & Campaign & Fecha & X0.10. & X1. & X10. & Date & DateMonth\\\\\n",
       "\\hline\n",
       "\t127 & C185       & 10/4/11    &   NA       & 58.6       & 28.7       & 2011-10-04 & 2011-10   \\\\\n",
       "\t128 & C186       & 11/18/11   & 81.0       & 57.0       & 36.3       & 2011-11-18 & 2011-11   \\\\\n",
       "\t129 & C187       & 1/10/12    &   NA       & 29.7       & 17.1       & 2012-01-10 & 2012-01   \\\\\n",
       "\t130 & C188       & 2/7/12     &   NA       & 40.2       & 19.2       & 2012-02-07 & 2012-02   \\\\\n",
       "\t131 & C189       & 3/16/12    & 23.1       & 12.4       &  4.6       & 2012-03-16 & 2012-03   \\\\\n",
       "\t132 &          &          &   NA     & 49.2     &  5.3     & NA       & NA      \\\\\n",
       "\\end{tabular}\n"
      ],
      "text/markdown": [
       "\n",
       "| <!--/--> | Campaign | Fecha | X0.10. | X1. | X10. | Date | DateMonth |\n",
       "|---|---|---|---|---|---|---|---|\n",
       "| 127 | C185       | 10/4/11    |   NA       | 58.6       | 28.7       | 2011-10-04 | 2011-10    |\n",
       "| 128 | C186       | 11/18/11   | 81.0       | 57.0       | 36.3       | 2011-11-18 | 2011-11    |\n",
       "| 129 | C187       | 1/10/12    |   NA       | 29.7       | 17.1       | 2012-01-10 | 2012-01    |\n",
       "| 130 | C188       | 2/7/12     |   NA       | 40.2       | 19.2       | 2012-02-07 | 2012-02    |\n",
       "| 131 | C189       | 3/16/12    | 23.1       | 12.4       |  4.6       | 2012-03-16 | 2012-03    |\n",
       "| 132 |          |          |   NA     | 49.2     |  5.3     | NA       | NA       |\n",
       "\n"
      ],
      "text/plain": [
       "    Campaign Fecha    X0.10. X1.  X10. Date       DateMonth\n",
       "127 C185     10/4/11    NA   58.6 28.7 2011-10-04 2011-10  \n",
       "128 C186     11/18/11 81.0   57.0 36.3 2011-11-18 2011-11  \n",
       "129 C187     1/10/12    NA   29.7 17.1 2012-01-10 2012-01  \n",
       "130 C188     2/7/12     NA   40.2 19.2 2012-02-07 2012-02  \n",
       "131 C189     3/16/12  23.1   12.4  4.6 2012-03-16 2012-03  \n",
       "132                     NA   49.2  5.3 <NA>       NA       "
      ]
     },
     "metadata": {},
     "output_type": "display_data"
    }
   ],
   "source": [
    "tail(EuZ)"
   ]
  },
  {
   "cell_type": "code",
   "execution_count": 47,
   "metadata": {},
   "outputs": [],
   "source": [
    "EuZX <- data.frame(date=EuZ$Date, X0.1=EuZ$X0.10.)"
   ]
  },
  {
   "cell_type": "code",
   "execution_count": 48,
   "metadata": {},
   "outputs": [],
   "source": [
    "EuZX$yday <- yday(EuZX$date)\n",
    "\n",
    "EuZX$month <- month(EuZX$date)"
   ]
  },
  {
   "cell_type": "code",
   "execution_count": 49,
   "metadata": {},
   "outputs": [
    {
     "name": "stdout",
     "output_type": "stream",
     "text": [
      "'data.frame':\t132 obs. of  4 variables:\n",
      " $ date : Date, format: \"1997-11-01\" \"1997-12-01\" ...\n",
      " $ X0.1 : num  59 59 46.5 NA 25.5 74 71 60 71.5 74 ...\n",
      " $ yday : num  305 335 1 32 60 91 152 182 213 244 ...\n",
      " $ month: num  11 12 1 2 3 4 6 7 8 9 ...\n"
     ]
    }
   ],
   "source": [
    "str(EuZX)"
   ]
  },
  {
   "cell_type": "code",
   "execution_count": 50,
   "metadata": {},
   "outputs": [],
   "source": [
    "write.csv(EuZX,\"ProcessedDATA/EuZXEuphoticZoneDepth_02.csv\")"
   ]
  },
  {
   "cell_type": "code",
   "execution_count": null,
   "metadata": {},
   "outputs": [],
   "source": []
  }
 ],
 "metadata": {
  "kernelspec": {
   "display_name": "R",
   "language": "R",
   "name": "ir"
  },
  "language_info": {
   "codemirror_mode": "r",
   "file_extension": ".r",
   "mimetype": "text/x-r-source",
   "name": "R",
   "pygments_lexer": "r",
   "version": "3.6.1"
  }
 },
 "nbformat": 4,
 "nbformat_minor": 4
}
