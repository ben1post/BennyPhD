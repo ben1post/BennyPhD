{
 "cells": [
  {
   "cell_type": "markdown",
   "metadata": {},
   "source": [
    "# FORCING"
   ]
  },
  {
   "cell_type": "markdown",
   "metadata": {},
   "source": [
    "# So Idea:\n",
    "- get typical (aggregated) forcing for both regimes (100m box model structure)\n",
    "- instead of aggregating to one year, get forcing for 5 years per each regime\n"
   ]
  },
  {
   "cell_type": "markdown",
   "metadata": {},
   "source": [
    "# now what to do first: \n",
    "1. get necessary raw data, \n",
    "2. then integrate over entire time-series & depth (if necessary)\n",
    "3. create aggregated forcing raw csvs for model (simply include proper Date information, in addition to yday)\n",
    "4. date truncation & aggregation can happen in python code of model!"
   ]
  },
  {
   "cell_type": "code",
   "execution_count": 2,
   "metadata": {},
   "outputs": [],
   "source": [
    "### create one large file with all possible forcing? (depends on where data is from, don't overcomplicate)"
   ]
  },
  {
   "cell_type": "markdown",
   "metadata": {},
   "source": [
    "Let's write up what I need:\n",
    "1. x25.8 depth\n",
    "2. T_box\n",
    "3. PAR\n",
    "4. N0 (mean 100-150m)\n",
    "4. NH40, ....\n",
    "5. Si0\n",
    "6. P0\n"
   ]
  },
  {
   "cell_type": "code",
   "execution_count": 3,
   "metadata": {},
   "outputs": [],
   "source": [
    "### important point: actually use (as much as possible) raw values as forcing, then assumptions more apparent"
   ]
  },
  {
   "cell_type": "markdown",
   "metadata": {},
   "source": [
    "# NISKIN DATA"
   ]
  },
  {
   "cell_type": "code",
   "execution_count": 22,
   "metadata": {},
   "outputs": [
    {
     "name": "stderr",
     "output_type": "stream",
     "text": [
      "Loading required package: oce\n",
      "Loading required package: testthat\n",
      "\n",
      "Attaching package: ‘testthat’\n",
      "\n",
      "The following object is masked from ‘package:dplyr’:\n",
      "\n",
      "    matches\n",
      "\n",
      "The following object is masked from ‘package:purrr’:\n",
      "\n",
      "    is_null\n",
      "\n",
      "Loading required package: gsw\n"
     ]
    }
   ],
   "source": [
    "require(ncdf4, warn.conflicts = FALSE);\n",
    "require(cowplot, warn.conflicts = FALSE);\n",
    "require(tidyverse, warn.conflicts = FALSE);\n",
    "require(oce, warn.conflicts = FALSE);"
   ]
  },
  {
   "cell_type": "code",
   "execution_count": 5,
   "metadata": {},
   "outputs": [],
   "source": [
    "# open a NetCDF file\n",
    "niskdat <- nc_open(\"../01Observations/Data/niskin.netcdf\")\n",
    "#print(niskdat)"
   ]
  },
  {
   "cell_type": "code",
   "execution_count": 42,
   "metadata": {},
   "outputs": [
    {
     "name": "stdout",
     "output_type": "stream",
     "text": [
      "[1] \"start\"\n",
      "[1] \"done reading\"\n"
     ]
    },
    {
     "data": {
      "text/html": [
       "<table>\n",
       "<thead><tr><th scope=col>Num</th><th scope=col>Cruise_number</th><th scope=col>Cruise_ID_1</th><th scope=col>Cruise_ID_2</th><th scope=col>Leg</th><th scope=col>Day</th><th scope=col>Month</th><th scope=col>Year</th><th scope=col>Latitude</th><th scope=col>Longitude</th><th scope=col>...</th><th scope=col>Bact_Biomass_uMC</th><th scope=col>Bio_cast_no</th><th scope=col>ISO_DateTime_start_hc_local</th><th scope=col>ISO_DateTime_end_hc_local</th><th scope=col>ISO_DateTime_start_bc_local</th><th scope=col>ISO_DateTime_end_bc_local</th><th scope=col>ISO_DateTime_start_hc_UTC</th><th scope=col>ISO_DateTime_end_hc_UTC</th><th scope=col>ISO_DateTime_start_bc_UTC</th><th scope=col>ISO_DateTime_end_bc_UTC</th></tr></thead>\n",
       "<tbody>\n",
       "\t<tr><td>1                  </td><td>1                  </td><td>93HG_001           </td><td>CAR-001            </td><td>2                  </td><td>8                  </td><td>11                 </td><td>1995               </td><td>10.5               </td><td>-64.667            </td><td>...                </td><td>BM_master          </td><td>2                  </td><td>1995-11-08T06:12:00</td><td>1995-11-08T06:38:00</td><td>1995-11-08T03:36:00</td><td>1995-11-08T03:54:00</td><td>1995-11-08T10:12:00</td><td>1995-11-08T10:38:00</td><td>1995-11-08T07:36:00</td><td>1995-11-08T07:54:00</td></tr>\n",
       "\t<tr><td>2                  </td><td>1                  </td><td>93HG_001           </td><td>CAR-001            </td><td>2                  </td><td>8                  </td><td>11                 </td><td>1995               </td><td>10.5               </td><td>-64.667            </td><td>...                </td><td>BM_master          </td><td>2                  </td><td>1995-11-08T06:12:00</td><td>1995-11-08T06:38:00</td><td>1995-11-08T03:36:00</td><td>1995-11-08T03:54:00</td><td>1995-11-08T10:12:00</td><td>1995-11-08T10:38:00</td><td>1995-11-08T07:36:00</td><td>1995-11-08T07:54:00</td></tr>\n",
       "\t<tr><td>3                  </td><td>1                  </td><td>93HG_001           </td><td>CAR-001            </td><td>2                  </td><td>8                  </td><td>11                 </td><td>1995               </td><td>10.5               </td><td>-64.667            </td><td>...                </td><td>BM_master          </td><td>2                  </td><td>1995-11-08T06:12:00</td><td>1995-11-08T06:38:00</td><td>1995-11-08T03:36:00</td><td>1995-11-08T03:54:00</td><td>1995-11-08T10:12:00</td><td>1995-11-08T10:38:00</td><td>1995-11-08T07:36:00</td><td>1995-11-08T07:54:00</td></tr>\n",
       "\t<tr><td>4                  </td><td>1                  </td><td>93HG_001           </td><td>CAR-001            </td><td>2                  </td><td>8                  </td><td>11                 </td><td>1995               </td><td>10.5               </td><td>-64.667            </td><td>...                </td><td>BM_master          </td><td>2                  </td><td>1995-11-08T06:12:00</td><td>1995-11-08T06:38:00</td><td>1995-11-08T03:36:00</td><td>1995-11-08T03:54:00</td><td>1995-11-08T10:12:00</td><td>1995-11-08T10:38:00</td><td>1995-11-08T07:36:00</td><td>1995-11-08T07:54:00</td></tr>\n",
       "\t<tr><td>5                  </td><td>1                  </td><td>93HG_001           </td><td>CAR-001            </td><td>2                  </td><td>8                  </td><td>11                 </td><td>1995               </td><td>10.5               </td><td>-64.667            </td><td>...                </td><td>BM_master          </td><td>2                  </td><td>1995-11-08T06:12:00</td><td>1995-11-08T06:38:00</td><td>1995-11-08T03:36:00</td><td>1995-11-08T03:54:00</td><td>1995-11-08T10:12:00</td><td>1995-11-08T10:38:00</td><td>1995-11-08T07:36:00</td><td>1995-11-08T07:54:00</td></tr>\n",
       "\t<tr><td>6                  </td><td>1                  </td><td>93HG_001           </td><td>CAR-001            </td><td>2                  </td><td>8                  </td><td>11                 </td><td>1995               </td><td>10.5               </td><td>-64.667            </td><td>...                </td><td>BM_master          </td><td>2                  </td><td>1995-11-08T06:12:00</td><td>1995-11-08T06:38:00</td><td>1995-11-08T03:36:00</td><td>1995-11-08T03:54:00</td><td>1995-11-08T10:12:00</td><td>1995-11-08T10:38:00</td><td>1995-11-08T07:36:00</td><td>1995-11-08T07:54:00</td></tr>\n",
       "</tbody>\n",
       "</table>\n"
      ],
      "text/latex": [
       "\\begin{tabular}{r|lllllllllllllllllllllllllllllllllllllllllllllllllllllllllllllllllllllllllllllllllllllllllllllllll}\n",
       " Num & Cruise\\_number & Cruise\\_ID\\_1 & Cruise\\_ID\\_2 & Leg & Day & Month & Year & Latitude & Longitude & ... & Bact\\_Biomass\\_uMC & Bio\\_cast\\_no & ISO\\_DateTime\\_start\\_hc\\_local & ISO\\_DateTime\\_end\\_hc\\_local & ISO\\_DateTime\\_start\\_bc\\_local & ISO\\_DateTime\\_end\\_bc\\_local & ISO\\_DateTime\\_start\\_hc\\_UTC & ISO\\_DateTime\\_end\\_hc\\_UTC & ISO\\_DateTime\\_start\\_bc\\_UTC & ISO\\_DateTime\\_end\\_bc\\_UTC\\\\\n",
       "\\hline\n",
       "\t 1                   & 1                   & 93HG\\_001          & CAR-001             & 2                   & 8                   & 11                  & 1995                & 10.5                & -64.667             & ...                 & BM\\_master         & 2                   & 1995-11-08T06:12:00 & 1995-11-08T06:38:00 & 1995-11-08T03:36:00 & 1995-11-08T03:54:00 & 1995-11-08T10:12:00 & 1995-11-08T10:38:00 & 1995-11-08T07:36:00 & 1995-11-08T07:54:00\\\\\n",
       "\t 2                   & 1                   & 93HG\\_001          & CAR-001             & 2                   & 8                   & 11                  & 1995                & 10.5                & -64.667             & ...                 & BM\\_master         & 2                   & 1995-11-08T06:12:00 & 1995-11-08T06:38:00 & 1995-11-08T03:36:00 & 1995-11-08T03:54:00 & 1995-11-08T10:12:00 & 1995-11-08T10:38:00 & 1995-11-08T07:36:00 & 1995-11-08T07:54:00\\\\\n",
       "\t 3                   & 1                   & 93HG\\_001          & CAR-001             & 2                   & 8                   & 11                  & 1995                & 10.5                & -64.667             & ...                 & BM\\_master         & 2                   & 1995-11-08T06:12:00 & 1995-11-08T06:38:00 & 1995-11-08T03:36:00 & 1995-11-08T03:54:00 & 1995-11-08T10:12:00 & 1995-11-08T10:38:00 & 1995-11-08T07:36:00 & 1995-11-08T07:54:00\\\\\n",
       "\t 4                   & 1                   & 93HG\\_001          & CAR-001             & 2                   & 8                   & 11                  & 1995                & 10.5                & -64.667             & ...                 & BM\\_master         & 2                   & 1995-11-08T06:12:00 & 1995-11-08T06:38:00 & 1995-11-08T03:36:00 & 1995-11-08T03:54:00 & 1995-11-08T10:12:00 & 1995-11-08T10:38:00 & 1995-11-08T07:36:00 & 1995-11-08T07:54:00\\\\\n",
       "\t 5                   & 1                   & 93HG\\_001          & CAR-001             & 2                   & 8                   & 11                  & 1995                & 10.5                & -64.667             & ...                 & BM\\_master         & 2                   & 1995-11-08T06:12:00 & 1995-11-08T06:38:00 & 1995-11-08T03:36:00 & 1995-11-08T03:54:00 & 1995-11-08T10:12:00 & 1995-11-08T10:38:00 & 1995-11-08T07:36:00 & 1995-11-08T07:54:00\\\\\n",
       "\t 6                   & 1                   & 93HG\\_001          & CAR-001             & 2                   & 8                   & 11                  & 1995                & 10.5                & -64.667             & ...                 & BM\\_master         & 2                   & 1995-11-08T06:12:00 & 1995-11-08T06:38:00 & 1995-11-08T03:36:00 & 1995-11-08T03:54:00 & 1995-11-08T10:12:00 & 1995-11-08T10:38:00 & 1995-11-08T07:36:00 & 1995-11-08T07:54:00\\\\\n",
       "\\end{tabular}\n"
      ],
      "text/markdown": [
       "\n",
       "| Num | Cruise_number | Cruise_ID_1 | Cruise_ID_2 | Leg | Day | Month | Year | Latitude | Longitude | ... | Bact_Biomass_uMC | Bio_cast_no | ISO_DateTime_start_hc_local | ISO_DateTime_end_hc_local | ISO_DateTime_start_bc_local | ISO_DateTime_end_bc_local | ISO_DateTime_start_hc_UTC | ISO_DateTime_end_hc_UTC | ISO_DateTime_start_bc_UTC | ISO_DateTime_end_bc_UTC |\n",
       "|---|---|---|---|---|---|---|---|---|---|---|---|---|---|---|---|---|---|---|---|---|\n",
       "| 1                   | 1                   | 93HG_001            | CAR-001             | 2                   | 8                   | 11                  | 1995                | 10.5                | -64.667             | ...                 | BM_master           | 2                   | 1995-11-08T06:12:00 | 1995-11-08T06:38:00 | 1995-11-08T03:36:00 | 1995-11-08T03:54:00 | 1995-11-08T10:12:00 | 1995-11-08T10:38:00 | 1995-11-08T07:36:00 | 1995-11-08T07:54:00 |\n",
       "| 2                   | 1                   | 93HG_001            | CAR-001             | 2                   | 8                   | 11                  | 1995                | 10.5                | -64.667             | ...                 | BM_master           | 2                   | 1995-11-08T06:12:00 | 1995-11-08T06:38:00 | 1995-11-08T03:36:00 | 1995-11-08T03:54:00 | 1995-11-08T10:12:00 | 1995-11-08T10:38:00 | 1995-11-08T07:36:00 | 1995-11-08T07:54:00 |\n",
       "| 3                   | 1                   | 93HG_001            | CAR-001             | 2                   | 8                   | 11                  | 1995                | 10.5                | -64.667             | ...                 | BM_master           | 2                   | 1995-11-08T06:12:00 | 1995-11-08T06:38:00 | 1995-11-08T03:36:00 | 1995-11-08T03:54:00 | 1995-11-08T10:12:00 | 1995-11-08T10:38:00 | 1995-11-08T07:36:00 | 1995-11-08T07:54:00 |\n",
       "| 4                   | 1                   | 93HG_001            | CAR-001             | 2                   | 8                   | 11                  | 1995                | 10.5                | -64.667             | ...                 | BM_master           | 2                   | 1995-11-08T06:12:00 | 1995-11-08T06:38:00 | 1995-11-08T03:36:00 | 1995-11-08T03:54:00 | 1995-11-08T10:12:00 | 1995-11-08T10:38:00 | 1995-11-08T07:36:00 | 1995-11-08T07:54:00 |\n",
       "| 5                   | 1                   | 93HG_001            | CAR-001             | 2                   | 8                   | 11                  | 1995                | 10.5                | -64.667             | ...                 | BM_master           | 2                   | 1995-11-08T06:12:00 | 1995-11-08T06:38:00 | 1995-11-08T03:36:00 | 1995-11-08T03:54:00 | 1995-11-08T10:12:00 | 1995-11-08T10:38:00 | 1995-11-08T07:36:00 | 1995-11-08T07:54:00 |\n",
       "| 6                   | 1                   | 93HG_001            | CAR-001             | 2                   | 8                   | 11                  | 1995                | 10.5                | -64.667             | ...                 | BM_master           | 2                   | 1995-11-08T06:12:00 | 1995-11-08T06:38:00 | 1995-11-08T03:36:00 | 1995-11-08T03:54:00 | 1995-11-08T10:12:00 | 1995-11-08T10:38:00 | 1995-11-08T07:36:00 | 1995-11-08T07:54:00 |\n",
       "\n"
      ],
      "text/plain": [
       "  Num Cruise_number Cruise_ID_1 Cruise_ID_2 Leg Day Month Year Latitude\n",
       "1 1   1             93HG_001    CAR-001     2   8   11    1995 10.5    \n",
       "2 2   1             93HG_001    CAR-001     2   8   11    1995 10.5    \n",
       "3 3   1             93HG_001    CAR-001     2   8   11    1995 10.5    \n",
       "4 4   1             93HG_001    CAR-001     2   8   11    1995 10.5    \n",
       "5 5   1             93HG_001    CAR-001     2   8   11    1995 10.5    \n",
       "6 6   1             93HG_001    CAR-001     2   8   11    1995 10.5    \n",
       "  Longitude ... Bact_Biomass_uMC Bio_cast_no ISO_DateTime_start_hc_local\n",
       "1 -64.667   ... BM_master        2           1995-11-08T06:12:00        \n",
       "2 -64.667   ... BM_master        2           1995-11-08T06:12:00        \n",
       "3 -64.667   ... BM_master        2           1995-11-08T06:12:00        \n",
       "4 -64.667   ... BM_master        2           1995-11-08T06:12:00        \n",
       "5 -64.667   ... BM_master        2           1995-11-08T06:12:00        \n",
       "6 -64.667   ... BM_master        2           1995-11-08T06:12:00        \n",
       "  ISO_DateTime_end_hc_local ISO_DateTime_start_bc_local\n",
       "1 1995-11-08T06:38:00       1995-11-08T03:36:00        \n",
       "2 1995-11-08T06:38:00       1995-11-08T03:36:00        \n",
       "3 1995-11-08T06:38:00       1995-11-08T03:36:00        \n",
       "4 1995-11-08T06:38:00       1995-11-08T03:36:00        \n",
       "5 1995-11-08T06:38:00       1995-11-08T03:36:00        \n",
       "6 1995-11-08T06:38:00       1995-11-08T03:36:00        \n",
       "  ISO_DateTime_end_bc_local ISO_DateTime_start_hc_UTC ISO_DateTime_end_hc_UTC\n",
       "1 1995-11-08T03:54:00       1995-11-08T10:12:00       1995-11-08T10:38:00    \n",
       "2 1995-11-08T03:54:00       1995-11-08T10:12:00       1995-11-08T10:38:00    \n",
       "3 1995-11-08T03:54:00       1995-11-08T10:12:00       1995-11-08T10:38:00    \n",
       "4 1995-11-08T03:54:00       1995-11-08T10:12:00       1995-11-08T10:38:00    \n",
       "5 1995-11-08T03:54:00       1995-11-08T10:12:00       1995-11-08T10:38:00    \n",
       "6 1995-11-08T03:54:00       1995-11-08T10:12:00       1995-11-08T10:38:00    \n",
       "  ISO_DateTime_start_bc_UTC ISO_DateTime_end_bc_UTC\n",
       "1 1995-11-08T07:36:00       1995-11-08T07:54:00    \n",
       "2 1995-11-08T07:36:00       1995-11-08T07:54:00    \n",
       "3 1995-11-08T07:36:00       1995-11-08T07:54:00    \n",
       "4 1995-11-08T07:36:00       1995-11-08T07:54:00    \n",
       "5 1995-11-08T07:36:00       1995-11-08T07:54:00    \n",
       "6 1995-11-08T07:36:00       1995-11-08T07:54:00    "
      ]
     },
     "metadata": {},
     "output_type": "display_data"
    }
   ],
   "source": [
    "niskdat_df <- data.frame(\"Num\" = 1:niskdat$dim$unlimited$len)\n",
    "print('start')\n",
    "for(i in 1:niskdat$nvars){\n",
    "    #print(i)\n",
    "    niskdat_df[paste(attributes(niskdat$var)$names[i])] <- ncvar_get(niskdat, attributes(niskdat$var)$names[i])\n",
    "}\n",
    "print('done reading')\n",
    "head(niskdat_df)"
   ]
  },
  {
   "cell_type": "code",
   "execution_count": 43,
   "metadata": {},
   "outputs": [],
   "source": [
    "niskdat_df$Date <- paste(niskdat_df$Year,'-',niskdat_df$Month,'-',niskdat_df$Day,sep='')"
   ]
  },
  {
   "cell_type": "code",
   "execution_count": 44,
   "metadata": {},
   "outputs": [],
   "source": [
    "niskdat_df$date <- as.Date(niskdat_df$Date) # as.Date(substr(niskdat_df$ISO_DateTime_end_hc_UTC, 0, 10))"
   ]
  },
  {
   "cell_type": "code",
   "execution_count": 45,
   "metadata": {},
   "outputs": [],
   "source": [
    "niskdat_df$Depth_real <- as.numeric(niskdat_df$Depth_real)\n",
    "niskdat_df$Depth_target <- as.numeric(niskdat_df$Depth_target)\n",
    "\n",
    "niskdat_df$Temperature <- as.numeric(niskdat_df$Temperature)\n",
    "niskdat_df$NO3_NO2_USF <- as.numeric(niskdat_df$NO3_NO2_USF)\n",
    "niskdat_df$SiO4_USF <- as.numeric(niskdat_df$SiO4_USF)\n",
    "niskdat_df$PO4_USF <- as.numeric(niskdat_df$PO4_USF)\n",
    "\n",
    "niskdat_df$Sigma_t <- as.numeric(niskdat_df$Sigma_t)\n",
    "niskdat_df$Salinity_bottles <- as.numeric(niskdat_df$Salinity_bottles)\n",
    "niskdat_df$Salinity_CTD <- as.numeric(niskdat_df$Salinity_CTD)"
   ]
  },
  {
   "cell_type": "code",
   "execution_count": 46,
   "metadata": {},
   "outputs": [],
   "source": [
    "niskdat_df$O2_umol_kg <- as.numeric(niskdat_df$O2_umol_kg)\n",
    "niskdat_df$POC_ug_kg <- as.numeric(niskdat_df$POC_ug_kg)\n",
    "niskdat_df$PON_ug_kg <- as.numeric(niskdat_df$PON_ug_kg)\n",
    "niskdat_df$PN_ug_L <- as.numeric(niskdat_df$PN_ug_L)\n",
    "\n",
    "niskdat_df$C_N_particulate <- as.numeric(niskdat_df$C_N_particulate)\n",
    "niskdat_df$PIP <- as.numeric(niskdat_df$PIP)\n",
    "niskdat_df$TPP <- as.numeric(niskdat_df$TPP)\n",
    "niskdat_df$DOC <- as.numeric(niskdat_df$DOC)\n",
    "niskdat_df$PrimaryProductivity <- as.numeric(niskdat_df$PrimaryProductivity)\n",
    "niskdat_df$Chlorophyll <- as.numeric(niskdat_df$Chlorophyll)\n",
    "niskdat_df$Phaeopigments <- as.numeric(niskdat_df$Phaeopigments)\n"
   ]
  },
  {
   "cell_type": "code",
   "execution_count": 57,
   "metadata": {},
   "outputs": [],
   "source": [
    "# Function to read specific verfication type from dataset\n",
    "prepdataframe <- function(variable='', datasource='niskin'){\n",
    "    if(datasource=='niskin'){\n",
    "    DF <- niskdat_df\n",
    "    DF$depth <- DF$Depth_real\n",
    "    # print(names(DF))\n",
    "        \n",
    "    VarDF <- DF[complete.cases(DF[variable]),] %>%\n",
    "      select(date, variable, depth) %>%\n",
    "      gather(key='key',value = \"value\", -date, -depth)\n",
    "    head(VarDF)\n",
    "    }\n",
    "    return(VarDF)\n",
    "}"
   ]
  },
  {
   "cell_type": "code",
   "execution_count": 58,
   "metadata": {},
   "outputs": [],
   "source": [
    "# integration functions (if necessary)\n",
    "\n",
    "# adapt integration function from PINCKNEY\n",
    "integrateJAYfunc <- function(x, y){\n",
    "    N1 = length(y)\n",
    "    area = 0\n",
    "    \n",
    "    for(j in 2:N1){\n",
    "        area = area + (x[j] - x[j-1]) * (y[j] + y[j-1]) / 2\n",
    "    }\n",
    "    return(area)\n",
    "}\n",
    "\n",
    "intgrtJAY <- function(DFtest, reg, var){\n",
    "    DF_int <- DFtest %>%\n",
    "        group_by(date) %>%\n",
    "        do(data.frame(\"value_int\" = with(.,integrateJAYfunc(x=depth, y=value)), \"reg\" = reg , \"var\" = var)) %>%\n",
    "        ungroup()\n",
    "        \n",
    "    return(DF_int)\n",
    "}"
   ]
  },
  {
   "cell_type": "code",
   "execution_count": 59,
   "metadata": {},
   "outputs": [],
   "source": [
    "# Interpolate\n",
    "interpolateDF <- function(DF,func='oce-rr'){\n",
    "    zz <- seq(0, 200, 1)\n",
    "    \n",
    "    if(func=='oce-rr'){\n",
    "        IntDF <- DF %>%\n",
    "            group_by(date) %>%\n",
    "            do(data.frame(value_int = with(.,oceApprox(depth, value, zz, \"rr\")), depth = zz)) \n",
    "        }\n",
    "    \n",
    "    return(IntDF)\n",
    "}\n",
    "\n",
    "# take MEAN of concentrations at certain depth\n",
    "meanTOdepth <- function(DF_int,type='fixed',depthFROM=0,depthTO=100){\n",
    "    DF_means <- DF_int %>%\n",
    "        group_by(date) %>% # this groups it by the run number \n",
    "        filter(depthFROM < depth & depth < depthTO) %>% # only keep values above the depth passed to function\n",
    "        summarize('mean'=mean(value_int, na.rm=T))\n",
    "\n",
    "    return(DF_means)}"
   ]
  },
  {
   "cell_type": "code",
   "execution_count": 68,
   "metadata": {},
   "outputs": [
    {
     "data": {
      "text/html": [
       "<table>\n",
       "<thead><tr><th scope=col>date</th><th scope=col>depth</th><th scope=col>key</th><th scope=col>value</th></tr></thead>\n",
       "<tbody>\n",
       "\t<tr><td>1995-11-08 </td><td> 1.5       </td><td>Temperature</td><td>27.49      </td></tr>\n",
       "\t<tr><td>1995-11-08 </td><td> 6.5       </td><td>Temperature</td><td>27.50      </td></tr>\n",
       "\t<tr><td>1995-11-08 </td><td>15.0       </td><td>Temperature</td><td>27.49      </td></tr>\n",
       "\t<tr><td>1995-11-08 </td><td>25.0       </td><td>Temperature</td><td>26.30      </td></tr>\n",
       "\t<tr><td>1995-11-08 </td><td>35.0       </td><td>Temperature</td><td>25.32      </td></tr>\n",
       "\t<tr><td>1995-11-08 </td><td>54.5       </td><td>Temperature</td><td>24.75      </td></tr>\n",
       "</tbody>\n",
       "</table>\n"
      ],
      "text/latex": [
       "\\begin{tabular}{r|llll}\n",
       " date & depth & key & value\\\\\n",
       "\\hline\n",
       "\t 1995-11-08  &  1.5        & Temperature & 27.49      \\\\\n",
       "\t 1995-11-08  &  6.5        & Temperature & 27.50      \\\\\n",
       "\t 1995-11-08  & 15.0        & Temperature & 27.49      \\\\\n",
       "\t 1995-11-08  & 25.0        & Temperature & 26.30      \\\\\n",
       "\t 1995-11-08  & 35.0        & Temperature & 25.32      \\\\\n",
       "\t 1995-11-08  & 54.5        & Temperature & 24.75      \\\\\n",
       "\\end{tabular}\n"
      ],
      "text/markdown": [
       "\n",
       "| date | depth | key | value |\n",
       "|---|---|---|---|\n",
       "| 1995-11-08  |  1.5        | Temperature | 27.49       |\n",
       "| 1995-11-08  |  6.5        | Temperature | 27.50       |\n",
       "| 1995-11-08  | 15.0        | Temperature | 27.49       |\n",
       "| 1995-11-08  | 25.0        | Temperature | 26.30       |\n",
       "| 1995-11-08  | 35.0        | Temperature | 25.32       |\n",
       "| 1995-11-08  | 54.5        | Temperature | 24.75       |\n",
       "\n"
      ],
      "text/plain": [
       "  date       depth key         value\n",
       "1 1995-11-08  1.5  Temperature 27.49\n",
       "2 1995-11-08  6.5  Temperature 27.50\n",
       "3 1995-11-08 15.0  Temperature 27.49\n",
       "4 1995-11-08 25.0  Temperature 26.30\n",
       "5 1995-11-08 35.0  Temperature 25.32\n",
       "6 1995-11-08 54.5  Temperature 24.75"
      ]
     },
     "metadata": {},
     "output_type": "display_data"
    }
   ],
   "source": [
    "Temperature <- prepdataframe('Temperature')\n",
    "head(Temperature)\n",
    "##############################\n",
    "Temperature_int <- interpolateDF(Temperature)\n",
    "##############################\n",
    "Temperature_mean <- meanTOdepth(Temperature_int, type='fixed')\n",
    "#head(Temperature_mean)\n",
    "##############################\n",
    "Temperature_atDEPTH <- meanTOdepth(Temperature_int, type='fixed', depthFROM = 100, depthTO = 150)\n",
    "#head(Temperature_atDEPTH)"
   ]
  },
  {
   "cell_type": "markdown",
   "metadata": {},
   "source": [
    "# CTD DATA"
   ]
  },
  {
   "cell_type": "code",
   "execution_count": 7,
   "metadata": {},
   "outputs": [],
   "source": [
    "# open a NetCDF file\n",
    "ctdat <- nc_open(\"Data/ctd.netcdf\")\n",
    "\n",
    "#print(niskdat)"
   ]
  },
  {
   "cell_type": "code",
   "execution_count": 8,
   "metadata": {},
   "outputs": [
    {
     "name": "stdout",
     "output_type": "stream",
     "text": [
      "[1] \"start\"\n",
      "[1] \"done reading\"\n"
     ]
    },
    {
     "data": {
      "text/html": [
       "<table>\n",
       "<thead><tr><th scope=col>Num</th><th scope=col>cruise_no</th><th scope=col>Cruise_ID1</th><th scope=col>Cruise_ID2</th><th scope=col>Year</th><th scope=col>Month</th><th scope=col>Day</th><th scope=col>Date</th><th scope=col>Latitude</th><th scope=col>Longitude</th><th scope=col>...</th><th scope=col>temp</th><th scope=col>sal</th><th scope=col>potemp</th><th scope=col>sigma_t</th><th scope=col>sigma_0</th><th scope=col>O2_ml_L</th><th scope=col>beam_cp</th><th scope=col>beam_att</th><th scope=col>fluor_CTD</th><th scope=col>fluor_chla</th></tr></thead>\n",
       "<tbody>\n",
       "\t<tr><td>1         </td><td>1         </td><td>93HG_001  </td><td>CAR-001   </td><td>1995      </td><td>11        </td><td>8         </td><td>1995-11-08</td><td>10.5      </td><td>-64.667   </td><td>...       </td><td>          </td><td>36.612    </td><td>          </td><td>          </td><td>          </td><td>          </td><td>          </td><td>          </td><td>0.173     </td><td>          </td></tr>\n",
       "\t<tr><td>2         </td><td>1         </td><td>93HG_001  </td><td>CAR-001   </td><td>1995      </td><td>11        </td><td>8         </td><td>1995-11-08</td><td>10.5      </td><td>-64.667   </td><td>...       </td><td>27.522    </td><td>36.612    </td><td>27.522    </td><td>23.764    </td><td>23.764    </td><td>3.964     </td><td>          </td><td>          </td><td>0.176     </td><td>          </td></tr>\n",
       "\t<tr><td>3         </td><td>1         </td><td>93HG_001  </td><td>CAR-001   </td><td>1995      </td><td>11        </td><td>8         </td><td>1995-11-08</td><td>10.5      </td><td>-64.667   </td><td>...       </td><td>27.489    </td><td>36.612    </td><td>27.488    </td><td>23.775    </td><td>23.775    </td><td>3.978     </td><td>          </td><td>          </td><td>0.166     </td><td>          </td></tr>\n",
       "\t<tr><td>4         </td><td>1         </td><td>93HG_001  </td><td>CAR-001   </td><td>1995      </td><td>11        </td><td>8         </td><td>1995-11-08</td><td>10.5      </td><td>-64.667   </td><td>...       </td><td>27.465    </td><td>36.614    </td><td>27.464    </td><td>23.782    </td><td>23.782    </td><td>3.984     </td><td>          </td><td>          </td><td>0.164     </td><td>          </td></tr>\n",
       "\t<tr><td>5         </td><td>1         </td><td>93HG_001  </td><td>CAR-001   </td><td>1995      </td><td>11        </td><td>8         </td><td>1995-11-08</td><td>10.5      </td><td>-64.667   </td><td>...       </td><td>27.458    </td><td>36.613    </td><td>27.456    </td><td>23.786    </td><td>23.787    </td><td>3.990     </td><td>          </td><td>          </td><td>0.170     </td><td>          </td></tr>\n",
       "\t<tr><td>6         </td><td>1         </td><td>93HG_001  </td><td>CAR-001   </td><td>1995      </td><td>11        </td><td>8         </td><td>1995-11-08</td><td>10.5      </td><td>-64.667   </td><td>...       </td><td>27.454    </td><td>36.613    </td><td>27.452    </td><td>23.787    </td><td>23.787    </td><td>3.992     </td><td>          </td><td>          </td><td>0.175     </td><td>          </td></tr>\n",
       "</tbody>\n",
       "</table>\n"
      ],
      "text/latex": [
       "\\begin{tabular}{r|llllllllllllllllllllll}\n",
       " Num & cruise\\_no & Cruise\\_ID1 & Cruise\\_ID2 & Year & Month & Day & Date & Latitude & Longitude & ... & temp & sal & potemp & sigma\\_t & sigma\\_0 & O2\\_ml\\_L & beam\\_cp & beam\\_att & fluor\\_CTD & fluor\\_chla\\\\\n",
       "\\hline\n",
       "\t 1          & 1          & 93HG\\_001 & CAR-001    & 1995       & 11         & 8          & 1995-11-08 & 10.5       & -64.667    & ...        &            & 36.612     &            &            &            &            &            &            & 0.173      &           \\\\\n",
       "\t 2          & 1          & 93HG\\_001 & CAR-001    & 1995       & 11         & 8          & 1995-11-08 & 10.5       & -64.667    & ...        & 27.522     & 36.612     & 27.522     & 23.764     & 23.764     & 3.964      &            &            & 0.176      &           \\\\\n",
       "\t 3          & 1          & 93HG\\_001 & CAR-001    & 1995       & 11         & 8          & 1995-11-08 & 10.5       & -64.667    & ...        & 27.489     & 36.612     & 27.488     & 23.775     & 23.775     & 3.978      &            &            & 0.166      &           \\\\\n",
       "\t 4          & 1          & 93HG\\_001 & CAR-001    & 1995       & 11         & 8          & 1995-11-08 & 10.5       & -64.667    & ...        & 27.465     & 36.614     & 27.464     & 23.782     & 23.782     & 3.984      &            &            & 0.164      &           \\\\\n",
       "\t 5          & 1          & 93HG\\_001 & CAR-001    & 1995       & 11         & 8          & 1995-11-08 & 10.5       & -64.667    & ...        & 27.458     & 36.613     & 27.456     & 23.786     & 23.787     & 3.990      &            &            & 0.170      &           \\\\\n",
       "\t 6          & 1          & 93HG\\_001 & CAR-001    & 1995       & 11         & 8          & 1995-11-08 & 10.5       & -64.667    & ...        & 27.454     & 36.613     & 27.452     & 23.787     & 23.787     & 3.992      &            &            & 0.175      &           \\\\\n",
       "\\end{tabular}\n"
      ],
      "text/markdown": [
       "\n",
       "| Num | cruise_no | Cruise_ID1 | Cruise_ID2 | Year | Month | Day | Date | Latitude | Longitude | ... | temp | sal | potemp | sigma_t | sigma_0 | O2_ml_L | beam_cp | beam_att | fluor_CTD | fluor_chla |\n",
       "|---|---|---|---|---|---|---|---|---|---|---|---|---|---|---|---|---|---|---|---|---|\n",
       "| 1          | 1          | 93HG_001   | CAR-001    | 1995       | 11         | 8          | 1995-11-08 | 10.5       | -64.667    | ...        |            | 36.612     |            |            |            |            |            |            | 0.173      |            |\n",
       "| 2          | 1          | 93HG_001   | CAR-001    | 1995       | 11         | 8          | 1995-11-08 | 10.5       | -64.667    | ...        | 27.522     | 36.612     | 27.522     | 23.764     | 23.764     | 3.964      |            |            | 0.176      |            |\n",
       "| 3          | 1          | 93HG_001   | CAR-001    | 1995       | 11         | 8          | 1995-11-08 | 10.5       | -64.667    | ...        | 27.489     | 36.612     | 27.488     | 23.775     | 23.775     | 3.978      |            |            | 0.166      |            |\n",
       "| 4          | 1          | 93HG_001   | CAR-001    | 1995       | 11         | 8          | 1995-11-08 | 10.5       | -64.667    | ...        | 27.465     | 36.614     | 27.464     | 23.782     | 23.782     | 3.984      |            |            | 0.164      |            |\n",
       "| 5          | 1          | 93HG_001   | CAR-001    | 1995       | 11         | 8          | 1995-11-08 | 10.5       | -64.667    | ...        | 27.458     | 36.613     | 27.456     | 23.786     | 23.787     | 3.990      |            |            | 0.170      |            |\n",
       "| 6          | 1          | 93HG_001   | CAR-001    | 1995       | 11         | 8          | 1995-11-08 | 10.5       | -64.667    | ...        | 27.454     | 36.613     | 27.452     | 23.787     | 23.787     | 3.992      |            |            | 0.175      |            |\n",
       "\n"
      ],
      "text/plain": [
       "  Num cruise_no Cruise_ID1 Cruise_ID2 Year Month Day Date       Latitude\n",
       "1 1   1         93HG_001   CAR-001    1995 11    8   1995-11-08 10.5    \n",
       "2 2   1         93HG_001   CAR-001    1995 11    8   1995-11-08 10.5    \n",
       "3 3   1         93HG_001   CAR-001    1995 11    8   1995-11-08 10.5    \n",
       "4 4   1         93HG_001   CAR-001    1995 11    8   1995-11-08 10.5    \n",
       "5 5   1         93HG_001   CAR-001    1995 11    8   1995-11-08 10.5    \n",
       "6 6   1         93HG_001   CAR-001    1995 11    8   1995-11-08 10.5    \n",
       "  Longitude ... temp   sal    potemp sigma_t sigma_0 O2_ml_L beam_cp beam_att\n",
       "1 -64.667   ...        36.612                                                \n",
       "2 -64.667   ... 27.522 36.612 27.522 23.764  23.764  3.964                   \n",
       "3 -64.667   ... 27.489 36.612 27.488 23.775  23.775  3.978                   \n",
       "4 -64.667   ... 27.465 36.614 27.464 23.782  23.782  3.984                   \n",
       "5 -64.667   ... 27.458 36.613 27.456 23.786  23.787  3.990                   \n",
       "6 -64.667   ... 27.454 36.613 27.452 23.787  23.787  3.992                   \n",
       "  fluor_CTD fluor_chla\n",
       "1 0.173               \n",
       "2 0.176               \n",
       "3 0.166               \n",
       "4 0.164               \n",
       "5 0.170               \n",
       "6 0.175               "
      ]
     },
     "metadata": {},
     "output_type": "display_data"
    }
   ],
   "source": [
    "ctdat_df <- data.frame(\"Num\" = 1:ctdat$dim$unlimited$len)\n",
    "print('start')\n",
    "for(i in 1:ctdat$nvars){\n",
    "    #print(i)\n",
    "    ctdat_df[paste(attributes(ctdat$var)$names[i])] <- ncvar_get(ctdat, attributes(ctdat$var)$names[i])\n",
    "}\n",
    "print('done reading')\n",
    "head(ctdat_df)"
   ]
  },
  {
   "cell_type": "code",
   "execution_count": 9,
   "metadata": {},
   "outputs": [
    {
     "name": "stdout",
     "output_type": "stream",
     "text": [
      "Num cruise_no Cruise_ID1 Cruise_ID2 Year Month Day Date Latitude Longitude press depth temp sal potemp sigma_t sigma_0 O2_ml_L beam_cp beam_att fluor_CTD fluor_chla"
     ]
    }
   ],
   "source": [
    "cat(names(ctdat_df))"
   ]
  },
  {
   "cell_type": "code",
   "execution_count": 10,
   "metadata": {},
   "outputs": [],
   "source": [
    "ctdat_df$date <- as.Date(ctdat_df$Date)\n",
    "\n",
    "ctdat_df$press <- as.numeric(ctdat_df$press)\n",
    "ctdat_df$depth <- as.numeric(ctdat_df$depth)\n",
    "ctdat_df$temp <- as.numeric(ctdat_df$temp)\n",
    "ctdat_df$sal <- as.numeric(ctdat_df$sal)\n",
    "ctdat_df$potemp <- as.numeric(ctdat_df$potemp) \n",
    "ctdat_df$sigma_t <- as.numeric(ctdat_df$sigma_t)\n",
    "ctdat_df$sigma_0 <- as.numeric(ctdat_df$sigma_0)\n",
    "ctdat_df$O2_ml_L <- as.numeric(ctdat_df$O2_ml_L)\n",
    "ctdat_df$beam_cp <- as.numeric(ctdat_df$beam_cp)\n",
    "ctdat_df$beam_att <- as.numeric(ctdat_df$beam_att)\n",
    "ctdat_df$fluor_CTD <- as.numeric(ctdat_df$fluor_CTD)\n",
    "ctdat_df$fluor_chla <- as.numeric(ctdat_df$fluor_chla)"
   ]
  },
  {
   "cell_type": "code",
   "execution_count": 11,
   "metadata": {},
   "outputs": [],
   "source": [
    "ctdat_df[ctdat_df>10000000000]=NA"
   ]
  },
  {
   "cell_type": "code",
   "execution_count": 61,
   "metadata": {},
   "outputs": [],
   "source": [
    "CTDx258 <- ctdat_df %>%\n",
    "  group_by(date) %>% # this groups it by the run number \n",
    "  #filter(press > 8) %>% # only take values below 8 meters depth to minimze influence of surface anomalies\n",
    "  mutate(belowmld = sigma_t >= 25.8) %>% # create new column that gives \"True\" for values with sigma t higher than 25.8\n",
    "  filter(belowmld == T) %>% # only take \"True\" values \n",
    "  slice(1) %>% # takes the first occurrence\n",
    "  ungroup() #removes grouping"
   ]
  },
  {
   "cell_type": "markdown",
   "metadata": {},
   "source": [
    "# PAR DATA"
   ]
  },
  {
   "cell_type": "code",
   "execution_count": 72,
   "metadata": {},
   "outputs": [],
   "source": [
    "# read SeaWIFs 8Day extracted file\n",
    "SeaWIFs <- read.csv('SeaWIFs_PAR_8day_extracted.csv')"
   ]
  },
  {
   "cell_type": "code",
   "execution_count": 73,
   "metadata": {},
   "outputs": [
    {
     "name": "stdout",
     "output_type": "stream",
     "text": [
      "'data.frame':\t11540 obs. of  8 variables:\n",
      " $ year : int  1997 1997 1997 1997 1997 1997 1997 1997 1997 1997 ...\n",
      " $ month: int  9 9 9 9 9 9 9 9 9 9 ...\n",
      " $ lon  : num  -64.8 -64.8 -64.7 -64.6 -64.8 ...\n",
      " $ lat  : num  10.7 10.7 10.7 10.7 10.6 ...\n",
      " $ value: num  31.1 27.3 32.1 38.9 25.7 ...\n",
      " $ unit : Factor w/ 1 level \"einstein m^-2 day^-1\": 1 1 1 1 1 1 1 1 1 1 ...\n",
      " $ var  : Factor w/ 1 level \"par\": 1 1 1 1 1 1 1 1 1 1 ...\n",
      " $ Date : Date, format: \"1997-09-15\" \"1997-09-15\" ...\n"
     ]
    }
   ],
   "source": [
    "date = as.character(paste(SeaWIFs$year,'-',SeaWIFs$month,'-15',sep=''))\n",
    "SeaWIFs$Date <- as.Date(date, format='%Y-%m-%d')\n",
    "str(SeaWIFs)"
   ]
  },
  {
   "cell_type": "markdown",
   "metadata": {},
   "source": [
    "# EUPHOTIC ZONE"
   ]
  },
  {
   "cell_type": "code",
   "execution_count": 78,
   "metadata": {},
   "outputs": [],
   "source": [
    "# read MLD depth file\n",
    "EuZ <- read.csv(\"par_Light_Level_edit.csv\")\n",
    "\n",
    "# read Date column\n",
    "EuZ$Date <- as.Date(EuZ$Fecha, format=\"%m/%d/%y\")\n",
    "\n",
    "# get just month and year for merging later\n",
    "EuZ$DateMonth <- format(EuZ$Date, format=\"%Y-%m\")"
   ]
  },
  {
   "cell_type": "code",
   "execution_count": 79,
   "metadata": {},
   "outputs": [
    {
     "name": "stdout",
     "output_type": "stream",
     "text": [
      "'data.frame':\t132 obs. of  7 variables:\n",
      " $ Campaign : Factor w/ 131 levels \"\",\"C118\",\"C119\",..: 72 73 74 75 76 77 78 79 80 81 ...\n",
      " $ Fecha    : Factor w/ 131 levels \"\",\"1/1/98\",\"1/1/99\",..: 23 32 2 42 54 67 89 101 111 121 ...\n",
      " $ X0.10.   : num  59 59 46.5 NA 25.5 74 71 60 71.5 74 ...\n",
      " $ X1.      : num  48.5 34 33 NA 14.5 45 45 41.5 48 57.5 ...\n",
      " $ X10.     : num  23 13.5 14 21 6.5 21 23.5 17.5 29 27 ...\n",
      " $ Date     : Date, format: \"1997-11-01\" \"1997-12-01\" ...\n",
      " $ DateMonth: chr  \"1997-11\" \"1997-12\" \"1998-01\" \"1998-02\" ...\n"
     ]
    }
   ],
   "source": [
    "str(EuZ)"
   ]
  },
  {
   "cell_type": "code",
   "execution_count": null,
   "metadata": {},
   "outputs": [],
   "source": []
  }
 ],
 "metadata": {
  "kernelspec": {
   "display_name": "R",
   "language": "R",
   "name": "ir"
  },
  "language_info": {
   "codemirror_mode": "r",
   "file_extension": ".r",
   "mimetype": "text/x-r-source",
   "name": "R",
   "pygments_lexer": "r",
   "version": "3.6.1"
  }
 },
 "nbformat": 4,
 "nbformat_minor": 4
}
