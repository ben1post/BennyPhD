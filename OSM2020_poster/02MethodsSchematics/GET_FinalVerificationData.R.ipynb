{
 "cells": [
  {
   "cell_type": "markdown",
   "metadata": {},
   "source": [
    "# So Idea:\n",
    "- get typical (aggregated) verification data for both regimes (100m box model structure)\n",
    "- instead of aggregating to one year, get verification over 5 years per each regime\n"
   ]
  },
  {
   "cell_type": "code",
   "execution_count": null,
   "metadata": {},
   "outputs": [],
   "source": []
  },
  {
   "cell_type": "markdown",
   "metadata": {},
   "source": [
    "# now what to do first: \n",
    "1. get necessary raw data, \n",
    "2. then integrate over entire time-series & depth (if necessary)\n",
    "3. create aggregated forcing raw csvs for model (simply include proper Date information, in addition to yday)\n",
    "4. date truncation & aggregation can happen in python code of model!"
   ]
  },
  {
   "cell_type": "code",
   "execution_count": 2,
   "metadata": {},
   "outputs": [],
   "source": [
    "### create one large file with all possible verification? (depends on where data is from, don't overcomplicate)"
   ]
  },
  {
   "cell_type": "markdown",
   "metadata": {},
   "source": [
    "Let's write up what I need:\n",
    "1. N_box, NH4_box - mean(100m)\n",
    "2. Si_box\n",
    "3. P_box\n",
    "4. HPLC - integrated(100m) # possibly have 0-55 and 55-100 separated of potential later analysis (but then other compenents might need the same? no?)\n",
    "4. FluorChla  - integrated(100m)\n",
    "5. Zooplankton data\n",
    "6. Export Flux (!)\n",
    "7. Primary Production (?)\n",
    "8. PN for Detritus comparison (?) (maybe also POC, DOC, whatever makes sense, or just all of em)\n",
    "9. Euphotic Zone depth\n",
    "10. \n"
   ]
  },
  {
   "cell_type": "code",
   "execution_count": 1,
   "metadata": {},
   "outputs": [],
   "source": [
    "# most important thing is not number of datasets, \n",
    "# but they they are structured and named conservatively, for easy reuse of functions"
   ]
  },
  {
   "cell_type": "code",
   "execution_count": null,
   "metadata": {},
   "outputs": [],
   "source": []
  }
 ],
 "metadata": {
  "kernelspec": {
   "display_name": "R",
   "language": "R",
   "name": "ir"
  },
  "language_info": {
   "codemirror_mode": "r",
   "file_extension": ".r",
   "mimetype": "text/x-r-source",
   "name": "R",
   "pygments_lexer": "r",
   "version": "3.6.1"
  }
 },
 "nbformat": 4,
 "nbformat_minor": 4
}
