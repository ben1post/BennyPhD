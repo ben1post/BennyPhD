{
 "cells": [
  {
   "cell_type": "markdown",
   "metadata": {},
   "source": [
    "# VERIFICATION"
   ]
  },
  {
   "cell_type": "markdown",
   "metadata": {},
   "source": [
    "# So Idea:\n",
    "- get typical (aggregated) verification data for both regimes (100m box model structure)\n",
    "- instead of aggregating to one year, get verification over 5 years per each regime\n"
   ]
  },
  {
   "cell_type": "code",
   "execution_count": null,
   "metadata": {},
   "outputs": [],
   "source": []
  },
  {
   "cell_type": "markdown",
   "metadata": {},
   "source": [
    "# now what to do first: \n",
    "1. get necessary raw data, \n",
    "2. then integrate over entire time-series & depth (if necessary)\n",
    "3. create aggregated forcing raw csvs for model (simply include proper Date information, in addition to yday)\n",
    "4. date truncation & aggregation can happen in python code of model!"
   ]
  },
  {
   "cell_type": "code",
   "execution_count": 2,
   "metadata": {},
   "outputs": [],
   "source": [
    "### create one large file with all possible verification? (depends on where data is from, don't overcomplicate)"
   ]
  },
  {
   "cell_type": "markdown",
   "metadata": {},
   "source": [
    "Let's write up what I need:\n",
    "1. N_box, NH4_box - mean(100m)\n",
    "2. Si_box\n",
    "3. P_box\n",
    "4. HPLC - integrated(100m) # possibly have 0-55 and 55-100 separated of potential later analysis (but then other compenents might need the same? no?)\n",
    "4. FluorChla  - integrated(100m)\n",
    "5. Zooplankton data\n",
    "6. Export Flux (!)\n",
    "7. Primary Production (?) [NISKIN]\n",
    "8. PN for Detritus comparison (?) (maybe also POC, DOC, whatever makes sense, or just all of em)\n",
    "9. Euphotic Zone depth\n",
    "10. \n"
   ]
  },
  {
   "cell_type": "code",
   "execution_count": 1,
   "metadata": {},
   "outputs": [],
   "source": [
    "# most important thing is not number of datasets, \n",
    "# but they they are structured and named conservatively, for easy reuse of functions"
   ]
  },
  {
   "cell_type": "markdown",
   "metadata": {},
   "source": [
    "# NISKIN DATA"
   ]
  },
  {
   "cell_type": "code",
   "execution_count": 2,
   "metadata": {},
   "outputs": [
    {
     "name": "stderr",
     "output_type": "stream",
     "text": [
      "Loading required package: ncdf4\n",
      "Loading required package: cowplot\n",
      "Registered S3 methods overwritten by 'ggplot2':\n",
      "  method         from \n",
      "  [.quosures     rlang\n",
      "  c.quosures     rlang\n",
      "  print.quosures rlang\n",
      "\n",
      "********************************************************\n",
      "Note: As of version 1.0.0, cowplot does not change the\n",
      "  default ggplot2 theme anymore. To recover the previous\n",
      "  behavior, execute:\n",
      "  theme_set(theme_cowplot())\n",
      "********************************************************\n",
      "\n",
      "Loading required package: tidyverse\n",
      "Registered S3 method overwritten by 'rvest':\n",
      "  method            from\n",
      "  read_xml.response xml2\n",
      "── Attaching packages ─────────────────────────────────────── tidyverse 1.2.1 ──\n",
      "✔ ggplot2 3.1.1       ✔ purrr   0.3.3  \n",
      "✔ tibble  2.1.1       ✔ dplyr   0.8.0.1\n",
      "✔ tidyr   0.8.3       ✔ stringr 1.4.0  \n",
      "✔ readr   1.3.1       ✔ forcats 0.4.0  \n",
      "── Conflicts ────────────────────────────────────────── tidyverse_conflicts() ──\n",
      "✖ dplyr::filter() masks stats::filter()\n",
      "✖ dplyr::lag()    masks stats::lag()\n",
      "Loading required package: oce\n",
      "Loading required package: testthat\n",
      "\n",
      "Attaching package: ‘testthat’\n",
      "\n",
      "The following object is masked from ‘package:dplyr’:\n",
      "\n",
      "    matches\n",
      "\n",
      "The following object is masked from ‘package:purrr’:\n",
      "\n",
      "    is_null\n",
      "\n",
      "Loading required package: gsw\n"
     ]
    }
   ],
   "source": [
    "require(ncdf4, warn.conflicts = FALSE);\n",
    "require(cowplot, warn.conflicts = FALSE);\n",
    "require(tidyverse, warn.conflicts = FALSE);\n",
    "require(oce, warn.conflicts = FALSE);"
   ]
  },
  {
   "cell_type": "code",
   "execution_count": 5,
   "metadata": {},
   "outputs": [],
   "source": [
    "# open a NetCDF file\n",
    "niskdat <- nc_open(\"../01Observations/Data/niskin.netcdf\")\n",
    "#print(niskdat)"
   ]
  },
  {
   "cell_type": "code",
   "execution_count": 42,
   "metadata": {},
   "outputs": [
    {
     "name": "stdout",
     "output_type": "stream",
     "text": [
      "[1] \"start\"\n",
      "[1] \"done reading\"\n"
     ]
    },
    {
     "data": {
      "text/html": [
       "<table>\n",
       "<thead><tr><th scope=col>Num</th><th scope=col>Cruise_number</th><th scope=col>Cruise_ID_1</th><th scope=col>Cruise_ID_2</th><th scope=col>Leg</th><th scope=col>Day</th><th scope=col>Month</th><th scope=col>Year</th><th scope=col>Latitude</th><th scope=col>Longitude</th><th scope=col>...</th><th scope=col>Bact_Biomass_uMC</th><th scope=col>Bio_cast_no</th><th scope=col>ISO_DateTime_start_hc_local</th><th scope=col>ISO_DateTime_end_hc_local</th><th scope=col>ISO_DateTime_start_bc_local</th><th scope=col>ISO_DateTime_end_bc_local</th><th scope=col>ISO_DateTime_start_hc_UTC</th><th scope=col>ISO_DateTime_end_hc_UTC</th><th scope=col>ISO_DateTime_start_bc_UTC</th><th scope=col>ISO_DateTime_end_bc_UTC</th></tr></thead>\n",
       "<tbody>\n",
       "\t<tr><td>1                  </td><td>1                  </td><td>93HG_001           </td><td>CAR-001            </td><td>2                  </td><td>8                  </td><td>11                 </td><td>1995               </td><td>10.5               </td><td>-64.667            </td><td>...                </td><td>BM_master          </td><td>2                  </td><td>1995-11-08T06:12:00</td><td>1995-11-08T06:38:00</td><td>1995-11-08T03:36:00</td><td>1995-11-08T03:54:00</td><td>1995-11-08T10:12:00</td><td>1995-11-08T10:38:00</td><td>1995-11-08T07:36:00</td><td>1995-11-08T07:54:00</td></tr>\n",
       "\t<tr><td>2                  </td><td>1                  </td><td>93HG_001           </td><td>CAR-001            </td><td>2                  </td><td>8                  </td><td>11                 </td><td>1995               </td><td>10.5               </td><td>-64.667            </td><td>...                </td><td>BM_master          </td><td>2                  </td><td>1995-11-08T06:12:00</td><td>1995-11-08T06:38:00</td><td>1995-11-08T03:36:00</td><td>1995-11-08T03:54:00</td><td>1995-11-08T10:12:00</td><td>1995-11-08T10:38:00</td><td>1995-11-08T07:36:00</td><td>1995-11-08T07:54:00</td></tr>\n",
       "\t<tr><td>3                  </td><td>1                  </td><td>93HG_001           </td><td>CAR-001            </td><td>2                  </td><td>8                  </td><td>11                 </td><td>1995               </td><td>10.5               </td><td>-64.667            </td><td>...                </td><td>BM_master          </td><td>2                  </td><td>1995-11-08T06:12:00</td><td>1995-11-08T06:38:00</td><td>1995-11-08T03:36:00</td><td>1995-11-08T03:54:00</td><td>1995-11-08T10:12:00</td><td>1995-11-08T10:38:00</td><td>1995-11-08T07:36:00</td><td>1995-11-08T07:54:00</td></tr>\n",
       "\t<tr><td>4                  </td><td>1                  </td><td>93HG_001           </td><td>CAR-001            </td><td>2                  </td><td>8                  </td><td>11                 </td><td>1995               </td><td>10.5               </td><td>-64.667            </td><td>...                </td><td>BM_master          </td><td>2                  </td><td>1995-11-08T06:12:00</td><td>1995-11-08T06:38:00</td><td>1995-11-08T03:36:00</td><td>1995-11-08T03:54:00</td><td>1995-11-08T10:12:00</td><td>1995-11-08T10:38:00</td><td>1995-11-08T07:36:00</td><td>1995-11-08T07:54:00</td></tr>\n",
       "\t<tr><td>5                  </td><td>1                  </td><td>93HG_001           </td><td>CAR-001            </td><td>2                  </td><td>8                  </td><td>11                 </td><td>1995               </td><td>10.5               </td><td>-64.667            </td><td>...                </td><td>BM_master          </td><td>2                  </td><td>1995-11-08T06:12:00</td><td>1995-11-08T06:38:00</td><td>1995-11-08T03:36:00</td><td>1995-11-08T03:54:00</td><td>1995-11-08T10:12:00</td><td>1995-11-08T10:38:00</td><td>1995-11-08T07:36:00</td><td>1995-11-08T07:54:00</td></tr>\n",
       "\t<tr><td>6                  </td><td>1                  </td><td>93HG_001           </td><td>CAR-001            </td><td>2                  </td><td>8                  </td><td>11                 </td><td>1995               </td><td>10.5               </td><td>-64.667            </td><td>...                </td><td>BM_master          </td><td>2                  </td><td>1995-11-08T06:12:00</td><td>1995-11-08T06:38:00</td><td>1995-11-08T03:36:00</td><td>1995-11-08T03:54:00</td><td>1995-11-08T10:12:00</td><td>1995-11-08T10:38:00</td><td>1995-11-08T07:36:00</td><td>1995-11-08T07:54:00</td></tr>\n",
       "</tbody>\n",
       "</table>\n"
      ],
      "text/latex": [
       "\\begin{tabular}{r|lllllllllllllllllllllllllllllllllllllllllllllllllllllllllllllllllllllllllllllllllllllllllllllllll}\n",
       " Num & Cruise\\_number & Cruise\\_ID\\_1 & Cruise\\_ID\\_2 & Leg & Day & Month & Year & Latitude & Longitude & ... & Bact\\_Biomass\\_uMC & Bio\\_cast\\_no & ISO\\_DateTime\\_start\\_hc\\_local & ISO\\_DateTime\\_end\\_hc\\_local & ISO\\_DateTime\\_start\\_bc\\_local & ISO\\_DateTime\\_end\\_bc\\_local & ISO\\_DateTime\\_start\\_hc\\_UTC & ISO\\_DateTime\\_end\\_hc\\_UTC & ISO\\_DateTime\\_start\\_bc\\_UTC & ISO\\_DateTime\\_end\\_bc\\_UTC\\\\\n",
       "\\hline\n",
       "\t 1                   & 1                   & 93HG\\_001          & CAR-001             & 2                   & 8                   & 11                  & 1995                & 10.5                & -64.667             & ...                 & BM\\_master         & 2                   & 1995-11-08T06:12:00 & 1995-11-08T06:38:00 & 1995-11-08T03:36:00 & 1995-11-08T03:54:00 & 1995-11-08T10:12:00 & 1995-11-08T10:38:00 & 1995-11-08T07:36:00 & 1995-11-08T07:54:00\\\\\n",
       "\t 2                   & 1                   & 93HG\\_001          & CAR-001             & 2                   & 8                   & 11                  & 1995                & 10.5                & -64.667             & ...                 & BM\\_master         & 2                   & 1995-11-08T06:12:00 & 1995-11-08T06:38:00 & 1995-11-08T03:36:00 & 1995-11-08T03:54:00 & 1995-11-08T10:12:00 & 1995-11-08T10:38:00 & 1995-11-08T07:36:00 & 1995-11-08T07:54:00\\\\\n",
       "\t 3                   & 1                   & 93HG\\_001          & CAR-001             & 2                   & 8                   & 11                  & 1995                & 10.5                & -64.667             & ...                 & BM\\_master         & 2                   & 1995-11-08T06:12:00 & 1995-11-08T06:38:00 & 1995-11-08T03:36:00 & 1995-11-08T03:54:00 & 1995-11-08T10:12:00 & 1995-11-08T10:38:00 & 1995-11-08T07:36:00 & 1995-11-08T07:54:00\\\\\n",
       "\t 4                   & 1                   & 93HG\\_001          & CAR-001             & 2                   & 8                   & 11                  & 1995                & 10.5                & -64.667             & ...                 & BM\\_master         & 2                   & 1995-11-08T06:12:00 & 1995-11-08T06:38:00 & 1995-11-08T03:36:00 & 1995-11-08T03:54:00 & 1995-11-08T10:12:00 & 1995-11-08T10:38:00 & 1995-11-08T07:36:00 & 1995-11-08T07:54:00\\\\\n",
       "\t 5                   & 1                   & 93HG\\_001          & CAR-001             & 2                   & 8                   & 11                  & 1995                & 10.5                & -64.667             & ...                 & BM\\_master         & 2                   & 1995-11-08T06:12:00 & 1995-11-08T06:38:00 & 1995-11-08T03:36:00 & 1995-11-08T03:54:00 & 1995-11-08T10:12:00 & 1995-11-08T10:38:00 & 1995-11-08T07:36:00 & 1995-11-08T07:54:00\\\\\n",
       "\t 6                   & 1                   & 93HG\\_001          & CAR-001             & 2                   & 8                   & 11                  & 1995                & 10.5                & -64.667             & ...                 & BM\\_master         & 2                   & 1995-11-08T06:12:00 & 1995-11-08T06:38:00 & 1995-11-08T03:36:00 & 1995-11-08T03:54:00 & 1995-11-08T10:12:00 & 1995-11-08T10:38:00 & 1995-11-08T07:36:00 & 1995-11-08T07:54:00\\\\\n",
       "\\end{tabular}\n"
      ],
      "text/markdown": [
       "\n",
       "| Num | Cruise_number | Cruise_ID_1 | Cruise_ID_2 | Leg | Day | Month | Year | Latitude | Longitude | ... | Bact_Biomass_uMC | Bio_cast_no | ISO_DateTime_start_hc_local | ISO_DateTime_end_hc_local | ISO_DateTime_start_bc_local | ISO_DateTime_end_bc_local | ISO_DateTime_start_hc_UTC | ISO_DateTime_end_hc_UTC | ISO_DateTime_start_bc_UTC | ISO_DateTime_end_bc_UTC |\n",
       "|---|---|---|---|---|---|---|---|---|---|---|---|---|---|---|---|---|---|---|---|---|\n",
       "| 1                   | 1                   | 93HG_001            | CAR-001             | 2                   | 8                   | 11                  | 1995                | 10.5                | -64.667             | ...                 | BM_master           | 2                   | 1995-11-08T06:12:00 | 1995-11-08T06:38:00 | 1995-11-08T03:36:00 | 1995-11-08T03:54:00 | 1995-11-08T10:12:00 | 1995-11-08T10:38:00 | 1995-11-08T07:36:00 | 1995-11-08T07:54:00 |\n",
       "| 2                   | 1                   | 93HG_001            | CAR-001             | 2                   | 8                   | 11                  | 1995                | 10.5                | -64.667             | ...                 | BM_master           | 2                   | 1995-11-08T06:12:00 | 1995-11-08T06:38:00 | 1995-11-08T03:36:00 | 1995-11-08T03:54:00 | 1995-11-08T10:12:00 | 1995-11-08T10:38:00 | 1995-11-08T07:36:00 | 1995-11-08T07:54:00 |\n",
       "| 3                   | 1                   | 93HG_001            | CAR-001             | 2                   | 8                   | 11                  | 1995                | 10.5                | -64.667             | ...                 | BM_master           | 2                   | 1995-11-08T06:12:00 | 1995-11-08T06:38:00 | 1995-11-08T03:36:00 | 1995-11-08T03:54:00 | 1995-11-08T10:12:00 | 1995-11-08T10:38:00 | 1995-11-08T07:36:00 | 1995-11-08T07:54:00 |\n",
       "| 4                   | 1                   | 93HG_001            | CAR-001             | 2                   | 8                   | 11                  | 1995                | 10.5                | -64.667             | ...                 | BM_master           | 2                   | 1995-11-08T06:12:00 | 1995-11-08T06:38:00 | 1995-11-08T03:36:00 | 1995-11-08T03:54:00 | 1995-11-08T10:12:00 | 1995-11-08T10:38:00 | 1995-11-08T07:36:00 | 1995-11-08T07:54:00 |\n",
       "| 5                   | 1                   | 93HG_001            | CAR-001             | 2                   | 8                   | 11                  | 1995                | 10.5                | -64.667             | ...                 | BM_master           | 2                   | 1995-11-08T06:12:00 | 1995-11-08T06:38:00 | 1995-11-08T03:36:00 | 1995-11-08T03:54:00 | 1995-11-08T10:12:00 | 1995-11-08T10:38:00 | 1995-11-08T07:36:00 | 1995-11-08T07:54:00 |\n",
       "| 6                   | 1                   | 93HG_001            | CAR-001             | 2                   | 8                   | 11                  | 1995                | 10.5                | -64.667             | ...                 | BM_master           | 2                   | 1995-11-08T06:12:00 | 1995-11-08T06:38:00 | 1995-11-08T03:36:00 | 1995-11-08T03:54:00 | 1995-11-08T10:12:00 | 1995-11-08T10:38:00 | 1995-11-08T07:36:00 | 1995-11-08T07:54:00 |\n",
       "\n"
      ],
      "text/plain": [
       "  Num Cruise_number Cruise_ID_1 Cruise_ID_2 Leg Day Month Year Latitude\n",
       "1 1   1             93HG_001    CAR-001     2   8   11    1995 10.5    \n",
       "2 2   1             93HG_001    CAR-001     2   8   11    1995 10.5    \n",
       "3 3   1             93HG_001    CAR-001     2   8   11    1995 10.5    \n",
       "4 4   1             93HG_001    CAR-001     2   8   11    1995 10.5    \n",
       "5 5   1             93HG_001    CAR-001     2   8   11    1995 10.5    \n",
       "6 6   1             93HG_001    CAR-001     2   8   11    1995 10.5    \n",
       "  Longitude ... Bact_Biomass_uMC Bio_cast_no ISO_DateTime_start_hc_local\n",
       "1 -64.667   ... BM_master        2           1995-11-08T06:12:00        \n",
       "2 -64.667   ... BM_master        2           1995-11-08T06:12:00        \n",
       "3 -64.667   ... BM_master        2           1995-11-08T06:12:00        \n",
       "4 -64.667   ... BM_master        2           1995-11-08T06:12:00        \n",
       "5 -64.667   ... BM_master        2           1995-11-08T06:12:00        \n",
       "6 -64.667   ... BM_master        2           1995-11-08T06:12:00        \n",
       "  ISO_DateTime_end_hc_local ISO_DateTime_start_bc_local\n",
       "1 1995-11-08T06:38:00       1995-11-08T03:36:00        \n",
       "2 1995-11-08T06:38:00       1995-11-08T03:36:00        \n",
       "3 1995-11-08T06:38:00       1995-11-08T03:36:00        \n",
       "4 1995-11-08T06:38:00       1995-11-08T03:36:00        \n",
       "5 1995-11-08T06:38:00       1995-11-08T03:36:00        \n",
       "6 1995-11-08T06:38:00       1995-11-08T03:36:00        \n",
       "  ISO_DateTime_end_bc_local ISO_DateTime_start_hc_UTC ISO_DateTime_end_hc_UTC\n",
       "1 1995-11-08T03:54:00       1995-11-08T10:12:00       1995-11-08T10:38:00    \n",
       "2 1995-11-08T03:54:00       1995-11-08T10:12:00       1995-11-08T10:38:00    \n",
       "3 1995-11-08T03:54:00       1995-11-08T10:12:00       1995-11-08T10:38:00    \n",
       "4 1995-11-08T03:54:00       1995-11-08T10:12:00       1995-11-08T10:38:00    \n",
       "5 1995-11-08T03:54:00       1995-11-08T10:12:00       1995-11-08T10:38:00    \n",
       "6 1995-11-08T03:54:00       1995-11-08T10:12:00       1995-11-08T10:38:00    \n",
       "  ISO_DateTime_start_bc_UTC ISO_DateTime_end_bc_UTC\n",
       "1 1995-11-08T07:36:00       1995-11-08T07:54:00    \n",
       "2 1995-11-08T07:36:00       1995-11-08T07:54:00    \n",
       "3 1995-11-08T07:36:00       1995-11-08T07:54:00    \n",
       "4 1995-11-08T07:36:00       1995-11-08T07:54:00    \n",
       "5 1995-11-08T07:36:00       1995-11-08T07:54:00    \n",
       "6 1995-11-08T07:36:00       1995-11-08T07:54:00    "
      ]
     },
     "metadata": {},
     "output_type": "display_data"
    }
   ],
   "source": [
    "niskdat_df <- data.frame(\"Num\" = 1:niskdat$dim$unlimited$len)\n",
    "print('start')\n",
    "for(i in 1:niskdat$nvars){\n",
    "    #print(i)\n",
    "    niskdat_df[paste(attributes(niskdat$var)$names[i])] <- ncvar_get(niskdat, attributes(niskdat$var)$names[i])\n",
    "}\n",
    "print('done reading')\n",
    "head(niskdat_df)"
   ]
  },
  {
   "cell_type": "code",
   "execution_count": 43,
   "metadata": {},
   "outputs": [],
   "source": [
    "niskdat_df$Date <- paste(niskdat_df$Year,'-',niskdat_df$Month,'-',niskdat_df$Day,sep='')"
   ]
  },
  {
   "cell_type": "code",
   "execution_count": 44,
   "metadata": {},
   "outputs": [],
   "source": [
    "niskdat_df$date <- as.Date(niskdat_df$Date) # as.Date(substr(niskdat_df$ISO_DateTime_end_hc_UTC, 0, 10))"
   ]
  },
  {
   "cell_type": "code",
   "execution_count": 45,
   "metadata": {},
   "outputs": [],
   "source": [
    "niskdat_df$Depth_real <- as.numeric(niskdat_df$Depth_real)\n",
    "niskdat_df$Depth_target <- as.numeric(niskdat_df$Depth_target)\n",
    "\n",
    "niskdat_df$Temperature <- as.numeric(niskdat_df$Temperature)\n",
    "niskdat_df$NO3_NO2_USF <- as.numeric(niskdat_df$NO3_NO2_USF)\n",
    "niskdat_df$SiO4_USF <- as.numeric(niskdat_df$SiO4_USF)\n",
    "niskdat_df$PO4_USF <- as.numeric(niskdat_df$PO4_USF)\n",
    "\n",
    "niskdat_df$Sigma_t <- as.numeric(niskdat_df$Sigma_t)\n",
    "niskdat_df$Salinity_bottles <- as.numeric(niskdat_df$Salinity_bottles)\n",
    "niskdat_df$Salinity_CTD <- as.numeric(niskdat_df$Salinity_CTD)"
   ]
  },
  {
   "cell_type": "code",
   "execution_count": 46,
   "metadata": {},
   "outputs": [],
   "source": [
    "niskdat_df$O2_umol_kg <- as.numeric(niskdat_df$O2_umol_kg)\n",
    "niskdat_df$POC_ug_kg <- as.numeric(niskdat_df$POC_ug_kg)\n",
    "niskdat_df$PON_ug_kg <- as.numeric(niskdat_df$PON_ug_kg)\n",
    "niskdat_df$PN_ug_L <- as.numeric(niskdat_df$PN_ug_L)\n",
    "\n",
    "niskdat_df$C_N_particulate <- as.numeric(niskdat_df$C_N_particulate)\n",
    "niskdat_df$PIP <- as.numeric(niskdat_df$PIP)\n",
    "niskdat_df$TPP <- as.numeric(niskdat_df$TPP)\n",
    "niskdat_df$DOC <- as.numeric(niskdat_df$DOC)\n",
    "niskdat_df$PrimaryProductivity <- as.numeric(niskdat_df$PrimaryProductivity)\n",
    "niskdat_df$Chlorophyll <- as.numeric(niskdat_df$Chlorophyll)\n",
    "niskdat_df$Phaeopigments <- as.numeric(niskdat_df$Phaeopigments)\n"
   ]
  },
  {
   "cell_type": "code",
   "execution_count": 57,
   "metadata": {},
   "outputs": [],
   "source": [
    "# Function to read specific verfication type from dataset\n",
    "prepdataframe <- function(variable='', datasource='niskin'){\n",
    "    if(datasource=='niskin'){\n",
    "    DF <- niskdat_df\n",
    "    DF$depth <- DF$Depth_real\n",
    "    # print(names(DF))\n",
    "        \n",
    "    VarDF <- DF[complete.cases(DF[variable]),] %>%\n",
    "      select(date, variable, depth) %>%\n",
    "      gather(key='key',value = \"value\", -date, -depth)\n",
    "    head(VarDF)\n",
    "    }\n",
    "    return(VarDF)\n",
    "}"
   ]
  },
  {
   "cell_type": "code",
   "execution_count": 58,
   "metadata": {},
   "outputs": [],
   "source": [
    "# integration functions (if necessary)\n",
    "\n",
    "# adapt integration function from PINCKNEY\n",
    "integrateJAYfunc <- function(x, y){\n",
    "    N1 = length(y)\n",
    "    area = 0\n",
    "    \n",
    "    for(j in 2:N1){\n",
    "        area = area + (x[j] - x[j-1]) * (y[j] + y[j-1]) / 2\n",
    "    }\n",
    "    return(area)\n",
    "}\n",
    "\n",
    "intgrtJAY <- function(DFtest, reg, var){\n",
    "    DF_int <- DFtest %>%\n",
    "        group_by(date) %>%\n",
    "        do(data.frame(\"value_int\" = with(.,integrateJAYfunc(x=depth, y=value)), \"reg\" = reg , \"var\" = var)) %>%\n",
    "        ungroup()\n",
    "        \n",
    "    return(DF_int)\n",
    "}"
   ]
  },
  {
   "cell_type": "code",
   "execution_count": 59,
   "metadata": {},
   "outputs": [],
   "source": [
    "# Interpolate\n",
    "interpolateDF <- function(DF,func='oce-rr'){\n",
    "    zz <- seq(0, 200, 1)\n",
    "    \n",
    "    if(func=='oce-rr'){\n",
    "        IntDF <- DF %>%\n",
    "            group_by(date) %>%\n",
    "            do(data.frame(value_int = with(.,oceApprox(depth, value, zz, \"rr\")), depth = zz)) \n",
    "        }\n",
    "    \n",
    "    return(IntDF)\n",
    "}\n",
    "\n",
    "# take MEAN of concentrations at certain depth\n",
    "meanTOdepth <- function(DF_int,type='fixed',depthFROM=0,depthTO=100){\n",
    "    DF_means <- DF_int %>%\n",
    "        group_by(date) %>% # this groups it by the run number \n",
    "        filter(depthFROM < depth & depth < depthTO) %>% # only keep values above the depth passed to function\n",
    "        summarize('mean'=mean(value_int, na.rm=T))\n",
    "\n",
    "    return(DF_means)}"
   ]
  },
  {
   "cell_type": "code",
   "execution_count": 68,
   "metadata": {},
   "outputs": [
    {
     "data": {
      "text/html": [
       "<table>\n",
       "<thead><tr><th scope=col>date</th><th scope=col>depth</th><th scope=col>key</th><th scope=col>value</th></tr></thead>\n",
       "<tbody>\n",
       "\t<tr><td>1995-11-08 </td><td> 1.5       </td><td>Temperature</td><td>27.49      </td></tr>\n",
       "\t<tr><td>1995-11-08 </td><td> 6.5       </td><td>Temperature</td><td>27.50      </td></tr>\n",
       "\t<tr><td>1995-11-08 </td><td>15.0       </td><td>Temperature</td><td>27.49      </td></tr>\n",
       "\t<tr><td>1995-11-08 </td><td>25.0       </td><td>Temperature</td><td>26.30      </td></tr>\n",
       "\t<tr><td>1995-11-08 </td><td>35.0       </td><td>Temperature</td><td>25.32      </td></tr>\n",
       "\t<tr><td>1995-11-08 </td><td>54.5       </td><td>Temperature</td><td>24.75      </td></tr>\n",
       "</tbody>\n",
       "</table>\n"
      ],
      "text/latex": [
       "\\begin{tabular}{r|llll}\n",
       " date & depth & key & value\\\\\n",
       "\\hline\n",
       "\t 1995-11-08  &  1.5        & Temperature & 27.49      \\\\\n",
       "\t 1995-11-08  &  6.5        & Temperature & 27.50      \\\\\n",
       "\t 1995-11-08  & 15.0        & Temperature & 27.49      \\\\\n",
       "\t 1995-11-08  & 25.0        & Temperature & 26.30      \\\\\n",
       "\t 1995-11-08  & 35.0        & Temperature & 25.32      \\\\\n",
       "\t 1995-11-08  & 54.5        & Temperature & 24.75      \\\\\n",
       "\\end{tabular}\n"
      ],
      "text/markdown": [
       "\n",
       "| date | depth | key | value |\n",
       "|---|---|---|---|\n",
       "| 1995-11-08  |  1.5        | Temperature | 27.49       |\n",
       "| 1995-11-08  |  6.5        | Temperature | 27.50       |\n",
       "| 1995-11-08  | 15.0        | Temperature | 27.49       |\n",
       "| 1995-11-08  | 25.0        | Temperature | 26.30       |\n",
       "| 1995-11-08  | 35.0        | Temperature | 25.32       |\n",
       "| 1995-11-08  | 54.5        | Temperature | 24.75       |\n",
       "\n"
      ],
      "text/plain": [
       "  date       depth key         value\n",
       "1 1995-11-08  1.5  Temperature 27.49\n",
       "2 1995-11-08  6.5  Temperature 27.50\n",
       "3 1995-11-08 15.0  Temperature 27.49\n",
       "4 1995-11-08 25.0  Temperature 26.30\n",
       "5 1995-11-08 35.0  Temperature 25.32\n",
       "6 1995-11-08 54.5  Temperature 24.75"
      ]
     },
     "metadata": {},
     "output_type": "display_data"
    }
   ],
   "source": [
    "Temperature <- prepdataframe('Temperature')\n",
    "head(Temperature)\n",
    "##############################\n",
    "Temperature_int <- interpolateDF(Temperature)\n",
    "##############################\n",
    "Temperature_mean <- meanTOdepth(Temperature_int, type='fixed')\n",
    "#head(Temperature_mean)\n",
    "##############################\n",
    "Temperature_atDEPTH <- meanTOdepth(Temperature_int, type='fixed', depthFROM = 100, depthTO = 150)\n",
    "#head(Temperature_atDEPTH)"
   ]
  },
  {
   "cell_type": "markdown",
   "metadata": {},
   "source": [
    "# CTD DATA"
   ]
  },
  {
   "cell_type": "code",
   "execution_count": 7,
   "metadata": {},
   "outputs": [],
   "source": [
    "# open a NetCDF file\n",
    "ctdat <- nc_open(\"Data/ctd.netcdf\")\n",
    "\n",
    "#print(niskdat)"
   ]
  },
  {
   "cell_type": "code",
   "execution_count": 8,
   "metadata": {},
   "outputs": [
    {
     "name": "stdout",
     "output_type": "stream",
     "text": [
      "[1] \"start\"\n",
      "[1] \"done reading\"\n"
     ]
    },
    {
     "data": {
      "text/html": [
       "<table>\n",
       "<thead><tr><th scope=col>Num</th><th scope=col>cruise_no</th><th scope=col>Cruise_ID1</th><th scope=col>Cruise_ID2</th><th scope=col>Year</th><th scope=col>Month</th><th scope=col>Day</th><th scope=col>Date</th><th scope=col>Latitude</th><th scope=col>Longitude</th><th scope=col>...</th><th scope=col>temp</th><th scope=col>sal</th><th scope=col>potemp</th><th scope=col>sigma_t</th><th scope=col>sigma_0</th><th scope=col>O2_ml_L</th><th scope=col>beam_cp</th><th scope=col>beam_att</th><th scope=col>fluor_CTD</th><th scope=col>fluor_chla</th></tr></thead>\n",
       "<tbody>\n",
       "\t<tr><td>1         </td><td>1         </td><td>93HG_001  </td><td>CAR-001   </td><td>1995      </td><td>11        </td><td>8         </td><td>1995-11-08</td><td>10.5      </td><td>-64.667   </td><td>...       </td><td>          </td><td>36.612    </td><td>          </td><td>          </td><td>          </td><td>          </td><td>          </td><td>          </td><td>0.173     </td><td>          </td></tr>\n",
       "\t<tr><td>2         </td><td>1         </td><td>93HG_001  </td><td>CAR-001   </td><td>1995      </td><td>11        </td><td>8         </td><td>1995-11-08</td><td>10.5      </td><td>-64.667   </td><td>...       </td><td>27.522    </td><td>36.612    </td><td>27.522    </td><td>23.764    </td><td>23.764    </td><td>3.964     </td><td>          </td><td>          </td><td>0.176     </td><td>          </td></tr>\n",
       "\t<tr><td>3         </td><td>1         </td><td>93HG_001  </td><td>CAR-001   </td><td>1995      </td><td>11        </td><td>8         </td><td>1995-11-08</td><td>10.5      </td><td>-64.667   </td><td>...       </td><td>27.489    </td><td>36.612    </td><td>27.488    </td><td>23.775    </td><td>23.775    </td><td>3.978     </td><td>          </td><td>          </td><td>0.166     </td><td>          </td></tr>\n",
       "\t<tr><td>4         </td><td>1         </td><td>93HG_001  </td><td>CAR-001   </td><td>1995      </td><td>11        </td><td>8         </td><td>1995-11-08</td><td>10.5      </td><td>-64.667   </td><td>...       </td><td>27.465    </td><td>36.614    </td><td>27.464    </td><td>23.782    </td><td>23.782    </td><td>3.984     </td><td>          </td><td>          </td><td>0.164     </td><td>          </td></tr>\n",
       "\t<tr><td>5         </td><td>1         </td><td>93HG_001  </td><td>CAR-001   </td><td>1995      </td><td>11        </td><td>8         </td><td>1995-11-08</td><td>10.5      </td><td>-64.667   </td><td>...       </td><td>27.458    </td><td>36.613    </td><td>27.456    </td><td>23.786    </td><td>23.787    </td><td>3.990     </td><td>          </td><td>          </td><td>0.170     </td><td>          </td></tr>\n",
       "\t<tr><td>6         </td><td>1         </td><td>93HG_001  </td><td>CAR-001   </td><td>1995      </td><td>11        </td><td>8         </td><td>1995-11-08</td><td>10.5      </td><td>-64.667   </td><td>...       </td><td>27.454    </td><td>36.613    </td><td>27.452    </td><td>23.787    </td><td>23.787    </td><td>3.992     </td><td>          </td><td>          </td><td>0.175     </td><td>          </td></tr>\n",
       "</tbody>\n",
       "</table>\n"
      ],
      "text/latex": [
       "\\begin{tabular}{r|llllllllllllllllllllll}\n",
       " Num & cruise\\_no & Cruise\\_ID1 & Cruise\\_ID2 & Year & Month & Day & Date & Latitude & Longitude & ... & temp & sal & potemp & sigma\\_t & sigma\\_0 & O2\\_ml\\_L & beam\\_cp & beam\\_att & fluor\\_CTD & fluor\\_chla\\\\\n",
       "\\hline\n",
       "\t 1          & 1          & 93HG\\_001 & CAR-001    & 1995       & 11         & 8          & 1995-11-08 & 10.5       & -64.667    & ...        &            & 36.612     &            &            &            &            &            &            & 0.173      &           \\\\\n",
       "\t 2          & 1          & 93HG\\_001 & CAR-001    & 1995       & 11         & 8          & 1995-11-08 & 10.5       & -64.667    & ...        & 27.522     & 36.612     & 27.522     & 23.764     & 23.764     & 3.964      &            &            & 0.176      &           \\\\\n",
       "\t 3          & 1          & 93HG\\_001 & CAR-001    & 1995       & 11         & 8          & 1995-11-08 & 10.5       & -64.667    & ...        & 27.489     & 36.612     & 27.488     & 23.775     & 23.775     & 3.978      &            &            & 0.166      &           \\\\\n",
       "\t 4          & 1          & 93HG\\_001 & CAR-001    & 1995       & 11         & 8          & 1995-11-08 & 10.5       & -64.667    & ...        & 27.465     & 36.614     & 27.464     & 23.782     & 23.782     & 3.984      &            &            & 0.164      &           \\\\\n",
       "\t 5          & 1          & 93HG\\_001 & CAR-001    & 1995       & 11         & 8          & 1995-11-08 & 10.5       & -64.667    & ...        & 27.458     & 36.613     & 27.456     & 23.786     & 23.787     & 3.990      &            &            & 0.170      &           \\\\\n",
       "\t 6          & 1          & 93HG\\_001 & CAR-001    & 1995       & 11         & 8          & 1995-11-08 & 10.5       & -64.667    & ...        & 27.454     & 36.613     & 27.452     & 23.787     & 23.787     & 3.992      &            &            & 0.175      &           \\\\\n",
       "\\end{tabular}\n"
      ],
      "text/markdown": [
       "\n",
       "| Num | cruise_no | Cruise_ID1 | Cruise_ID2 | Year | Month | Day | Date | Latitude | Longitude | ... | temp | sal | potemp | sigma_t | sigma_0 | O2_ml_L | beam_cp | beam_att | fluor_CTD | fluor_chla |\n",
       "|---|---|---|---|---|---|---|---|---|---|---|---|---|---|---|---|---|---|---|---|---|\n",
       "| 1          | 1          | 93HG_001   | CAR-001    | 1995       | 11         | 8          | 1995-11-08 | 10.5       | -64.667    | ...        |            | 36.612     |            |            |            |            |            |            | 0.173      |            |\n",
       "| 2          | 1          | 93HG_001   | CAR-001    | 1995       | 11         | 8          | 1995-11-08 | 10.5       | -64.667    | ...        | 27.522     | 36.612     | 27.522     | 23.764     | 23.764     | 3.964      |            |            | 0.176      |            |\n",
       "| 3          | 1          | 93HG_001   | CAR-001    | 1995       | 11         | 8          | 1995-11-08 | 10.5       | -64.667    | ...        | 27.489     | 36.612     | 27.488     | 23.775     | 23.775     | 3.978      |            |            | 0.166      |            |\n",
       "| 4          | 1          | 93HG_001   | CAR-001    | 1995       | 11         | 8          | 1995-11-08 | 10.5       | -64.667    | ...        | 27.465     | 36.614     | 27.464     | 23.782     | 23.782     | 3.984      |            |            | 0.164      |            |\n",
       "| 5          | 1          | 93HG_001   | CAR-001    | 1995       | 11         | 8          | 1995-11-08 | 10.5       | -64.667    | ...        | 27.458     | 36.613     | 27.456     | 23.786     | 23.787     | 3.990      |            |            | 0.170      |            |\n",
       "| 6          | 1          | 93HG_001   | CAR-001    | 1995       | 11         | 8          | 1995-11-08 | 10.5       | -64.667    | ...        | 27.454     | 36.613     | 27.452     | 23.787     | 23.787     | 3.992      |            |            | 0.175      |            |\n",
       "\n"
      ],
      "text/plain": [
       "  Num cruise_no Cruise_ID1 Cruise_ID2 Year Month Day Date       Latitude\n",
       "1 1   1         93HG_001   CAR-001    1995 11    8   1995-11-08 10.5    \n",
       "2 2   1         93HG_001   CAR-001    1995 11    8   1995-11-08 10.5    \n",
       "3 3   1         93HG_001   CAR-001    1995 11    8   1995-11-08 10.5    \n",
       "4 4   1         93HG_001   CAR-001    1995 11    8   1995-11-08 10.5    \n",
       "5 5   1         93HG_001   CAR-001    1995 11    8   1995-11-08 10.5    \n",
       "6 6   1         93HG_001   CAR-001    1995 11    8   1995-11-08 10.5    \n",
       "  Longitude ... temp   sal    potemp sigma_t sigma_0 O2_ml_L beam_cp beam_att\n",
       "1 -64.667   ...        36.612                                                \n",
       "2 -64.667   ... 27.522 36.612 27.522 23.764  23.764  3.964                   \n",
       "3 -64.667   ... 27.489 36.612 27.488 23.775  23.775  3.978                   \n",
       "4 -64.667   ... 27.465 36.614 27.464 23.782  23.782  3.984                   \n",
       "5 -64.667   ... 27.458 36.613 27.456 23.786  23.787  3.990                   \n",
       "6 -64.667   ... 27.454 36.613 27.452 23.787  23.787  3.992                   \n",
       "  fluor_CTD fluor_chla\n",
       "1 0.173               \n",
       "2 0.176               \n",
       "3 0.166               \n",
       "4 0.164               \n",
       "5 0.170               \n",
       "6 0.175               "
      ]
     },
     "metadata": {},
     "output_type": "display_data"
    }
   ],
   "source": [
    "ctdat_df <- data.frame(\"Num\" = 1:ctdat$dim$unlimited$len)\n",
    "print('start')\n",
    "for(i in 1:ctdat$nvars){\n",
    "    #print(i)\n",
    "    ctdat_df[paste(attributes(ctdat$var)$names[i])] <- ncvar_get(ctdat, attributes(ctdat$var)$names[i])\n",
    "}\n",
    "print('done reading')\n",
    "head(ctdat_df)"
   ]
  },
  {
   "cell_type": "code",
   "execution_count": 9,
   "metadata": {},
   "outputs": [
    {
     "name": "stdout",
     "output_type": "stream",
     "text": [
      "Num cruise_no Cruise_ID1 Cruise_ID2 Year Month Day Date Latitude Longitude press depth temp sal potemp sigma_t sigma_0 O2_ml_L beam_cp beam_att fluor_CTD fluor_chla"
     ]
    }
   ],
   "source": [
    "cat(names(ctdat_df))"
   ]
  },
  {
   "cell_type": "code",
   "execution_count": 10,
   "metadata": {},
   "outputs": [],
   "source": [
    "ctdat_df$date <- as.Date(ctdat_df$Date)\n",
    "\n",
    "ctdat_df$press <- as.numeric(ctdat_df$press)\n",
    "ctdat_df$depth <- as.numeric(ctdat_df$depth)\n",
    "ctdat_df$temp <- as.numeric(ctdat_df$temp)\n",
    "ctdat_df$sal <- as.numeric(ctdat_df$sal)\n",
    "ctdat_df$potemp <- as.numeric(ctdat_df$potemp) \n",
    "ctdat_df$sigma_t <- as.numeric(ctdat_df$sigma_t)\n",
    "ctdat_df$sigma_0 <- as.numeric(ctdat_df$sigma_0)\n",
    "ctdat_df$O2_ml_L <- as.numeric(ctdat_df$O2_ml_L)\n",
    "ctdat_df$beam_cp <- as.numeric(ctdat_df$beam_cp)\n",
    "ctdat_df$beam_att <- as.numeric(ctdat_df$beam_att)\n",
    "ctdat_df$fluor_CTD <- as.numeric(ctdat_df$fluor_CTD)\n",
    "ctdat_df$fluor_chla <- as.numeric(ctdat_df$fluor_chla)"
   ]
  },
  {
   "cell_type": "code",
   "execution_count": 11,
   "metadata": {},
   "outputs": [],
   "source": [
    "ctdat_df[ctdat_df>10000000000]=NA"
   ]
  },
  {
   "cell_type": "code",
   "execution_count": 61,
   "metadata": {},
   "outputs": [],
   "source": [
    "CTDx258 <- ctdat_df %>%\n",
    "  group_by(date) %>% # this groups it by the run number \n",
    "  #filter(press > 8) %>% # only take values below 8 meters depth to minimze influence of surface anomalies\n",
    "  mutate(belowmld = sigma_t >= 25.8) %>% # create new column that gives \"True\" for values with sigma t higher than 25.8\n",
    "  filter(belowmld == T) %>% # only take \"True\" values \n",
    "  slice(1) %>% # takes the first occurrence\n",
    "  ungroup() #removes grouping"
   ]
  },
  {
   "cell_type": "markdown",
   "metadata": {},
   "source": [
    "# HPLC Data"
   ]
  },
  {
   "cell_type": "markdown",
   "metadata": {},
   "source": [
    "## TOTAL CHLA"
   ]
  },
  {
   "cell_type": "code",
   "execution_count": 3,
   "metadata": {},
   "outputs": [],
   "source": [
    "TotChlA <- read.csv(\"CARIACO Data Chl a Contour Plot.csv\")\n",
    "# units: ng l^-1"
   ]
  },
  {
   "cell_type": "code",
   "execution_count": 4,
   "metadata": {},
   "outputs": [
    {
     "data": {
      "text/html": [
       "<table>\n",
       "<thead><tr><th></th><th scope=col>Time.1</th><th scope=col>Depth.1</th><th scope=col>Chla.1</th><th scope=col>Time.2</th><th scope=col>Depth.2</th><th scope=col>Chla.2</th></tr></thead>\n",
       "<tbody>\n",
       "\t<tr><th scope=row>486</th><td>  </td><td>NA</td><td>NA</td><td>  </td><td>NA</td><td>NA</td></tr>\n",
       "\t<tr><th scope=row>487</th><td>  </td><td>NA</td><td>NA</td><td>  </td><td>NA</td><td>NA</td></tr>\n",
       "\t<tr><th scope=row>488</th><td>  </td><td>NA</td><td>NA</td><td>  </td><td>NA</td><td>NA</td></tr>\n",
       "\t<tr><th scope=row>489</th><td>  </td><td>NA</td><td>NA</td><td>  </td><td>NA</td><td>NA</td></tr>\n",
       "\t<tr><th scope=row>490</th><td>  </td><td>NA</td><td>NA</td><td>  </td><td>NA</td><td>NA</td></tr>\n",
       "\t<tr><th scope=row>491</th><td>  </td><td>NA</td><td>NA</td><td>  </td><td>NA</td><td>NA</td></tr>\n",
       "</tbody>\n",
       "</table>\n"
      ],
      "text/latex": [
       "\\begin{tabular}{r|llllll}\n",
       "  & Time.1 & Depth.1 & Chla.1 & Time.2 & Depth.2 & Chla.2\\\\\n",
       "\\hline\n",
       "\t486 &    & NA & NA &    & NA & NA\\\\\n",
       "\t487 &    & NA & NA &    & NA & NA\\\\\n",
       "\t488 &    & NA & NA &    & NA & NA\\\\\n",
       "\t489 &    & NA & NA &    & NA & NA\\\\\n",
       "\t490 &    & NA & NA &    & NA & NA\\\\\n",
       "\t491 &    & NA & NA &    & NA & NA\\\\\n",
       "\\end{tabular}\n"
      ],
      "text/markdown": [
       "\n",
       "| <!--/--> | Time.1 | Depth.1 | Chla.1 | Time.2 | Depth.2 | Chla.2 |\n",
       "|---|---|---|---|---|---|---|\n",
       "| 486 |    | NA | NA |    | NA | NA |\n",
       "| 487 |    | NA | NA |    | NA | NA |\n",
       "| 488 |    | NA | NA |    | NA | NA |\n",
       "| 489 |    | NA | NA |    | NA | NA |\n",
       "| 490 |    | NA | NA |    | NA | NA |\n",
       "| 491 |    | NA | NA |    | NA | NA |\n",
       "\n"
      ],
      "text/plain": [
       "    Time.1 Depth.1 Chla.1 Time.2 Depth.2 Chla.2\n",
       "486        NA      NA            NA      NA    \n",
       "487        NA      NA            NA      NA    \n",
       "488        NA      NA            NA      NA    \n",
       "489        NA      NA            NA      NA    \n",
       "490        NA      NA            NA      NA    \n",
       "491        NA      NA            NA      NA    "
      ]
     },
     "metadata": {},
     "output_type": "display_data"
    }
   ],
   "source": [
    "tail(TotChlA)"
   ]
  },
  {
   "cell_type": "code",
   "execution_count": 6,
   "metadata": {},
   "outputs": [],
   "source": [
    "TotChlA$Date.1 <- as.Date(as.character(TotChlA$Time.1), format=\"%m/%d/%y\")\n",
    "TotChlA$Date.2 <- as.Date(as.character(TotChlA$Time.2), format=\"%m/%d/%y\")"
   ]
  },
  {
   "cell_type": "code",
   "execution_count": 7,
   "metadata": {},
   "outputs": [],
   "source": [
    "TCHLA1 <- data.frame(Date = TotChlA$Date.1, depth=TotChlA$Depth.1, Tchla = TotChlA$Chla.1)  \n",
    "TCHLA2 <- data.frame(Date = TotChlA$Date.2, depth=TotChlA$Depth.2, Tchla = TotChlA$Chla.2) "
   ]
  },
  {
   "cell_type": "code",
   "execution_count": 8,
   "metadata": {},
   "outputs": [],
   "source": [
    "TCHLATDF <- rbind(TCHLA1, TCHLA2)"
   ]
  },
  {
   "cell_type": "code",
   "execution_count": 10,
   "metadata": {},
   "outputs": [
    {
     "data": {
      "text/html": [
       "<table>\n",
       "<thead><tr><th scope=col>Date</th><th scope=col>depth</th><th scope=col>Tchla</th></tr></thead>\n",
       "<tbody>\n",
       "\t<tr><td>1995-12-14</td><td> 1        </td><td>107       </td></tr>\n",
       "\t<tr><td>1995-12-14</td><td> 7        </td><td>139       </td></tr>\n",
       "\t<tr><td>1995-12-14</td><td>15        </td><td>163       </td></tr>\n",
       "\t<tr><td>1995-12-14</td><td>25        </td><td>408       </td></tr>\n",
       "\t<tr><td>1995-12-14</td><td>35        </td><td>241       </td></tr>\n",
       "\t<tr><td>1995-12-14</td><td>55        </td><td> 88       </td></tr>\n",
       "</tbody>\n",
       "</table>\n"
      ],
      "text/latex": [
       "\\begin{tabular}{r|lll}\n",
       " Date & depth & Tchla\\\\\n",
       "\\hline\n",
       "\t 1995-12-14 &  1         & 107       \\\\\n",
       "\t 1995-12-14 &  7         & 139       \\\\\n",
       "\t 1995-12-14 & 15         & 163       \\\\\n",
       "\t 1995-12-14 & 25         & 408       \\\\\n",
       "\t 1995-12-14 & 35         & 241       \\\\\n",
       "\t 1995-12-14 & 55         &  88       \\\\\n",
       "\\end{tabular}\n"
      ],
      "text/markdown": [
       "\n",
       "| Date | depth | Tchla |\n",
       "|---|---|---|\n",
       "| 1995-12-14 |  1         | 107        |\n",
       "| 1995-12-14 |  7         | 139        |\n",
       "| 1995-12-14 | 15         | 163        |\n",
       "| 1995-12-14 | 25         | 408        |\n",
       "| 1995-12-14 | 35         | 241        |\n",
       "| 1995-12-14 | 55         |  88        |\n",
       "\n"
      ],
      "text/plain": [
       "  Date       depth Tchla\n",
       "1 1995-12-14  1    107  \n",
       "2 1995-12-14  7    139  \n",
       "3 1995-12-14 15    163  \n",
       "4 1995-12-14 25    408  \n",
       "5 1995-12-14 35    241  \n",
       "6 1995-12-14 55     88  "
      ]
     },
     "metadata": {},
     "output_type": "display_data"
    }
   ],
   "source": [
    "head(TCHLATDF)"
   ]
  },
  {
   "cell_type": "markdown",
   "metadata": {},
   "source": [
    "## FT CHLA"
   ]
  },
  {
   "cell_type": "code",
   "execution_count": 11,
   "metadata": {},
   "outputs": [],
   "source": [
    "PinckINTchla <- read.csv(\"IntegratedValues_PINCKNEY.csv\", dec=',', sep=';')"
   ]
  },
  {
   "cell_type": "code",
   "execution_count": 20,
   "metadata": {},
   "outputs": [
    {
     "data": {
      "text/html": [
       "<table>\n",
       "<thead><tr><th scope=col>Year</th><th scope=col>Month</th><th scope=col>Day</th><th scope=col>Date</th><th scope=col>Depth</th><th scope=col>Date.1</th><th scope=col>Tchla</th><th scope=col>Prasino3</th><th scope=col>Dino1</th><th scope=col>Crypto1</th><th scope=col>Hapto6</th><th scope=col>Chloro1</th><th scope=col>Cyano4</th><th scope=col>Diatom1</th></tr></thead>\n",
       "<tbody>\n",
       "\t<tr><td>1995      </td><td>Dec       </td><td>14        </td><td>1995-12-14</td><td>0 - 55 m  </td><td>14-Dec-95 </td><td> 11.34    </td><td>1.93      </td><td>0.85      </td><td>0.66      </td><td> 2.13     </td><td> 0.00     </td><td>0.66      </td><td> 5.10     </td></tr>\n",
       "\t<tr><td>1996      </td><td>Jan       </td><td>13        </td><td>1996-01-13</td><td>0 - 55 m  </td><td>13. Jan 96</td><td> 41.94    </td><td>0.96      </td><td>6.23      </td><td>1.08      </td><td> 2.55     </td><td> 0.59     </td><td>0.40      </td><td>27.86     </td></tr>\n",
       "\t<tr><td>1996      </td><td>Feb       </td><td>14        </td><td>1996-02-14</td><td>0 - 55 m  </td><td>14. Feb 96</td><td> 25.44    </td><td>1.08      </td><td>1.79      </td><td>1.81      </td><td> 1.79     </td><td> 0.00     </td><td>0.25      </td><td>18.14     </td></tr>\n",
       "\t<tr><td>1996      </td><td>0         </td><td>13        </td><td>1996-03-13</td><td>0 - 55 m  </td><td>13-Mar-96 </td><td> 20.21    </td><td>0.37      </td><td>1.80      </td><td>0.92      </td><td> 1.84     </td><td> 0.09     </td><td>0.25      </td><td>14.23     </td></tr>\n",
       "\t<tr><td>1996      </td><td>Apr       </td><td>17        </td><td>1996-04-17</td><td>0 - 55 m  </td><td>17. Apr 96</td><td>167.78    </td><td>0.84      </td><td>2.72      </td><td>2.76      </td><td>50.01     </td><td>11.79     </td><td>1.35      </td><td>98.30     </td></tr>\n",
       "\t<tr><td>1996      </td><td>May       </td><td>10        </td><td>1996-05-10</td><td>0 - 55 m  </td><td>10-May-96 </td><td> 42.38    </td><td>0.92      </td><td>0.01      </td><td>0.22      </td><td> 9.38     </td><td> 1.03     </td><td>0.53      </td><td>30.14     </td></tr>\n",
       "</tbody>\n",
       "</table>\n"
      ],
      "text/latex": [
       "\\begin{tabular}{r|llllllllllllll}\n",
       " Year & Month & Day & Date & Depth & Date.1 & Tchla & Prasino3 & Dino1 & Crypto1 & Hapto6 & Chloro1 & Cyano4 & Diatom1\\\\\n",
       "\\hline\n",
       "\t 1995       & Dec        & 14         & 1995-12-14 & 0 - 55 m   & 14-Dec-95  &  11.34     & 1.93       & 0.85       & 0.66       &  2.13      &  0.00      & 0.66       &  5.10     \\\\\n",
       "\t 1996       & Jan        & 13         & 1996-01-13 & 0 - 55 m   & 13. Jan 96 &  41.94     & 0.96       & 6.23       & 1.08       &  2.55      &  0.59      & 0.40       & 27.86     \\\\\n",
       "\t 1996       & Feb        & 14         & 1996-02-14 & 0 - 55 m   & 14. Feb 96 &  25.44     & 1.08       & 1.79       & 1.81       &  1.79      &  0.00      & 0.25       & 18.14     \\\\\n",
       "\t 1996       & 0          & 13         & 1996-03-13 & 0 - 55 m   & 13-Mar-96  &  20.21     & 0.37       & 1.80       & 0.92       &  1.84      &  0.09      & 0.25       & 14.23     \\\\\n",
       "\t 1996       & Apr        & 17         & 1996-04-17 & 0 - 55 m   & 17. Apr 96 & 167.78     & 0.84       & 2.72       & 2.76       & 50.01      & 11.79      & 1.35       & 98.30     \\\\\n",
       "\t 1996       & May        & 10         & 1996-05-10 & 0 - 55 m   & 10-May-96  &  42.38     & 0.92       & 0.01       & 0.22       &  9.38      &  1.03      & 0.53       & 30.14     \\\\\n",
       "\\end{tabular}\n"
      ],
      "text/markdown": [
       "\n",
       "| Year | Month | Day | Date | Depth | Date.1 | Tchla | Prasino3 | Dino1 | Crypto1 | Hapto6 | Chloro1 | Cyano4 | Diatom1 |\n",
       "|---|---|---|---|---|---|---|---|---|---|---|---|---|---|\n",
       "| 1995       | Dec        | 14         | 1995-12-14 | 0 - 55 m   | 14-Dec-95  |  11.34     | 1.93       | 0.85       | 0.66       |  2.13      |  0.00      | 0.66       |  5.10      |\n",
       "| 1996       | Jan        | 13         | 1996-01-13 | 0 - 55 m   | 13. Jan 96 |  41.94     | 0.96       | 6.23       | 1.08       |  2.55      |  0.59      | 0.40       | 27.86      |\n",
       "| 1996       | Feb        | 14         | 1996-02-14 | 0 - 55 m   | 14. Feb 96 |  25.44     | 1.08       | 1.79       | 1.81       |  1.79      |  0.00      | 0.25       | 18.14      |\n",
       "| 1996       | 0          | 13         | 1996-03-13 | 0 - 55 m   | 13-Mar-96  |  20.21     | 0.37       | 1.80       | 0.92       |  1.84      |  0.09      | 0.25       | 14.23      |\n",
       "| 1996       | Apr        | 17         | 1996-04-17 | 0 - 55 m   | 17. Apr 96 | 167.78     | 0.84       | 2.72       | 2.76       | 50.01      | 11.79      | 1.35       | 98.30      |\n",
       "| 1996       | May        | 10         | 1996-05-10 | 0 - 55 m   | 10-May-96  |  42.38     | 0.92       | 0.01       | 0.22       |  9.38      |  1.03      | 0.53       | 30.14      |\n",
       "\n"
      ],
      "text/plain": [
       "  Year Month Day Date       Depth    Date.1     Tchla  Prasino3 Dino1 Crypto1\n",
       "1 1995 Dec   14  1995-12-14 0 - 55 m 14-Dec-95   11.34 1.93     0.85  0.66   \n",
       "2 1996 Jan   13  1996-01-13 0 - 55 m 13. Jan 96  41.94 0.96     6.23  1.08   \n",
       "3 1996 Feb   14  1996-02-14 0 - 55 m 14. Feb 96  25.44 1.08     1.79  1.81   \n",
       "4 1996 0     13  1996-03-13 0 - 55 m 13-Mar-96   20.21 0.37     1.80  0.92   \n",
       "5 1996 Apr   17  1996-04-17 0 - 55 m 17. Apr 96 167.78 0.84     2.72  2.76   \n",
       "6 1996 May   10  1996-05-10 0 - 55 m 10-May-96   42.38 0.92     0.01  0.22   \n",
       "  Hapto6 Chloro1 Cyano4 Diatom1\n",
       "1  2.13   0.00   0.66    5.10  \n",
       "2  2.55   0.59   0.40   27.86  \n",
       "3  1.79   0.00   0.25   18.14  \n",
       "4  1.84   0.09   0.25   14.23  \n",
       "5 50.01  11.79   1.35   98.30  \n",
       "6  9.38   1.03   0.53   30.14  "
      ]
     },
     "metadata": {},
     "output_type": "display_data"
    }
   ],
   "source": [
    "head(PinckINTchla)\n",
    "# units: mg m^2"
   ]
  },
  {
   "cell_type": "code",
   "execution_count": 13,
   "metadata": {},
   "outputs": [],
   "source": [
    "PinckINTchla$Date <- as.Date(as.character(PinckINTchla$Date), format=\"%m.%d.%y\")"
   ]
  },
  {
   "cell_type": "code",
   "execution_count": 14,
   "metadata": {},
   "outputs": [],
   "source": [
    "PINT1 <- PinckINTchla[PinckINTchla$Depth == \"0 - 55 m\",]\n",
    "PINT2 <- PinckINTchla[PinckINTchla$Depth == \"55 - 100 m\",]"
   ]
  },
  {
   "cell_type": "code",
   "execution_count": 15,
   "metadata": {},
   "outputs": [],
   "source": [
    "PINT <- merge(PINT1,PINT2, by=\"Date\")"
   ]
  },
  {
   "cell_type": "code",
   "execution_count": 16,
   "metadata": {},
   "outputs": [],
   "source": [
    "PINT$Tchla <- PINT$Tchla.x + PINT$Tchla.y\n",
    "PINT$Prasino3 <- PINT$Prasino3.x + PINT$Prasino3.y\n",
    "PINT$Crypto1 <- PINT$Crypto1.x + PINT$Crypto1.y\n",
    "PINT$Hapto6 <- PINT$Hapto6.x + PINT$Hapto6.y\n",
    "PINT$Chloro1 <- PINT$Chloro1.x + PINT$Chloro1.y\n",
    "PINT$Cyano4 <- PINT$Cyano4.x + PINT$Cyano4.y\n",
    "PINT$Diatom1 <- PINT$Diatom1.x + PINT$Diatom1.y"
   ]
  },
  {
   "cell_type": "code",
   "execution_count": 17,
   "metadata": {},
   "outputs": [],
   "source": [
    "Tchla    <- data.frame('Date'=PINT$Date, 'val'=PINT$Tchla,   'spec'='Tchla')\n",
    "Prasino3 <- data.frame('Date'=PINT$Date, 'val'=PINT$Prasino3,'spec'='Prasino3')\n",
    "Crypto1  <- data.frame('Date'=PINT$Date, 'val'=PINT$Crypto1, 'spec'='Crypto1')\n",
    "Hapto6   <- data.frame('Date'=PINT$Date, 'val'=PINT$Hapto6,  'spec'='Hapto6')\n",
    "Chloro1  <- data.frame('Date'=PINT$Date, 'val'=PINT$Chloro1, 'spec'='Chloro1')\n",
    "Cyano4   <- data.frame('Date'=PINT$Date, 'val'=PINT$Cyano4,  'spec'='Cyano4')\n",
    "Diatom1  <- data.frame('Date'=PINT$Date, 'val'=PINT$Diatom1, 'spec'='Diatom1')"
   ]
  },
  {
   "cell_type": "code",
   "execution_count": 18,
   "metadata": {},
   "outputs": [],
   "source": [
    "PINTDF <- rbind(Tchla, Prasino3, Crypto1, Hapto6, Chloro1, Cyano4, Diatom1)"
   ]
  },
  {
   "cell_type": "code",
   "execution_count": 19,
   "metadata": {},
   "outputs": [
    {
     "data": {
      "text/html": [
       "<table>\n",
       "<thead><tr><th scope=col>Date</th><th scope=col>val</th><th scope=col>spec</th></tr></thead>\n",
       "<tbody>\n",
       "\t<tr><td>1995-12-14</td><td> 13.54    </td><td>Tchla     </td></tr>\n",
       "\t<tr><td>1996-01-13</td><td> 44.21    </td><td>Tchla     </td></tr>\n",
       "\t<tr><td>1996-02-14</td><td> 28.77    </td><td>Tchla     </td></tr>\n",
       "\t<tr><td>1996-03-13</td><td> 21.26    </td><td>Tchla     </td></tr>\n",
       "\t<tr><td>1996-04-17</td><td>171.92    </td><td>Tchla     </td></tr>\n",
       "\t<tr><td>1996-05-10</td><td> 44.24    </td><td>Tchla     </td></tr>\n",
       "</tbody>\n",
       "</table>\n"
      ],
      "text/latex": [
       "\\begin{tabular}{r|lll}\n",
       " Date & val & spec\\\\\n",
       "\\hline\n",
       "\t 1995-12-14 &  13.54     & Tchla     \\\\\n",
       "\t 1996-01-13 &  44.21     & Tchla     \\\\\n",
       "\t 1996-02-14 &  28.77     & Tchla     \\\\\n",
       "\t 1996-03-13 &  21.26     & Tchla     \\\\\n",
       "\t 1996-04-17 & 171.92     & Tchla     \\\\\n",
       "\t 1996-05-10 &  44.24     & Tchla     \\\\\n",
       "\\end{tabular}\n"
      ],
      "text/markdown": [
       "\n",
       "| Date | val | spec |\n",
       "|---|---|---|\n",
       "| 1995-12-14 |  13.54     | Tchla      |\n",
       "| 1996-01-13 |  44.21     | Tchla      |\n",
       "| 1996-02-14 |  28.77     | Tchla      |\n",
       "| 1996-03-13 |  21.26     | Tchla      |\n",
       "| 1996-04-17 | 171.92     | Tchla      |\n",
       "| 1996-05-10 |  44.24     | Tchla      |\n",
       "\n"
      ],
      "text/plain": [
       "  Date       val    spec \n",
       "1 1995-12-14  13.54 Tchla\n",
       "2 1996-01-13  44.21 Tchla\n",
       "3 1996-02-14  28.77 Tchla\n",
       "4 1996-03-13  21.26 Tchla\n",
       "5 1996-04-17 171.92 Tchla\n",
       "6 1996-05-10  44.24 Tchla"
      ]
     },
     "metadata": {},
     "output_type": "display_data"
    }
   ],
   "source": [
    "head(PINTDF)"
   ]
  },
  {
   "cell_type": "code",
   "execution_count": 11,
   "metadata": {},
   "outputs": [],
   "source": [
    "#write.csv(PINTDF, file = \"PINTDF_integratedChlorophyll.csv\")"
   ]
  },
  {
   "cell_type": "markdown",
   "metadata": {},
   "source": [
    "# ZOOPLANKTON DATA"
   ]
  },
  {
   "cell_type": "code",
   "execution_count": null,
   "metadata": {},
   "outputs": [],
   "source": [
    "\"zooplankton.netcdf\""
   ]
  },
  {
   "cell_type": "markdown",
   "metadata": {},
   "source": [
    "# EXPORT FLUX"
   ]
  },
  {
   "cell_type": "code",
   "execution_count": null,
   "metadata": {},
   "outputs": [],
   "source": [
    "\"Sediment_Trap.netcdf\"\n",
    "\"std_car_TRAPflux\""
   ]
  }
 ],
 "metadata": {
  "kernelspec": {
   "display_name": "R",
   "language": "R",
   "name": "ir"
  },
  "language_info": {
   "codemirror_mode": "r",
   "file_extension": ".r",
   "mimetype": "text/x-r-source",
   "name": "R",
   "pygments_lexer": "r",
   "version": "3.6.1"
  }
 },
 "nbformat": 4,
 "nbformat_minor": 4
}
