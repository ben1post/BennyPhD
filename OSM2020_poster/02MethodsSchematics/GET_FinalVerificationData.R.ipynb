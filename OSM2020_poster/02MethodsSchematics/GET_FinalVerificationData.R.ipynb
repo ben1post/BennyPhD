{
 "cells": [
  {
   "cell_type": "markdown",
   "metadata": {},
   "source": [
    "# VERIFICATION"
   ]
  },
  {
   "cell_type": "markdown",
   "metadata": {},
   "source": [
    "# So Idea:\n",
    "- get typical (aggregated) verification data for both regimes (100m box model structure)\n",
    "- instead of aggregating to one year, get verification over 5 years per each regime\n"
   ]
  },
  {
   "cell_type": "code",
   "execution_count": null,
   "metadata": {},
   "outputs": [],
   "source": []
  },
  {
   "cell_type": "markdown",
   "metadata": {},
   "source": [
    "# now what to do first: \n",
    "1. get necessary raw data, \n",
    "2. then integrate over entire time-series & depth (if necessary)\n",
    "3. create aggregated forcing raw csvs for model (simply include proper Date information, in addition to yday)\n",
    "4. date truncation & aggregation can happen in python code of model!"
   ]
  },
  {
   "cell_type": "code",
   "execution_count": 1,
   "metadata": {},
   "outputs": [],
   "source": [
    "### create one large file with all possible verification? (depends on where data is from, don't overcomplicate)"
   ]
  },
  {
   "cell_type": "markdown",
   "metadata": {},
   "source": [
    "Let's write up what I need:\n",
    "  > 1. N_box, NH4_box - mean(100m)\n",
    "  > 2. Si_box\n",
    "  > 3. P_box\n",
    "4. HPLC - integrated(100m) # possibly have 0-55 and 55-100 separated of potential later analysis (but then other compenents might need the same? no?)\n",
    "  > 4. FluorChla  - integrated(100m)\n",
    "5. Zooplankton data\n",
    "6. Export Flux (!)\n",
    "  > 7. Primary Production (?) [NISKIN]\n",
    "  > 8. PN for Detritus comparison (?) (maybe also POC, DOC, whatever makes sense, or just all of em)\n",
    "  > 9. Euphotic Zone depth\n",
    "10. \n"
   ]
  },
  {
   "cell_type": "code",
   "execution_count": 2,
   "metadata": {},
   "outputs": [],
   "source": [
    "# most important thing is not number of datasets, \n",
    "# but they they are structured and named conservatively, for easy reuse of functions"
   ]
  },
  {
   "cell_type": "markdown",
   "metadata": {},
   "source": [
    "# NISKIN DATA"
   ]
  },
  {
   "cell_type": "code",
   "execution_count": 3,
   "metadata": {},
   "outputs": [
    {
     "name": "stderr",
     "output_type": "stream",
     "text": [
      "Loading required package: ncdf4\n",
      "Loading required package: cowplot\n",
      "Registered S3 methods overwritten by 'ggplot2':\n",
      "  method         from \n",
      "  [.quosures     rlang\n",
      "  c.quosures     rlang\n",
      "  print.quosures rlang\n",
      "\n",
      "********************************************************\n",
      "Note: As of version 1.0.0, cowplot does not change the\n",
      "  default ggplot2 theme anymore. To recover the previous\n",
      "  behavior, execute:\n",
      "  theme_set(theme_cowplot())\n",
      "********************************************************\n",
      "\n",
      "Loading required package: tidyverse\n",
      "Registered S3 method overwritten by 'rvest':\n",
      "  method            from\n",
      "  read_xml.response xml2\n",
      "── Attaching packages ─────────────────────────────────────── tidyverse 1.2.1 ──\n",
      "✔ ggplot2 3.1.1       ✔ purrr   0.3.3  \n",
      "✔ tibble  2.1.1       ✔ dplyr   0.8.0.1\n",
      "✔ tidyr   0.8.3       ✔ stringr 1.4.0  \n",
      "✔ readr   1.3.1       ✔ forcats 0.4.0  \n",
      "── Conflicts ────────────────────────────────────────── tidyverse_conflicts() ──\n",
      "✖ dplyr::filter() masks stats::filter()\n",
      "✖ dplyr::lag()    masks stats::lag()\n",
      "Loading required package: oce\n",
      "Loading required package: testthat\n",
      "\n",
      "Attaching package: ‘testthat’\n",
      "\n",
      "The following object is masked from ‘package:dplyr’:\n",
      "\n",
      "    matches\n",
      "\n",
      "The following object is masked from ‘package:purrr’:\n",
      "\n",
      "    is_null\n",
      "\n",
      "Loading required package: gsw\n",
      "Loading required package: lubridate\n"
     ]
    }
   ],
   "source": [
    "require(ncdf4, warn.conflicts = FALSE);\n",
    "require(cowplot, warn.conflicts = FALSE);\n",
    "require(tidyverse, warn.conflicts = FALSE);\n",
    "require(oce, warn.conflicts = FALSE);\n",
    "\n",
    "\n",
    "require(lubridate, warn.conflicts = FALSE);"
   ]
  },
  {
   "cell_type": "markdown",
   "metadata": {},
   "source": [
    " # ALL Niskin Data created in FinalForcingData script!"
   ]
  },
  {
   "cell_type": "code",
   "execution_count": null,
   "metadata": {},
   "outputs": [],
   "source": []
  },
  {
   "cell_type": "markdown",
   "metadata": {},
   "source": [
    "# CTD DATA"
   ]
  },
  {
   "cell_type": "code",
   "execution_count": null,
   "metadata": {},
   "outputs": [],
   "source": []
  },
  {
   "cell_type": "markdown",
   "metadata": {},
   "source": [
    "# HPLC Data"
   ]
  },
  {
   "cell_type": "markdown",
   "metadata": {},
   "source": [
    "## TOTAL CHLA"
   ]
  },
  {
   "cell_type": "code",
   "execution_count": 4,
   "metadata": {},
   "outputs": [],
   "source": [
    "TotChlA <- read.csv(\"CARIACO Data Chl a Contour Plot.csv\")\n",
    "# units: ng l^-1"
   ]
  },
  {
   "cell_type": "code",
   "execution_count": 5,
   "metadata": {},
   "outputs": [
    {
     "data": {
      "text/html": [
       "<table>\n",
       "<thead><tr><th></th><th scope=col>Time.1</th><th scope=col>Depth.1</th><th scope=col>Chla.1</th><th scope=col>Time.2</th><th scope=col>Depth.2</th><th scope=col>Chla.2</th></tr></thead>\n",
       "<tbody>\n",
       "\t<tr><th scope=row>486</th><td>  </td><td>NA</td><td>NA</td><td>  </td><td>NA</td><td>NA</td></tr>\n",
       "\t<tr><th scope=row>487</th><td>  </td><td>NA</td><td>NA</td><td>  </td><td>NA</td><td>NA</td></tr>\n",
       "\t<tr><th scope=row>488</th><td>  </td><td>NA</td><td>NA</td><td>  </td><td>NA</td><td>NA</td></tr>\n",
       "\t<tr><th scope=row>489</th><td>  </td><td>NA</td><td>NA</td><td>  </td><td>NA</td><td>NA</td></tr>\n",
       "\t<tr><th scope=row>490</th><td>  </td><td>NA</td><td>NA</td><td>  </td><td>NA</td><td>NA</td></tr>\n",
       "\t<tr><th scope=row>491</th><td>  </td><td>NA</td><td>NA</td><td>  </td><td>NA</td><td>NA</td></tr>\n",
       "</tbody>\n",
       "</table>\n"
      ],
      "text/latex": [
       "\\begin{tabular}{r|llllll}\n",
       "  & Time.1 & Depth.1 & Chla.1 & Time.2 & Depth.2 & Chla.2\\\\\n",
       "\\hline\n",
       "\t486 &    & NA & NA &    & NA & NA\\\\\n",
       "\t487 &    & NA & NA &    & NA & NA\\\\\n",
       "\t488 &    & NA & NA &    & NA & NA\\\\\n",
       "\t489 &    & NA & NA &    & NA & NA\\\\\n",
       "\t490 &    & NA & NA &    & NA & NA\\\\\n",
       "\t491 &    & NA & NA &    & NA & NA\\\\\n",
       "\\end{tabular}\n"
      ],
      "text/markdown": [
       "\n",
       "| <!--/--> | Time.1 | Depth.1 | Chla.1 | Time.2 | Depth.2 | Chla.2 |\n",
       "|---|---|---|---|---|---|---|\n",
       "| 486 |    | NA | NA |    | NA | NA |\n",
       "| 487 |    | NA | NA |    | NA | NA |\n",
       "| 488 |    | NA | NA |    | NA | NA |\n",
       "| 489 |    | NA | NA |    | NA | NA |\n",
       "| 490 |    | NA | NA |    | NA | NA |\n",
       "| 491 |    | NA | NA |    | NA | NA |\n",
       "\n"
      ],
      "text/plain": [
       "    Time.1 Depth.1 Chla.1 Time.2 Depth.2 Chla.2\n",
       "486        NA      NA            NA      NA    \n",
       "487        NA      NA            NA      NA    \n",
       "488        NA      NA            NA      NA    \n",
       "489        NA      NA            NA      NA    \n",
       "490        NA      NA            NA      NA    \n",
       "491        NA      NA            NA      NA    "
      ]
     },
     "metadata": {},
     "output_type": "display_data"
    }
   ],
   "source": [
    "tail(TotChlA)"
   ]
  },
  {
   "cell_type": "code",
   "execution_count": 6,
   "metadata": {},
   "outputs": [],
   "source": [
    "TotChlA$Date.1 <- as.Date(as.character(TotChlA$Time.1), format=\"%m/%d/%y\")\n",
    "TotChlA$Date.2 <- as.Date(as.character(TotChlA$Time.2), format=\"%m/%d/%y\")"
   ]
  },
  {
   "cell_type": "code",
   "execution_count": 7,
   "metadata": {},
   "outputs": [],
   "source": [
    "TCHLA1 <- data.frame(Date = TotChlA$Date.1, depth=TotChlA$Depth.1, Tchla = TotChlA$Chla.1)  \n",
    "TCHLA2 <- data.frame(Date = TotChlA$Date.2, depth=TotChlA$Depth.2, Tchla = TotChlA$Chla.2) "
   ]
  },
  {
   "cell_type": "code",
   "execution_count": 8,
   "metadata": {},
   "outputs": [],
   "source": [
    "TCHLATDF <- rbind(TCHLA1, TCHLA2)"
   ]
  },
  {
   "cell_type": "code",
   "execution_count": 9,
   "metadata": {},
   "outputs": [
    {
     "data": {
      "text/html": [
       "<table>\n",
       "<thead><tr><th scope=col>Date</th><th scope=col>depth</th><th scope=col>Tchla</th></tr></thead>\n",
       "<tbody>\n",
       "\t<tr><td>1995-12-14</td><td> 1        </td><td>107       </td></tr>\n",
       "\t<tr><td>1995-12-14</td><td> 7        </td><td>139       </td></tr>\n",
       "\t<tr><td>1995-12-14</td><td>15        </td><td>163       </td></tr>\n",
       "\t<tr><td>1995-12-14</td><td>25        </td><td>408       </td></tr>\n",
       "\t<tr><td>1995-12-14</td><td>35        </td><td>241       </td></tr>\n",
       "\t<tr><td>1995-12-14</td><td>55        </td><td> 88       </td></tr>\n",
       "</tbody>\n",
       "</table>\n"
      ],
      "text/latex": [
       "\\begin{tabular}{r|lll}\n",
       " Date & depth & Tchla\\\\\n",
       "\\hline\n",
       "\t 1995-12-14 &  1         & 107       \\\\\n",
       "\t 1995-12-14 &  7         & 139       \\\\\n",
       "\t 1995-12-14 & 15         & 163       \\\\\n",
       "\t 1995-12-14 & 25         & 408       \\\\\n",
       "\t 1995-12-14 & 35         & 241       \\\\\n",
       "\t 1995-12-14 & 55         &  88       \\\\\n",
       "\\end{tabular}\n"
      ],
      "text/markdown": [
       "\n",
       "| Date | depth | Tchla |\n",
       "|---|---|---|\n",
       "| 1995-12-14 |  1         | 107        |\n",
       "| 1995-12-14 |  7         | 139        |\n",
       "| 1995-12-14 | 15         | 163        |\n",
       "| 1995-12-14 | 25         | 408        |\n",
       "| 1995-12-14 | 35         | 241        |\n",
       "| 1995-12-14 | 55         |  88        |\n",
       "\n"
      ],
      "text/plain": [
       "  Date       depth Tchla\n",
       "1 1995-12-14  1    107  \n",
       "2 1995-12-14  7    139  \n",
       "3 1995-12-14 15    163  \n",
       "4 1995-12-14 25    408  \n",
       "5 1995-12-14 35    241  \n",
       "6 1995-12-14 55     88  "
      ]
     },
     "metadata": {},
     "output_type": "display_data"
    }
   ],
   "source": [
    "head(TCHLATDF)"
   ]
  },
  {
   "cell_type": "code",
   "execution_count": null,
   "metadata": {},
   "outputs": [],
   "source": []
  },
  {
   "cell_type": "code",
   "execution_count": 10,
   "metadata": {},
   "outputs": [],
   "source": [
    "# Function to read specific verfication type from dataset\n",
    "prepdataframe <- function(variable='', datasource='niskin'){\n",
    "    if(datasource=='niskin'){\n",
    "    DF <- niskdat_df\n",
    "    DF$depth <- DF$Depth_real\n",
    "    # print(names(DF))\n",
    "        \n",
    "    VarDF <- DF[complete.cases(DF[variable]),] %>%\n",
    "      select(date, variable, depth) %>%\n",
    "      gather(key='key',value = \"value\", -date, -depth)\n",
    "    head(VarDF)\n",
    "    }\n",
    "    return(VarDF)\n",
    "}"
   ]
  },
  {
   "cell_type": "code",
   "execution_count": 11,
   "metadata": {},
   "outputs": [],
   "source": [
    "# integration functions (if necessary)\n",
    "\n",
    "# adapt integration function from PINCKNEY\n",
    "integrateJAYfunc <- function(x, y){\n",
    "    N1 = length(y)\n",
    "    area = 0\n",
    "    \n",
    "    for(j in 2:N1){\n",
    "        area = area + (x[j] - x[j-1]) * (y[j] + y[j-1]) / 2\n",
    "    }\n",
    "    return(area)\n",
    "}\n",
    "\n",
    "intgrtJAY <- function(DFtest, reg, var){\n",
    "    DF_int <- DFtest %>%\n",
    "        group_by(date) %>%\n",
    "        do(data.frame(\"value_int\" = with(.,integrateJAYfunc(x=depth, y=value)), \"reg\" = reg , \"var\" = var)) %>%\n",
    "        ungroup()\n",
    "        \n",
    "    return(DF_int)\n",
    "}"
   ]
  },
  {
   "cell_type": "code",
   "execution_count": 12,
   "metadata": {},
   "outputs": [],
   "source": [
    "# Interpolate\n",
    "interpolateDF <- function(DF,func='oce-rr'){\n",
    "    zz <- seq(0, 200, 1)\n",
    "    var = DF$key[1]\n",
    "    if(func=='oce-rr'){\n",
    "        IntDF <- DF %>%\n",
    "            group_by(date) %>%\n",
    "            do(data.frame(value_int = with(.,oceApprox(depth, value, zz, \"rr\")), depth = zz)) \n",
    "        }\n",
    "    \n",
    "    return(IntDF)\n",
    "}\n",
    "\n",
    "# take MEAN of concentrations at certain depth\n",
    "meanTOdepth <- function(DF_int,type='fixed',depthFROM=0,depthTO=100){\n",
    "    DF_means <- DF_int %>%\n",
    "        group_by(date) %>% # this groups it by the run number \n",
    "        filter(depthFROM < depth & depth < depthTO) %>% # only keep values above the depth passed to function\n",
    "        summarize('mean'=mean(value_int, na.rm=T))\n",
    "\n",
    "    return(DF_means)}"
   ]
  },
  {
   "cell_type": "code",
   "execution_count": null,
   "metadata": {},
   "outputs": [],
   "source": []
  },
  {
   "cell_type": "code",
   "execution_count": 13,
   "metadata": {},
   "outputs": [],
   "source": [
    "extrctintrplt <- function(x, below=TRUE){\n",
    "    DF <- prepdataframe(x)\n",
    "    \n",
    "    #head(DF)\n",
    "    ##############################\n",
    "    DF_int <- interpolateDF(DF)\n",
    "    #head(DF_int)\n",
    "    ##############################\n",
    "    DF_mean <- meanTOdepth(DF_int, type='fixed')\n",
    "    names(DF_mean)[2] <- paste(x,'_Box', sep='')\n",
    "    #head(DF_mean)\n",
    "    if(below==TRUE){\n",
    "        ##############################\n",
    "        DF_atDEPTH <- meanTOdepth(DF_int, type='fixed', depthFROM = 100, depthTO = 150)\n",
    "        names(DF_atDEPTH)[2] <- paste(x,'_AtDepth', sep='')\n",
    "        #head(DF_atDEPTH)\n",
    "        ##############################\n",
    "        DFX <- merge(DF_mean,DF_atDEPTH, all=T)\n",
    "    }else{\n",
    "        DFX <- DF_mean\n",
    "    }\n",
    "\n",
    "    return(DFX)\n",
    "}"
   ]
  },
  {
   "cell_type": "code",
   "execution_count": 14,
   "metadata": {},
   "outputs": [],
   "source": [
    "DF <- TCHLATDF\n",
    "names(DF) <- c('date', 'depth', 'variable')"
   ]
  },
  {
   "cell_type": "code",
   "execution_count": 15,
   "metadata": {},
   "outputs": [
    {
     "data": {
      "text/html": [
       "<table>\n",
       "<thead><tr><th scope=col>date</th><th scope=col>depth</th><th scope=col>variable</th></tr></thead>\n",
       "<tbody>\n",
       "\t<tr><td>1995-12-14</td><td> 1        </td><td>107       </td></tr>\n",
       "\t<tr><td>1995-12-14</td><td> 7        </td><td>139       </td></tr>\n",
       "\t<tr><td>1995-12-14</td><td>15        </td><td>163       </td></tr>\n",
       "\t<tr><td>1995-12-14</td><td>25        </td><td>408       </td></tr>\n",
       "\t<tr><td>1995-12-14</td><td>35        </td><td>241       </td></tr>\n",
       "\t<tr><td>1995-12-14</td><td>55        </td><td> 88       </td></tr>\n",
       "</tbody>\n",
       "</table>\n"
      ],
      "text/latex": [
       "\\begin{tabular}{r|lll}\n",
       " date & depth & variable\\\\\n",
       "\\hline\n",
       "\t 1995-12-14 &  1         & 107       \\\\\n",
       "\t 1995-12-14 &  7         & 139       \\\\\n",
       "\t 1995-12-14 & 15         & 163       \\\\\n",
       "\t 1995-12-14 & 25         & 408       \\\\\n",
       "\t 1995-12-14 & 35         & 241       \\\\\n",
       "\t 1995-12-14 & 55         &  88       \\\\\n",
       "\\end{tabular}\n"
      ],
      "text/markdown": [
       "\n",
       "| date | depth | variable |\n",
       "|---|---|---|\n",
       "| 1995-12-14 |  1         | 107        |\n",
       "| 1995-12-14 |  7         | 139        |\n",
       "| 1995-12-14 | 15         | 163        |\n",
       "| 1995-12-14 | 25         | 408        |\n",
       "| 1995-12-14 | 35         | 241        |\n",
       "| 1995-12-14 | 55         |  88        |\n",
       "\n"
      ],
      "text/plain": [
       "  date       depth variable\n",
       "1 1995-12-14  1    107     \n",
       "2 1995-12-14  7    139     \n",
       "3 1995-12-14 15    163     \n",
       "4 1995-12-14 25    408     \n",
       "5 1995-12-14 35    241     \n",
       "6 1995-12-14 55     88     "
      ]
     },
     "metadata": {},
     "output_type": "display_data"
    }
   ],
   "source": [
    "head(DF)"
   ]
  },
  {
   "cell_type": "code",
   "execution_count": 16,
   "metadata": {},
   "outputs": [
    {
     "data": {
      "text/html": [
       "<table>\n",
       "<thead><tr><th scope=col>date</th><th scope=col>depth</th><th scope=col>key</th><th scope=col>value</th></tr></thead>\n",
       "<tbody>\n",
       "\t<tr><td>1995-12-14</td><td> 1        </td><td>variable  </td><td>107       </td></tr>\n",
       "\t<tr><td>1995-12-14</td><td> 7        </td><td>variable  </td><td>139       </td></tr>\n",
       "\t<tr><td>1995-12-14</td><td>15        </td><td>variable  </td><td>163       </td></tr>\n",
       "\t<tr><td>1995-12-14</td><td>25        </td><td>variable  </td><td>408       </td></tr>\n",
       "\t<tr><td>1995-12-14</td><td>35        </td><td>variable  </td><td>241       </td></tr>\n",
       "\t<tr><td>1995-12-14</td><td>55        </td><td>variable  </td><td> 88       </td></tr>\n",
       "</tbody>\n",
       "</table>\n"
      ],
      "text/latex": [
       "\\begin{tabular}{r|llll}\n",
       " date & depth & key & value\\\\\n",
       "\\hline\n",
       "\t 1995-12-14 &  1         & variable   & 107       \\\\\n",
       "\t 1995-12-14 &  7         & variable   & 139       \\\\\n",
       "\t 1995-12-14 & 15         & variable   & 163       \\\\\n",
       "\t 1995-12-14 & 25         & variable   & 408       \\\\\n",
       "\t 1995-12-14 & 35         & variable   & 241       \\\\\n",
       "\t 1995-12-14 & 55         & variable   &  88       \\\\\n",
       "\\end{tabular}\n"
      ],
      "text/markdown": [
       "\n",
       "| date | depth | key | value |\n",
       "|---|---|---|---|\n",
       "| 1995-12-14 |  1         | variable   | 107        |\n",
       "| 1995-12-14 |  7         | variable   | 139        |\n",
       "| 1995-12-14 | 15         | variable   | 163        |\n",
       "| 1995-12-14 | 25         | variable   | 408        |\n",
       "| 1995-12-14 | 35         | variable   | 241        |\n",
       "| 1995-12-14 | 55         | variable   |  88        |\n",
       "\n"
      ],
      "text/plain": [
       "  date       depth key      value\n",
       "1 1995-12-14  1    variable 107  \n",
       "2 1995-12-14  7    variable 139  \n",
       "3 1995-12-14 15    variable 163  \n",
       "4 1995-12-14 25    variable 408  \n",
       "5 1995-12-14 35    variable 241  \n",
       "6 1995-12-14 55    variable  88  "
      ]
     },
     "metadata": {},
     "output_type": "display_data"
    }
   ],
   "source": [
    "VarDF <- DF[complete.cases(DF$variable),] %>%\n",
    "  select(date, variable, depth) %>%\n",
    "  gather(key='key',value = \"value\", -date, -depth)\n",
    "head(VarDF)"
   ]
  },
  {
   "cell_type": "code",
   "execution_count": 17,
   "metadata": {},
   "outputs": [],
   "source": [
    "xxxx <- interpolateDF(VarDF)"
   ]
  },
  {
   "cell_type": "code",
   "execution_count": 18,
   "metadata": {},
   "outputs": [],
   "source": [
    "meansxxxx <- meanTOdepth(xxxx)"
   ]
  },
  {
   "cell_type": "code",
   "execution_count": 19,
   "metadata": {},
   "outputs": [
    {
     "data": {
      "text/html": [
       "<ol class=list-inline>\n",
       "\t<li>12.8266419090822</li>\n",
       "\t<li>43.0604777069552</li>\n",
       "\t<li>27.7853493711862</li>\n",
       "\t<li>25.083313799465</li>\n",
       "\t<li>223.165934676438</li>\n",
       "\t<li>46.2657030041076</li>\n",
       "</ol>\n"
      ],
      "text/latex": [
       "\\begin{enumerate*}\n",
       "\\item 12.8266419090822\n",
       "\\item 43.0604777069552\n",
       "\\item 27.7853493711862\n",
       "\\item 25.083313799465\n",
       "\\item 223.165934676438\n",
       "\\item 46.2657030041076\n",
       "\\end{enumerate*}\n"
      ],
      "text/markdown": [
       "1. 12.8266419090822\n",
       "2. 43.0604777069552\n",
       "3. 27.7853493711862\n",
       "4. 25.083313799465\n",
       "5. 223.165934676438\n",
       "6. 46.2657030041076\n",
       "\n",
       "\n"
      ],
      "text/plain": [
       "[1]  12.82664  43.06048  27.78535  25.08331 223.16593  46.26570"
      ]
     },
     "metadata": {},
     "output_type": "display_data"
    },
    {
     "data": {
      "text/html": [
       "223.165934676438"
      ],
      "text/latex": [
       "223.165934676438"
      ],
      "text/markdown": [
       "223.165934676438"
      ],
      "text/plain": [
       "[1] 223.1659"
      ]
     },
     "metadata": {},
     "output_type": "display_data"
    }
   ],
   "source": [
    "head(meansxxxx$mean / 1000 * 100)\n",
    "\n",
    "max(meansxxxx$mean / 1000 * 100, na.rm=T)"
   ]
  },
  {
   "cell_type": "markdown",
   "metadata": {},
   "source": [
    "## FT CHLA"
   ]
  },
  {
   "cell_type": "code",
   "execution_count": 20,
   "metadata": {},
   "outputs": [],
   "source": [
    "PinckINTchla <- read.csv(\"IntegratedValues_PINCKNEY.csv\", dec=',', sep=';')"
   ]
  },
  {
   "cell_type": "code",
   "execution_count": 21,
   "metadata": {},
   "outputs": [
    {
     "data": {
      "text/html": [
       "<table>\n",
       "<thead><tr><th scope=col>Year</th><th scope=col>Month</th><th scope=col>Day</th><th scope=col>Date</th><th scope=col>Depth</th><th scope=col>Date.1</th><th scope=col>Tchla</th><th scope=col>Prasino3</th><th scope=col>Dino1</th><th scope=col>Crypto1</th><th scope=col>Hapto6</th><th scope=col>Chloro1</th><th scope=col>Cyano4</th><th scope=col>Diatom1</th></tr></thead>\n",
       "<tbody>\n",
       "\t<tr><td>1995      </td><td>Dec       </td><td>14        </td><td>12.14.95  </td><td>0 - 55 m  </td><td>14-Dec-95 </td><td> 11.34    </td><td>1.93      </td><td>0.85      </td><td>0.66      </td><td> 2.13     </td><td> 0.00     </td><td>0.66      </td><td> 5.10     </td></tr>\n",
       "\t<tr><td>1996      </td><td>Jan       </td><td>13        </td><td>01.13.96  </td><td>0 - 55 m  </td><td>13. Jan 96</td><td> 41.94    </td><td>0.96      </td><td>6.23      </td><td>1.08      </td><td> 2.55     </td><td> 0.59     </td><td>0.40      </td><td>27.86     </td></tr>\n",
       "\t<tr><td>1996      </td><td>Feb       </td><td>14        </td><td>02.14.96  </td><td>0 - 55 m  </td><td>14. Feb 96</td><td> 25.44    </td><td>1.08      </td><td>1.79      </td><td>1.81      </td><td> 1.79     </td><td> 0.00     </td><td>0.25      </td><td>18.14     </td></tr>\n",
       "\t<tr><td>1996      </td><td>0         </td><td>13        </td><td>03.13.96  </td><td>0 - 55 m  </td><td>13-Mar-96 </td><td> 20.21    </td><td>0.37      </td><td>1.80      </td><td>0.92      </td><td> 1.84     </td><td> 0.09     </td><td>0.25      </td><td>14.23     </td></tr>\n",
       "\t<tr><td>1996      </td><td>Apr       </td><td>17        </td><td>04.17.96  </td><td>0 - 55 m  </td><td>17. Apr 96</td><td>167.78    </td><td>0.84      </td><td>2.72      </td><td>2.76      </td><td>50.01     </td><td>11.79     </td><td>1.35      </td><td>98.30     </td></tr>\n",
       "\t<tr><td>1996      </td><td>May       </td><td>10        </td><td>05.10.96  </td><td>0 - 55 m  </td><td>10-May-96 </td><td> 42.38    </td><td>0.92      </td><td>0.01      </td><td>0.22      </td><td> 9.38     </td><td> 1.03     </td><td>0.53      </td><td>30.14     </td></tr>\n",
       "</tbody>\n",
       "</table>\n"
      ],
      "text/latex": [
       "\\begin{tabular}{r|llllllllllllll}\n",
       " Year & Month & Day & Date & Depth & Date.1 & Tchla & Prasino3 & Dino1 & Crypto1 & Hapto6 & Chloro1 & Cyano4 & Diatom1\\\\\n",
       "\\hline\n",
       "\t 1995       & Dec        & 14         & 12.14.95   & 0 - 55 m   & 14-Dec-95  &  11.34     & 1.93       & 0.85       & 0.66       &  2.13      &  0.00      & 0.66       &  5.10     \\\\\n",
       "\t 1996       & Jan        & 13         & 01.13.96   & 0 - 55 m   & 13. Jan 96 &  41.94     & 0.96       & 6.23       & 1.08       &  2.55      &  0.59      & 0.40       & 27.86     \\\\\n",
       "\t 1996       & Feb        & 14         & 02.14.96   & 0 - 55 m   & 14. Feb 96 &  25.44     & 1.08       & 1.79       & 1.81       &  1.79      &  0.00      & 0.25       & 18.14     \\\\\n",
       "\t 1996       & 0          & 13         & 03.13.96   & 0 - 55 m   & 13-Mar-96  &  20.21     & 0.37       & 1.80       & 0.92       &  1.84      &  0.09      & 0.25       & 14.23     \\\\\n",
       "\t 1996       & Apr        & 17         & 04.17.96   & 0 - 55 m   & 17. Apr 96 & 167.78     & 0.84       & 2.72       & 2.76       & 50.01      & 11.79      & 1.35       & 98.30     \\\\\n",
       "\t 1996       & May        & 10         & 05.10.96   & 0 - 55 m   & 10-May-96  &  42.38     & 0.92       & 0.01       & 0.22       &  9.38      &  1.03      & 0.53       & 30.14     \\\\\n",
       "\\end{tabular}\n"
      ],
      "text/markdown": [
       "\n",
       "| Year | Month | Day | Date | Depth | Date.1 | Tchla | Prasino3 | Dino1 | Crypto1 | Hapto6 | Chloro1 | Cyano4 | Diatom1 |\n",
       "|---|---|---|---|---|---|---|---|---|---|---|---|---|---|\n",
       "| 1995       | Dec        | 14         | 12.14.95   | 0 - 55 m   | 14-Dec-95  |  11.34     | 1.93       | 0.85       | 0.66       |  2.13      |  0.00      | 0.66       |  5.10      |\n",
       "| 1996       | Jan        | 13         | 01.13.96   | 0 - 55 m   | 13. Jan 96 |  41.94     | 0.96       | 6.23       | 1.08       |  2.55      |  0.59      | 0.40       | 27.86      |\n",
       "| 1996       | Feb        | 14         | 02.14.96   | 0 - 55 m   | 14. Feb 96 |  25.44     | 1.08       | 1.79       | 1.81       |  1.79      |  0.00      | 0.25       | 18.14      |\n",
       "| 1996       | 0          | 13         | 03.13.96   | 0 - 55 m   | 13-Mar-96  |  20.21     | 0.37       | 1.80       | 0.92       |  1.84      |  0.09      | 0.25       | 14.23      |\n",
       "| 1996       | Apr        | 17         | 04.17.96   | 0 - 55 m   | 17. Apr 96 | 167.78     | 0.84       | 2.72       | 2.76       | 50.01      | 11.79      | 1.35       | 98.30      |\n",
       "| 1996       | May        | 10         | 05.10.96   | 0 - 55 m   | 10-May-96  |  42.38     | 0.92       | 0.01       | 0.22       |  9.38      |  1.03      | 0.53       | 30.14      |\n",
       "\n"
      ],
      "text/plain": [
       "  Year Month Day Date     Depth    Date.1     Tchla  Prasino3 Dino1 Crypto1\n",
       "1 1995 Dec   14  12.14.95 0 - 55 m 14-Dec-95   11.34 1.93     0.85  0.66   \n",
       "2 1996 Jan   13  01.13.96 0 - 55 m 13. Jan 96  41.94 0.96     6.23  1.08   \n",
       "3 1996 Feb   14  02.14.96 0 - 55 m 14. Feb 96  25.44 1.08     1.79  1.81   \n",
       "4 1996 0     13  03.13.96 0 - 55 m 13-Mar-96   20.21 0.37     1.80  0.92   \n",
       "5 1996 Apr   17  04.17.96 0 - 55 m 17. Apr 96 167.78 0.84     2.72  2.76   \n",
       "6 1996 May   10  05.10.96 0 - 55 m 10-May-96   42.38 0.92     0.01  0.22   \n",
       "  Hapto6 Chloro1 Cyano4 Diatom1\n",
       "1  2.13   0.00   0.66    5.10  \n",
       "2  2.55   0.59   0.40   27.86  \n",
       "3  1.79   0.00   0.25   18.14  \n",
       "4  1.84   0.09   0.25   14.23  \n",
       "5 50.01  11.79   1.35   98.30  \n",
       "6  9.38   1.03   0.53   30.14  "
      ]
     },
     "metadata": {},
     "output_type": "display_data"
    }
   ],
   "source": [
    "head(PinckINTchla)\n",
    "# units: mg m^2"
   ]
  },
  {
   "cell_type": "code",
   "execution_count": 22,
   "metadata": {},
   "outputs": [],
   "source": [
    "PinckINTchla$Date <- as.Date(as.character(PinckINTchla$Date), format=\"%m.%d.%y\")"
   ]
  },
  {
   "cell_type": "code",
   "execution_count": 23,
   "metadata": {},
   "outputs": [],
   "source": [
    "PINT1 <- PinckINTchla[PinckINTchla$Depth == \"0 - 55 m\",]\n",
    "PINT2 <- PinckINTchla[PinckINTchla$Depth == \"55 - 100 m\",]"
   ]
  },
  {
   "cell_type": "code",
   "execution_count": 24,
   "metadata": {},
   "outputs": [],
   "source": [
    "PINT <- merge(PINT1,PINT2, by=\"Date\")"
   ]
  },
  {
   "cell_type": "code",
   "execution_count": 25,
   "metadata": {},
   "outputs": [],
   "source": [
    "PINT$Tchla <- PINT$Tchla.x + PINT$Tchla.y\n",
    "PINT$Prasino3 <- PINT$Prasino3.x + PINT$Prasino3.y\n",
    "PINT$Crypto1 <- PINT$Crypto1.x + PINT$Crypto1.y\n",
    "PINT$Hapto6 <- PINT$Hapto6.x + PINT$Hapto6.y\n",
    "PINT$Chloro1 <- PINT$Chloro1.x + PINT$Chloro1.y\n",
    "PINT$Cyano4 <- PINT$Cyano4.x + PINT$Cyano4.y\n",
    "PINT$Diatom1 <- PINT$Diatom1.x + PINT$Diatom1.y"
   ]
  },
  {
   "cell_type": "code",
   "execution_count": null,
   "metadata": {},
   "outputs": [],
   "source": []
  },
  {
   "cell_type": "code",
   "execution_count": null,
   "metadata": {},
   "outputs": [],
   "source": []
  },
  {
   "cell_type": "code",
   "execution_count": 26,
   "metadata": {},
   "outputs": [],
   "source": [
    "Tchla    <- data.frame('date'=PINT$Date, 'val'=PINT$Tchla,   '0-55m'=PINT$Tchla.x,   '55-100m'=PINT$Tchla.y,   'spec'='Tchla')\n",
    "Prasino3 <- data.frame('date'=PINT$Date, 'val'=PINT$Prasino3,'0-55m'=PINT$Prasino3.x,'55-100m'=PINT$Prasino3.y,'spec'='Prasino3')\n",
    "Crypto1  <- data.frame('date'=PINT$Date, 'val'=PINT$Crypto1, '0-55m'=PINT$Crypto1.x, '55-100m'=PINT$Crypto1.y, 'spec'='Crypto1')\n",
    "Hapto6   <- data.frame('date'=PINT$Date, 'val'=PINT$Hapto6,  '0-55m'=PINT$Hapto6.x,  '55-100m'=PINT$Hapto6.y,  'spec'='Hapto6')\n",
    "Chloro1  <- data.frame('date'=PINT$Date, 'val'=PINT$Chloro1, '0-55m'=PINT$Chloro1.x, '55-100m'=PINT$Chloro1.y, 'spec'='Chloro1')\n",
    "Cyano4   <- data.frame('date'=PINT$Date, 'val'=PINT$Cyano4,  '0-55m'=PINT$Cyano4.x,  '55-100m'=PINT$Cyano4.y,  'spec'='Cyano4')\n",
    "Diatom1  <- data.frame('date'=PINT$Date, 'val'=PINT$Diatom1, '0-55m'=PINT$Diatom1.x, '55-100m'=PINT$Diatom1.y, 'spec'='Diatom1')"
   ]
  },
  {
   "cell_type": "code",
   "execution_count": 27,
   "metadata": {},
   "outputs": [],
   "source": [
    "PINTDF <- rbind(Tchla, Prasino3, Crypto1, Hapto6, Chloro1, Cyano4, Diatom1)"
   ]
  },
  {
   "cell_type": "code",
   "execution_count": 28,
   "metadata": {},
   "outputs": [
    {
     "data": {
      "text/html": [
       "<table>\n",
       "<thead><tr><th scope=col>date</th><th scope=col>val</th><th scope=col>X0.55m</th><th scope=col>X55.100m</th><th scope=col>spec</th></tr></thead>\n",
       "<tbody>\n",
       "\t<tr><td>1995-12-14</td><td> 13.54    </td><td> 11.34    </td><td>2.20      </td><td>Tchla     </td></tr>\n",
       "\t<tr><td>1996-01-13</td><td> 44.21    </td><td> 41.94    </td><td>2.27      </td><td>Tchla     </td></tr>\n",
       "\t<tr><td>1996-02-14</td><td> 28.77    </td><td> 25.44    </td><td>3.33      </td><td>Tchla     </td></tr>\n",
       "\t<tr><td>1996-03-13</td><td> 21.26    </td><td> 20.21    </td><td>1.05      </td><td>Tchla     </td></tr>\n",
       "\t<tr><td>1996-04-17</td><td>171.92    </td><td>167.78    </td><td>4.14      </td><td>Tchla     </td></tr>\n",
       "\t<tr><td>1996-05-10</td><td> 44.24    </td><td> 42.38    </td><td>1.86      </td><td>Tchla     </td></tr>\n",
       "</tbody>\n",
       "</table>\n"
      ],
      "text/latex": [
       "\\begin{tabular}{r|lllll}\n",
       " date & val & X0.55m & X55.100m & spec\\\\\n",
       "\\hline\n",
       "\t 1995-12-14 &  13.54     &  11.34     & 2.20       & Tchla     \\\\\n",
       "\t 1996-01-13 &  44.21     &  41.94     & 2.27       & Tchla     \\\\\n",
       "\t 1996-02-14 &  28.77     &  25.44     & 3.33       & Tchla     \\\\\n",
       "\t 1996-03-13 &  21.26     &  20.21     & 1.05       & Tchla     \\\\\n",
       "\t 1996-04-17 & 171.92     & 167.78     & 4.14       & Tchla     \\\\\n",
       "\t 1996-05-10 &  44.24     &  42.38     & 1.86       & Tchla     \\\\\n",
       "\\end{tabular}\n"
      ],
      "text/markdown": [
       "\n",
       "| date | val | X0.55m | X55.100m | spec |\n",
       "|---|---|---|---|---|\n",
       "| 1995-12-14 |  13.54     |  11.34     | 2.20       | Tchla      |\n",
       "| 1996-01-13 |  44.21     |  41.94     | 2.27       | Tchla      |\n",
       "| 1996-02-14 |  28.77     |  25.44     | 3.33       | Tchla      |\n",
       "| 1996-03-13 |  21.26     |  20.21     | 1.05       | Tchla      |\n",
       "| 1996-04-17 | 171.92     | 167.78     | 4.14       | Tchla      |\n",
       "| 1996-05-10 |  44.24     |  42.38     | 1.86       | Tchla      |\n",
       "\n"
      ],
      "text/plain": [
       "  date       val    X0.55m X55.100m spec \n",
       "1 1995-12-14  13.54  11.34 2.20     Tchla\n",
       "2 1996-01-13  44.21  41.94 2.27     Tchla\n",
       "3 1996-02-14  28.77  25.44 3.33     Tchla\n",
       "4 1996-03-13  21.26  20.21 1.05     Tchla\n",
       "5 1996-04-17 171.92 167.78 4.14     Tchla\n",
       "6 1996-05-10  44.24  42.38 1.86     Tchla"
      ]
     },
     "metadata": {},
     "output_type": "display_data"
    }
   ],
   "source": [
    "head(PINTDF)"
   ]
  },
  {
   "cell_type": "code",
   "execution_count": 29,
   "metadata": {},
   "outputs": [],
   "source": [
    "#PINTDF$date <- as.POSIXlt(PINTDF$Date)"
   ]
  },
  {
   "cell_type": "code",
   "execution_count": 30,
   "metadata": {},
   "outputs": [],
   "source": [
    "PINTDF$yday <- yday(PINTDF$date)\n",
    "\n",
    "PINTDF$month <- month(PINTDF$date)"
   ]
  },
  {
   "cell_type": "code",
   "execution_count": 31,
   "metadata": {},
   "outputs": [],
   "source": [
    "write.csv(PINTDF,\"ProcessedDATA/HPLCPinckneyTotAndSpec_02.csv\")"
   ]
  },
  {
   "cell_type": "code",
   "execution_count": 32,
   "metadata": {},
   "outputs": [],
   "source": [
    "#write.csv(PINTDF, file = \"PINTDF_integratedChlorophyll.csv\")"
   ]
  },
  {
   "cell_type": "markdown",
   "metadata": {},
   "source": [
    "# ZOOPLANKTON DATA"
   ]
  },
  {
   "cell_type": "code",
   "execution_count": 33,
   "metadata": {},
   "outputs": [
    {
     "data": {
      "text/html": [
       "'zooplankton.netcdf'"
      ],
      "text/latex": [
       "'zooplankton.netcdf'"
      ],
      "text/markdown": [
       "'zooplankton.netcdf'"
      ],
      "text/plain": [
       "[1] \"zooplankton.netcdf\""
      ]
     },
     "metadata": {},
     "output_type": "display_data"
    }
   ],
   "source": [
    "'zooplankton.netcdf'"
   ]
  },
  {
   "cell_type": "code",
   "execution_count": null,
   "metadata": {},
   "outputs": [],
   "source": []
  },
  {
   "cell_type": "code",
   "execution_count": 34,
   "metadata": {},
   "outputs": [],
   "source": [
    "# open a NetCDF file\n",
    "zooplankton <- nc_open(\"zooplankton.netcdf\")\n",
    "#print(zooplankton)"
   ]
  },
  {
   "cell_type": "code",
   "execution_count": 35,
   "metadata": {},
   "outputs": [
    {
     "name": "stdout",
     "output_type": "stream",
     "text": [
      "[1] \"start\"\n",
      "[1] \"done reading\"\n"
     ]
    },
    {
     "data": {
      "text/html": [
       "<table>\n",
       "<thead><tr><th scope=col>Num</th><th scope=col>Cruise</th><th scope=col>Cruise_ID</th><th scope=col>Day</th><th scope=col>Month</th><th scope=col>Year</th><th scope=col>Date</th><th scope=col>Latitude</th><th scope=col>Longitude</th><th scope=col>Analyst</th><th scope=col>...</th><th scope=col>PROTOZOAN</th><th scope=col>RADIOLARIAN</th><th scope=col>APPENDICULARIANS</th><th scope=col>SALPS</th><th scope=col>DOLIOLIDS</th><th scope=col>BIVALVES</th><th scope=col>H_CRUSTACEA</th><th scope=col>L_ANFIOXUS</th><th scope=col>LUCIFER</th><th scope=col>JUV_GASTROPOD</th></tr></thead>\n",
       "<tbody>\n",
       "\t<tr><td>1               </td><td>71              </td><td>CAR-071         </td><td> 9              </td><td>10              </td><td>2001            </td><td>2001-10-09      </td><td>10.500          </td><td>-64.664         </td><td>Javier Gutierrez</td><td>...             </td><td>39.9409000      </td><td>0               </td><td>91.293500       </td><td>8.5587700       </td><td>0               </td><td>0.0000000       </td><td>0.000000        </td><td>                </td><td>2.85292         </td><td>                </td></tr>\n",
       "\t<tr><td>2               </td><td>71              </td><td>CAR-071         </td><td> 9              </td><td>10              </td><td>2001            </td><td>2001-10-09      </td><td>10.500          </td><td>-64.664         </td><td>Javier Gutierrez</td><td>...             </td><td> 7.5317100      </td><td>0               </td><td> 9.357580       </td><td>1.8258700       </td><td>0               </td><td>0.0000000       </td><td>0.000000        </td><td>0               </td><td>0.00000         </td><td>0               </td></tr>\n",
       "\t<tr><td>3               </td><td>72              </td><td>CAR-072         </td><td> 6              </td><td>11              </td><td>2001            </td><td>2001-11-06      </td><td>10.498          </td><td>-64.666         </td><td>Javier Gutierrez</td><td>...             </td><td> 0.0000000      </td><td>0               </td><td> 0.517940       </td><td>0.5179400       </td><td>0               </td><td>0.0000000       </td><td>0.000000        </td><td>0               </td><td>0.00000         </td><td>0               </td></tr>\n",
       "\t<tr><td>4               </td><td>72              </td><td>CAR-072         </td><td> 6              </td><td>11              </td><td>2001            </td><td>2001-11-06      </td><td>10.498          </td><td>-64.666         </td><td>Javier Gutierrez</td><td>...             </td><td>34.7595000      </td><td>0               </td><td>18.788900       </td><td>0.0000000       </td><td>0               </td><td>0.0000000       </td><td>0.000000        </td><td>                </td><td>0.00000         </td><td>                </td></tr>\n",
       "\t<tr><td>5               </td><td>73              </td><td>CAR-073         </td><td>11              </td><td>12              </td><td>2001            </td><td>2001-12-11      </td><td>10.501          </td><td>-64.668         </td><td>Javier Gutierrez</td><td>...             </td><td> 0.0000000      </td><td>0               </td><td>24.683100       </td><td>4.9366100       </td><td>0               </td><td>0.0000000       </td><td>0.000000        </td><td>                </td><td>0.00000         </td><td>                </td></tr>\n",
       "\t<tr><td>6               </td><td>73              </td><td>CAR-073         </td><td>11              </td><td>12              </td><td>2001            </td><td>2001-12-11      </td><td>10.501          </td><td>-64.668         </td><td>Javier Gutierrez</td><td>...             </td><td> 0.0620957      </td><td>0               </td><td> 0.217335       </td><td>0.0310479       </td><td>0               </td><td>0.0310479       </td><td>0.263907        </td><td>0               </td><td>0.00000         </td><td>0               </td></tr>\n",
       "</tbody>\n",
       "</table>\n"
      ],
      "text/latex": [
       "\\begin{tabular}{r|lllllllllllllllllllllllllllllllllllllllllllllllllllllllllllll}\n",
       " Num & Cruise & Cruise\\_ID & Day & Month & Year & Date & Latitude & Longitude & Analyst & ... & PROTOZOAN & RADIOLARIAN & APPENDICULARIANS & SALPS & DOLIOLIDS & BIVALVES & H\\_CRUSTACEA & L\\_ANFIOXUS & LUCIFER & JUV\\_GASTROPOD\\\\\n",
       "\\hline\n",
       "\t 1                & 71               & CAR-071          &  9               & 10               & 2001             & 2001-10-09       & 10.500           & -64.664          & Javier Gutierrez & ...              & 39.9409000       & 0                & 91.293500        & 8.5587700        & 0                & 0.0000000        & 0.000000         &                  & 2.85292          &                 \\\\\n",
       "\t 2                & 71               & CAR-071          &  9               & 10               & 2001             & 2001-10-09       & 10.500           & -64.664          & Javier Gutierrez & ...              &  7.5317100       & 0                &  9.357580        & 1.8258700        & 0                & 0.0000000        & 0.000000         & 0                & 0.00000          & 0               \\\\\n",
       "\t 3                & 72               & CAR-072          &  6               & 11               & 2001             & 2001-11-06       & 10.498           & -64.666          & Javier Gutierrez & ...              &  0.0000000       & 0                &  0.517940        & 0.5179400        & 0                & 0.0000000        & 0.000000         & 0                & 0.00000          & 0               \\\\\n",
       "\t 4                & 72               & CAR-072          &  6               & 11               & 2001             & 2001-11-06       & 10.498           & -64.666          & Javier Gutierrez & ...              & 34.7595000       & 0                & 18.788900        & 0.0000000        & 0                & 0.0000000        & 0.000000         &                  & 0.00000          &                 \\\\\n",
       "\t 5                & 73               & CAR-073          & 11               & 12               & 2001             & 2001-12-11       & 10.501           & -64.668          & Javier Gutierrez & ...              &  0.0000000       & 0                & 24.683100        & 4.9366100        & 0                & 0.0000000        & 0.000000         &                  & 0.00000          &                 \\\\\n",
       "\t 6                & 73               & CAR-073          & 11               & 12               & 2001             & 2001-12-11       & 10.501           & -64.668          & Javier Gutierrez & ...              &  0.0620957       & 0                &  0.217335        & 0.0310479        & 0                & 0.0310479        & 0.263907         & 0                & 0.00000          & 0               \\\\\n",
       "\\end{tabular}\n"
      ],
      "text/markdown": [
       "\n",
       "| Num | Cruise | Cruise_ID | Day | Month | Year | Date | Latitude | Longitude | Analyst | ... | PROTOZOAN | RADIOLARIAN | APPENDICULARIANS | SALPS | DOLIOLIDS | BIVALVES | H_CRUSTACEA | L_ANFIOXUS | LUCIFER | JUV_GASTROPOD |\n",
       "|---|---|---|---|---|---|---|---|---|---|---|---|---|---|---|---|---|---|---|---|---|\n",
       "| 1                | 71               | CAR-071          |  9               | 10               | 2001             | 2001-10-09       | 10.500           | -64.664          | Javier Gutierrez | ...              | 39.9409000       | 0                | 91.293500        | 8.5587700        | 0                | 0.0000000        | 0.000000         |                  | 2.85292          |                  |\n",
       "| 2                | 71               | CAR-071          |  9               | 10               | 2001             | 2001-10-09       | 10.500           | -64.664          | Javier Gutierrez | ...              |  7.5317100       | 0                |  9.357580        | 1.8258700        | 0                | 0.0000000        | 0.000000         | 0                | 0.00000          | 0                |\n",
       "| 3                | 72               | CAR-072          |  6               | 11               | 2001             | 2001-11-06       | 10.498           | -64.666          | Javier Gutierrez | ...              |  0.0000000       | 0                |  0.517940        | 0.5179400        | 0                | 0.0000000        | 0.000000         | 0                | 0.00000          | 0                |\n",
       "| 4                | 72               | CAR-072          |  6               | 11               | 2001             | 2001-11-06       | 10.498           | -64.666          | Javier Gutierrez | ...              | 34.7595000       | 0                | 18.788900        | 0.0000000        | 0                | 0.0000000        | 0.000000         |                  | 0.00000          |                  |\n",
       "| 5                | 73               | CAR-073          | 11               | 12               | 2001             | 2001-12-11       | 10.501           | -64.668          | Javier Gutierrez | ...              |  0.0000000       | 0                | 24.683100        | 4.9366100        | 0                | 0.0000000        | 0.000000         |                  | 0.00000          |                  |\n",
       "| 6                | 73               | CAR-073          | 11               | 12               | 2001             | 2001-12-11       | 10.501           | -64.668          | Javier Gutierrez | ...              |  0.0620957       | 0                |  0.217335        | 0.0310479        | 0                | 0.0310479        | 0.263907         | 0                | 0.00000          | 0                |\n",
       "\n"
      ],
      "text/plain": [
       "  Num Cruise Cruise_ID Day Month Year Date       Latitude Longitude\n",
       "1 1   71     CAR-071    9  10    2001 2001-10-09 10.500   -64.664  \n",
       "2 2   71     CAR-071    9  10    2001 2001-10-09 10.500   -64.664  \n",
       "3 3   72     CAR-072    6  11    2001 2001-11-06 10.498   -64.666  \n",
       "4 4   72     CAR-072    6  11    2001 2001-11-06 10.498   -64.666  \n",
       "5 5   73     CAR-073   11  12    2001 2001-12-11 10.501   -64.668  \n",
       "6 6   73     CAR-073   11  12    2001 2001-12-11 10.501   -64.668  \n",
       "  Analyst          ... PROTOZOAN  RADIOLARIAN APPENDICULARIANS SALPS    \n",
       "1 Javier Gutierrez ... 39.9409000 0           91.293500        8.5587700\n",
       "2 Javier Gutierrez ...  7.5317100 0            9.357580        1.8258700\n",
       "3 Javier Gutierrez ...  0.0000000 0            0.517940        0.5179400\n",
       "4 Javier Gutierrez ... 34.7595000 0           18.788900        0.0000000\n",
       "5 Javier Gutierrez ...  0.0000000 0           24.683100        4.9366100\n",
       "6 Javier Gutierrez ...  0.0620957 0            0.217335        0.0310479\n",
       "  DOLIOLIDS BIVALVES  H_CRUSTACEA L_ANFIOXUS LUCIFER JUV_GASTROPOD\n",
       "1 0         0.0000000 0.000000               2.85292              \n",
       "2 0         0.0000000 0.000000    0          0.00000 0            \n",
       "3 0         0.0000000 0.000000    0          0.00000 0            \n",
       "4 0         0.0000000 0.000000               0.00000              \n",
       "5 0         0.0000000 0.000000               0.00000              \n",
       "6 0         0.0310479 0.263907    0          0.00000 0            "
      ]
     },
     "metadata": {},
     "output_type": "display_data"
    }
   ],
   "source": [
    "zooplankton_df <- data.frame(\"Num\" = 1:zooplankton$dim$unlimited$len)\n",
    "print('start')\n",
    "for(i in 1:zooplankton$nvars){\n",
    "    #print(i)\n",
    "    zooplankton_df[paste(attributes(zooplankton$var)$names[i])] <- ncvar_get(zooplankton, attributes(zooplankton$var)$names[i])\n",
    "}\n",
    "print('done reading')\n",
    "head(zooplankton_df)"
   ]
  },
  {
   "cell_type": "code",
   "execution_count": 36,
   "metadata": {},
   "outputs": [
    {
     "name": "stdout",
     "output_type": "stream",
     "text": [
      "Num Cruise Cruise_ID Day Month Year Date Latitude Longitude Analyst Mesh_Size TOTAL_DENSITY BIOMASS ASH COPEPODS CALANOIDS CYCLOPOIDA HAPARCTICOIDA POECILOSTOMATOIDA L_FISH H_FISH CHAETOGNATHA CLADOCEROS OSTRACODA FORAMINIFERA AMPHIPODS ISOPODS EUPHAUSIIDS MISYDACEA SERGESTID L_CRUSTACEA N_COPEPOD C_COPEPOD N_CIRRIPEDIA C_CIRRIPEDIA L_DECAPODA L_STOMATOPODA L_EUPHAUSIID L_SERGESTID POLICHAETES L_CYPHONAUTES MEDUSA SIPHONOPHORES CTENOPHORES L_ECHINODERMS PTEROPODS HETEROPODS GASTROPODS L_CEPHALOPODA L_BIVALVE L_GASTROPOD PROTOZOAN RADIOLARIAN APPENDICULARIANS SALPS DOLIOLIDS BIVALVES H_CRUSTACEA L_ANFIOXUS LUCIFER JUV_GASTROPOD"
     ]
    }
   ],
   "source": [
    "cat(names(zooplankton_df))"
   ]
  },
  {
   "cell_type": "code",
   "execution_count": 37,
   "metadata": {},
   "outputs": [],
   "source": [
    "zooplankton_df$date <- as.Date(zooplankton_df$Date, format=\"%Y-%m-%d\")"
   ]
  },
  {
   "cell_type": "code",
   "execution_count": 38,
   "metadata": {},
   "outputs": [
    {
     "data": {
      "text/html": [
       "<table>\n",
       "<thead><tr><th scope=col>date</th><th scope=col>Mesh_Size</th><th scope=col>key</th><th scope=col>value</th></tr></thead>\n",
       "<tbody>\n",
       "\t<tr><td>2001-10-09   </td><td>200          </td><td>TOTAL_DENSITY</td><td>1112.64000   </td></tr>\n",
       "\t<tr><td>2001-10-09   </td><td>500          </td><td>TOTAL_DENSITY</td><td> 212.94200   </td></tr>\n",
       "\t<tr><td>2001-11-06   </td><td>500          </td><td>TOTAL_DENSITY</td><td>  13.42660   </td></tr>\n",
       "\t<tr><td>2001-11-06   </td><td>200          </td><td>TOTAL_DENSITY</td><td> 282.30300   </td></tr>\n",
       "\t<tr><td>2001-12-11   </td><td>200          </td><td>TOTAL_DENSITY</td><td> 572.64700   </td></tr>\n",
       "\t<tr><td>2001-12-11   </td><td>500          </td><td>TOTAL_DENSITY</td><td>   8.78655   </td></tr>\n",
       "</tbody>\n",
       "</table>\n"
      ],
      "text/latex": [
       "\\begin{tabular}{r|llll}\n",
       " date & Mesh\\_Size & key & value\\\\\n",
       "\\hline\n",
       "\t 2001-10-09      & 200             & TOTAL\\_DENSITY & 1112.64000     \\\\\n",
       "\t 2001-10-09      & 500             & TOTAL\\_DENSITY &  212.94200     \\\\\n",
       "\t 2001-11-06      & 500             & TOTAL\\_DENSITY &   13.42660     \\\\\n",
       "\t 2001-11-06      & 200             & TOTAL\\_DENSITY &  282.30300     \\\\\n",
       "\t 2001-12-11      & 200             & TOTAL\\_DENSITY &  572.64700     \\\\\n",
       "\t 2001-12-11      & 500             & TOTAL\\_DENSITY &    8.78655     \\\\\n",
       "\\end{tabular}\n"
      ],
      "text/markdown": [
       "\n",
       "| date | Mesh_Size | key | value |\n",
       "|---|---|---|---|\n",
       "| 2001-10-09    | 200           | TOTAL_DENSITY | 1112.64000    |\n",
       "| 2001-10-09    | 500           | TOTAL_DENSITY |  212.94200    |\n",
       "| 2001-11-06    | 500           | TOTAL_DENSITY |   13.42660    |\n",
       "| 2001-11-06    | 200           | TOTAL_DENSITY |  282.30300    |\n",
       "| 2001-12-11    | 200           | TOTAL_DENSITY |  572.64700    |\n",
       "| 2001-12-11    | 500           | TOTAL_DENSITY |    8.78655    |\n",
       "\n"
      ],
      "text/plain": [
       "  date       Mesh_Size key           value     \n",
       "1 2001-10-09 200       TOTAL_DENSITY 1112.64000\n",
       "2 2001-10-09 500       TOTAL_DENSITY  212.94200\n",
       "3 2001-11-06 500       TOTAL_DENSITY   13.42660\n",
       "4 2001-11-06 200       TOTAL_DENSITY  282.30300\n",
       "5 2001-12-11 200       TOTAL_DENSITY  572.64700\n",
       "6 2001-12-11 500       TOTAL_DENSITY    8.78655"
      ]
     },
     "metadata": {},
     "output_type": "display_data"
    }
   ],
   "source": [
    "ZOOdf <- zooplankton_df %>%\n",
    "  select(date, TOTAL_DENSITY, BIOMASS, ASH, Mesh_Size) %>%\n",
    "  gather(key='key',value = \"value\", -date, -Mesh_Size)\n",
    "\n",
    "ZOOdf$value <- as.numeric(ZOOdf$value)\n",
    "head(ZOOdf)"
   ]
  },
  {
   "cell_type": "code",
   "execution_count": 39,
   "metadata": {},
   "outputs": [],
   "source": [
    "ZOOdf$yday <- yday(ZOOdf$date)\n",
    "\n",
    "ZOOdf$month <- month(ZOOdf$date)"
   ]
  },
  {
   "cell_type": "code",
   "execution_count": 40,
   "metadata": {},
   "outputs": [],
   "source": [
    "write.csv(ZOOdf,\"ProcessedDATA/ZooplanktonData_02.csv\")"
   ]
  },
  {
   "cell_type": "markdown",
   "metadata": {},
   "source": [
    "# EXPORT FLUX"
   ]
  },
  {
   "cell_type": "markdown",
   "metadata": {},
   "source": [
    "## NOTE: Export Flux data is quite messy, will need to spend more time here, if I need it!"
   ]
  },
  {
   "cell_type": "code",
   "execution_count": null,
   "metadata": {},
   "outputs": [],
   "source": [
    "\"Sediment_Trap.netcdf\"\n",
    "\"std_car_TRAPflux\""
   ]
  },
  {
   "cell_type": "code",
   "execution_count": 64,
   "metadata": {},
   "outputs": [
    {
     "name": "stderr",
     "output_type": "stream",
     "text": [
      "Warning message in read.table(file = file, header = header, sep = sep, quote = quote, :\n",
      "“line 1 appears to contain embedded nulls”Warning message in read.table(file = file, header = header, sep = sep, quote = quote, :\n",
      "“line 2 appears to contain embedded nulls”Warning message in read.table(file = file, header = header, sep = sep, quote = quote, :\n",
      "“line 3 appears to contain embedded nulls”Warning message in read.table(file = file, header = header, sep = sep, quote = quote, :\n",
      "“line 4 appears to contain embedded nulls”Warning message in read.table(file = file, header = header, sep = sep, quote = quote, :\n",
      "“line 5 appears to contain embedded nulls”"
     ]
    },
    {
     "ename": "ERROR",
     "evalue": "Error in make.names(col.names, unique = TRUE): invalid multibyte string at '<d0><cf>\u0011<e0><a1><b1><1a><e1>'\n",
     "output_type": "error",
     "traceback": [
      "Error in make.names(col.names, unique = TRUE): invalid multibyte string at '<d0><cf>\u0011<e0><a1><b1><1a><e1>'\nTraceback:\n",
      "1. read.csv(\"std_car_TRAPflux.xls\")",
      "2. read.table(file = file, header = header, sep = sep, quote = quote, \n .     dec = dec, fill = fill, comment.char = comment.char, ...)",
      "3. make.names(col.names, unique = TRUE)"
     ]
    }
   ],
   "source": [
    "read.csv('std_car_TRAPflux.xls')"
   ]
  },
  {
   "cell_type": "code",
   "execution_count": 62,
   "metadata": {},
   "outputs": [
    {
     "name": "stdout",
     "output_type": "stream",
     "text": [
      "File Sediment_Trap.netcdf (NC_FORMAT_CLASSIC):\n",
      "\n",
      "     16 variables (excluding dimension variables):\n",
      "        char trap_ID[maxlen_,unlimited]   \n",
      "        double depth_trap[unlimited]   \n",
      "        double lon[unlimited]   \n",
      "        double lat[unlimited]   \n",
      "        double sample_num[unlimited]   \n",
      "        double date_open[unlimited]   \n",
      "        double Year[unlimited]   \n",
      "        double Month[unlimited]   \n",
      "        double Day[unlimited]   \n",
      "        double duration_d[unlimited]   \n",
      "        char MF_Total[maxlen_,unlimited]   \n",
      "        char MF_Corg[maxlen_,unlimited]   \n",
      "        char MF_CaCO3[maxlen_,unlimited]   \n",
      "        char MF_Sibio[maxlen_,unlimited]   \n",
      "        char MF_Terr[maxlen_,unlimited]   \n",
      "        char MF_N[maxlen_,unlimited]   \n",
      "\n",
      "     2 dimensions:\n",
      "        unlimited  Size:1573   *** is unlimited ***\n",
      "        maxlen_  Size:513\n"
     ]
    }
   ],
   "source": [
    "# open a NetCDF file\n",
    "Sediment_Trap <- nc_open(\"Sediment_Trap.netcdf\")\n",
    "print(Sediment_Trap)"
   ]
  },
  {
   "cell_type": "code",
   "execution_count": 63,
   "metadata": {},
   "outputs": [
    {
     "name": "stdout",
     "output_type": "stream",
     "text": [
      "[1] \"start\"\n",
      "[1] \"done reading\"\n"
     ]
    },
    {
     "data": {
      "text/html": [
       "<table>\n",
       "<thead><tr><th scope=col>Num</th><th scope=col>trap_ID</th><th scope=col>depth_trap</th><th scope=col>lon</th><th scope=col>lat</th><th scope=col>sample_num</th><th scope=col>date_open</th><th scope=col>Year</th><th scope=col>Month</th><th scope=col>Day</th><th scope=col>duration_d</th><th scope=col>MF_Total</th><th scope=col>MF_Corg</th><th scope=col>MF_CaCO3</th><th scope=col>MF_Sibio</th><th scope=col>MF_Terr</th><th scope=col>MF_N</th></tr></thead>\n",
       "<tbody>\n",
       "\t<tr><td>1       </td><td>Trap_Z  </td><td>152     </td><td>-64.67  </td><td>10.5    </td><td>196     </td><td>20031106</td><td>2003    </td><td>11      </td><td> 6      </td><td>15      </td><td>        </td><td>        </td><td>        </td><td>        </td><td>        </td><td>        </td></tr>\n",
       "\t<tr><td>2       </td><td>Trap_Z  </td><td>152     </td><td>-64.67  </td><td>10.5    </td><td>197     </td><td>20031121</td><td>2003    </td><td>11      </td><td>21      </td><td>15      </td><td>0.319   </td><td>0.074   </td><td>0.079   </td><td>0.015   </td><td>0.040   </td><td>0.015   </td></tr>\n",
       "\t<tr><td>3       </td><td>Trap_Z  </td><td>152     </td><td>-64.67  </td><td>10.5    </td><td>198     </td><td>20031206</td><td>2003    </td><td>12      </td><td> 6      </td><td>15      </td><td>0.668   </td><td>0.079   </td><td>0.400   </td><td>0.057   </td><td>0.014   </td><td>0.015   </td></tr>\n",
       "\t<tr><td>4       </td><td>Trap_Z  </td><td>152     </td><td>-64.67  </td><td>10.5    </td><td>199     </td><td>20031221</td><td>2003    </td><td>12      </td><td>21      </td><td>15      </td><td>0.162   </td><td>0.014   </td><td>0.049   </td><td>0.018   </td><td>0.060   </td><td>0.002   </td></tr>\n",
       "\t<tr><td>5       </td><td>Trap_Z  </td><td>152     </td><td>-64.67  </td><td>10.5    </td><td>200     </td><td>20040105</td><td>2004    </td><td> 1      </td><td> 5      </td><td>15      </td><td>        </td><td>        </td><td>        </td><td>        </td><td>        </td><td>        </td></tr>\n",
       "\t<tr><td>6       </td><td>Trap_Z  </td><td>152     </td><td>-64.67  </td><td>10.5    </td><td>201     </td><td>20040120</td><td>2004    </td><td> 1      </td><td>20      </td><td>15      </td><td>0.185   </td><td>0.043   </td><td>0.053   </td><td>0.014   </td><td>0.011   </td><td>0.007   </td></tr>\n",
       "</tbody>\n",
       "</table>\n"
      ],
      "text/latex": [
       "\\begin{tabular}{r|lllllllllllllllll}\n",
       " Num & trap\\_ID & depth\\_trap & lon & lat & sample\\_num & date\\_open & Year & Month & Day & duration\\_d & MF\\_Total & MF\\_Corg & MF\\_CaCO3 & MF\\_Sibio & MF\\_Terr & MF\\_N\\\\\n",
       "\\hline\n",
       "\t 1        & Trap\\_Z & 152      & -64.67   & 10.5     & 196      & 20031106 & 2003     & 11       &  6       & 15       &          &          &          &          &          &         \\\\\n",
       "\t 2        & Trap\\_Z & 152      & -64.67   & 10.5     & 197      & 20031121 & 2003     & 11       & 21       & 15       & 0.319    & 0.074    & 0.079    & 0.015    & 0.040    & 0.015   \\\\\n",
       "\t 3        & Trap\\_Z & 152      & -64.67   & 10.5     & 198      & 20031206 & 2003     & 12       &  6       & 15       & 0.668    & 0.079    & 0.400    & 0.057    & 0.014    & 0.015   \\\\\n",
       "\t 4        & Trap\\_Z & 152      & -64.67   & 10.5     & 199      & 20031221 & 2003     & 12       & 21       & 15       & 0.162    & 0.014    & 0.049    & 0.018    & 0.060    & 0.002   \\\\\n",
       "\t 5        & Trap\\_Z & 152      & -64.67   & 10.5     & 200      & 20040105 & 2004     &  1       &  5       & 15       &          &          &          &          &          &         \\\\\n",
       "\t 6        & Trap\\_Z & 152      & -64.67   & 10.5     & 201      & 20040120 & 2004     &  1       & 20       & 15       & 0.185    & 0.043    & 0.053    & 0.014    & 0.011    & 0.007   \\\\\n",
       "\\end{tabular}\n"
      ],
      "text/markdown": [
       "\n",
       "| Num | trap_ID | depth_trap | lon | lat | sample_num | date_open | Year | Month | Day | duration_d | MF_Total | MF_Corg | MF_CaCO3 | MF_Sibio | MF_Terr | MF_N |\n",
       "|---|---|---|---|---|---|---|---|---|---|---|---|---|---|---|---|---|\n",
       "| 1        | Trap_Z   | 152      | -64.67   | 10.5     | 196      | 20031106 | 2003     | 11       |  6       | 15       |          |          |          |          |          |          |\n",
       "| 2        | Trap_Z   | 152      | -64.67   | 10.5     | 197      | 20031121 | 2003     | 11       | 21       | 15       | 0.319    | 0.074    | 0.079    | 0.015    | 0.040    | 0.015    |\n",
       "| 3        | Trap_Z   | 152      | -64.67   | 10.5     | 198      | 20031206 | 2003     | 12       |  6       | 15       | 0.668    | 0.079    | 0.400    | 0.057    | 0.014    | 0.015    |\n",
       "| 4        | Trap_Z   | 152      | -64.67   | 10.5     | 199      | 20031221 | 2003     | 12       | 21       | 15       | 0.162    | 0.014    | 0.049    | 0.018    | 0.060    | 0.002    |\n",
       "| 5        | Trap_Z   | 152      | -64.67   | 10.5     | 200      | 20040105 | 2004     |  1       |  5       | 15       |          |          |          |          |          |          |\n",
       "| 6        | Trap_Z   | 152      | -64.67   | 10.5     | 201      | 20040120 | 2004     |  1       | 20       | 15       | 0.185    | 0.043    | 0.053    | 0.014    | 0.011    | 0.007    |\n",
       "\n"
      ],
      "text/plain": [
       "  Num trap_ID depth_trap lon    lat  sample_num date_open Year Month Day\n",
       "1 1   Trap_Z  152        -64.67 10.5 196        20031106  2003 11     6 \n",
       "2 2   Trap_Z  152        -64.67 10.5 197        20031121  2003 11    21 \n",
       "3 3   Trap_Z  152        -64.67 10.5 198        20031206  2003 12     6 \n",
       "4 4   Trap_Z  152        -64.67 10.5 199        20031221  2003 12    21 \n",
       "5 5   Trap_Z  152        -64.67 10.5 200        20040105  2004  1     5 \n",
       "6 6   Trap_Z  152        -64.67 10.5 201        20040120  2004  1    20 \n",
       "  duration_d MF_Total MF_Corg MF_CaCO3 MF_Sibio MF_Terr MF_N \n",
       "1 15                                                         \n",
       "2 15         0.319    0.074   0.079    0.015    0.040   0.015\n",
       "3 15         0.668    0.079   0.400    0.057    0.014   0.015\n",
       "4 15         0.162    0.014   0.049    0.018    0.060   0.002\n",
       "5 15                                                         \n",
       "6 15         0.185    0.043   0.053    0.014    0.011   0.007"
      ]
     },
     "metadata": {},
     "output_type": "display_data"
    }
   ],
   "source": [
    "Sediment_Trap_df <- data.frame(\"Num\" = 1:Sediment_Trap$dim$unlimited$len)\n",
    "print('start')\n",
    "for(i in 1:Sediment_Trap$nvars){\n",
    "    #print(i)\n",
    "    Sediment_Trap_df[paste(attributes(Sediment_Trap$var)$names[i])] <- ncvar_get(Sediment_Trap, attributes(Sediment_Trap$var)$names[i])\n",
    "}\n",
    "print('done reading')\n",
    "head(Sediment_Trap_df)"
   ]
  },
  {
   "cell_type": "code",
   "execution_count": 53,
   "metadata": {},
   "outputs": [
    {
     "name": "stdout",
     "output_type": "stream",
     "text": [
      "Num Cruise Cruise_ID Day Month Year Date Latitude Longitude Analyst Mesh_Size TOTAL_DENSITY BIOMASS ASH COPEPODS CALANOIDS CYCLOPOIDA HAPARCTICOIDA POECILOSTOMATOIDA L_FISH H_FISH CHAETOGNATHA CLADOCEROS OSTRACODA FORAMINIFERA AMPHIPODS ISOPODS EUPHAUSIIDS MISYDACEA SERGESTID L_CRUSTACEA N_COPEPOD C_COPEPOD N_CIRRIPEDIA C_CIRRIPEDIA L_DECAPODA L_STOMATOPODA L_EUPHAUSIID L_SERGESTID POLICHAETES L_CYPHONAUTES MEDUSA SIPHONOPHORES CTENOPHORES L_ECHINODERMS PTEROPODS HETEROPODS GASTROPODS L_CEPHALOPODA L_BIVALVE L_GASTROPOD PROTOZOAN RADIOLARIAN APPENDICULARIANS SALPS DOLIOLIDS BIVALVES H_CRUSTACEA L_ANFIOXUS LUCIFER JUV_GASTROPOD"
     ]
    }
   ],
   "source": [
    "cat(names(zooplankton_df))"
   ]
  },
  {
   "cell_type": "code",
   "execution_count": 56,
   "metadata": {},
   "outputs": [],
   "source": [
    "zooplankton_df$date <- as.Date(zooplankton_df$Date, format=\"%Y-%m-%d\")"
   ]
  },
  {
   "cell_type": "code",
   "execution_count": null,
   "metadata": {},
   "outputs": [],
   "source": []
  },
  {
   "cell_type": "markdown",
   "metadata": {},
   "source": [
    "# TODO:\n",
    "- add units to all dataframes & vars for consistency, and to prevent errors!"
   ]
  },
  {
   "cell_type": "code",
   "execution_count": null,
   "metadata": {},
   "outputs": [],
   "source": []
  }
 ],
 "metadata": {
  "kernelspec": {
   "display_name": "R",
   "language": "R",
   "name": "ir"
  },
  "language_info": {
   "codemirror_mode": "r",
   "file_extension": ".r",
   "mimetype": "text/x-r-source",
   "name": "R",
   "pygments_lexer": "r",
   "version": "3.6.1"
  }
 },
 "nbformat": 4,
 "nbformat_minor": 4
}
