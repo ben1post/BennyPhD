{
 "cells": [
  {
   "cell_type": "code",
   "execution_count": 1,
   "id": "b5f4ba2f-0038-4c94-90e3-ef2f4756db65",
   "metadata": {},
   "outputs": [],
   "source": [
    "import xso"
   ]
  },
  {
   "cell_type": "code",
   "execution_count": 2,
   "id": "3f5cb676-37d6-4de8-a6d1-5d99d32d9f5c",
   "metadata": {},
   "outputs": [
    {
     "ename": "ModuleNotFoundError",
     "evalue": "No module named 'phydra'",
     "output_type": "error",
     "traceback": [
      "\u001b[0;31m---------------------------------------------------------------------------\u001b[0m",
      "\u001b[0;31mModuleNotFoundError\u001b[0m                       Traceback (most recent call last)",
      "\u001b[0;32m<ipython-input-2-beadd70e2aac>\u001b[0m in \u001b[0;36m<module>\u001b[0;34m\u001b[0m\n\u001b[0;32m----> 1\u001b[0;31m \u001b[0;32mimport\u001b[0m \u001b[0mphydra\u001b[0m\u001b[0;34m\u001b[0m\u001b[0;34m\u001b[0m\u001b[0m\n\u001b[0m",
      "\u001b[0;31mModuleNotFoundError\u001b[0m: No module named 'phydra'"
     ]
    }
   ],
   "source": [
    "import phydra"
   ]
  },
  {
   "cell_type": "markdown",
   "id": "111234b8-1436-4663-b52e-5620f1dc2a84",
   "metadata": {},
   "source": [
    "# NEED TO INSTALL PHYDRA IN DEV MODE"
   ]
  },
  {
   "cell_type": "markdown",
   "id": "bc0d77f2-af44-4308-b51b-1cf00fa4f315",
   "metadata": {},
   "source": [
    "doesn't make sense yet, will do from within phydra folder for first testing"
   ]
  },
  {
   "cell_type": "code",
   "execution_count": null,
   "id": "9620fb3c-54bd-4ac1-9378-d719ba6c0eeb",
   "metadata": {},
   "outputs": [],
   "source": []
  }
 ],
 "metadata": {
  "kernelspec": {
   "display_name": "Python 3 (ipykernel)",
   "language": "python",
   "name": "python3"
  },
  "language_info": {
   "codemirror_mode": {
    "name": "ipython",
    "version": 3
   },
   "file_extension": ".py",
   "mimetype": "text/x-python",
   "name": "python",
   "nbconvert_exporter": "python",
   "pygments_lexer": "ipython3",
   "version": "3.9.7"
  }
 },
 "nbformat": 4,
 "nbformat_minor": 5
}
