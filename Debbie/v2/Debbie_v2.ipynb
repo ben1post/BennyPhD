{
 "cells": [
  {
   "cell_type": "code",
   "execution_count": 3,
   "metadata": {},
   "outputs": [],
   "source": [
    "import numpy as np\n",
    "import time\n",
    "import xarray as xr\n",
    "\n",
    "from SizeModLogspace_v2 import SizeModLogspace\n",
    "from SizeModLogspace_v2_old import SizeModLogspace as SizeModLogspace_old\n",
    "\n",
    "Pnum = 15      # specify the nos of phytoplankton size groups\n",
    "Ynum = 1       # no. of modeling year\n",
    "mod_name = 'stdrun'\n",
    "\n",
    "# Runs - loop\n",
    "#   Nutrient schemes: Oligotrophic (1.0); Mesotrophic (15.0); Eutrophic (50.0)\n",
    "#   Mixing regimes: Meromictic (just for observation); polymictic; dimictic; monomictic\n",
    "N0_list = [1] #[1, 15, 50]\n",
    "mix_list = ['constant', 'medium', 'high']\n",
    "sol = np.zeros((Ynum*365, Pnum + 4, len(N0_list), len(mix_list)))  # len(mix_list) # time; no. var; N0 schemes; mixing regimes"
   ]
  },
  {
   "cell_type": "markdown",
   "metadata": {},
   "source": [
    "# OLD"
   ]
  },
  {
   "cell_type": "code",
   "execution_count": 4,
   "metadata": {},
   "outputs": [
    {
     "name": "stdout",
     "output_type": "stream",
     "text": [
      "stdrun 15 start: Sun Oct 18 18:55:22 2020\n",
      "Nutrient: 1\n",
      "Mixing: constant\n",
      "0.00043702125549316406\n",
      "Mixing: medium\n",
      "73.87419772148132\n",
      "Mixing: high\n",
      "307.27336978912354\n",
      "stdrun 15 complete: Sun Oct 18 19:08:22 2020\n",
      "stdrun 15 run time(hour): 0.216757143802113\n",
      "stdrun 15 run time(day): 0.009031547658421376\n"
     ]
    }
   ],
   "source": [
    "# Run solution\n",
    "starttime = time.ctime()        # save it for documentation purposes\n",
    "print(mod_name, str(Pnum), \"start:\", starttime)\n",
    "start = time.time()             # start the timer\n",
    "\n",
    "for i in range(len(N0_list)):   # nutrient level\n",
    "    print(\"Nutrient:\", N0_list[i])\n",
    "    for j in range(len(mix_list)):  # mixing regimes\n",
    "        print(\"Mixing:\", mix_list[j])\n",
    "        print(time.time()-start)\n",
    "        (sol[:, :, i, j], d) = SizeModLogspace_old(freq=mix_list[j], N0=N0_list[i], numP=Pnum, numYears=Ynum).solution\n",
    "\n",
    "# Complete\n",
    "end = time.time()  # stop the timer\n",
    "endtime = time.ctime()  # save it for documentation purposes\n",
    "print(mod_name, str(Pnum), \"complete:\", endtime)\n",
    "runtime = (end - start) / 3600  # calculate run time (hour)\n",
    "print(mod_name, str(Pnum), \"run time(hour):\", runtime)\n",
    "print(mod_name, str(Pnum), \"run time(day):\", runtime/24)"
   ]
  },
  {
   "cell_type": "markdown",
   "metadata": {},
   "source": [
    "# NEW"
   ]
  },
  {
   "cell_type": "code",
   "execution_count": 5,
   "metadata": {},
   "outputs": [
    {
     "name": "stdout",
     "output_type": "stream",
     "text": [
      "stdrun 15 start: Sun Oct 18 19:08:22 2020\n",
      "Nutrient: 1\n",
      "Mixing: constant\n",
      "0.0004401206970214844\n",
      "Mixing: medium\n",
      "6.8662309646606445\n",
      "Mixing: high\n",
      "22.456178188323975\n",
      "stdrun 15 complete: Sun Oct 18 19:09:16 2020\n",
      "stdrun 15 run time(hour): 0.015028595527013144\n",
      "stdrun 15 run time(day): 0.0006261914802922143\n"
     ]
    }
   ],
   "source": [
    "# Run solution\n",
    "starttime = time.ctime()        # save it for documentation purposes\n",
    "print(mod_name, str(Pnum), \"start:\", starttime)\n",
    "start = time.time()             # start the timer\n",
    "\n",
    "for i in range(len(N0_list)):   # nutrient level\n",
    "    print(\"Nutrient:\", N0_list[i])\n",
    "    for j in range(len(mix_list)):  # mixing regimes\n",
    "        print(\"Mixing:\", mix_list[j])\n",
    "        print(time.time()-start)\n",
    "        (sol[:, :, i, j], d) = SizeModLogspace(freq=mix_list[j], N0=N0_list[i], numP=Pnum, numYears=Ynum).solution\n",
    "\n",
    "# Complete\n",
    "end = time.time()  # stop the timer\n",
    "endtime = time.ctime()  # save it for documentation purposes\n",
    "print(mod_name, str(Pnum), \"complete:\", endtime)\n",
    "runtime = (end - start) / 3600  # calculate run time (hour)\n",
    "print(mod_name, str(Pnum), \"run time(hour):\", runtime)\n",
    "print(mod_name, str(Pnum), \"run time(day):\", runtime/24)"
   ]
  },
  {
   "cell_type": "code",
   "execution_count": null,
   "metadata": {},
   "outputs": [],
   "source": [
    "# Storing output\n",
    "out = xr.Dataset(\n",
    "    {'Nut': (['time', 'n0s', 'MixRgm'], sol[:, 0, :, :]),\n",
    "     'Zoo': (['time', 'ZooSize', 'n0s', 'MixRgm'], sol[:, 1:3, :, :]),\n",
    "     'Phy': (['time', 'PhySize', 'n0s', 'MixRgm'], sol[:, 4:, :, :])},\n",
    "    coords={'time': np.arange(Ynum*365),\n",
    "            'n0s': N0_list,\n",
    "            'MixRgm': np.arange(len(mix_list)),\n",
    "            'ZooSize': [5, 200],\n",
    "            'PhySize': np.logspace(0, 2, Pnum)},\n",
    "    attrs={'Title': 'This file contains sol output with different nutrient and mixing regimes',\n",
    "           'No. phytoplankton size group': Pnum,\n",
    "           'n0s': 'Nutrient regimes = 1, 15, 50',\n",
    "           'MixRgm': 'Mixing frequencies = constant, medium (4 times/yr), high (12 times/yr)',\n",
    "           'LWST units': 'Degree celcius',\n",
    "           'PAR units': 'Ein m$^{-2}$ d$^{-1}$',\n",
    "           'MLD units': 'Meters',\n",
    "           'Variable units': 'µmol NL$^{-1}$',\n",
    "           'Size units': 'µm ESD',\n",
    "           'Phyto size range': '1 - 100',\n",
    "           'Zoo size range': '5 - 200',\n",
    "           'Start run time': starttime,\n",
    "           'Complete run time': endtime,\n",
    "           'Total run time (hours)': runtime})\n",
    "\n",
    "out.to_netcdf(mod_name + '.nc') \n",
    "# out.to_netcdf('/people/home/sto/SizeMod/' + mod_name + '.nc')  # export"
   ]
  },
  {
   "cell_type": "code",
   "execution_count": null,
   "metadata": {},
   "outputs": [],
   "source": []
  }
 ],
 "metadata": {
  "kernelspec": {
   "display_name": "Python 3",
   "language": "python",
   "name": "python3"
  },
  "language_info": {
   "codemirror_mode": {
    "name": "ipython",
    "version": 3
   },
   "file_extension": ".py",
   "mimetype": "text/x-python",
   "name": "python",
   "nbconvert_exporter": "python",
   "pygments_lexer": "ipython3",
   "version": "3.8.5"
  }
 },
 "nbformat": 4,
 "nbformat_minor": 4
}
