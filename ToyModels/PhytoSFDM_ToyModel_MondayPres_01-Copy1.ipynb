{
 "cells": [
  {
   "cell_type": "markdown",
   "metadata": {},
   "source": [
    "# Second Toy Model\n",
    "## with 2 functional groups & Silicate\n",
    "## and comparison of model to data\n",
    "This size based model variant calculates structural changes of a community\n",
    "composed by n number of morphologically different phytoplankton.\n",
    "\n",
    "adapted from Estebans PhytoSFDM Model formulation (the full model)\n",
    "\n",
    "#ToDo:\n",
    "- Progress Report: Draw Up model structure, preliminary results plotted with data 2,3 pages writing, on slack + small presentation @ group meeting"
   ]
  },
  {
   "cell_type": "markdown",
   "metadata": {},
   "source": [
    "# initialisation:"
   ]
  },
  {
   "cell_type": "code",
   "execution_count": 1,
   "metadata": {},
   "outputs": [],
   "source": [
    "import numpy as np\n",
    "import matplotlib.pyplot as plt\n",
    "from scipy.integrate import odeint\n",
    "# ExtractEnvFor:\n",
    "import scipy.interpolate as intrp\n",
    "import matplotlib as mpl\n",
    "import time\n",
    "import pandas"
   ]
  },
  {
   "cell_type": "markdown",
   "metadata": {},
   "source": [
    "# Interpolation and setting up EnvForcing"
   ]
  },
  {
   "cell_type": "code",
   "execution_count": 2,
   "metadata": {
    "code_folding": [
     0,
     22
    ]
   },
   "outputs": [],
   "source": [
    "def firstderivspl(Forcing, time, k=3, s=None):\n",
    "    \"\"\"\n",
    "    Method to calculate the first derivative of an interpolated spline.\n",
    "\n",
    "    Parameters\n",
    "    ----------\n",
    "    time: in days\n",
    "    kind: the type of interpolation either linear, cubic, spline or\n",
    "           piecewise polynomial\n",
    "    k: Degree of the smoothing spline\n",
    "    s: Positive smoothing factor used to choose the number of knots\n",
    "\n",
    "    Returns\n",
    "    -------\n",
    "    The first derivative of the temporally interpolated environmental forcing spline.\n",
    "    \"\"\"\n",
    "    outForcing = Forcing  # spatialave(Forcing)\n",
    "    tmonth = np.linspace(0., 365., 13) #HERE deprecation warning due to 13. <- float, should be int\n",
    "    newt = np.mod(time, 365.)\n",
    "    outintp = intrp.UnivariateSpline(tmonth, outForcing, k=k, s=s)\n",
    "    return outintp.derivative()(newt)\n",
    "\n",
    "def dailyinterp(Forcing, time, kind='spline', k=3, s=None):\n",
    "    \"\"\"\n",
    "    Method to interpolate from monthly to daily environmental data.\n",
    "\n",
    "    Parameters\n",
    "    -----\n",
    "    time: in days\n",
    "    kind: the type of interpolation either linear, cubic, spline or piecewise polynomial\n",
    "    k: Degree of the smoothing spline\n",
    "    s: Positive smoothing factor used to choose the number of knots\n",
    "\n",
    "    Returns\n",
    "    -------\n",
    "    The temporally interpolated environmental forcing.\n",
    "    \"\"\"\n",
    "    outForcing = Forcing  # spatialave(Forcing)\n",
    "\n",
    "    tmonth = np.linspace(0., 12., 13) #HERE again, deprecation warning\n",
    "    newt = np.mod(time, 365.) * 12. / 365.\n",
    "    if kind == 'spline':\n",
    "        outintp = intrp.UnivariateSpline(tmonth, outForcing, k=k, s=s)\n",
    "        return outintp(newt)\n",
    "    elif kind == 'PWPoly':\n",
    "        outintp = intrp.PchipInterpolator(tmonth, outForcing)\n",
    "        return outintp(newt)\n",
    "    else:\n",
    "        outintp = intrp.interp1d(tmonth, outForcing, kind=kind)\n",
    "        return outintp(newt)"
   ]
  },
  {
   "cell_type": "code",
   "execution_count": 3,
   "metadata": {
    "code_folding": []
   },
   "outputs": [],
   "source": [
    "# parameters for interpolation\n",
    "kmld = 3\n",
    "smld = 0\n",
    "kindmld = \"spline\"\n",
    "kn0x = 5\n",
    "sn0x = None\n",
    "kindn0x = \"spline\"\n",
    "kpar = 5\n",
    "spar = None\n",
    "kindpar = \"spline\"\n",
    "ksst = 5\n",
    "ssst = None\n",
    "kindsst = \"spline\"\n",
    "ksi0x = 5\n",
    "ssi0x = None\n",
    "kindsi0x = \"spline\"\n",
    "\n",
    "# params\n",
    "alphaG = -0.75\n",
    "kappa = 0.1\n",
    "muZ = 1.35\n",
    "moZ = 0.3\n",
    "deltaZ = 0.31\n",
    "deltaD = 0.1\n",
    "betaU = 0.14275\n",
    "alphaU = -0.75\n",
    "\n",
    "betav = 0.01989\n",
    "alphav = 1.17\n",
    "muP = 1.5\n",
    "moP = 0.05\n",
    "\n",
    "Kp = 0.1\n",
    "kw = 0.1\n",
    "OptI = 30."
   ]
  },
  {
   "cell_type": "code",
   "execution_count": 4,
   "metadata": {
    "code_folding": []
   },
   "outputs": [],
   "source": [
    "# read environmental forcings\n",
    "MLDfile = pandas.read_csv('CARIACO_forcing01/MLD')\n",
    "MLD = list(MLDfile['press'])\n",
    "MLD.append(MLDfile['press'][0])\n",
    "\n",
    "NOXfile = pandas.read_csv('CARIACO_forcing01/N0')\n",
    "NOX = list(NOXfile['as.numeric(NO3_NO2)'])\n",
    "NOX.append(NOXfile['as.numeric(NO3_NO2)'][0])\n",
    "\n",
    "SSTfile = pandas.read_csv('CARIACO_forcing01/SST')\n",
    "SST = list(SSTfile['temp'])\n",
    "SST.append(SSTfile['temp'][0])\n",
    "\n",
    "PARfile = pandas.read_csv('CARIACO_forcing01/PAR')\n",
    "PAR = list(PARfile['value'])\n",
    "PAR.append(PARfile['value'][0])\n",
    "\n",
    "SiOXfile = pandas.read_csv('CARIACO_forcing01/Si0')\n",
    "SiOX = list(SiOXfile['as.numeric(Silicate)'])\n",
    "SiOX.append(SiOXfile['as.numeric(Silicate)'][0])\n",
    "\n"
   ]
  },
  {
   "cell_type": "markdown",
   "metadata": {},
   "source": [
    "# Actual Model"
   ]
  },
  {
   "cell_type": "code",
   "execution_count": 5,
   "metadata": {
    "code_folding": []
   },
   "outputs": [],
   "source": [
    "def fullmodelSiNo(x, t):\n",
    "    N = x[0]\n",
    "    Si = x[3+NoMtypeSi]\n",
    "    Z = x[1]\n",
    "    D = x[2]\n",
    "    Ps = x[3:3+NoMtypeSi]\n",
    "    Pn = x[3+NoMtypeSi+1:3+NoMtypeSi+1+NoMtypeNo]\n",
    "    dxdt = np.zeros(len(x))\n",
    "\n",
    "    sizerangeSi = np.linspace(np.log(sizeminSi), np.log(sizemaxSi), num=NoMtypeSi)\n",
    "    sizerangeNo = np.linspace(np.log(sizeminNo), np.log(sizemaxNo), num=NoMtypeNo)\n",
    "\n",
    "    # Edible phytoplankton\n",
    "    Ped = np.sum(Ps * np.exp(sizerangeSi) ** alphaG + Pn * np.exp(sizerangeNo) ** alphaG)\n",
    "\n",
    "    # Non-P Processes\n",
    "    Mixing = (kappa + max(firstderivspl(MLD, t, k=kmld, s=smld), 0.)) / dailyinterp(MLD, t, kind=kindmld, k=kmld,\n",
    "                                                                                    s=smld)\n",
    "    ZooMortality = moZ * Z ** 2\n",
    "    ZooMixing = Z * firstderivspl(MLD, t, k=kmld, s=smld) / dailyinterp(MLD, t, kind=kindmld, k=kmld, s=smld)\n",
    "    Mineralization = deltaD * D\n",
    "    DetritusMixing = D * (kappa + max(firstderivspl(MLD, t, k=kmld, s=smld), 0.)) / dailyinterp(MLD, t, kind=kindmld,\n",
    "                                                                                                k=kmld, s=smld)\n",
    "    NMixing = Mixing * (dailyinterp(NOX, t, kind=kindn0x, k=kn0x, s=sn0x) - N)\n",
    "    SiMixing = Mixing * (dailyinterp(SiOX, t, kind=kindsi0x, k=ksi0x, s=ssi0x) - Si)\n",
    "    \n",
    "    dxdt[0] = Mineralization + NMixing\n",
    "    dxdt[1] = - ZooMortality - ZooMixing\n",
    "    dxdt[2] = ZooMortality - Mineralization - DetritusMixing\n",
    "\n",
    "    for i in range(len(Ps)):\n",
    "        Ssi = sizerangeSi[i]\n",
    "        Psi = Ps[i]\n",
    "        \n",
    "        \n",
    "        # Gains of phytoplankton biomass\n",
    "        N_Uptake = N / (N + betaU * np.exp(Ssi) ** alphaU)\n",
    "        \n",
    "        Si_Uptake = Si / (Si + betaU * np.exp(Ssi) ** alphaU)\n",
    "        \n",
    "        LightHarvesting = 1. / (kw * dailyinterp(MLD, t, kind=kindmld, k=kmld, s=smld)) * (\n",
    "                    -np.exp(1. - dailyinterp(PAR, t, kind=kindpar, k=kpar, s=spar)\n",
    "                            / OptI) - (-np.exp((1. - (dailyinterp(PAR, t, kind=kindpar, k=kpar, s=spar) * np.exp(-kw *\n",
    "                            dailyinterp(MLD, t, kind=kindmld, k=kmld, s=smld))) / OptI))))\n",
    "        TemperatureDepGrowth = np.exp(0.063 * dailyinterp(SST, t, kind=kindsst, k=ksst, s=ssst))\n",
    "        GainsSi = muP * min(N_Uptake,Si_Uptake) * LightHarvesting * TemperatureDepGrowth\n",
    "        \n",
    "        # Losses of phytoplankton biomass\n",
    "        Grazing = muZ * Z * np.exp(Ssi) ** alphaG / (Ped + Kp)\n",
    "        Sinking = (betav * np.exp(Ssi) ** alphav) / dailyinterp(MLD, t, kind=kindmld, k=kmld, s=smld)\n",
    "        OtherPMortalities = moP\n",
    "        Losses = Grazing + Sinking + OtherPMortalities + Mixing\n",
    "        # Other Processes\n",
    "        ZooGrowth = deltaZ * Grazing * Psi\n",
    "        UnassimilatedProduction = (1. - deltaZ) * Grazing * Psi\n",
    "\n",
    "        dxdt[0] = dxdt[0] - Psi * GainsSi\n",
    "        dxdt[1] = dxdt[1] + ZooGrowth\n",
    "        dxdt[2] = dxdt[2] + UnassimilatedProduction + Psi * OtherPMortalities\n",
    "        dxdt[3 + i] = Psi * (GainsSi - Losses)\n",
    "        \n",
    "        \n",
    "    for i in range(len(Pn)):\n",
    "        Sno = sizerangeN[i]\n",
    "        Pno = Pn[i]\n",
    "        \n",
    "        # Gains of phytoplankton biomass\n",
    "        N_Uptake = N / (N + betaU * np.exp(Sno) ** alphaU)\n",
    "        \n",
    "        Si_Uptake = Si / (Si + betaU * np.exp(Sno) ** alphaU)\n",
    "        \n",
    "        LightHarvesting = 1. / (kw * dailyinterp(MLD, t, kind=kindmld, k=kmld, s=smld)) * (\n",
    "                    -np.exp(1. - dailyinterp(PAR, t, kind=kindpar, k=kpar, s=spar)\n",
    "                            / OptI) - (-np.exp((1. - (dailyinterp(PAR, t, kind=kindpar, k=kpar, s=spar) * np.exp(-kw *\n",
    "                            dailyinterp(MLD, t, kind=kindmld, k=kmld, s=smld))) / OptI))))\n",
    "        TemperatureDepGrowth = np.exp(0.063 * dailyinterp(SST, t, kind=kindsst, k=ksst, s=ssst))\n",
    "        GainsNo = muP * N_Uptake * LightHarvesting * TemperatureDepGrowth\n",
    "\n",
    "        # Losses of phytoplankton biomass\n",
    "        Grazing = muZ * Z * np.exp(Sno) ** alphaG / (Ped + Kp)\n",
    "        Sinking = (betav * np.exp(Sno) ** alphav) / dailyinterp(MLD, t, kind=kindmld, k=kmld, s=smld)\n",
    "        OtherPMortalities = moP\n",
    "        Losses = Grazing + Sinking + OtherPMortalities + Mixing\n",
    "        # Other Processes\n",
    "        ZooGrowth = deltaZ * Grazing * Pno\n",
    "        UnassimilatedProduction = (1. - deltaZ) * Grazing * Pno\n",
    "\n",
    "        dxdt[0] = dxdt[0] - Pno * GainsNo\n",
    "        dxdt[1] = dxdt[1] + ZooGrowth\n",
    "        dxdt[2] = dxdt[2] + UnassimilatedProduction + Pno * OtherPMortalities\n",
    "        \n",
    "        dxdt[3 + NoMtypeSi + 1 + i] = Pno * (GainsNo - Losses)\n",
    "        \n",
    "    dxdt[3+NoMtypeSi] = Mineralization + SiMixing\n",
    "    \n",
    "    return dxdt"
   ]
  },
  {
   "cell_type": "code",
   "execution_count": 6,
   "metadata": {
    "code_folding": []
   },
   "outputs": [],
   "source": [
    "# initialize parameters:\n",
    "N0 = np.mean(NOX)\n",
    "Si0 = np.mean(SiOX)\n",
    "Z0 = 0.1\n",
    "D0 = 0.01\n",
    "PSi0 = 0.01\n",
    "PNo0 = 0.01 \n",
    "NoMtypeSi = 5  # number of Morphotypes for the full model\n",
    "NoMtypeNo = 5  # number of Morphotypes for the full model\n",
    "\n",
    "initcondSiNo = np.concatenate(([N0], [Z0], [D0], [PSi0] * NoMtypeSi, [Si0], [PNo0] * NoMtypeNo), 0)\n",
    "timedays_model = np.arange(0., 5 * 365., 1.0)\n",
    "\n",
    "sizeminSi = 0.2  # Minimum size of the phytoplankton community (micro m ESD)\n",
    "sizemaxSi = 50.  # Maximum size of the phytoplankton community (micro m ESD)\n",
    "sizeminNo = 0.2  # Minimum size of the phytoplankton community (micro m ESD)\n",
    "sizemaxNo = 40.  # Maximum size of the phytoplankton community (micro m ESD)\n",
    "\n",
    "sizerangeSi = np.linspace(np.log(sizeminSi), np.log(sizemaxSi), num=NoMtypeSi)\n",
    "sizerangeN = np.linspace(np.log(sizeminNo), np.log(sizemaxNo), num=NoMtypeNo)\n"
   ]
  },
  {
   "cell_type": "markdown",
   "metadata": {},
   "source": [
    "# Integration"
   ]
  },
  {
   "cell_type": "code",
   "execution_count": 7,
   "metadata": {},
   "outputs": [
    {
     "name": "stdout",
     "output_type": "stream",
     "text": [
      "starting integration\n",
      "finished after 106.662 sec\n"
     ]
    }
   ],
   "source": [
    "#integrate Silicate+Nitrate Model:\n",
    "tos = time.time()\n",
    "print('starting integration')\n",
    "outarraySiNo_Full = odeint(fullmodelSiNo, initcondSiNo, timedays_model)#, rtol=1e-12, atol=1e-12)\n",
    "tos1 = time.time()\n",
    "print('finished after %4.3f sec'%(tos1-tos))"
   ]
  },
  {
   "cell_type": "code",
   "execution_count": 8,
   "metadata": {
    "code_folding": []
   },
   "outputs": [],
   "source": [
    "#truncate outarraySiNO to last year of 5:\n",
    "outarraySiNo = outarraySiNo_Full[1460:1825]"
   ]
  },
  {
   "cell_type": "code",
   "execution_count": 9,
   "metadata": {},
   "outputs": [],
   "source": [
    "timedays = timedays_model[1:366]"
   ]
  },
  {
   "cell_type": "markdown",
   "metadata": {},
   "source": [
    "# plot!  "
   ]
  },
  {
   "cell_type": "code",
   "execution_count": 10,
   "metadata": {
    "code_folding": []
   },
   "outputs": [
    {
     "ename": "FileNotFoundError",
     "evalue": "File b'../BennyPhD/CARIACOModelingProject/Data/DataFiles_Processed/ChlA_bottle_yearly_surface.csv' does not exist",
     "output_type": "error",
     "traceback": [
      "\u001b[0;31m---------------------------------------------------------------------------\u001b[0m",
      "\u001b[0;31mFileNotFoundError\u001b[0m                         Traceback (most recent call last)",
      "\u001b[0;32m<ipython-input-10-a74a948f05c5>\u001b[0m in \u001b[0;36m<module>\u001b[0;34m\u001b[0m\n\u001b[1;32m      1\u001b[0m \u001b[0;31m# read yearly data (for comparison to model) from Cariaco\u001b[0m\u001b[0;34m\u001b[0m\u001b[0;34m\u001b[0m\u001b[0m\n\u001b[0;32m----> 2\u001b[0;31m \u001b[0mChlA\u001b[0m \u001b[0;34m=\u001b[0m \u001b[0mpandas\u001b[0m\u001b[0;34m.\u001b[0m\u001b[0mread_csv\u001b[0m\u001b[0;34m(\u001b[0m\u001b[0;34m'../BennyPhD/CARIACOModelingProject/Data/DataFiles_Processed/ChlA_bottle_yearly_surface.csv'\u001b[0m\u001b[0;34m)\u001b[0m\u001b[0;34m\u001b[0m\u001b[0m\n\u001b[0m\u001b[1;32m      3\u001b[0m \u001b[0;34m\u001b[0m\u001b[0m\n\u001b[1;32m      4\u001b[0m \u001b[0mNO3NO2\u001b[0m \u001b[0;34m=\u001b[0m \u001b[0mpandas\u001b[0m\u001b[0;34m.\u001b[0m\u001b[0mread_csv\u001b[0m\u001b[0;34m(\u001b[0m\u001b[0;34m'../BennyPhD/CARIACOModelingProject/Data/DataFiles_Processed/NO3NO2_bottle_yearly_surface.csv'\u001b[0m\u001b[0;34m)\u001b[0m\u001b[0;34m\u001b[0m\u001b[0m\n\u001b[1;32m      5\u001b[0m \u001b[0;34m\u001b[0m\u001b[0m\n",
      "\u001b[0;32m~/anaconda3/lib/python3.7/site-packages/pandas/io/parsers.py\u001b[0m in \u001b[0;36mparser_f\u001b[0;34m(filepath_or_buffer, sep, delimiter, header, names, index_col, usecols, squeeze, prefix, mangle_dupe_cols, dtype, engine, converters, true_values, false_values, skipinitialspace, skiprows, nrows, na_values, keep_default_na, na_filter, verbose, skip_blank_lines, parse_dates, infer_datetime_format, keep_date_col, date_parser, dayfirst, iterator, chunksize, compression, thousands, decimal, lineterminator, quotechar, quoting, escapechar, comment, encoding, dialect, tupleize_cols, error_bad_lines, warn_bad_lines, skipfooter, doublequote, delim_whitespace, low_memory, memory_map, float_precision)\u001b[0m\n\u001b[1;32m    676\u001b[0m                     skip_blank_lines=skip_blank_lines)\n\u001b[1;32m    677\u001b[0m \u001b[0;34m\u001b[0m\u001b[0m\n\u001b[0;32m--> 678\u001b[0;31m         \u001b[0;32mreturn\u001b[0m \u001b[0m_read\u001b[0m\u001b[0;34m(\u001b[0m\u001b[0mfilepath_or_buffer\u001b[0m\u001b[0;34m,\u001b[0m \u001b[0mkwds\u001b[0m\u001b[0;34m)\u001b[0m\u001b[0;34m\u001b[0m\u001b[0m\n\u001b[0m\u001b[1;32m    679\u001b[0m \u001b[0;34m\u001b[0m\u001b[0m\n\u001b[1;32m    680\u001b[0m     \u001b[0mparser_f\u001b[0m\u001b[0;34m.\u001b[0m\u001b[0m__name__\u001b[0m \u001b[0;34m=\u001b[0m \u001b[0mname\u001b[0m\u001b[0;34m\u001b[0m\u001b[0m\n",
      "\u001b[0;32m~/anaconda3/lib/python3.7/site-packages/pandas/io/parsers.py\u001b[0m in \u001b[0;36m_read\u001b[0;34m(filepath_or_buffer, kwds)\u001b[0m\n\u001b[1;32m    438\u001b[0m \u001b[0;34m\u001b[0m\u001b[0m\n\u001b[1;32m    439\u001b[0m     \u001b[0;31m# Create the parser.\u001b[0m\u001b[0;34m\u001b[0m\u001b[0;34m\u001b[0m\u001b[0m\n\u001b[0;32m--> 440\u001b[0;31m     \u001b[0mparser\u001b[0m \u001b[0;34m=\u001b[0m \u001b[0mTextFileReader\u001b[0m\u001b[0;34m(\u001b[0m\u001b[0mfilepath_or_buffer\u001b[0m\u001b[0;34m,\u001b[0m \u001b[0;34m**\u001b[0m\u001b[0mkwds\u001b[0m\u001b[0;34m)\u001b[0m\u001b[0;34m\u001b[0m\u001b[0m\n\u001b[0m\u001b[1;32m    441\u001b[0m \u001b[0;34m\u001b[0m\u001b[0m\n\u001b[1;32m    442\u001b[0m     \u001b[0;32mif\u001b[0m \u001b[0mchunksize\u001b[0m \u001b[0;32mor\u001b[0m \u001b[0miterator\u001b[0m\u001b[0;34m:\u001b[0m\u001b[0;34m\u001b[0m\u001b[0m\n",
      "\u001b[0;32m~/anaconda3/lib/python3.7/site-packages/pandas/io/parsers.py\u001b[0m in \u001b[0;36m__init__\u001b[0;34m(self, f, engine, **kwds)\u001b[0m\n\u001b[1;32m    785\u001b[0m             \u001b[0mself\u001b[0m\u001b[0;34m.\u001b[0m\u001b[0moptions\u001b[0m\u001b[0;34m[\u001b[0m\u001b[0;34m'has_index_names'\u001b[0m\u001b[0;34m]\u001b[0m \u001b[0;34m=\u001b[0m \u001b[0mkwds\u001b[0m\u001b[0;34m[\u001b[0m\u001b[0;34m'has_index_names'\u001b[0m\u001b[0;34m]\u001b[0m\u001b[0;34m\u001b[0m\u001b[0m\n\u001b[1;32m    786\u001b[0m \u001b[0;34m\u001b[0m\u001b[0m\n\u001b[0;32m--> 787\u001b[0;31m         \u001b[0mself\u001b[0m\u001b[0;34m.\u001b[0m\u001b[0m_make_engine\u001b[0m\u001b[0;34m(\u001b[0m\u001b[0mself\u001b[0m\u001b[0;34m.\u001b[0m\u001b[0mengine\u001b[0m\u001b[0;34m)\u001b[0m\u001b[0;34m\u001b[0m\u001b[0m\n\u001b[0m\u001b[1;32m    788\u001b[0m \u001b[0;34m\u001b[0m\u001b[0m\n\u001b[1;32m    789\u001b[0m     \u001b[0;32mdef\u001b[0m \u001b[0mclose\u001b[0m\u001b[0;34m(\u001b[0m\u001b[0mself\u001b[0m\u001b[0;34m)\u001b[0m\u001b[0;34m:\u001b[0m\u001b[0;34m\u001b[0m\u001b[0m\n",
      "\u001b[0;32m~/anaconda3/lib/python3.7/site-packages/pandas/io/parsers.py\u001b[0m in \u001b[0;36m_make_engine\u001b[0;34m(self, engine)\u001b[0m\n\u001b[1;32m   1012\u001b[0m     \u001b[0;32mdef\u001b[0m \u001b[0m_make_engine\u001b[0m\u001b[0;34m(\u001b[0m\u001b[0mself\u001b[0m\u001b[0;34m,\u001b[0m \u001b[0mengine\u001b[0m\u001b[0;34m=\u001b[0m\u001b[0;34m'c'\u001b[0m\u001b[0;34m)\u001b[0m\u001b[0;34m:\u001b[0m\u001b[0;34m\u001b[0m\u001b[0m\n\u001b[1;32m   1013\u001b[0m         \u001b[0;32mif\u001b[0m \u001b[0mengine\u001b[0m \u001b[0;34m==\u001b[0m \u001b[0;34m'c'\u001b[0m\u001b[0;34m:\u001b[0m\u001b[0;34m\u001b[0m\u001b[0m\n\u001b[0;32m-> 1014\u001b[0;31m             \u001b[0mself\u001b[0m\u001b[0;34m.\u001b[0m\u001b[0m_engine\u001b[0m \u001b[0;34m=\u001b[0m \u001b[0mCParserWrapper\u001b[0m\u001b[0;34m(\u001b[0m\u001b[0mself\u001b[0m\u001b[0;34m.\u001b[0m\u001b[0mf\u001b[0m\u001b[0;34m,\u001b[0m \u001b[0;34m**\u001b[0m\u001b[0mself\u001b[0m\u001b[0;34m.\u001b[0m\u001b[0moptions\u001b[0m\u001b[0;34m)\u001b[0m\u001b[0;34m\u001b[0m\u001b[0m\n\u001b[0m\u001b[1;32m   1015\u001b[0m         \u001b[0;32melse\u001b[0m\u001b[0;34m:\u001b[0m\u001b[0;34m\u001b[0m\u001b[0m\n\u001b[1;32m   1016\u001b[0m             \u001b[0;32mif\u001b[0m \u001b[0mengine\u001b[0m \u001b[0;34m==\u001b[0m \u001b[0;34m'python'\u001b[0m\u001b[0;34m:\u001b[0m\u001b[0;34m\u001b[0m\u001b[0m\n",
      "\u001b[0;32m~/anaconda3/lib/python3.7/site-packages/pandas/io/parsers.py\u001b[0m in \u001b[0;36m__init__\u001b[0;34m(self, src, **kwds)\u001b[0m\n\u001b[1;32m   1706\u001b[0m         \u001b[0mkwds\u001b[0m\u001b[0;34m[\u001b[0m\u001b[0;34m'usecols'\u001b[0m\u001b[0;34m]\u001b[0m \u001b[0;34m=\u001b[0m \u001b[0mself\u001b[0m\u001b[0;34m.\u001b[0m\u001b[0musecols\u001b[0m\u001b[0;34m\u001b[0m\u001b[0m\n\u001b[1;32m   1707\u001b[0m \u001b[0;34m\u001b[0m\u001b[0m\n\u001b[0;32m-> 1708\u001b[0;31m         \u001b[0mself\u001b[0m\u001b[0;34m.\u001b[0m\u001b[0m_reader\u001b[0m \u001b[0;34m=\u001b[0m \u001b[0mparsers\u001b[0m\u001b[0;34m.\u001b[0m\u001b[0mTextReader\u001b[0m\u001b[0;34m(\u001b[0m\u001b[0msrc\u001b[0m\u001b[0;34m,\u001b[0m \u001b[0;34m**\u001b[0m\u001b[0mkwds\u001b[0m\u001b[0;34m)\u001b[0m\u001b[0;34m\u001b[0m\u001b[0m\n\u001b[0m\u001b[1;32m   1709\u001b[0m \u001b[0;34m\u001b[0m\u001b[0m\n\u001b[1;32m   1710\u001b[0m         \u001b[0mpassed_names\u001b[0m \u001b[0;34m=\u001b[0m \u001b[0mself\u001b[0m\u001b[0;34m.\u001b[0m\u001b[0mnames\u001b[0m \u001b[0;32mis\u001b[0m \u001b[0;32mNone\u001b[0m\u001b[0;34m\u001b[0m\u001b[0m\n",
      "\u001b[0;32mpandas/_libs/parsers.pyx\u001b[0m in \u001b[0;36mpandas._libs.parsers.TextReader.__cinit__\u001b[0;34m()\u001b[0m\n",
      "\u001b[0;32mpandas/_libs/parsers.pyx\u001b[0m in \u001b[0;36mpandas._libs.parsers.TextReader._setup_parser_source\u001b[0;34m()\u001b[0m\n",
      "\u001b[0;31mFileNotFoundError\u001b[0m: File b'../BennyPhD/CARIACOModelingProject/Data/DataFiles_Processed/ChlA_bottle_yearly_surface.csv' does not exist"
     ]
    }
   ],
   "source": [
    "# read yearly data (for comparison to model) from Cariaco\n",
    "ChlA = pandas.read_csv('../BennyPhD/CARIACOModelingProject/Data/DataFiles_Processed/ChlA_bottle_yearly_surface.csv')\n",
    "\n",
    "NO3NO2 = pandas.read_csv('../BennyPhD/CARIACOModelingProject/Data/DataFiles_Processed/NO3NO2_bottle_yearly_surface.csv')\n",
    "\n",
    "SiOH_UDO = pandas.read_csv('../BennyPhD/CARIACOModelingProject/Data/DataFiles_Processed/SiOH_UDO_bottle_yearly_surface.csv')\n",
    "SiOH_USF = pandas.read_csv('../BennyPhD/CARIACOModelingProject/Data/DataFiles_Processed/SiOH_USF_bottle_yearly_surface.csv')"
   ]
  },
  {
   "cell_type": "code",
   "execution_count": null,
   "metadata": {
    "code_folding": []
   },
   "outputs": [],
   "source": [
    "#make plot larger and more visible on dark background:\n",
    "plt.rcParams['figure.figsize'] = [7, 6]\n",
    "plt.rc_context({'axes.edgecolor':'black', 'xtick.color':'black', 'ytick.color':'black', 'figure.facecolor':'white'})\n",
    "\n",
    "plt.rcParams['figure.dpi']= 300"
   ]
  },
  {
   "cell_type": "code",
   "execution_count": null,
   "metadata": {},
   "outputs": [],
   "source": [
    "colors = ['#00C90D', '#01939A', 'black', 'grey', '#E2680B']\n",
    "alphas = [1., 0.8, 0.6, 0.4]\n",
    "lws = [1, 2.5, 4, 5.5]\n",
    "orangescmapSi = mpl.cm.Oranges(np.linspace(0, 1, NoMtypeSi))\n",
    "orangescmapNo = mpl.cm.Greens(np.linspace(0, 1, NoMtypeNo))\n",
    "\n",
    "# artist for legends\n",
    "FullArtist = plt.Line2D((0, 1), (0, 0), c=colors[4], alpha=alphas[1], lw=lws[0])"
   ]
  },
  {
   "cell_type": "code",
   "execution_count": null,
   "metadata": {
    "code_folding": []
   },
   "outputs": [],
   "source": [
    "mtypesSi = outarraySiNo[:, 3:3+NoMtypeSi]\n",
    "mtypesNo = outarraySiNo[:, 3+NoMtypeSi+1:3+NoMtypeSi+1+NoMtypeNo]\n",
    "ptotSi = np.sum(mtypesSi, 1)\n",
    "ptotNo = np.sum(mtypesNo, 1)\n",
    "ptot = ptotNo + ptotSi\n",
    "\n",
    "sizerangeSi = np.linspace(np.log(sizeminSi), np.log(sizemaxSi), num=NoMtypeSi)\n",
    "sizerangeNo = np.linspace(np.log(sizeminNo), np.log(sizemaxNo), num=NoMtypeNo)\n",
    "\n",
    "    \n",
    "lmeanSi = np.sum(mtypesSi*sizerangeSi, 1)/ptotSi\n",
    "lvarSi = np.sum(mtypesSi*sizerangeSi**2, 1)/ptotSi - lmeanSi**2\n",
    "lmeanNo = np.sum(mtypesNo*sizerangeNo, 1)/ptotNo\n",
    "lvarNo = np.sum(mtypesNo*sizerangeNo**2, 1)/ptotNo - lmeanNo**2"
   ]
  },
  {
   "cell_type": "code",
   "execution_count": null,
   "metadata": {},
   "outputs": [],
   "source": [
    "# Figure NO.2 SILICATE\n",
    "f2, (ax1, axs1, ax2, ax3, ax4) = plt.subplots(5, 1, sharex='col', sharey='row')\n",
    "# N\n",
    "ax1.plot(timedays, outarraySiNo[:, 0], c=colors[4], lw=lws[0], alpha=alphas[0], label='Model')\n",
    "ax1.set_ylabel('Nitrate \\n' '[µM]', multialignment='center', fontsize=10)\n",
    "ax1.set_ylim(-0.1, 5)\n",
    "\n",
    "ax1.ticklabel_format(style='sci',scilimits=(0,0))\n",
    "\n",
    "ax1.scatter(NO3NO2['yday'].values, NO3NO2['NO3NO2'].values, c=colors[1],s=4.3, label='Data')\n",
    "ax1.set_title('Nitrate & NO3 + NO2')\n",
    "ax1.legend(loc=1)\n",
    "\n",
    "# Si\n",
    "axs1.plot(timedays, outarraySiNo[:, 3+NoMtypeSi], c=colors[4], lw=lws[0], alpha=alphas[0])\n",
    "axs1.set_ylabel('Silicate \\n' '[µM]', multialignment='center', fontsize=10)\n",
    "axs1.set_ylim(-0.1, 12)\n",
    "\n",
    "axs1.scatter(SiOH_USF['yday'].values, SiOH_USF['SiOH'].values, c=colors[1],s=4.3)\n",
    "axs1.set_title('Silicate & SiOH')\n",
    "\n",
    "#NOW PLOT BOTH Phytoplankton together in one box\n",
    "#PHYTO\n",
    "for i in range(NoMtypeSi):\n",
    "    ax2.plot(timedays, outarraySiNo[:, 3+i], c=orangescmapSi[1])\n",
    "\n",
    "for i in range(NoMtypeNo):\n",
    "    ax2.plot(timedays, outarraySiNo[:, 3+NoMtypeSi+1+i], c=orangescmapNo[1])\n",
    "\n",
    "ax2.plot(0,0,c= orangescmapSi[1], label = 'SiUser') # just to include in legend / small hack\n",
    "ax2.plot(0,0,c= orangescmapNo[1], label = 'NoSiUser') # just to include in legend / small hack\n",
    "\n",
    "ax2.plot(timedays, ptot, c=colors[4], lw=lws[0], alpha=alphas[0], label='Total Phytoplankton')\n",
    "\n",
    "ax2.set_ylabel('Phyto \\n' '[µM N]', multialignment='center', fontsize=10)\n",
    "\n",
    "ax2_tx = ax2.twinx()\n",
    "ax2_tx.scatter(ChlA['yday'].values, ChlA['ChlA'].values, c=colors[1],s=4.3)\n",
    "ax2_tx.set_ylabel('ChlA \\n [mg/m3]')\n",
    "\n",
    "ax2.set_title('Phy Biomass & ChlA Data')\n",
    "ax2.legend()\n",
    "\n",
    "\n",
    "# Z\n",
    "ax3.plot(timedays, outarraySiNo[:, 1], c=colors[4], lw=lws[0], alpha=alphas[0])\n",
    "ax3.set_ylabel('Zooplankton \\n' '[µM N]', multialignment='center', fontsize=9)\n",
    "ax3.tick_params('y', labelsize=10)\n",
    "\n",
    "ax3.set_title('Zooplankton')\n",
    "ax3.set_ylim(0, 0.22)\n",
    "\n",
    "# D\n",
    "ax4.plot(timedays, outarraySiNo[:, 2], c=colors[4], lw=lws[0], alpha=alphas[0])\n",
    "ax4.set_ylabel('Detritus \\n' '[µM N]', multialignment='center', fontsize=9)\n",
    "\n",
    "ax3.set_title('Detritus')\n",
    "\n",
    "ax4.set_xlabel('Day in year', fontsize=14)\n",
    "ax4.set_ylim(0, 0.22)\n",
    "# Legend\n",
    "\n",
    "\n",
    "#plt.subplots_adjust(hspace=0.01)\n",
    "f2.set_figheight(15)\n",
    "plt.tight_layout()\n",
    "plt.show()"
   ]
  },
  {
   "cell_type": "code",
   "execution_count": null,
   "metadata": {},
   "outputs": [],
   "source": [
    "mtypesSi_Full = outarraySiNo_Full[:, 3:3+NoMtypeSi]\n",
    "mtypesNo_Full = outarraySiNo_Full[:, 3+NoMtypeSi+1:3+NoMtypeSi+1+NoMtypeNo]\n",
    "ptotSi_Full = np.sum(mtypesSi_Full, 1)\n",
    "ptotNo_Full = np.sum(mtypesNo_Full, 1)\n",
    "ptot_Full = ptotNo_Full + ptotSi_Full\n",
    "\n",
    "    \n",
    "lmeanSi_Full = np.sum(mtypesSi_Full*sizerangeSi, 1)/ptotSi_Full\n",
    "lvarSi_Full = np.sum(mtypesSi_Full*sizerangeSi**2, 1)/ptotSi_Full - lmeanSi_Full**2\n",
    "lmeanNo_Full = np.sum(mtypesNo_Full*sizerangeNo, 1)/ptotNo_Full\n",
    "lvarNo_Full = np.sum(mtypesNo_Full*sizerangeNo**2, 1)/ptotNo_Full - lmeanNo_Full**2"
   ]
  },
  {
   "cell_type": "code",
   "execution_count": null,
   "metadata": {},
   "outputs": [],
   "source": [
    "# Figure NO.3\n",
    "f3, (ax1s, ax1, ax2, ax3) = plt.subplots(4, 1, sharex='col')\n",
    "# Ps\n",
    "for i in range(NoMtypeSi):\n",
    "    ax1s.plot(timedays_model, outarraySiNo_Full[:, 3+i], c=orangescmapSi[i])\n",
    "ax1s.set_ylabel('Phy Si \\n' '[µM N]', multialignment='center', fontsize=8)\n",
    "ax1s.tick_params('y', labelsize=12)\n",
    "#ax1s.set_ylim(-0.1, 1)\n",
    "\n",
    "\n",
    "ax1s.set_title('Phytoplankton Si-User')\n",
    "\n",
    "# Pn\n",
    "for i in range(NoMtypeNo):\n",
    "    ax1.plot(timedays_model, outarraySiNo_Full[:, 3+NoMtypeSi+1+i], c=orangescmapNo[i])\n",
    "ax1.set_ylabel('Phy NoSi \\n' '[µM N]', multialignment='center', fontsize=8)\n",
    "ax1.tick_params('y', labelsize=12)\n",
    "#ax1.set_ylim(-0.1, 1)\n",
    "\n",
    "\n",
    "ax1.set_title('Phytoplankton Non-Si-User')\n",
    "\n",
    "# S\n",
    "ax2.plot(timedays_model, lmeanSi_Full, c=colors[4], lw=lws[0], alpha=alphas[0])\n",
    "ax2.set_ylabel('Mean Size \\n' '[Ln microm ESD]', multialignment='center', fontsize=8)\n",
    "ax2.set_ylim(0, 4)\n",
    "ax2.set_yticks([0, 1, 2, 3, 4])\n",
    "ax2.tick_params('y', labelsize=12)\n",
    "\n",
    "\n",
    "ax2.set_title('Mean Size')\n",
    "\n",
    "# V\n",
    "ax3.plot(timedays_model, lvarSi_Full, c=colors[4], lw=lws[0], alpha=alphas[0])\n",
    "ax3.set_ylabel('Size Variance \\n' '[(Ln microm ESD)^2]', multialignment='center', fontsize=8)\n",
    "ax3.set_xlabel(r'Time (years)', fontsize=12)\n",
    "ax3.tick_params('both', labelsize=12)\n",
    "ax3.set_ylim(-0.1,1)\n",
    "\n",
    "\n",
    "ax3.set_title('Size Variance')\n",
    "\n",
    "f3.set_figheight(10)\n",
    "# Legend\n",
    "plt.tight_layout()"
   ]
  }
 ],
 "metadata": {
  "kernelspec": {
   "display_name": "Python 3",
   "language": "python",
   "name": "python3"
  },
  "language_info": {
   "codemirror_mode": {
    "name": "ipython",
    "version": 3
   },
   "file_extension": ".py",
   "mimetype": "text/x-python",
   "name": "python",
   "nbconvert_exporter": "python",
   "pygments_lexer": "ipython3",
   "version": "3.7.0"
  }
 },
 "nbformat": 4,
 "nbformat_minor": 2
}
